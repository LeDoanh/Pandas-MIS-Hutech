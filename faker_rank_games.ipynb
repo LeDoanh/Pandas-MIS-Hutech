{
  "cells": [
    {
      "metadata": {
        "id": "jbeGBtrzcGMc",
        "colab_type": "text"
      },
      "cell_type": "markdown",
      "source": "# Giới thiệu\nKhi nhắc đến Liên Minh Huyền Thoại thì không thể không nhắc đến Faker, người chơi đường giữa huyền thoại.\n<img src=\"https://gamepedia.cursecdn.com/lolesports_gamepedia_en/1/1c/SKT_Faker_2019_Split_2.png?version=a243b84e58413a8e9e6ecfb69f897d3d\" width=480/>\n\nTrong bài thực hành, chúng ta cùng phân tích về thành tích đánh xếp hạng của Faker trong khoảng thời gian 10/11/2019 - 18/11/2019.\n"
    },
    {
      "metadata": {
        "id": "Sp_KU4KQeIdU",
        "colab_type": "text"
      },
      "cell_type": "markdown",
      "source": "# Dữ liệu :\nDữ liệu của bạn được thu thập từ trang [op.gg](https://www.op.gg/summoner/userName=Hide+on+bush) và bao gồm các cột sau :\n- `champion` : tướng mà Faker đã chơi.\n- `status` : kết quả trận đấu (`'Victory'` là chiến thắng, `'Defeat'` là thất bại). \n- `date` : ngày chơi.\n- `kill` : số lần hạ gục.\n- `death` : số lần bị hạ gục.\n- `assist` : số lần hỗ trợ hạ gục.\n- `cs` : số lính tiêu diệt trong trận.\n- `duration` : thời gian trận đấu, được ghi dưới dạng `mm:ss`."
    },
    {
      "metadata": {
        "id": "qECWh9TWgaXA",
        "colab_type": "text"
      },
      "cell_type": "markdown",
      "source": "# Bài tập"
    },
    {
      "metadata": {
        "id": "eqOsBxtWgc09",
        "colab_type": "text"
      },
      "cell_type": "markdown",
      "source": "**Câu 1** : Đọc dữ liệu vào `DataFrame`."
    },
    {
      "metadata": {
        "id": "qpgS8o6hb-Jk",
        "colab_type": "code",
        "colab": {},
        "trusted": true
      },
      "cell_type": "code",
      "source": "import pandas as pd\nfk = pd.read_csv('https://raw.githubusercontent.com/Levytan/MIS.2019/master/Data/faker.csv')\nfk.head()",
      "execution_count": 113,
      "outputs": [
        {
          "output_type": "execute_result",
          "execution_count": 113,
          "data": {
            "text/html": "<div>\n<table border=\"1\" class=\"dataframe\">\n  <thead>\n    <tr style=\"text-align: right;\">\n      <th></th>\n      <th>champion</th>\n      <th>status</th>\n      <th>date</th>\n      <th>kill</th>\n      <th>death</th>\n      <th>assist</th>\n      <th>cs</th>\n      <th>duration</th>\n    </tr>\n  </thead>\n  <tbody>\n    <tr>\n      <th>0</th>\n      <td>Irelia</td>\n      <td>Defeat</td>\n      <td>2019-11-18</td>\n      <td>5</td>\n      <td>5</td>\n      <td>2</td>\n      <td>237</td>\n      <td>25:39</td>\n    </tr>\n    <tr>\n      <th>1</th>\n      <td>Fizz</td>\n      <td>Victory</td>\n      <td>2019-11-18</td>\n      <td>5</td>\n      <td>3</td>\n      <td>16</td>\n      <td>175</td>\n      <td>23:02</td>\n    </tr>\n    <tr>\n      <th>2</th>\n      <td>Ryze</td>\n      <td>Victory</td>\n      <td>2019-11-18</td>\n      <td>6</td>\n      <td>3</td>\n      <td>9</td>\n      <td>269</td>\n      <td>27:53</td>\n    </tr>\n    <tr>\n      <th>3</th>\n      <td>Ryze</td>\n      <td>Victory</td>\n      <td>2019-11-18</td>\n      <td>6</td>\n      <td>2</td>\n      <td>2</td>\n      <td>231</td>\n      <td>22:23</td>\n    </tr>\n    <tr>\n      <th>4</th>\n      <td>Nocturne</td>\n      <td>Defeat</td>\n      <td>2019-11-18</td>\n      <td>4</td>\n      <td>3</td>\n      <td>0</td>\n      <td>152</td>\n      <td>20:38</td>\n    </tr>\n  </tbody>\n</table>\n</div>",
            "text/plain": "   champion   status        date  kill  death  assist   cs duration\n0    Irelia   Defeat  2019-11-18     5      5       2  237    25:39\n1      Fizz  Victory  2019-11-18     5      3      16  175    23:02\n2      Ryze  Victory  2019-11-18     6      3       9  269    27:53\n3      Ryze  Victory  2019-11-18     6      2       2  231    22:23\n4  Nocturne   Defeat  2019-11-18     4      3       0  152    20:38"
          },
          "metadata": {}
        }
      ]
    },
    {
      "metadata": {
        "id": "BhxNqSCUgvzO",
        "colab_type": "text"
      },
      "cell_type": "markdown",
      "source": "**Câu 2** : Chuyển đổi kiểu dữ liệu cho cột `date`."
    },
    {
      "metadata": {
        "id": "LNJOPW7Xg-Jj",
        "colab_type": "code",
        "colab": {},
        "trusted": true
      },
      "cell_type": "code",
      "source": "fk = fk.assign(date = pd.to_datetime(fk.date))\nfk.dtypes",
      "execution_count": 114,
      "outputs": [
        {
          "output_type": "execute_result",
          "execution_count": 114,
          "data": {
            "text/plain": "champion            object\nstatus              object\ndate        datetime64[ns]\nkill                 int64\ndeath                int64\nassist               int64\ncs                   int64\nduration            object\ndtype: object"
          },
          "metadata": {}
        }
      ]
    },
    {
      "metadata": {
        "id": "wFxsFTakg_d_",
        "colab_type": "text"
      },
      "cell_type": "markdown",
      "source": "**Câu 3 (1 điểm)** : Quy đổi dữ liệu của cột `duration` về đơn vị phút (tức là `18:30` sẽ thành `18.5`).\n\n---\n_Gợi ý_ : dùng `.str.split(':')` để tách dữ liệu trong cột `duration`."
    },
    {
      "metadata": {
        "id": "mhmWRD94hqQt",
        "colab_type": "code",
        "colab": {},
        "trusted": true
      },
      "cell_type": "code",
      "source": "def trans_duration(_):\n    a = _.split(':')\n    a[-1] = round(int(a[-1])/60,1)\n    a = float(a[0]) + a[1]\n    return a\nfk = fk.assign(duration = fk.duration.apply(time))\nfk",
      "execution_count": 115,
      "outputs": [
        {
          "output_type": "execute_result",
          "execution_count": 115,
          "data": {
            "text/html": "<div>\n<table border=\"1\" class=\"dataframe\">\n  <thead>\n    <tr style=\"text-align: right;\">\n      <th></th>\n      <th>champion</th>\n      <th>status</th>\n      <th>date</th>\n      <th>kill</th>\n      <th>death</th>\n      <th>assist</th>\n      <th>cs</th>\n      <th>duration</th>\n    </tr>\n  </thead>\n  <tbody>\n    <tr>\n      <th>0</th>\n      <td>Irelia</td>\n      <td>Defeat</td>\n      <td>2019-11-18</td>\n      <td>5</td>\n      <td>5</td>\n      <td>2</td>\n      <td>237</td>\n      <td>25.7</td>\n    </tr>\n    <tr>\n      <th>1</th>\n      <td>Fizz</td>\n      <td>Victory</td>\n      <td>2019-11-18</td>\n      <td>5</td>\n      <td>3</td>\n      <td>16</td>\n      <td>175</td>\n      <td>23.0</td>\n    </tr>\n    <tr>\n      <th>2</th>\n      <td>Ryze</td>\n      <td>Victory</td>\n      <td>2019-11-18</td>\n      <td>6</td>\n      <td>3</td>\n      <td>9</td>\n      <td>269</td>\n      <td>27.9</td>\n    </tr>\n    <tr>\n      <th>3</th>\n      <td>Ryze</td>\n      <td>Victory</td>\n      <td>2019-11-18</td>\n      <td>6</td>\n      <td>2</td>\n      <td>2</td>\n      <td>231</td>\n      <td>22.4</td>\n    </tr>\n    <tr>\n      <th>4</th>\n      <td>Nocturne</td>\n      <td>Defeat</td>\n      <td>2019-11-18</td>\n      <td>4</td>\n      <td>3</td>\n      <td>0</td>\n      <td>152</td>\n      <td>20.6</td>\n    </tr>\n    <tr>\n      <th>5</th>\n      <td>Ryze</td>\n      <td>Defeat</td>\n      <td>2019-11-18</td>\n      <td>2</td>\n      <td>6</td>\n      <td>1</td>\n      <td>95</td>\n      <td>15.8</td>\n    </tr>\n    <tr>\n      <th>6</th>\n      <td>Nautilus</td>\n      <td>Defeat</td>\n      <td>2019-11-17</td>\n      <td>1</td>\n      <td>4</td>\n      <td>7</td>\n      <td>215</td>\n      <td>26.7</td>\n    </tr>\n    <tr>\n      <th>7</th>\n      <td>Rakan</td>\n      <td>Defeat</td>\n      <td>2019-11-17</td>\n      <td>0</td>\n      <td>8</td>\n      <td>13</td>\n      <td>16</td>\n      <td>32.3</td>\n    </tr>\n    <tr>\n      <th>8</th>\n      <td>LeBlanc</td>\n      <td>Victory</td>\n      <td>2019-11-17</td>\n      <td>11</td>\n      <td>3</td>\n      <td>11</td>\n      <td>201</td>\n      <td>29.4</td>\n    </tr>\n    <tr>\n      <th>9</th>\n      <td>Akali</td>\n      <td>Victory</td>\n      <td>2019-11-17</td>\n      <td>7</td>\n      <td>2</td>\n      <td>5</td>\n      <td>186</td>\n      <td>21.8</td>\n    </tr>\n    <tr>\n      <th>10</th>\n      <td>LeBlanc</td>\n      <td>Victory</td>\n      <td>2019-11-17</td>\n      <td>3</td>\n      <td>1</td>\n      <td>0</td>\n      <td>120</td>\n      <td>14.8</td>\n    </tr>\n    <tr>\n      <th>11</th>\n      <td>Akali</td>\n      <td>Defeat</td>\n      <td>2019-11-17</td>\n      <td>2</td>\n      <td>4</td>\n      <td>2</td>\n      <td>153</td>\n      <td>19.3</td>\n    </tr>\n    <tr>\n      <th>12</th>\n      <td>Neeko</td>\n      <td>Defeat</td>\n      <td>2019-11-17</td>\n      <td>5</td>\n      <td>6</td>\n      <td>3</td>\n      <td>178</td>\n      <td>27.2</td>\n    </tr>\n    <tr>\n      <th>13</th>\n      <td>LeBlanc</td>\n      <td>Defeat</td>\n      <td>2019-11-17</td>\n      <td>2</td>\n      <td>3</td>\n      <td>3</td>\n      <td>240</td>\n      <td>31.1</td>\n    </tr>\n    <tr>\n      <th>14</th>\n      <td>Veigar</td>\n      <td>Victory</td>\n      <td>2019-11-17</td>\n      <td>1</td>\n      <td>0</td>\n      <td>1</td>\n      <td>151</td>\n      <td>15.8</td>\n    </tr>\n    <tr>\n      <th>15</th>\n      <td>Veigar</td>\n      <td>Defeat</td>\n      <td>2019-11-17</td>\n      <td>5</td>\n      <td>4</td>\n      <td>2</td>\n      <td>206</td>\n      <td>24.5</td>\n    </tr>\n    <tr>\n      <th>16</th>\n      <td>Jayce</td>\n      <td>Victory</td>\n      <td>2019-11-17</td>\n      <td>3</td>\n      <td>2</td>\n      <td>13</td>\n      <td>191</td>\n      <td>24.5</td>\n    </tr>\n    <tr>\n      <th>17</th>\n      <td>Ryze</td>\n      <td>Defeat</td>\n      <td>2019-11-16</td>\n      <td>4</td>\n      <td>6</td>\n      <td>4</td>\n      <td>158</td>\n      <td>18.0</td>\n    </tr>\n    <tr>\n      <th>18</th>\n      <td>Qiyana</td>\n      <td>Defeat</td>\n      <td>2019-11-16</td>\n      <td>8</td>\n      <td>6</td>\n      <td>10</td>\n      <td>190</td>\n      <td>32.2</td>\n    </tr>\n    <tr>\n      <th>19</th>\n      <td>Twisted Fate</td>\n      <td>Victory</td>\n      <td>2019-11-16</td>\n      <td>8</td>\n      <td>1</td>\n      <td>10</td>\n      <td>154</td>\n      <td>20.6</td>\n    </tr>\n    <tr>\n      <th>20</th>\n      <td>Zoe</td>\n      <td>Victory</td>\n      <td>2019-11-16</td>\n      <td>7</td>\n      <td>3</td>\n      <td>7</td>\n      <td>252</td>\n      <td>31.5</td>\n    </tr>\n    <tr>\n      <th>21</th>\n      <td>Sion</td>\n      <td>Defeat</td>\n      <td>2019-11-16</td>\n      <td>5</td>\n      <td>4</td>\n      <td>2</td>\n      <td>222</td>\n      <td>28.5</td>\n    </tr>\n    <tr>\n      <th>22</th>\n      <td>Ryze</td>\n      <td>Victory</td>\n      <td>2019-11-16</td>\n      <td>3</td>\n      <td>2</td>\n      <td>6</td>\n      <td>396</td>\n      <td>34.5</td>\n    </tr>\n    <tr>\n      <th>23</th>\n      <td>Akali</td>\n      <td>Victory</td>\n      <td>2019-11-16</td>\n      <td>9</td>\n      <td>1</td>\n      <td>2</td>\n      <td>192</td>\n      <td>22.7</td>\n    </tr>\n    <tr>\n      <th>24</th>\n      <td>Ryze</td>\n      <td>Victory</td>\n      <td>2019-11-16</td>\n      <td>10</td>\n      <td>3</td>\n      <td>5</td>\n      <td>267</td>\n      <td>29.6</td>\n    </tr>\n    <tr>\n      <th>25</th>\n      <td>Yasuo</td>\n      <td>Victory</td>\n      <td>2019-11-16</td>\n      <td>3</td>\n      <td>3</td>\n      <td>4</td>\n      <td>165</td>\n      <td>18.0</td>\n    </tr>\n    <tr>\n      <th>26</th>\n      <td>Lee Sin</td>\n      <td>Victory</td>\n      <td>2019-11-15</td>\n      <td>9</td>\n      <td>4</td>\n      <td>13</td>\n      <td>189</td>\n      <td>28.1</td>\n    </tr>\n    <tr>\n      <th>27</th>\n      <td>Akali</td>\n      <td>Defeat</td>\n      <td>2019-11-15</td>\n      <td>7</td>\n      <td>3</td>\n      <td>3</td>\n      <td>253</td>\n      <td>27.0</td>\n    </tr>\n    <tr>\n      <th>28</th>\n      <td>Akali</td>\n      <td>Victory</td>\n      <td>2019-11-15</td>\n      <td>4</td>\n      <td>1</td>\n      <td>2</td>\n      <td>356</td>\n      <td>33.0</td>\n    </tr>\n    <tr>\n      <th>29</th>\n      <td>Akali</td>\n      <td>Defeat</td>\n      <td>2019-11-15</td>\n      <td>5</td>\n      <td>4</td>\n      <td>4</td>\n      <td>183</td>\n      <td>22.3</td>\n    </tr>\n    <tr>\n      <th>...</th>\n      <td>...</td>\n      <td>...</td>\n      <td>...</td>\n      <td>...</td>\n      <td>...</td>\n      <td>...</td>\n      <td>...</td>\n      <td>...</td>\n    </tr>\n    <tr>\n      <th>67</th>\n      <td>Nautilus</td>\n      <td>Defeat</td>\n      <td>2019-11-12</td>\n      <td>2</td>\n      <td>6</td>\n      <td>6</td>\n      <td>178</td>\n      <td>23.8</td>\n    </tr>\n    <tr>\n      <th>68</th>\n      <td>Kled</td>\n      <td>Victory</td>\n      <td>2019-11-12</td>\n      <td>1</td>\n      <td>0</td>\n      <td>6</td>\n      <td>73</td>\n      <td>13.6</td>\n    </tr>\n    <tr>\n      <th>69</th>\n      <td>Ryze</td>\n      <td>Victory</td>\n      <td>2019-11-12</td>\n      <td>13</td>\n      <td>4</td>\n      <td>3</td>\n      <td>209</td>\n      <td>27.0</td>\n    </tr>\n    <tr>\n      <th>70</th>\n      <td>Nocturne</td>\n      <td>Victory</td>\n      <td>2019-11-12</td>\n      <td>7</td>\n      <td>4</td>\n      <td>13</td>\n      <td>222</td>\n      <td>27.0</td>\n    </tr>\n    <tr>\n      <th>71</th>\n      <td>Jayce</td>\n      <td>Victory</td>\n      <td>2019-11-12</td>\n      <td>4</td>\n      <td>3</td>\n      <td>4</td>\n      <td>194</td>\n      <td>22.2</td>\n    </tr>\n    <tr>\n      <th>72</th>\n      <td>Ahri</td>\n      <td>Defeat</td>\n      <td>2019-11-12</td>\n      <td>4</td>\n      <td>3</td>\n      <td>4</td>\n      <td>253</td>\n      <td>28.9</td>\n    </tr>\n    <tr>\n      <th>73</th>\n      <td>Jayce</td>\n      <td>Defeat</td>\n      <td>2019-11-12</td>\n      <td>1</td>\n      <td>3</td>\n      <td>1</td>\n      <td>190</td>\n      <td>24.0</td>\n    </tr>\n    <tr>\n      <th>74</th>\n      <td>Ornn</td>\n      <td>Defeat</td>\n      <td>2019-11-12</td>\n      <td>2</td>\n      <td>5</td>\n      <td>3</td>\n      <td>166</td>\n      <td>23.8</td>\n    </tr>\n    <tr>\n      <th>75</th>\n      <td>Nocturne</td>\n      <td>Defeat</td>\n      <td>2019-11-12</td>\n      <td>2</td>\n      <td>5</td>\n      <td>3</td>\n      <td>205</td>\n      <td>26.0</td>\n    </tr>\n    <tr>\n      <th>76</th>\n      <td>Nocturne</td>\n      <td>Defeat</td>\n      <td>2019-11-12</td>\n      <td>5</td>\n      <td>2</td>\n      <td>7</td>\n      <td>255</td>\n      <td>29.8</td>\n    </tr>\n    <tr>\n      <th>77</th>\n      <td>Lucian</td>\n      <td>Victory</td>\n      <td>2019-11-11</td>\n      <td>5</td>\n      <td>9</td>\n      <td>10</td>\n      <td>267</td>\n      <td>34.6</td>\n    </tr>\n    <tr>\n      <th>78</th>\n      <td>Nocturne</td>\n      <td>Defeat</td>\n      <td>2019-11-11</td>\n      <td>4</td>\n      <td>11</td>\n      <td>5</td>\n      <td>151</td>\n      <td>25.1</td>\n    </tr>\n    <tr>\n      <th>79</th>\n      <td>Tristana</td>\n      <td>Victory</td>\n      <td>2019-11-11</td>\n      <td>5</td>\n      <td>7</td>\n      <td>6</td>\n      <td>152</td>\n      <td>23.3</td>\n    </tr>\n    <tr>\n      <th>80</th>\n      <td>Nocturne</td>\n      <td>Defeat</td>\n      <td>2019-11-11</td>\n      <td>7</td>\n      <td>5</td>\n      <td>5</td>\n      <td>222</td>\n      <td>24.7</td>\n    </tr>\n    <tr>\n      <th>81</th>\n      <td>Diana</td>\n      <td>Defeat</td>\n      <td>2019-11-11</td>\n      <td>9</td>\n      <td>7</td>\n      <td>1</td>\n      <td>230</td>\n      <td>29.0</td>\n    </tr>\n    <tr>\n      <th>82</th>\n      <td>Tristana</td>\n      <td>Defeat</td>\n      <td>2019-11-11</td>\n      <td>4</td>\n      <td>8</td>\n      <td>3</td>\n      <td>225</td>\n      <td>29.7</td>\n    </tr>\n    <tr>\n      <th>83</th>\n      <td>Tristana</td>\n      <td>Victory</td>\n      <td>2019-11-11</td>\n      <td>17</td>\n      <td>4</td>\n      <td>11</td>\n      <td>200</td>\n      <td>26.5</td>\n    </tr>\n    <tr>\n      <th>84</th>\n      <td>Ryze</td>\n      <td>Defeat</td>\n      <td>2019-11-11</td>\n      <td>1</td>\n      <td>2</td>\n      <td>3</td>\n      <td>233</td>\n      <td>23.2</td>\n    </tr>\n    <tr>\n      <th>85</th>\n      <td>Ryze</td>\n      <td>Defeat</td>\n      <td>2019-11-11</td>\n      <td>3</td>\n      <td>4</td>\n      <td>3</td>\n      <td>200</td>\n      <td>20.8</td>\n    </tr>\n    <tr>\n      <th>86</th>\n      <td>Nocturne</td>\n      <td>Victory</td>\n      <td>2019-11-11</td>\n      <td>5</td>\n      <td>0</td>\n      <td>4</td>\n      <td>180</td>\n      <td>20.5</td>\n    </tr>\n    <tr>\n      <th>87</th>\n      <td>Ryze</td>\n      <td>Defeat</td>\n      <td>2019-11-11</td>\n      <td>0</td>\n      <td>4</td>\n      <td>1</td>\n      <td>269</td>\n      <td>26.0</td>\n    </tr>\n    <tr>\n      <th>88</th>\n      <td>Azir</td>\n      <td>Victory</td>\n      <td>2019-11-11</td>\n      <td>4</td>\n      <td>4</td>\n      <td>12</td>\n      <td>311</td>\n      <td>33.5</td>\n    </tr>\n    <tr>\n      <th>89</th>\n      <td>Akali</td>\n      <td>Defeat</td>\n      <td>2019-11-11</td>\n      <td>4</td>\n      <td>4</td>\n      <td>4</td>\n      <td>229</td>\n      <td>27.4</td>\n    </tr>\n    <tr>\n      <th>90</th>\n      <td>Zoe</td>\n      <td>Defeat</td>\n      <td>2019-11-11</td>\n      <td>2</td>\n      <td>5</td>\n      <td>5</td>\n      <td>205</td>\n      <td>26.1</td>\n    </tr>\n    <tr>\n      <th>91</th>\n      <td>Sion</td>\n      <td>Defeat</td>\n      <td>2019-11-11</td>\n      <td>5</td>\n      <td>2</td>\n      <td>7</td>\n      <td>282</td>\n      <td>39.4</td>\n    </tr>\n    <tr>\n      <th>92</th>\n      <td>Lucian</td>\n      <td>Defeat</td>\n      <td>2019-11-10</td>\n      <td>3</td>\n      <td>2</td>\n      <td>9</td>\n      <td>342</td>\n      <td>36.1</td>\n    </tr>\n    <tr>\n      <th>93</th>\n      <td>Ryze</td>\n      <td>Defeat</td>\n      <td>2019-11-10</td>\n      <td>1</td>\n      <td>4</td>\n      <td>2</td>\n      <td>187</td>\n      <td>21.1</td>\n    </tr>\n    <tr>\n      <th>94</th>\n      <td>Warwick</td>\n      <td>Victory</td>\n      <td>2019-11-10</td>\n      <td>2</td>\n      <td>2</td>\n      <td>9</td>\n      <td>138</td>\n      <td>28.6</td>\n    </tr>\n    <tr>\n      <th>95</th>\n      <td>Ivern</td>\n      <td>Victory</td>\n      <td>2019-11-10</td>\n      <td>4</td>\n      <td>6</td>\n      <td>19</td>\n      <td>185</td>\n      <td>41.6</td>\n    </tr>\n    <tr>\n      <th>96</th>\n      <td>Singed</td>\n      <td>Victory</td>\n      <td>2019-11-10</td>\n      <td>3</td>\n      <td>4</td>\n      <td>11</td>\n      <td>180</td>\n      <td>24.0</td>\n    </tr>\n  </tbody>\n</table>\n<p>97 rows × 8 columns</p>\n</div>",
            "text/plain": "        champion   status       date  kill  death  assist   cs  duration\n0         Irelia   Defeat 2019-11-18     5      5       2  237      25.7\n1           Fizz  Victory 2019-11-18     5      3      16  175      23.0\n2           Ryze  Victory 2019-11-18     6      3       9  269      27.9\n3           Ryze  Victory 2019-11-18     6      2       2  231      22.4\n4       Nocturne   Defeat 2019-11-18     4      3       0  152      20.6\n5           Ryze   Defeat 2019-11-18     2      6       1   95      15.8\n6       Nautilus   Defeat 2019-11-17     1      4       7  215      26.7\n7          Rakan   Defeat 2019-11-17     0      8      13   16      32.3\n8        LeBlanc  Victory 2019-11-17    11      3      11  201      29.4\n9          Akali  Victory 2019-11-17     7      2       5  186      21.8\n10       LeBlanc  Victory 2019-11-17     3      1       0  120      14.8\n11         Akali   Defeat 2019-11-17     2      4       2  153      19.3\n12         Neeko   Defeat 2019-11-17     5      6       3  178      27.2\n13       LeBlanc   Defeat 2019-11-17     2      3       3  240      31.1\n14        Veigar  Victory 2019-11-17     1      0       1  151      15.8\n15        Veigar   Defeat 2019-11-17     5      4       2  206      24.5\n16         Jayce  Victory 2019-11-17     3      2      13  191      24.5\n17          Ryze   Defeat 2019-11-16     4      6       4  158      18.0\n18        Qiyana   Defeat 2019-11-16     8      6      10  190      32.2\n19  Twisted Fate  Victory 2019-11-16     8      1      10  154      20.6\n20           Zoe  Victory 2019-11-16     7      3       7  252      31.5\n21          Sion   Defeat 2019-11-16     5      4       2  222      28.5\n22          Ryze  Victory 2019-11-16     3      2       6  396      34.5\n23         Akali  Victory 2019-11-16     9      1       2  192      22.7\n24          Ryze  Victory 2019-11-16    10      3       5  267      29.6\n25         Yasuo  Victory 2019-11-16     3      3       4  165      18.0\n26       Lee Sin  Victory 2019-11-15     9      4      13  189      28.1\n27         Akali   Defeat 2019-11-15     7      3       3  253      27.0\n28         Akali  Victory 2019-11-15     4      1       2  356      33.0\n29         Akali   Defeat 2019-11-15     5      4       4  183      22.3\n..           ...      ...        ...   ...    ...     ...  ...       ...\n67      Nautilus   Defeat 2019-11-12     2      6       6  178      23.8\n68          Kled  Victory 2019-11-12     1      0       6   73      13.6\n69          Ryze  Victory 2019-11-12    13      4       3  209      27.0\n70      Nocturne  Victory 2019-11-12     7      4      13  222      27.0\n71         Jayce  Victory 2019-11-12     4      3       4  194      22.2\n72          Ahri   Defeat 2019-11-12     4      3       4  253      28.9\n73         Jayce   Defeat 2019-11-12     1      3       1  190      24.0\n74          Ornn   Defeat 2019-11-12     2      5       3  166      23.8\n75      Nocturne   Defeat 2019-11-12     2      5       3  205      26.0\n76      Nocturne   Defeat 2019-11-12     5      2       7  255      29.8\n77        Lucian  Victory 2019-11-11     5      9      10  267      34.6\n78      Nocturne   Defeat 2019-11-11     4     11       5  151      25.1\n79      Tristana  Victory 2019-11-11     5      7       6  152      23.3\n80      Nocturne   Defeat 2019-11-11     7      5       5  222      24.7\n81         Diana   Defeat 2019-11-11     9      7       1  230      29.0\n82      Tristana   Defeat 2019-11-11     4      8       3  225      29.7\n83      Tristana  Victory 2019-11-11    17      4      11  200      26.5\n84          Ryze   Defeat 2019-11-11     1      2       3  233      23.2\n85          Ryze   Defeat 2019-11-11     3      4       3  200      20.8\n86      Nocturne  Victory 2019-11-11     5      0       4  180      20.5\n87          Ryze   Defeat 2019-11-11     0      4       1  269      26.0\n88          Azir  Victory 2019-11-11     4      4      12  311      33.5\n89         Akali   Defeat 2019-11-11     4      4       4  229      27.4\n90           Zoe   Defeat 2019-11-11     2      5       5  205      26.1\n91          Sion   Defeat 2019-11-11     5      2       7  282      39.4\n92        Lucian   Defeat 2019-11-10     3      2       9  342      36.1\n93          Ryze   Defeat 2019-11-10     1      4       2  187      21.1\n94       Warwick  Victory 2019-11-10     2      2       9  138      28.6\n95         Ivern  Victory 2019-11-10     4      6      19  185      41.6\n96        Singed  Victory 2019-11-10     3      4      11  180      24.0\n\n[97 rows x 8 columns]"
          },
          "metadata": {}
        }
      ]
    },
    {
      "metadata": {
        "id": "UOu5lKWvsP72",
        "colab_type": "text"
      },
      "cell_type": "markdown",
      "source": "**Câu 4** : Tính thời gian trung bình một trận."
    },
    {
      "metadata": {
        "id": "qpwwlceksQUe",
        "colab_type": "code",
        "colab": {},
        "trusted": true
      },
      "cell_type": "code",
      "source": "round(fk.duration.mean(),1)",
      "execution_count": 116,
      "outputs": [
        {
          "output_type": "execute_result",
          "execution_count": 116,
          "data": {
            "text/plain": "26.1"
          },
          "metadata": {}
        }
      ]
    },
    {
      "metadata": {
        "id": "Rd3CKFydiQCK",
        "colab_type": "text"
      },
      "cell_type": "markdown",
      "source": "**Câu 4** : Trung bình mỗi ngày Faker đã chơi bao nhiêu trận?"
    },
    {
      "metadata": {
        "id": "vcCFO5cfjSHK",
        "colab_type": "code",
        "colab": {},
        "trusted": true
      },
      "cell_type": "code",
      "source": "round(fk.date.value_counts().mean())",
      "execution_count": 117,
      "outputs": [
        {
          "output_type": "execute_result",
          "execution_count": 117,
          "data": {
            "text/plain": "11"
          },
          "metadata": {}
        }
      ]
    },
    {
      "metadata": {
        "id": "n0xZch_4jT6_",
        "colab_type": "text"
      },
      "cell_type": "markdown",
      "source": "**Câu 5** : Faker đã chơi bao nhiêu vị tướng khác nhau, in ra những tướng đó."
    },
    {
      "metadata": {
        "id": "pGG4xmPPjZe1",
        "colab_type": "code",
        "colab": {},
        "trusted": true
      },
      "cell_type": "code",
      "source": "fk.champion.value_counts().shape[0]",
      "execution_count": 118,
      "outputs": [
        {
          "output_type": "execute_result",
          "execution_count": 118,
          "data": {
            "text/plain": "41"
          },
          "metadata": {}
        }
      ]
    },
    {
      "metadata": {
        "id": "Lnu9BKFxjehv",
        "colab_type": "text"
      },
      "cell_type": "markdown",
      "source": "$KDA$ là một chỉ số thường thấy khi phân tích về một tuyển thủ nào đó, $KDA$ được tính như sau.\n\nGọi $K$ là số lần hạ gục, $D$ là số lần bị hạ gục và $A$ là số lần hỗ trợ hạ gục thì :\n\n$KDA = \n\\left\\{\\begin{matrix}\nK + A &\\text{khi} &D = 0 \\\\ \n(K + A)/D &\\text{khi} &D > 0\n\\end{matrix}\\right.\n$\n\nTrong trường hợp $D = 0$, người ta gọi là `Perfect KDA`. "
    },
    {
      "metadata": {
        "id": "nLzPzfFsnT-h",
        "colab_type": "text"
      },
      "cell_type": "markdown",
      "source": "**Câu 6** : In ra những trận đấu Faker có `Perfect KDA`."
    },
    {
      "metadata": {
        "id": "nf7nD7C5msnX",
        "colab_type": "code",
        "colab": {},
        "trusted": true
      },
      "cell_type": "code",
      "source": "Perfect_KDA = fk[fk.death == 0]\nPerfect_KDA",
      "execution_count": 119,
      "outputs": [
        {
          "output_type": "execute_result",
          "execution_count": 119,
          "data": {
            "text/html": "<div>\n<table border=\"1\" class=\"dataframe\">\n  <thead>\n    <tr style=\"text-align: right;\">\n      <th></th>\n      <th>champion</th>\n      <th>status</th>\n      <th>date</th>\n      <th>kill</th>\n      <th>death</th>\n      <th>assist</th>\n      <th>cs</th>\n      <th>duration</th>\n    </tr>\n  </thead>\n  <tbody>\n    <tr>\n      <th>14</th>\n      <td>Veigar</td>\n      <td>Victory</td>\n      <td>2019-11-17</td>\n      <td>1</td>\n      <td>0</td>\n      <td>1</td>\n      <td>151</td>\n      <td>15.8</td>\n    </tr>\n    <tr>\n      <th>34</th>\n      <td>Twisted Fate</td>\n      <td>Defeat</td>\n      <td>2019-11-15</td>\n      <td>1</td>\n      <td>0</td>\n      <td>6</td>\n      <td>228</td>\n      <td>23.2</td>\n    </tr>\n    <tr>\n      <th>50</th>\n      <td>Gragas</td>\n      <td>Victory</td>\n      <td>2019-11-13</td>\n      <td>2</td>\n      <td>0</td>\n      <td>8</td>\n      <td>209</td>\n      <td>23.6</td>\n    </tr>\n    <tr>\n      <th>64</th>\n      <td>Akali</td>\n      <td>Victory</td>\n      <td>2019-11-12</td>\n      <td>3</td>\n      <td>0</td>\n      <td>2</td>\n      <td>174</td>\n      <td>16.8</td>\n    </tr>\n    <tr>\n      <th>68</th>\n      <td>Kled</td>\n      <td>Victory</td>\n      <td>2019-11-12</td>\n      <td>1</td>\n      <td>0</td>\n      <td>6</td>\n      <td>73</td>\n      <td>13.6</td>\n    </tr>\n    <tr>\n      <th>86</th>\n      <td>Nocturne</td>\n      <td>Victory</td>\n      <td>2019-11-11</td>\n      <td>5</td>\n      <td>0</td>\n      <td>4</td>\n      <td>180</td>\n      <td>20.5</td>\n    </tr>\n  </tbody>\n</table>\n</div>",
            "text/plain": "        champion   status       date  kill  death  assist   cs  duration\n14        Veigar  Victory 2019-11-17     1      0       1  151      15.8\n34  Twisted Fate   Defeat 2019-11-15     1      0       6  228      23.2\n50        Gragas  Victory 2019-11-13     2      0       8  209      23.6\n64         Akali  Victory 2019-11-12     3      0       2  174      16.8\n68          Kled  Victory 2019-11-12     1      0       6   73      13.6\n86      Nocturne  Victory 2019-11-11     5      0       4  180      20.5"
          },
          "metadata": {}
        }
      ]
    },
    {
      "metadata": {
        "id": "Ql6zbsinndua",
        "colab_type": "text"
      },
      "cell_type": "markdown",
      "source": "**Câu 7** : Trong những trận không đạt được `Perfect KDA`, in ra 5 trận có $KDA$ cao nhất."
    },
    {
      "metadata": {
        "id": "GK77IiUMrEQe",
        "colab_type": "code",
        "colab": {},
        "trusted": true
      },
      "cell_type": "code",
      "source": "NOT_Perfect_KDA = fk[fk.death != 0]\nNOT_Perfect_KDA = NOT_Perfect_KDA.assign(KDA = (NOT_Perfect_KDA.kill + NOT_Perfect_KDA.assist)/NOT_Perfect_KDA.death)\nNOT_Perfect_KDA.sort_values(by = 'KDA', ascending = False).head(5)",
      "execution_count": 120,
      "outputs": [
        {
          "output_type": "execute_result",
          "execution_count": 120,
          "data": {
            "text/html": "<div>\n<table border=\"1\" class=\"dataframe\">\n  <thead>\n    <tr style=\"text-align: right;\">\n      <th></th>\n      <th>champion</th>\n      <th>status</th>\n      <th>date</th>\n      <th>kill</th>\n      <th>death</th>\n      <th>assist</th>\n      <th>cs</th>\n      <th>duration</th>\n      <th>KDA</th>\n    </tr>\n  </thead>\n  <tbody>\n    <tr>\n      <th>19</th>\n      <td>Twisted Fate</td>\n      <td>Victory</td>\n      <td>2019-11-16</td>\n      <td>8</td>\n      <td>1</td>\n      <td>10</td>\n      <td>154</td>\n      <td>20.6</td>\n      <td>18.0</td>\n    </tr>\n    <tr>\n      <th>36</th>\n      <td>Gangplank</td>\n      <td>Victory</td>\n      <td>2019-11-14</td>\n      <td>7</td>\n      <td>1</td>\n      <td>11</td>\n      <td>199</td>\n      <td>22.2</td>\n      <td>18.0</td>\n    </tr>\n    <tr>\n      <th>23</th>\n      <td>Akali</td>\n      <td>Victory</td>\n      <td>2019-11-16</td>\n      <td>9</td>\n      <td>1</td>\n      <td>2</td>\n      <td>192</td>\n      <td>22.7</td>\n      <td>11.0</td>\n    </tr>\n    <tr>\n      <th>60</th>\n      <td>Rumble</td>\n      <td>Victory</td>\n      <td>2019-11-12</td>\n      <td>3</td>\n      <td>1</td>\n      <td>8</td>\n      <td>200</td>\n      <td>27.2</td>\n      <td>11.0</td>\n    </tr>\n    <tr>\n      <th>43</th>\n      <td>Nocturne</td>\n      <td>Victory</td>\n      <td>2019-11-13</td>\n      <td>10</td>\n      <td>2</td>\n      <td>7</td>\n      <td>228</td>\n      <td>24.4</td>\n      <td>8.5</td>\n    </tr>\n  </tbody>\n</table>\n</div>",
            "text/plain": "        champion   status       date  kill  death  assist   cs  duration   KDA\n19  Twisted Fate  Victory 2019-11-16     8      1      10  154      20.6  18.0\n36     Gangplank  Victory 2019-11-14     7      1      11  199      22.2  18.0\n23         Akali  Victory 2019-11-16     9      1       2  192      22.7  11.0\n60        Rumble  Victory 2019-11-12     3      1       8  200      27.2  11.0\n43      Nocturne  Victory 2019-11-13    10      2       7  228      24.4   8.5"
          },
          "metadata": {}
        }
      ]
    },
    {
      "metadata": {
        "id": "HSc4iSxlrnpy",
        "colab_type": "text"
      },
      "cell_type": "markdown",
      "source": "**Câu 8** : Tính số lính tiêu diệt trung bình mỗi phút trong một trận đấu và để trong cột `cs_per_min`."
    },
    {
      "metadata": {
        "id": "XxhBLZnzr1XJ",
        "colab_type": "code",
        "colab": {},
        "trusted": true
      },
      "cell_type": "code",
      "source": "fk = fk.assign(cs_per_min = round(fk.cs/fk.duration))\nfk",
      "execution_count": 121,
      "outputs": [
        {
          "output_type": "execute_result",
          "execution_count": 121,
          "data": {
            "text/html": "<div>\n<table border=\"1\" class=\"dataframe\">\n  <thead>\n    <tr style=\"text-align: right;\">\n      <th></th>\n      <th>champion</th>\n      <th>status</th>\n      <th>date</th>\n      <th>kill</th>\n      <th>death</th>\n      <th>assist</th>\n      <th>cs</th>\n      <th>duration</th>\n      <th>cs_per_min</th>\n    </tr>\n  </thead>\n  <tbody>\n    <tr>\n      <th>0</th>\n      <td>Irelia</td>\n      <td>Defeat</td>\n      <td>2019-11-18</td>\n      <td>5</td>\n      <td>5</td>\n      <td>2</td>\n      <td>237</td>\n      <td>25.7</td>\n      <td>9.0</td>\n    </tr>\n    <tr>\n      <th>1</th>\n      <td>Fizz</td>\n      <td>Victory</td>\n      <td>2019-11-18</td>\n      <td>5</td>\n      <td>3</td>\n      <td>16</td>\n      <td>175</td>\n      <td>23.0</td>\n      <td>8.0</td>\n    </tr>\n    <tr>\n      <th>2</th>\n      <td>Ryze</td>\n      <td>Victory</td>\n      <td>2019-11-18</td>\n      <td>6</td>\n      <td>3</td>\n      <td>9</td>\n      <td>269</td>\n      <td>27.9</td>\n      <td>10.0</td>\n    </tr>\n    <tr>\n      <th>3</th>\n      <td>Ryze</td>\n      <td>Victory</td>\n      <td>2019-11-18</td>\n      <td>6</td>\n      <td>2</td>\n      <td>2</td>\n      <td>231</td>\n      <td>22.4</td>\n      <td>10.0</td>\n    </tr>\n    <tr>\n      <th>4</th>\n      <td>Nocturne</td>\n      <td>Defeat</td>\n      <td>2019-11-18</td>\n      <td>4</td>\n      <td>3</td>\n      <td>0</td>\n      <td>152</td>\n      <td>20.6</td>\n      <td>7.0</td>\n    </tr>\n    <tr>\n      <th>5</th>\n      <td>Ryze</td>\n      <td>Defeat</td>\n      <td>2019-11-18</td>\n      <td>2</td>\n      <td>6</td>\n      <td>1</td>\n      <td>95</td>\n      <td>15.8</td>\n      <td>6.0</td>\n    </tr>\n    <tr>\n      <th>6</th>\n      <td>Nautilus</td>\n      <td>Defeat</td>\n      <td>2019-11-17</td>\n      <td>1</td>\n      <td>4</td>\n      <td>7</td>\n      <td>215</td>\n      <td>26.7</td>\n      <td>8.0</td>\n    </tr>\n    <tr>\n      <th>7</th>\n      <td>Rakan</td>\n      <td>Defeat</td>\n      <td>2019-11-17</td>\n      <td>0</td>\n      <td>8</td>\n      <td>13</td>\n      <td>16</td>\n      <td>32.3</td>\n      <td>0.0</td>\n    </tr>\n    <tr>\n      <th>8</th>\n      <td>LeBlanc</td>\n      <td>Victory</td>\n      <td>2019-11-17</td>\n      <td>11</td>\n      <td>3</td>\n      <td>11</td>\n      <td>201</td>\n      <td>29.4</td>\n      <td>7.0</td>\n    </tr>\n    <tr>\n      <th>9</th>\n      <td>Akali</td>\n      <td>Victory</td>\n      <td>2019-11-17</td>\n      <td>7</td>\n      <td>2</td>\n      <td>5</td>\n      <td>186</td>\n      <td>21.8</td>\n      <td>9.0</td>\n    </tr>\n    <tr>\n      <th>10</th>\n      <td>LeBlanc</td>\n      <td>Victory</td>\n      <td>2019-11-17</td>\n      <td>3</td>\n      <td>1</td>\n      <td>0</td>\n      <td>120</td>\n      <td>14.8</td>\n      <td>8.0</td>\n    </tr>\n    <tr>\n      <th>11</th>\n      <td>Akali</td>\n      <td>Defeat</td>\n      <td>2019-11-17</td>\n      <td>2</td>\n      <td>4</td>\n      <td>2</td>\n      <td>153</td>\n      <td>19.3</td>\n      <td>8.0</td>\n    </tr>\n    <tr>\n      <th>12</th>\n      <td>Neeko</td>\n      <td>Defeat</td>\n      <td>2019-11-17</td>\n      <td>5</td>\n      <td>6</td>\n      <td>3</td>\n      <td>178</td>\n      <td>27.2</td>\n      <td>7.0</td>\n    </tr>\n    <tr>\n      <th>13</th>\n      <td>LeBlanc</td>\n      <td>Defeat</td>\n      <td>2019-11-17</td>\n      <td>2</td>\n      <td>3</td>\n      <td>3</td>\n      <td>240</td>\n      <td>31.1</td>\n      <td>8.0</td>\n    </tr>\n    <tr>\n      <th>14</th>\n      <td>Veigar</td>\n      <td>Victory</td>\n      <td>2019-11-17</td>\n      <td>1</td>\n      <td>0</td>\n      <td>1</td>\n      <td>151</td>\n      <td>15.8</td>\n      <td>10.0</td>\n    </tr>\n    <tr>\n      <th>15</th>\n      <td>Veigar</td>\n      <td>Defeat</td>\n      <td>2019-11-17</td>\n      <td>5</td>\n      <td>4</td>\n      <td>2</td>\n      <td>206</td>\n      <td>24.5</td>\n      <td>8.0</td>\n    </tr>\n    <tr>\n      <th>16</th>\n      <td>Jayce</td>\n      <td>Victory</td>\n      <td>2019-11-17</td>\n      <td>3</td>\n      <td>2</td>\n      <td>13</td>\n      <td>191</td>\n      <td>24.5</td>\n      <td>8.0</td>\n    </tr>\n    <tr>\n      <th>17</th>\n      <td>Ryze</td>\n      <td>Defeat</td>\n      <td>2019-11-16</td>\n      <td>4</td>\n      <td>6</td>\n      <td>4</td>\n      <td>158</td>\n      <td>18.0</td>\n      <td>9.0</td>\n    </tr>\n    <tr>\n      <th>18</th>\n      <td>Qiyana</td>\n      <td>Defeat</td>\n      <td>2019-11-16</td>\n      <td>8</td>\n      <td>6</td>\n      <td>10</td>\n      <td>190</td>\n      <td>32.2</td>\n      <td>6.0</td>\n    </tr>\n    <tr>\n      <th>19</th>\n      <td>Twisted Fate</td>\n      <td>Victory</td>\n      <td>2019-11-16</td>\n      <td>8</td>\n      <td>1</td>\n      <td>10</td>\n      <td>154</td>\n      <td>20.6</td>\n      <td>7.0</td>\n    </tr>\n    <tr>\n      <th>20</th>\n      <td>Zoe</td>\n      <td>Victory</td>\n      <td>2019-11-16</td>\n      <td>7</td>\n      <td>3</td>\n      <td>7</td>\n      <td>252</td>\n      <td>31.5</td>\n      <td>8.0</td>\n    </tr>\n    <tr>\n      <th>21</th>\n      <td>Sion</td>\n      <td>Defeat</td>\n      <td>2019-11-16</td>\n      <td>5</td>\n      <td>4</td>\n      <td>2</td>\n      <td>222</td>\n      <td>28.5</td>\n      <td>8.0</td>\n    </tr>\n    <tr>\n      <th>22</th>\n      <td>Ryze</td>\n      <td>Victory</td>\n      <td>2019-11-16</td>\n      <td>3</td>\n      <td>2</td>\n      <td>6</td>\n      <td>396</td>\n      <td>34.5</td>\n      <td>11.0</td>\n    </tr>\n    <tr>\n      <th>23</th>\n      <td>Akali</td>\n      <td>Victory</td>\n      <td>2019-11-16</td>\n      <td>9</td>\n      <td>1</td>\n      <td>2</td>\n      <td>192</td>\n      <td>22.7</td>\n      <td>8.0</td>\n    </tr>\n    <tr>\n      <th>24</th>\n      <td>Ryze</td>\n      <td>Victory</td>\n      <td>2019-11-16</td>\n      <td>10</td>\n      <td>3</td>\n      <td>5</td>\n      <td>267</td>\n      <td>29.6</td>\n      <td>9.0</td>\n    </tr>\n    <tr>\n      <th>25</th>\n      <td>Yasuo</td>\n      <td>Victory</td>\n      <td>2019-11-16</td>\n      <td>3</td>\n      <td>3</td>\n      <td>4</td>\n      <td>165</td>\n      <td>18.0</td>\n      <td>9.0</td>\n    </tr>\n    <tr>\n      <th>26</th>\n      <td>Lee Sin</td>\n      <td>Victory</td>\n      <td>2019-11-15</td>\n      <td>9</td>\n      <td>4</td>\n      <td>13</td>\n      <td>189</td>\n      <td>28.1</td>\n      <td>7.0</td>\n    </tr>\n    <tr>\n      <th>27</th>\n      <td>Akali</td>\n      <td>Defeat</td>\n      <td>2019-11-15</td>\n      <td>7</td>\n      <td>3</td>\n      <td>3</td>\n      <td>253</td>\n      <td>27.0</td>\n      <td>9.0</td>\n    </tr>\n    <tr>\n      <th>28</th>\n      <td>Akali</td>\n      <td>Victory</td>\n      <td>2019-11-15</td>\n      <td>4</td>\n      <td>1</td>\n      <td>2</td>\n      <td>356</td>\n      <td>33.0</td>\n      <td>11.0</td>\n    </tr>\n    <tr>\n      <th>29</th>\n      <td>Akali</td>\n      <td>Defeat</td>\n      <td>2019-11-15</td>\n      <td>5</td>\n      <td>4</td>\n      <td>4</td>\n      <td>183</td>\n      <td>22.3</td>\n      <td>8.0</td>\n    </tr>\n    <tr>\n      <th>...</th>\n      <td>...</td>\n      <td>...</td>\n      <td>...</td>\n      <td>...</td>\n      <td>...</td>\n      <td>...</td>\n      <td>...</td>\n      <td>...</td>\n      <td>...</td>\n    </tr>\n    <tr>\n      <th>67</th>\n      <td>Nautilus</td>\n      <td>Defeat</td>\n      <td>2019-11-12</td>\n      <td>2</td>\n      <td>6</td>\n      <td>6</td>\n      <td>178</td>\n      <td>23.8</td>\n      <td>7.0</td>\n    </tr>\n    <tr>\n      <th>68</th>\n      <td>Kled</td>\n      <td>Victory</td>\n      <td>2019-11-12</td>\n      <td>1</td>\n      <td>0</td>\n      <td>6</td>\n      <td>73</td>\n      <td>13.6</td>\n      <td>5.0</td>\n    </tr>\n    <tr>\n      <th>69</th>\n      <td>Ryze</td>\n      <td>Victory</td>\n      <td>2019-11-12</td>\n      <td>13</td>\n      <td>4</td>\n      <td>3</td>\n      <td>209</td>\n      <td>27.0</td>\n      <td>8.0</td>\n    </tr>\n    <tr>\n      <th>70</th>\n      <td>Nocturne</td>\n      <td>Victory</td>\n      <td>2019-11-12</td>\n      <td>7</td>\n      <td>4</td>\n      <td>13</td>\n      <td>222</td>\n      <td>27.0</td>\n      <td>8.0</td>\n    </tr>\n    <tr>\n      <th>71</th>\n      <td>Jayce</td>\n      <td>Victory</td>\n      <td>2019-11-12</td>\n      <td>4</td>\n      <td>3</td>\n      <td>4</td>\n      <td>194</td>\n      <td>22.2</td>\n      <td>9.0</td>\n    </tr>\n    <tr>\n      <th>72</th>\n      <td>Ahri</td>\n      <td>Defeat</td>\n      <td>2019-11-12</td>\n      <td>4</td>\n      <td>3</td>\n      <td>4</td>\n      <td>253</td>\n      <td>28.9</td>\n      <td>9.0</td>\n    </tr>\n    <tr>\n      <th>73</th>\n      <td>Jayce</td>\n      <td>Defeat</td>\n      <td>2019-11-12</td>\n      <td>1</td>\n      <td>3</td>\n      <td>1</td>\n      <td>190</td>\n      <td>24.0</td>\n      <td>8.0</td>\n    </tr>\n    <tr>\n      <th>74</th>\n      <td>Ornn</td>\n      <td>Defeat</td>\n      <td>2019-11-12</td>\n      <td>2</td>\n      <td>5</td>\n      <td>3</td>\n      <td>166</td>\n      <td>23.8</td>\n      <td>7.0</td>\n    </tr>\n    <tr>\n      <th>75</th>\n      <td>Nocturne</td>\n      <td>Defeat</td>\n      <td>2019-11-12</td>\n      <td>2</td>\n      <td>5</td>\n      <td>3</td>\n      <td>205</td>\n      <td>26.0</td>\n      <td>8.0</td>\n    </tr>\n    <tr>\n      <th>76</th>\n      <td>Nocturne</td>\n      <td>Defeat</td>\n      <td>2019-11-12</td>\n      <td>5</td>\n      <td>2</td>\n      <td>7</td>\n      <td>255</td>\n      <td>29.8</td>\n      <td>9.0</td>\n    </tr>\n    <tr>\n      <th>77</th>\n      <td>Lucian</td>\n      <td>Victory</td>\n      <td>2019-11-11</td>\n      <td>5</td>\n      <td>9</td>\n      <td>10</td>\n      <td>267</td>\n      <td>34.6</td>\n      <td>8.0</td>\n    </tr>\n    <tr>\n      <th>78</th>\n      <td>Nocturne</td>\n      <td>Defeat</td>\n      <td>2019-11-11</td>\n      <td>4</td>\n      <td>11</td>\n      <td>5</td>\n      <td>151</td>\n      <td>25.1</td>\n      <td>6.0</td>\n    </tr>\n    <tr>\n      <th>79</th>\n      <td>Tristana</td>\n      <td>Victory</td>\n      <td>2019-11-11</td>\n      <td>5</td>\n      <td>7</td>\n      <td>6</td>\n      <td>152</td>\n      <td>23.3</td>\n      <td>7.0</td>\n    </tr>\n    <tr>\n      <th>80</th>\n      <td>Nocturne</td>\n      <td>Defeat</td>\n      <td>2019-11-11</td>\n      <td>7</td>\n      <td>5</td>\n      <td>5</td>\n      <td>222</td>\n      <td>24.7</td>\n      <td>9.0</td>\n    </tr>\n    <tr>\n      <th>81</th>\n      <td>Diana</td>\n      <td>Defeat</td>\n      <td>2019-11-11</td>\n      <td>9</td>\n      <td>7</td>\n      <td>1</td>\n      <td>230</td>\n      <td>29.0</td>\n      <td>8.0</td>\n    </tr>\n    <tr>\n      <th>82</th>\n      <td>Tristana</td>\n      <td>Defeat</td>\n      <td>2019-11-11</td>\n      <td>4</td>\n      <td>8</td>\n      <td>3</td>\n      <td>225</td>\n      <td>29.7</td>\n      <td>8.0</td>\n    </tr>\n    <tr>\n      <th>83</th>\n      <td>Tristana</td>\n      <td>Victory</td>\n      <td>2019-11-11</td>\n      <td>17</td>\n      <td>4</td>\n      <td>11</td>\n      <td>200</td>\n      <td>26.5</td>\n      <td>8.0</td>\n    </tr>\n    <tr>\n      <th>84</th>\n      <td>Ryze</td>\n      <td>Defeat</td>\n      <td>2019-11-11</td>\n      <td>1</td>\n      <td>2</td>\n      <td>3</td>\n      <td>233</td>\n      <td>23.2</td>\n      <td>10.0</td>\n    </tr>\n    <tr>\n      <th>85</th>\n      <td>Ryze</td>\n      <td>Defeat</td>\n      <td>2019-11-11</td>\n      <td>3</td>\n      <td>4</td>\n      <td>3</td>\n      <td>200</td>\n      <td>20.8</td>\n      <td>10.0</td>\n    </tr>\n    <tr>\n      <th>86</th>\n      <td>Nocturne</td>\n      <td>Victory</td>\n      <td>2019-11-11</td>\n      <td>5</td>\n      <td>0</td>\n      <td>4</td>\n      <td>180</td>\n      <td>20.5</td>\n      <td>9.0</td>\n    </tr>\n    <tr>\n      <th>87</th>\n      <td>Ryze</td>\n      <td>Defeat</td>\n      <td>2019-11-11</td>\n      <td>0</td>\n      <td>4</td>\n      <td>1</td>\n      <td>269</td>\n      <td>26.0</td>\n      <td>10.0</td>\n    </tr>\n    <tr>\n      <th>88</th>\n      <td>Azir</td>\n      <td>Victory</td>\n      <td>2019-11-11</td>\n      <td>4</td>\n      <td>4</td>\n      <td>12</td>\n      <td>311</td>\n      <td>33.5</td>\n      <td>9.0</td>\n    </tr>\n    <tr>\n      <th>89</th>\n      <td>Akali</td>\n      <td>Defeat</td>\n      <td>2019-11-11</td>\n      <td>4</td>\n      <td>4</td>\n      <td>4</td>\n      <td>229</td>\n      <td>27.4</td>\n      <td>8.0</td>\n    </tr>\n    <tr>\n      <th>90</th>\n      <td>Zoe</td>\n      <td>Defeat</td>\n      <td>2019-11-11</td>\n      <td>2</td>\n      <td>5</td>\n      <td>5</td>\n      <td>205</td>\n      <td>26.1</td>\n      <td>8.0</td>\n    </tr>\n    <tr>\n      <th>91</th>\n      <td>Sion</td>\n      <td>Defeat</td>\n      <td>2019-11-11</td>\n      <td>5</td>\n      <td>2</td>\n      <td>7</td>\n      <td>282</td>\n      <td>39.4</td>\n      <td>7.0</td>\n    </tr>\n    <tr>\n      <th>92</th>\n      <td>Lucian</td>\n      <td>Defeat</td>\n      <td>2019-11-10</td>\n      <td>3</td>\n      <td>2</td>\n      <td>9</td>\n      <td>342</td>\n      <td>36.1</td>\n      <td>9.0</td>\n    </tr>\n    <tr>\n      <th>93</th>\n      <td>Ryze</td>\n      <td>Defeat</td>\n      <td>2019-11-10</td>\n      <td>1</td>\n      <td>4</td>\n      <td>2</td>\n      <td>187</td>\n      <td>21.1</td>\n      <td>9.0</td>\n    </tr>\n    <tr>\n      <th>94</th>\n      <td>Warwick</td>\n      <td>Victory</td>\n      <td>2019-11-10</td>\n      <td>2</td>\n      <td>2</td>\n      <td>9</td>\n      <td>138</td>\n      <td>28.6</td>\n      <td>5.0</td>\n    </tr>\n    <tr>\n      <th>95</th>\n      <td>Ivern</td>\n      <td>Victory</td>\n      <td>2019-11-10</td>\n      <td>4</td>\n      <td>6</td>\n      <td>19</td>\n      <td>185</td>\n      <td>41.6</td>\n      <td>4.0</td>\n    </tr>\n    <tr>\n      <th>96</th>\n      <td>Singed</td>\n      <td>Victory</td>\n      <td>2019-11-10</td>\n      <td>3</td>\n      <td>4</td>\n      <td>11</td>\n      <td>180</td>\n      <td>24.0</td>\n      <td>8.0</td>\n    </tr>\n  </tbody>\n</table>\n<p>97 rows × 9 columns</p>\n</div>",
            "text/plain": "        champion   status       date  kill  death  assist   cs  duration  \\\n0         Irelia   Defeat 2019-11-18     5      5       2  237      25.7   \n1           Fizz  Victory 2019-11-18     5      3      16  175      23.0   \n2           Ryze  Victory 2019-11-18     6      3       9  269      27.9   \n3           Ryze  Victory 2019-11-18     6      2       2  231      22.4   \n4       Nocturne   Defeat 2019-11-18     4      3       0  152      20.6   \n5           Ryze   Defeat 2019-11-18     2      6       1   95      15.8   \n6       Nautilus   Defeat 2019-11-17     1      4       7  215      26.7   \n7          Rakan   Defeat 2019-11-17     0      8      13   16      32.3   \n8        LeBlanc  Victory 2019-11-17    11      3      11  201      29.4   \n9          Akali  Victory 2019-11-17     7      2       5  186      21.8   \n10       LeBlanc  Victory 2019-11-17     3      1       0  120      14.8   \n11         Akali   Defeat 2019-11-17     2      4       2  153      19.3   \n12         Neeko   Defeat 2019-11-17     5      6       3  178      27.2   \n13       LeBlanc   Defeat 2019-11-17     2      3       3  240      31.1   \n14        Veigar  Victory 2019-11-17     1      0       1  151      15.8   \n15        Veigar   Defeat 2019-11-17     5      4       2  206      24.5   \n16         Jayce  Victory 2019-11-17     3      2      13  191      24.5   \n17          Ryze   Defeat 2019-11-16     4      6       4  158      18.0   \n18        Qiyana   Defeat 2019-11-16     8      6      10  190      32.2   \n19  Twisted Fate  Victory 2019-11-16     8      1      10  154      20.6   \n20           Zoe  Victory 2019-11-16     7      3       7  252      31.5   \n21          Sion   Defeat 2019-11-16     5      4       2  222      28.5   \n22          Ryze  Victory 2019-11-16     3      2       6  396      34.5   \n23         Akali  Victory 2019-11-16     9      1       2  192      22.7   \n24          Ryze  Victory 2019-11-16    10      3       5  267      29.6   \n25         Yasuo  Victory 2019-11-16     3      3       4  165      18.0   \n26       Lee Sin  Victory 2019-11-15     9      4      13  189      28.1   \n27         Akali   Defeat 2019-11-15     7      3       3  253      27.0   \n28         Akali  Victory 2019-11-15     4      1       2  356      33.0   \n29         Akali   Defeat 2019-11-15     5      4       4  183      22.3   \n..           ...      ...        ...   ...    ...     ...  ...       ...   \n67      Nautilus   Defeat 2019-11-12     2      6       6  178      23.8   \n68          Kled  Victory 2019-11-12     1      0       6   73      13.6   \n69          Ryze  Victory 2019-11-12    13      4       3  209      27.0   \n70      Nocturne  Victory 2019-11-12     7      4      13  222      27.0   \n71         Jayce  Victory 2019-11-12     4      3       4  194      22.2   \n72          Ahri   Defeat 2019-11-12     4      3       4  253      28.9   \n73         Jayce   Defeat 2019-11-12     1      3       1  190      24.0   \n74          Ornn   Defeat 2019-11-12     2      5       3  166      23.8   \n75      Nocturne   Defeat 2019-11-12     2      5       3  205      26.0   \n76      Nocturne   Defeat 2019-11-12     5      2       7  255      29.8   \n77        Lucian  Victory 2019-11-11     5      9      10  267      34.6   \n78      Nocturne   Defeat 2019-11-11     4     11       5  151      25.1   \n79      Tristana  Victory 2019-11-11     5      7       6  152      23.3   \n80      Nocturne   Defeat 2019-11-11     7      5       5  222      24.7   \n81         Diana   Defeat 2019-11-11     9      7       1  230      29.0   \n82      Tristana   Defeat 2019-11-11     4      8       3  225      29.7   \n83      Tristana  Victory 2019-11-11    17      4      11  200      26.5   \n84          Ryze   Defeat 2019-11-11     1      2       3  233      23.2   \n85          Ryze   Defeat 2019-11-11     3      4       3  200      20.8   \n86      Nocturne  Victory 2019-11-11     5      0       4  180      20.5   \n87          Ryze   Defeat 2019-11-11     0      4       1  269      26.0   \n88          Azir  Victory 2019-11-11     4      4      12  311      33.5   \n89         Akali   Defeat 2019-11-11     4      4       4  229      27.4   \n90           Zoe   Defeat 2019-11-11     2      5       5  205      26.1   \n91          Sion   Defeat 2019-11-11     5      2       7  282      39.4   \n92        Lucian   Defeat 2019-11-10     3      2       9  342      36.1   \n93          Ryze   Defeat 2019-11-10     1      4       2  187      21.1   \n94       Warwick  Victory 2019-11-10     2      2       9  138      28.6   \n95         Ivern  Victory 2019-11-10     4      6      19  185      41.6   \n96        Singed  Victory 2019-11-10     3      4      11  180      24.0   \n\n    cs_per_min  \n0          9.0  \n1          8.0  \n2         10.0  \n3         10.0  \n4          7.0  \n5          6.0  \n6          8.0  \n7          0.0  \n8          7.0  \n9          9.0  \n10         8.0  \n11         8.0  \n12         7.0  \n13         8.0  \n14        10.0  \n15         8.0  \n16         8.0  \n17         9.0  \n18         6.0  \n19         7.0  \n20         8.0  \n21         8.0  \n22        11.0  \n23         8.0  \n24         9.0  \n25         9.0  \n26         7.0  \n27         9.0  \n28        11.0  \n29         8.0  \n..         ...  \n67         7.0  \n68         5.0  \n69         8.0  \n70         8.0  \n71         9.0  \n72         9.0  \n73         8.0  \n74         7.0  \n75         8.0  \n76         9.0  \n77         8.0  \n78         6.0  \n79         7.0  \n80         9.0  \n81         8.0  \n82         8.0  \n83         8.0  \n84        10.0  \n85        10.0  \n86         9.0  \n87        10.0  \n88         9.0  \n89         8.0  \n90         8.0  \n91         7.0  \n92         9.0  \n93         9.0  \n94         5.0  \n95         4.0  \n96         8.0  \n\n[97 rows x 9 columns]"
          },
          "metadata": {}
        }
      ]
    },
    {
      "metadata": {
        "id": "l4nHYNKRr5am",
        "colab_type": "text"
      },
      "cell_type": "markdown",
      "source": "**Câu 9** : Tính thời gian thi đấu trung bình của các trận được `Perfect KDA` và các trận **không** được `Perfect KDA`."
    },
    {
      "metadata": {
        "id": "Y4IsFnfPsLCN",
        "colab_type": "code",
        "colab": {},
        "trusted": true
      },
      "cell_type": "code",
      "source": "print('Thời gian thi đấu trung bình của các trận được Perfect KDA', round(Perfect_KDA.duration.mean(),1))\nprint('Thời gian thi đấu trung bình của các trận không được Perfect KDA',round(NOT_Perfect_KDA.duration.mean(),1))",
      "execution_count": 127,
      "outputs": [
        {
          "output_type": "stream",
          "text": "Thời gian thi đấu trung bình của các trận được Perfect KDA 18.9\nThời gian thi đấu trung bình của các trận không được Perfect KDA 26.5\n",
          "name": "stdout"
        }
      ]
    },
    {
      "metadata": {
        "id": "N7XlydLps3l_",
        "colab_type": "text"
      },
      "cell_type": "markdown",
      "source": "**Câu 10** : Tính tỷ lệ thắng của Faker."
    },
    {
      "metadata": {
        "id": "S10RP_DZs8pP",
        "colab_type": "code",
        "colab": {},
        "trusted": true
      },
      "cell_type": "code",
      "source": "array = fk.status.value_counts().values\nwin = round(array[1]/array.sum(),2)\nprint('Tỉ lệ thắng:', win)",
      "execution_count": 128,
      "outputs": [
        {
          "output_type": "stream",
          "text": "Tỉ lệ thắng: 0.46\n",
          "name": "stdout"
        }
      ]
    },
    {
      "metadata": {
        "id": "7fYOCfH5ch87",
        "colab_type": "text"
      },
      "cell_type": "markdown",
      "source": "**Câu 11** : Tính tổng thời gian chơi mỗi ngày."
    },
    {
      "metadata": {
        "id": "zhssSxqzcrnF",
        "colab_type": "code",
        "colab": {},
        "trusted": false
      },
      "cell_type": "code",
      "source": "",
      "execution_count": 0,
      "outputs": []
    },
    {
      "metadata": {
        "id": "vCavGNbKctzq",
        "colab_type": "text"
      },
      "cell_type": "markdown",
      "source": "**Câu 12 (1 điểm)** : Tính $KDA$ tương ứng mỗi tướng."
    },
    {
      "metadata": {
        "id": "FYBdN1Mlcy8g",
        "colab_type": "code",
        "colab": {},
        "trusted": false
      },
      "cell_type": "code",
      "source": "",
      "execution_count": 0,
      "outputs": []
    },
    {
      "metadata": {
        "id": "nhH5yxXVc0mL",
        "colab_type": "text"
      },
      "cell_type": "markdown",
      "source": "**Câu 13 (1 điểm)** : In ra 3 tướng có tỷ lệ thắng cao nhất."
    },
    {
      "metadata": {
        "id": "Siso4OCVc5f7",
        "colab_type": "code",
        "colab": {},
        "trusted": false
      },
      "cell_type": "code",
      "source": "",
      "execution_count": 0,
      "outputs": []
    },
    {
      "metadata": {
        "id": "qtMg8mK4c7NG",
        "colab_type": "text"
      },
      "cell_type": "markdown",
      "source": "**Câu 14 (1 điểm)** : In ra 3 tướng có $KDA$ thấp nhất."
    },
    {
      "metadata": {
        "id": "QGeRXDArdAZX",
        "colab_type": "code",
        "colab": {},
        "trusted": false
      },
      "cell_type": "code",
      "source": "",
      "execution_count": 0,
      "outputs": []
    }
  ],
  "metadata": {
    "colab": {
      "name": "faker_rank_games",
      "provenance": [],
      "collapsed_sections": []
    },
    "kernelspec": {
      "name": "python3",
      "display_name": "Python 3",
      "language": "python"
    },
    "language_info": {
      "mimetype": "text/x-python",
      "nbconvert_exporter": "python",
      "name": "python",
      "pygments_lexer": "ipython3",
      "version": "3.5.4",
      "file_extension": ".py",
      "codemirror_mode": {
        "version": 3,
        "name": "ipython"
      }
    }
  },
  "nbformat": 4,
  "nbformat_minor": 1
}