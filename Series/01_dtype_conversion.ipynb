{
  "cells": [
    {
      "metadata": {},
      "cell_type": "markdown",
      "source": "Như đã giới thiệu trong bài học, ngoài việc có thể thay đổi label của một `Series`. Bạn hoàn toàn có thể thay đổi kiểu dữ liệu của một `Series` để phục vụ cho mục đích của mình.<br>\nTrong bài thực hành này, bạn sẽ học được cách thực hiện 2 việc chuyển đổi thường gặp nhất, đó là :\n1. Chuỗi số thành số\n2. Chuỗi ngày tháng thành kiểu dữ liệu thời gian."
    },
    {
      "metadata": {},
      "cell_type": "markdown",
      "source": "Trước khi bắt đầu, hãy import những thư viện cần thiết nhé!"
    },
    {
      "metadata": {
        "trusted": true
      },
      "cell_type": "code",
      "source": "# Đây là ô để import những thư viện cho bài tập\nimport pandas as pd\n# Link: https://github.com/Levytan/MIS.2019",
      "execution_count": 66,
      "outputs": []
    },
    {
      "metadata": {},
      "cell_type": "markdown",
      "source": "## Ôn tập"
    },
    {
      "metadata": {},
      "cell_type": "markdown",
      "source": "`pandas.Series` có hỗ trợ những `dtype` sau :\n1. Kiểu số : `int`, `float`\n2. Kiểu thời gian : `datetime64`, `timedelta64`\n3. Kiểu boolean : `bool`\n\nTuy nhiên, `Series` không dùng kiểu `str` cho chuỗi ký tự mà dùng kiểu `object`."
    },
    {
      "metadata": {},
      "cell_type": "markdown",
      "source": "## Chuyển đổi từ chuỗi số thành kiểu số"
    },
    {
      "metadata": {},
      "cell_type": "markdown",
      "source": "**Câu 1** : Tạo một `Series`, đặt tên là `s1` với dữ liệu được lấy từ file `data_1.txt` trong thư mục `Data`, không cần chỉ ra `label`"
    },
    {
      "metadata": {
        "trusted": true
      },
      "cell_type": "code",
      "source": "# Viết code ở đây : \nwith open ('data_1.txt') as file:\n    s1 = pd.Series(data = file.readline().split(','))\ns1",
      "execution_count": 67,
      "outputs": [
        {
          "output_type": "execute_result",
          "execution_count": 67,
          "data": {
            "text/plain": "0    53\n1    95\n2    65\n3    28\n4     6\n5    90\n6    15\n7    95\n8     0\n9    37\ndtype: object"
          },
          "metadata": {}
        }
      ]
    },
    {
      "metadata": {},
      "cell_type": "markdown",
      "source": "**Câu 2** : In ra `dtype` của `s1`"
    },
    {
      "metadata": {
        "trusted": true
      },
      "cell_type": "code",
      "source": "# Viết code ở đây :\ns1.dtype",
      "execution_count": 68,
      "outputs": [
        {
          "output_type": "execute_result",
          "execution_count": 68,
          "data": {
            "text/plain": "dtype('O')"
          },
          "metadata": {}
        }
      ]
    },
    {
      "metadata": {},
      "cell_type": "markdown",
      "source": "**Lưu ý**\n\nNếu bạn in ra được `dtype('O')` thì có thể bỏ qua phần này.\n\nNếu không, xin vui lòng chạy câu lệnh sau :\n```\ns1[s1.size] = '100'\n```"
    },
    {
      "metadata": {
        "trusted": true
      },
      "cell_type": "code",
      "source": "# Ô này dành cho Lưu ý",
      "execution_count": 65,
      "outputs": []
    },
    {
      "metadata": {},
      "cell_type": "markdown",
      "source": "Lúc này, `s1` có kiểu dữ liệu là `object`. Tuy nhiên, với kiểu dữ liệu này, bạn không thể dùng được các phương thức thống kê như `.min()`, `.max()`, `.mean()`, ...\n\nVì vậy chúng ta cần phải chuyển đổi kiểu dữ liệu về dạng số và chúng ta có thể thực hiện bằng cách gọi hàm `pandas.to_numeric()`. \n\nCú pháp hàm như sau :\n```\npandas.to_numeric(<args>, errors = 'raise')\n```\nTrong đó :\n- `<arg>` là Series cần chuyển đổi\n- errors là cách mà `pandas.to_numeric()` hành xử khi gặp giá trị không thể chuyển đổi được. Bao gồm 3 giá trị sau : \n    * `'raise'` : báo lỗi, đây là giá trị mặc định\n    * `'coerse'` : giá trị không chuyển đổi được sẽ thành `NaN`\n    * `'ignore'` : giá trị không chuyển đổi được sẽ giữ nguyên"
    },
    {
      "metadata": {},
      "cell_type": "markdown",
      "source": "**Câu 3**: Hãy chuyển đổi kiểu dữ liệu của `s1` về kiểu số."
    },
    {
      "metadata": {
        "trusted": true
      },
      "cell_type": "code",
      "source": "# Viết code chuyển đổi ở đây :\ns1 = pd.to_numeric(s1, errors = 'raise')\ns1",
      "execution_count": 69,
      "outputs": [
        {
          "output_type": "execute_result",
          "execution_count": 69,
          "data": {
            "text/plain": "0    53\n1    95\n2    65\n3    28\n4     6\n5    90\n6    15\n7    95\n8     0\n9    37\ndtype: int64"
          },
          "metadata": {}
        }
      ]
    },
    {
      "metadata": {
        "trusted": true
      },
      "cell_type": "code",
      "source": "# Kiểm tra lại việc chuyển đổi bằng cách in lại kiểu dữ liệu của s1\ns1.dtype",
      "execution_count": 70,
      "outputs": [
        {
          "output_type": "execute_result",
          "execution_count": 70,
          "data": {
            "text/plain": "dtype('int64')"
          },
          "metadata": {}
        }
      ]
    },
    {
      "metadata": {},
      "cell_type": "markdown",
      "source": "## Chuyển đổi từ chuỗi ngày tháng thành kiểu thời gian"
    },
    {
      "metadata": {},
      "cell_type": "markdown",
      "source": "Tương tự cho việc chuyển đổi thành kiểu số, chuyển đổi thành kiểu thời gian có thể thực hiện thông qua hàm `pandas.to_datetime()` với cú pháp \n```\npandas.to_numeric(<args>, errors = 'raise', format = None)\n```\nTrong đó :\n- `<arg>` là Series cần chuyển đổi\n- errors là cách mà `pandas.to_datetime()` hành xử khi gặp giá trị không thể chuyển đổi được. Bao gồm 3 giá trị sau :\n    - `'raise'` : báo lỗi, đây là giá trị mặc định\n    - `'coerse'` : giá trị không chuyển đổi được sẽ thành `NaT` (Not a Time)\n    - `'ignore'` : giá trị không chuyển đổi được sẽ giữ nguyên\n- format là định dạng của chuỗi ngày tháng truyền vào, theo chuẩn <a href = \"http://strftime.org/\">sau</a>. (mặc định None, tức là python sẽ tự xác định định dạng)\n\nVí dụ, định dạng của `2019-05-20` là `%Y-%m-%d`, định dạng của `23:30:15 13/11/2019` là `%H:%M:%S %d/%m/%Y`"
    },
    {
      "metadata": {},
      "cell_type": "markdown",
      "source": "**Câu 4** : Tạo `Series`, đặt tên là `s2` với dữ liệu từ file `data_2.txt` trong thư mục `Data` và thực hiện việc chuyển đổi"
    },
    {
      "metadata": {
        "trusted": true
      },
      "cell_type": "code",
      "source": "# Tạo Series ở đây\nwith open ('data_2.txt') as file:\n    s2 = pd.Series(data = file.readlines())\ns2",
      "execution_count": 71,
      "outputs": [
        {
          "output_type": "execute_result",
          "execution_count": 71,
          "data": {
            "text/plain": "0    30-12-2018\\n\n1    20-03-2019\\n\n2    28-09-2018\\n\n3    24-11-2018\\n\n4    06-10-2018\\n\n5    26-10-2018\\n\n6    05-02-2019\\n\n7    09-12-2018\\n\n8    23-01-2019\\n\n9    09-01-2019\\n\ndtype: object"
          },
          "metadata": {}
        }
      ]
    },
    {
      "metadata": {
        "trusted": true
      },
      "cell_type": "code",
      "source": "# In kiểu dữ liệu trước khi chuyển đổi\ns2.dtype",
      "execution_count": 72,
      "outputs": [
        {
          "output_type": "execute_result",
          "execution_count": 72,
          "data": {
            "text/plain": "dtype('O')"
          },
          "metadata": {}
        }
      ]
    },
    {
      "metadata": {
        "trusted": true
      },
      "cell_type": "code",
      "source": "# Chuyển đổi tại đây\ns2 = pd.to_datetime(s2, errors = 'raise', format = None)\ns2",
      "execution_count": 75,
      "outputs": [
        {
          "output_type": "execute_result",
          "execution_count": 75,
          "data": {
            "text/plain": "0   2018-12-30\n1   2019-03-20\n2   2018-09-28\n3   2018-11-24\n4   2018-06-10\n5   2018-10-26\n6   2019-05-02\n7   2018-09-12\n8   2019-01-23\n9   2019-09-01\ndtype: datetime64[ns]"
          },
          "metadata": {}
        }
      ]
    },
    {
      "metadata": {
        "trusted": true
      },
      "cell_type": "code",
      "source": "# In kiểu dữ liệu sau khi chuyển đổi\ns2.dtype",
      "execution_count": 76,
      "outputs": [
        {
          "output_type": "execute_result",
          "execution_count": 76,
          "data": {
            "text/plain": "dtype('<M8[ns]')"
          },
          "metadata": {}
        }
      ]
    },
    {
      "metadata": {
        "trusted": true
      },
      "cell_type": "code",
      "source": "",
      "execution_count": null,
      "outputs": []
    }
  ],
  "metadata": {
    "kernelspec": {
      "name": "python3",
      "display_name": "Python 3",
      "language": "python"
    },
    "language_info": {
      "mimetype": "text/x-python",
      "nbconvert_exporter": "python",
      "name": "python",
      "pygments_lexer": "ipython3",
      "version": "3.5.4",
      "file_extension": ".py",
      "codemirror_mode": {
        "version": 3,
        "name": "ipython"
      }
    }
  },
  "nbformat": 4,
  "nbformat_minor": 2
}