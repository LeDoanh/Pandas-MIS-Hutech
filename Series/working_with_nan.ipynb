{
  "cells": [
    {
      "metadata": {},
      "cell_type": "markdown",
      "source": "## Giới thiệu\nTrong bài thực hành này, các bạn sẽ làm việc với giá trị `NaN`"
    },
    {
      "metadata": {},
      "cell_type": "markdown",
      "source": "## Giá trị `NaN`\n- `NaN` là một giá trị đặc biệt của python, được tạo ra bằng câu lệnh `float('NaN')` hoặc `float('nan')`\n- `NaN` là viết tắt của <b>N</b>ot <b>a</b> <b>N</b>umber (không phải số)\n- Tuy `NaN` nghĩa là không phải số, nhưng kiểu của nó là `numeric`"
    },
    {
      "metadata": {
        "trusted": false
      },
      "cell_type": "code",
      "source": "type(float('nan'))",
      "execution_count": 1,
      "outputs": [
        {
          "data": {
            "text/plain": "float"
          },
          "execution_count": 1,
          "metadata": {},
          "output_type": "execute_result"
        }
      ]
    },
    {
      "metadata": {},
      "cell_type": "markdown",
      "source": "* Trong các phép toán số học, nếu có bất kỳ hạng tử nào có giá trị `NaN`, kết quả của phép toán sẽ là `NaN`"
    },
    {
      "metadata": {
        "trusted": false
      },
      "cell_type": "code",
      "source": "print(1 + float('nan'))\nprint(2.0 - float('nan'))\nprint(-6 * float('nan'))",
      "execution_count": 2,
      "outputs": [
        {
          "name": "stdout",
          "output_type": "stream",
          "text": "nan\nnan\nnan\n"
        }
      ]
    },
    {
      "metadata": {},
      "cell_type": "markdown",
      "source": "- `NaN` là giá trị duy nhất làm cho phép so sánh `x != x` trả về `True`\n- Các phép so sánh khác như $>, <, >=, =<, ==$ đều trả về `False`"
    },
    {
      "metadata": {
        "trusted": false
      },
      "cell_type": "code",
      "source": "float('nan') != float('nan')",
      "execution_count": 3,
      "outputs": [
        {
          "data": {
            "text/plain": "True"
          },
          "execution_count": 3,
          "metadata": {},
          "output_type": "execute_result"
        }
      ]
    },
    {
      "metadata": {},
      "cell_type": "markdown",
      "source": "## Ý nghĩa của `NaN`"
    },
    {
      "metadata": {},
      "cell_type": "markdown",
      "source": "`NaN` thường dùng để diễn tả dữ liệu bị thiếu (có thể do nhập liệu hoặc dữ liệu không tồn tại)\n\nTrong `pandas` và `pandas.Series` có khá nhiều hàm và phương thức để làm việc với giá trị `NaN`"
    },
    {
      "metadata": {},
      "cell_type": "markdown",
      "source": "## Bài tập"
    },
    {
      "metadata": {
        "trusted": true
      },
      "cell_type": "code",
      "source": "# import thư viện ở đây\nimport numpy as np\nimport pandas as pd\n\n",
      "execution_count": 2,
      "outputs": []
    },
    {
      "metadata": {},
      "cell_type": "markdown",
      "source": "**Câu 1** : Tạo Series `s3` từ dữ liệu chứa trong `data_3.txt`, thực hiện việc chuyển đổi kiểu dữ liệu thành kiểu số"
    },
    {
      "metadata": {
        "trusted": true
      },
      "cell_type": "code",
      "source": "# Câu 1 \nwith open ('data_3.txt') as file:\n    s3 = pd.Series(data = file.readline().split(','))\ns3 = pd.to_numeric(s3, errors = 'coerse')\ns3",
      "execution_count": 104,
      "outputs": [
        {
          "output_type": "execute_result",
          "execution_count": 104,
          "data": {
            "text/plain": "0       991.0\n1      2677.0\n2      3631.0\n3      4775.0\n4      7925.0\n5      2530.0\n6      1534.0\n7      5664.0\n8      8773.0\n9      8650.0\n10     4040.0\n11     9179.0\n12     9373.0\n13     9670.0\n14     6654.0\n15     5599.0\n16     5482.0\n17      372.0\n18     8039.0\n19     3769.0\n20     2694.0\n21     6798.0\n22     1037.0\n23      853.0\n24     2825.0\n25     2425.0\n26     1866.0\n27     6799.0\n28      822.0\n29     1252.0\n        ...  \n471    5705.0\n472    6404.0\n473    4765.0\n474    2668.0\n475    9681.0\n476    2075.0\n477    3213.0\n478    2188.0\n479    3461.0\n480    8963.0\n481    5488.0\n482    8065.0\n483    3495.0\n484    7232.0\n485    3132.0\n486    7949.0\n487    8532.0\n488    1622.0\n489    4906.0\n490    3313.0\n491    4256.0\n492    7535.0\n493    7837.0\n494    9330.0\n495    9149.0\n496    9473.0\n497    1646.0\n498     874.0\n499    1469.0\n500    6016.0\ndtype: float64"
          },
          "metadata": {}
        }
      ]
    },
    {
      "metadata": {},
      "cell_type": "markdown",
      "source": "**Câu 2** : Có bao nhiêu phần tử là `NaN` trong `s3`?"
    },
    {
      "metadata": {
        "trusted": true
      },
      "cell_type": "code",
      "source": "# Câu 2\n#1\ns3.size - s3.count() \n#2\npd.isnull(s3).sum()",
      "execution_count": 105,
      "outputs": [
        {
          "output_type": "execute_result",
          "execution_count": 105,
          "data": {
            "text/plain": "11"
          },
          "metadata": {}
        }
      ]
    },
    {
      "metadata": {},
      "cell_type": "markdown",
      "source": "**Câu 3** : In ra `label` của những giá trị `NaN`.\n\n*Gợi ý* : tìm hiểu về `pandas.isnull()`"
    },
    {
      "metadata": {
        "trusted": true
      },
      "cell_type": "code",
      "source": "# Câu 3\nprint('Label của những giá trị NaN:')\nprint([i for i ,v in s3[s3 != s3].items()])",
      "execution_count": 126,
      "outputs": [
        {
          "output_type": "stream",
          "text": "Label của những giá trị NaN:\n[76, 93, 206, 208, 217, 321, 330, 366, 410, 430, 434]\n",
          "name": "stdout"
        },
        {
          "output_type": "execute_result",
          "execution_count": 126,
          "data": {
            "text/plain": "76    NaN\n93    NaN\n206   NaN\n208   NaN\n217   NaN\n321   NaN\n330   NaN\n366   NaN\n410   NaN\n430   NaN\n434   NaN\ndtype: float64"
          },
          "metadata": {}
        }
      ]
    },
    {
      "metadata": {},
      "cell_type": "markdown",
      "source": "Để thay thế giá trị `NaN` (kiểu như điền vào chỗ trống), `pandas.Series` có một phương thức là `.fillna()` với cú pháp (chỉ lấy 2 tham số quan trọng nhất)\n```\n<tên Series>.fillna(value = None, method = None)\n```\nTrong đó :\n- value : giá trị bạn muốn để thay thế `NaN`\n- method : nếu bạn không muốn dùng giá trị cụ thể, thì bạn có thể dùng method, nó có 2 giá trị thường dùng :\n    - `'bfill'` : điền vào chỗ trống bằng giá trị liền sau\n    - `'ffill'` : điền vào chỗ trống bằng giá trị liền trước"
    },
    {
      "metadata": {},
      "cell_type": "markdown",
      "source": "**Câu 4** : Từ `s3`, hãy tạo ra :\n- `s3m` : thay `NaN` bằng giá trị trung bình của `s3`\n- `s3b` : thay `NaN` bằng giá trị liền sau\n- `s3f` : thay `NaN` bằng giá trị liền trước"
    },
    {
      "metadata": {
        "trusted": true
      },
      "cell_type": "code",
      "source": "# Câu 4\ns3m = s3.fillna(value = s3.mean(), method = None)\n\ns3b = s3.fillna(value = None, method = 'bfill')\n\ns3f = s3.fillna(value = None, method = 'ffill')\n",
      "execution_count": 125,
      "outputs": []
    },
    {
      "metadata": {},
      "cell_type": "markdown",
      "source": "**Câu 5** : Tính trung bình và độ lệch chuẩn của `s3`, `s3m`, `s3b`, `s3f`"
    },
    {
      "metadata": {
        "trusted": true
      },
      "cell_type": "code",
      "source": "# Câu 5\nprint(s3.mean())\nprint(s3m.mean())\nprint(s3b.mean())\nprint(s3f.mean())\n\nprint(s3.std())\nprint(s3m.std())\nprint(s3b.std())\nprint(s3f.std())",
      "execution_count": 110,
      "outputs": [
        {
          "output_type": "stream",
          "text": "5140.287755102041\n5140.287755102041\n5128.550898203593\n5146.477045908184\n2893.076418352346\n2861.0755943968097\n2905.23045349318\n2891.222588797351\n",
          "name": "stdout"
        }
      ]
    },
    {
      "metadata": {
        "trusted": true
      },
      "cell_type": "code",
      "source": "",
      "execution_count": null,
      "outputs": []
    }
  ],
  "metadata": {
    "kernelspec": {
      "name": "python3",
      "display_name": "Python 3",
      "language": "python"
    },
    "language_info": {
      "mimetype": "text/x-python",
      "nbconvert_exporter": "python",
      "name": "python",
      "file_extension": ".py",
      "version": "3.5.4",
      "pygments_lexer": "ipython3",
      "codemirror_mode": {
        "version": 3,
        "name": "ipython"
      }
    }
  },
  "nbformat": 4,
  "nbformat_minor": 2
}