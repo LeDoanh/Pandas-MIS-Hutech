{
  "cells": [
    {
      "cell_type": "markdown",
      "metadata": {},
      "source": [
        "## Giới thiệu\n",
        "Trong bài thực hành này, các bạn sẽ làm việc với giá trị `NaN`"
      ]
    },
    {
      "cell_type": "markdown",
      "metadata": {},
      "source": [
        "## Giá trị `NaN`\n",
        "- `NaN` là một giá trị đặc biệt của python, được tạo ra bằng câu lệnh `float('NaN')` hoặc `float('nan')`\n",
        "- `NaN` là viết tắt của <b>N</b>ot <b>a</b> <b>N</b>umber (không phải số)\n",
        "- Tuy `NaN` nghĩa là không phải số, nhưng kiểu của nó là `numeric`"
      ]
    },
    {
      "cell_type": "code",
      "execution_count": 1,
      "metadata": {
        "trusted": false
      },
      "outputs": [
        {
          "data": {
            "text/plain": "float"
          },
          "execution_count": 1,
          "metadata": {},
          "output_type": "execute_result"
        }
      ],
      "source": [
        "type(float('nan'))"
      ]
    },
    {
      "cell_type": "markdown",
      "metadata": {},
      "source": [
        "* Trong các phép toán số học, nếu có bất kỳ hạng tử nào có giá trị `NaN`, kết quả của phép toán sẽ là `NaN`"
      ]
    },
    {
      "cell_type": "code",
      "execution_count": 2,
      "metadata": {
        "trusted": false
      },
      "outputs": [
        {
          "name": "stdout",
          "output_type": "stream",
          "text": "nan\nnan\nnan\n"
        }
      ],
      "source": [
        "print(1 + float('nan'))\n",
        "print(2.0 - float('nan'))\n",
        "print(-6 * float('nan'))"
      ]
    },
    {
      "cell_type": "markdown",
      "metadata": {},
      "source": [
        "- `NaN` là giá trị duy nhất làm cho phép so sánh `x != x` trả về `True`\n",
        "- Các phép so sánh khác như $>, <, >=, =<, ==$ đều trả về `False`"
      ]
    },
    {
      "cell_type": "code",
      "execution_count": 3,
      "metadata": {
        "trusted": false
      },
      "outputs": [
        {
          "data": {
            "text/plain": "True"
          },
          "execution_count": 3,
          "metadata": {},
          "output_type": "execute_result"
        }
      ],
      "source": [
        "float('nan') != float('nan')"
      ]
    },
    {
      "cell_type": "markdown",
      "metadata": {},
      "source": [
        "## Ý nghĩa của `NaN`"
      ]
    },
    {
      "cell_type": "markdown",
      "metadata": {},
      "source": [
        "`NaN` thường dùng để diễn tả dữ liệu bị thiếu (có thể do nhập liệu hoặc dữ liệu không tồn tại)\n",
        "\n",
        "Trong `pandas` và `pandas.Series` có khá nhiều hàm và phương thức để làm việc với giá trị `NaN`"
      ]
    },
    {
      "cell_type": "markdown",
      "metadata": {},
      "source": [
        "## Bài tập"
      ]
    },
    {
      "cell_type": "code",
      "execution_count": 11,
      "metadata": {},
      "outputs": [],
      "source": [
        "# import thư viện ở đây\n",
        "import numpy as np\n",
        "import pandas as pd"
      ]
    },
    {
      "cell_type": "markdown",
      "metadata": {},
      "source": [
        "**Câu 1** : Tạo Series `s3` từ dữ liệu chứa trong `data_3.txt`, thực hiện việc chuyển đổi kiểu dữ liệu thành kiểu số"
      ]
    },
    {
      "cell_type": "code",
      "execution_count": 17,
      "metadata": {},
      "outputs": [
        {
          "data": {
            "text/plain": "0       991.0\n1      2677.0\n2      3631.0\n3      4775.0\n4      7925.0\n5      2530.0\n6      1534.0\n7      5664.0\n8      8773.0\n9      8650.0\n10     4040.0\n11     9179.0\n12     9373.0\n13     9670.0\n14     6654.0\n15     5599.0\n16     5482.0\n17      372.0\n18     8039.0\n19     3769.0\n20     2694.0\n21     6798.0\n22     1037.0\n23      853.0\n24     2825.0\n25     2425.0\n26     1866.0\n27     6799.0\n28      822.0\n29     1252.0\n        ...  \n471    5705.0\n472    6404.0\n473    4765.0\n474    2668.0\n475    9681.0\n476    2075.0\n477    3213.0\n478    2188.0\n479    3461.0\n480    8963.0\n481    5488.0\n482    8065.0\n483    3495.0\n484    7232.0\n485    3132.0\n486    7949.0\n487    8532.0\n488    1622.0\n489    4906.0\n490    3313.0\n491    4256.0\n492    7535.0\n493    7837.0\n494    9330.0\n495    9149.0\n496    9473.0\n497    1646.0\n498     874.0\n499    1469.0\n500    6016.0\nLength: 501, dtype: float64"
          },
          "execution_count": 17,
          "metadata": {},
          "output_type": "execute_result"
        }
      ],
      "source": [
        "# Câu 1 \n",
        "with open ('Series/data_3.txt') as file:\n",
        "    s3 = pd.Series(data = file.readline().split(','))\n",
        "s3 = pd.to_numeric(s3, errors = 'coerse')\n",
        "s3"
      ]
    },
    {
      "cell_type": "markdown",
      "metadata": {},
      "source": [
        "**Câu 2** : Có bao nhiêu phần tử là `NaN` trong `s3`?"
      ]
    },
    {
      "cell_type": "code",
      "execution_count": 14,
      "metadata": {},
      "outputs": [
        {
          "data": {
            "text/plain": "11"
          },
          "execution_count": 14,
          "metadata": {},
          "output_type": "execute_result"
        }
      ],
      "source": [
        "# Câu 2\n",
        "#1\n",
        "s3.size - s3.count() \n",
        "#2\n",
        "pd.isnull(s3).sum()"
      ]
    },
    {
      "cell_type": "markdown",
      "metadata": {},
      "source": [
        "**Câu 3** : In ra `label` của những giá trị `NaN`.\n",
        "\n",
        "*Gợi ý* : tìm hiểu về `pandas.isnull()`"
      ]
    },
    {
      "cell_type": "code",
      "execution_count": 16,
      "metadata": {},
      "outputs": [
        {
          "name": "stdout",
          "output_type": "stream",
          "text": "Label của những giá trị NaN:\n[76, 93, 206, 208, 217, 321, 330, 366, 410, 430, 434]\n[Int64Index([76, 93, 206, 208, 217, 321, 330, 366, 410, 430, 434], dtype='int64')]\n"
        }
      ],
      "source": [
        "# Câu 3\n",
        "print('Label của những giá trị NaN:')\n",
        "#1\n",
        "print([i for i ,v in s3[s3 != s3].items()])\n",
        "#2\n",
        "print(s3[pd.isnull(s3)].axes)"
      ]
    },
    {
      "cell_type": "markdown",
      "metadata": {},
      "source": [
        "Để thay thế giá trị `NaN` (kiểu như điền vào chỗ trống), `pandas.Series` có một phương thức là `.fillna()` với cú pháp (chỉ lấy 2 tham số quan trọng nhất)\n",
        "```\n",
        "<tên Series>.fillna(value = None, method = None)\n",
        "```\n",
        "Trong đó :\n",
        "- value : giá trị bạn muốn để thay thế `NaN`\n",
        "- method : nếu bạn không muốn dùng giá trị cụ thể, thì bạn có thể dùng method, nó có 2 giá trị thường dùng :\n",
        "    - `'bfill'` : điền vào chỗ trống bằng giá trị liền sau\n",
        "    - `'ffill'` : điền vào chỗ trống bằng giá trị liền trước"
      ]
    },
    {
      "cell_type": "markdown",
      "metadata": {},
      "source": [
        "**Câu 4** : Từ `s3`, hãy tạo ra :\n",
        "- `s3m` : thay `NaN` bằng giá trị trung bình của `s3`\n",
        "- `s3b` : thay `NaN` bằng giá trị liền sau\n",
        "- `s3f` : thay `NaN` bằng giá trị liền trước"
      ]
    },
    {
      "cell_type": "code",
      "execution_count": 125,
      "metadata": {
        "trusted": true
      },
      "outputs": [],
      "source": [
        "# Câu 4\n",
        "s3m = s3.fillna(value = s3.mean(), method = None)\n",
        "\n",
        "s3b = s3.fillna(value = None, method = 'bfill')\n",
        "\n",
        "s3f = s3.fillna(value = None, method = 'ffill')\n"
      ]
    },
    {
      "cell_type": "markdown",
      "metadata": {},
      "source": [
        "**Câu 5** : Tính trung bình và độ lệch chuẩn của `s3`, `s3m`, `s3b`, `s3f`"
      ]
    },
    {
      "cell_type": "code",
      "execution_count": 110,
      "metadata": {
        "trusted": true
      },
      "outputs": [
        {
          "name": "stdout",
          "output_type": "stream",
          "text": "5140.287755102041\n5140.287755102041\n5128.550898203593\n5146.477045908184\n2893.076418352346\n2861.0755943968097\n2905.23045349318\n2891.222588797351\n"
        }
      ],
      "source": [
        "# Câu 5\n",
        "print(s3.mean())\n",
        "print(s3m.mean())\n",
        "print(s3b.mean())\n",
        "print(s3f.mean())\n",
        "\n",
        "print(s3.std())\n",
        "print(s3m.std())\n",
        "print(s3b.std())\n",
        "print(s3f.std())"
      ]
    },
    {
      "cell_type": "code",
      "execution_count": null,
      "metadata": {
        "trusted": true
      },
      "outputs": [],
      "source": []
    }
  ],
  "metadata": {
    "kernelspec": {
      "name": "python3",
      "display_name": "Python 3",
      "language": "python"
    },
    "language_info": {
      "mimetype": "text/x-python",
      "nbconvert_exporter": "python",
      "name": "python",
      "file_extension": ".py",
      "version": "3.5.4",
      "pygments_lexer": "ipython3",
      "codemirror_mode": {
        "version": 3,
        "name": "ipython"
      }
    }
  },
  "nbformat": 4,
  "nbformat_minor": 2
}