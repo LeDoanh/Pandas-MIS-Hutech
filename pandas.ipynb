{
 "nbformat": 4,
 "nbformat_minor": 2,
 "metadata": {
  "language_info": {
   "name": "python",
   "codemirror_mode": {
    "name": "ipython",
    "version": 3
   }
  },
  "orig_nbformat": 2,
  "file_extension": ".py",
  "mimetype": "text/x-python",
  "name": "python",
  "npconvert_exporter": "python",
  "pygments_lexer": "ipython3",
  "version": 3
 },
 "cells": [
  {
   "cell_type": "code",
   "execution_count": 3,
   "metadata": {},
   "outputs": [],
   "source": [
    "import numpy as np\n",
    "import pandas as pd"
   ]
  },
  {
   "cell_type": "code",
   "execution_count": 40,
   "metadata": {},
   "outputs": [],
   "source": [
    "a = [i*i for i in range(10)]"
   ]
  },
  {
   "cell_type": "code",
   "execution_count": 41,
   "metadata": {},
   "outputs": [],
   "source": [
    "#Có 3 kiểu dữ liệu trong Pandas"
   ]
  },
  {
   "cell_type": "code",
   "execution_count": 137,
   "metadata": {},
   "outputs": [],
   "source": [
    "#1 Series\n",
    "b = pd.Series(data = a, index= [ 0, 1, 2, 3, 11, 5, 6, 7, 8, 10], dtype= int)\n",
    "c = pd.Series([1,2,3,4])\n",
    "#data: list, array, dictionary\n",
    "#index: tên cột\n",
    "#dtype: kiểu dữ liệu (không có python tự chọn) gồm có int64, int32, float64, datetime64, object\n",
    "#coppy True or False. Tạo bản coppy"
   ]
  },
  {
   "cell_type": "code",
   "execution_count": 138,
   "metadata": {},
   "outputs": [
    {
     "name": "stdout",
     "output_type": "stream",
     "text": "d = 16\n"
    },
    {
     "data": {
      "text/plain": "1       100\n2         4\n3         9\n5        25\n6        36\n7        49\n8        64\n10       81\nb     10000\ndtype: int64"
     },
     "execution_count": 138,
     "metadata": {},
     "output_type": "execute_result"
    }
   ],
   "source": [
    "b\n",
    "#lấy phần tử theo vị trí [không nên]\n",
    "b[1:4]\n",
    "#lấy phần tử theo label (label là duy nhất không trùng nhau) [thường dùng]\n",
    "b[[ 1, 2, 3 ]]\n",
    "#lấy phần tử theo điều kiện [thường dùng]\n",
    "b[b < 5]\n",
    "\n",
    "b.head()\n",
    "c.head()\n",
    "\n",
    "#cập nhật phần tử\n",
    "b[1] = 100\n",
    "b[0] = 55\n",
    "#thêm phần tử mới\n",
    "b['add'] = 99\n",
    "b['b'] = 10000\n",
    "b\n",
    "#xoá phần tử\n",
    "b.drop('add') #nếu không gán b = b.drop(\"add\") thì không xoá được vì drop tạo ra 1 bản sao không có label 'add' nên nếu không đè lên b lại thì drop không có tác dụng\n",
    "    # có thể test bằng câu id(b) và id(b.drop(\"add\"))\n",
    "b\n",
    "id(b) == id(b.drop(\"add\"))\n",
    "\n",
    "    # Câu đúng\n",
    "b = b.drop(\"add\")\n",
    "b\n",
    "    # Cách khác\n",
    "b.drop([0], inplace = True) # trong []  là label\n",
    "b\n",
    "#method gần như tương đương với drop đó là pop()\n",
    "d = b.pop(11)   #khác trả về giá trị ở label chỉ ra rồi xoá nó ra khỏi Series\n",
    "print('d =',d)\n",
    "b"
   ]
  },
  {
   "cell_type": "code",
   "execution_count": 172,
   "metadata": {},
   "outputs": [
    {
     "data": {
      "text/plain": "a    NaN\nb      1\nc    NaN\nd    NaN\n1     10\ne    NaN\nf    NaN\ng    NaN\nh    NaN\ndtype: object"
     },
     "execution_count": 172,
     "metadata": {},
     "output_type": "execute_result"
    }
   ],
   "source": [
    "#thêm,xoá nhiều phần tử\n",
    "s = pd.Series(index= ['a', 'b', 'c', 'd'])\n",
    "s[1] = 1\n",
    "s['1'] = 10\n",
    "h = s.append(pd.Series(index= ['e', 'f', 'g', 'h'], dtype = object)) #chỉ nhận Series, dataframe, \n",
    "h"
   ]
  },
  {
   "cell_type": "code",
   "execution_count": 156,
   "metadata": {},
   "outputs": [
    {
     "data": {
      "text/plain": "float"
     },
     "execution_count": 156,
     "metadata": {},
     "output_type": "execute_result"
    }
   ],
   "source": [
    "#tạo Series bằng randint\n",
    "\n",
    "# .size kích thước Series\n",
    "# .ndin cho biết chiều dài của Series\n",
    "# .empty kiểm tra Series có rổng hay không\n",
    "# NaN(Not a Number) chỉ dùng cho kiểu dữ liệu số, ám chỉ rổng\n",
    "type(float(\"nan\"))"
   ]
  },
  {
   "cell_type": "code",
   "execution_count": 9,
   "metadata": {},
   "outputs": [],
   "source": [
    "#2 dataframe\n",
    "country = {'English' : 'en', 'Vietnamese' : 'vn', 'French' : 'fr'}"
   ]
  },
  {
   "cell_type": "code",
   "execution_count": 5,
   "metadata": {},
   "outputs": [],
   "source": [
    "read_csv_file = pd.read_csv(\"pokemon_data.csv\", index_col= 0)"
   ]
  },
  {
   "cell_type": "code",
   "execution_count": 6,
   "metadata": {},
   "outputs": [
    {
     "data": {
      "text/html": "<div>\n<style scoped>\n    .dataframe tbody tr th:only-of-type {\n        vertical-align: middle;\n    }\n\n    .dataframe tbody tr th {\n        vertical-align: top;\n    }\n\n    .dataframe thead th {\n        text-align: right;\n    }\n</style>\n<table border=\"1\" class=\"dataframe\">\n  <thead>\n    <tr style=\"text-align: right;\">\n      <th></th>\n      <th>Name</th>\n      <th>Type 1</th>\n      <th>Type 2</th>\n      <th>HP</th>\n      <th>Attack</th>\n      <th>Defense</th>\n      <th>Sp. Atk</th>\n      <th>Sp. Def</th>\n      <th>Speed</th>\n      <th>Generation</th>\n      <th>Legendary</th>\n    </tr>\n    <tr>\n      <th>#</th>\n      <th></th>\n      <th></th>\n      <th></th>\n      <th></th>\n      <th></th>\n      <th></th>\n      <th></th>\n      <th></th>\n      <th></th>\n      <th></th>\n      <th></th>\n    </tr>\n  </thead>\n  <tbody>\n    <tr>\n      <th>714</th>\n      <td>Noibat</td>\n      <td>Flying</td>\n      <td>Dragon</td>\n      <td>40</td>\n      <td>30</td>\n      <td>35</td>\n      <td>45</td>\n      <td>40</td>\n      <td>55</td>\n      <td>6</td>\n      <td>False</td>\n    </tr>\n    <tr>\n      <th>715</th>\n      <td>Noivern</td>\n      <td>Flying</td>\n      <td>Dragon</td>\n      <td>85</td>\n      <td>70</td>\n      <td>80</td>\n      <td>97</td>\n      <td>80</td>\n      <td>123</td>\n      <td>6</td>\n      <td>False</td>\n    </tr>\n    <tr>\n      <th>716</th>\n      <td>Xerneas</td>\n      <td>Fairy</td>\n      <td>NaN</td>\n      <td>126</td>\n      <td>131</td>\n      <td>95</td>\n      <td>131</td>\n      <td>98</td>\n      <td>99</td>\n      <td>6</td>\n      <td>True</td>\n    </tr>\n    <tr>\n      <th>717</th>\n      <td>Yveltal</td>\n      <td>Dark</td>\n      <td>Flying</td>\n      <td>126</td>\n      <td>131</td>\n      <td>95</td>\n      <td>131</td>\n      <td>98</td>\n      <td>99</td>\n      <td>6</td>\n      <td>True</td>\n    </tr>\n    <tr>\n      <th>718</th>\n      <td>Zygarde50% Forme</td>\n      <td>Dragon</td>\n      <td>Ground</td>\n      <td>108</td>\n      <td>100</td>\n      <td>121</td>\n      <td>81</td>\n      <td>95</td>\n      <td>95</td>\n      <td>6</td>\n      <td>True</td>\n    </tr>\n    <tr>\n      <th>719</th>\n      <td>Diancie</td>\n      <td>Rock</td>\n      <td>Fairy</td>\n      <td>50</td>\n      <td>100</td>\n      <td>150</td>\n      <td>100</td>\n      <td>150</td>\n      <td>50</td>\n      <td>6</td>\n      <td>True</td>\n    </tr>\n    <tr>\n      <th>719</th>\n      <td>DiancieMega Diancie</td>\n      <td>Rock</td>\n      <td>Fairy</td>\n      <td>50</td>\n      <td>160</td>\n      <td>110</td>\n      <td>160</td>\n      <td>110</td>\n      <td>110</td>\n      <td>6</td>\n      <td>True</td>\n    </tr>\n    <tr>\n      <th>720</th>\n      <td>HoopaHoopa Confined</td>\n      <td>Psychic</td>\n      <td>Ghost</td>\n      <td>80</td>\n      <td>110</td>\n      <td>60</td>\n      <td>150</td>\n      <td>130</td>\n      <td>70</td>\n      <td>6</td>\n      <td>True</td>\n    </tr>\n    <tr>\n      <th>720</th>\n      <td>HoopaHoopa Unbound</td>\n      <td>Psychic</td>\n      <td>Dark</td>\n      <td>80</td>\n      <td>160</td>\n      <td>60</td>\n      <td>170</td>\n      <td>130</td>\n      <td>80</td>\n      <td>6</td>\n      <td>True</td>\n    </tr>\n    <tr>\n      <th>721</th>\n      <td>Volcanion</td>\n      <td>Fire</td>\n      <td>Water</td>\n      <td>80</td>\n      <td>110</td>\n      <td>120</td>\n      <td>130</td>\n      <td>90</td>\n      <td>70</td>\n      <td>6</td>\n      <td>True</td>\n    </tr>\n  </tbody>\n</table>\n</div>",
      "text/plain": "                    Name   Type 1  Type 2   HP  Attack  Defense  Sp. Atk  \\\n#                                                                          \n714               Noibat   Flying  Dragon   40      30       35       45   \n715              Noivern   Flying  Dragon   85      70       80       97   \n716              Xerneas    Fairy     NaN  126     131       95      131   \n717              Yveltal     Dark  Flying  126     131       95      131   \n718     Zygarde50% Forme   Dragon  Ground  108     100      121       81   \n719              Diancie     Rock   Fairy   50     100      150      100   \n719  DiancieMega Diancie     Rock   Fairy   50     160      110      160   \n720  HoopaHoopa Confined  Psychic   Ghost   80     110       60      150   \n720   HoopaHoopa Unbound  Psychic    Dark   80     160       60      170   \n721            Volcanion     Fire   Water   80     110      120      130   \n\n     Sp. Def  Speed  Generation  Legendary  \n#                                           \n714       40     55           6      False  \n715       80    123           6      False  \n716       98     99           6       True  \n717       98     99           6       True  \n718       95     95           6       True  \n719      150     50           6       True  \n719      110    110           6       True  \n720      130     70           6       True  \n720      130     80           6       True  \n721       90     70           6       True  "
     },
     "execution_count": 6,
     "metadata": {},
     "output_type": "execute_result"
    }
   ],
   "source": [
    "read_csv_file.tail(10)"
   ]
  },
  {
   "cell_type": "code",
   "execution_count": null,
   "metadata": {},
   "outputs": [],
   "source": [
    "#3 Panel"
   ]
  }
 ]
}