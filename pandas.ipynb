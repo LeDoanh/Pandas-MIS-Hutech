{
 "nbformat": 4,
 "nbformat_minor": 2,
 "metadata": {
  "language_info": {
   "name": "python",
   "codemirror_mode": {
    "name": "ipython",
    "version": 3
   }
  },
  "orig_nbformat": 2,
  "file_extension": ".py",
  "mimetype": "text/x-python",
  "name": "python",
  "npconvert_exporter": "python",
  "pygments_lexer": "ipython3",
  "version": 3
 },
 "cells": [
  {
   "cell_type": "code",
   "execution_count": 2,
   "metadata": {},
   "outputs": [],
   "source": [
    "import numpy as np\n",
    "import pandas as pd"
   ]
  },
  {
   "cell_type": "code",
   "execution_count": 40,
   "metadata": {},
   "outputs": [],
   "source": [
    "a = [i*i for i in range(10)]"
   ]
  },
  {
   "cell_type": "code",
   "execution_count": 41,
   "metadata": {},
   "outputs": [],
   "source": [
    "#Có 3 kiểu dữ liệu trong Pandas"
   ]
  },
  {
   "cell_type": "code",
   "execution_count": 137,
   "metadata": {},
   "outputs": [],
   "source": [
    "#1 Series\n",
    "b = pd.Series(data = a, index= [ 0, 1, 2, 3, 11, 5, 6, 7, 8, 10], dtype= int)\n",
    "c = pd.Series([1,2,3,4])\n",
    "#data: list, array, dictionary\n",
    "#index: tên cột\n",
    "#dtype: kiểu dữ liệu (không có python tự chọn) gồm có int64, int32, float64, datetime64, object\n",
    "#coppy True or False. Tạo bản coppy"
   ]
  },
  {
   "cell_type": "code",
   "execution_count": 138,
   "metadata": {},
   "outputs": [
    {
     "name": "stdout",
     "output_type": "stream",
     "text": "d = 16\n"
    },
    {
     "data": {
      "text/plain": "1       100\n2         4\n3         9\n5        25\n6        36\n7        49\n8        64\n10       81\nb     10000\ndtype: int64"
     },
     "execution_count": 138,
     "metadata": {},
     "output_type": "execute_result"
    }
   ],
   "source": [
    "b\n",
    "#lấy phần tử theo vị trí [không nên]\n",
    "b[1:4]\n",
    "#lấy phần tử theo label (label là duy nhất không trùng nhau) [thường dùng]\n",
    "b[[ 1, 2, 3 ]]\n",
    "#lấy phần tử theo điều kiện [thường dùng]\n",
    "b[b < 5]\n",
    "\n",
    "b.head()\n",
    "c.head()\n",
    "\n",
    "#cập nhật phần tử\n",
    "b[1] = 100\n",
    "b[0] = 55\n",
    "#thêm phần tử mới\n",
    "b['add'] = 99\n",
    "b['b'] = 10000\n",
    "b\n",
    "#xoá phần tử\n",
    "b.drop('add') #nếu không gán b = b.drop(\"add\") thì không xoá được vì drop tạo ra 1 bản sao không có label 'add' nên nếu không đè lên b lại thì drop không có tác dụng\n",
    "    # có thể test bằng câu id(b) và id(b.drop(\"add\"))\n",
    "b\n",
    "id(b) == id(b.drop(\"add\"))\n",
    "\n",
    "    # Câu đúng\n",
    "b = b.drop(\"add\")\n",
    "b\n",
    "    # Cách khác\n",
    "b.drop([0], inplace = True) # trong []  là label\n",
    "b\n",
    "#method gần như tương đương với drop đó là pop()\n",
    "d = b.pop(11)   #khác trả về giá trị ở label chỉ ra rồi xoá nó ra khỏi Series\n",
    "print('d =',d)\n",
    "b"
   ]
  },
  {
   "cell_type": "code",
   "execution_count": 172,
   "metadata": {},
   "outputs": [
    {
     "data": {
      "text/plain": "a    NaN\nb      1\nc    NaN\nd    NaN\n1     10\ne    NaN\nf    NaN\ng    NaN\nh    NaN\ndtype: object"
     },
     "execution_count": 172,
     "metadata": {},
     "output_type": "execute_result"
    }
   ],
   "source": [
    "#thêm,xoá nhiều phần tử\n",
    "s = pd.Series(index= ['a', 'b', 'c', 'd'])\n",
    "s[1] = 1\n",
    "s['1'] = 10\n",
    "h = s.append(pd.Series(index= ['e', 'f', 'g', 'h'], dtype = object)) #chỉ nhận Series, dataframe, \n",
    "h"
   ]
  },
  {
   "cell_type": "code",
   "execution_count": 156,
   "metadata": {},
   "outputs": [
    {
     "data": {
      "text/plain": "float"
     },
     "execution_count": 156,
     "metadata": {},
     "output_type": "execute_result"
    }
   ],
   "source": [
    "#tạo Series bằng randint\n",
    "\n",
    "# .size kích thước Series\n",
    "# .ndin cho biết chiều dài của Series\n",
    "# .empty kiểm tra Series có rổng hay không\n",
    "# NaN(Not a Number) chỉ dùng cho kiểu dữ liệu số, ám chỉ rổng\n",
    "type(float(\"nan\"))"
   ]
  },
  {
   "cell_type": "code",
   "execution_count": 9,
   "metadata": {},
   "outputs": [],
   "source": [
    "#2 dataframe\n",
    "country = {'English' : 'en', 'Vietnamese' : 'vn', 'French' : 'fr'}"
   ]
  },
  {
   "cell_type": "code",
   "execution_count": 65,
   "metadata": {},
   "outputs": [],
   "source": [
    "read_csv_file = pd.read_csv(\"pokemon_data.csv\", index_col= 0)"
   ]
  },
  {
   "cell_type": "code",
   "execution_count": 90,
   "metadata": {},
   "outputs": [
    {
     "data": {
      "text/html": "<div>\n<style scoped>\n    .dataframe tbody tr th:only-of-type {\n        vertical-align: middle;\n    }\n\n    .dataframe tbody tr th {\n        vertical-align: top;\n    }\n\n    .dataframe thead th {\n        text-align: right;\n    }\n</style>\n<table border=\"1\" class=\"dataframe\">\n  <thead>\n    <tr style=\"text-align: right;\">\n      <th></th>\n      <th>Name</th>\n      <th>Type 1</th>\n      <th>Type 2</th>\n      <th>HP</th>\n      <th>Attack</th>\n      <th>Defense</th>\n      <th>Sp. Atk</th>\n      <th>Sp. Def</th>\n      <th>Speed</th>\n      <th>Generation</th>\n      <th>Legendary</th>\n    </tr>\n    <tr>\n      <th>#</th>\n      <th></th>\n      <th></th>\n      <th></th>\n      <th></th>\n      <th></th>\n      <th></th>\n      <th></th>\n      <th></th>\n      <th></th>\n      <th></th>\n      <th></th>\n    </tr>\n  </thead>\n  <tbody>\n    <tr>\n      <th>1</th>\n      <td>Bulbasaur</td>\n      <td>Grass</td>\n      <td>Poison</td>\n      <td>45</td>\n      <td>49</td>\n      <td>49</td>\n      <td>65</td>\n      <td>65</td>\n      <td>45</td>\n      <td>1</td>\n      <td>False</td>\n    </tr>\n    <tr>\n      <th>2</th>\n      <td>Ivysaur</td>\n      <td>Grass</td>\n      <td>Poison</td>\n      <td>60</td>\n      <td>62</td>\n      <td>63</td>\n      <td>80</td>\n      <td>80</td>\n      <td>60</td>\n      <td>1</td>\n      <td>False</td>\n    </tr>\n    <tr>\n      <th>3</th>\n      <td>Venusaur</td>\n      <td>Grass</td>\n      <td>Poison</td>\n      <td>80</td>\n      <td>82</td>\n      <td>83</td>\n      <td>100</td>\n      <td>100</td>\n      <td>80</td>\n      <td>1</td>\n      <td>False</td>\n    </tr>\n    <tr>\n      <th>3</th>\n      <td>VenusaurMega Venusaur</td>\n      <td>Grass</td>\n      <td>Poison</td>\n      <td>80</td>\n      <td>100</td>\n      <td>123</td>\n      <td>122</td>\n      <td>120</td>\n      <td>80</td>\n      <td>1</td>\n      <td>False</td>\n    </tr>\n    <tr>\n      <th>4</th>\n      <td>Charmander</td>\n      <td>Fire</td>\n      <td>NaN</td>\n      <td>39</td>\n      <td>52</td>\n      <td>43</td>\n      <td>60</td>\n      <td>50</td>\n      <td>65</td>\n      <td>1</td>\n      <td>False</td>\n    </tr>\n    <tr>\n      <th>5</th>\n      <td>Charmeleon</td>\n      <td>Fire</td>\n      <td>NaN</td>\n      <td>58</td>\n      <td>64</td>\n      <td>58</td>\n      <td>80</td>\n      <td>65</td>\n      <td>80</td>\n      <td>1</td>\n      <td>False</td>\n    </tr>\n    <tr>\n      <th>6</th>\n      <td>Charizard</td>\n      <td>Fire</td>\n      <td>Flying</td>\n      <td>78</td>\n      <td>84</td>\n      <td>78</td>\n      <td>109</td>\n      <td>85</td>\n      <td>100</td>\n      <td>1</td>\n      <td>False</td>\n    </tr>\n    <tr>\n      <th>6</th>\n      <td>CharizardMega Charizard X</td>\n      <td>Fire</td>\n      <td>Dragon</td>\n      <td>78</td>\n      <td>130</td>\n      <td>111</td>\n      <td>130</td>\n      <td>85</td>\n      <td>100</td>\n      <td>1</td>\n      <td>False</td>\n    </tr>\n    <tr>\n      <th>6</th>\n      <td>CharizardMega Charizard Y</td>\n      <td>Fire</td>\n      <td>Flying</td>\n      <td>78</td>\n      <td>104</td>\n      <td>78</td>\n      <td>159</td>\n      <td>115</td>\n      <td>100</td>\n      <td>1</td>\n      <td>False</td>\n    </tr>\n    <tr>\n      <th>7</th>\n      <td>Squirtle</td>\n      <td>Water</td>\n      <td>NaN</td>\n      <td>44</td>\n      <td>48</td>\n      <td>65</td>\n      <td>50</td>\n      <td>64</td>\n      <td>43</td>\n      <td>1</td>\n      <td>False</td>\n    </tr>\n  </tbody>\n</table>\n</div>",
      "text/plain": "                        Name Type 1  Type 2  HP  Attack  Defense  Sp. Atk  \\\n#                                                                           \n1                  Bulbasaur  Grass  Poison  45      49       49       65   \n2                    Ivysaur  Grass  Poison  60      62       63       80   \n3                   Venusaur  Grass  Poison  80      82       83      100   \n3      VenusaurMega Venusaur  Grass  Poison  80     100      123      122   \n4                 Charmander   Fire     NaN  39      52       43       60   \n5                 Charmeleon   Fire     NaN  58      64       58       80   \n6                  Charizard   Fire  Flying  78      84       78      109   \n6  CharizardMega Charizard X   Fire  Dragon  78     130      111      130   \n6  CharizardMega Charizard Y   Fire  Flying  78     104       78      159   \n7                   Squirtle  Water     NaN  44      48       65       50   \n\n   Sp. Def  Speed  Generation  Legendary  \n#                                         \n1       65     45           1      False  \n2       80     60           1      False  \n3      100     80           1      False  \n3      120     80           1      False  \n4       50     65           1      False  \n5       65     80           1      False  \n6       85    100           1      False  \n6       85    100           1      False  \n6      115    100           1      False  \n7       64     43           1      False  "
     },
     "execution_count": 90,
     "metadata": {},
     "output_type": "execute_result"
    }
   ],
   "source": [
    "read_csv_file.head(10)"
   ]
  },
  {
   "cell_type": "code",
   "execution_count": null,
   "metadata": {},
   "outputs": [],
   "source": [
    "#3 Panel"
   ]
  }
 ]
}