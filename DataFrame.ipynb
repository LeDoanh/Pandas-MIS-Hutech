{
 "nbformat": 4,
 "nbformat_minor": 2,
 "metadata": {
  "language_info": {
   "name": "python",
   "codemirror_mode": {
    "name": "ipython",
    "version": 3
   },
   "version": "3.7.3"
  },
  "orig_nbformat": 2,
  "file_extension": ".py",
  "mimetype": "text/x-python",
  "name": "python",
  "npconvert_exporter": "python",
  "pygments_lexer": "ipython3",
  "version": 3
 },
 "cells": [
  {
   "cell_type": "code",
   "execution_count": 1,
   "metadata": {},
   "outputs": [],
   "source": [
    "import pandas as pd\n",
    "import numpy as np"
   ]
  },
  {
   "cell_type": "code",
   "execution_count": 19,
   "metadata": {},
   "outputs": [
    {
     "data": {
      "text/html": "<div>\n<style scoped>\n    .dataframe tbody tr th:only-of-type {\n        vertical-align: middle;\n    }\n\n    .dataframe tbody tr th {\n        vertical-align: top;\n    }\n\n    .dataframe thead th {\n        text-align: right;\n    }\n</style>\n<table border=\"1\" class=\"dataframe\">\n  <thead>\n    <tr style=\"text-align: right;\">\n      <th></th>\n      <th>Name</th>\n      <th>Type 1</th>\n      <th>Type 2</th>\n      <th>HP</th>\n      <th>Attack</th>\n      <th>Defense</th>\n      <th>Sp. Atk</th>\n      <th>Sp. Def</th>\n      <th>Speed</th>\n      <th>Generation</th>\n      <th>Legendary</th>\n    </tr>\n    <tr>\n      <th>#</th>\n      <th></th>\n      <th></th>\n      <th></th>\n      <th></th>\n      <th></th>\n      <th></th>\n      <th></th>\n      <th></th>\n      <th></th>\n      <th></th>\n      <th></th>\n    </tr>\n  </thead>\n  <tbody>\n    <tr>\n      <th>1</th>\n      <td>Bulbasaur</td>\n      <td>Grass</td>\n      <td>Poison</td>\n      <td>45</td>\n      <td>49</td>\n      <td>49</td>\n      <td>65</td>\n      <td>65</td>\n      <td>45</td>\n      <td>1</td>\n      <td>False</td>\n    </tr>\n    <tr>\n      <th>2</th>\n      <td>Ivysaur</td>\n      <td>Grass</td>\n      <td>Poison</td>\n      <td>60</td>\n      <td>62</td>\n      <td>63</td>\n      <td>80</td>\n      <td>80</td>\n      <td>60</td>\n      <td>1</td>\n      <td>False</td>\n    </tr>\n    <tr>\n      <th>3</th>\n      <td>Venusaur</td>\n      <td>Grass</td>\n      <td>Poison</td>\n      <td>80</td>\n      <td>82</td>\n      <td>83</td>\n      <td>100</td>\n      <td>100</td>\n      <td>80</td>\n      <td>1</td>\n      <td>False</td>\n    </tr>\n    <tr>\n      <th>3</th>\n      <td>VenusaurMega Venusaur</td>\n      <td>Grass</td>\n      <td>Poison</td>\n      <td>80</td>\n      <td>100</td>\n      <td>123</td>\n      <td>122</td>\n      <td>120</td>\n      <td>80</td>\n      <td>1</td>\n      <td>False</td>\n    </tr>\n    <tr>\n      <th>4</th>\n      <td>Charmander</td>\n      <td>Fire</td>\n      <td>NaN</td>\n      <td>39</td>\n      <td>52</td>\n      <td>43</td>\n      <td>60</td>\n      <td>50</td>\n      <td>65</td>\n      <td>1</td>\n      <td>False</td>\n    </tr>\n    <tr>\n      <th>5</th>\n      <td>Charmeleon</td>\n      <td>Fire</td>\n      <td>NaN</td>\n      <td>58</td>\n      <td>64</td>\n      <td>58</td>\n      <td>80</td>\n      <td>65</td>\n      <td>80</td>\n      <td>1</td>\n      <td>False</td>\n    </tr>\n    <tr>\n      <th>6</th>\n      <td>Charizard</td>\n      <td>Fire</td>\n      <td>Flying</td>\n      <td>78</td>\n      <td>84</td>\n      <td>78</td>\n      <td>109</td>\n      <td>85</td>\n      <td>100</td>\n      <td>1</td>\n      <td>False</td>\n    </tr>\n    <tr>\n      <th>6</th>\n      <td>CharizardMega Charizard X</td>\n      <td>Fire</td>\n      <td>Dragon</td>\n      <td>78</td>\n      <td>130</td>\n      <td>111</td>\n      <td>130</td>\n      <td>85</td>\n      <td>100</td>\n      <td>1</td>\n      <td>False</td>\n    </tr>\n    <tr>\n      <th>6</th>\n      <td>CharizardMega Charizard Y</td>\n      <td>Fire</td>\n      <td>Flying</td>\n      <td>78</td>\n      <td>104</td>\n      <td>78</td>\n      <td>159</td>\n      <td>115</td>\n      <td>100</td>\n      <td>1</td>\n      <td>False</td>\n    </tr>\n    <tr>\n      <th>7</th>\n      <td>Squirtle</td>\n      <td>Water</td>\n      <td>NaN</td>\n      <td>44</td>\n      <td>48</td>\n      <td>65</td>\n      <td>50</td>\n      <td>64</td>\n      <td>43</td>\n      <td>1</td>\n      <td>False</td>\n    </tr>\n  </tbody>\n</table>\n</div>",
      "text/plain": "                        Name Type 1  Type 2  HP  Attack  Defense  Sp. Atk  \\\n#                                                                           \n1                  Bulbasaur  Grass  Poison  45      49       49       65   \n2                    Ivysaur  Grass  Poison  60      62       63       80   \n3                   Venusaur  Grass  Poison  80      82       83      100   \n3      VenusaurMega Venusaur  Grass  Poison  80     100      123      122   \n4                 Charmander   Fire     NaN  39      52       43       60   \n5                 Charmeleon   Fire     NaN  58      64       58       80   \n6                  Charizard   Fire  Flying  78      84       78      109   \n6  CharizardMega Charizard X   Fire  Dragon  78     130      111      130   \n6  CharizardMega Charizard Y   Fire  Flying  78     104       78      159   \n7                   Squirtle  Water     NaN  44      48       65       50   \n\n   Sp. Def  Speed  Generation  Legendary  \n#                                         \n1       65     45           1      False  \n2       80     60           1      False  \n3      100     80           1      False  \n3      120     80           1      False  \n4       50     65           1      False  \n5       65     80           1      False  \n6       85    100           1      False  \n6       85    100           1      False  \n6      115    100           1      False  \n7       64     43           1      False  "
     },
     "execution_count": 19,
     "metadata": {},
     "output_type": "execute_result"
    }
   ],
   "source": [
    "#Data frame: mảng 2 chiều có gắn nhãn(đối tượng chính của môn học)\n",
    "'''\n",
    "Gồm nhiều Series cũng chung label ghép lại với nhau\n",
    "'''\n",
    "pkm = pd.read_csv('pokemon_data.csv', index_col= 0) \n",
    "pkm.head(10)"
   ]
  },
  {
   "cell_type": "code",
   "execution_count": 38,
   "metadata": {},
   "outputs": [
    {
     "data": {
      "text/html": "<div>\n<style scoped>\n    .dataframe tbody tr th:only-of-type {\n        vertical-align: middle;\n    }\n\n    .dataframe tbody tr th {\n        vertical-align: top;\n    }\n\n    .dataframe thead th {\n        text-align: right;\n    }\n</style>\n<table border=\"1\" class=\"dataframe\">\n  <thead>\n    <tr style=\"text-align: right;\">\n      <th></th>\n      <th>ID</th>\n      <th>Product</th>\n      <th>Price</th>\n    </tr>\n  </thead>\n  <tbody>\n    <tr>\n      <th>0</th>\n      <td>1</td>\n      <td>Apple</td>\n      <td>10</td>\n    </tr>\n    <tr>\n      <th>1</th>\n      <td>2</td>\n      <td>Banana</td>\n      <td>9</td>\n    </tr>\n    <tr>\n      <th>2</th>\n      <td>3</td>\n      <td>Cherry</td>\n      <td>8</td>\n    </tr>\n  </tbody>\n</table>\n</div>",
      "text/plain": "   ID Product  Price\n0   1   Apple     10\n1   2  Banana      9\n2   3  Cherry      8"
     },
     "execution_count": 38,
     "metadata": {},
     "output_type": "execute_result"
    }
   ],
   "source": [
    "pd.DataFrame({'ID' : [1 , 2, 3],'Product' : ['Apple', 'Banana', 'Cherry'], 'Price' : [10, 9, 8]}) #không chỉ ra index vs column tự sinh ra"
   ]
  },
  {
   "cell_type": "code",
   "metadata": {},
   "outputs": [],
   "source": [
    "pd.DataFrame(data, index, columns)"
   ]
  },
  {
   "cell_type": "code",
   "execution_count": 39,
   "metadata": {},
   "outputs": [
    {
     "data": {
      "text/html": "<div>\n<style scoped>\n    .dataframe tbody tr th:only-of-type {\n        vertical-align: middle;\n    }\n\n    .dataframe tbody tr th {\n        vertical-align: top;\n    }\n\n    .dataframe thead th {\n        text-align: right;\n    }\n</style>\n<table border=\"1\" class=\"dataframe\">\n  <thead>\n    <tr style=\"text-align: right;\">\n      <th></th>\n      <th>0</th>\n      <th>1</th>\n    </tr>\n  </thead>\n  <tbody>\n    <tr>\n      <th>0</th>\n      <td>apple</td>\n      <td>10</td>\n    </tr>\n    <tr>\n      <th>1</th>\n      <td>banana</td>\n      <td>25</td>\n    </tr>\n    <tr>\n      <th>2</th>\n      <td>cherry</td>\n      <td>40</td>\n    </tr>\n  </tbody>\n</table>\n</div>",
      "text/plain": "        0   1\n0   apple  10\n1  banana  25\n2  cherry  40"
     },
     "execution_count": 39,
     "metadata": {},
     "output_type": "execute_result"
    }
   ],
   "source": [
    "#list của list\n",
    "ll = [\n",
    "    ['apple', 10],\n",
    "    ['banana', 25],\n",
    "    ['cherry', 40]\n",
    "]\n",
    "pd.DataFrame(ll)"
   ]
  },
  {
   "cell_type": "code",
   "execution_count": 40,
   "metadata": {},
   "outputs": [
    {
     "data": {
      "text/html": "<div>\n<style scoped>\n    .dataframe tbody tr th:only-of-type {\n        vertical-align: middle;\n    }\n\n    .dataframe tbody tr th {\n        vertical-align: top;\n    }\n\n    .dataframe thead th {\n        text-align: right;\n    }\n</style>\n<table border=\"1\" class=\"dataframe\">\n  <thead>\n    <tr style=\"text-align: right;\">\n      <th></th>\n      <th>name</th>\n      <th>price</th>\n    </tr>\n  </thead>\n  <tbody>\n    <tr>\n      <th>a</th>\n      <td>apple</td>\n      <td>10</td>\n    </tr>\n    <tr>\n      <th>b</th>\n      <td>banana</td>\n      <td>25</td>\n    </tr>\n    <tr>\n      <th>c</th>\n      <td>cherry</td>\n      <td>40</td>\n    </tr>\n  </tbody>\n</table>\n</div>",
      "text/plain": "     name  price\na   apple     10\nb  banana     25\nc  cherry     40"
     },
     "execution_count": 40,
     "metadata": {},
     "output_type": "execute_result"
    }
   ],
   "source": [
    "pd.DataFrame(data = ll, index= ['a', 'b' ,'c'], columns= ['name', 'price'])"
   ]
  },
  {
   "cell_type": "code",
   "execution_count": 41,
   "metadata": {},
   "outputs": [
    {
     "data": {
      "text/html": "<div>\n<style scoped>\n    .dataframe tbody tr th:only-of-type {\n        vertical-align: middle;\n    }\n\n    .dataframe tbody tr th {\n        vertical-align: top;\n    }\n\n    .dataframe thead th {\n        text-align: right;\n    }\n</style>\n<table border=\"1\" class=\"dataframe\">\n  <thead>\n    <tr style=\"text-align: right;\">\n      <th></th>\n      <th>0</th>\n      <th>1</th>\n      <th>2</th>\n    </tr>\n  </thead>\n  <tbody>\n    <tr>\n      <th>0</th>\n      <td>apple</td>\n      <td>10</td>\n      <td>5.0</td>\n    </tr>\n    <tr>\n      <th>1</th>\n      <td>banana</td>\n      <td>25</td>\n      <td>NaN</td>\n    </tr>\n    <tr>\n      <th>2</th>\n      <td>cherry</td>\n      <td>40</td>\n      <td>NaN</td>\n    </tr>\n  </tbody>\n</table>\n</div>",
      "text/plain": "        0   1    2\n0   apple  10  5.0\n1  banana  25  NaN\n2  cherry  40  NaN"
     },
     "execution_count": 41,
     "metadata": {},
     "output_type": "execute_result"
    }
   ],
   "source": [
    "ll1 = [\n",
    "    ['apple', 10, 5],\n",
    "    ['banana', 25],\n",
    "    ['cherry', 40]\n",
    "]\n",
    "pd.DataFrame(ll1)"
   ]
  },
  {
   "cell_type": "code",
   "execution_count": 42,
   "metadata": {},
   "outputs": [
    {
     "data": {
      "text/html": "<div>\n<style scoped>\n    .dataframe tbody tr th:only-of-type {\n        vertical-align: middle;\n    }\n\n    .dataframe tbody tr th {\n        vertical-align: top;\n    }\n\n    .dataframe thead th {\n        text-align: right;\n    }\n</style>\n<table border=\"1\" class=\"dataframe\">\n  <thead>\n    <tr style=\"text-align: right;\">\n      <th></th>\n      <th>col1</th>\n      <th>col2</th>\n      <th>col3</th>\n    </tr>\n  </thead>\n  <tbody>\n    <tr>\n      <th>0</th>\n      <td>apple</td>\n      <td>1</td>\n      <td>2019-10-02</td>\n    </tr>\n    <tr>\n      <th>1</th>\n      <td>banana</td>\n      <td>2</td>\n      <td>2019-11-01</td>\n    </tr>\n  </tbody>\n</table>\n</div>",
      "text/plain": "     col1  col2        col3\n0   apple     1  2019-10-02\n1  banana     2  2019-11-01"
     },
     "execution_count": 42,
     "metadata": {},
     "output_type": "execute_result"
    }
   ],
   "source": [
    "#dictionary: \n",
    "'''phải có độ dài phần tử bằng nhau'''\n",
    "d1 = {\n",
    "    'col1' : ['apple', 'banana'],\n",
    "    'col2' : [1, 2],\n",
    "    'col3' : ['2019-10-02', '2019-11-01']\n",
    "}\n",
    "pd.DataFrame(d1)"
   ]
  },
  {
   "cell_type": "code",
   "execution_count": 43,
   "metadata": {},
   "outputs": [
    {
     "ename": "ValueError",
     "evalue": "arrays must all be same length",
     "output_type": "error",
     "traceback": [
      "\u001b[1;31m---------------------------------------------------------------------------\u001b[0m",
      "\u001b[1;31mValueError\u001b[0m                                Traceback (most recent call last)",
      "\u001b[1;32m<ipython-input-43-8f795ad21531>\u001b[0m in \u001b[0;36m<module>\u001b[1;34m\u001b[0m\n\u001b[0;32m      4\u001b[0m     \u001b[1;34m'col3'\u001b[0m \u001b[1;33m:\u001b[0m \u001b[1;33m[\u001b[0m\u001b[1;34m'2019-10-02'\u001b[0m\u001b[1;33m,\u001b[0m \u001b[1;34m'2019-11-01'\u001b[0m\u001b[1;33m]\u001b[0m\u001b[1;33m\u001b[0m\u001b[1;33m\u001b[0m\u001b[0m\n\u001b[0;32m      5\u001b[0m }\n\u001b[1;32m----> 6\u001b[1;33m \u001b[0mpd\u001b[0m\u001b[1;33m.\u001b[0m\u001b[0mDataFrame\u001b[0m\u001b[1;33m(\u001b[0m\u001b[0md2\u001b[0m\u001b[1;33m)\u001b[0m\u001b[1;33m\u001b[0m\u001b[1;33m\u001b[0m\u001b[0m\n\u001b[0m",
      "\u001b[1;32m~\\Anaconda3\\lib\\site-packages\\pandas\\core\\frame.py\u001b[0m in \u001b[0;36m__init__\u001b[1;34m(self, data, index, columns, dtype, copy)\u001b[0m\n\u001b[0;32m    390\u001b[0m                                  dtype=dtype, copy=copy)\n\u001b[0;32m    391\u001b[0m         \u001b[1;32melif\u001b[0m \u001b[0misinstance\u001b[0m\u001b[1;33m(\u001b[0m\u001b[0mdata\u001b[0m\u001b[1;33m,\u001b[0m \u001b[0mdict\u001b[0m\u001b[1;33m)\u001b[0m\u001b[1;33m:\u001b[0m\u001b[1;33m\u001b[0m\u001b[1;33m\u001b[0m\u001b[0m\n\u001b[1;32m--> 392\u001b[1;33m             \u001b[0mmgr\u001b[0m \u001b[1;33m=\u001b[0m \u001b[0minit_dict\u001b[0m\u001b[1;33m(\u001b[0m\u001b[0mdata\u001b[0m\u001b[1;33m,\u001b[0m \u001b[0mindex\u001b[0m\u001b[1;33m,\u001b[0m \u001b[0mcolumns\u001b[0m\u001b[1;33m,\u001b[0m \u001b[0mdtype\u001b[0m\u001b[1;33m=\u001b[0m\u001b[0mdtype\u001b[0m\u001b[1;33m)\u001b[0m\u001b[1;33m\u001b[0m\u001b[1;33m\u001b[0m\u001b[0m\n\u001b[0m\u001b[0;32m    393\u001b[0m         \u001b[1;32melif\u001b[0m \u001b[0misinstance\u001b[0m\u001b[1;33m(\u001b[0m\u001b[0mdata\u001b[0m\u001b[1;33m,\u001b[0m \u001b[0mma\u001b[0m\u001b[1;33m.\u001b[0m\u001b[0mMaskedArray\u001b[0m\u001b[1;33m)\u001b[0m\u001b[1;33m:\u001b[0m\u001b[1;33m\u001b[0m\u001b[1;33m\u001b[0m\u001b[0m\n\u001b[0;32m    394\u001b[0m             \u001b[1;32mimport\u001b[0m \u001b[0mnumpy\u001b[0m\u001b[1;33m.\u001b[0m\u001b[0mma\u001b[0m\u001b[1;33m.\u001b[0m\u001b[0mmrecords\u001b[0m \u001b[1;32mas\u001b[0m \u001b[0mmrecords\u001b[0m\u001b[1;33m\u001b[0m\u001b[1;33m\u001b[0m\u001b[0m\n",
      "\u001b[1;32m~\\Anaconda3\\lib\\site-packages\\pandas\\core\\internals\\construction.py\u001b[0m in \u001b[0;36minit_dict\u001b[1;34m(data, index, columns, dtype)\u001b[0m\n\u001b[0;32m    210\u001b[0m         \u001b[0marrays\u001b[0m \u001b[1;33m=\u001b[0m \u001b[1;33m[\u001b[0m\u001b[0mdata\u001b[0m\u001b[1;33m[\u001b[0m\u001b[0mk\u001b[0m\u001b[1;33m]\u001b[0m \u001b[1;32mfor\u001b[0m \u001b[0mk\u001b[0m \u001b[1;32min\u001b[0m \u001b[0mkeys\u001b[0m\u001b[1;33m]\u001b[0m\u001b[1;33m\u001b[0m\u001b[1;33m\u001b[0m\u001b[0m\n\u001b[0;32m    211\u001b[0m \u001b[1;33m\u001b[0m\u001b[0m\n\u001b[1;32m--> 212\u001b[1;33m     \u001b[1;32mreturn\u001b[0m \u001b[0marrays_to_mgr\u001b[0m\u001b[1;33m(\u001b[0m\u001b[0marrays\u001b[0m\u001b[1;33m,\u001b[0m \u001b[0mdata_names\u001b[0m\u001b[1;33m,\u001b[0m \u001b[0mindex\u001b[0m\u001b[1;33m,\u001b[0m \u001b[0mcolumns\u001b[0m\u001b[1;33m,\u001b[0m \u001b[0mdtype\u001b[0m\u001b[1;33m=\u001b[0m\u001b[0mdtype\u001b[0m\u001b[1;33m)\u001b[0m\u001b[1;33m\u001b[0m\u001b[1;33m\u001b[0m\u001b[0m\n\u001b[0m\u001b[0;32m    213\u001b[0m \u001b[1;33m\u001b[0m\u001b[0m\n\u001b[0;32m    214\u001b[0m \u001b[1;33m\u001b[0m\u001b[0m\n",
      "\u001b[1;32m~\\Anaconda3\\lib\\site-packages\\pandas\\core\\internals\\construction.py\u001b[0m in \u001b[0;36marrays_to_mgr\u001b[1;34m(arrays, arr_names, index, columns, dtype)\u001b[0m\n\u001b[0;32m     49\u001b[0m     \u001b[1;31m# figure out the index, if necessary\u001b[0m\u001b[1;33m\u001b[0m\u001b[1;33m\u001b[0m\u001b[1;33m\u001b[0m\u001b[0m\n\u001b[0;32m     50\u001b[0m     \u001b[1;32mif\u001b[0m \u001b[0mindex\u001b[0m \u001b[1;32mis\u001b[0m \u001b[1;32mNone\u001b[0m\u001b[1;33m:\u001b[0m\u001b[1;33m\u001b[0m\u001b[1;33m\u001b[0m\u001b[0m\n\u001b[1;32m---> 51\u001b[1;33m         \u001b[0mindex\u001b[0m \u001b[1;33m=\u001b[0m \u001b[0mextract_index\u001b[0m\u001b[1;33m(\u001b[0m\u001b[0marrays\u001b[0m\u001b[1;33m)\u001b[0m\u001b[1;33m\u001b[0m\u001b[1;33m\u001b[0m\u001b[0m\n\u001b[0m\u001b[0;32m     52\u001b[0m     \u001b[1;32melse\u001b[0m\u001b[1;33m:\u001b[0m\u001b[1;33m\u001b[0m\u001b[1;33m\u001b[0m\u001b[0m\n\u001b[0;32m     53\u001b[0m         \u001b[0mindex\u001b[0m \u001b[1;33m=\u001b[0m \u001b[0mensure_index\u001b[0m\u001b[1;33m(\u001b[0m\u001b[0mindex\u001b[0m\u001b[1;33m)\u001b[0m\u001b[1;33m\u001b[0m\u001b[1;33m\u001b[0m\u001b[0m\n",
      "\u001b[1;32m~\\Anaconda3\\lib\\site-packages\\pandas\\core\\internals\\construction.py\u001b[0m in \u001b[0;36mextract_index\u001b[1;34m(data)\u001b[0m\n\u001b[0;32m    315\u001b[0m             \u001b[0mlengths\u001b[0m \u001b[1;33m=\u001b[0m \u001b[0mlist\u001b[0m\u001b[1;33m(\u001b[0m\u001b[0mset\u001b[0m\u001b[1;33m(\u001b[0m\u001b[0mraw_lengths\u001b[0m\u001b[1;33m)\u001b[0m\u001b[1;33m)\u001b[0m\u001b[1;33m\u001b[0m\u001b[1;33m\u001b[0m\u001b[0m\n\u001b[0;32m    316\u001b[0m             \u001b[1;32mif\u001b[0m \u001b[0mlen\u001b[0m\u001b[1;33m(\u001b[0m\u001b[0mlengths\u001b[0m\u001b[1;33m)\u001b[0m \u001b[1;33m>\u001b[0m \u001b[1;36m1\u001b[0m\u001b[1;33m:\u001b[0m\u001b[1;33m\u001b[0m\u001b[1;33m\u001b[0m\u001b[0m\n\u001b[1;32m--> 317\u001b[1;33m                 \u001b[1;32mraise\u001b[0m \u001b[0mValueError\u001b[0m\u001b[1;33m(\u001b[0m\u001b[1;34m'arrays must all be same length'\u001b[0m\u001b[1;33m)\u001b[0m\u001b[1;33m\u001b[0m\u001b[1;33m\u001b[0m\u001b[0m\n\u001b[0m\u001b[0;32m    318\u001b[0m \u001b[1;33m\u001b[0m\u001b[0m\n\u001b[0;32m    319\u001b[0m             \u001b[1;32mif\u001b[0m \u001b[0mhave_dicts\u001b[0m\u001b[1;33m:\u001b[0m\u001b[1;33m\u001b[0m\u001b[1;33m\u001b[0m\u001b[0m\n",
      "\u001b[1;31mValueError\u001b[0m: arrays must all be same length"
     ]
    }
   ],
   "source": [
    "d2 = {\n",
    "    'col1' : ['apple', 'banana', 'cherry'],\n",
    "    'col2' : [1, 2],\n",
    "    'col3' : ['2019-10-02', '2019-11-01']\n",
    "}\n",
    "pd.DataFrame(d2)"
   ]
  },
  {
   "cell_type": "code",
   "execution_count": 44,
   "metadata": {},
   "outputs": [
    {
     "data": {
      "text/html": "<div>\n<style scoped>\n    .dataframe tbody tr th:only-of-type {\n        vertical-align: middle;\n    }\n\n    .dataframe tbody tr th {\n        vertical-align: top;\n    }\n\n    .dataframe thead th {\n        text-align: right;\n    }\n</style>\n<table border=\"1\" class=\"dataframe\">\n  <thead>\n    <tr style=\"text-align: right;\">\n      <th></th>\n      <th>Close</th>\n      <th>Ticker</th>\n      <th>date</th>\n    </tr>\n  </thead>\n  <tbody>\n    <tr>\n      <th>0</th>\n      <td>100</td>\n      <td>AAA</td>\n      <td>2019-10-01</td>\n    </tr>\n    <tr>\n      <th>1</th>\n      <td>200</td>\n      <td>BBB</td>\n      <td>2019-10-01</td>\n    </tr>\n  </tbody>\n</table>\n</div>",
      "text/plain": "   Close Ticker        date\n0    100    AAA  2019-10-01\n1    200    BBB  2019-10-01"
     },
     "execution_count": 44,
     "metadata": {},
     "output_type": "execute_result"
    }
   ],
   "source": [
    "#tạo list mà mỗi phần tử là một dictionary\n",
    "ld = [\n",
    "    {'date' : '2019-10-01', 'Ticker' : 'AAA', 'Close' : 100},\n",
    "    {'date' : '2019-10-01', 'Ticker' : 'BBB', 'Close' : 200}\n",
    "]\n",
    "pd.DataFrame(ld)"
   ]
  },
  {
   "cell_type": "code",
   "execution_count": 45,
   "metadata": {},
   "outputs": [
    {
     "data": {
      "text/html": "<div>\n<style scoped>\n    .dataframe tbody tr th:only-of-type {\n        vertical-align: middle;\n    }\n\n    .dataframe tbody tr th {\n        vertical-align: top;\n    }\n\n    .dataframe thead th {\n        text-align: right;\n    }\n</style>\n<table border=\"1\" class=\"dataframe\">\n  <thead>\n    <tr style=\"text-align: right;\">\n      <th></th>\n      <th>Close</th>\n      <th>Ticker</th>\n      <th>date</th>\n      <th>open</th>\n    </tr>\n  </thead>\n  <tbody>\n    <tr>\n      <th>0</th>\n      <td>100</td>\n      <td>AAA</td>\n      <td>2019-10-01</td>\n      <td>NaN</td>\n    </tr>\n    <tr>\n      <th>1</th>\n      <td>200</td>\n      <td>BBB</td>\n      <td>2019-10-01</td>\n      <td>205.0</td>\n    </tr>\n  </tbody>\n</table>\n</div>",
      "text/plain": "   Close Ticker        date   open\n0    100    AAA  2019-10-01    NaN\n1    200    BBB  2019-10-01  205.0"
     },
     "execution_count": 45,
     "metadata": {},
     "output_type": "execute_result"
    }
   ],
   "source": [
    "ld2 = [\n",
    "    {'date' : '2019-10-01', 'Ticker' : 'AAA', 'Close' : 100},\n",
    "    {'date' : '2019-10-01', 'Ticker' : 'BBB', 'open' : 205, 'Close' : 200}\n",
    "]\n",
    "pd.DataFrame(ld2)"
   ]
  },
  {
   "cell_type": "code",
   "execution_count": 46,
   "metadata": {},
   "outputs": [
    {
     "data": {
      "text/plain": "True"
     },
     "execution_count": 46,
     "metadata": {},
     "output_type": "execute_result"
    }
   ],
   "source": [
    "pd.DataFrame(columns= ['a', 'b', 'c']).empty"
   ]
  },
  {
   "cell_type": "code",
   "execution_count": 47,
   "metadata": {},
   "outputs": [
    {
     "data": {
      "text/plain": "True"
     },
     "execution_count": 47,
     "metadata": {},
     "output_type": "execute_result"
    }
   ],
   "source": [
    "pd.DataFrame(index= ['a', 'b', 'c']).empty"
   ]
  },
  {
   "cell_type": "code",
   "execution_count": 48,
   "metadata": {},
   "outputs": [
    {
     "data": {
      "text/plain": "False"
     },
     "execution_count": 48,
     "metadata": {},
     "output_type": "execute_result"
    }
   ],
   "source": [
    "pd.DataFrame(columns= ['a', 'b', 'c'], index= ['a', 'b', 'c']).empty"
   ]
  },
  {
   "cell_type": "code",
   "execution_count": 49,
   "metadata": {},
   "outputs": [
    {
     "data": {
      "text/html": "<div>\n<style scoped>\n    .dataframe tbody tr th:only-of-type {\n        vertical-align: middle;\n    }\n\n    .dataframe tbody tr th {\n        vertical-align: top;\n    }\n\n    .dataframe thead th {\n        text-align: right;\n    }\n</style>\n<table border=\"1\" class=\"dataframe\">\n  <thead>\n    <tr style=\"text-align: right;\">\n      <th></th>\n    </tr>\n  </thead>\n  <tbody>\n  </tbody>\n</table>\n</div>",
      "text/plain": "Empty DataFrame\nColumns: []\nIndex: []"
     },
     "execution_count": 49,
     "metadata": {},
     "output_type": "execute_result"
    }
   ],
   "source": [
    "pd.DataFrame()"
   ]
  },
  {
   "cell_type": "code",
   "execution_count": 24,
   "metadata": {},
   "outputs": [
    {
     "data": {
      "text/html": "<div>\n<style scoped>\n    .dataframe tbody tr th:only-of-type {\n        vertical-align: middle;\n    }\n\n    .dataframe tbody tr th {\n        vertical-align: top;\n    }\n\n    .dataframe thead th {\n        text-align: right;\n    }\n</style>\n<table border=\"1\" class=\"dataframe\">\n  <thead>\n    <tr style=\"text-align: right;\">\n      <th></th>\n      <th>Date</th>\n      <th>Name</th>\n      <th>Số lượng</th>\n    </tr>\n  </thead>\n  <tbody>\n    <tr>\n      <th>a</th>\n      <td>2019-11-20</td>\n      <td>cherry</td>\n      <td>77</td>\n    </tr>\n    <tr>\n      <th>b</th>\n      <td>2019-11-21</td>\n      <td>apple</td>\n      <td>23</td>\n    </tr>\n    <tr>\n      <th>c</th>\n      <td>2019-11-22</td>\n      <td>cherry</td>\n      <td>22</td>\n    </tr>\n    <tr>\n      <th>d</th>\n      <td>2019-11-23</td>\n      <td>banana</td>\n      <td>79</td>\n    </tr>\n    <tr>\n      <th>e</th>\n      <td>2019-11-24</td>\n      <td>apple</td>\n      <td>72</td>\n    </tr>\n    <tr>\n      <th>f</th>\n      <td>2019-11-25</td>\n      <td>banana</td>\n      <td>90</td>\n    </tr>\n    <tr>\n      <th>g</th>\n      <td>2019-11-26</td>\n      <td>cherry</td>\n      <td>45</td>\n    </tr>\n    <tr>\n      <th>h</th>\n      <td>2019-11-27</td>\n      <td>apple</td>\n      <td>78</td>\n    </tr>\n    <tr>\n      <th>i</th>\n      <td>2019-11-28</td>\n      <td>apple</td>\n      <td>21</td>\n    </tr>\n    <tr>\n      <th>j</th>\n      <td>2019-11-29</td>\n      <td>banana</td>\n      <td>92</td>\n    </tr>\n  </tbody>\n</table>\n</div>",
      "text/plain": "        Date    Name  Số lượng\na 2019-11-20  cherry        77\nb 2019-11-21   apple        23\nc 2019-11-22  cherry        22\nd 2019-11-23  banana        79\ne 2019-11-24   apple        72\nf 2019-11-25  banana        90\ng 2019-11-26  cherry        45\nh 2019-11-27   apple        78\ni 2019-11-28   apple        21\nj 2019-11-29  banana        92"
     },
     "execution_count": 24,
     "metadata": {},
     "output_type": "execute_result"
    }
   ],
   "source": [
    "#dataframe mẫu:\n",
    "Dict_ex = {\n",
    "    'Date' : pd.date_range(start = '2019-11-20', periods = 10, freq = 'D'),\n",
    "    'Name' : np.random.choice(['apple', 'banana', 'cherry'], size = 10),\n",
    "    'Số lượng' : np.random.randint(100, size = 10)\n",
    "}\n",
    "DF_ex = pd.DataFrame(Dict_ex, index= list('abcdefghij'))\n",
    "DF_ex"
   ]
  },
  {
   "cell_type": "code",
   "execution_count": 52,
   "metadata": {},
   "outputs": [
    {
     "data": {
      "text/plain": "' \\nMột số thuộc tính cơ bản:\\n.size: trả về số lượng phần tử dataframe\\n.shape: trả về kích thước dataframe cới định dạng(cột, hàng)\\n.ndim trả về số chiều của dataframe. vì dataframe là mảng 2 chiều, nên kết quả trả về luôn là 2\\n.empty: trả về True or False nếu dataframe là rỗng\\n.dtypes: trả về kiểu dữ liệu từng cột\\n.columns: trả về danh sách các cột của dataframe\\n.index: trả về index\\n.axes: kết hợp columns and index: trả về 1 list với dòng trước cột sau\\n'"
     },
     "execution_count": 52,
     "metadata": {},
     "output_type": "execute_result"
    }
   ],
   "source": [
    "''' \n",
    "Một số thuộc tính cơ bản:\n",
    ".size: trả về số lượng phần tử dataframe\n",
    ".shape: trả về kích thước dataframe cới định dạng(cột, hàng)\n",
    ".ndim trả về số chiều của dataframe. vì dataframe là mảng 2 chiều, nên kết quả trả về luôn là 2\n",
    ".empty: trả về True or False nếu dataframe là rỗng\n",
    ".dtypes: trả về kiểu dữ liệu từng cột\n",
    ".columns: trả về danh sách các cột của dataframe\n",
    ".index: trả về index\n",
    ".axes: kết hợp columns and index: trả về 1 list với dòng trước cột sau\n",
    "'''"
   ]
  },
  {
   "cell_type": "code",
   "metadata": {},
   "outputs": [],
   "source": [
    "#đổi tên:\n",
    "method: .rename()\n",
    "<tên_DF>.rename(index = {<tên_dòng_cũ> : <tên_dòng_mới>})"
   ]
  },
  {
   "cell_type": "code",
   "execution_count": 53,
   "metadata": {},
   "outputs": [
    {
     "data": {
      "text/html": "<div>\n<style scoped>\n    .dataframe tbody tr th:only-of-type {\n        vertical-align: middle;\n    }\n\n    .dataframe tbody tr th {\n        vertical-align: top;\n    }\n\n    .dataframe thead th {\n        text-align: right;\n    }\n</style>\n<table border=\"1\" class=\"dataframe\">\n  <thead>\n    <tr style=\"text-align: right;\">\n      <th></th>\n      <th>date</th>\n      <th>col2</th>\n      <th>col3</th>\n    </tr>\n  </thead>\n  <tbody>\n    <tr>\n      <th>a</th>\n      <td>2019-11-20</td>\n      <td>apple</td>\n      <td>89</td>\n    </tr>\n    <tr>\n      <th>b</th>\n      <td>2019-11-21</td>\n      <td>cherry</td>\n      <td>9</td>\n    </tr>\n    <tr>\n      <th>c</th>\n      <td>2019-11-22</td>\n      <td>banana</td>\n      <td>67</td>\n    </tr>\n    <tr>\n      <th>d</th>\n      <td>2019-11-23</td>\n      <td>cherry</td>\n      <td>43</td>\n    </tr>\n    <tr>\n      <th>e</th>\n      <td>2019-11-24</td>\n      <td>banana</td>\n      <td>98</td>\n    </tr>\n    <tr>\n      <th>f</th>\n      <td>2019-11-25</td>\n      <td>cherry</td>\n      <td>47</td>\n    </tr>\n    <tr>\n      <th>g</th>\n      <td>2019-11-26</td>\n      <td>apple</td>\n      <td>50</td>\n    </tr>\n    <tr>\n      <th>h</th>\n      <td>2019-11-27</td>\n      <td>apple</td>\n      <td>65</td>\n    </tr>\n    <tr>\n      <th>i</th>\n      <td>2019-11-28</td>\n      <td>cherry</td>\n      <td>83</td>\n    </tr>\n    <tr>\n      <th>j</th>\n      <td>2019-11-29</td>\n      <td>apple</td>\n      <td>19</td>\n    </tr>\n  </tbody>\n</table>\n</div>",
      "text/plain": "        date    col2  col3\na 2019-11-20   apple    89\nb 2019-11-21  cherry     9\nc 2019-11-22  banana    67\nd 2019-11-23  cherry    43\ne 2019-11-24  banana    98\nf 2019-11-25  cherry    47\ng 2019-11-26   apple    50\nh 2019-11-27   apple    65\ni 2019-11-28  cherry    83\nj 2019-11-29   apple    19"
     },
     "execution_count": 53,
     "metadata": {},
     "output_type": "execute_result"
    }
   ],
   "source": [
    "#Ex đổi col1 thành date\n",
    "DF_ex.rename(columns= {'col1' : 'date'})\n",
    "'''nếu không có inplace = True thì rename sẽ tạo df mới chứ không đối tên trong df cũ'''\n",
    "DF_ex = DF_ex.rename(columns= {'col1' : 'date'})\n",
    "#hoặc\n",
    "DF_ex.rename(columns= {'col1' : 'date'}, inplace = True)"
   ]
  },
  {
   "cell_type": "code",
   "execution_count": null,
   "metadata": {},
   "outputs": [],
   "source": [
    "#đổi tên nhanh hàng loạt\n",
    "<tên_DF>.columns = <Danh_sách_tên_cột_mới>\n",
    "<tên_DF>.index = <Danh_sách_tên_dòng_mới>"
   ]
  },
  {
   "cell_type": "code",
   "execution_count": 56,
   "metadata": {},
   "outputs": [
    {
     "data": {
      "text/html": "<div>\n<style scoped>\n    .dataframe tbody tr th:only-of-type {\n        vertical-align: middle;\n    }\n\n    .dataframe tbody tr th {\n        vertical-align: top;\n    }\n\n    .dataframe thead th {\n        text-align: right;\n    }\n</style>\n<table border=\"1\" class=\"dataframe\">\n  <thead>\n    <tr style=\"text-align: right;\">\n      <th></th>\n      <th>Date</th>\n      <th>Product</th>\n      <th>Quantity</th>\n    </tr>\n  </thead>\n  <tbody>\n    <tr>\n      <th>a</th>\n      <td>2019-11-20</td>\n      <td>apple</td>\n      <td>89</td>\n    </tr>\n    <tr>\n      <th>b</th>\n      <td>2019-11-21</td>\n      <td>cherry</td>\n      <td>9</td>\n    </tr>\n    <tr>\n      <th>c</th>\n      <td>2019-11-22</td>\n      <td>banana</td>\n      <td>67</td>\n    </tr>\n    <tr>\n      <th>d</th>\n      <td>2019-11-23</td>\n      <td>cherry</td>\n      <td>43</td>\n    </tr>\n    <tr>\n      <th>e</th>\n      <td>2019-11-24</td>\n      <td>banana</td>\n      <td>98</td>\n    </tr>\n    <tr>\n      <th>f</th>\n      <td>2019-11-25</td>\n      <td>cherry</td>\n      <td>47</td>\n    </tr>\n    <tr>\n      <th>g</th>\n      <td>2019-11-26</td>\n      <td>apple</td>\n      <td>50</td>\n    </tr>\n    <tr>\n      <th>h</th>\n      <td>2019-11-27</td>\n      <td>apple</td>\n      <td>65</td>\n    </tr>\n    <tr>\n      <th>i</th>\n      <td>2019-11-28</td>\n      <td>cherry</td>\n      <td>83</td>\n    </tr>\n    <tr>\n      <th>j</th>\n      <td>2019-11-29</td>\n      <td>apple</td>\n      <td>19</td>\n    </tr>\n  </tbody>\n</table>\n</div>",
      "text/plain": "        Date Product  Quantity\na 2019-11-20   apple        89\nb 2019-11-21  cherry         9\nc 2019-11-22  banana        67\nd 2019-11-23  cherry        43\ne 2019-11-24  banana        98\nf 2019-11-25  cherry        47\ng 2019-11-26   apple        50\nh 2019-11-27   apple        65\ni 2019-11-28  cherry        83\nj 2019-11-29   apple        19"
     },
     "execution_count": 56,
     "metadata": {},
     "output_type": "execute_result"
    }
   ],
   "source": [
    "DF_ex2 = DF_ex.copy() # nếu không .copy mà gán bằng thì khi đổi ex2 thì ex cũng có thể bị đổi\n",
    "DF_ex2.columns = ['Date', 'Product', 'Quantity']\n",
    "DF_ex2"
   ]
  },
  {
   "cell_type": "code",
   "execution_count": 57,
   "metadata": {},
   "outputs": [
    {
     "data": {
      "text/plain": "a   2019-11-20\nb   2019-11-21\nc   2019-11-22\nd   2019-11-23\ne   2019-11-24\nf   2019-11-25\ng   2019-11-26\nh   2019-11-27\ni   2019-11-28\nj   2019-11-29\nName: col1, dtype: datetime64[ns]"
     },
     "execution_count": 57,
     "metadata": {},
     "output_type": "execute_result"
    }
   ],
   "source": [
    "#Trích xuất dữ liệu theo cột\n",
    "#trích xuất 1 cột\n",
    "DF_ex['col1'] # DF_ex.col1\n"
   ]
  },
  {
   "cell_type": "code",
   "execution_count": 62,
   "metadata": {},
   "outputs": [
    {
     "data": {
      "text/plain": "pandas.core.series.Series"
     },
     "execution_count": 62,
     "metadata": {},
     "output_type": "execute_result"
    }
   ],
   "source": [
    "type(DF_ex['col1'])"
   ]
  },
  {
   "cell_type": "code",
   "execution_count": 63,
   "metadata": {},
   "outputs": [
    {
     "data": {
      "text/html": "<div>\n<style scoped>\n    .dataframe tbody tr th:only-of-type {\n        vertical-align: middle;\n    }\n\n    .dataframe tbody tr th {\n        vertical-align: top;\n    }\n\n    .dataframe thead th {\n        text-align: right;\n    }\n</style>\n<table border=\"1\" class=\"dataframe\">\n  <thead>\n    <tr style=\"text-align: right;\">\n      <th></th>\n      <th>col1</th>\n      <th>col2</th>\n    </tr>\n  </thead>\n  <tbody>\n    <tr>\n      <th>a</th>\n      <td>2019-11-20</td>\n      <td>apple</td>\n    </tr>\n    <tr>\n      <th>b</th>\n      <td>2019-11-21</td>\n      <td>cherry</td>\n    </tr>\n    <tr>\n      <th>c</th>\n      <td>2019-11-22</td>\n      <td>banana</td>\n    </tr>\n    <tr>\n      <th>d</th>\n      <td>2019-11-23</td>\n      <td>cherry</td>\n    </tr>\n    <tr>\n      <th>e</th>\n      <td>2019-11-24</td>\n      <td>banana</td>\n    </tr>\n    <tr>\n      <th>f</th>\n      <td>2019-11-25</td>\n      <td>cherry</td>\n    </tr>\n    <tr>\n      <th>g</th>\n      <td>2019-11-26</td>\n      <td>apple</td>\n    </tr>\n    <tr>\n      <th>h</th>\n      <td>2019-11-27</td>\n      <td>apple</td>\n    </tr>\n    <tr>\n      <th>i</th>\n      <td>2019-11-28</td>\n      <td>cherry</td>\n    </tr>\n    <tr>\n      <th>j</th>\n      <td>2019-11-29</td>\n      <td>apple</td>\n    </tr>\n  </tbody>\n</table>\n</div>",
      "text/plain": "        col1    col2\na 2019-11-20   apple\nb 2019-11-21  cherry\nc 2019-11-22  banana\nd 2019-11-23  cherry\ne 2019-11-24  banana\nf 2019-11-25  cherry\ng 2019-11-26   apple\nh 2019-11-27   apple\ni 2019-11-28  cherry\nj 2019-11-29   apple"
     },
     "execution_count": 63,
     "metadata": {},
     "output_type": "execute_result"
    }
   ],
   "source": [
    "#tích xuất nhiều cột\n",
    "DF_ex[['col1', 'col2']]"
   ]
  },
  {
   "cell_type": "code",
   "execution_count": 65,
   "metadata": {},
   "outputs": [
    {
     "data": {
      "text/plain": "pandas.core.frame.DataFrame"
     },
     "execution_count": 65,
     "metadata": {},
     "output_type": "execute_result"
    }
   ],
   "source": [
    "type(DF_ex[['col1']])"
   ]
  },
  {
   "cell_type": "code",
   "execution_count": 67,
   "metadata": {},
   "outputs": [
    {
     "name": "stdout",
     "output_type": "stream",
     "text": "1\n2\n"
    }
   ],
   "source": [
    "#note:\n",
    "print(DF_ex['col1'].ndim) #Series\n",
    "print(DF_ex[['col1']].ndim) #DataFrame"
   ]
  },
  {
   "cell_type": "code",
   "execution_count": null,
   "metadata": {},
   "outputs": [],
   "source": [
    "#trích xuất dữ liệu theo dòng:\n",
    "DF_ex['a'] #lỗi cách này dùng trích xuất cột nên không thể trích xuất dòng\n",
    "Method: .loc and . iloc\n",
    ".loc[]: lấy dòng theo label\n",
    ".iloc[]: lấy dữ liệu theo số thứ tự bắt đầu từ 0"
   ]
  },
  {
   "cell_type": "code",
   "execution_count": 70,
   "metadata": {},
   "outputs": [
    {
     "data": {
      "text/plain": "col1    2019-11-20 00:00:00\ncol2                  apple\ncol3                     89\nName: a, dtype: object"
     },
     "execution_count": 70,
     "metadata": {},
     "output_type": "execute_result"
    }
   ],
   "source": [
    "#ex:\n",
    "DF_ex.loc['a'] #Series"
   ]
  },
  {
   "cell_type": "code",
   "execution_count": 71,
   "metadata": {},
   "outputs": [
    {
     "data": {
      "text/plain": "col1    2019-11-22 00:00:00\ncol2                 banana\ncol3                     67\nName: c, dtype: object"
     },
     "execution_count": 71,
     "metadata": {},
     "output_type": "execute_result"
    }
   ],
   "source": [
    "DF_ex.iloc[2] #Series"
   ]
  },
  {
   "cell_type": "code",
   "execution_count": 76,
   "metadata": {},
   "outputs": [
    {
     "data": {
      "text/html": "<div>\n<style scoped>\n    .dataframe tbody tr th:only-of-type {\n        vertical-align: middle;\n    }\n\n    .dataframe tbody tr th {\n        vertical-align: top;\n    }\n\n    .dataframe thead th {\n        text-align: right;\n    }\n</style>\n<table border=\"1\" class=\"dataframe\">\n  <thead>\n    <tr style=\"text-align: right;\">\n      <th></th>\n      <th>col1</th>\n      <th>col2</th>\n      <th>col3</th>\n    </tr>\n  </thead>\n  <tbody>\n    <tr>\n      <th>a</th>\n      <td>2019-11-20</td>\n      <td>apple</td>\n      <td>89</td>\n    </tr>\n    <tr>\n      <th>c</th>\n      <td>2019-11-22</td>\n      <td>banana</td>\n      <td>67</td>\n    </tr>\n  </tbody>\n</table>\n</div>",
      "text/plain": "        col1    col2  col3\na 2019-11-20   apple    89\nc 2019-11-22  banana    67"
     },
     "execution_count": 76,
     "metadata": {},
     "output_type": "execute_result"
    }
   ],
   "source": [
    "#trích xuất nhiều dòng:\n",
    "DF_ex.loc[['a', 'c']] #DataFrame"
   ]
  },
  {
   "cell_type": "code",
   "execution_count": 77,
   "metadata": {},
   "outputs": [
    {
     "data": {
      "text/html": "<div>\n<style scoped>\n    .dataframe tbody tr th:only-of-type {\n        vertical-align: middle;\n    }\n\n    .dataframe tbody tr th {\n        vertical-align: top;\n    }\n\n    .dataframe thead th {\n        text-align: right;\n    }\n</style>\n<table border=\"1\" class=\"dataframe\">\n  <thead>\n    <tr style=\"text-align: right;\">\n      <th></th>\n      <th>col1</th>\n      <th>col2</th>\n      <th>col3</th>\n    </tr>\n  </thead>\n  <tbody>\n    <tr>\n      <th>a</th>\n      <td>2019-11-20</td>\n      <td>apple</td>\n      <td>89</td>\n    </tr>\n    <tr>\n      <th>d</th>\n      <td>2019-11-23</td>\n      <td>cherry</td>\n      <td>43</td>\n    </tr>\n    <tr>\n      <th>g</th>\n      <td>2019-11-26</td>\n      <td>apple</td>\n      <td>50</td>\n    </tr>\n    <tr>\n      <th>j</th>\n      <td>2019-11-29</td>\n      <td>apple</td>\n      <td>19</td>\n    </tr>\n  </tbody>\n</table>\n</div>",
      "text/plain": "        col1    col2  col3\na 2019-11-20   apple    89\nd 2019-11-23  cherry    43\ng 2019-11-26   apple    50\nj 2019-11-29   apple    19"
     },
     "execution_count": 77,
     "metadata": {},
     "output_type": "execute_result"
    }
   ],
   "source": [
    "DF_ex.iloc[0: 10 : 3] #DataFrame [vị trí bắt đầu : vị trí kết thúc : step]"
   ]
  },
  {
   "cell_type": "code",
   "execution_count": null,
   "metadata": {},
   "outputs": [],
   "source": [
    "#Trích xuất theo cả dòng lẫn cột\n",
    "method: .loc\n",
    "<tên_df>.loc[<dòng_cần_lấy>, <cột cần lấy>]\n",
    "tương tự .iloc[]"
   ]
  },
  {
   "cell_type": "code",
   "execution_count": 96,
   "metadata": {},
   "outputs": [
    {
     "data": {
      "text/html": "<div>\n<style scoped>\n    .dataframe tbody tr th:only-of-type {\n        vertical-align: middle;\n    }\n\n    .dataframe tbody tr th {\n        vertical-align: top;\n    }\n\n    .dataframe thead th {\n        text-align: right;\n    }\n</style>\n<table border=\"1\" class=\"dataframe\">\n  <thead>\n    <tr style=\"text-align: right;\">\n      <th></th>\n      <th>col2</th>\n      <th>col3</th>\n    </tr>\n  </thead>\n  <tbody>\n    <tr>\n      <th>a</th>\n      <td>apple</td>\n      <td>89</td>\n    </tr>\n    <tr>\n      <th>b</th>\n      <td>cherry</td>\n      <td>9</td>\n    </tr>\n    <tr>\n      <th>c</th>\n      <td>banana</td>\n      <td>67</td>\n    </tr>\n    <tr>\n      <th>d</th>\n      <td>cherry</td>\n      <td>43</td>\n    </tr>\n    <tr>\n      <th>e</th>\n      <td>banana</td>\n      <td>98</td>\n    </tr>\n    <tr>\n      <th>f</th>\n      <td>cherry</td>\n      <td>47</td>\n    </tr>\n    <tr>\n      <th>g</th>\n      <td>apple</td>\n      <td>50</td>\n    </tr>\n    <tr>\n      <th>h</th>\n      <td>apple</td>\n      <td>65</td>\n    </tr>\n    <tr>\n      <th>i</th>\n      <td>cherry</td>\n      <td>83</td>\n    </tr>\n    <tr>\n      <th>j</th>\n      <td>apple</td>\n      <td>19</td>\n    </tr>\n  </tbody>\n</table>\n</div>",
      "text/plain": "     col2  col3\na   apple    89\nb  cherry     9\nc  banana    67\nd  cherry    43\ne  banana    98\nf  cherry    47\ng   apple    50\nh   apple    65\ni  cherry    83\nj   apple    19"
     },
     "execution_count": 96,
     "metadata": {},
     "output_type": "execute_result"
    }
   ],
   "source": [
    "DF_ex.loc[['a', 'c'], ['col2', 'col3']]\n",
    "DF_ex.loc[ :, ['col2', 'col3']]"
   ]
  },
  {
   "cell_type": "code",
   "execution_count": 98,
   "metadata": {},
   "outputs": [
    {
     "data": {
      "text/html": "<div>\n<style scoped>\n    .dataframe tbody tr th:only-of-type {\n        vertical-align: middle;\n    }\n\n    .dataframe tbody tr th {\n        vertical-align: top;\n    }\n\n    .dataframe thead th {\n        text-align: right;\n    }\n</style>\n<table border=\"1\" class=\"dataframe\">\n  <thead>\n    <tr style=\"text-align: right;\">\n      <th></th>\n      <th>col2</th>\n      <th>col3</th>\n    </tr>\n  </thead>\n  <tbody>\n    <tr>\n      <th>a</th>\n      <td>apple</td>\n      <td>89</td>\n    </tr>\n    <tr>\n      <th>b</th>\n      <td>cherry</td>\n      <td>9</td>\n    </tr>\n    <tr>\n      <th>c</th>\n      <td>banana</td>\n      <td>67</td>\n    </tr>\n    <tr>\n      <th>d</th>\n      <td>cherry</td>\n      <td>43</td>\n    </tr>\n    <tr>\n      <th>e</th>\n      <td>banana</td>\n      <td>98</td>\n    </tr>\n    <tr>\n      <th>f</th>\n      <td>cherry</td>\n      <td>47</td>\n    </tr>\n    <tr>\n      <th>g</th>\n      <td>apple</td>\n      <td>50</td>\n    </tr>\n    <tr>\n      <th>h</th>\n      <td>apple</td>\n      <td>65</td>\n    </tr>\n    <tr>\n      <th>i</th>\n      <td>cherry</td>\n      <td>83</td>\n    </tr>\n    <tr>\n      <th>j</th>\n      <td>apple</td>\n      <td>19</td>\n    </tr>\n  </tbody>\n</table>\n</div>",
      "text/plain": "     col2  col3\na   apple    89\nb  cherry     9\nc  banana    67\nd  cherry    43\ne  banana    98\nf  cherry    47\ng   apple    50\nh   apple    65\ni  cherry    83\nj   apple    19"
     },
     "execution_count": 98,
     "metadata": {},
     "output_type": "execute_result"
    }
   ],
   "source": [
    "DF_ex.iloc[[0 , 5], [1, 2]]\n",
    "DF_ex.iloc[ :, [1, 2]]"
   ]
  },
  {
   "cell_type": "code",
   "execution_count": null,
   "metadata": {},
   "outputs": [],
   "source": [
    "trích xuất có điều kiện\n",
    "<tên_df>[điều_kiện]"
   ]
  },
  {
   "cell_type": "code",
   "execution_count": 99,
   "metadata": {},
   "outputs": [
    {
     "data": {
      "text/html": "<div>\n<style scoped>\n    .dataframe tbody tr th:only-of-type {\n        vertical-align: middle;\n    }\n\n    .dataframe tbody tr th {\n        vertical-align: top;\n    }\n\n    .dataframe thead th {\n        text-align: right;\n    }\n</style>\n<table border=\"1\" class=\"dataframe\">\n  <thead>\n    <tr style=\"text-align: right;\">\n      <th></th>\n      <th>col1</th>\n      <th>col2</th>\n      <th>col3</th>\n    </tr>\n  </thead>\n  <tbody>\n    <tr>\n      <th>a</th>\n      <td>2019-11-20</td>\n      <td>apple</td>\n      <td>89</td>\n    </tr>\n    <tr>\n      <th>g</th>\n      <td>2019-11-26</td>\n      <td>apple</td>\n      <td>50</td>\n    </tr>\n    <tr>\n      <th>h</th>\n      <td>2019-11-27</td>\n      <td>apple</td>\n      <td>65</td>\n    </tr>\n    <tr>\n      <th>j</th>\n      <td>2019-11-29</td>\n      <td>apple</td>\n      <td>19</td>\n    </tr>\n  </tbody>\n</table>\n</div>",
      "text/plain": "        col1   col2  col3\na 2019-11-20  apple    89\ng 2019-11-26  apple    50\nh 2019-11-27  apple    65\nj 2019-11-29  apple    19"
     },
     "execution_count": 99,
     "metadata": {},
     "output_type": "execute_result"
    }
   ],
   "source": [
    "DF_ex[DF_ex.col2 == 'apple'] #điều kiện đơn"
   ]
  },
  {
   "cell_type": "code",
   "execution_count": null,
   "metadata": {},
   "outputs": [],
   "source": [
    "#điều kiện kép\n",
    "&: and\n",
    "|: or\n",
    "và điều kiện phải trong ngoặc"
   ]
  },
  {
   "cell_type": "code",
   "execution_count": 100,
   "metadata": {},
   "outputs": [
    {
     "data": {
      "text/html": "<div>\n<style scoped>\n    .dataframe tbody tr th:only-of-type {\n        vertical-align: middle;\n    }\n\n    .dataframe tbody tr th {\n        vertical-align: top;\n    }\n\n    .dataframe thead th {\n        text-align: right;\n    }\n</style>\n<table border=\"1\" class=\"dataframe\">\n  <thead>\n    <tr style=\"text-align: right;\">\n      <th></th>\n      <th>col1</th>\n      <th>col2</th>\n      <th>col3</th>\n    </tr>\n  </thead>\n  <tbody>\n    <tr>\n      <th>a</th>\n      <td>2019-11-20</td>\n      <td>apple</td>\n      <td>89</td>\n    </tr>\n  </tbody>\n</table>\n</div>",
      "text/plain": "        col1   col2  col3\na 2019-11-20  apple    89"
     },
     "execution_count": 100,
     "metadata": {},
     "output_type": "execute_result"
    }
   ],
   "source": [
    "DF_ex[(DF_ex.col2 == 'apple') & ((DF_ex.col1 == '2019-11-20') | (DF_ex.col2 == 'banana'))]"
   ]
  },
  {
   "cell_type": "code",
   "execution_count": 4,
   "metadata": {},
   "outputs": [],
   "source": [
    "df1 = pd.read_csv('Study/Week1/pokemon_data.csv', index_col =0)\n",
    "df1.reset_index(inplace = True)"
   ]
  },
  {
   "cell_type": "code",
   "execution_count": 3,
   "metadata": {},
   "outputs": [
    {
     "data": {
      "text/html": "<div>\n<style scoped>\n    .dataframe tbody tr th:only-of-type {\n        vertical-align: middle;\n    }\n\n    .dataframe tbody tr th {\n        vertical-align: top;\n    }\n\n    .dataframe thead th {\n        text-align: right;\n    }\n</style>\n<table border=\"1\" class=\"dataframe\">\n  <thead>\n    <tr style=\"text-align: right;\">\n      <th></th>\n      <th>0</th>\n      <th>1</th>\n    </tr>\n  </thead>\n  <tbody>\n    <tr>\n      <th>0</th>\n      <td>apple</td>\n      <td>10</td>\n    </tr>\n    <tr>\n      <th>1</th>\n      <td>banana</td>\n      <td>25</td>\n    </tr>\n    <tr>\n      <th>2</th>\n      <td>cherry</td>\n      <td>40</td>\n    </tr>\n  </tbody>\n</table>\n</div>",
      "text/plain": "        0   1\n0   apple  10\n1  banana  25\n2  cherry  40"
     },
     "execution_count": 3,
     "metadata": {},
     "output_type": "execute_result"
    }
   ],
   "source": [
    "#Thay đổi index <dataframe>.index = <index mới>\n",
    "df2 = pd.DataFrame([['apple', 10],\n",
    "    ['banana', 25],\n",
    "    ['cherry', 40]])\n",
    "df2"
   ]
  },
  {
   "cell_type": "code",
   "execution_count": null,
   "metadata": {},
   "outputs": [],
   "source": [
    "#đặt một cột thành index: .set_index()\n",
    "df2.set_index()\n",
    "#đặt lại index: .reset_index()\n",
    "df2.reset_index()\n",
    "#tham số drop báo có giữ lại index cũ hay không nếu False thì tạo index là 1 cột mới giữ index cũ, True xoá index cũ đi thay bằng index mới\n",
    "#sắp xếp lại theo thứ tự index: .sort_index()\n",
    "df1.sort_index(ascending=) #ascending= False sắp xếp giảm dần\n",
    "#biến đổi dataframe bằng .reindex(): Toạ ra df mới có cấu trúc: tên dòng đi theo thứ tự được chỉ ra, tên cột đi theo thứ tự được chỉ ra, giá trị tương ứng trong df gốc nếu không có thì dùng giá trị Null(NaN)"
   ]
  },
  {
   "cell_type": "code",
   "execution_count": 5,
   "metadata": {},
   "outputs": [
    {
     "data": {
      "text/html": "<div>\n<style scoped>\n    .dataframe tbody tr th:only-of-type {\n        vertical-align: middle;\n    }\n\n    .dataframe tbody tr th {\n        vertical-align: top;\n    }\n\n    .dataframe thead th {\n        text-align: right;\n    }\n</style>\n<table border=\"1\" class=\"dataframe\">\n  <thead>\n    <tr style=\"text-align: right;\">\n      <th></th>\n      <th>HP</th>\n      <th>Name</th>\n    </tr>\n  </thead>\n  <tbody>\n    <tr>\n      <th>1</th>\n      <td>60</td>\n      <td>Ivysaur</td>\n    </tr>\n    <tr>\n      <th>2</th>\n      <td>80</td>\n      <td>Venusaur</td>\n    </tr>\n    <tr>\n      <th>3</th>\n      <td>80</td>\n      <td>VenusaurMega Venusaur</td>\n    </tr>\n  </tbody>\n</table>\n</div>",
      "text/plain": "   HP                   Name\n1  60                Ivysaur\n2  80               Venusaur\n3  80  VenusaurMega Venusaur"
     },
     "execution_count": 5,
     "metadata": {},
     "output_type": "execute_result"
    }
   ],
   "source": [
    "df1.reindex(columns= ['HP', 'Name'], index= [1, 2, 3])"
   ]
  },
  {
   "cell_type": "code",
   "execution_count": 8,
   "metadata": {},
   "outputs": [
    {
     "data": {
      "text/html": "<div>\n<style scoped>\n    .dataframe tbody tr th:only-of-type {\n        vertical-align: middle;\n    }\n\n    .dataframe tbody tr th {\n        vertical-align: top;\n    }\n\n    .dataframe thead th {\n        text-align: right;\n    }\n</style>\n<table border=\"1\" class=\"dataframe\">\n  <thead>\n    <tr style=\"text-align: right;\">\n      <th></th>\n    </tr>\n  </thead>\n  <tbody>\n    <tr>\n      <th>a</th>\n    </tr>\n    <tr>\n      <th>b</th>\n    </tr>\n    <tr>\n      <th>c</th>\n    </tr>\n    <tr>\n      <th>d</th>\n    </tr>\n    <tr>\n      <th>e</th>\n    </tr>\n    <tr>\n      <th>f</th>\n    </tr>\n    <tr>\n      <th>g</th>\n    </tr>\n    <tr>\n      <th>h</th>\n    </tr>\n    <tr>\n      <th>i</th>\n    </tr>\n    <tr>\n      <th>j</th>\n    </tr>\n    <tr>\n      <th>0</th>\n    </tr>\n    <tr>\n      <th>1</th>\n    </tr>\n    <tr>\n      <th>2</th>\n    </tr>\n  </tbody>\n</table>\n</div>",
      "text/plain": "Empty DataFrame\nColumns: []\nIndex: [a, b, c, d, e, f, g, h, i, j, 0, 1, 2]"
     },
     "execution_count": 8,
     "metadata": {},
     "output_type": "execute_result"
    }
   ],
   "source": [
    "pd.concat([DF_ex, df2], join = 'inner')"
   ]
  },
  {
   "cell_type": "code",
   "execution_count": 16,
   "metadata": {},
   "outputs": [
    {
     "data": {
      "text/html": "<div>\n<style scoped>\n    .dataframe tbody tr th:only-of-type {\n        vertical-align: middle;\n    }\n\n    .dataframe tbody tr th {\n        vertical-align: top;\n    }\n\n    .dataframe thead th {\n        text-align: right;\n    }\n</style>\n<table border=\"1\" class=\"dataframe\">\n  <thead>\n    <tr style=\"text-align: right;\">\n      <th></th>\n      <th>date</th>\n      <th>Name</th>\n      <th>đã mua</th>\n    </tr>\n  </thead>\n  <tbody>\n    <tr>\n      <th>0</th>\n      <td>2019-10-25</td>\n      <td>apple</td>\n      <td>39</td>\n    </tr>\n    <tr>\n      <th>1</th>\n      <td>2019-10-26</td>\n      <td>banana</td>\n      <td>52</td>\n    </tr>\n    <tr>\n      <th>2</th>\n      <td>2019-10-27</td>\n      <td>cherry</td>\n      <td>17</td>\n    </tr>\n  </tbody>\n</table>\n</div>",
      "text/plain": "         date    Name  đã mua\n0  2019-10-25   apple      39\n1  2019-10-26  banana      52\n2  2019-10-27  cherry      17"
     },
     "execution_count": 16,
     "metadata": {},
     "output_type": "execute_result"
    }
   ],
   "source": [
    "#kết hợp data bằng merge\n",
    "df4 = pd.DataFrame({'date' : ['2019-10-25', '2019-10-26', '2019-10-27'],\n",
    "'Name' : ['apple', 'banana', 'cherry'],\n",
    "'đã mua' : [39, 52, 17]})\n",
    "df4"
   ]
  },
  {
   "cell_type": "code",
   "execution_count": 18,
   "metadata": {},
   "outputs": [
    {
     "data": {
      "text/html": "<div>\n<style scoped>\n    .dataframe tbody tr th:only-of-type {\n        vertical-align: middle;\n    }\n\n    .dataframe tbody tr th {\n        vertical-align: top;\n    }\n\n    .dataframe thead th {\n        text-align: right;\n    }\n</style>\n<table border=\"1\" class=\"dataframe\">\n  <thead>\n    <tr style=\"text-align: right;\">\n      <th></th>\n      <th>Name</th>\n      <th>price</th>\n    </tr>\n  </thead>\n  <tbody>\n    <tr>\n      <th>0</th>\n      <td>apple</td>\n      <td>10</td>\n    </tr>\n    <tr>\n      <th>1</th>\n      <td>banana</td>\n      <td>15</td>\n    </tr>\n    <tr>\n      <th>2</th>\n      <td>cherry</td>\n      <td>20</td>\n    </tr>\n  </tbody>\n</table>\n</div>",
      "text/plain": "     Name  price\n0   apple     10\n1  banana     15\n2  cherry     20"
     },
     "execution_count": 18,
     "metadata": {},
     "output_type": "execute_result"
    }
   ],
   "source": [
    "df5 = pd.DataFrame({'Name' : ['apple', 'banana', 'cherry'],\n",
    "'price' : [10 , 15 , 20]})\n",
    "df5"
   ]
  },
  {
   "cell_type": "code",
   "execution_count": 26,
   "metadata": {},
   "outputs": [
    {
     "data": {
      "text/html": "<div>\n<style scoped>\n    .dataframe tbody tr th:only-of-type {\n        vertical-align: middle;\n    }\n\n    .dataframe tbody tr th {\n        vertical-align: top;\n    }\n\n    .dataframe thead th {\n        text-align: right;\n    }\n</style>\n<table border=\"1\" class=\"dataframe\">\n  <thead>\n    <tr style=\"text-align: right;\">\n      <th></th>\n      <th>Date</th>\n      <th>Name</th>\n      <th>Số lượng</th>\n    </tr>\n  </thead>\n  <tbody>\n    <tr>\n      <th>a</th>\n      <td>2019-11-20</td>\n      <td>cherry</td>\n      <td>77</td>\n    </tr>\n    <tr>\n      <th>b</th>\n      <td>2019-11-21</td>\n      <td>apple</td>\n      <td>23</td>\n    </tr>\n    <tr>\n      <th>c</th>\n      <td>2019-11-22</td>\n      <td>cherry</td>\n      <td>22</td>\n    </tr>\n    <tr>\n      <th>d</th>\n      <td>2019-11-23</td>\n      <td>banana</td>\n      <td>79</td>\n    </tr>\n    <tr>\n      <th>e</th>\n      <td>2019-11-24</td>\n      <td>apple</td>\n      <td>72</td>\n    </tr>\n    <tr>\n      <th>f</th>\n      <td>2019-11-25</td>\n      <td>banana</td>\n      <td>90</td>\n    </tr>\n    <tr>\n      <th>g</th>\n      <td>2019-11-26</td>\n      <td>cherry</td>\n      <td>45</td>\n    </tr>\n    <tr>\n      <th>h</th>\n      <td>2019-11-27</td>\n      <td>apple</td>\n      <td>78</td>\n    </tr>\n    <tr>\n      <th>i</th>\n      <td>2019-11-28</td>\n      <td>apple</td>\n      <td>21</td>\n    </tr>\n    <tr>\n      <th>j</th>\n      <td>2019-11-29</td>\n      <td>banana</td>\n      <td>92</td>\n    </tr>\n  </tbody>\n</table>\n</div>",
      "text/plain": "        Date    Name  Số lượng\na 2019-11-20  cherry        77\nb 2019-11-21   apple        23\nc 2019-11-22  cherry        22\nd 2019-11-23  banana        79\ne 2019-11-24   apple        72\nf 2019-11-25  banana        90\ng 2019-11-26  cherry        45\nh 2019-11-27   apple        78\ni 2019-11-28   apple        21\nj 2019-11-29  banana        92"
     },
     "execution_count": 26,
     "metadata": {},
     "output_type": "execute_result"
    }
   ],
   "source": [
    "DF_ex"
   ]
  },
  {
   "cell_type": "code",
   "execution_count": 29,
   "metadata": {},
   "outputs": [
    {
     "data": {
      "text/html": "<div>\n<style scoped>\n    .dataframe tbody tr th:only-of-type {\n        vertical-align: middle;\n    }\n\n    .dataframe tbody tr th {\n        vertical-align: top;\n    }\n\n    .dataframe thead th {\n        text-align: right;\n    }\n</style>\n<table border=\"1\" class=\"dataframe\">\n  <thead>\n    <tr style=\"text-align: right;\">\n      <th></th>\n      <th>Date</th>\n      <th>Name</th>\n      <th>Số lượng</th>\n      <th>price</th>\n    </tr>\n  </thead>\n  <tbody>\n    <tr>\n      <th>0</th>\n      <td>2019-11-20</td>\n      <td>cherry</td>\n      <td>77</td>\n      <td>20</td>\n    </tr>\n    <tr>\n      <th>1</th>\n      <td>2019-11-22</td>\n      <td>cherry</td>\n      <td>22</td>\n      <td>20</td>\n    </tr>\n    <tr>\n      <th>2</th>\n      <td>2019-11-26</td>\n      <td>cherry</td>\n      <td>45</td>\n      <td>20</td>\n    </tr>\n    <tr>\n      <th>3</th>\n      <td>2019-11-21</td>\n      <td>apple</td>\n      <td>23</td>\n      <td>10</td>\n    </tr>\n    <tr>\n      <th>4</th>\n      <td>2019-11-24</td>\n      <td>apple</td>\n      <td>72</td>\n      <td>10</td>\n    </tr>\n    <tr>\n      <th>5</th>\n      <td>2019-11-27</td>\n      <td>apple</td>\n      <td>78</td>\n      <td>10</td>\n    </tr>\n    <tr>\n      <th>6</th>\n      <td>2019-11-28</td>\n      <td>apple</td>\n      <td>21</td>\n      <td>10</td>\n    </tr>\n    <tr>\n      <th>7</th>\n      <td>2019-11-23</td>\n      <td>banana</td>\n      <td>79</td>\n      <td>15</td>\n    </tr>\n    <tr>\n      <th>8</th>\n      <td>2019-11-25</td>\n      <td>banana</td>\n      <td>90</td>\n      <td>15</td>\n    </tr>\n    <tr>\n      <th>9</th>\n      <td>2019-11-29</td>\n      <td>banana</td>\n      <td>92</td>\n      <td>15</td>\n    </tr>\n  </tbody>\n</table>\n</div>",
      "text/plain": "        Date    Name  Số lượng  price\n0 2019-11-20  cherry        77     20\n1 2019-11-22  cherry        22     20\n2 2019-11-26  cherry        45     20\n3 2019-11-21   apple        23     10\n4 2019-11-24   apple        72     10\n5 2019-11-27   apple        78     10\n6 2019-11-28   apple        21     10\n7 2019-11-23  banana        79     15\n8 2019-11-25  banana        90     15\n9 2019-11-29  banana        92     15"
     },
     "execution_count": 29,
     "metadata": {},
     "output_type": "execute_result"
    }
   ],
   "source": [
    "pd.merge(DF_ex, df5)"
   ]
  },
  {
   "cell_type": "code",
   "execution_count": 2,
   "metadata": {},
   "outputs": [
    {
     "data": {
      "text/html": "<div>\n<style scoped>\n    .dataframe tbody tr th:only-of-type {\n        vertical-align: middle;\n    }\n\n    .dataframe tbody tr th {\n        vertical-align: top;\n    }\n\n    .dataframe thead th {\n        text-align: right;\n    }\n</style>\n<table border=\"1\" class=\"dataframe\">\n  <thead>\n    <tr style=\"text-align: right;\">\n      <th></th>\n      <th>Name</th>\n      <th>Type 1</th>\n      <th>Type 2</th>\n      <th>HP</th>\n      <th>Attack</th>\n      <th>Defense</th>\n      <th>Sp. Atk</th>\n      <th>Sp. Def</th>\n      <th>Speed</th>\n      <th>Generation</th>\n      <th>Legendary</th>\n    </tr>\n    <tr>\n      <th>#</th>\n      <th></th>\n      <th></th>\n      <th></th>\n      <th></th>\n      <th></th>\n      <th></th>\n      <th></th>\n      <th></th>\n      <th></th>\n      <th></th>\n      <th></th>\n    </tr>\n  </thead>\n  <tbody>\n    <tr>\n      <th>0</th>\n      <td>Bulbasaur</td>\n      <td>Grass</td>\n      <td>Poison</td>\n      <td>45</td>\n      <td>49</td>\n      <td>49</td>\n      <td>65</td>\n      <td>65</td>\n      <td>45</td>\n      <td>1</td>\n      <td>False</td>\n    </tr>\n    <tr>\n      <th>1</th>\n      <td>Ivysaur</td>\n      <td>Grass</td>\n      <td>Poison</td>\n      <td>60</td>\n      <td>62</td>\n      <td>63</td>\n      <td>80</td>\n      <td>80</td>\n      <td>60</td>\n      <td>1</td>\n      <td>False</td>\n    </tr>\n    <tr>\n      <th>2</th>\n      <td>Venusaur</td>\n      <td>Grass</td>\n      <td>Poison</td>\n      <td>80</td>\n      <td>82</td>\n      <td>83</td>\n      <td>100</td>\n      <td>100</td>\n      <td>80</td>\n      <td>1</td>\n      <td>False</td>\n    </tr>\n    <tr>\n      <th>3</th>\n      <td>VenusaurMega Venusaur</td>\n      <td>Grass</td>\n      <td>Poison</td>\n      <td>80</td>\n      <td>100</td>\n      <td>123</td>\n      <td>122</td>\n      <td>120</td>\n      <td>80</td>\n      <td>1</td>\n      <td>False</td>\n    </tr>\n    <tr>\n      <th>4</th>\n      <td>Charmander</td>\n      <td>Fire</td>\n      <td>NaN</td>\n      <td>39</td>\n      <td>52</td>\n      <td>43</td>\n      <td>60</td>\n      <td>50</td>\n      <td>65</td>\n      <td>1</td>\n      <td>False</td>\n    </tr>\n  </tbody>\n</table>\n</div>",
      "text/plain": "                    Name Type 1  Type 2  HP  Attack  Defense  Sp. Atk  \\\n#                                                                       \n0              Bulbasaur  Grass  Poison  45      49       49       65   \n1                Ivysaur  Grass  Poison  60      62       63       80   \n2               Venusaur  Grass  Poison  80      82       83      100   \n3  VenusaurMega Venusaur  Grass  Poison  80     100      123      122   \n4             Charmander   Fire     NaN  39      52       43       60   \n\n   Sp. Def  Speed  Generation  Legendary  \n#                                         \n0       65     45           1      False  \n1       80     60           1      False  \n2      100     80           1      False  \n3      120     80           1      False  \n4       50     65           1      False  "
     },
     "execution_count": 2,
     "metadata": {},
     "output_type": "execute_result"
    }
   ],
   "source": [
    "#Chuyển đổi kiểu dữ liệu trong dataframe\n",
    "df = pd.read_csv('pokemon_data.csv', index_col = 0).reset_index(drop = True)\n",
    "df.index.name = '#'\n",
    "df.head()"
   ]
  },
  {
   "cell_type": "code",
   "execution_count": null,
   "metadata": {},
   "outputs": [],
   "source": [
    "#chuyển đổi thành thời gian .to_datetime()\n",
    "#dùng accessor .dt để dùng cho các phương thức của kiểu dữ liệu thời gian\n",
    "df.Date.dt.strftime('%d/%m/%y') #df.Date là Series"
   ]
  },
  {
   "cell_type": "code",
   "execution_count": 3,
   "metadata": {},
   "outputs": [
    {
     "data": {
      "text/html": "<div>\n<style scoped>\n    .dataframe tbody tr th:only-of-type {\n        vertical-align: middle;\n    }\n\n    .dataframe tbody tr th {\n        vertical-align: top;\n    }\n\n    .dataframe thead th {\n        text-align: right;\n    }\n</style>\n<table border=\"1\" class=\"dataframe\">\n  <thead>\n    <tr style=\"text-align: right;\">\n      <th></th>\n      <th>Date</th>\n      <th>Close</th>\n      <th>Volume</th>\n      <th>PercentChange</th>\n    </tr>\n  </thead>\n  <tbody>\n    <tr>\n      <th>0</th>\n      <td>2018-06-01</td>\n      <td>136.1k</td>\n      <td>1051610</td>\n      <td>?%</td>\n    </tr>\n    <tr>\n      <th>1</th>\n      <td>2018-06-04</td>\n      <td>141.6k</td>\n      <td>965230</td>\n      <td>4.04%</td>\n    </tr>\n    <tr>\n      <th>2</th>\n      <td>2018-06-05</td>\n      <td>144.4k</td>\n      <td>879160</td>\n      <td>1.98%</td>\n    </tr>\n    <tr>\n      <th>3</th>\n      <td>2018-06-06</td>\n      <td>142.8k</td>\n      <td>463720</td>\n      <td>-1.11%</td>\n    </tr>\n    <tr>\n      <th>4</th>\n      <td>2018-06-07</td>\n      <td>144.7k</td>\n      <td>401900</td>\n      <td>1.33%</td>\n    </tr>\n    <tr>\n      <th>5</th>\n      <td>2018-06-08</td>\n      <td>144.4k</td>\n      <td>505520</td>\n      <td>-0.21%</td>\n    </tr>\n    <tr>\n      <th>6</th>\n      <td>2018-06-11</td>\n      <td>147.0k</td>\n      <td>721050</td>\n      <td>1.8%</td>\n    </tr>\n    <tr>\n      <th>7</th>\n      <td>2018-06-12</td>\n      <td>147.7k</td>\n      <td>873690</td>\n      <td>0.48%</td>\n    </tr>\n    <tr>\n      <th>8</th>\n      <td>2018-06-13</td>\n      <td>147.7k</td>\n      <td>472470</td>\n      <td>0.0%</td>\n    </tr>\n    <tr>\n      <th>9</th>\n      <td>2018-06-14</td>\n      <td>146.9k</td>\n      <td>767750</td>\n      <td>-0.54%</td>\n    </tr>\n    <tr>\n      <th>10</th>\n      <td>2018-06-15</td>\n      <td>146.9k</td>\n      <td>1114730</td>\n      <td>0.0%</td>\n    </tr>\n  </tbody>\n</table>\n</div>",
      "text/plain": "          Date   Close   Volume PercentChange\n0   2018-06-01  136.1k  1051610            ?%\n1   2018-06-04  141.6k   965230         4.04%\n2   2018-06-05  144.4k   879160         1.98%\n3   2018-06-06  142.8k   463720        -1.11%\n4   2018-06-07  144.7k   401900         1.33%\n5   2018-06-08  144.4k   505520        -0.21%\n6   2018-06-11  147.0k   721050          1.8%\n7   2018-06-12  147.7k   873690         0.48%\n8   2018-06-13  147.7k   472470          0.0%\n9   2018-06-14  146.9k   767750        -0.54%\n10  2018-06-15  146.9k  1114730          0.0%"
     },
     "execution_count": 3,
     "metadata": {},
     "output_type": "execute_result"
    }
   ],
   "source": [
    "#to_numberic không được có kí tự khác số, dùng accessor df.Close.str.replace('chuổi cần chuyển đồi', 'chuyển muốn chuyển đổi')\n",
    "#dùng assign để thêm vô df\n",
    "df = pd.read_csv('https://raw.githubusercontent.com/Levytan/MIS.2019/master/Data/vnm.csv', header = None)\n",
    "df.columns = ['Date', 'Close', 'Volume', 'PercentChange']\n",
    "df"
   ]
  },
  {
   "cell_type": "code",
   "execution_count": 4,
   "metadata": {},
   "outputs": [
    {
     "data": {
      "text/html": "<div>\n<style scoped>\n    .dataframe tbody tr th:only-of-type {\n        vertical-align: middle;\n    }\n\n    .dataframe tbody tr th {\n        vertical-align: top;\n    }\n\n    .dataframe thead th {\n        text-align: right;\n    }\n</style>\n<table border=\"1\" class=\"dataframe\">\n  <thead>\n    <tr style=\"text-align: right;\">\n      <th></th>\n      <th>Date</th>\n      <th>Close</th>\n      <th>Volume</th>\n      <th>PercentChange</th>\n    </tr>\n  </thead>\n  <tbody>\n    <tr>\n      <th>0</th>\n      <td>2018-06-01</td>\n      <td>136.1k</td>\n      <td>1051610</td>\n      <td>NaN</td>\n    </tr>\n    <tr>\n      <th>1</th>\n      <td>2018-06-04</td>\n      <td>141.6k</td>\n      <td>965230</td>\n      <td>4.04</td>\n    </tr>\n    <tr>\n      <th>2</th>\n      <td>2018-06-05</td>\n      <td>144.4k</td>\n      <td>879160</td>\n      <td>1.98</td>\n    </tr>\n    <tr>\n      <th>3</th>\n      <td>2018-06-06</td>\n      <td>142.8k</td>\n      <td>463720</td>\n      <td>-1.11</td>\n    </tr>\n    <tr>\n      <th>4</th>\n      <td>2018-06-07</td>\n      <td>144.7k</td>\n      <td>401900</td>\n      <td>1.33</td>\n    </tr>\n    <tr>\n      <th>5</th>\n      <td>2018-06-08</td>\n      <td>144.4k</td>\n      <td>505520</td>\n      <td>-0.21</td>\n    </tr>\n    <tr>\n      <th>6</th>\n      <td>2018-06-11</td>\n      <td>147.0k</td>\n      <td>721050</td>\n      <td>1.80</td>\n    </tr>\n    <tr>\n      <th>7</th>\n      <td>2018-06-12</td>\n      <td>147.7k</td>\n      <td>873690</td>\n      <td>0.48</td>\n    </tr>\n    <tr>\n      <th>8</th>\n      <td>2018-06-13</td>\n      <td>147.7k</td>\n      <td>472470</td>\n      <td>0.00</td>\n    </tr>\n    <tr>\n      <th>9</th>\n      <td>2018-06-14</td>\n      <td>146.9k</td>\n      <td>767750</td>\n      <td>-0.54</td>\n    </tr>\n    <tr>\n      <th>10</th>\n      <td>2018-06-15</td>\n      <td>146.9k</td>\n      <td>1114730</td>\n      <td>0.00</td>\n    </tr>\n  </tbody>\n</table>\n</div>",
      "text/plain": "          Date   Close   Volume  PercentChange\n0   2018-06-01  136.1k  1051610            NaN\n1   2018-06-04  141.6k   965230           4.04\n2   2018-06-05  144.4k   879160           1.98\n3   2018-06-06  142.8k   463720          -1.11\n4   2018-06-07  144.7k   401900           1.33\n5   2018-06-08  144.4k   505520          -0.21\n6   2018-06-11  147.0k   721050           1.80\n7   2018-06-12  147.7k   873690           0.48\n8   2018-06-13  147.7k   472470           0.00\n9   2018-06-14  146.9k   767750          -0.54\n10  2018-06-15  146.9k  1114730           0.00"
     },
     "execution_count": 4,
     "metadata": {},
     "output_type": "execute_result"
    }
   ],
   "source": [
    "df = df.assign(PercentChange = df.PercentChange.str.replace('%', ''))\n",
    "df = df.assign(PercentChange = pd.to_numeric(df.PercentChange, errors = 'coerce'))\n",
    "df"
   ]
  },
  {
   "cell_type": "code",
   "execution_count": 5,
   "metadata": {},
   "outputs": [
    {
     "data": {
      "text/html": "<div>\n<style scoped>\n    .dataframe tbody tr th:only-of-type {\n        vertical-align: middle;\n    }\n\n    .dataframe tbody tr th {\n        vertical-align: top;\n    }\n\n    .dataframe thead th {\n        text-align: right;\n    }\n</style>\n<table border=\"1\" class=\"dataframe\">\n  <thead>\n    <tr style=\"text-align: right;\">\n      <th></th>\n      <th>Date</th>\n      <th>Close</th>\n      <th>Volume</th>\n      <th>PercentChange</th>\n    </tr>\n  </thead>\n  <tbody>\n    <tr>\n      <th>0</th>\n      <td>01/06/18</td>\n      <td>136.1k</td>\n      <td>1051610</td>\n      <td>NaN</td>\n    </tr>\n    <tr>\n      <th>1</th>\n      <td>04/06/18</td>\n      <td>141.6k</td>\n      <td>965230</td>\n      <td>4.04</td>\n    </tr>\n    <tr>\n      <th>2</th>\n      <td>05/06/18</td>\n      <td>144.4k</td>\n      <td>879160</td>\n      <td>1.98</td>\n    </tr>\n    <tr>\n      <th>3</th>\n      <td>06/06/18</td>\n      <td>142.8k</td>\n      <td>463720</td>\n      <td>-1.11</td>\n    </tr>\n    <tr>\n      <th>4</th>\n      <td>07/06/18</td>\n      <td>144.7k</td>\n      <td>401900</td>\n      <td>1.33</td>\n    </tr>\n    <tr>\n      <th>5</th>\n      <td>08/06/18</td>\n      <td>144.4k</td>\n      <td>505520</td>\n      <td>-0.21</td>\n    </tr>\n    <tr>\n      <th>6</th>\n      <td>11/06/18</td>\n      <td>147.0k</td>\n      <td>721050</td>\n      <td>1.80</td>\n    </tr>\n    <tr>\n      <th>7</th>\n      <td>12/06/18</td>\n      <td>147.7k</td>\n      <td>873690</td>\n      <td>0.48</td>\n    </tr>\n    <tr>\n      <th>8</th>\n      <td>13/06/18</td>\n      <td>147.7k</td>\n      <td>472470</td>\n      <td>0.00</td>\n    </tr>\n    <tr>\n      <th>9</th>\n      <td>14/06/18</td>\n      <td>146.9k</td>\n      <td>767750</td>\n      <td>-0.54</td>\n    </tr>\n    <tr>\n      <th>10</th>\n      <td>15/06/18</td>\n      <td>146.9k</td>\n      <td>1114730</td>\n      <td>0.00</td>\n    </tr>\n  </tbody>\n</table>\n</div>",
      "text/plain": "        Date   Close   Volume  PercentChange\n0   01/06/18  136.1k  1051610            NaN\n1   04/06/18  141.6k   965230           4.04\n2   05/06/18  144.4k   879160           1.98\n3   06/06/18  142.8k   463720          -1.11\n4   07/06/18  144.7k   401900           1.33\n5   08/06/18  144.4k   505520          -0.21\n6   11/06/18  147.0k   721050           1.80\n7   12/06/18  147.7k   873690           0.48\n8   13/06/18  147.7k   472470           0.00\n9   14/06/18  146.9k   767750          -0.54\n10  15/06/18  146.9k  1114730           0.00"
     },
     "execution_count": 5,
     "metadata": {},
     "output_type": "execute_result"
    }
   ],
   "source": [
    "df = df.assign(Date = pd.to_datetime(df.Date))\n",
    "df = df.assign(Date = df.Date.dt.strftime('%d/%m/%y'))\n",
    "df"
   ]
  },
  {
   "cell_type": "code",
   "execution_count": 6,
   "metadata": {},
   "outputs": [
    {
     "data": {
      "text/html": "<div>\n<style scoped>\n    .dataframe tbody tr th:only-of-type {\n        vertical-align: middle;\n    }\n\n    .dataframe tbody tr th {\n        vertical-align: top;\n    }\n\n    .dataframe thead th {\n        text-align: right;\n    }\n</style>\n<table border=\"1\" class=\"dataframe\">\n  <thead>\n    <tr style=\"text-align: right;\">\n      <th></th>\n      <th>Date</th>\n      <th>Close</th>\n      <th>Volume</th>\n      <th>PercentChange</th>\n    </tr>\n  </thead>\n  <tbody>\n    <tr>\n      <th>0</th>\n      <td>01/06/18</td>\n      <td>136.1k</td>\n      <td>1051610</td>\n      <td>NaN</td>\n    </tr>\n  </tbody>\n</table>\n</div>",
      "text/plain": "       Date   Close   Volume  PercentChange\n0  01/06/18  136.1k  1051610            NaN"
     },
     "execution_count": 6,
     "metadata": {},
     "output_type": "execute_result"
    }
   ],
   "source": [
    "df[df.PercentChange != df.PercentChange]"
   ]
  },
  {
   "cell_type": "code",
   "execution_count": 7,
   "metadata": {},
   "outputs": [
    {
     "data": {
      "text/html": "<div>\n<style scoped>\n    .dataframe tbody tr th:only-of-type {\n        vertical-align: middle;\n    }\n\n    .dataframe tbody tr th {\n        vertical-align: top;\n    }\n\n    .dataframe thead th {\n        text-align: right;\n    }\n</style>\n<table border=\"1\" class=\"dataframe\">\n  <thead>\n    <tr style=\"text-align: right;\">\n      <th></th>\n      <th>sepal-length</th>\n      <th>sepal-width</th>\n      <th>petal-length</th>\n      <th>petal-width</th>\n      <th>type</th>\n    </tr>\n  </thead>\n  <tbody>\n    <tr>\n      <th>0</th>\n      <td>5.1</td>\n      <td>3.5</td>\n      <td>1.4</td>\n      <td>0.2</td>\n      <td>Iris-setosa</td>\n    </tr>\n    <tr>\n      <th>1</th>\n      <td>4.9</td>\n      <td>3.0</td>\n      <td>1.4</td>\n      <td>0.2</td>\n      <td>Iris-setosa</td>\n    </tr>\n    <tr>\n      <th>2</th>\n      <td>4.7</td>\n      <td>3.2</td>\n      <td>1.3</td>\n      <td>0.2</td>\n      <td>Iris-setosa</td>\n    </tr>\n    <tr>\n      <th>3</th>\n      <td>4.6</td>\n      <td>3.1</td>\n      <td>1.5</td>\n      <td>0.2</td>\n      <td>Iris-setosa</td>\n    </tr>\n    <tr>\n      <th>4</th>\n      <td>5.0</td>\n      <td>3.6</td>\n      <td>1.4</td>\n      <td>0.2</td>\n      <td>Iris-setosa</td>\n    </tr>\n    <tr>\n      <th>5</th>\n      <td>5.4</td>\n      <td>3.9</td>\n      <td>1.7</td>\n      <td>0.4</td>\n      <td>Iris-setosa</td>\n    </tr>\n    <tr>\n      <th>6</th>\n      <td>4.6</td>\n      <td>3.4</td>\n      <td>1.4</td>\n      <td>0.3</td>\n      <td>Iris-setosa</td>\n    </tr>\n    <tr>\n      <th>7</th>\n      <td>5.0</td>\n      <td>3.4</td>\n      <td>1.5</td>\n      <td>0.2</td>\n      <td>Iris-setosa</td>\n    </tr>\n    <tr>\n      <th>8</th>\n      <td>4.4</td>\n      <td>2.9</td>\n      <td>1.4</td>\n      <td>0.2</td>\n      <td>Iris-setosa</td>\n    </tr>\n    <tr>\n      <th>9</th>\n      <td>4.9</td>\n      <td>3.1</td>\n      <td>1.5</td>\n      <td>0.1</td>\n      <td>Iris-setosa</td>\n    </tr>\n    <tr>\n      <th>10</th>\n      <td>5.4</td>\n      <td>3.7</td>\n      <td>1.5</td>\n      <td>0.2</td>\n      <td>Iris-setosa</td>\n    </tr>\n    <tr>\n      <th>11</th>\n      <td>4.8</td>\n      <td>3.4</td>\n      <td>1.6</td>\n      <td>0.2</td>\n      <td>Iris-setosa</td>\n    </tr>\n    <tr>\n      <th>12</th>\n      <td>4.8</td>\n      <td>3.0</td>\n      <td>1.4</td>\n      <td>0.1</td>\n      <td>Iris-setosa</td>\n    </tr>\n    <tr>\n      <th>13</th>\n      <td>4.3</td>\n      <td>3.0</td>\n      <td>1.1</td>\n      <td>0.1</td>\n      <td>Iris-setosa</td>\n    </tr>\n    <tr>\n      <th>14</th>\n      <td>5.8</td>\n      <td>4.0</td>\n      <td>1.2</td>\n      <td>0.2</td>\n      <td>Iris-setosa</td>\n    </tr>\n    <tr>\n      <th>15</th>\n      <td>5.7</td>\n      <td>4.4</td>\n      <td>1.5</td>\n      <td>0.4</td>\n      <td>Iris-setosa</td>\n    </tr>\n    <tr>\n      <th>16</th>\n      <td>5.4</td>\n      <td>3.9</td>\n      <td>1.3</td>\n      <td>0.4</td>\n      <td>Iris-setosa</td>\n    </tr>\n    <tr>\n      <th>17</th>\n      <td>5.1</td>\n      <td>3.5</td>\n      <td>1.4</td>\n      <td>0.3</td>\n      <td>Iris-setosa</td>\n    </tr>\n    <tr>\n      <th>18</th>\n      <td>5.7</td>\n      <td>3.8</td>\n      <td>1.7</td>\n      <td>0.3</td>\n      <td>Iris-setosa</td>\n    </tr>\n    <tr>\n      <th>19</th>\n      <td>5.1</td>\n      <td>3.8</td>\n      <td>1.5</td>\n      <td>0.3</td>\n      <td>Iris-setosa</td>\n    </tr>\n    <tr>\n      <th>20</th>\n      <td>5.4</td>\n      <td>3.4</td>\n      <td>1.7</td>\n      <td>0.2</td>\n      <td>Iris-setosa</td>\n    </tr>\n    <tr>\n      <th>21</th>\n      <td>5.1</td>\n      <td>3.7</td>\n      <td>1.5</td>\n      <td>0.4</td>\n      <td>Iris-setosa</td>\n    </tr>\n    <tr>\n      <th>22</th>\n      <td>4.6</td>\n      <td>3.6</td>\n      <td>1.0</td>\n      <td>0.2</td>\n      <td>Iris-setosa</td>\n    </tr>\n    <tr>\n      <th>23</th>\n      <td>5.1</td>\n      <td>3.3</td>\n      <td>1.7</td>\n      <td>0.5</td>\n      <td>Iris-setosa</td>\n    </tr>\n    <tr>\n      <th>24</th>\n      <td>4.8</td>\n      <td>3.4</td>\n      <td>1.9</td>\n      <td>0.2</td>\n      <td>Iris-setosa</td>\n    </tr>\n    <tr>\n      <th>25</th>\n      <td>5.0</td>\n      <td>3.0</td>\n      <td>1.6</td>\n      <td>0.2</td>\n      <td>Iris-setosa</td>\n    </tr>\n    <tr>\n      <th>26</th>\n      <td>5.0</td>\n      <td>3.4</td>\n      <td>1.6</td>\n      <td>0.4</td>\n      <td>Iris-setosa</td>\n    </tr>\n    <tr>\n      <th>27</th>\n      <td>5.2</td>\n      <td>3.5</td>\n      <td>1.5</td>\n      <td>0.2</td>\n      <td>Iris-setosa</td>\n    </tr>\n    <tr>\n      <th>28</th>\n      <td>5.2</td>\n      <td>3.4</td>\n      <td>1.4</td>\n      <td>0.2</td>\n      <td>Iris-setosa</td>\n    </tr>\n    <tr>\n      <th>29</th>\n      <td>4.7</td>\n      <td>3.2</td>\n      <td>1.6</td>\n      <td>0.2</td>\n      <td>Iris-setosa</td>\n    </tr>\n    <tr>\n      <th>...</th>\n      <td>...</td>\n      <td>...</td>\n      <td>...</td>\n      <td>...</td>\n      <td>...</td>\n    </tr>\n    <tr>\n      <th>120</th>\n      <td>6.9</td>\n      <td>3.2</td>\n      <td>5.7</td>\n      <td>2.3</td>\n      <td>Iris-virginica</td>\n    </tr>\n    <tr>\n      <th>121</th>\n      <td>5.6</td>\n      <td>2.8</td>\n      <td>4.9</td>\n      <td>2.0</td>\n      <td>Iris-virginica</td>\n    </tr>\n    <tr>\n      <th>122</th>\n      <td>7.7</td>\n      <td>2.8</td>\n      <td>6.7</td>\n      <td>2.0</td>\n      <td>Iris-virginica</td>\n    </tr>\n    <tr>\n      <th>123</th>\n      <td>6.3</td>\n      <td>2.7</td>\n      <td>4.9</td>\n      <td>1.8</td>\n      <td>Iris-virginica</td>\n    </tr>\n    <tr>\n      <th>124</th>\n      <td>6.7</td>\n      <td>3.3</td>\n      <td>5.7</td>\n      <td>2.1</td>\n      <td>Iris-virginica</td>\n    </tr>\n    <tr>\n      <th>125</th>\n      <td>7.2</td>\n      <td>3.2</td>\n      <td>6.0</td>\n      <td>1.8</td>\n      <td>Iris-virginica</td>\n    </tr>\n    <tr>\n      <th>126</th>\n      <td>6.2</td>\n      <td>2.8</td>\n      <td>4.8</td>\n      <td>1.8</td>\n      <td>Iris-virginica</td>\n    </tr>\n    <tr>\n      <th>127</th>\n      <td>6.1</td>\n      <td>3.0</td>\n      <td>4.9</td>\n      <td>1.8</td>\n      <td>Iris-virginica</td>\n    </tr>\n    <tr>\n      <th>128</th>\n      <td>6.4</td>\n      <td>2.8</td>\n      <td>5.6</td>\n      <td>2.1</td>\n      <td>Iris-virginica</td>\n    </tr>\n    <tr>\n      <th>129</th>\n      <td>7.2</td>\n      <td>3.0</td>\n      <td>5.8</td>\n      <td>1.6</td>\n      <td>Iris-virginica</td>\n    </tr>\n    <tr>\n      <th>130</th>\n      <td>7.4</td>\n      <td>2.8</td>\n      <td>6.1</td>\n      <td>1.9</td>\n      <td>Iris-virginica</td>\n    </tr>\n    <tr>\n      <th>131</th>\n      <td>7.9</td>\n      <td>3.8</td>\n      <td>6.4</td>\n      <td>2.0</td>\n      <td>Iris-virginica</td>\n    </tr>\n    <tr>\n      <th>132</th>\n      <td>6.4</td>\n      <td>2.8</td>\n      <td>5.6</td>\n      <td>2.2</td>\n      <td>Iris-virginica</td>\n    </tr>\n    <tr>\n      <th>133</th>\n      <td>6.3</td>\n      <td>2.8</td>\n      <td>5.1</td>\n      <td>1.5</td>\n      <td>Iris-virginica</td>\n    </tr>\n    <tr>\n      <th>134</th>\n      <td>6.1</td>\n      <td>2.6</td>\n      <td>5.6</td>\n      <td>1.4</td>\n      <td>Iris-virginica</td>\n    </tr>\n    <tr>\n      <th>135</th>\n      <td>7.7</td>\n      <td>3.0</td>\n      <td>6.1</td>\n      <td>2.3</td>\n      <td>Iris-virginica</td>\n    </tr>\n    <tr>\n      <th>136</th>\n      <td>6.3</td>\n      <td>3.4</td>\n      <td>5.6</td>\n      <td>2.4</td>\n      <td>Iris-virginica</td>\n    </tr>\n    <tr>\n      <th>137</th>\n      <td>6.4</td>\n      <td>3.1</td>\n      <td>5.5</td>\n      <td>1.8</td>\n      <td>Iris-virginica</td>\n    </tr>\n    <tr>\n      <th>138</th>\n      <td>6.0</td>\n      <td>3.0</td>\n      <td>4.8</td>\n      <td>1.8</td>\n      <td>Iris-virginica</td>\n    </tr>\n    <tr>\n      <th>139</th>\n      <td>6.9</td>\n      <td>3.1</td>\n      <td>5.4</td>\n      <td>2.1</td>\n      <td>Iris-virginica</td>\n    </tr>\n    <tr>\n      <th>140</th>\n      <td>6.7</td>\n      <td>3.1</td>\n      <td>5.6</td>\n      <td>2.4</td>\n      <td>Iris-virginica</td>\n    </tr>\n    <tr>\n      <th>141</th>\n      <td>6.9</td>\n      <td>3.1</td>\n      <td>5.1</td>\n      <td>2.3</td>\n      <td>Iris-virginica</td>\n    </tr>\n    <tr>\n      <th>142</th>\n      <td>5.8</td>\n      <td>2.7</td>\n      <td>5.1</td>\n      <td>1.9</td>\n      <td>Iris-virginica</td>\n    </tr>\n    <tr>\n      <th>143</th>\n      <td>6.8</td>\n      <td>3.2</td>\n      <td>5.9</td>\n      <td>2.3</td>\n      <td>Iris-virginica</td>\n    </tr>\n    <tr>\n      <th>144</th>\n      <td>6.7</td>\n      <td>3.3</td>\n      <td>5.7</td>\n      <td>2.5</td>\n      <td>Iris-virginica</td>\n    </tr>\n    <tr>\n      <th>145</th>\n      <td>6.7</td>\n      <td>3.0</td>\n      <td>5.2</td>\n      <td>2.3</td>\n      <td>Iris-virginica</td>\n    </tr>\n    <tr>\n      <th>146</th>\n      <td>6.3</td>\n      <td>2.5</td>\n      <td>5.0</td>\n      <td>1.9</td>\n      <td>Iris-virginica</td>\n    </tr>\n    <tr>\n      <th>147</th>\n      <td>6.5</td>\n      <td>3.0</td>\n      <td>5.2</td>\n      <td>2.0</td>\n      <td>Iris-virginica</td>\n    </tr>\n    <tr>\n      <th>148</th>\n      <td>6.2</td>\n      <td>3.4</td>\n      <td>5.4</td>\n      <td>2.3</td>\n      <td>Iris-virginica</td>\n    </tr>\n    <tr>\n      <th>149</th>\n      <td>5.9</td>\n      <td>3.0</td>\n      <td>5.1</td>\n      <td>1.8</td>\n      <td>Iris-virginica</td>\n    </tr>\n  </tbody>\n</table>\n<p>150 rows × 5 columns</p>\n</div>",
      "text/plain": "     sepal-length  sepal-width  petal-length  petal-width            type\n0             5.1          3.5           1.4          0.2     Iris-setosa\n1             4.9          3.0           1.4          0.2     Iris-setosa\n2             4.7          3.2           1.3          0.2     Iris-setosa\n3             4.6          3.1           1.5          0.2     Iris-setosa\n4             5.0          3.6           1.4          0.2     Iris-setosa\n5             5.4          3.9           1.7          0.4     Iris-setosa\n6             4.6          3.4           1.4          0.3     Iris-setosa\n7             5.0          3.4           1.5          0.2     Iris-setosa\n8             4.4          2.9           1.4          0.2     Iris-setosa\n9             4.9          3.1           1.5          0.1     Iris-setosa\n10            5.4          3.7           1.5          0.2     Iris-setosa\n11            4.8          3.4           1.6          0.2     Iris-setosa\n12            4.8          3.0           1.4          0.1     Iris-setosa\n13            4.3          3.0           1.1          0.1     Iris-setosa\n14            5.8          4.0           1.2          0.2     Iris-setosa\n15            5.7          4.4           1.5          0.4     Iris-setosa\n16            5.4          3.9           1.3          0.4     Iris-setosa\n17            5.1          3.5           1.4          0.3     Iris-setosa\n18            5.7          3.8           1.7          0.3     Iris-setosa\n19            5.1          3.8           1.5          0.3     Iris-setosa\n20            5.4          3.4           1.7          0.2     Iris-setosa\n21            5.1          3.7           1.5          0.4     Iris-setosa\n22            4.6          3.6           1.0          0.2     Iris-setosa\n23            5.1          3.3           1.7          0.5     Iris-setosa\n24            4.8          3.4           1.9          0.2     Iris-setosa\n25            5.0          3.0           1.6          0.2     Iris-setosa\n26            5.0          3.4           1.6          0.4     Iris-setosa\n27            5.2          3.5           1.5          0.2     Iris-setosa\n28            5.2          3.4           1.4          0.2     Iris-setosa\n29            4.7          3.2           1.6          0.2     Iris-setosa\n..            ...          ...           ...          ...             ...\n120           6.9          3.2           5.7          2.3  Iris-virginica\n121           5.6          2.8           4.9          2.0  Iris-virginica\n122           7.7          2.8           6.7          2.0  Iris-virginica\n123           6.3          2.7           4.9          1.8  Iris-virginica\n124           6.7          3.3           5.7          2.1  Iris-virginica\n125           7.2          3.2           6.0          1.8  Iris-virginica\n126           6.2          2.8           4.8          1.8  Iris-virginica\n127           6.1          3.0           4.9          1.8  Iris-virginica\n128           6.4          2.8           5.6          2.1  Iris-virginica\n129           7.2          3.0           5.8          1.6  Iris-virginica\n130           7.4          2.8           6.1          1.9  Iris-virginica\n131           7.9          3.8           6.4          2.0  Iris-virginica\n132           6.4          2.8           5.6          2.2  Iris-virginica\n133           6.3          2.8           5.1          1.5  Iris-virginica\n134           6.1          2.6           5.6          1.4  Iris-virginica\n135           7.7          3.0           6.1          2.3  Iris-virginica\n136           6.3          3.4           5.6          2.4  Iris-virginica\n137           6.4          3.1           5.5          1.8  Iris-virginica\n138           6.0          3.0           4.8          1.8  Iris-virginica\n139           6.9          3.1           5.4          2.1  Iris-virginica\n140           6.7          3.1           5.6          2.4  Iris-virginica\n141           6.9          3.1           5.1          2.3  Iris-virginica\n142           5.8          2.7           5.1          1.9  Iris-virginica\n143           6.8          3.2           5.9          2.3  Iris-virginica\n144           6.7          3.3           5.7          2.5  Iris-virginica\n145           6.7          3.0           5.2          2.3  Iris-virginica\n146           6.3          2.5           5.0          1.9  Iris-virginica\n147           6.5          3.0           5.2          2.0  Iris-virginica\n148           6.2          3.4           5.4          2.3  Iris-virginica\n149           5.9          3.0           5.1          1.8  Iris-virginica\n\n[150 rows x 5 columns]"
     },
     "execution_count": 7,
     "metadata": {},
     "output_type": "execute_result"
    }
   ],
   "source": [
    "Columns = ['sepal-length', 'sepal-width', 'petal-length', 'petal-width', 'type']\n",
    "iris = pd.read_csv(\"https://raw.githubusercontent.com/Levytan/MIS.2019/master/Data/iris.csv\", header = None)\n",
    "iris.columns = Columns\n",
    "iris"
   ]
  },
  {
   "cell_type": "code",
   "execution_count": 8,
   "metadata": {},
   "outputs": [
    {
     "data": {
      "text/plain": "5.0    10\n6.3     9\n5.1     9\n6.7     8\n5.7     8\n5.5     7\n5.8     7\n6.4     7\n6.0     6\n4.9     6\n6.1     6\n5.4     6\n5.6     6\n6.5     5\n4.8     5\n7.7     4\n6.9     4\n5.2     4\n6.2     4\n4.6     4\n7.2     3\n6.8     3\n4.4     3\n5.9     3\n6.6     2\n4.7     2\n7.6     1\n7.4     1\n4.3     1\n7.9     1\n7.3     1\n7.0     1\n4.5     1\n5.3     1\n7.1     1\nName: sepal-length, dtype: int64"
     },
     "execution_count": 8,
     "metadata": {},
     "output_type": "execute_result"
    }
   ],
   "source": [
    "iris['sepal-length'].value_counts()"
   ]
  },
  {
   "cell_type": "code",
   "execution_count": 9,
   "metadata": {},
   "outputs": [
    {
     "data": {
      "text/plain": "array([5.1, 4.9, 4.7, 4.6, 5. , 5.4, 4.4, 4.8, 4.3, 5.8, 5.7, 5.2, 5.5,\n       4.5, 5.3, 7. , 6.4, 6.9, 6.5, 6.3, 6.6, 5.9, 6. , 6.1, 5.6, 6.7,\n       6.2, 6.8, 7.1, 7.6, 7.3, 7.2, 7.7, 7.4, 7.9])"
     },
     "execution_count": 9,
     "metadata": {},
     "output_type": "execute_result"
    }
   ],
   "source": [
    "iris['sepal-length'].unique()"
   ]
  },
  {
   "cell_type": "code",
   "execution_count": 13,
   "metadata": {},
   "outputs": [
    {
     "data": {
      "text/plain": "[Iris-setosa, Iris-setosa, Iris-setosa, Iris-setosa, Iris-setosa, ..., Iris-virginica, Iris-virginica, Iris-virginica, Iris-virginica, Iris-virginica]\nLength: 150\nCategories (3, object): [Iris-setosa, Iris-versicolor, Iris-virginica]"
     },
     "execution_count": 13,
     "metadata": {},
     "output_type": "execute_result"
    }
   ],
   "source": [
    "df2 = pd.Categorical(iris.type)\n",
    "df2"
   ]
  },
  {
   "cell_type": "code",
   "execution_count": 12,
   "metadata": {},
   "outputs": [
    {
     "data": {
      "text/plain": "CategoricalDtype(categories=['Iris-setosa', 'Iris-versicolor', 'Iris-virginica'], ordered=False)"
     },
     "execution_count": 12,
     "metadata": {},
     "output_type": "execute_result"
    }
   ],
   "source": [
    "df2.dtype"
   ]
  },
  {
   "cell_type": "code",
   "execution_count": 18,
   "metadata": {},
   "outputs": [
    {
     "data": {
      "text/html": "<div>\n<style scoped>\n    .dataframe tbody tr th:only-of-type {\n        vertical-align: middle;\n    }\n\n    .dataframe tbody tr th {\n        vertical-align: top;\n    }\n\n    .dataframe thead th {\n        text-align: right;\n    }\n</style>\n<table border=\"1\" class=\"dataframe\">\n  <thead>\n    <tr style=\"text-align: right;\">\n      <th></th>\n      <th>sepal-length</th>\n      <th>sepal-width</th>\n      <th>petal-length</th>\n      <th>petal-width</th>\n      <th>type</th>\n    </tr>\n  </thead>\n  <tbody>\n    <tr>\n      <th>0</th>\n      <td>5.1</td>\n      <td>3.5</td>\n      <td>1.4</td>\n      <td>0.2</td>\n      <td>Iris-setosa</td>\n    </tr>\n    <tr>\n      <th>1</th>\n      <td>4.9</td>\n      <td>3.0</td>\n      <td>1.4</td>\n      <td>0.2</td>\n      <td>Iris-setosa</td>\n    </tr>\n    <tr>\n      <th>2</th>\n      <td>4.7</td>\n      <td>3.2</td>\n      <td>1.3</td>\n      <td>0.2</td>\n      <td>Iris-setosa</td>\n    </tr>\n    <tr>\n      <th>3</th>\n      <td>4.6</td>\n      <td>3.1</td>\n      <td>1.5</td>\n      <td>0.2</td>\n      <td>Iris-setosa</td>\n    </tr>\n    <tr>\n      <th>4</th>\n      <td>5.0</td>\n      <td>3.6</td>\n      <td>1.4</td>\n      <td>0.2</td>\n      <td>Iris-setosa</td>\n    </tr>\n    <tr>\n      <th>5</th>\n      <td>5.4</td>\n      <td>3.9</td>\n      <td>1.7</td>\n      <td>0.4</td>\n      <td>Iris-setosa</td>\n    </tr>\n    <tr>\n      <th>6</th>\n      <td>4.6</td>\n      <td>3.4</td>\n      <td>1.4</td>\n      <td>0.3</td>\n      <td>Iris-setosa</td>\n    </tr>\n    <tr>\n      <th>7</th>\n      <td>5.0</td>\n      <td>3.4</td>\n      <td>1.5</td>\n      <td>0.2</td>\n      <td>Iris-setosa</td>\n    </tr>\n    <tr>\n      <th>8</th>\n      <td>4.4</td>\n      <td>2.9</td>\n      <td>1.4</td>\n      <td>0.2</td>\n      <td>Iris-setosa</td>\n    </tr>\n    <tr>\n      <th>9</th>\n      <td>4.9</td>\n      <td>3.1</td>\n      <td>1.5</td>\n      <td>0.1</td>\n      <td>Iris-setosa</td>\n    </tr>\n    <tr>\n      <th>10</th>\n      <td>5.4</td>\n      <td>3.7</td>\n      <td>1.5</td>\n      <td>0.2</td>\n      <td>Iris-setosa</td>\n    </tr>\n    <tr>\n      <th>11</th>\n      <td>4.8</td>\n      <td>3.4</td>\n      <td>1.6</td>\n      <td>0.2</td>\n      <td>Iris-setosa</td>\n    </tr>\n    <tr>\n      <th>12</th>\n      <td>4.8</td>\n      <td>3.0</td>\n      <td>1.4</td>\n      <td>0.1</td>\n      <td>Iris-setosa</td>\n    </tr>\n    <tr>\n      <th>13</th>\n      <td>4.3</td>\n      <td>3.0</td>\n      <td>1.1</td>\n      <td>0.1</td>\n      <td>Iris-setosa</td>\n    </tr>\n    <tr>\n      <th>14</th>\n      <td>5.8</td>\n      <td>4.0</td>\n      <td>1.2</td>\n      <td>0.2</td>\n      <td>Iris-setosa</td>\n    </tr>\n    <tr>\n      <th>15</th>\n      <td>5.7</td>\n      <td>4.4</td>\n      <td>1.5</td>\n      <td>0.4</td>\n      <td>Iris-setosa</td>\n    </tr>\n    <tr>\n      <th>16</th>\n      <td>5.4</td>\n      <td>3.9</td>\n      <td>1.3</td>\n      <td>0.4</td>\n      <td>Iris-setosa</td>\n    </tr>\n    <tr>\n      <th>17</th>\n      <td>5.1</td>\n      <td>3.5</td>\n      <td>1.4</td>\n      <td>0.3</td>\n      <td>Iris-setosa</td>\n    </tr>\n    <tr>\n      <th>18</th>\n      <td>5.7</td>\n      <td>3.8</td>\n      <td>1.7</td>\n      <td>0.3</td>\n      <td>Iris-setosa</td>\n    </tr>\n    <tr>\n      <th>19</th>\n      <td>5.1</td>\n      <td>3.8</td>\n      <td>1.5</td>\n      <td>0.3</td>\n      <td>Iris-setosa</td>\n    </tr>\n    <tr>\n      <th>20</th>\n      <td>5.4</td>\n      <td>3.4</td>\n      <td>1.7</td>\n      <td>0.2</td>\n      <td>Iris-setosa</td>\n    </tr>\n    <tr>\n      <th>21</th>\n      <td>5.1</td>\n      <td>3.7</td>\n      <td>1.5</td>\n      <td>0.4</td>\n      <td>Iris-setosa</td>\n    </tr>\n    <tr>\n      <th>22</th>\n      <td>4.6</td>\n      <td>3.6</td>\n      <td>1.0</td>\n      <td>0.2</td>\n      <td>Iris-setosa</td>\n    </tr>\n    <tr>\n      <th>23</th>\n      <td>5.1</td>\n      <td>3.3</td>\n      <td>1.7</td>\n      <td>0.5</td>\n      <td>Iris-setosa</td>\n    </tr>\n    <tr>\n      <th>24</th>\n      <td>4.8</td>\n      <td>3.4</td>\n      <td>1.9</td>\n      <td>0.2</td>\n      <td>Iris-setosa</td>\n    </tr>\n    <tr>\n      <th>25</th>\n      <td>5.0</td>\n      <td>3.0</td>\n      <td>1.6</td>\n      <td>0.2</td>\n      <td>Iris-setosa</td>\n    </tr>\n    <tr>\n      <th>26</th>\n      <td>5.0</td>\n      <td>3.4</td>\n      <td>1.6</td>\n      <td>0.4</td>\n      <td>Iris-setosa</td>\n    </tr>\n    <tr>\n      <th>27</th>\n      <td>5.2</td>\n      <td>3.5</td>\n      <td>1.5</td>\n      <td>0.2</td>\n      <td>Iris-setosa</td>\n    </tr>\n    <tr>\n      <th>28</th>\n      <td>5.2</td>\n      <td>3.4</td>\n      <td>1.4</td>\n      <td>0.2</td>\n      <td>Iris-setosa</td>\n    </tr>\n    <tr>\n      <th>29</th>\n      <td>4.7</td>\n      <td>3.2</td>\n      <td>1.6</td>\n      <td>0.2</td>\n      <td>Iris-setosa</td>\n    </tr>\n    <tr>\n      <th>...</th>\n      <td>...</td>\n      <td>...</td>\n      <td>...</td>\n      <td>...</td>\n      <td>...</td>\n    </tr>\n    <tr>\n      <th>120</th>\n      <td>6.9</td>\n      <td>3.2</td>\n      <td>5.7</td>\n      <td>2.3</td>\n      <td>Iris-virginica</td>\n    </tr>\n    <tr>\n      <th>121</th>\n      <td>5.6</td>\n      <td>2.8</td>\n      <td>4.9</td>\n      <td>2.0</td>\n      <td>Iris-virginica</td>\n    </tr>\n    <tr>\n      <th>122</th>\n      <td>7.7</td>\n      <td>2.8</td>\n      <td>6.7</td>\n      <td>2.0</td>\n      <td>Iris-virginica</td>\n    </tr>\n    <tr>\n      <th>123</th>\n      <td>6.3</td>\n      <td>2.7</td>\n      <td>4.9</td>\n      <td>1.8</td>\n      <td>Iris-virginica</td>\n    </tr>\n    <tr>\n      <th>124</th>\n      <td>6.7</td>\n      <td>3.3</td>\n      <td>5.7</td>\n      <td>2.1</td>\n      <td>Iris-virginica</td>\n    </tr>\n    <tr>\n      <th>125</th>\n      <td>7.2</td>\n      <td>3.2</td>\n      <td>6.0</td>\n      <td>1.8</td>\n      <td>Iris-virginica</td>\n    </tr>\n    <tr>\n      <th>126</th>\n      <td>6.2</td>\n      <td>2.8</td>\n      <td>4.8</td>\n      <td>1.8</td>\n      <td>Iris-virginica</td>\n    </tr>\n    <tr>\n      <th>127</th>\n      <td>6.1</td>\n      <td>3.0</td>\n      <td>4.9</td>\n      <td>1.8</td>\n      <td>Iris-virginica</td>\n    </tr>\n    <tr>\n      <th>128</th>\n      <td>6.4</td>\n      <td>2.8</td>\n      <td>5.6</td>\n      <td>2.1</td>\n      <td>Iris-virginica</td>\n    </tr>\n    <tr>\n      <th>129</th>\n      <td>7.2</td>\n      <td>3.0</td>\n      <td>5.8</td>\n      <td>1.6</td>\n      <td>Iris-virginica</td>\n    </tr>\n    <tr>\n      <th>130</th>\n      <td>7.4</td>\n      <td>2.8</td>\n      <td>6.1</td>\n      <td>1.9</td>\n      <td>Iris-virginica</td>\n    </tr>\n    <tr>\n      <th>131</th>\n      <td>7.9</td>\n      <td>3.8</td>\n      <td>6.4</td>\n      <td>2.0</td>\n      <td>Iris-virginica</td>\n    </tr>\n    <tr>\n      <th>132</th>\n      <td>6.4</td>\n      <td>2.8</td>\n      <td>5.6</td>\n      <td>2.2</td>\n      <td>Iris-virginica</td>\n    </tr>\n    <tr>\n      <th>133</th>\n      <td>6.3</td>\n      <td>2.8</td>\n      <td>5.1</td>\n      <td>1.5</td>\n      <td>Iris-virginica</td>\n    </tr>\n    <tr>\n      <th>134</th>\n      <td>6.1</td>\n      <td>2.6</td>\n      <td>5.6</td>\n      <td>1.4</td>\n      <td>Iris-virginica</td>\n    </tr>\n    <tr>\n      <th>135</th>\n      <td>7.7</td>\n      <td>3.0</td>\n      <td>6.1</td>\n      <td>2.3</td>\n      <td>Iris-virginica</td>\n    </tr>\n    <tr>\n      <th>136</th>\n      <td>6.3</td>\n      <td>3.4</td>\n      <td>5.6</td>\n      <td>2.4</td>\n      <td>Iris-virginica</td>\n    </tr>\n    <tr>\n      <th>137</th>\n      <td>6.4</td>\n      <td>3.1</td>\n      <td>5.5</td>\n      <td>1.8</td>\n      <td>Iris-virginica</td>\n    </tr>\n    <tr>\n      <th>138</th>\n      <td>6.0</td>\n      <td>3.0</td>\n      <td>4.8</td>\n      <td>1.8</td>\n      <td>Iris-virginica</td>\n    </tr>\n    <tr>\n      <th>139</th>\n      <td>6.9</td>\n      <td>3.1</td>\n      <td>5.4</td>\n      <td>2.1</td>\n      <td>Iris-virginica</td>\n    </tr>\n    <tr>\n      <th>140</th>\n      <td>6.7</td>\n      <td>3.1</td>\n      <td>5.6</td>\n      <td>2.4</td>\n      <td>Iris-virginica</td>\n    </tr>\n    <tr>\n      <th>141</th>\n      <td>6.9</td>\n      <td>3.1</td>\n      <td>5.1</td>\n      <td>2.3</td>\n      <td>Iris-virginica</td>\n    </tr>\n    <tr>\n      <th>142</th>\n      <td>5.8</td>\n      <td>2.7</td>\n      <td>5.1</td>\n      <td>1.9</td>\n      <td>Iris-virginica</td>\n    </tr>\n    <tr>\n      <th>143</th>\n      <td>6.8</td>\n      <td>3.2</td>\n      <td>5.9</td>\n      <td>2.3</td>\n      <td>Iris-virginica</td>\n    </tr>\n    <tr>\n      <th>144</th>\n      <td>6.7</td>\n      <td>3.3</td>\n      <td>5.7</td>\n      <td>2.5</td>\n      <td>Iris-virginica</td>\n    </tr>\n    <tr>\n      <th>145</th>\n      <td>6.7</td>\n      <td>3.0</td>\n      <td>5.2</td>\n      <td>2.3</td>\n      <td>Iris-virginica</td>\n    </tr>\n    <tr>\n      <th>146</th>\n      <td>6.3</td>\n      <td>2.5</td>\n      <td>5.0</td>\n      <td>1.9</td>\n      <td>Iris-virginica</td>\n    </tr>\n    <tr>\n      <th>147</th>\n      <td>6.5</td>\n      <td>3.0</td>\n      <td>5.2</td>\n      <td>2.0</td>\n      <td>Iris-virginica</td>\n    </tr>\n    <tr>\n      <th>148</th>\n      <td>6.2</td>\n      <td>3.4</td>\n      <td>5.4</td>\n      <td>2.3</td>\n      <td>Iris-virginica</td>\n    </tr>\n    <tr>\n      <th>149</th>\n      <td>5.9</td>\n      <td>3.0</td>\n      <td>5.1</td>\n      <td>1.8</td>\n      <td>Iris-virginica</td>\n    </tr>\n  </tbody>\n</table>\n<p>150 rows × 5 columns</p>\n</div>",
      "text/plain": "     sepal-length  sepal-width  petal-length  petal-width            type\n0             5.1          3.5           1.4          0.2     Iris-setosa\n1             4.9          3.0           1.4          0.2     Iris-setosa\n2             4.7          3.2           1.3          0.2     Iris-setosa\n3             4.6          3.1           1.5          0.2     Iris-setosa\n4             5.0          3.6           1.4          0.2     Iris-setosa\n5             5.4          3.9           1.7          0.4     Iris-setosa\n6             4.6          3.4           1.4          0.3     Iris-setosa\n7             5.0          3.4           1.5          0.2     Iris-setosa\n8             4.4          2.9           1.4          0.2     Iris-setosa\n9             4.9          3.1           1.5          0.1     Iris-setosa\n10            5.4          3.7           1.5          0.2     Iris-setosa\n11            4.8          3.4           1.6          0.2     Iris-setosa\n12            4.8          3.0           1.4          0.1     Iris-setosa\n13            4.3          3.0           1.1          0.1     Iris-setosa\n14            5.8          4.0           1.2          0.2     Iris-setosa\n15            5.7          4.4           1.5          0.4     Iris-setosa\n16            5.4          3.9           1.3          0.4     Iris-setosa\n17            5.1          3.5           1.4          0.3     Iris-setosa\n18            5.7          3.8           1.7          0.3     Iris-setosa\n19            5.1          3.8           1.5          0.3     Iris-setosa\n20            5.4          3.4           1.7          0.2     Iris-setosa\n21            5.1          3.7           1.5          0.4     Iris-setosa\n22            4.6          3.6           1.0          0.2     Iris-setosa\n23            5.1          3.3           1.7          0.5     Iris-setosa\n24            4.8          3.4           1.9          0.2     Iris-setosa\n25            5.0          3.0           1.6          0.2     Iris-setosa\n26            5.0          3.4           1.6          0.4     Iris-setosa\n27            5.2          3.5           1.5          0.2     Iris-setosa\n28            5.2          3.4           1.4          0.2     Iris-setosa\n29            4.7          3.2           1.6          0.2     Iris-setosa\n..            ...          ...           ...          ...             ...\n120           6.9          3.2           5.7          2.3  Iris-virginica\n121           5.6          2.8           4.9          2.0  Iris-virginica\n122           7.7          2.8           6.7          2.0  Iris-virginica\n123           6.3          2.7           4.9          1.8  Iris-virginica\n124           6.7          3.3           5.7          2.1  Iris-virginica\n125           7.2          3.2           6.0          1.8  Iris-virginica\n126           6.2          2.8           4.8          1.8  Iris-virginica\n127           6.1          3.0           4.9          1.8  Iris-virginica\n128           6.4          2.8           5.6          2.1  Iris-virginica\n129           7.2          3.0           5.8          1.6  Iris-virginica\n130           7.4          2.8           6.1          1.9  Iris-virginica\n131           7.9          3.8           6.4          2.0  Iris-virginica\n132           6.4          2.8           5.6          2.2  Iris-virginica\n133           6.3          2.8           5.1          1.5  Iris-virginica\n134           6.1          2.6           5.6          1.4  Iris-virginica\n135           7.7          3.0           6.1          2.3  Iris-virginica\n136           6.3          3.4           5.6          2.4  Iris-virginica\n137           6.4          3.1           5.5          1.8  Iris-virginica\n138           6.0          3.0           4.8          1.8  Iris-virginica\n139           6.9          3.1           5.4          2.1  Iris-virginica\n140           6.7          3.1           5.6          2.4  Iris-virginica\n141           6.9          3.1           5.1          2.3  Iris-virginica\n142           5.8          2.7           5.1          1.9  Iris-virginica\n143           6.8          3.2           5.9          2.3  Iris-virginica\n144           6.7          3.3           5.7          2.5  Iris-virginica\n145           6.7          3.0           5.2          2.3  Iris-virginica\n146           6.3          2.5           5.0          1.9  Iris-virginica\n147           6.5          3.0           5.2          2.0  Iris-virginica\n148           6.2          3.4           5.4          2.3  Iris-virginica\n149           5.9          3.0           5.1          1.8  Iris-virginica\n\n[150 rows x 5 columns]"
     },
     "execution_count": 18,
     "metadata": {},
     "output_type": "execute_result"
    }
   ],
   "source": [
    "iris_2 = iris.assign(type = pd.Categorical(iris.type))\n",
    "iris_2"
   ]
  },
  {
   "cell_type": "code",
   "execution_count": 19,
   "metadata": {},
   "outputs": [
    {
     "data": {
      "text/html": "<div>\n<style scoped>\n    .dataframe tbody tr th:only-of-type {\n        vertical-align: middle;\n    }\n\n    .dataframe tbody tr th {\n        vertical-align: top;\n    }\n\n    .dataframe thead th {\n        text-align: right;\n    }\n</style>\n<table border=\"1\" class=\"dataframe\">\n  <thead>\n    <tr style=\"text-align: right;\">\n      <th></th>\n      <th>sepal-length</th>\n      <th>sepal-width</th>\n      <th>petal-length</th>\n      <th>petal-width</th>\n      <th>type</th>\n    </tr>\n  </thead>\n  <tbody>\n    <tr>\n      <th>0</th>\n      <td>5.1</td>\n      <td>3.5</td>\n      <td>1.4</td>\n      <td>0.2</td>\n      <td>0</td>\n    </tr>\n    <tr>\n      <th>1</th>\n      <td>4.9</td>\n      <td>3.0</td>\n      <td>1.4</td>\n      <td>0.2</td>\n      <td>0</td>\n    </tr>\n    <tr>\n      <th>2</th>\n      <td>4.7</td>\n      <td>3.2</td>\n      <td>1.3</td>\n      <td>0.2</td>\n      <td>0</td>\n    </tr>\n    <tr>\n      <th>3</th>\n      <td>4.6</td>\n      <td>3.1</td>\n      <td>1.5</td>\n      <td>0.2</td>\n      <td>0</td>\n    </tr>\n    <tr>\n      <th>4</th>\n      <td>5.0</td>\n      <td>3.6</td>\n      <td>1.4</td>\n      <td>0.2</td>\n      <td>0</td>\n    </tr>\n    <tr>\n      <th>5</th>\n      <td>5.4</td>\n      <td>3.9</td>\n      <td>1.7</td>\n      <td>0.4</td>\n      <td>0</td>\n    </tr>\n    <tr>\n      <th>6</th>\n      <td>4.6</td>\n      <td>3.4</td>\n      <td>1.4</td>\n      <td>0.3</td>\n      <td>0</td>\n    </tr>\n    <tr>\n      <th>7</th>\n      <td>5.0</td>\n      <td>3.4</td>\n      <td>1.5</td>\n      <td>0.2</td>\n      <td>0</td>\n    </tr>\n    <tr>\n      <th>8</th>\n      <td>4.4</td>\n      <td>2.9</td>\n      <td>1.4</td>\n      <td>0.2</td>\n      <td>0</td>\n    </tr>\n    <tr>\n      <th>9</th>\n      <td>4.9</td>\n      <td>3.1</td>\n      <td>1.5</td>\n      <td>0.1</td>\n      <td>0</td>\n    </tr>\n    <tr>\n      <th>10</th>\n      <td>5.4</td>\n      <td>3.7</td>\n      <td>1.5</td>\n      <td>0.2</td>\n      <td>0</td>\n    </tr>\n    <tr>\n      <th>11</th>\n      <td>4.8</td>\n      <td>3.4</td>\n      <td>1.6</td>\n      <td>0.2</td>\n      <td>0</td>\n    </tr>\n    <tr>\n      <th>12</th>\n      <td>4.8</td>\n      <td>3.0</td>\n      <td>1.4</td>\n      <td>0.1</td>\n      <td>0</td>\n    </tr>\n    <tr>\n      <th>13</th>\n      <td>4.3</td>\n      <td>3.0</td>\n      <td>1.1</td>\n      <td>0.1</td>\n      <td>0</td>\n    </tr>\n    <tr>\n      <th>14</th>\n      <td>5.8</td>\n      <td>4.0</td>\n      <td>1.2</td>\n      <td>0.2</td>\n      <td>0</td>\n    </tr>\n    <tr>\n      <th>15</th>\n      <td>5.7</td>\n      <td>4.4</td>\n      <td>1.5</td>\n      <td>0.4</td>\n      <td>0</td>\n    </tr>\n    <tr>\n      <th>16</th>\n      <td>5.4</td>\n      <td>3.9</td>\n      <td>1.3</td>\n      <td>0.4</td>\n      <td>0</td>\n    </tr>\n    <tr>\n      <th>17</th>\n      <td>5.1</td>\n      <td>3.5</td>\n      <td>1.4</td>\n      <td>0.3</td>\n      <td>0</td>\n    </tr>\n    <tr>\n      <th>18</th>\n      <td>5.7</td>\n      <td>3.8</td>\n      <td>1.7</td>\n      <td>0.3</td>\n      <td>0</td>\n    </tr>\n    <tr>\n      <th>19</th>\n      <td>5.1</td>\n      <td>3.8</td>\n      <td>1.5</td>\n      <td>0.3</td>\n      <td>0</td>\n    </tr>\n    <tr>\n      <th>20</th>\n      <td>5.4</td>\n      <td>3.4</td>\n      <td>1.7</td>\n      <td>0.2</td>\n      <td>0</td>\n    </tr>\n    <tr>\n      <th>21</th>\n      <td>5.1</td>\n      <td>3.7</td>\n      <td>1.5</td>\n      <td>0.4</td>\n      <td>0</td>\n    </tr>\n    <tr>\n      <th>22</th>\n      <td>4.6</td>\n      <td>3.6</td>\n      <td>1.0</td>\n      <td>0.2</td>\n      <td>0</td>\n    </tr>\n    <tr>\n      <th>23</th>\n      <td>5.1</td>\n      <td>3.3</td>\n      <td>1.7</td>\n      <td>0.5</td>\n      <td>0</td>\n    </tr>\n    <tr>\n      <th>24</th>\n      <td>4.8</td>\n      <td>3.4</td>\n      <td>1.9</td>\n      <td>0.2</td>\n      <td>0</td>\n    </tr>\n    <tr>\n      <th>25</th>\n      <td>5.0</td>\n      <td>3.0</td>\n      <td>1.6</td>\n      <td>0.2</td>\n      <td>0</td>\n    </tr>\n    <tr>\n      <th>26</th>\n      <td>5.0</td>\n      <td>3.4</td>\n      <td>1.6</td>\n      <td>0.4</td>\n      <td>0</td>\n    </tr>\n    <tr>\n      <th>27</th>\n      <td>5.2</td>\n      <td>3.5</td>\n      <td>1.5</td>\n      <td>0.2</td>\n      <td>0</td>\n    </tr>\n    <tr>\n      <th>28</th>\n      <td>5.2</td>\n      <td>3.4</td>\n      <td>1.4</td>\n      <td>0.2</td>\n      <td>0</td>\n    </tr>\n    <tr>\n      <th>29</th>\n      <td>4.7</td>\n      <td>3.2</td>\n      <td>1.6</td>\n      <td>0.2</td>\n      <td>0</td>\n    </tr>\n    <tr>\n      <th>...</th>\n      <td>...</td>\n      <td>...</td>\n      <td>...</td>\n      <td>...</td>\n      <td>...</td>\n    </tr>\n    <tr>\n      <th>120</th>\n      <td>6.9</td>\n      <td>3.2</td>\n      <td>5.7</td>\n      <td>2.3</td>\n      <td>2</td>\n    </tr>\n    <tr>\n      <th>121</th>\n      <td>5.6</td>\n      <td>2.8</td>\n      <td>4.9</td>\n      <td>2.0</td>\n      <td>2</td>\n    </tr>\n    <tr>\n      <th>122</th>\n      <td>7.7</td>\n      <td>2.8</td>\n      <td>6.7</td>\n      <td>2.0</td>\n      <td>2</td>\n    </tr>\n    <tr>\n      <th>123</th>\n      <td>6.3</td>\n      <td>2.7</td>\n      <td>4.9</td>\n      <td>1.8</td>\n      <td>2</td>\n    </tr>\n    <tr>\n      <th>124</th>\n      <td>6.7</td>\n      <td>3.3</td>\n      <td>5.7</td>\n      <td>2.1</td>\n      <td>2</td>\n    </tr>\n    <tr>\n      <th>125</th>\n      <td>7.2</td>\n      <td>3.2</td>\n      <td>6.0</td>\n      <td>1.8</td>\n      <td>2</td>\n    </tr>\n    <tr>\n      <th>126</th>\n      <td>6.2</td>\n      <td>2.8</td>\n      <td>4.8</td>\n      <td>1.8</td>\n      <td>2</td>\n    </tr>\n    <tr>\n      <th>127</th>\n      <td>6.1</td>\n      <td>3.0</td>\n      <td>4.9</td>\n      <td>1.8</td>\n      <td>2</td>\n    </tr>\n    <tr>\n      <th>128</th>\n      <td>6.4</td>\n      <td>2.8</td>\n      <td>5.6</td>\n      <td>2.1</td>\n      <td>2</td>\n    </tr>\n    <tr>\n      <th>129</th>\n      <td>7.2</td>\n      <td>3.0</td>\n      <td>5.8</td>\n      <td>1.6</td>\n      <td>2</td>\n    </tr>\n    <tr>\n      <th>130</th>\n      <td>7.4</td>\n      <td>2.8</td>\n      <td>6.1</td>\n      <td>1.9</td>\n      <td>2</td>\n    </tr>\n    <tr>\n      <th>131</th>\n      <td>7.9</td>\n      <td>3.8</td>\n      <td>6.4</td>\n      <td>2.0</td>\n      <td>2</td>\n    </tr>\n    <tr>\n      <th>132</th>\n      <td>6.4</td>\n      <td>2.8</td>\n      <td>5.6</td>\n      <td>2.2</td>\n      <td>2</td>\n    </tr>\n    <tr>\n      <th>133</th>\n      <td>6.3</td>\n      <td>2.8</td>\n      <td>5.1</td>\n      <td>1.5</td>\n      <td>2</td>\n    </tr>\n    <tr>\n      <th>134</th>\n      <td>6.1</td>\n      <td>2.6</td>\n      <td>5.6</td>\n      <td>1.4</td>\n      <td>2</td>\n    </tr>\n    <tr>\n      <th>135</th>\n      <td>7.7</td>\n      <td>3.0</td>\n      <td>6.1</td>\n      <td>2.3</td>\n      <td>2</td>\n    </tr>\n    <tr>\n      <th>136</th>\n      <td>6.3</td>\n      <td>3.4</td>\n      <td>5.6</td>\n      <td>2.4</td>\n      <td>2</td>\n    </tr>\n    <tr>\n      <th>137</th>\n      <td>6.4</td>\n      <td>3.1</td>\n      <td>5.5</td>\n      <td>1.8</td>\n      <td>2</td>\n    </tr>\n    <tr>\n      <th>138</th>\n      <td>6.0</td>\n      <td>3.0</td>\n      <td>4.8</td>\n      <td>1.8</td>\n      <td>2</td>\n    </tr>\n    <tr>\n      <th>139</th>\n      <td>6.9</td>\n      <td>3.1</td>\n      <td>5.4</td>\n      <td>2.1</td>\n      <td>2</td>\n    </tr>\n    <tr>\n      <th>140</th>\n      <td>6.7</td>\n      <td>3.1</td>\n      <td>5.6</td>\n      <td>2.4</td>\n      <td>2</td>\n    </tr>\n    <tr>\n      <th>141</th>\n      <td>6.9</td>\n      <td>3.1</td>\n      <td>5.1</td>\n      <td>2.3</td>\n      <td>2</td>\n    </tr>\n    <tr>\n      <th>142</th>\n      <td>5.8</td>\n      <td>2.7</td>\n      <td>5.1</td>\n      <td>1.9</td>\n      <td>2</td>\n    </tr>\n    <tr>\n      <th>143</th>\n      <td>6.8</td>\n      <td>3.2</td>\n      <td>5.9</td>\n      <td>2.3</td>\n      <td>2</td>\n    </tr>\n    <tr>\n      <th>144</th>\n      <td>6.7</td>\n      <td>3.3</td>\n      <td>5.7</td>\n      <td>2.5</td>\n      <td>2</td>\n    </tr>\n    <tr>\n      <th>145</th>\n      <td>6.7</td>\n      <td>3.0</td>\n      <td>5.2</td>\n      <td>2.3</td>\n      <td>2</td>\n    </tr>\n    <tr>\n      <th>146</th>\n      <td>6.3</td>\n      <td>2.5</td>\n      <td>5.0</td>\n      <td>1.9</td>\n      <td>2</td>\n    </tr>\n    <tr>\n      <th>147</th>\n      <td>6.5</td>\n      <td>3.0</td>\n      <td>5.2</td>\n      <td>2.0</td>\n      <td>2</td>\n    </tr>\n    <tr>\n      <th>148</th>\n      <td>6.2</td>\n      <td>3.4</td>\n      <td>5.4</td>\n      <td>2.3</td>\n      <td>2</td>\n    </tr>\n    <tr>\n      <th>149</th>\n      <td>5.9</td>\n      <td>3.0</td>\n      <td>5.1</td>\n      <td>1.8</td>\n      <td>2</td>\n    </tr>\n  </tbody>\n</table>\n<p>150 rows × 5 columns</p>\n</div>",
      "text/plain": "     sepal-length  sepal-width  petal-length  petal-width  type\n0             5.1          3.5           1.4          0.2     0\n1             4.9          3.0           1.4          0.2     0\n2             4.7          3.2           1.3          0.2     0\n3             4.6          3.1           1.5          0.2     0\n4             5.0          3.6           1.4          0.2     0\n5             5.4          3.9           1.7          0.4     0\n6             4.6          3.4           1.4          0.3     0\n7             5.0          3.4           1.5          0.2     0\n8             4.4          2.9           1.4          0.2     0\n9             4.9          3.1           1.5          0.1     0\n10            5.4          3.7           1.5          0.2     0\n11            4.8          3.4           1.6          0.2     0\n12            4.8          3.0           1.4          0.1     0\n13            4.3          3.0           1.1          0.1     0\n14            5.8          4.0           1.2          0.2     0\n15            5.7          4.4           1.5          0.4     0\n16            5.4          3.9           1.3          0.4     0\n17            5.1          3.5           1.4          0.3     0\n18            5.7          3.8           1.7          0.3     0\n19            5.1          3.8           1.5          0.3     0\n20            5.4          3.4           1.7          0.2     0\n21            5.1          3.7           1.5          0.4     0\n22            4.6          3.6           1.0          0.2     0\n23            5.1          3.3           1.7          0.5     0\n24            4.8          3.4           1.9          0.2     0\n25            5.0          3.0           1.6          0.2     0\n26            5.0          3.4           1.6          0.4     0\n27            5.2          3.5           1.5          0.2     0\n28            5.2          3.4           1.4          0.2     0\n29            4.7          3.2           1.6          0.2     0\n..            ...          ...           ...          ...   ...\n120           6.9          3.2           5.7          2.3     2\n121           5.6          2.8           4.9          2.0     2\n122           7.7          2.8           6.7          2.0     2\n123           6.3          2.7           4.9          1.8     2\n124           6.7          3.3           5.7          2.1     2\n125           7.2          3.2           6.0          1.8     2\n126           6.2          2.8           4.8          1.8     2\n127           6.1          3.0           4.9          1.8     2\n128           6.4          2.8           5.6          2.1     2\n129           7.2          3.0           5.8          1.6     2\n130           7.4          2.8           6.1          1.9     2\n131           7.9          3.8           6.4          2.0     2\n132           6.4          2.8           5.6          2.2     2\n133           6.3          2.8           5.1          1.5     2\n134           6.1          2.6           5.6          1.4     2\n135           7.7          3.0           6.1          2.3     2\n136           6.3          3.4           5.6          2.4     2\n137           6.4          3.1           5.5          1.8     2\n138           6.0          3.0           4.8          1.8     2\n139           6.9          3.1           5.4          2.1     2\n140           6.7          3.1           5.6          2.4     2\n141           6.9          3.1           5.1          2.3     2\n142           5.8          2.7           5.1          1.9     2\n143           6.8          3.2           5.9          2.3     2\n144           6.7          3.3           5.7          2.5     2\n145           6.7          3.0           5.2          2.3     2\n146           6.3          2.5           5.0          1.9     2\n147           6.5          3.0           5.2          2.0     2\n148           6.2          3.4           5.4          2.3     2\n149           5.9          3.0           5.1          1.8     2\n\n[150 rows x 5 columns]"
     },
     "execution_count": 19,
     "metadata": {},
     "output_type": "execute_result"
    }
   ],
   "source": [
    "iris_2 = iris_2.assign(type = iris_2.type.cat.codes)\n",
    "iris_2"
   ]
  },
  {
   "cell_type": "code",
   "execution_count": 43,
   "metadata": {},
   "outputs": [],
   "source": [
    "#khám phá dữ liệu\n",
    "champs = pd.read_csv('https://raw.githubusercontent.com/Levytan/MIS.2019/master/Data/lol_champions.csv', sep = ';', decimal = ',')\n",
    "champs.head()\n",
    "champs = champs.assign(release_date = pd.to_datetime(champs.release_date))"
   ]
  },
  {
   "cell_type": "code",
   "execution_count": 9,
   "metadata": {},
   "outputs": [
    {
     "data": {
      "text/plain": "count    3.0\nmean     2.0\nstd      1.0\nmin      1.0\n25%      1.5\n50%      2.0\n75%      2.5\nmax      3.0\ndtype: float64"
     },
     "execution_count": 9,
     "metadata": {},
     "output_type": "execute_result"
    }
   ],
   "source": [
    "s = pd.Series([1, 2, 3, float('nan')])\n",
    "\n",
    "s.describe() #thống kê mô tả tự động bỏ qua giá trị NaN\n",
    "# đối với Series mặc định thực hiện trên từng cột"
   ]
  },
  {
   "cell_type": "code",
   "execution_count": 10,
   "metadata": {},
   "outputs": [
    {
     "data": {
      "text/plain": "attack_at_lv1       59.351257\nattack_at_lv18     114.291781\nhealth_at_lv1      556.412603\nhealth_at_lv18    2059.282877\ndtype: float64"
     },
     "execution_count": 10,
     "metadata": {},
     "output_type": "execute_result"
    }
   ],
   "source": [
    "champs.mean() #cột nào trả về được mean thì mới tính"
   ]
  },
  {
   "cell_type": "code",
   "execution_count": 16,
   "metadata": {},
   "outputs": [
    {
     "data": {
      "text/plain": "attack_at_lv1       70.00\nattack_at_lv18     153.00\nhealth_at_lv1      625.64\nhealth_at_lv18    2466.00\ndtype: float64"
     },
     "execution_count": 16,
     "metadata": {},
     "output_type": "execute_result"
    }
   ],
   "source": [
    "champs.max(numeric_only =True) #nếu không có tham số thì lấy cả những cột có chữ"
   ]
  },
  {
   "cell_type": "code",
   "execution_count": 14,
   "metadata": {},
   "outputs": [
    {
     "data": {
      "text/html": "<div>\n<style scoped>\n    .dataframe tbody tr th:only-of-type {\n        vertical-align: middle;\n    }\n\n    .dataframe tbody tr th {\n        vertical-align: top;\n    }\n\n    .dataframe thead th {\n        text-align: right;\n    }\n</style>\n<table border=\"1\" class=\"dataframe\">\n  <thead>\n    <tr style=\"text-align: right;\">\n      <th></th>\n      <th>attack_at_lv1</th>\n      <th>attack_at_lv18</th>\n      <th>health_at_lv1</th>\n      <th>health_at_lv18</th>\n    </tr>\n  </thead>\n  <tbody>\n    <tr>\n      <th>count</th>\n      <td>146.000000</td>\n      <td>146.000000</td>\n      <td>146.000000</td>\n      <td>146.000000</td>\n    </tr>\n    <tr>\n      <th>mean</th>\n      <td>59.351257</td>\n      <td>114.291781</td>\n      <td>556.412603</td>\n      <td>2059.282877</td>\n    </tr>\n    <tr>\n      <th>std</th>\n      <td>6.204104</td>\n      <td>14.653974</td>\n      <td>35.273908</td>\n      <td>135.510481</td>\n    </tr>\n    <tr>\n      <th>min</th>\n      <td>40.368000</td>\n      <td>50.000000</td>\n      <td>400.000000</td>\n      <td>1420.000000</td>\n    </tr>\n    <tr>\n      <th>25%</th>\n      <td>54.953425</td>\n      <td>105.850000</td>\n      <td>533.100000</td>\n      <td>2013.500000</td>\n    </tr>\n    <tr>\n      <th>50%</th>\n      <td>60.000000</td>\n      <td>114.250000</td>\n      <td>563.240000</td>\n      <td>2055.100000</td>\n    </tr>\n    <tr>\n      <th>75%</th>\n      <td>64.000000</td>\n      <td>121.725000</td>\n      <td>582.180000</td>\n      <td>2123.000000</td>\n    </tr>\n    <tr>\n      <th>max</th>\n      <td>70.000000</td>\n      <td>153.000000</td>\n      <td>625.640000</td>\n      <td>2466.000000</td>\n    </tr>\n  </tbody>\n</table>\n</div>",
      "text/plain": "       attack_at_lv1  attack_at_lv18  health_at_lv1  health_at_lv18\ncount     146.000000      146.000000     146.000000      146.000000\nmean       59.351257      114.291781     556.412603     2059.282877\nstd         6.204104       14.653974      35.273908      135.510481\nmin        40.368000       50.000000     400.000000     1420.000000\n25%        54.953425      105.850000     533.100000     2013.500000\n50%        60.000000      114.250000     563.240000     2055.100000\n75%        64.000000      121.725000     582.180000     2123.000000\nmax        70.000000      153.000000     625.640000     2466.000000"
     },
     "execution_count": 14,
     "metadata": {},
     "output_type": "execute_result"
    }
   ],
   "source": [
    "champs.describe()"
   ]
  },
  {
   "cell_type": "code",
   "execution_count": null,
   "metadata": {},
   "outputs": [],
   "source": [
    "# tính theo dóng thêm tham số axis = 'columns' or axis = 1"
   ]
  },
  {
   "cell_type": "code",
   "execution_count": 20,
   "metadata": {},
   "outputs": [
    {
     "data": {
      "text/plain": "#\n1      39.875\n2      50.750\n3      65.750\n3      78.250\n4      38.750\n5      50.750\n6      66.875\n6      79.375\n6      79.375\n7      39.375\n8      50.750\n9      66.375\n9      78.875\n10     24.500\n11     25.750\n12     49.500\n13     24.500\n14     25.750\n15     49.500\n15     62.000\n16     31.500\n17     43.750\n18     60.000\n18     72.500\n19     31.750\n20     51.750\n21     32.875\n22     55.375\n23     36.125\n24     54.875\n        ...  \n700    66.375\n701    63.250\n702    54.625\n703    63.250\n704    38.250\n705    57.250\n706    75.750\n707    59.500\n708    39.375\n709    60.000\n710    42.625\n710    42.625\n710    42.625\n710    42.625\n711    62.500\n711    62.500\n711    62.500\n711    62.500\n712    38.750\n713    65.000\n714    31.375\n715    67.625\n716    85.875\n717    85.875\n718    75.875\n719    75.875\n719    88.375\n720    75.875\n720    85.875\n721    75.875\nLength: 800, dtype: float64"
     },
     "execution_count": 20,
     "metadata": {},
     "output_type": "execute_result"
    }
   ],
   "source": [
    "pkm.mean(axis = 1)"
   ]
  },
  {
   "cell_type": "code",
   "execution_count": 21,
   "metadata": {},
   "outputs": [
    {
     "data": {
      "text/plain": "HP            69.25875\nAttack        79.00125\nDefense       73.84250\nSp. Atk       72.82000\nSp. Def       71.90250\nSpeed         68.27750\nGeneration     3.32375\nLegendary      0.08125\ndtype: float64"
     },
     "execution_count": 21,
     "metadata": {},
     "output_type": "execute_result"
    }
   ],
   "source": [
    "pkm.mean()"
   ]
  },
  {
   "cell_type": "code",
   "execution_count": 67,
   "metadata": {},
   "outputs": [],
   "source": [
    "# hàm tự định nghĩa (tự viết bằng def hoặc có sẳn)\n",
    "\n",
    "def health_per_lv(x):\n",
    "    return (x.health_at_lv18 - x.health_at_lv1) / 17\n",
    "\n",
    "champs = champs.assign(health_per_lv = champs.apply(health_per_lv, axis= 'columns'))"
   ]
  },
  {
   "cell_type": "code",
   "execution_count": 31,
   "metadata": {},
   "outputs": [
    {
     "data": {
      "text/plain": "0       6\n1       4\n2       5\n3       7\n4       5\n5       6\n6       5\n7       4\n8      12\n9       4\n10      4\n11     10\n12      5\n13      5\n14      7\n15      7\n16     10\n17      8\n18      5\n19      6\n20      5\n21      9\n22      6\n23      4\n24      5\n25      7\n26      6\n27     12\n28      5\n29      4\n       ..\n116     6\n117     8\n118     7\n119    10\n120    12\n121     6\n122     4\n123     5\n124     5\n125     5\n126     6\n127     7\n128     2\n129     6\n130     8\n131     8\n132     7\n133     6\n134     5\n135     6\n136     8\n137     5\n138     6\n139     5\n140     3\n141     3\n142     5\n143     6\n144     3\n145     4\nName: champion, Length: 146, dtype: int64"
     },
     "execution_count": 31,
     "metadata": {},
     "output_type": "execute_result"
    }
   ],
   "source": [
    "champs.champion.apply(len)\n",
    "#áp dụng phương thức trong ngoặc cho từng phần tử trong Series đó"
   ]
  },
  {
   "cell_type": "code",
   "execution_count": 75,
   "metadata": {},
   "outputs": [
    {
     "data": {
      "text/plain": "0      2013-06-13 00:00:00\n1      2011-12-14 00:00:00\n2      2010-05-11 00:00:00\n3      2009-02-21 00:00:00\n4      2009-06-26 00:00:00\n5      2009-07-10 00:00:00\n6      2009-02-21 00:00:00\n7      2009-02-21 00:00:00\n8      2016-03-24 00:00:00\n9      2014-09-16 00:00:00\n10     2015-03-12 00:00:00\n11     2009-09-02 00:00:00\n12     2011-04-12 00:00:00\n13     2014-05-12 00:00:00\n14     2011-01-04 00:00:00\n15     2016-12-07 00:00:00\n16     2010-12-14 00:00:00\n17     2009-06-26 00:00:00\n18     2009-09-19 00:00:00\n19     2012-05-23 00:00:00\n20     2012-08-07 00:00:00\n21     2009-09-02 00:00:00\n22     2012-06-06 00:00:00\n23     2015-05-29 00:00:00\n24     2012-10-26 00:00:00\n25     2009-05-01 00:00:00\n26     2010-03-16 00:00:00\n27     2009-02-21 00:00:00\n28     2012-02-29 00:00:00\n29     2011-11-15 00:00:00\n              ...         \n116    2013-01-23 00:00:00\n117    2009-02-21 00:00:00\n118    2010-12-01 00:00:00\n119    2009-05-01 00:00:00\n120    2009-02-21 00:00:00\n121    2009-05-01 00:00:00\n122    2009-12-02 00:00:00\n123    2010-08-24 00:00:00\n124    2012-05-08 00:00:00\n125    2011-05-10 00:00:00\n126    2009-07-24 00:00:00\n127    2014-02-27 00:00:00\n128    2012-12-19 00:00:00\n129    2011-12-29 00:00:00\n130    2010-07-27 00:00:00\n131    2011-11-29 00:00:00\n132    2009-02-21 00:00:00\n133    2011-07-26 00:00:00\n134    2017-04-19 00:00:00\n135    2011-10-05 00:00:00\n136    2010-07-13 00:00:00\n137    2013-12-13 00:00:00\n138    2011-06-22 00:00:00\n139    2019-05-14 00:00:00\n140    2013-03-29 00:00:00\n141    2012-11-13 00:00:00\n142    2012-02-01 00:00:00\n143    2009-04-18 00:00:00\n144    2017-11-21 00:00:00\n145    2012-07-24 00:00:00\nName: release_date, Length: 146, dtype: object"
     },
     "execution_count": 75,
     "metadata": {},
     "output_type": "execute_result"
    }
   ],
   "source": [
    "champs = champs.assign(release_date = pd.to_datetime(champs.release_date))\n",
    "\n",
    "def get_year(_):\n",
    "    return _.year\n",
    "\n",
    "def to_str(_):\n",
    "    return str(_)\n",
    "\n",
    "champs.release_date.apply(get_year)\n",
    "champs.release_date.apply(to_str)"
   ]
  },
  {
   "cell_type": "code",
   "execution_count": 52,
   "metadata": {},
   "outputs": [
    {
     "data": {
      "text/plain": "584.3866666666667"
     },
     "execution_count": 52,
     "metadata": {},
     "output_type": "execute_result"
    }
   ],
   "source": [
    "champs[champs.primary.isin(['Assassin'])].health_at_lv1.mean()"
   ]
  },
  {
   "cell_type": "code",
   "execution_count": 53,
   "metadata": {},
   "outputs": [
    {
     "data": {
      "text/plain": "584.3866666666667"
     },
     "execution_count": 53,
     "metadata": {},
     "output_type": "execute_result"
    }
   ],
   "source": [
    "champs.loc[champs.primary == 'Assassin', 'health_at_lv1'].mean()"
   ]
  },
  {
   "cell_type": "code",
   "execution_count": 56,
   "metadata": {},
   "outputs": [
    {
     "name": "stdout",
     "output_type": "stream",
     "text": "587.7415384615384\n532.0485714285714\n584.3866666666667\n578.676923076923\n543.4981818181818\n540.45\n543.1857142857143\n558.16\n556.4\n563.8075\n576.2114285714285\n511.53142857142853\n535.5\n"
    }
   ],
   "source": [
    "prim = list(champs.primary.unique())\n",
    "for p in prim:\n",
    "    _ = champs.loc[champs.primary == p, 'health_at_lv1'].mean()\n",
    "    print(_)"
   ]
  },
  {
   "cell_type": "code",
   "execution_count": 61,
   "metadata": {},
   "outputs": [
    {
     "name": "stdout",
     "output_type": "stream",
     "text": "phân loại Artillery có 4 tướng.\nphân loại Assassin có 15 tướng.\nphân loại Battlemage có 11 tướng.\nphân loại Burst có 14 tướng.\nphân loại Catcher có 7 tướng.\nphân loại Diver có 16 tướng.\nphân loại Enchanter có 7 tướng.\nphân loại Juggernaut có 13 tướng.\nphân loại Marksman có 20 tướng.\nphân loại Skirmisher có 7 tướng.\nphân loại Specialist có 14 tướng.\nphân loại Vanguard có 13 tướng.\nphân loại Warden có 5 tướng.\n"
    }
   ],
   "source": [
    "# group by: gồm 3 bước split, apply, compa\n",
    "'''\n",
    "split chia DF thành DF khác dựa trên giá trị cột_tách. Cách làm:\n",
    "<tên_df>.groupby(<cột_tách>)\n",
    "'''\n",
    "champs.groupby(['primary','champion'])\n",
    "champs.groupby('primary')\n",
    "#kết quả trả về là 1 đối tượng groupby\n",
    "for primary, df in champs.groupby('primary'):\n",
    "    print(f'phân loại {primary} có {df.shape[0]} tướng.')"
   ]
  },
  {
   "cell_type": "code",
   "execution_count": 63,
   "metadata": {},
   "outputs": [
    {
     "data": {
      "text/plain": "\n  86             96.0          600.0          2130.0  Assassin  \n  87            116.7          590.0          2120.0  Assassin  \n  93            119.0          585.0          2115.0  Assassin  \n  99            114.0          587.0          2100.0  Assassin  \n  113           120.7          588.0          2203.0  Assassin  \n  141           120.8          584.0          2029.0  Assassin  ),\n ('Battlemage',\n           champion                     title release_date  attack_at_lv1  \\\n  5          Anivia           the Cryophoenix   2009-07-10         51.376   \n  8    Aurelion Sol           the Star Forger   2016-03-24         57.000   \n  16     Cassiopeia     the Serpent's Embrace   2010-12-14         53.000   \n  50        Karthus           the Deathsinger   2009-06-12         45.660   \n  68       Malzahar   the Prophet of the Void   2010-06-01         55.000   \n  95         Rumble     the Mechanized Menace   2011-04-26         61.036   \n  96           Ryze             the Rune Mage   2009-02-21         55.040   \n  108         Swain  the Noxian Grand General   2010-10-05         58.000   \n  112       Taliyah           the Stoneweaver   2016-05-18         58.000   \n  129        Viktor        the Machine Herald   2011-12-29         53.000   \n  130      Vladimir        the Crimson Reaper   2010-07-27         55.000   \n  \n       attack_at_lv18  health_at_lv1  health_at_lv18     primary  \n  5             105.8         480.00          1874.0  Battlemage  \n  8             111.4         575.00          2139.0  Battlemage  \n  16            104.0         575.00          2105.0  Battlemage  \n  50            100.9         528.00          2007.0  Battlemage  \n  68            106.0         537.00          2016.0  Battlemage  \n  95            115.4         589.00          2034.0  Battlemage  \n  96            106.0         570.48          2236.5  Battlemage  \n  108           103.9         525.00          1970.0  Battlemage  \n  112           114.1         532.00          2062.0  Battlemage  \n  129           104.0         530.00          2060.0  Battlemage  \n  130           106.0         537.00          2169.0  Battlemage  ),\n ('Burst',\n           champion                    title release_date  attack_at_lv1  \\\n  1            Ahri      the Nine-Tailed Fox   2011-12-14         53.040   \n  6           Annie           the Dark Child   2009-02-21         50.410   \n  12          Brand    the Burning Vengeance   2011-04-12         57.040   \n  49          Karma      the Enlightened One   2011-02-01         53.544   \n  60        LeBlanc             the Deceiver   2010-11-02         54.880   \n  63      Lissandra            the Ice Witch   2013-04-30         53.000   \n  66            Lux   the Lady of Luminosity   2010-10-19         53.540   \n  77          Neeko    the Curious Chameleon   2018-12-05         48.000   \n  82        Orianna    the Lady of Clockwork   2011-06-01         40.368   \n  109         Sylas           the Unshackled   2019-01-25         61.000   \n  110        Syndra       the Dark Sovereign   2012-09-13         53.872   \n  120  Twisted Fate          the Card Master   2009-02-21         49.954   \n  126        Veigar  the Tiny Master of Evil   2009-07-24         50.710   \n  144           Zoe   the Aspect of Twilight   2017-11-21         58.000   \n  \n       attack_at_lv18  health_at_lv1  health_at_lv18 primary  \n  1             104.0         526.00          2090.0   Burst  \n  6              95.0         524.00          2020.0   Burst  \n  12            108.0         519.68          2015.7   Burst  \n  49            109.6         534.00          2149.0   Burst  \n  60            114.4         528.00          2092.0   Burst  \n  63             98.9         550.00          2080.0   Burst  \n  66            109.6         490.00          1935.0   Burst  \n  77             90.5         540.00          2070.0   Burst  \n  82             84.6         530.00          2077.0   Burst  \n  109           112.0         585.00          2200.0   Burst  \n  110           103.2         523.00          2053.0   Burst  \n  120           106.1         534.00          2132.0   Burst  \n  126            95.3         505.00          2103.0   Burst  \n  144           114.1         560.00          2124.0   Burst  ),\n ('Catcher',\n         champion                    title release_date  attack_at_lv1  \\\n  10         Bard  the Wandering Caretaker   2015-03-12         52.000   \n  11   Blitzcrank    the Great Steam Golem   2009-09-02         61.540   \n  40        Ivern         the Green Father   2016-10-05         50.000   \n  73      Morgana               the Fallen   2009-02-21         56.000   \n  89        Rakan              the Charmer   2017-04-19         62.000   \n  116      Thresh         the Chain Warden   2013-01-23         56.000   \n  145        Zyra       Rise of the Thorns   2012-07-24         53.376   \n  \n       attack_at_lv18  health_at_lv1  health_at_lv18  primary  \n  10            103.0         575.00          2088.0  Catcher  \n  11            121.0         582.60          2197.6  Catcher  \n  40            101.0         585.00          2200.0  Catcher  \n  73            115.5         560.00          2090.0  Catcher  \n  89            121.5         540.00          1985.0  Catcher  \n  116            93.4         560.52          2141.5  Catcher  \n  145           107.8         504.00          1847.0  Catcher  ),\n ('Diver',\n        champion                      title release_date  attack_at_lv1  \\\n  15     Camille           the Steel Shadow   2016-12-07           68.0   \n  24       Elise           the Spider Queen   2012-10-26           55.0   \n  36     Hecarim          the Shadow of War   2012-04-18           66.0   \n  39      Irelia           the Blade Dancer   2010-11-16           63.0   \n  42   Jarvan IV    the Exemplar of Demacia   2011-03-01           64.0   \n  58        Kled  the Cantankerous Cavalier   2016-08-10           65.0   \n  61     Lee Sin             the Blind Monk   2011-04-01           70.0   \n  81        Olaf              the Berserker   2010-06-09           68.0   \n  84    Pantheon      the Unbreakable Spear   2010-02-02           64.0   \n  91     Rek'Sai          the Void Burrower   2014-12-11           64.0   \n  92    Renekton   the Butcher of the Sands   2011-01-18           69.0   \n  105    Skarner       the Crystal Vanguard   2011-08-09           65.0   \n  128         Vi      the Piltover Enforcer   2012-12-19           63.0   \n  132    Warwick  the Uncaged Wrath of Zaun   2009-02-21           65.0   \n  133     Wukong            the Monkey King   2011-07-26           68.0   \n  136   Xin Zhao   the Seneschal of Demacia   2010-07-13           66.0   \n  \n       attack_at_lv18  health_at_lv1  health_at_lv18 primary  \n  15            127.5         575.60          2020.6   Diver  \n  24            106.0         534.00          2115.0   Diver  \n  36            120.4         580.00          2110.0   Diver  \n  39            131.0         580.00          2195.0   Diver  \n  42            121.8         570.00          2100.0   Diver  \n  58            124.5         400.00          1420.0   Diver  \n  61            124.4         575.00          2020.0   Diver  \n  81            127.5         597.24          2178.2   Diver  \n  84            120.1         580.00          2195.0   Diver  \n  91            115.0         570.00          2015.0   Diver  \n  92            132.8         575.00          2054.0   Diver  \n  105           141.5         601.28          2131.3   Diver  \n  128           122.5         585.00          2030.0   Diver  \n  132           116.0         550.00          1995.0   Diver  \n  133           136.0         577.80          2022.8   Diver  \n  136           117.0         570.00          2134.0   Diver  ),\n ('Enchanter',\n      champion                  title release_date  attack_at_lv1  \\\n  41     Janna       the Storm's Fury   2009-09-02         46.000   \n  65      Lulu      the Fae Sorceress   2012-03-20         46.368   \n  74      Nami         the Tidecaller   2012-12-07         51.208   \n  106     Sona   Maven of the Strings   2010-09-21         49.000   \n  107   Soraka          the Starchild   2009-02-21         50.040   \n  114    Taric  the Shield of Valoran   2009-08-19         55.000   \n  139    Yuumi        the Magical Cat   2019-05-14         55.000   \n  \n       attack_at_lv18  health_at_lv1  health_at_lv18    primary  \n  41             71.5         500.00          1690.0  Enchanter  \n  65             90.6         525.00          1783.0  Enchanter  \n  74            103.9         489.32          1747.3  Enchanter  \n  106           100.0         482.36          1791.4  Enchanter  \n  107           101.0         529.04          1855.0  Enchanter  \n  114           114.5         575.00          2105.0  Enchanter  \n  139           107.7         480.00          1670.0  Enchanter  ),\n ('Juggernaut',\n          champion                     title release_date  attack_at_lv1  \\\n  0         Aatrox          the Darkin Blade   2013-06-13          60.00   \n  19        Darius         the Hand of Noxus   2012-05-23          64.00   \n  21     Dr. Mundo        the Madman of Zaun   2009-09-02          61.27   \n  32         Garen      the Might of Demacia   2010-04-27          66.00   \n  38        Illaoi      the Kraken Priestess   2015-11-24          68.00   \n  72   Mordekaiser         the Iron Revenant   2010-02-24          61.00   \n  75         Nasus  the Curator of the Sands   2009-10-01          67.00   \n  101      Shyvana           the Half-Dragon   2011-11-01          66.00   \n  118      Trundle            the Troll King   2010-12-01          68.00   \n  122         Udyr         the Spirit Walker   2009-12-02          66.00   \n  123        Urgot           the Dreadnought   2010-08-24          63.00   \n  131     Volibear        the Thunder's Roar   2011-11-29          68.00   \n  138       Yorick         Shepherd of Souls   2011-06-22          62.00   \n  \n       attack_at_lv18  health_at_lv1  health_at_lv18     primary  \n  0             145.0         580.00          2110.0  Juggernaut  \n  19            149.0         582.24          2282.2  Juggernaut  \n  21            120.8         582.52          2095.5  Juggernaut  \n  32            142.5         620.00          2048.0  Juggernaut  \n  38            153.0         585.60          2200.6  Juggernaut  \n  72            129.0         575.00          2105.0  Juggernaut  \n  75            126.5         561.20          2091.2  Juggernaut  \n  101           123.8         595.00          2210.0  Juggernaut  \n  118           119.0         616.28          2248.3  Juggernaut  \n  122           151.0         593.32          2276.3  Juggernaut  \n  123           131.0         585.00          2081.0  Juggernaut  \n  131           124.1         584.48          2046.5  Juggernaut  \n  138           147.0         580.00          2280.0  Juggernaut  ),\n ('Marksman',\n           champion                     title release_date  attack_at_lv1  \\\n  7            Ashe          the Frost Archer   2009-02-21           61.0   \n  14        Caitlyn   the Sheriff of Piltover   2011-01-04           62.0   \n  18          Corki     the Daring Bombardier   2009-09-19           55.0   \n  22         Draven  the Glorious Executioner   2012-06-06           60.0   \n  26         Ezreal     the Prodigal Explorer   2010-03-16           60.0   \n  45           Jhin              the Virtuoso   2016-02-01           59.0   \n  46           Jinx          the Loose Cannon   2013-10-10           57.0   \n  47         Kai'Sa      Daughter of the Void   2018-03-07           59.0   \n  48        Kalista    the Spear of Vengeance   2014-11-20           69.0   \n  57        Kindred       the Eternal Hunters   2015-10-14           65.0   \n  59        Kog'Maw    the Mouth of the Abyss   2010-06-24           61.0   \n  64         Lucian              the Purifier   2013-08-22           64.0   \n  71   Miss Fortune         the Bounty Hunter   2010-09-08           50.0   \n  98          Senna              the Redeemer   2019-11-10           50.0   \n  104         Sivir       the Battle Mistress   2009-02-21           61.0   \n  117      Tristana         the Yordle Gunner   2009-02-21           61.0   \n  121        Twitch            the Plague Rat   2009-05-01           59.0   \n  124         Varus  the Arrow of Retribution   2012-05-08           61.0   \n  125         Vayne          the Night Hunter   2011-05-10           60.0   \n  134         Xayah                 the Rebel   2017-04-19           60.0   \n  \n       attack_at_lv18  health_at_lv1  health_at_lv18   primary  \n  7             111.3          539.0          1984.0  Marksman  \n  14            111.0          481.0          2028.0  Marksman  \n  18             97.5          518.0          1997.0  Marksman  \n  22            121.4          574.0          2070.0  Marksman  \n  26            102.5          500.0          1962.0  Marksman  \n  45            138.9          556.0          2103.0  Marksman  \n  46            114.8          581.0          2009.0  Marksman  \n  47             87.9          571.0          2033.0  Marksman  \n  48            137.0          534.0          2047.0  Marksman  \n  57            103.4          540.0          1985.0  Marksman  \n  59            113.9          534.0          2030.0  Marksman  \n  64            110.8          571.0          2033.0  Marksman  \n  71             95.9          541.0          2088.0  Marksman  \n  98             50.0          520.0          1965.0  Marksman  \n  104           112.0          532.0          2028.0  Marksman  \n  117           117.1          559.0          2055.0  Marksman  \n  121           111.9          582.0          2010.0  Marksman  \n  124           113.9          500.0          2013.0  Marksman  \n  125           100.1          515.0          2028.0  Marksman  \n  134           109.3          561.0          2023.0  Marksman  ),\n ('Skirmisher',\n         champion                 title release_date  attack_at_lv1  \\\n  28        Fiora     the Grand Duelist   2012-02-29           68.0   \n  43          Jax   Grandmaster at Arms   2009-02-21           68.0   \n  54         Kayn     the Shadow Reaper   2017-07-12           68.0   \n  70    Master Yi    the Wuju Bladesman   2009-02-21           66.0   \n  94        Riven             the Exile   2011-09-14           64.0   \n  119  Tryndamere    the Barbarian King   2009-05-01           69.0   \n  137       Yasuo        the Unforgiven   2013-12-13           60.0   \n  \n       attack_at_lv18  health_at_lv1  health_at_lv18     primary  \n  28            124.1         550.00          1995.0  Skirmisher  \n  43            125.4         592.80          2037.8  Skirmisher  \n  54            124.1         585.00          2030.0  Skirmisher  \n  70            117.0         598.56          2162.6  Skirmisher  \n  94            115.0         558.48          2020.5  Skirmisher  \n  119           131.9         625.64          2291.6  Skirmisher  \n  137           114.4         523.00          2002.0  Skirmisher  ),\n ('Specialist',\n           champion                     title release_date  attack_at_lv1  \\\n  9            Azir  the Emperor of the Sands   2014-09-16         52.000   \n  17       Cho'Gath    the Terror of the Void   2009-06-26         69.000   \n  27   Fiddlesticks     the Harbinger of Doom   2009-02-21         48.360   \n  31      Gangplank     the Saltwater Scourge   2009-08-19         64.000   \n  33           Gnar          the Missing Link   2014-08-14         59.000   \n  35         Graves                the Outlaw   2011-10-19         68.000   \n  37   Heimerdinger      the Revered Inventor   2009-10-10         55.536   \n  53          Kayle             the Righteous   2009-02-21         50.000   \n  55         Kennen  the Heart of the Tempest   2010-04-08         48.000   \n  78        Nidalee      the Bestial Huntress   2009-12-17         61.000   \n  88          Quinn           Demacia's Wings   2013-03-01         59.000   \n  102        Singed           the Mad Chemist   2009-04-18         63.000   \n  115         Teemo           the Swift Scout   2009-02-21         54.000   \n  143        Zilean          the Chronokeeper   2009-04-18         51.640   \n  \n       attack_at_lv18  health_at_lv1  health_at_lv18     primary  \n  9              99.6          552.0          2116.0  Specialist  \n  17            140.4          574.4          1934.4  Specialist  \n  27             93.0          524.4          1884.4  Specialist  \n  31            115.0          540.0          1934.0  Specialist  \n  33            110.0          510.0          1615.0  Specialist  \n  35            119.0          555.0          2119.0  Specialist  \n  37            101.4          488.0          1967.0  Specialist  \n  53             92.5          600.0          2045.0  Specialist  \n  55            111.8          541.0          1969.0  Specialist  \n  78            120.5          545.0          1990.0  Specialist  \n  88             99.8          532.8          1977.8  Specialist  \n  102           120.4          610.0          2055.0  Specialist  \n  115           105.0          528.0          2058.0  Specialist  \n  143           102.6          504.0          1898.0  Specialist  ),\n ('Vanguard',\n       champion                        title release_date  attack_at_lv1  \\\n  3     Alistar                 the Minotaur   2009-02-21        61.1116   \n  4       Amumu                the Sad Mummy   2009-06-26        53.3800   \n  34     Gragas            the Rabble Rouser   2010-02-02        64.0000   \n  62      Leona             the Radiant Dawn   2011-07-13        60.0400   \n  67   Malphite        Shard of the Monolith   2009-09-02        61.9700   \n  69     Maokai           the Twisted Treant   2011-02-16        63.5400   \n  76   Nautilus      the Titan of the Depths   2012-02-14        61.0000   \n  80       Nunu         the Boy and his Yeti   2009-02-21        61.0000   \n  83       Ornn  the Fire Below The Mountain   2017-08-23        69.0000   \n  90     Rammus               the Armordillo   2009-07-10        55.8800   \n  97    Sejuani            Fury of the North   2012-01-17        66.0000   \n  103      Sion        the Undead Juggernaut   2009-02-21        68.0000   \n  140       Zac            the Secret Weapon   2013-03-29        60.0000   \n  \n       attack_at_lv18  health_at_lv1  health_at_lv18   primary  \n  3             122.7         573.36          2375.4  Vanguard  \n  4             118.0         613.12          2041.1  Vanguard  \n  34            123.5         600.00          2215.0  Vanguard  \n  62            111.0         576.16          2055.2  Vanguard  \n  67            130.0         574.20          2104.2  Vanguard  \n  69            119.6         565.00          2180.0  Vanguard  \n  76            117.1         576.48          2038.5  Vanguard  \n  80            112.0         570.00          1964.0  Vanguard  \n  83            128.5         590.00          2205.0  Vanguard  \n  90            115.4         564.48          2026.5  Vanguard  \n  97            134.0         560.00          2175.0  Vanguard  \n  103           136.0         545.00          1786.0  Vanguard  \n  140           117.8         615.00          2230.0  Vanguard  ),\n ('Warden',\n         champion                      title release_date  attack_at_lv1  \\\n  13        Braum  the Heart of the Freljord   2014-05-12         55.376   \n  30        Galio               the Colossus   2010-08-10         59.000   \n  85        Poppy       Keeper of the Hammer   2010-01-13         64.000   \n  100        Shen        the Eye of Twilight   2010-03-24         60.000   \n  111  Tahm Kench             the River King   2015-07-09         56.000   \n  \n       attack_at_lv18  health_at_lv1  health_at_lv18 primary  \n  13            109.8          540.0          2019.0  Warden  \n  30            118.5          562.0          2466.0  Warden  \n  85            132.0          540.0          2070.0  Warden  \n  100           111.0          540.0          1985.0  Warden  \n  111           110.4          600.0          2300.0  Warden  )]"
     },
     "execution_count": 63,
     "metadata": {},
     "output_type": "execute_result"
    }
   ],
   "source": [
    "list(champs.groupby('primary'))"
   ]
  },
  {
   "cell_type": "code",
   "execution_count": 69,
   "metadata": {},
   "outputs": [
    {
     "data": {
      "text/plain": "primary\nArtillery     560.00\nAssassin      602.00\nBattlemage    589.00\nBurst         585.00\nCatcher       585.00\nDiver         601.28\nEnchanter     575.00\nJuggernaut    620.00\nMarksman      582.00\nSkirmisher    625.64\nSpecialist    610.00\nVanguard      615.00\nWarden        600.00\nName: health_at_lv1, dtype: float64"
     },
     "execution_count": 69,
     "metadata": {},
     "output_type": "execute_result"
    }
   ],
   "source": [
    "champs.groupby('primary').health_at_lv1.max()"
   ]
  },
  {
   "cell_type": "code",
   "execution_count": 71,
   "metadata": {},
   "outputs": [
    {
     "data": {
      "text/plain": "primary\nArtillery     1460.000000\nAssassin      1550.000000\nBattlemage    1550.491765\nBurst         1535.000000\nCatcher       1535.000000\nDiver         1530.000000\nEnchanter     1475.000000\nJuggernaut    1583.308235\nMarksman      1466.000000\nSkirmisher    1605.616471\nSpecialist    1475.000000\nVanguard      1633.383529\nWarden        1682.000000\nName: health_at_lv11, dtype: float64"
     },
     "execution_count": 71,
     "metadata": {},
     "output_type": "execute_result"
    }
   ],
   "source": [
    "champs = champs.assign(health_at_lv11 = (champs.health_per_lv*10 + champs.health_at_lv1))\n",
    "champs.groupby('primary').health_at_lv11.max()"
   ]
  },
  {
   "cell_type": "code",
   "execution_count": 72,
   "metadata": {},
   "outputs": [
    {
     "data": {
      "text/plain": "primary\nArtillery     1460.000000\nAssassin      1550.000000\nBattlemage    1550.491765\nBurst         1535.000000\nCatcher       1535.000000\nDiver         1530.000000\nEnchanter     1475.000000\nJuggernaut    1583.308235\nMarksman      1466.000000\nSkirmisher    1605.616471\nSpecialist    1475.000000\nVanguard      1633.383529\nWarden        1682.000000\nName: health_at_lv11, dtype: float64"
     },
     "execution_count": 72,
     "metadata": {},
     "output_type": "execute_result"
    }
   ],
   "source": [
    "champs.assign(\n",
    "    health_per_lv = lambda x : (x.health_at_lv18 - x.health_at_lv1) / 17,\n",
    "    health_at_lv11 = lambda x : x.health_at_lv1 + x.health_per_lv*10\n",
    ").groupby('primary').health_at_lv11.max()"
   ]
  },
  {
   "cell_type": "code",
   "execution_count": null,
   "metadata": {},
   "outputs": [],
   "source": []
  }
 ]
}