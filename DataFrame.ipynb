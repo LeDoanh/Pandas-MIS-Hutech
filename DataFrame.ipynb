{
 "nbformat": 4,
 "nbformat_minor": 2,
 "metadata": {
  "language_info": {
   "name": "python",
   "codemirror_mode": {
    "name": "ipython",
    "version": 3
   },
   "version": "3.7.3"
  },
  "orig_nbformat": 2,
  "file_extension": ".py",
  "mimetype": "text/x-python",
  "name": "python",
  "npconvert_exporter": "python",
  "pygments_lexer": "ipython3",
  "version": 3
 },
 "cells": [
  {
   "cell_type": "code",
   "execution_count": 1,
   "metadata": {},
   "outputs": [],
   "source": [
    "import pandas as pd\n",
    "import numpy as np"
   ]
  },
  {
   "cell_type": "code",
   "execution_count": 37,
   "metadata": {},
   "outputs": [
    {
     "data": {
      "text/html": "<div>\n<style scoped>\n    .dataframe tbody tr th:only-of-type {\n        vertical-align: middle;\n    }\n\n    .dataframe tbody tr th {\n        vertical-align: top;\n    }\n\n    .dataframe thead th {\n        text-align: right;\n    }\n</style>\n<table border=\"1\" class=\"dataframe\">\n  <thead>\n    <tr style=\"text-align: right;\">\n      <th></th>\n      <th>Name</th>\n      <th>Type 1</th>\n      <th>Type 2</th>\n      <th>HP</th>\n      <th>Attack</th>\n      <th>Defense</th>\n      <th>Sp. Atk</th>\n      <th>Sp. Def</th>\n      <th>Speed</th>\n      <th>Generation</th>\n      <th>Legendary</th>\n    </tr>\n    <tr>\n      <th>#</th>\n      <th></th>\n      <th></th>\n      <th></th>\n      <th></th>\n      <th></th>\n      <th></th>\n      <th></th>\n      <th></th>\n      <th></th>\n      <th></th>\n      <th></th>\n    </tr>\n  </thead>\n  <tbody>\n    <tr>\n      <th>1</th>\n      <td>Bulbasaur</td>\n      <td>Grass</td>\n      <td>Poison</td>\n      <td>45</td>\n      <td>49</td>\n      <td>49</td>\n      <td>65</td>\n      <td>65</td>\n      <td>45</td>\n      <td>1</td>\n      <td>False</td>\n    </tr>\n    <tr>\n      <th>2</th>\n      <td>Ivysaur</td>\n      <td>Grass</td>\n      <td>Poison</td>\n      <td>60</td>\n      <td>62</td>\n      <td>63</td>\n      <td>80</td>\n      <td>80</td>\n      <td>60</td>\n      <td>1</td>\n      <td>False</td>\n    </tr>\n    <tr>\n      <th>3</th>\n      <td>Venusaur</td>\n      <td>Grass</td>\n      <td>Poison</td>\n      <td>80</td>\n      <td>82</td>\n      <td>83</td>\n      <td>100</td>\n      <td>100</td>\n      <td>80</td>\n      <td>1</td>\n      <td>False</td>\n    </tr>\n    <tr>\n      <th>3</th>\n      <td>VenusaurMega Venusaur</td>\n      <td>Grass</td>\n      <td>Poison</td>\n      <td>80</td>\n      <td>100</td>\n      <td>123</td>\n      <td>122</td>\n      <td>120</td>\n      <td>80</td>\n      <td>1</td>\n      <td>False</td>\n    </tr>\n    <tr>\n      <th>4</th>\n      <td>Charmander</td>\n      <td>Fire</td>\n      <td>NaN</td>\n      <td>39</td>\n      <td>52</td>\n      <td>43</td>\n      <td>60</td>\n      <td>50</td>\n      <td>65</td>\n      <td>1</td>\n      <td>False</td>\n    </tr>\n    <tr>\n      <th>5</th>\n      <td>Charmeleon</td>\n      <td>Fire</td>\n      <td>NaN</td>\n      <td>58</td>\n      <td>64</td>\n      <td>58</td>\n      <td>80</td>\n      <td>65</td>\n      <td>80</td>\n      <td>1</td>\n      <td>False</td>\n    </tr>\n    <tr>\n      <th>6</th>\n      <td>Charizard</td>\n      <td>Fire</td>\n      <td>Flying</td>\n      <td>78</td>\n      <td>84</td>\n      <td>78</td>\n      <td>109</td>\n      <td>85</td>\n      <td>100</td>\n      <td>1</td>\n      <td>False</td>\n    </tr>\n    <tr>\n      <th>6</th>\n      <td>CharizardMega Charizard X</td>\n      <td>Fire</td>\n      <td>Dragon</td>\n      <td>78</td>\n      <td>130</td>\n      <td>111</td>\n      <td>130</td>\n      <td>85</td>\n      <td>100</td>\n      <td>1</td>\n      <td>False</td>\n    </tr>\n    <tr>\n      <th>6</th>\n      <td>CharizardMega Charizard Y</td>\n      <td>Fire</td>\n      <td>Flying</td>\n      <td>78</td>\n      <td>104</td>\n      <td>78</td>\n      <td>159</td>\n      <td>115</td>\n      <td>100</td>\n      <td>1</td>\n      <td>False</td>\n    </tr>\n    <tr>\n      <th>7</th>\n      <td>Squirtle</td>\n      <td>Water</td>\n      <td>NaN</td>\n      <td>44</td>\n      <td>48</td>\n      <td>65</td>\n      <td>50</td>\n      <td>64</td>\n      <td>43</td>\n      <td>1</td>\n      <td>False</td>\n    </tr>\n  </tbody>\n</table>\n</div>",
      "text/plain": "                        Name Type 1  Type 2  HP  Attack  Defense  Sp. Atk  \\\n#                                                                           \n1                  Bulbasaur  Grass  Poison  45      49       49       65   \n2                    Ivysaur  Grass  Poison  60      62       63       80   \n3                   Venusaur  Grass  Poison  80      82       83      100   \n3      VenusaurMega Venusaur  Grass  Poison  80     100      123      122   \n4                 Charmander   Fire     NaN  39      52       43       60   \n5                 Charmeleon   Fire     NaN  58      64       58       80   \n6                  Charizard   Fire  Flying  78      84       78      109   \n6  CharizardMega Charizard X   Fire  Dragon  78     130      111      130   \n6  CharizardMega Charizard Y   Fire  Flying  78     104       78      159   \n7                   Squirtle  Water     NaN  44      48       65       50   \n\n   Sp. Def  Speed  Generation  Legendary  \n#                                         \n1       65     45           1      False  \n2       80     60           1      False  \n3      100     80           1      False  \n3      120     80           1      False  \n4       50     65           1      False  \n5       65     80           1      False  \n6       85    100           1      False  \n6       85    100           1      False  \n6      115    100           1      False  \n7       64     43           1      False  "
     },
     "execution_count": 37,
     "metadata": {},
     "output_type": "execute_result"
    }
   ],
   "source": [
    "#Data frame: mảng 2 chiều có gắn nhãn(đối tượng chính của môn học)\n",
    "'''\n",
    "Gồm nhiều Series cũng chung label ghép lại với nhau\n",
    "'''\n",
    "pkm = pd.read_csv('Study/Week1/pokemon_data.csv', index_col= 0) \n",
    "pkm.head(10)"
   ]
  },
  {
   "cell_type": "code",
   "execution_count": 38,
   "metadata": {},
   "outputs": [
    {
     "data": {
      "text/html": "<div>\n<style scoped>\n    .dataframe tbody tr th:only-of-type {\n        vertical-align: middle;\n    }\n\n    .dataframe tbody tr th {\n        vertical-align: top;\n    }\n\n    .dataframe thead th {\n        text-align: right;\n    }\n</style>\n<table border=\"1\" class=\"dataframe\">\n  <thead>\n    <tr style=\"text-align: right;\">\n      <th></th>\n      <th>ID</th>\n      <th>Product</th>\n      <th>Price</th>\n    </tr>\n  </thead>\n  <tbody>\n    <tr>\n      <th>0</th>\n      <td>1</td>\n      <td>Apple</td>\n      <td>10</td>\n    </tr>\n    <tr>\n      <th>1</th>\n      <td>2</td>\n      <td>Banana</td>\n      <td>9</td>\n    </tr>\n    <tr>\n      <th>2</th>\n      <td>3</td>\n      <td>Cherry</td>\n      <td>8</td>\n    </tr>\n  </tbody>\n</table>\n</div>",
      "text/plain": "   ID Product  Price\n0   1   Apple     10\n1   2  Banana      9\n2   3  Cherry      8"
     },
     "execution_count": 38,
     "metadata": {},
     "output_type": "execute_result"
    }
   ],
   "source": [
    "pd.DataFrame({'ID' : [1 , 2, 3],'Product' : ['Apple', 'Banana', 'Cherry'], 'Price' : [10, 9, 8]}) #không chỉ ra index vs column tự sinh ra"
   ]
  },
  {
   "cell_type": "code",
   "metadata": {},
   "outputs": [],
   "source": [
    "pd.DataFrame(data, index, columns)"
   ]
  },
  {
   "cell_type": "code",
   "execution_count": 39,
   "metadata": {},
   "outputs": [
    {
     "data": {
      "text/html": "<div>\n<style scoped>\n    .dataframe tbody tr th:only-of-type {\n        vertical-align: middle;\n    }\n\n    .dataframe tbody tr th {\n        vertical-align: top;\n    }\n\n    .dataframe thead th {\n        text-align: right;\n    }\n</style>\n<table border=\"1\" class=\"dataframe\">\n  <thead>\n    <tr style=\"text-align: right;\">\n      <th></th>\n      <th>0</th>\n      <th>1</th>\n    </tr>\n  </thead>\n  <tbody>\n    <tr>\n      <th>0</th>\n      <td>apple</td>\n      <td>10</td>\n    </tr>\n    <tr>\n      <th>1</th>\n      <td>banana</td>\n      <td>25</td>\n    </tr>\n    <tr>\n      <th>2</th>\n      <td>cherry</td>\n      <td>40</td>\n    </tr>\n  </tbody>\n</table>\n</div>",
      "text/plain": "        0   1\n0   apple  10\n1  banana  25\n2  cherry  40"
     },
     "execution_count": 39,
     "metadata": {},
     "output_type": "execute_result"
    }
   ],
   "source": [
    "#list của list\n",
    "ll = [\n",
    "    ['apple', 10],\n",
    "    ['banana', 25],\n",
    "    ['cherry', 40]\n",
    "]\n",
    "pd.DataFrame(ll)"
   ]
  },
  {
   "cell_type": "code",
   "execution_count": 40,
   "metadata": {},
   "outputs": [
    {
     "data": {
      "text/html": "<div>\n<style scoped>\n    .dataframe tbody tr th:only-of-type {\n        vertical-align: middle;\n    }\n\n    .dataframe tbody tr th {\n        vertical-align: top;\n    }\n\n    .dataframe thead th {\n        text-align: right;\n    }\n</style>\n<table border=\"1\" class=\"dataframe\">\n  <thead>\n    <tr style=\"text-align: right;\">\n      <th></th>\n      <th>name</th>\n      <th>price</th>\n    </tr>\n  </thead>\n  <tbody>\n    <tr>\n      <th>a</th>\n      <td>apple</td>\n      <td>10</td>\n    </tr>\n    <tr>\n      <th>b</th>\n      <td>banana</td>\n      <td>25</td>\n    </tr>\n    <tr>\n      <th>c</th>\n      <td>cherry</td>\n      <td>40</td>\n    </tr>\n  </tbody>\n</table>\n</div>",
      "text/plain": "     name  price\na   apple     10\nb  banana     25\nc  cherry     40"
     },
     "execution_count": 40,
     "metadata": {},
     "output_type": "execute_result"
    }
   ],
   "source": [
    "pd.DataFrame(data = ll, index= ['a', 'b' ,'c'], columns= ['name', 'price'])"
   ]
  },
  {
   "cell_type": "code",
   "execution_count": 41,
   "metadata": {},
   "outputs": [
    {
     "data": {
      "text/html": "<div>\n<style scoped>\n    .dataframe tbody tr th:only-of-type {\n        vertical-align: middle;\n    }\n\n    .dataframe tbody tr th {\n        vertical-align: top;\n    }\n\n    .dataframe thead th {\n        text-align: right;\n    }\n</style>\n<table border=\"1\" class=\"dataframe\">\n  <thead>\n    <tr style=\"text-align: right;\">\n      <th></th>\n      <th>0</th>\n      <th>1</th>\n      <th>2</th>\n    </tr>\n  </thead>\n  <tbody>\n    <tr>\n      <th>0</th>\n      <td>apple</td>\n      <td>10</td>\n      <td>5.0</td>\n    </tr>\n    <tr>\n      <th>1</th>\n      <td>banana</td>\n      <td>25</td>\n      <td>NaN</td>\n    </tr>\n    <tr>\n      <th>2</th>\n      <td>cherry</td>\n      <td>40</td>\n      <td>NaN</td>\n    </tr>\n  </tbody>\n</table>\n</div>",
      "text/plain": "        0   1    2\n0   apple  10  5.0\n1  banana  25  NaN\n2  cherry  40  NaN"
     },
     "execution_count": 41,
     "metadata": {},
     "output_type": "execute_result"
    }
   ],
   "source": [
    "ll1 = [\n",
    "    ['apple', 10, 5],\n",
    "    ['banana', 25],\n",
    "    ['cherry', 40]\n",
    "]\n",
    "pd.DataFrame(ll1)"
   ]
  },
  {
   "cell_type": "code",
   "execution_count": 42,
   "metadata": {},
   "outputs": [
    {
     "data": {
      "text/html": "<div>\n<style scoped>\n    .dataframe tbody tr th:only-of-type {\n        vertical-align: middle;\n    }\n\n    .dataframe tbody tr th {\n        vertical-align: top;\n    }\n\n    .dataframe thead th {\n        text-align: right;\n    }\n</style>\n<table border=\"1\" class=\"dataframe\">\n  <thead>\n    <tr style=\"text-align: right;\">\n      <th></th>\n      <th>col1</th>\n      <th>col2</th>\n      <th>col3</th>\n    </tr>\n  </thead>\n  <tbody>\n    <tr>\n      <th>0</th>\n      <td>apple</td>\n      <td>1</td>\n      <td>2019-10-02</td>\n    </tr>\n    <tr>\n      <th>1</th>\n      <td>banana</td>\n      <td>2</td>\n      <td>2019-11-01</td>\n    </tr>\n  </tbody>\n</table>\n</div>",
      "text/plain": "     col1  col2        col3\n0   apple     1  2019-10-02\n1  banana     2  2019-11-01"
     },
     "execution_count": 42,
     "metadata": {},
     "output_type": "execute_result"
    }
   ],
   "source": [
    "#dictionary: \n",
    "'''phải có độ dài phần tử bằng nhau'''\n",
    "d1 = {\n",
    "    'col1' : ['apple', 'banana'],\n",
    "    'col2' : [1, 2],\n",
    "    'col3' : ['2019-10-02', '2019-11-01']\n",
    "}\n",
    "pd.DataFrame(d1)"
   ]
  },
  {
   "cell_type": "code",
   "execution_count": 43,
   "metadata": {},
   "outputs": [
    {
     "ename": "ValueError",
     "evalue": "arrays must all be same length",
     "output_type": "error",
     "traceback": [
      "\u001b[1;31m---------------------------------------------------------------------------\u001b[0m",
      "\u001b[1;31mValueError\u001b[0m                                Traceback (most recent call last)",
      "\u001b[1;32m<ipython-input-43-8f795ad21531>\u001b[0m in \u001b[0;36m<module>\u001b[1;34m\u001b[0m\n\u001b[0;32m      4\u001b[0m     \u001b[1;34m'col3'\u001b[0m \u001b[1;33m:\u001b[0m \u001b[1;33m[\u001b[0m\u001b[1;34m'2019-10-02'\u001b[0m\u001b[1;33m,\u001b[0m \u001b[1;34m'2019-11-01'\u001b[0m\u001b[1;33m]\u001b[0m\u001b[1;33m\u001b[0m\u001b[1;33m\u001b[0m\u001b[0m\n\u001b[0;32m      5\u001b[0m }\n\u001b[1;32m----> 6\u001b[1;33m \u001b[0mpd\u001b[0m\u001b[1;33m.\u001b[0m\u001b[0mDataFrame\u001b[0m\u001b[1;33m(\u001b[0m\u001b[0md2\u001b[0m\u001b[1;33m)\u001b[0m\u001b[1;33m\u001b[0m\u001b[1;33m\u001b[0m\u001b[0m\n\u001b[0m",
      "\u001b[1;32m~\\Anaconda3\\lib\\site-packages\\pandas\\core\\frame.py\u001b[0m in \u001b[0;36m__init__\u001b[1;34m(self, data, index, columns, dtype, copy)\u001b[0m\n\u001b[0;32m    390\u001b[0m                                  dtype=dtype, copy=copy)\n\u001b[0;32m    391\u001b[0m         \u001b[1;32melif\u001b[0m \u001b[0misinstance\u001b[0m\u001b[1;33m(\u001b[0m\u001b[0mdata\u001b[0m\u001b[1;33m,\u001b[0m \u001b[0mdict\u001b[0m\u001b[1;33m)\u001b[0m\u001b[1;33m:\u001b[0m\u001b[1;33m\u001b[0m\u001b[1;33m\u001b[0m\u001b[0m\n\u001b[1;32m--> 392\u001b[1;33m             \u001b[0mmgr\u001b[0m \u001b[1;33m=\u001b[0m \u001b[0minit_dict\u001b[0m\u001b[1;33m(\u001b[0m\u001b[0mdata\u001b[0m\u001b[1;33m,\u001b[0m \u001b[0mindex\u001b[0m\u001b[1;33m,\u001b[0m \u001b[0mcolumns\u001b[0m\u001b[1;33m,\u001b[0m \u001b[0mdtype\u001b[0m\u001b[1;33m=\u001b[0m\u001b[0mdtype\u001b[0m\u001b[1;33m)\u001b[0m\u001b[1;33m\u001b[0m\u001b[1;33m\u001b[0m\u001b[0m\n\u001b[0m\u001b[0;32m    393\u001b[0m         \u001b[1;32melif\u001b[0m \u001b[0misinstance\u001b[0m\u001b[1;33m(\u001b[0m\u001b[0mdata\u001b[0m\u001b[1;33m,\u001b[0m \u001b[0mma\u001b[0m\u001b[1;33m.\u001b[0m\u001b[0mMaskedArray\u001b[0m\u001b[1;33m)\u001b[0m\u001b[1;33m:\u001b[0m\u001b[1;33m\u001b[0m\u001b[1;33m\u001b[0m\u001b[0m\n\u001b[0;32m    394\u001b[0m             \u001b[1;32mimport\u001b[0m \u001b[0mnumpy\u001b[0m\u001b[1;33m.\u001b[0m\u001b[0mma\u001b[0m\u001b[1;33m.\u001b[0m\u001b[0mmrecords\u001b[0m \u001b[1;32mas\u001b[0m \u001b[0mmrecords\u001b[0m\u001b[1;33m\u001b[0m\u001b[1;33m\u001b[0m\u001b[0m\n",
      "\u001b[1;32m~\\Anaconda3\\lib\\site-packages\\pandas\\core\\internals\\construction.py\u001b[0m in \u001b[0;36minit_dict\u001b[1;34m(data, index, columns, dtype)\u001b[0m\n\u001b[0;32m    210\u001b[0m         \u001b[0marrays\u001b[0m \u001b[1;33m=\u001b[0m \u001b[1;33m[\u001b[0m\u001b[0mdata\u001b[0m\u001b[1;33m[\u001b[0m\u001b[0mk\u001b[0m\u001b[1;33m]\u001b[0m \u001b[1;32mfor\u001b[0m \u001b[0mk\u001b[0m \u001b[1;32min\u001b[0m \u001b[0mkeys\u001b[0m\u001b[1;33m]\u001b[0m\u001b[1;33m\u001b[0m\u001b[1;33m\u001b[0m\u001b[0m\n\u001b[0;32m    211\u001b[0m \u001b[1;33m\u001b[0m\u001b[0m\n\u001b[1;32m--> 212\u001b[1;33m     \u001b[1;32mreturn\u001b[0m \u001b[0marrays_to_mgr\u001b[0m\u001b[1;33m(\u001b[0m\u001b[0marrays\u001b[0m\u001b[1;33m,\u001b[0m \u001b[0mdata_names\u001b[0m\u001b[1;33m,\u001b[0m \u001b[0mindex\u001b[0m\u001b[1;33m,\u001b[0m \u001b[0mcolumns\u001b[0m\u001b[1;33m,\u001b[0m \u001b[0mdtype\u001b[0m\u001b[1;33m=\u001b[0m\u001b[0mdtype\u001b[0m\u001b[1;33m)\u001b[0m\u001b[1;33m\u001b[0m\u001b[1;33m\u001b[0m\u001b[0m\n\u001b[0m\u001b[0;32m    213\u001b[0m \u001b[1;33m\u001b[0m\u001b[0m\n\u001b[0;32m    214\u001b[0m \u001b[1;33m\u001b[0m\u001b[0m\n",
      "\u001b[1;32m~\\Anaconda3\\lib\\site-packages\\pandas\\core\\internals\\construction.py\u001b[0m in \u001b[0;36marrays_to_mgr\u001b[1;34m(arrays, arr_names, index, columns, dtype)\u001b[0m\n\u001b[0;32m     49\u001b[0m     \u001b[1;31m# figure out the index, if necessary\u001b[0m\u001b[1;33m\u001b[0m\u001b[1;33m\u001b[0m\u001b[1;33m\u001b[0m\u001b[0m\n\u001b[0;32m     50\u001b[0m     \u001b[1;32mif\u001b[0m \u001b[0mindex\u001b[0m \u001b[1;32mis\u001b[0m \u001b[1;32mNone\u001b[0m\u001b[1;33m:\u001b[0m\u001b[1;33m\u001b[0m\u001b[1;33m\u001b[0m\u001b[0m\n\u001b[1;32m---> 51\u001b[1;33m         \u001b[0mindex\u001b[0m \u001b[1;33m=\u001b[0m \u001b[0mextract_index\u001b[0m\u001b[1;33m(\u001b[0m\u001b[0marrays\u001b[0m\u001b[1;33m)\u001b[0m\u001b[1;33m\u001b[0m\u001b[1;33m\u001b[0m\u001b[0m\n\u001b[0m\u001b[0;32m     52\u001b[0m     \u001b[1;32melse\u001b[0m\u001b[1;33m:\u001b[0m\u001b[1;33m\u001b[0m\u001b[1;33m\u001b[0m\u001b[0m\n\u001b[0;32m     53\u001b[0m         \u001b[0mindex\u001b[0m \u001b[1;33m=\u001b[0m \u001b[0mensure_index\u001b[0m\u001b[1;33m(\u001b[0m\u001b[0mindex\u001b[0m\u001b[1;33m)\u001b[0m\u001b[1;33m\u001b[0m\u001b[1;33m\u001b[0m\u001b[0m\n",
      "\u001b[1;32m~\\Anaconda3\\lib\\site-packages\\pandas\\core\\internals\\construction.py\u001b[0m in \u001b[0;36mextract_index\u001b[1;34m(data)\u001b[0m\n\u001b[0;32m    315\u001b[0m             \u001b[0mlengths\u001b[0m \u001b[1;33m=\u001b[0m \u001b[0mlist\u001b[0m\u001b[1;33m(\u001b[0m\u001b[0mset\u001b[0m\u001b[1;33m(\u001b[0m\u001b[0mraw_lengths\u001b[0m\u001b[1;33m)\u001b[0m\u001b[1;33m)\u001b[0m\u001b[1;33m\u001b[0m\u001b[1;33m\u001b[0m\u001b[0m\n\u001b[0;32m    316\u001b[0m             \u001b[1;32mif\u001b[0m \u001b[0mlen\u001b[0m\u001b[1;33m(\u001b[0m\u001b[0mlengths\u001b[0m\u001b[1;33m)\u001b[0m \u001b[1;33m>\u001b[0m \u001b[1;36m1\u001b[0m\u001b[1;33m:\u001b[0m\u001b[1;33m\u001b[0m\u001b[1;33m\u001b[0m\u001b[0m\n\u001b[1;32m--> 317\u001b[1;33m                 \u001b[1;32mraise\u001b[0m \u001b[0mValueError\u001b[0m\u001b[1;33m(\u001b[0m\u001b[1;34m'arrays must all be same length'\u001b[0m\u001b[1;33m)\u001b[0m\u001b[1;33m\u001b[0m\u001b[1;33m\u001b[0m\u001b[0m\n\u001b[0m\u001b[0;32m    318\u001b[0m \u001b[1;33m\u001b[0m\u001b[0m\n\u001b[0;32m    319\u001b[0m             \u001b[1;32mif\u001b[0m \u001b[0mhave_dicts\u001b[0m\u001b[1;33m:\u001b[0m\u001b[1;33m\u001b[0m\u001b[1;33m\u001b[0m\u001b[0m\n",
      "\u001b[1;31mValueError\u001b[0m: arrays must all be same length"
     ]
    }
   ],
   "source": [
    "d2 = {\n",
    "    'col1' : ['apple', 'banana', 'cherry'],\n",
    "    'col2' : [1, 2],\n",
    "    'col3' : ['2019-10-02', '2019-11-01']\n",
    "}\n",
    "pd.DataFrame(d2)"
   ]
  },
  {
   "cell_type": "code",
   "execution_count": 44,
   "metadata": {},
   "outputs": [
    {
     "data": {
      "text/html": "<div>\n<style scoped>\n    .dataframe tbody tr th:only-of-type {\n        vertical-align: middle;\n    }\n\n    .dataframe tbody tr th {\n        vertical-align: top;\n    }\n\n    .dataframe thead th {\n        text-align: right;\n    }\n</style>\n<table border=\"1\" class=\"dataframe\">\n  <thead>\n    <tr style=\"text-align: right;\">\n      <th></th>\n      <th>Close</th>\n      <th>Ticker</th>\n      <th>date</th>\n    </tr>\n  </thead>\n  <tbody>\n    <tr>\n      <th>0</th>\n      <td>100</td>\n      <td>AAA</td>\n      <td>2019-10-01</td>\n    </tr>\n    <tr>\n      <th>1</th>\n      <td>200</td>\n      <td>BBB</td>\n      <td>2019-10-01</td>\n    </tr>\n  </tbody>\n</table>\n</div>",
      "text/plain": "   Close Ticker        date\n0    100    AAA  2019-10-01\n1    200    BBB  2019-10-01"
     },
     "execution_count": 44,
     "metadata": {},
     "output_type": "execute_result"
    }
   ],
   "source": [
    "#tạo list mà mỗi phần tử là một dictionary\n",
    "ld = [\n",
    "    {'date' : '2019-10-01', 'Ticker' : 'AAA', 'Close' : 100},\n",
    "    {'date' : '2019-10-01', 'Ticker' : 'BBB', 'Close' : 200}\n",
    "]\n",
    "pd.DataFrame(ld)"
   ]
  },
  {
   "cell_type": "code",
   "execution_count": 45,
   "metadata": {},
   "outputs": [
    {
     "data": {
      "text/html": "<div>\n<style scoped>\n    .dataframe tbody tr th:only-of-type {\n        vertical-align: middle;\n    }\n\n    .dataframe tbody tr th {\n        vertical-align: top;\n    }\n\n    .dataframe thead th {\n        text-align: right;\n    }\n</style>\n<table border=\"1\" class=\"dataframe\">\n  <thead>\n    <tr style=\"text-align: right;\">\n      <th></th>\n      <th>Close</th>\n      <th>Ticker</th>\n      <th>date</th>\n      <th>open</th>\n    </tr>\n  </thead>\n  <tbody>\n    <tr>\n      <th>0</th>\n      <td>100</td>\n      <td>AAA</td>\n      <td>2019-10-01</td>\n      <td>NaN</td>\n    </tr>\n    <tr>\n      <th>1</th>\n      <td>200</td>\n      <td>BBB</td>\n      <td>2019-10-01</td>\n      <td>205.0</td>\n    </tr>\n  </tbody>\n</table>\n</div>",
      "text/plain": "   Close Ticker        date   open\n0    100    AAA  2019-10-01    NaN\n1    200    BBB  2019-10-01  205.0"
     },
     "execution_count": 45,
     "metadata": {},
     "output_type": "execute_result"
    }
   ],
   "source": [
    "ld2 = [\n",
    "    {'date' : '2019-10-01', 'Ticker' : 'AAA', 'Close' : 100},\n",
    "    {'date' : '2019-10-01', 'Ticker' : 'BBB', 'open' : 205, 'Close' : 200}\n",
    "]\n",
    "pd.DataFrame(ld2)"
   ]
  },
  {
   "cell_type": "code",
   "execution_count": 46,
   "metadata": {},
   "outputs": [
    {
     "data": {
      "text/plain": "True"
     },
     "execution_count": 46,
     "metadata": {},
     "output_type": "execute_result"
    }
   ],
   "source": [
    "pd.DataFrame(columns= ['a', 'b', 'c']).empty"
   ]
  },
  {
   "cell_type": "code",
   "execution_count": 47,
   "metadata": {},
   "outputs": [
    {
     "data": {
      "text/plain": "True"
     },
     "execution_count": 47,
     "metadata": {},
     "output_type": "execute_result"
    }
   ],
   "source": [
    "pd.DataFrame(index= ['a', 'b', 'c']).empty"
   ]
  },
  {
   "cell_type": "code",
   "execution_count": 48,
   "metadata": {},
   "outputs": [
    {
     "data": {
      "text/plain": "False"
     },
     "execution_count": 48,
     "metadata": {},
     "output_type": "execute_result"
    }
   ],
   "source": [
    "pd.DataFrame(columns= ['a', 'b', 'c'], index= ['a', 'b', 'c']).empty"
   ]
  },
  {
   "cell_type": "code",
   "execution_count": 49,
   "metadata": {},
   "outputs": [
    {
     "data": {
      "text/html": "<div>\n<style scoped>\n    .dataframe tbody tr th:only-of-type {\n        vertical-align: middle;\n    }\n\n    .dataframe tbody tr th {\n        vertical-align: top;\n    }\n\n    .dataframe thead th {\n        text-align: right;\n    }\n</style>\n<table border=\"1\" class=\"dataframe\">\n  <thead>\n    <tr style=\"text-align: right;\">\n      <th></th>\n    </tr>\n  </thead>\n  <tbody>\n  </tbody>\n</table>\n</div>",
      "text/plain": "Empty DataFrame\nColumns: []\nIndex: []"
     },
     "execution_count": 49,
     "metadata": {},
     "output_type": "execute_result"
    }
   ],
   "source": [
    "pd.DataFrame()"
   ]
  },
  {
   "cell_type": "code",
   "execution_count": 24,
   "metadata": {},
   "outputs": [
    {
     "data": {
      "text/html": "<div>\n<style scoped>\n    .dataframe tbody tr th:only-of-type {\n        vertical-align: middle;\n    }\n\n    .dataframe tbody tr th {\n        vertical-align: top;\n    }\n\n    .dataframe thead th {\n        text-align: right;\n    }\n</style>\n<table border=\"1\" class=\"dataframe\">\n  <thead>\n    <tr style=\"text-align: right;\">\n      <th></th>\n      <th>Date</th>\n      <th>Name</th>\n      <th>Số lượng</th>\n    </tr>\n  </thead>\n  <tbody>\n    <tr>\n      <th>a</th>\n      <td>2019-11-20</td>\n      <td>cherry</td>\n      <td>77</td>\n    </tr>\n    <tr>\n      <th>b</th>\n      <td>2019-11-21</td>\n      <td>apple</td>\n      <td>23</td>\n    </tr>\n    <tr>\n      <th>c</th>\n      <td>2019-11-22</td>\n      <td>cherry</td>\n      <td>22</td>\n    </tr>\n    <tr>\n      <th>d</th>\n      <td>2019-11-23</td>\n      <td>banana</td>\n      <td>79</td>\n    </tr>\n    <tr>\n      <th>e</th>\n      <td>2019-11-24</td>\n      <td>apple</td>\n      <td>72</td>\n    </tr>\n    <tr>\n      <th>f</th>\n      <td>2019-11-25</td>\n      <td>banana</td>\n      <td>90</td>\n    </tr>\n    <tr>\n      <th>g</th>\n      <td>2019-11-26</td>\n      <td>cherry</td>\n      <td>45</td>\n    </tr>\n    <tr>\n      <th>h</th>\n      <td>2019-11-27</td>\n      <td>apple</td>\n      <td>78</td>\n    </tr>\n    <tr>\n      <th>i</th>\n      <td>2019-11-28</td>\n      <td>apple</td>\n      <td>21</td>\n    </tr>\n    <tr>\n      <th>j</th>\n      <td>2019-11-29</td>\n      <td>banana</td>\n      <td>92</td>\n    </tr>\n  </tbody>\n</table>\n</div>",
      "text/plain": "        Date    Name  Số lượng\na 2019-11-20  cherry        77\nb 2019-11-21   apple        23\nc 2019-11-22  cherry        22\nd 2019-11-23  banana        79\ne 2019-11-24   apple        72\nf 2019-11-25  banana        90\ng 2019-11-26  cherry        45\nh 2019-11-27   apple        78\ni 2019-11-28   apple        21\nj 2019-11-29  banana        92"
     },
     "execution_count": 24,
     "metadata": {},
     "output_type": "execute_result"
    }
   ],
   "source": [
    "#dataframe mẫu:\n",
    "Dict_ex = {\n",
    "    'Date' : pd.date_range(start = '2019-11-20', periods = 10, freq = 'D'),\n",
    "    'Name' : np.random.choice(['apple', 'banana', 'cherry'], size = 10),\n",
    "    'Số lượng' : np.random.randint(100, size = 10)\n",
    "}\n",
    "DF_ex = pd.DataFrame(Dict_ex, index= list('abcdefghij'))\n",
    "DF_ex"
   ]
  },
  {
   "cell_type": "code",
   "execution_count": 52,
   "metadata": {},
   "outputs": [
    {
     "data": {
      "text/plain": "' \\nMột số thuộc tính cơ bản:\\n.size: trả về số lượng phần tử dataframe\\n.shape: trả về kích thước dataframe cới định dạng(cột, hàng)\\n.ndim trả về số chiều của dataframe. vì dataframe là mảng 2 chiều, nên kết quả trả về luôn là 2\\n.empty: trả về True or False nếu dataframe là rỗng\\n.dtypes: trả về kiểu dữ liệu từng cột\\n.columns: trả về danh sách các cột của dataframe\\n.index: trả về index\\n.axes: kết hợp columns and index: trả về 1 list với dòng trước cột sau\\n'"
     },
     "execution_count": 52,
     "metadata": {},
     "output_type": "execute_result"
    }
   ],
   "source": [
    "''' \n",
    "Một số thuộc tính cơ bản:\n",
    ".size: trả về số lượng phần tử dataframe\n",
    ".shape: trả về kích thước dataframe cới định dạng(cột, hàng)\n",
    ".ndim trả về số chiều của dataframe. vì dataframe là mảng 2 chiều, nên kết quả trả về luôn là 2\n",
    ".empty: trả về True or False nếu dataframe là rỗng\n",
    ".dtypes: trả về kiểu dữ liệu từng cột\n",
    ".columns: trả về danh sách các cột của dataframe\n",
    ".index: trả về index\n",
    ".axes: kết hợp columns and index: trả về 1 list với dòng trước cột sau\n",
    "'''"
   ]
  },
  {
   "cell_type": "code",
   "metadata": {},
   "outputs": [],
   "source": [
    "#đổi tên:\n",
    "method: .rename()\n",
    "<tên_DF>.rename(index = {<tên_dòng_cũ> : <tên_dòng_mới>})"
   ]
  },
  {
   "cell_type": "code",
   "execution_count": 53,
   "metadata": {},
   "outputs": [
    {
     "data": {
      "text/html": "<div>\n<style scoped>\n    .dataframe tbody tr th:only-of-type {\n        vertical-align: middle;\n    }\n\n    .dataframe tbody tr th {\n        vertical-align: top;\n    }\n\n    .dataframe thead th {\n        text-align: right;\n    }\n</style>\n<table border=\"1\" class=\"dataframe\">\n  <thead>\n    <tr style=\"text-align: right;\">\n      <th></th>\n      <th>date</th>\n      <th>col2</th>\n      <th>col3</th>\n    </tr>\n  </thead>\n  <tbody>\n    <tr>\n      <th>a</th>\n      <td>2019-11-20</td>\n      <td>apple</td>\n      <td>89</td>\n    </tr>\n    <tr>\n      <th>b</th>\n      <td>2019-11-21</td>\n      <td>cherry</td>\n      <td>9</td>\n    </tr>\n    <tr>\n      <th>c</th>\n      <td>2019-11-22</td>\n      <td>banana</td>\n      <td>67</td>\n    </tr>\n    <tr>\n      <th>d</th>\n      <td>2019-11-23</td>\n      <td>cherry</td>\n      <td>43</td>\n    </tr>\n    <tr>\n      <th>e</th>\n      <td>2019-11-24</td>\n      <td>banana</td>\n      <td>98</td>\n    </tr>\n    <tr>\n      <th>f</th>\n      <td>2019-11-25</td>\n      <td>cherry</td>\n      <td>47</td>\n    </tr>\n    <tr>\n      <th>g</th>\n      <td>2019-11-26</td>\n      <td>apple</td>\n      <td>50</td>\n    </tr>\n    <tr>\n      <th>h</th>\n      <td>2019-11-27</td>\n      <td>apple</td>\n      <td>65</td>\n    </tr>\n    <tr>\n      <th>i</th>\n      <td>2019-11-28</td>\n      <td>cherry</td>\n      <td>83</td>\n    </tr>\n    <tr>\n      <th>j</th>\n      <td>2019-11-29</td>\n      <td>apple</td>\n      <td>19</td>\n    </tr>\n  </tbody>\n</table>\n</div>",
      "text/plain": "        date    col2  col3\na 2019-11-20   apple    89\nb 2019-11-21  cherry     9\nc 2019-11-22  banana    67\nd 2019-11-23  cherry    43\ne 2019-11-24  banana    98\nf 2019-11-25  cherry    47\ng 2019-11-26   apple    50\nh 2019-11-27   apple    65\ni 2019-11-28  cherry    83\nj 2019-11-29   apple    19"
     },
     "execution_count": 53,
     "metadata": {},
     "output_type": "execute_result"
    }
   ],
   "source": [
    "#Ex đổi col1 thành date\n",
    "DF_ex.rename(columns= {'col1' : 'date'})\n",
    "'''nếu không có inplace = True thì rename sẽ tạo df mới chứ không đối tên trong df cũ'''\n",
    "DF_ex = DF_ex.rename(columns= {'col1' : 'date'})\n",
    "#hoặc\n",
    "DF_ex.rename(columns= {'col1' : 'date'}, inplace = True)"
   ]
  },
  {
   "cell_type": "code",
   "execution_count": null,
   "metadata": {},
   "outputs": [],
   "source": [
    "#đổi tên nhanh hàng loạt\n",
    "<tên_DF>.columns = <Danh_sách_tên_cột_mới>\n",
    "<tên_DF>.index = <Danh_sách_tên_dòng_mới>"
   ]
  },
  {
   "cell_type": "code",
   "execution_count": 56,
   "metadata": {},
   "outputs": [
    {
     "data": {
      "text/html": "<div>\n<style scoped>\n    .dataframe tbody tr th:only-of-type {\n        vertical-align: middle;\n    }\n\n    .dataframe tbody tr th {\n        vertical-align: top;\n    }\n\n    .dataframe thead th {\n        text-align: right;\n    }\n</style>\n<table border=\"1\" class=\"dataframe\">\n  <thead>\n    <tr style=\"text-align: right;\">\n      <th></th>\n      <th>Date</th>\n      <th>Product</th>\n      <th>Quantity</th>\n    </tr>\n  </thead>\n  <tbody>\n    <tr>\n      <th>a</th>\n      <td>2019-11-20</td>\n      <td>apple</td>\n      <td>89</td>\n    </tr>\n    <tr>\n      <th>b</th>\n      <td>2019-11-21</td>\n      <td>cherry</td>\n      <td>9</td>\n    </tr>\n    <tr>\n      <th>c</th>\n      <td>2019-11-22</td>\n      <td>banana</td>\n      <td>67</td>\n    </tr>\n    <tr>\n      <th>d</th>\n      <td>2019-11-23</td>\n      <td>cherry</td>\n      <td>43</td>\n    </tr>\n    <tr>\n      <th>e</th>\n      <td>2019-11-24</td>\n      <td>banana</td>\n      <td>98</td>\n    </tr>\n    <tr>\n      <th>f</th>\n      <td>2019-11-25</td>\n      <td>cherry</td>\n      <td>47</td>\n    </tr>\n    <tr>\n      <th>g</th>\n      <td>2019-11-26</td>\n      <td>apple</td>\n      <td>50</td>\n    </tr>\n    <tr>\n      <th>h</th>\n      <td>2019-11-27</td>\n      <td>apple</td>\n      <td>65</td>\n    </tr>\n    <tr>\n      <th>i</th>\n      <td>2019-11-28</td>\n      <td>cherry</td>\n      <td>83</td>\n    </tr>\n    <tr>\n      <th>j</th>\n      <td>2019-11-29</td>\n      <td>apple</td>\n      <td>19</td>\n    </tr>\n  </tbody>\n</table>\n</div>",
      "text/plain": "        Date Product  Quantity\na 2019-11-20   apple        89\nb 2019-11-21  cherry         9\nc 2019-11-22  banana        67\nd 2019-11-23  cherry        43\ne 2019-11-24  banana        98\nf 2019-11-25  cherry        47\ng 2019-11-26   apple        50\nh 2019-11-27   apple        65\ni 2019-11-28  cherry        83\nj 2019-11-29   apple        19"
     },
     "execution_count": 56,
     "metadata": {},
     "output_type": "execute_result"
    }
   ],
   "source": [
    "DF_ex2 = DF_ex.copy() # nếu không .copy mà gán bằng thì khi đổi ex2 thì ex cũng có thể bị đổi\n",
    "DF_ex2.columns = ['Date', 'Product', 'Quantity']\n",
    "DF_ex2"
   ]
  },
  {
   "cell_type": "code",
   "execution_count": 57,
   "metadata": {},
   "outputs": [
    {
     "data": {
      "text/plain": "a   2019-11-20\nb   2019-11-21\nc   2019-11-22\nd   2019-11-23\ne   2019-11-24\nf   2019-11-25\ng   2019-11-26\nh   2019-11-27\ni   2019-11-28\nj   2019-11-29\nName: col1, dtype: datetime64[ns]"
     },
     "execution_count": 57,
     "metadata": {},
     "output_type": "execute_result"
    }
   ],
   "source": [
    "#Trích xuất dữ liệu theo cột\n",
    "#trích xuất 1 cột\n",
    "DF_ex['col1'] # DF_ex.col1\n"
   ]
  },
  {
   "cell_type": "code",
   "execution_count": 62,
   "metadata": {},
   "outputs": [
    {
     "data": {
      "text/plain": "pandas.core.series.Series"
     },
     "execution_count": 62,
     "metadata": {},
     "output_type": "execute_result"
    }
   ],
   "source": [
    "type(DF_ex['col1'])"
   ]
  },
  {
   "cell_type": "code",
   "execution_count": 63,
   "metadata": {},
   "outputs": [
    {
     "data": {
      "text/html": "<div>\n<style scoped>\n    .dataframe tbody tr th:only-of-type {\n        vertical-align: middle;\n    }\n\n    .dataframe tbody tr th {\n        vertical-align: top;\n    }\n\n    .dataframe thead th {\n        text-align: right;\n    }\n</style>\n<table border=\"1\" class=\"dataframe\">\n  <thead>\n    <tr style=\"text-align: right;\">\n      <th></th>\n      <th>col1</th>\n      <th>col2</th>\n    </tr>\n  </thead>\n  <tbody>\n    <tr>\n      <th>a</th>\n      <td>2019-11-20</td>\n      <td>apple</td>\n    </tr>\n    <tr>\n      <th>b</th>\n      <td>2019-11-21</td>\n      <td>cherry</td>\n    </tr>\n    <tr>\n      <th>c</th>\n      <td>2019-11-22</td>\n      <td>banana</td>\n    </tr>\n    <tr>\n      <th>d</th>\n      <td>2019-11-23</td>\n      <td>cherry</td>\n    </tr>\n    <tr>\n      <th>e</th>\n      <td>2019-11-24</td>\n      <td>banana</td>\n    </tr>\n    <tr>\n      <th>f</th>\n      <td>2019-11-25</td>\n      <td>cherry</td>\n    </tr>\n    <tr>\n      <th>g</th>\n      <td>2019-11-26</td>\n      <td>apple</td>\n    </tr>\n    <tr>\n      <th>h</th>\n      <td>2019-11-27</td>\n      <td>apple</td>\n    </tr>\n    <tr>\n      <th>i</th>\n      <td>2019-11-28</td>\n      <td>cherry</td>\n    </tr>\n    <tr>\n      <th>j</th>\n      <td>2019-11-29</td>\n      <td>apple</td>\n    </tr>\n  </tbody>\n</table>\n</div>",
      "text/plain": "        col1    col2\na 2019-11-20   apple\nb 2019-11-21  cherry\nc 2019-11-22  banana\nd 2019-11-23  cherry\ne 2019-11-24  banana\nf 2019-11-25  cherry\ng 2019-11-26   apple\nh 2019-11-27   apple\ni 2019-11-28  cherry\nj 2019-11-29   apple"
     },
     "execution_count": 63,
     "metadata": {},
     "output_type": "execute_result"
    }
   ],
   "source": [
    "#tích xuất nhiều cột\n",
    "DF_ex[['col1', 'col2']]"
   ]
  },
  {
   "cell_type": "code",
   "execution_count": 65,
   "metadata": {},
   "outputs": [
    {
     "data": {
      "text/plain": "pandas.core.frame.DataFrame"
     },
     "execution_count": 65,
     "metadata": {},
     "output_type": "execute_result"
    }
   ],
   "source": [
    "type(DF_ex[['col1']])"
   ]
  },
  {
   "cell_type": "code",
   "execution_count": 67,
   "metadata": {},
   "outputs": [
    {
     "name": "stdout",
     "output_type": "stream",
     "text": "1\n2\n"
    }
   ],
   "source": [
    "#note:\n",
    "print(DF_ex['col1'].ndim) #Series\n",
    "print(DF_ex[['col1']].ndim) #DataFrame"
   ]
  },
  {
   "cell_type": "code",
   "execution_count": null,
   "metadata": {},
   "outputs": [],
   "source": [
    "#trích xuất dữ liệu theo dòng:\n",
    "DF_ex['a'] #lỗi cách này dùng trích xuất cột nên không thể trích xuất dòng\n",
    "Method: .loc and . iloc\n",
    ".loc[]: lấy dòng theo label\n",
    ".iloc[]: lấy dữ liệu theo số thứ tự bắt đầu từ 0"
   ]
  },
  {
   "cell_type": "code",
   "execution_count": 70,
   "metadata": {},
   "outputs": [
    {
     "data": {
      "text/plain": "col1    2019-11-20 00:00:00\ncol2                  apple\ncol3                     89\nName: a, dtype: object"
     },
     "execution_count": 70,
     "metadata": {},
     "output_type": "execute_result"
    }
   ],
   "source": [
    "#ex:\n",
    "DF_ex.loc['a'] #Series"
   ]
  },
  {
   "cell_type": "code",
   "execution_count": 71,
   "metadata": {},
   "outputs": [
    {
     "data": {
      "text/plain": "col1    2019-11-22 00:00:00\ncol2                 banana\ncol3                     67\nName: c, dtype: object"
     },
     "execution_count": 71,
     "metadata": {},
     "output_type": "execute_result"
    }
   ],
   "source": [
    "DF_ex.iloc[2] #Series"
   ]
  },
  {
   "cell_type": "code",
   "execution_count": 76,
   "metadata": {},
   "outputs": [
    {
     "data": {
      "text/html": "<div>\n<style scoped>\n    .dataframe tbody tr th:only-of-type {\n        vertical-align: middle;\n    }\n\n    .dataframe tbody tr th {\n        vertical-align: top;\n    }\n\n    .dataframe thead th {\n        text-align: right;\n    }\n</style>\n<table border=\"1\" class=\"dataframe\">\n  <thead>\n    <tr style=\"text-align: right;\">\n      <th></th>\n      <th>col1</th>\n      <th>col2</th>\n      <th>col3</th>\n    </tr>\n  </thead>\n  <tbody>\n    <tr>\n      <th>a</th>\n      <td>2019-11-20</td>\n      <td>apple</td>\n      <td>89</td>\n    </tr>\n    <tr>\n      <th>c</th>\n      <td>2019-11-22</td>\n      <td>banana</td>\n      <td>67</td>\n    </tr>\n  </tbody>\n</table>\n</div>",
      "text/plain": "        col1    col2  col3\na 2019-11-20   apple    89\nc 2019-11-22  banana    67"
     },
     "execution_count": 76,
     "metadata": {},
     "output_type": "execute_result"
    }
   ],
   "source": [
    "#trích xuất nhiều dòng:\n",
    "DF_ex.loc[['a', 'c']] #DataFrame"
   ]
  },
  {
   "cell_type": "code",
   "execution_count": 77,
   "metadata": {},
   "outputs": [
    {
     "data": {
      "text/html": "<div>\n<style scoped>\n    .dataframe tbody tr th:only-of-type {\n        vertical-align: middle;\n    }\n\n    .dataframe tbody tr th {\n        vertical-align: top;\n    }\n\n    .dataframe thead th {\n        text-align: right;\n    }\n</style>\n<table border=\"1\" class=\"dataframe\">\n  <thead>\n    <tr style=\"text-align: right;\">\n      <th></th>\n      <th>col1</th>\n      <th>col2</th>\n      <th>col3</th>\n    </tr>\n  </thead>\n  <tbody>\n    <tr>\n      <th>a</th>\n      <td>2019-11-20</td>\n      <td>apple</td>\n      <td>89</td>\n    </tr>\n    <tr>\n      <th>d</th>\n      <td>2019-11-23</td>\n      <td>cherry</td>\n      <td>43</td>\n    </tr>\n    <tr>\n      <th>g</th>\n      <td>2019-11-26</td>\n      <td>apple</td>\n      <td>50</td>\n    </tr>\n    <tr>\n      <th>j</th>\n      <td>2019-11-29</td>\n      <td>apple</td>\n      <td>19</td>\n    </tr>\n  </tbody>\n</table>\n</div>",
      "text/plain": "        col1    col2  col3\na 2019-11-20   apple    89\nd 2019-11-23  cherry    43\ng 2019-11-26   apple    50\nj 2019-11-29   apple    19"
     },
     "execution_count": 77,
     "metadata": {},
     "output_type": "execute_result"
    }
   ],
   "source": [
    "DF_ex.iloc[0: 10 : 3] #DataFrame [vị trí bắt đầu : vị trí kết thúc : step]"
   ]
  },
  {
   "cell_type": "code",
   "execution_count": null,
   "metadata": {},
   "outputs": [],
   "source": [
    "#Trích xuất theo cả dòng lẫn cột\n",
    "method: .loc\n",
    "<tên_df>.loc[<dòng_cần_lấy>, <cột cần lấy>]\n",
    "tương tự .iloc[]"
   ]
  },
  {
   "cell_type": "code",
   "execution_count": 96,
   "metadata": {},
   "outputs": [
    {
     "data": {
      "text/html": "<div>\n<style scoped>\n    .dataframe tbody tr th:only-of-type {\n        vertical-align: middle;\n    }\n\n    .dataframe tbody tr th {\n        vertical-align: top;\n    }\n\n    .dataframe thead th {\n        text-align: right;\n    }\n</style>\n<table border=\"1\" class=\"dataframe\">\n  <thead>\n    <tr style=\"text-align: right;\">\n      <th></th>\n      <th>col2</th>\n      <th>col3</th>\n    </tr>\n  </thead>\n  <tbody>\n    <tr>\n      <th>a</th>\n      <td>apple</td>\n      <td>89</td>\n    </tr>\n    <tr>\n      <th>b</th>\n      <td>cherry</td>\n      <td>9</td>\n    </tr>\n    <tr>\n      <th>c</th>\n      <td>banana</td>\n      <td>67</td>\n    </tr>\n    <tr>\n      <th>d</th>\n      <td>cherry</td>\n      <td>43</td>\n    </tr>\n    <tr>\n      <th>e</th>\n      <td>banana</td>\n      <td>98</td>\n    </tr>\n    <tr>\n      <th>f</th>\n      <td>cherry</td>\n      <td>47</td>\n    </tr>\n    <tr>\n      <th>g</th>\n      <td>apple</td>\n      <td>50</td>\n    </tr>\n    <tr>\n      <th>h</th>\n      <td>apple</td>\n      <td>65</td>\n    </tr>\n    <tr>\n      <th>i</th>\n      <td>cherry</td>\n      <td>83</td>\n    </tr>\n    <tr>\n      <th>j</th>\n      <td>apple</td>\n      <td>19</td>\n    </tr>\n  </tbody>\n</table>\n</div>",
      "text/plain": "     col2  col3\na   apple    89\nb  cherry     9\nc  banana    67\nd  cherry    43\ne  banana    98\nf  cherry    47\ng   apple    50\nh   apple    65\ni  cherry    83\nj   apple    19"
     },
     "execution_count": 96,
     "metadata": {},
     "output_type": "execute_result"
    }
   ],
   "source": [
    "DF_ex.loc[['a', 'c'], ['col2', 'col3']]\n",
    "DF_ex.loc[ :, ['col2', 'col3']]"
   ]
  },
  {
   "cell_type": "code",
   "execution_count": 98,
   "metadata": {},
   "outputs": [
    {
     "data": {
      "text/html": "<div>\n<style scoped>\n    .dataframe tbody tr th:only-of-type {\n        vertical-align: middle;\n    }\n\n    .dataframe tbody tr th {\n        vertical-align: top;\n    }\n\n    .dataframe thead th {\n        text-align: right;\n    }\n</style>\n<table border=\"1\" class=\"dataframe\">\n  <thead>\n    <tr style=\"text-align: right;\">\n      <th></th>\n      <th>col2</th>\n      <th>col3</th>\n    </tr>\n  </thead>\n  <tbody>\n    <tr>\n      <th>a</th>\n      <td>apple</td>\n      <td>89</td>\n    </tr>\n    <tr>\n      <th>b</th>\n      <td>cherry</td>\n      <td>9</td>\n    </tr>\n    <tr>\n      <th>c</th>\n      <td>banana</td>\n      <td>67</td>\n    </tr>\n    <tr>\n      <th>d</th>\n      <td>cherry</td>\n      <td>43</td>\n    </tr>\n    <tr>\n      <th>e</th>\n      <td>banana</td>\n      <td>98</td>\n    </tr>\n    <tr>\n      <th>f</th>\n      <td>cherry</td>\n      <td>47</td>\n    </tr>\n    <tr>\n      <th>g</th>\n      <td>apple</td>\n      <td>50</td>\n    </tr>\n    <tr>\n      <th>h</th>\n      <td>apple</td>\n      <td>65</td>\n    </tr>\n    <tr>\n      <th>i</th>\n      <td>cherry</td>\n      <td>83</td>\n    </tr>\n    <tr>\n      <th>j</th>\n      <td>apple</td>\n      <td>19</td>\n    </tr>\n  </tbody>\n</table>\n</div>",
      "text/plain": "     col2  col3\na   apple    89\nb  cherry     9\nc  banana    67\nd  cherry    43\ne  banana    98\nf  cherry    47\ng   apple    50\nh   apple    65\ni  cherry    83\nj   apple    19"
     },
     "execution_count": 98,
     "metadata": {},
     "output_type": "execute_result"
    }
   ],
   "source": [
    "DF_ex.iloc[[0 , 5], [1, 2]]\n",
    "DF_ex.iloc[ :, [1, 2]]"
   ]
  },
  {
   "cell_type": "code",
   "execution_count": null,
   "metadata": {},
   "outputs": [],
   "source": [
    "trích xuất có điều kiện\n",
    "<tên_df>[điều_kiện]"
   ]
  },
  {
   "cell_type": "code",
   "execution_count": 99,
   "metadata": {},
   "outputs": [
    {
     "data": {
      "text/html": "<div>\n<style scoped>\n    .dataframe tbody tr th:only-of-type {\n        vertical-align: middle;\n    }\n\n    .dataframe tbody tr th {\n        vertical-align: top;\n    }\n\n    .dataframe thead th {\n        text-align: right;\n    }\n</style>\n<table border=\"1\" class=\"dataframe\">\n  <thead>\n    <tr style=\"text-align: right;\">\n      <th></th>\n      <th>col1</th>\n      <th>col2</th>\n      <th>col3</th>\n    </tr>\n  </thead>\n  <tbody>\n    <tr>\n      <th>a</th>\n      <td>2019-11-20</td>\n      <td>apple</td>\n      <td>89</td>\n    </tr>\n    <tr>\n      <th>g</th>\n      <td>2019-11-26</td>\n      <td>apple</td>\n      <td>50</td>\n    </tr>\n    <tr>\n      <th>h</th>\n      <td>2019-11-27</td>\n      <td>apple</td>\n      <td>65</td>\n    </tr>\n    <tr>\n      <th>j</th>\n      <td>2019-11-29</td>\n      <td>apple</td>\n      <td>19</td>\n    </tr>\n  </tbody>\n</table>\n</div>",
      "text/plain": "        col1   col2  col3\na 2019-11-20  apple    89\ng 2019-11-26  apple    50\nh 2019-11-27  apple    65\nj 2019-11-29  apple    19"
     },
     "execution_count": 99,
     "metadata": {},
     "output_type": "execute_result"
    }
   ],
   "source": [
    "DF_ex[DF_ex.col2 == 'apple'] #điều kiện đơn"
   ]
  },
  {
   "cell_type": "code",
   "execution_count": null,
   "metadata": {},
   "outputs": [],
   "source": [
    "#điều kiện kép\n",
    "&: and\n",
    "|: or\n",
    "và điều kiện phải trong ngoặc"
   ]
  },
  {
   "cell_type": "code",
   "execution_count": 100,
   "metadata": {},
   "outputs": [
    {
     "data": {
      "text/html": "<div>\n<style scoped>\n    .dataframe tbody tr th:only-of-type {\n        vertical-align: middle;\n    }\n\n    .dataframe tbody tr th {\n        vertical-align: top;\n    }\n\n    .dataframe thead th {\n        text-align: right;\n    }\n</style>\n<table border=\"1\" class=\"dataframe\">\n  <thead>\n    <tr style=\"text-align: right;\">\n      <th></th>\n      <th>col1</th>\n      <th>col2</th>\n      <th>col3</th>\n    </tr>\n  </thead>\n  <tbody>\n    <tr>\n      <th>a</th>\n      <td>2019-11-20</td>\n      <td>apple</td>\n      <td>89</td>\n    </tr>\n  </tbody>\n</table>\n</div>",
      "text/plain": "        col1   col2  col3\na 2019-11-20  apple    89"
     },
     "execution_count": 100,
     "metadata": {},
     "output_type": "execute_result"
    }
   ],
   "source": [
    "DF_ex[(DF_ex.col2 == 'apple') & ((DF_ex.col1 == '2019-11-20') | (DF_ex.col2 == 'banana'))]"
   ]
  },
  {
   "cell_type": "code",
   "execution_count": 4,
   "metadata": {},
   "outputs": [],
   "source": [
    "df1 = pd.read_csv('Study/Week1/pokemon_data.csv', index_col =0)\n",
    "df1.reset_index(inplace = True)"
   ]
  },
  {
   "cell_type": "code",
   "execution_count": 3,
   "metadata": {},
   "outputs": [
    {
     "data": {
      "text/html": "<div>\n<style scoped>\n    .dataframe tbody tr th:only-of-type {\n        vertical-align: middle;\n    }\n\n    .dataframe tbody tr th {\n        vertical-align: top;\n    }\n\n    .dataframe thead th {\n        text-align: right;\n    }\n</style>\n<table border=\"1\" class=\"dataframe\">\n  <thead>\n    <tr style=\"text-align: right;\">\n      <th></th>\n      <th>0</th>\n      <th>1</th>\n    </tr>\n  </thead>\n  <tbody>\n    <tr>\n      <th>0</th>\n      <td>apple</td>\n      <td>10</td>\n    </tr>\n    <tr>\n      <th>1</th>\n      <td>banana</td>\n      <td>25</td>\n    </tr>\n    <tr>\n      <th>2</th>\n      <td>cherry</td>\n      <td>40</td>\n    </tr>\n  </tbody>\n</table>\n</div>",
      "text/plain": "        0   1\n0   apple  10\n1  banana  25\n2  cherry  40"
     },
     "execution_count": 3,
     "metadata": {},
     "output_type": "execute_result"
    }
   ],
   "source": [
    "#Thay đổi index <dataframe>.index = <index mới>\n",
    "df2 = pd.DataFrame([['apple', 10],\n",
    "    ['banana', 25],\n",
    "    ['cherry', 40]])\n",
    "df2"
   ]
  },
  {
   "cell_type": "code",
   "execution_count": null,
   "metadata": {},
   "outputs": [],
   "source": [
    "#đặt một cột thành index: .set_index()\n",
    "df2.set_index()\n",
    "#đặt lại index: .reset_index()\n",
    "df2.reset_index()\n",
    "#tham số drop báo có giữ lại index cũ hay không nếu False thì tạo index là 1 cột mới giữ index cũ, True xoá index cũ đi thay bằng index mới\n",
    "#sắp xếp lại theo thứ tự index: .sort_index()\n",
    "df1.sort_index(ascending=) #ascending= False sắp xếp giảm dần\n",
    "#biến đổi dataframe bằng .reindex(): Toạ ra df mới có cấu trúc: tên dòng đi theo thứ tự được chỉ ra, tên cột đi theo thứ tự được chỉ ra, giá trị tương ứng trong df gốc nếu không có thì dùng giá trị Null(NaN)"
   ]
  },
  {
   "cell_type": "code",
   "execution_count": 5,
   "metadata": {},
   "outputs": [
    {
     "data": {
      "text/html": "<div>\n<style scoped>\n    .dataframe tbody tr th:only-of-type {\n        vertical-align: middle;\n    }\n\n    .dataframe tbody tr th {\n        vertical-align: top;\n    }\n\n    .dataframe thead th {\n        text-align: right;\n    }\n</style>\n<table border=\"1\" class=\"dataframe\">\n  <thead>\n    <tr style=\"text-align: right;\">\n      <th></th>\n      <th>HP</th>\n      <th>Name</th>\n    </tr>\n  </thead>\n  <tbody>\n    <tr>\n      <th>1</th>\n      <td>60</td>\n      <td>Ivysaur</td>\n    </tr>\n    <tr>\n      <th>2</th>\n      <td>80</td>\n      <td>Venusaur</td>\n    </tr>\n    <tr>\n      <th>3</th>\n      <td>80</td>\n      <td>VenusaurMega Venusaur</td>\n    </tr>\n  </tbody>\n</table>\n</div>",
      "text/plain": "   HP                   Name\n1  60                Ivysaur\n2  80               Venusaur\n3  80  VenusaurMega Venusaur"
     },
     "execution_count": 5,
     "metadata": {},
     "output_type": "execute_result"
    }
   ],
   "source": [
    "df1.reindex(columns= ['HP', 'Name'], index= [1, 2, 3])"
   ]
  },
  {
   "cell_type": "code",
   "execution_count": 8,
   "metadata": {},
   "outputs": [
    {
     "data": {
      "text/html": "<div>\n<style scoped>\n    .dataframe tbody tr th:only-of-type {\n        vertical-align: middle;\n    }\n\n    .dataframe tbody tr th {\n        vertical-align: top;\n    }\n\n    .dataframe thead th {\n        text-align: right;\n    }\n</style>\n<table border=\"1\" class=\"dataframe\">\n  <thead>\n    <tr style=\"text-align: right;\">\n      <th></th>\n    </tr>\n  </thead>\n  <tbody>\n    <tr>\n      <th>a</th>\n    </tr>\n    <tr>\n      <th>b</th>\n    </tr>\n    <tr>\n      <th>c</th>\n    </tr>\n    <tr>\n      <th>d</th>\n    </tr>\n    <tr>\n      <th>e</th>\n    </tr>\n    <tr>\n      <th>f</th>\n    </tr>\n    <tr>\n      <th>g</th>\n    </tr>\n    <tr>\n      <th>h</th>\n    </tr>\n    <tr>\n      <th>i</th>\n    </tr>\n    <tr>\n      <th>j</th>\n    </tr>\n    <tr>\n      <th>0</th>\n    </tr>\n    <tr>\n      <th>1</th>\n    </tr>\n    <tr>\n      <th>2</th>\n    </tr>\n  </tbody>\n</table>\n</div>",
      "text/plain": "Empty DataFrame\nColumns: []\nIndex: [a, b, c, d, e, f, g, h, i, j, 0, 1, 2]"
     },
     "execution_count": 8,
     "metadata": {},
     "output_type": "execute_result"
    }
   ],
   "source": [
    "pd.concat([DF_ex, df2], join = 'inner')"
   ]
  },
  {
   "cell_type": "code",
   "execution_count": 16,
   "metadata": {},
   "outputs": [
    {
     "data": {
      "text/html": "<div>\n<style scoped>\n    .dataframe tbody tr th:only-of-type {\n        vertical-align: middle;\n    }\n\n    .dataframe tbody tr th {\n        vertical-align: top;\n    }\n\n    .dataframe thead th {\n        text-align: right;\n    }\n</style>\n<table border=\"1\" class=\"dataframe\">\n  <thead>\n    <tr style=\"text-align: right;\">\n      <th></th>\n      <th>date</th>\n      <th>Name</th>\n      <th>đã mua</th>\n    </tr>\n  </thead>\n  <tbody>\n    <tr>\n      <th>0</th>\n      <td>2019-10-25</td>\n      <td>apple</td>\n      <td>39</td>\n    </tr>\n    <tr>\n      <th>1</th>\n      <td>2019-10-26</td>\n      <td>banana</td>\n      <td>52</td>\n    </tr>\n    <tr>\n      <th>2</th>\n      <td>2019-10-27</td>\n      <td>cherry</td>\n      <td>17</td>\n    </tr>\n  </tbody>\n</table>\n</div>",
      "text/plain": "         date    Name  đã mua\n0  2019-10-25   apple      39\n1  2019-10-26  banana      52\n2  2019-10-27  cherry      17"
     },
     "execution_count": 16,
     "metadata": {},
     "output_type": "execute_result"
    }
   ],
   "source": [
    "#kết hợp data bằng merge\n",
    "df4 = pd.DataFrame({'date' : ['2019-10-25', '2019-10-26', '2019-10-27'],\n",
    "'Name' : ['apple', 'banana', 'cherry'],\n",
    "'đã mua' : [39, 52, 17]})\n",
    "df4"
   ]
  },
  {
   "cell_type": "code",
   "execution_count": 18,
   "metadata": {},
   "outputs": [
    {
     "data": {
      "text/html": "<div>\n<style scoped>\n    .dataframe tbody tr th:only-of-type {\n        vertical-align: middle;\n    }\n\n    .dataframe tbody tr th {\n        vertical-align: top;\n    }\n\n    .dataframe thead th {\n        text-align: right;\n    }\n</style>\n<table border=\"1\" class=\"dataframe\">\n  <thead>\n    <tr style=\"text-align: right;\">\n      <th></th>\n      <th>Name</th>\n      <th>price</th>\n    </tr>\n  </thead>\n  <tbody>\n    <tr>\n      <th>0</th>\n      <td>apple</td>\n      <td>10</td>\n    </tr>\n    <tr>\n      <th>1</th>\n      <td>banana</td>\n      <td>15</td>\n    </tr>\n    <tr>\n      <th>2</th>\n      <td>cherry</td>\n      <td>20</td>\n    </tr>\n  </tbody>\n</table>\n</div>",
      "text/plain": "     Name  price\n0   apple     10\n1  banana     15\n2  cherry     20"
     },
     "execution_count": 18,
     "metadata": {},
     "output_type": "execute_result"
    }
   ],
   "source": [
    "df5 = pd.DataFrame({'Name' : ['apple', 'banana', 'cherry'],\n",
    "'price' : [10 , 15 , 20]})\n",
    "df5"
   ]
  },
  {
   "cell_type": "code",
   "execution_count": 26,
   "metadata": {},
   "outputs": [
    {
     "data": {
      "text/html": "<div>\n<style scoped>\n    .dataframe tbody tr th:only-of-type {\n        vertical-align: middle;\n    }\n\n    .dataframe tbody tr th {\n        vertical-align: top;\n    }\n\n    .dataframe thead th {\n        text-align: right;\n    }\n</style>\n<table border=\"1\" class=\"dataframe\">\n  <thead>\n    <tr style=\"text-align: right;\">\n      <th></th>\n      <th>Date</th>\n      <th>Name</th>\n      <th>Số lượng</th>\n    </tr>\n  </thead>\n  <tbody>\n    <tr>\n      <th>a</th>\n      <td>2019-11-20</td>\n      <td>cherry</td>\n      <td>77</td>\n    </tr>\n    <tr>\n      <th>b</th>\n      <td>2019-11-21</td>\n      <td>apple</td>\n      <td>23</td>\n    </tr>\n    <tr>\n      <th>c</th>\n      <td>2019-11-22</td>\n      <td>cherry</td>\n      <td>22</td>\n    </tr>\n    <tr>\n      <th>d</th>\n      <td>2019-11-23</td>\n      <td>banana</td>\n      <td>79</td>\n    </tr>\n    <tr>\n      <th>e</th>\n      <td>2019-11-24</td>\n      <td>apple</td>\n      <td>72</td>\n    </tr>\n    <tr>\n      <th>f</th>\n      <td>2019-11-25</td>\n      <td>banana</td>\n      <td>90</td>\n    </tr>\n    <tr>\n      <th>g</th>\n      <td>2019-11-26</td>\n      <td>cherry</td>\n      <td>45</td>\n    </tr>\n    <tr>\n      <th>h</th>\n      <td>2019-11-27</td>\n      <td>apple</td>\n      <td>78</td>\n    </tr>\n    <tr>\n      <th>i</th>\n      <td>2019-11-28</td>\n      <td>apple</td>\n      <td>21</td>\n    </tr>\n    <tr>\n      <th>j</th>\n      <td>2019-11-29</td>\n      <td>banana</td>\n      <td>92</td>\n    </tr>\n  </tbody>\n</table>\n</div>",
      "text/plain": "        Date    Name  Số lượng\na 2019-11-20  cherry        77\nb 2019-11-21   apple        23\nc 2019-11-22  cherry        22\nd 2019-11-23  banana        79\ne 2019-11-24   apple        72\nf 2019-11-25  banana        90\ng 2019-11-26  cherry        45\nh 2019-11-27   apple        78\ni 2019-11-28   apple        21\nj 2019-11-29  banana        92"
     },
     "execution_count": 26,
     "metadata": {},
     "output_type": "execute_result"
    }
   ],
   "source": [
    "DF_ex"
   ]
  },
  {
   "cell_type": "code",
   "execution_count": 29,
   "metadata": {},
   "outputs": [
    {
     "data": {
      "text/html": "<div>\n<style scoped>\n    .dataframe tbody tr th:only-of-type {\n        vertical-align: middle;\n    }\n\n    .dataframe tbody tr th {\n        vertical-align: top;\n    }\n\n    .dataframe thead th {\n        text-align: right;\n    }\n</style>\n<table border=\"1\" class=\"dataframe\">\n  <thead>\n    <tr style=\"text-align: right;\">\n      <th></th>\n      <th>Date</th>\n      <th>Name</th>\n      <th>Số lượng</th>\n      <th>price</th>\n    </tr>\n  </thead>\n  <tbody>\n    <tr>\n      <th>0</th>\n      <td>2019-11-20</td>\n      <td>cherry</td>\n      <td>77</td>\n      <td>20</td>\n    </tr>\n    <tr>\n      <th>1</th>\n      <td>2019-11-22</td>\n      <td>cherry</td>\n      <td>22</td>\n      <td>20</td>\n    </tr>\n    <tr>\n      <th>2</th>\n      <td>2019-11-26</td>\n      <td>cherry</td>\n      <td>45</td>\n      <td>20</td>\n    </tr>\n    <tr>\n      <th>3</th>\n      <td>2019-11-21</td>\n      <td>apple</td>\n      <td>23</td>\n      <td>10</td>\n    </tr>\n    <tr>\n      <th>4</th>\n      <td>2019-11-24</td>\n      <td>apple</td>\n      <td>72</td>\n      <td>10</td>\n    </tr>\n    <tr>\n      <th>5</th>\n      <td>2019-11-27</td>\n      <td>apple</td>\n      <td>78</td>\n      <td>10</td>\n    </tr>\n    <tr>\n      <th>6</th>\n      <td>2019-11-28</td>\n      <td>apple</td>\n      <td>21</td>\n      <td>10</td>\n    </tr>\n    <tr>\n      <th>7</th>\n      <td>2019-11-23</td>\n      <td>banana</td>\n      <td>79</td>\n      <td>15</td>\n    </tr>\n    <tr>\n      <th>8</th>\n      <td>2019-11-25</td>\n      <td>banana</td>\n      <td>90</td>\n      <td>15</td>\n    </tr>\n    <tr>\n      <th>9</th>\n      <td>2019-11-29</td>\n      <td>banana</td>\n      <td>92</td>\n      <td>15</td>\n    </tr>\n  </tbody>\n</table>\n</div>",
      "text/plain": "        Date    Name  Số lượng  price\n0 2019-11-20  cherry        77     20\n1 2019-11-22  cherry        22     20\n2 2019-11-26  cherry        45     20\n3 2019-11-21   apple        23     10\n4 2019-11-24   apple        72     10\n5 2019-11-27   apple        78     10\n6 2019-11-28   apple        21     10\n7 2019-11-23  banana        79     15\n8 2019-11-25  banana        90     15\n9 2019-11-29  banana        92     15"
     },
     "execution_count": 29,
     "metadata": {},
     "output_type": "execute_result"
    }
   ],
   "source": [
    "pd.merge(DF_ex, df5)"
   ]
  },
  {
   "cell_type": "code",
   "execution_count": 2,
   "metadata": {},
   "outputs": [
    {
     "data": {
      "text/html": "<div>\n<style scoped>\n    .dataframe tbody tr th:only-of-type {\n        vertical-align: middle;\n    }\n\n    .dataframe tbody tr th {\n        vertical-align: top;\n    }\n\n    .dataframe thead th {\n        text-align: right;\n    }\n</style>\n<table border=\"1\" class=\"dataframe\">\n  <thead>\n    <tr style=\"text-align: right;\">\n      <th></th>\n      <th>Name</th>\n      <th>Type 1</th>\n      <th>Type 2</th>\n      <th>HP</th>\n      <th>Attack</th>\n      <th>Defense</th>\n      <th>Sp. Atk</th>\n      <th>Sp. Def</th>\n      <th>Speed</th>\n      <th>Generation</th>\n      <th>Legendary</th>\n    </tr>\n    <tr>\n      <th>#</th>\n      <th></th>\n      <th></th>\n      <th></th>\n      <th></th>\n      <th></th>\n      <th></th>\n      <th></th>\n      <th></th>\n      <th></th>\n      <th></th>\n      <th></th>\n    </tr>\n  </thead>\n  <tbody>\n    <tr>\n      <th>0</th>\n      <td>Bulbasaur</td>\n      <td>Grass</td>\n      <td>Poison</td>\n      <td>45</td>\n      <td>49</td>\n      <td>49</td>\n      <td>65</td>\n      <td>65</td>\n      <td>45</td>\n      <td>1</td>\n      <td>False</td>\n    </tr>\n    <tr>\n      <th>1</th>\n      <td>Ivysaur</td>\n      <td>Grass</td>\n      <td>Poison</td>\n      <td>60</td>\n      <td>62</td>\n      <td>63</td>\n      <td>80</td>\n      <td>80</td>\n      <td>60</td>\n      <td>1</td>\n      <td>False</td>\n    </tr>\n    <tr>\n      <th>2</th>\n      <td>Venusaur</td>\n      <td>Grass</td>\n      <td>Poison</td>\n      <td>80</td>\n      <td>82</td>\n      <td>83</td>\n      <td>100</td>\n      <td>100</td>\n      <td>80</td>\n      <td>1</td>\n      <td>False</td>\n    </tr>\n    <tr>\n      <th>3</th>\n      <td>VenusaurMega Venusaur</td>\n      <td>Grass</td>\n      <td>Poison</td>\n      <td>80</td>\n      <td>100</td>\n      <td>123</td>\n      <td>122</td>\n      <td>120</td>\n      <td>80</td>\n      <td>1</td>\n      <td>False</td>\n    </tr>\n    <tr>\n      <th>4</th>\n      <td>Charmander</td>\n      <td>Fire</td>\n      <td>NaN</td>\n      <td>39</td>\n      <td>52</td>\n      <td>43</td>\n      <td>60</td>\n      <td>50</td>\n      <td>65</td>\n      <td>1</td>\n      <td>False</td>\n    </tr>\n    <tr>\n      <th>5</th>\n      <td>Charmeleon</td>\n      <td>Fire</td>\n      <td>NaN</td>\n      <td>58</td>\n      <td>64</td>\n      <td>58</td>\n      <td>80</td>\n      <td>65</td>\n      <td>80</td>\n      <td>1</td>\n      <td>False</td>\n    </tr>\n    <tr>\n      <th>6</th>\n      <td>Charizard</td>\n      <td>Fire</td>\n      <td>Flying</td>\n      <td>78</td>\n      <td>84</td>\n      <td>78</td>\n      <td>109</td>\n      <td>85</td>\n      <td>100</td>\n      <td>1</td>\n      <td>False</td>\n    </tr>\n    <tr>\n      <th>7</th>\n      <td>CharizardMega Charizard X</td>\n      <td>Fire</td>\n      <td>Dragon</td>\n      <td>78</td>\n      <td>130</td>\n      <td>111</td>\n      <td>130</td>\n      <td>85</td>\n      <td>100</td>\n      <td>1</td>\n      <td>False</td>\n    </tr>\n    <tr>\n      <th>8</th>\n      <td>CharizardMega Charizard Y</td>\n      <td>Fire</td>\n      <td>Flying</td>\n      <td>78</td>\n      <td>104</td>\n      <td>78</td>\n      <td>159</td>\n      <td>115</td>\n      <td>100</td>\n      <td>1</td>\n      <td>False</td>\n    </tr>\n    <tr>\n      <th>9</th>\n      <td>Squirtle</td>\n      <td>Water</td>\n      <td>NaN</td>\n      <td>44</td>\n      <td>48</td>\n      <td>65</td>\n      <td>50</td>\n      <td>64</td>\n      <td>43</td>\n      <td>1</td>\n      <td>False</td>\n    </tr>\n    <tr>\n      <th>10</th>\n      <td>Wartortle</td>\n      <td>Water</td>\n      <td>NaN</td>\n      <td>59</td>\n      <td>63</td>\n      <td>80</td>\n      <td>65</td>\n      <td>80</td>\n      <td>58</td>\n      <td>1</td>\n      <td>False</td>\n    </tr>\n    <tr>\n      <th>11</th>\n      <td>Blastoise</td>\n      <td>Water</td>\n      <td>NaN</td>\n      <td>79</td>\n      <td>83</td>\n      <td>100</td>\n      <td>85</td>\n      <td>105</td>\n      <td>78</td>\n      <td>1</td>\n      <td>False</td>\n    </tr>\n    <tr>\n      <th>12</th>\n      <td>BlastoiseMega Blastoise</td>\n      <td>Water</td>\n      <td>NaN</td>\n      <td>79</td>\n      <td>103</td>\n      <td>120</td>\n      <td>135</td>\n      <td>115</td>\n      <td>78</td>\n      <td>1</td>\n      <td>False</td>\n    </tr>\n    <tr>\n      <th>13</th>\n      <td>Caterpie</td>\n      <td>Bug</td>\n      <td>NaN</td>\n      <td>45</td>\n      <td>30</td>\n      <td>35</td>\n      <td>20</td>\n      <td>20</td>\n      <td>45</td>\n      <td>1</td>\n      <td>False</td>\n    </tr>\n    <tr>\n      <th>14</th>\n      <td>Metapod</td>\n      <td>Bug</td>\n      <td>NaN</td>\n      <td>50</td>\n      <td>20</td>\n      <td>55</td>\n      <td>25</td>\n      <td>25</td>\n      <td>30</td>\n      <td>1</td>\n      <td>False</td>\n    </tr>\n    <tr>\n      <th>15</th>\n      <td>Butterfree</td>\n      <td>Bug</td>\n      <td>Flying</td>\n      <td>60</td>\n      <td>45</td>\n      <td>50</td>\n      <td>90</td>\n      <td>80</td>\n      <td>70</td>\n      <td>1</td>\n      <td>False</td>\n    </tr>\n    <tr>\n      <th>16</th>\n      <td>Weedle</td>\n      <td>Bug</td>\n      <td>Poison</td>\n      <td>40</td>\n      <td>35</td>\n      <td>30</td>\n      <td>20</td>\n      <td>20</td>\n      <td>50</td>\n      <td>1</td>\n      <td>False</td>\n    </tr>\n    <tr>\n      <th>17</th>\n      <td>Kakuna</td>\n      <td>Bug</td>\n      <td>Poison</td>\n      <td>45</td>\n      <td>25</td>\n      <td>50</td>\n      <td>25</td>\n      <td>25</td>\n      <td>35</td>\n      <td>1</td>\n      <td>False</td>\n    </tr>\n    <tr>\n      <th>18</th>\n      <td>Beedrill</td>\n      <td>Bug</td>\n      <td>Poison</td>\n      <td>65</td>\n      <td>90</td>\n      <td>40</td>\n      <td>45</td>\n      <td>80</td>\n      <td>75</td>\n      <td>1</td>\n      <td>False</td>\n    </tr>\n    <tr>\n      <th>19</th>\n      <td>BeedrillMega Beedrill</td>\n      <td>Bug</td>\n      <td>Poison</td>\n      <td>65</td>\n      <td>150</td>\n      <td>40</td>\n      <td>15</td>\n      <td>80</td>\n      <td>145</td>\n      <td>1</td>\n      <td>False</td>\n    </tr>\n    <tr>\n      <th>20</th>\n      <td>Pidgey</td>\n      <td>Normal</td>\n      <td>Flying</td>\n      <td>40</td>\n      <td>45</td>\n      <td>40</td>\n      <td>35</td>\n      <td>35</td>\n      <td>56</td>\n      <td>1</td>\n      <td>False</td>\n    </tr>\n    <tr>\n      <th>21</th>\n      <td>Pidgeotto</td>\n      <td>Normal</td>\n      <td>Flying</td>\n      <td>63</td>\n      <td>60</td>\n      <td>55</td>\n      <td>50</td>\n      <td>50</td>\n      <td>71</td>\n      <td>1</td>\n      <td>False</td>\n    </tr>\n    <tr>\n      <th>22</th>\n      <td>Pidgeot</td>\n      <td>Normal</td>\n      <td>Flying</td>\n      <td>83</td>\n      <td>80</td>\n      <td>75</td>\n      <td>70</td>\n      <td>70</td>\n      <td>101</td>\n      <td>1</td>\n      <td>False</td>\n    </tr>\n    <tr>\n      <th>23</th>\n      <td>PidgeotMega Pidgeot</td>\n      <td>Normal</td>\n      <td>Flying</td>\n      <td>83</td>\n      <td>80</td>\n      <td>80</td>\n      <td>135</td>\n      <td>80</td>\n      <td>121</td>\n      <td>1</td>\n      <td>False</td>\n    </tr>\n    <tr>\n      <th>24</th>\n      <td>Rattata</td>\n      <td>Normal</td>\n      <td>NaN</td>\n      <td>30</td>\n      <td>56</td>\n      <td>35</td>\n      <td>25</td>\n      <td>35</td>\n      <td>72</td>\n      <td>1</td>\n      <td>False</td>\n    </tr>\n    <tr>\n      <th>25</th>\n      <td>Raticate</td>\n      <td>Normal</td>\n      <td>NaN</td>\n      <td>55</td>\n      <td>81</td>\n      <td>60</td>\n      <td>50</td>\n      <td>70</td>\n      <td>97</td>\n      <td>1</td>\n      <td>False</td>\n    </tr>\n    <tr>\n      <th>26</th>\n      <td>Spearow</td>\n      <td>Normal</td>\n      <td>Flying</td>\n      <td>40</td>\n      <td>60</td>\n      <td>30</td>\n      <td>31</td>\n      <td>31</td>\n      <td>70</td>\n      <td>1</td>\n      <td>False</td>\n    </tr>\n    <tr>\n      <th>27</th>\n      <td>Fearow</td>\n      <td>Normal</td>\n      <td>Flying</td>\n      <td>65</td>\n      <td>90</td>\n      <td>65</td>\n      <td>61</td>\n      <td>61</td>\n      <td>100</td>\n      <td>1</td>\n      <td>False</td>\n    </tr>\n    <tr>\n      <th>28</th>\n      <td>Ekans</td>\n      <td>Poison</td>\n      <td>NaN</td>\n      <td>35</td>\n      <td>60</td>\n      <td>44</td>\n      <td>40</td>\n      <td>54</td>\n      <td>55</td>\n      <td>1</td>\n      <td>False</td>\n    </tr>\n    <tr>\n      <th>29</th>\n      <td>Arbok</td>\n      <td>Poison</td>\n      <td>NaN</td>\n      <td>60</td>\n      <td>85</td>\n      <td>69</td>\n      <td>65</td>\n      <td>79</td>\n      <td>80</td>\n      <td>1</td>\n      <td>False</td>\n    </tr>\n    <tr>\n      <th>...</th>\n      <td>...</td>\n      <td>...</td>\n      <td>...</td>\n      <td>...</td>\n      <td>...</td>\n      <td>...</td>\n      <td>...</td>\n      <td>...</td>\n      <td>...</td>\n      <td>...</td>\n      <td>...</td>\n    </tr>\n    <tr>\n      <th>770</th>\n      <td>Sylveon</td>\n      <td>Fairy</td>\n      <td>NaN</td>\n      <td>95</td>\n      <td>65</td>\n      <td>65</td>\n      <td>110</td>\n      <td>130</td>\n      <td>60</td>\n      <td>6</td>\n      <td>False</td>\n    </tr>\n    <tr>\n      <th>771</th>\n      <td>Hawlucha</td>\n      <td>Fighting</td>\n      <td>Flying</td>\n      <td>78</td>\n      <td>92</td>\n      <td>75</td>\n      <td>74</td>\n      <td>63</td>\n      <td>118</td>\n      <td>6</td>\n      <td>False</td>\n    </tr>\n    <tr>\n      <th>772</th>\n      <td>Dedenne</td>\n      <td>Electric</td>\n      <td>Fairy</td>\n      <td>67</td>\n      <td>58</td>\n      <td>57</td>\n      <td>81</td>\n      <td>67</td>\n      <td>101</td>\n      <td>6</td>\n      <td>False</td>\n    </tr>\n    <tr>\n      <th>773</th>\n      <td>Carbink</td>\n      <td>Rock</td>\n      <td>Fairy</td>\n      <td>50</td>\n      <td>50</td>\n      <td>150</td>\n      <td>50</td>\n      <td>150</td>\n      <td>50</td>\n      <td>6</td>\n      <td>False</td>\n    </tr>\n    <tr>\n      <th>774</th>\n      <td>Goomy</td>\n      <td>Dragon</td>\n      <td>NaN</td>\n      <td>45</td>\n      <td>50</td>\n      <td>35</td>\n      <td>55</td>\n      <td>75</td>\n      <td>40</td>\n      <td>6</td>\n      <td>False</td>\n    </tr>\n    <tr>\n      <th>775</th>\n      <td>Sliggoo</td>\n      <td>Dragon</td>\n      <td>NaN</td>\n      <td>68</td>\n      <td>75</td>\n      <td>53</td>\n      <td>83</td>\n      <td>113</td>\n      <td>60</td>\n      <td>6</td>\n      <td>False</td>\n    </tr>\n    <tr>\n      <th>776</th>\n      <td>Goodra</td>\n      <td>Dragon</td>\n      <td>NaN</td>\n      <td>90</td>\n      <td>100</td>\n      <td>70</td>\n      <td>110</td>\n      <td>150</td>\n      <td>80</td>\n      <td>6</td>\n      <td>False</td>\n    </tr>\n    <tr>\n      <th>777</th>\n      <td>Klefki</td>\n      <td>Steel</td>\n      <td>Fairy</td>\n      <td>57</td>\n      <td>80</td>\n      <td>91</td>\n      <td>80</td>\n      <td>87</td>\n      <td>75</td>\n      <td>6</td>\n      <td>False</td>\n    </tr>\n    <tr>\n      <th>778</th>\n      <td>Phantump</td>\n      <td>Ghost</td>\n      <td>Grass</td>\n      <td>43</td>\n      <td>70</td>\n      <td>48</td>\n      <td>50</td>\n      <td>60</td>\n      <td>38</td>\n      <td>6</td>\n      <td>False</td>\n    </tr>\n    <tr>\n      <th>779</th>\n      <td>Trevenant</td>\n      <td>Ghost</td>\n      <td>Grass</td>\n      <td>85</td>\n      <td>110</td>\n      <td>76</td>\n      <td>65</td>\n      <td>82</td>\n      <td>56</td>\n      <td>6</td>\n      <td>False</td>\n    </tr>\n    <tr>\n      <th>780</th>\n      <td>PumpkabooAverage Size</td>\n      <td>Ghost</td>\n      <td>Grass</td>\n      <td>49</td>\n      <td>66</td>\n      <td>70</td>\n      <td>44</td>\n      <td>55</td>\n      <td>51</td>\n      <td>6</td>\n      <td>False</td>\n    </tr>\n    <tr>\n      <th>781</th>\n      <td>PumpkabooSmall Size</td>\n      <td>Ghost</td>\n      <td>Grass</td>\n      <td>44</td>\n      <td>66</td>\n      <td>70</td>\n      <td>44</td>\n      <td>55</td>\n      <td>56</td>\n      <td>6</td>\n      <td>False</td>\n    </tr>\n    <tr>\n      <th>782</th>\n      <td>PumpkabooLarge Size</td>\n      <td>Ghost</td>\n      <td>Grass</td>\n      <td>54</td>\n      <td>66</td>\n      <td>70</td>\n      <td>44</td>\n      <td>55</td>\n      <td>46</td>\n      <td>6</td>\n      <td>False</td>\n    </tr>\n    <tr>\n      <th>783</th>\n      <td>PumpkabooSuper Size</td>\n      <td>Ghost</td>\n      <td>Grass</td>\n      <td>59</td>\n      <td>66</td>\n      <td>70</td>\n      <td>44</td>\n      <td>55</td>\n      <td>41</td>\n      <td>6</td>\n      <td>False</td>\n    </tr>\n    <tr>\n      <th>784</th>\n      <td>GourgeistAverage Size</td>\n      <td>Ghost</td>\n      <td>Grass</td>\n      <td>65</td>\n      <td>90</td>\n      <td>122</td>\n      <td>58</td>\n      <td>75</td>\n      <td>84</td>\n      <td>6</td>\n      <td>False</td>\n    </tr>\n    <tr>\n      <th>785</th>\n      <td>GourgeistSmall Size</td>\n      <td>Ghost</td>\n      <td>Grass</td>\n      <td>55</td>\n      <td>85</td>\n      <td>122</td>\n      <td>58</td>\n      <td>75</td>\n      <td>99</td>\n      <td>6</td>\n      <td>False</td>\n    </tr>\n    <tr>\n      <th>786</th>\n      <td>GourgeistLarge Size</td>\n      <td>Ghost</td>\n      <td>Grass</td>\n      <td>75</td>\n      <td>95</td>\n      <td>122</td>\n      <td>58</td>\n      <td>75</td>\n      <td>69</td>\n      <td>6</td>\n      <td>False</td>\n    </tr>\n    <tr>\n      <th>787</th>\n      <td>GourgeistSuper Size</td>\n      <td>Ghost</td>\n      <td>Grass</td>\n      <td>85</td>\n      <td>100</td>\n      <td>122</td>\n      <td>58</td>\n      <td>75</td>\n      <td>54</td>\n      <td>6</td>\n      <td>False</td>\n    </tr>\n    <tr>\n      <th>788</th>\n      <td>Bergmite</td>\n      <td>Ice</td>\n      <td>NaN</td>\n      <td>55</td>\n      <td>69</td>\n      <td>85</td>\n      <td>32</td>\n      <td>35</td>\n      <td>28</td>\n      <td>6</td>\n      <td>False</td>\n    </tr>\n    <tr>\n      <th>789</th>\n      <td>Avalugg</td>\n      <td>Ice</td>\n      <td>NaN</td>\n      <td>95</td>\n      <td>117</td>\n      <td>184</td>\n      <td>44</td>\n      <td>46</td>\n      <td>28</td>\n      <td>6</td>\n      <td>False</td>\n    </tr>\n    <tr>\n      <th>790</th>\n      <td>Noibat</td>\n      <td>Flying</td>\n      <td>Dragon</td>\n      <td>40</td>\n      <td>30</td>\n      <td>35</td>\n      <td>45</td>\n      <td>40</td>\n      <td>55</td>\n      <td>6</td>\n      <td>False</td>\n    </tr>\n    <tr>\n      <th>791</th>\n      <td>Noivern</td>\n      <td>Flying</td>\n      <td>Dragon</td>\n      <td>85</td>\n      <td>70</td>\n      <td>80</td>\n      <td>97</td>\n      <td>80</td>\n      <td>123</td>\n      <td>6</td>\n      <td>False</td>\n    </tr>\n    <tr>\n      <th>792</th>\n      <td>Xerneas</td>\n      <td>Fairy</td>\n      <td>NaN</td>\n      <td>126</td>\n      <td>131</td>\n      <td>95</td>\n      <td>131</td>\n      <td>98</td>\n      <td>99</td>\n      <td>6</td>\n      <td>True</td>\n    </tr>\n    <tr>\n      <th>793</th>\n      <td>Yveltal</td>\n      <td>Dark</td>\n      <td>Flying</td>\n      <td>126</td>\n      <td>131</td>\n      <td>95</td>\n      <td>131</td>\n      <td>98</td>\n      <td>99</td>\n      <td>6</td>\n      <td>True</td>\n    </tr>\n    <tr>\n      <th>794</th>\n      <td>Zygarde50% Forme</td>\n      <td>Dragon</td>\n      <td>Ground</td>\n      <td>108</td>\n      <td>100</td>\n      <td>121</td>\n      <td>81</td>\n      <td>95</td>\n      <td>95</td>\n      <td>6</td>\n      <td>True</td>\n    </tr>\n    <tr>\n      <th>795</th>\n      <td>Diancie</td>\n      <td>Rock</td>\n      <td>Fairy</td>\n      <td>50</td>\n      <td>100</td>\n      <td>150</td>\n      <td>100</td>\n      <td>150</td>\n      <td>50</td>\n      <td>6</td>\n      <td>True</td>\n    </tr>\n    <tr>\n      <th>796</th>\n      <td>DiancieMega Diancie</td>\n      <td>Rock</td>\n      <td>Fairy</td>\n      <td>50</td>\n      <td>160</td>\n      <td>110</td>\n      <td>160</td>\n      <td>110</td>\n      <td>110</td>\n      <td>6</td>\n      <td>True</td>\n    </tr>\n    <tr>\n      <th>797</th>\n      <td>HoopaHoopa Confined</td>\n      <td>Psychic</td>\n      <td>Ghost</td>\n      <td>80</td>\n      <td>110</td>\n      <td>60</td>\n      <td>150</td>\n      <td>130</td>\n      <td>70</td>\n      <td>6</td>\n      <td>True</td>\n    </tr>\n    <tr>\n      <th>798</th>\n      <td>HoopaHoopa Unbound</td>\n      <td>Psychic</td>\n      <td>Dark</td>\n      <td>80</td>\n      <td>160</td>\n      <td>60</td>\n      <td>170</td>\n      <td>130</td>\n      <td>80</td>\n      <td>6</td>\n      <td>True</td>\n    </tr>\n    <tr>\n      <th>799</th>\n      <td>Volcanion</td>\n      <td>Fire</td>\n      <td>Water</td>\n      <td>80</td>\n      <td>110</td>\n      <td>120</td>\n      <td>130</td>\n      <td>90</td>\n      <td>70</td>\n      <td>6</td>\n      <td>True</td>\n    </tr>\n  </tbody>\n</table>\n<p>800 rows × 11 columns</p>\n</div>",
      "text/plain": "                          Name    Type 1  Type 2   HP  Attack  Defense  \\\n#                                                                        \n0                    Bulbasaur     Grass  Poison   45      49       49   \n1                      Ivysaur     Grass  Poison   60      62       63   \n2                     Venusaur     Grass  Poison   80      82       83   \n3        VenusaurMega Venusaur     Grass  Poison   80     100      123   \n4                   Charmander      Fire     NaN   39      52       43   \n5                   Charmeleon      Fire     NaN   58      64       58   \n6                    Charizard      Fire  Flying   78      84       78   \n7    CharizardMega Charizard X      Fire  Dragon   78     130      111   \n8    CharizardMega Charizard Y      Fire  Flying   78     104       78   \n9                     Squirtle     Water     NaN   44      48       65   \n10                   Wartortle     Water     NaN   59      63       80   \n11                   Blastoise     Water     NaN   79      83      100   \n12     BlastoiseMega Blastoise     Water     NaN   79     103      120   \n13                    Caterpie       Bug     NaN   45      30       35   \n14                     Metapod       Bug     NaN   50      20       55   \n15                  Butterfree       Bug  Flying   60      45       50   \n16                      Weedle       Bug  Poison   40      35       30   \n17                      Kakuna       Bug  Poison   45      25       50   \n18                    Beedrill       Bug  Poison   65      90       40   \n19       BeedrillMega Beedrill       Bug  Poison   65     150       40   \n20                      Pidgey    Normal  Flying   40      45       40   \n21                   Pidgeotto    Normal  Flying   63      60       55   \n22                     Pidgeot    Normal  Flying   83      80       75   \n23         PidgeotMega Pidgeot    Normal  Flying   83      80       80   \n24                     Rattata    Normal     NaN   30      56       35   \n25                    Raticate    Normal     NaN   55      81       60   \n26                     Spearow    Normal  Flying   40      60       30   \n27                      Fearow    Normal  Flying   65      90       65   \n28                       Ekans    Poison     NaN   35      60       44   \n29                       Arbok    Poison     NaN   60      85       69   \n..                         ...       ...     ...  ...     ...      ...   \n770                    Sylveon     Fairy     NaN   95      65       65   \n771                   Hawlucha  Fighting  Flying   78      92       75   \n772                    Dedenne  Electric   Fairy   67      58       57   \n773                    Carbink      Rock   Fairy   50      50      150   \n774                      Goomy    Dragon     NaN   45      50       35   \n775                    Sliggoo    Dragon     NaN   68      75       53   \n776                     Goodra    Dragon     NaN   90     100       70   \n777                     Klefki     Steel   Fairy   57      80       91   \n778                   Phantump     Ghost   Grass   43      70       48   \n779                  Trevenant     Ghost   Grass   85     110       76   \n780      PumpkabooAverage Size     Ghost   Grass   49      66       70   \n781        PumpkabooSmall Size     Ghost   Grass   44      66       70   \n782        PumpkabooLarge Size     Ghost   Grass   54      66       70   \n783        PumpkabooSuper Size     Ghost   Grass   59      66       70   \n784      GourgeistAverage Size     Ghost   Grass   65      90      122   \n785        GourgeistSmall Size     Ghost   Grass   55      85      122   \n786        GourgeistLarge Size     Ghost   Grass   75      95      122   \n787        GourgeistSuper Size     Ghost   Grass   85     100      122   \n788                   Bergmite       Ice     NaN   55      69       85   \n789                    Avalugg       Ice     NaN   95     117      184   \n790                     Noibat    Flying  Dragon   40      30       35   \n791                    Noivern    Flying  Dragon   85      70       80   \n792                    Xerneas     Fairy     NaN  126     131       95   \n793                    Yveltal      Dark  Flying  126     131       95   \n794           Zygarde50% Forme    Dragon  Ground  108     100      121   \n795                    Diancie      Rock   Fairy   50     100      150   \n796        DiancieMega Diancie      Rock   Fairy   50     160      110   \n797        HoopaHoopa Confined   Psychic   Ghost   80     110       60   \n798         HoopaHoopa Unbound   Psychic    Dark   80     160       60   \n799                  Volcanion      Fire   Water   80     110      120   \n\n     Sp. Atk  Sp. Def  Speed  Generation  Legendary  \n#                                                    \n0         65       65     45           1      False  \n1         80       80     60           1      False  \n2        100      100     80           1      False  \n3        122      120     80           1      False  \n4         60       50     65           1      False  \n5         80       65     80           1      False  \n6        109       85    100           1      False  \n7        130       85    100           1      False  \n8        159      115    100           1      False  \n9         50       64     43           1      False  \n10        65       80     58           1      False  \n11        85      105     78           1      False  \n12       135      115     78           1      False  \n13        20       20     45           1      False  \n14        25       25     30           1      False  \n15        90       80     70           1      False  \n16        20       20     50           1      False  \n17        25       25     35           1      False  \n18        45       80     75           1      False  \n19        15       80    145           1      False  \n20        35       35     56           1      False  \n21        50       50     71           1      False  \n22        70       70    101           1      False  \n23       135       80    121           1      False  \n24        25       35     72           1      False  \n25        50       70     97           1      False  \n26        31       31     70           1      False  \n27        61       61    100           1      False  \n28        40       54     55           1      False  \n29        65       79     80           1      False  \n..       ...      ...    ...         ...        ...  \n770      110      130     60           6      False  \n771       74       63    118           6      False  \n772       81       67    101           6      False  \n773       50      150     50           6      False  \n774       55       75     40           6      False  \n775       83      113     60           6      False  \n776      110      150     80           6      False  \n777       80       87     75           6      False  \n778       50       60     38           6      False  \n779       65       82     56           6      False  \n780       44       55     51           6      False  \n781       44       55     56           6      False  \n782       44       55     46           6      False  \n783       44       55     41           6      False  \n784       58       75     84           6      False  \n785       58       75     99           6      False  \n786       58       75     69           6      False  \n787       58       75     54           6      False  \n788       32       35     28           6      False  \n789       44       46     28           6      False  \n790       45       40     55           6      False  \n791       97       80    123           6      False  \n792      131       98     99           6       True  \n793      131       98     99           6       True  \n794       81       95     95           6       True  \n795      100      150     50           6       True  \n796      160      110    110           6       True  \n797      150      130     70           6       True  \n798      170      130     80           6       True  \n799      130       90     70           6       True  \n\n[800 rows x 11 columns]"
     },
     "execution_count": 2,
     "metadata": {},
     "output_type": "execute_result"
    }
   ],
   "source": [
    "#Chuyển đổi kiểu dữ liệu trong dataframe\n",
    "df = pd.read_csv('pokemon_data.csv', index_col = 0).reset_index(drop = True)\n",
    "df.index.name = '#'\n",
    "df"
   ]
  },
  {
   "cell_type": "code",
   "execution_count": null,
   "metadata": {},
   "outputs": [],
   "source": [
    "#chuyển đổi thành thời gian .to_datetime()\n",
    "#dùng accessor .dt để dùng cho các phương thức của kiểu dữ liệu thời gian\n",
    "df.Date.dt.strftime('%d/%m/%y') #df.Date là Series"
   ]
  },
  {
   "cell_type": "code",
   "execution_count": 3,
   "metadata": {},
   "outputs": [
    {
     "data": {
      "text/html": "<div>\n<style scoped>\n    .dataframe tbody tr th:only-of-type {\n        vertical-align: middle;\n    }\n\n    .dataframe tbody tr th {\n        vertical-align: top;\n    }\n\n    .dataframe thead th {\n        text-align: right;\n    }\n</style>\n<table border=\"1\" class=\"dataframe\">\n  <thead>\n    <tr style=\"text-align: right;\">\n      <th></th>\n      <th>Date</th>\n      <th>Close</th>\n      <th>Volume</th>\n      <th>PercentChange</th>\n    </tr>\n  </thead>\n  <tbody>\n    <tr>\n      <th>0</th>\n      <td>2018-06-01</td>\n      <td>136.1k</td>\n      <td>1051610</td>\n      <td>?%</td>\n    </tr>\n    <tr>\n      <th>1</th>\n      <td>2018-06-04</td>\n      <td>141.6k</td>\n      <td>965230</td>\n      <td>4.04%</td>\n    </tr>\n    <tr>\n      <th>2</th>\n      <td>2018-06-05</td>\n      <td>144.4k</td>\n      <td>879160</td>\n      <td>1.98%</td>\n    </tr>\n    <tr>\n      <th>3</th>\n      <td>2018-06-06</td>\n      <td>142.8k</td>\n      <td>463720</td>\n      <td>-1.11%</td>\n    </tr>\n    <tr>\n      <th>4</th>\n      <td>2018-06-07</td>\n      <td>144.7k</td>\n      <td>401900</td>\n      <td>1.33%</td>\n    </tr>\n    <tr>\n      <th>5</th>\n      <td>2018-06-08</td>\n      <td>144.4k</td>\n      <td>505520</td>\n      <td>-0.21%</td>\n    </tr>\n    <tr>\n      <th>6</th>\n      <td>2018-06-11</td>\n      <td>147.0k</td>\n      <td>721050</td>\n      <td>1.8%</td>\n    </tr>\n    <tr>\n      <th>7</th>\n      <td>2018-06-12</td>\n      <td>147.7k</td>\n      <td>873690</td>\n      <td>0.48%</td>\n    </tr>\n    <tr>\n      <th>8</th>\n      <td>2018-06-13</td>\n      <td>147.7k</td>\n      <td>472470</td>\n      <td>0.0%</td>\n    </tr>\n    <tr>\n      <th>9</th>\n      <td>2018-06-14</td>\n      <td>146.9k</td>\n      <td>767750</td>\n      <td>-0.54%</td>\n    </tr>\n    <tr>\n      <th>10</th>\n      <td>2018-06-15</td>\n      <td>146.9k</td>\n      <td>1114730</td>\n      <td>0.0%</td>\n    </tr>\n  </tbody>\n</table>\n</div>",
      "text/plain": "          Date   Close   Volume PercentChange\n0   2018-06-01  136.1k  1051610            ?%\n1   2018-06-04  141.6k   965230         4.04%\n2   2018-06-05  144.4k   879160         1.98%\n3   2018-06-06  142.8k   463720        -1.11%\n4   2018-06-07  144.7k   401900         1.33%\n5   2018-06-08  144.4k   505520        -0.21%\n6   2018-06-11  147.0k   721050          1.8%\n7   2018-06-12  147.7k   873690         0.48%\n8   2018-06-13  147.7k   472470          0.0%\n9   2018-06-14  146.9k   767750        -0.54%\n10  2018-06-15  146.9k  1114730          0.0%"
     },
     "execution_count": 3,
     "metadata": {},
     "output_type": "execute_result"
    }
   ],
   "source": [
    "#to_numberic không được có kí tự khác số, dùng accessor df.Close.str.replace('chuổi cần chuyển đồi', 'chuyển muốn chuyển đổi')\n",
    "#dùng assign để thêm vô df\n",
    "df = pd.read_csv('https://raw.githubusercontent.com/Levytan/MIS.2019/master/Data/vnm.csv', header = None)\n",
    "df.columns = ['Date', 'Close', 'Volume', 'PercentChange']\n",
    "df"
   ]
  },
  {
   "cell_type": "code",
   "execution_count": 4,
   "metadata": {},
   "outputs": [
    {
     "data": {
      "text/html": "<div>\n<style scoped>\n    .dataframe tbody tr th:only-of-type {\n        vertical-align: middle;\n    }\n\n    .dataframe tbody tr th {\n        vertical-align: top;\n    }\n\n    .dataframe thead th {\n        text-align: right;\n    }\n</style>\n<table border=\"1\" class=\"dataframe\">\n  <thead>\n    <tr style=\"text-align: right;\">\n      <th></th>\n      <th>Date</th>\n      <th>Close</th>\n      <th>Volume</th>\n      <th>PercentChange</th>\n    </tr>\n  </thead>\n  <tbody>\n    <tr>\n      <th>0</th>\n      <td>2018-06-01</td>\n      <td>136.1k</td>\n      <td>1051610</td>\n      <td>NaN</td>\n    </tr>\n    <tr>\n      <th>1</th>\n      <td>2018-06-04</td>\n      <td>141.6k</td>\n      <td>965230</td>\n      <td>4.04</td>\n    </tr>\n    <tr>\n      <th>2</th>\n      <td>2018-06-05</td>\n      <td>144.4k</td>\n      <td>879160</td>\n      <td>1.98</td>\n    </tr>\n    <tr>\n      <th>3</th>\n      <td>2018-06-06</td>\n      <td>142.8k</td>\n      <td>463720</td>\n      <td>-1.11</td>\n    </tr>\n    <tr>\n      <th>4</th>\n      <td>2018-06-07</td>\n      <td>144.7k</td>\n      <td>401900</td>\n      <td>1.33</td>\n    </tr>\n    <tr>\n      <th>5</th>\n      <td>2018-06-08</td>\n      <td>144.4k</td>\n      <td>505520</td>\n      <td>-0.21</td>\n    </tr>\n    <tr>\n      <th>6</th>\n      <td>2018-06-11</td>\n      <td>147.0k</td>\n      <td>721050</td>\n      <td>1.80</td>\n    </tr>\n    <tr>\n      <th>7</th>\n      <td>2018-06-12</td>\n      <td>147.7k</td>\n      <td>873690</td>\n      <td>0.48</td>\n    </tr>\n    <tr>\n      <th>8</th>\n      <td>2018-06-13</td>\n      <td>147.7k</td>\n      <td>472470</td>\n      <td>0.00</td>\n    </tr>\n    <tr>\n      <th>9</th>\n      <td>2018-06-14</td>\n      <td>146.9k</td>\n      <td>767750</td>\n      <td>-0.54</td>\n    </tr>\n    <tr>\n      <th>10</th>\n      <td>2018-06-15</td>\n      <td>146.9k</td>\n      <td>1114730</td>\n      <td>0.00</td>\n    </tr>\n  </tbody>\n</table>\n</div>",
      "text/plain": "          Date   Close   Volume  PercentChange\n0   2018-06-01  136.1k  1051610            NaN\n1   2018-06-04  141.6k   965230           4.04\n2   2018-06-05  144.4k   879160           1.98\n3   2018-06-06  142.8k   463720          -1.11\n4   2018-06-07  144.7k   401900           1.33\n5   2018-06-08  144.4k   505520          -0.21\n6   2018-06-11  147.0k   721050           1.80\n7   2018-06-12  147.7k   873690           0.48\n8   2018-06-13  147.7k   472470           0.00\n9   2018-06-14  146.9k   767750          -0.54\n10  2018-06-15  146.9k  1114730           0.00"
     },
     "execution_count": 4,
     "metadata": {},
     "output_type": "execute_result"
    }
   ],
   "source": [
    "df = df.assign(PercentChange = df.PercentChange.str.replace('%', ''))\n",
    "df = df.assign(PercentChange = pd.to_numeric(df.PercentChange, errors = 'coerce'))\n",
    "df"
   ]
  },
  {
   "cell_type": "code",
   "execution_count": 5,
   "metadata": {},
   "outputs": [
    {
     "data": {
      "text/html": "<div>\n<style scoped>\n    .dataframe tbody tr th:only-of-type {\n        vertical-align: middle;\n    }\n\n    .dataframe tbody tr th {\n        vertical-align: top;\n    }\n\n    .dataframe thead th {\n        text-align: right;\n    }\n</style>\n<table border=\"1\" class=\"dataframe\">\n  <thead>\n    <tr style=\"text-align: right;\">\n      <th></th>\n      <th>Date</th>\n      <th>Close</th>\n      <th>Volume</th>\n      <th>PercentChange</th>\n    </tr>\n  </thead>\n  <tbody>\n    <tr>\n      <th>0</th>\n      <td>01/06/18</td>\n      <td>136.1k</td>\n      <td>1051610</td>\n      <td>NaN</td>\n    </tr>\n    <tr>\n      <th>1</th>\n      <td>04/06/18</td>\n      <td>141.6k</td>\n      <td>965230</td>\n      <td>4.04</td>\n    </tr>\n    <tr>\n      <th>2</th>\n      <td>05/06/18</td>\n      <td>144.4k</td>\n      <td>879160</td>\n      <td>1.98</td>\n    </tr>\n    <tr>\n      <th>3</th>\n      <td>06/06/18</td>\n      <td>142.8k</td>\n      <td>463720</td>\n      <td>-1.11</td>\n    </tr>\n    <tr>\n      <th>4</th>\n      <td>07/06/18</td>\n      <td>144.7k</td>\n      <td>401900</td>\n      <td>1.33</td>\n    </tr>\n    <tr>\n      <th>5</th>\n      <td>08/06/18</td>\n      <td>144.4k</td>\n      <td>505520</td>\n      <td>-0.21</td>\n    </tr>\n    <tr>\n      <th>6</th>\n      <td>11/06/18</td>\n      <td>147.0k</td>\n      <td>721050</td>\n      <td>1.80</td>\n    </tr>\n    <tr>\n      <th>7</th>\n      <td>12/06/18</td>\n      <td>147.7k</td>\n      <td>873690</td>\n      <td>0.48</td>\n    </tr>\n    <tr>\n      <th>8</th>\n      <td>13/06/18</td>\n      <td>147.7k</td>\n      <td>472470</td>\n      <td>0.00</td>\n    </tr>\n    <tr>\n      <th>9</th>\n      <td>14/06/18</td>\n      <td>146.9k</td>\n      <td>767750</td>\n      <td>-0.54</td>\n    </tr>\n    <tr>\n      <th>10</th>\n      <td>15/06/18</td>\n      <td>146.9k</td>\n      <td>1114730</td>\n      <td>0.00</td>\n    </tr>\n  </tbody>\n</table>\n</div>",
      "text/plain": "        Date   Close   Volume  PercentChange\n0   01/06/18  136.1k  1051610            NaN\n1   04/06/18  141.6k   965230           4.04\n2   05/06/18  144.4k   879160           1.98\n3   06/06/18  142.8k   463720          -1.11\n4   07/06/18  144.7k   401900           1.33\n5   08/06/18  144.4k   505520          -0.21\n6   11/06/18  147.0k   721050           1.80\n7   12/06/18  147.7k   873690           0.48\n8   13/06/18  147.7k   472470           0.00\n9   14/06/18  146.9k   767750          -0.54\n10  15/06/18  146.9k  1114730           0.00"
     },
     "execution_count": 5,
     "metadata": {},
     "output_type": "execute_result"
    }
   ],
   "source": [
    "df = df.assign(Date = pd.to_datetime(df.Date))\n",
    "df = df.assign(Date = df.Date.dt.strftime('%d/%m/%y'))\n",
    "df"
   ]
  },
  {
   "cell_type": "code",
   "execution_count": 6,
   "metadata": {},
   "outputs": [
    {
     "data": {
      "text/html": "<div>\n<style scoped>\n    .dataframe tbody tr th:only-of-type {\n        vertical-align: middle;\n    }\n\n    .dataframe tbody tr th {\n        vertical-align: top;\n    }\n\n    .dataframe thead th {\n        text-align: right;\n    }\n</style>\n<table border=\"1\" class=\"dataframe\">\n  <thead>\n    <tr style=\"text-align: right;\">\n      <th></th>\n      <th>Date</th>\n      <th>Close</th>\n      <th>Volume</th>\n      <th>PercentChange</th>\n    </tr>\n  </thead>\n  <tbody>\n    <tr>\n      <th>0</th>\n      <td>01/06/18</td>\n      <td>136.1k</td>\n      <td>1051610</td>\n      <td>NaN</td>\n    </tr>\n  </tbody>\n</table>\n</div>",
      "text/plain": "       Date   Close   Volume  PercentChange\n0  01/06/18  136.1k  1051610            NaN"
     },
     "execution_count": 6,
     "metadata": {},
     "output_type": "execute_result"
    }
   ],
   "source": [
    "df[df.PercentChange != df.PercentChange]"
   ]
  },
  {
   "cell_type": "code",
   "execution_count": 7,
   "metadata": {},
   "outputs": [
    {
     "data": {
      "text/html": "<div>\n<style scoped>\n    .dataframe tbody tr th:only-of-type {\n        vertical-align: middle;\n    }\n\n    .dataframe tbody tr th {\n        vertical-align: top;\n    }\n\n    .dataframe thead th {\n        text-align: right;\n    }\n</style>\n<table border=\"1\" class=\"dataframe\">\n  <thead>\n    <tr style=\"text-align: right;\">\n      <th></th>\n      <th>sepal-length</th>\n      <th>sepal-width</th>\n      <th>petal-length</th>\n      <th>petal-width</th>\n      <th>type</th>\n    </tr>\n  </thead>\n  <tbody>\n    <tr>\n      <th>0</th>\n      <td>5.1</td>\n      <td>3.5</td>\n      <td>1.4</td>\n      <td>0.2</td>\n      <td>Iris-setosa</td>\n    </tr>\n    <tr>\n      <th>1</th>\n      <td>4.9</td>\n      <td>3.0</td>\n      <td>1.4</td>\n      <td>0.2</td>\n      <td>Iris-setosa</td>\n    </tr>\n    <tr>\n      <th>2</th>\n      <td>4.7</td>\n      <td>3.2</td>\n      <td>1.3</td>\n      <td>0.2</td>\n      <td>Iris-setosa</td>\n    </tr>\n    <tr>\n      <th>3</th>\n      <td>4.6</td>\n      <td>3.1</td>\n      <td>1.5</td>\n      <td>0.2</td>\n      <td>Iris-setosa</td>\n    </tr>\n    <tr>\n      <th>4</th>\n      <td>5.0</td>\n      <td>3.6</td>\n      <td>1.4</td>\n      <td>0.2</td>\n      <td>Iris-setosa</td>\n    </tr>\n    <tr>\n      <th>5</th>\n      <td>5.4</td>\n      <td>3.9</td>\n      <td>1.7</td>\n      <td>0.4</td>\n      <td>Iris-setosa</td>\n    </tr>\n    <tr>\n      <th>6</th>\n      <td>4.6</td>\n      <td>3.4</td>\n      <td>1.4</td>\n      <td>0.3</td>\n      <td>Iris-setosa</td>\n    </tr>\n    <tr>\n      <th>7</th>\n      <td>5.0</td>\n      <td>3.4</td>\n      <td>1.5</td>\n      <td>0.2</td>\n      <td>Iris-setosa</td>\n    </tr>\n    <tr>\n      <th>8</th>\n      <td>4.4</td>\n      <td>2.9</td>\n      <td>1.4</td>\n      <td>0.2</td>\n      <td>Iris-setosa</td>\n    </tr>\n    <tr>\n      <th>9</th>\n      <td>4.9</td>\n      <td>3.1</td>\n      <td>1.5</td>\n      <td>0.1</td>\n      <td>Iris-setosa</td>\n    </tr>\n    <tr>\n      <th>10</th>\n      <td>5.4</td>\n      <td>3.7</td>\n      <td>1.5</td>\n      <td>0.2</td>\n      <td>Iris-setosa</td>\n    </tr>\n    <tr>\n      <th>11</th>\n      <td>4.8</td>\n      <td>3.4</td>\n      <td>1.6</td>\n      <td>0.2</td>\n      <td>Iris-setosa</td>\n    </tr>\n    <tr>\n      <th>12</th>\n      <td>4.8</td>\n      <td>3.0</td>\n      <td>1.4</td>\n      <td>0.1</td>\n      <td>Iris-setosa</td>\n    </tr>\n    <tr>\n      <th>13</th>\n      <td>4.3</td>\n      <td>3.0</td>\n      <td>1.1</td>\n      <td>0.1</td>\n      <td>Iris-setosa</td>\n    </tr>\n    <tr>\n      <th>14</th>\n      <td>5.8</td>\n      <td>4.0</td>\n      <td>1.2</td>\n      <td>0.2</td>\n      <td>Iris-setosa</td>\n    </tr>\n    <tr>\n      <th>15</th>\n      <td>5.7</td>\n      <td>4.4</td>\n      <td>1.5</td>\n      <td>0.4</td>\n      <td>Iris-setosa</td>\n    </tr>\n    <tr>\n      <th>16</th>\n      <td>5.4</td>\n      <td>3.9</td>\n      <td>1.3</td>\n      <td>0.4</td>\n      <td>Iris-setosa</td>\n    </tr>\n    <tr>\n      <th>17</th>\n      <td>5.1</td>\n      <td>3.5</td>\n      <td>1.4</td>\n      <td>0.3</td>\n      <td>Iris-setosa</td>\n    </tr>\n    <tr>\n      <th>18</th>\n      <td>5.7</td>\n      <td>3.8</td>\n      <td>1.7</td>\n      <td>0.3</td>\n      <td>Iris-setosa</td>\n    </tr>\n    <tr>\n      <th>19</th>\n      <td>5.1</td>\n      <td>3.8</td>\n      <td>1.5</td>\n      <td>0.3</td>\n      <td>Iris-setosa</td>\n    </tr>\n    <tr>\n      <th>20</th>\n      <td>5.4</td>\n      <td>3.4</td>\n      <td>1.7</td>\n      <td>0.2</td>\n      <td>Iris-setosa</td>\n    </tr>\n    <tr>\n      <th>21</th>\n      <td>5.1</td>\n      <td>3.7</td>\n      <td>1.5</td>\n      <td>0.4</td>\n      <td>Iris-setosa</td>\n    </tr>\n    <tr>\n      <th>22</th>\n      <td>4.6</td>\n      <td>3.6</td>\n      <td>1.0</td>\n      <td>0.2</td>\n      <td>Iris-setosa</td>\n    </tr>\n    <tr>\n      <th>23</th>\n      <td>5.1</td>\n      <td>3.3</td>\n      <td>1.7</td>\n      <td>0.5</td>\n      <td>Iris-setosa</td>\n    </tr>\n    <tr>\n      <th>24</th>\n      <td>4.8</td>\n      <td>3.4</td>\n      <td>1.9</td>\n      <td>0.2</td>\n      <td>Iris-setosa</td>\n    </tr>\n    <tr>\n      <th>25</th>\n      <td>5.0</td>\n      <td>3.0</td>\n      <td>1.6</td>\n      <td>0.2</td>\n      <td>Iris-setosa</td>\n    </tr>\n    <tr>\n      <th>26</th>\n      <td>5.0</td>\n      <td>3.4</td>\n      <td>1.6</td>\n      <td>0.4</td>\n      <td>Iris-setosa</td>\n    </tr>\n    <tr>\n      <th>27</th>\n      <td>5.2</td>\n      <td>3.5</td>\n      <td>1.5</td>\n      <td>0.2</td>\n      <td>Iris-setosa</td>\n    </tr>\n    <tr>\n      <th>28</th>\n      <td>5.2</td>\n      <td>3.4</td>\n      <td>1.4</td>\n      <td>0.2</td>\n      <td>Iris-setosa</td>\n    </tr>\n    <tr>\n      <th>29</th>\n      <td>4.7</td>\n      <td>3.2</td>\n      <td>1.6</td>\n      <td>0.2</td>\n      <td>Iris-setosa</td>\n    </tr>\n    <tr>\n      <th>...</th>\n      <td>...</td>\n      <td>...</td>\n      <td>...</td>\n      <td>...</td>\n      <td>...</td>\n    </tr>\n    <tr>\n      <th>120</th>\n      <td>6.9</td>\n      <td>3.2</td>\n      <td>5.7</td>\n      <td>2.3</td>\n      <td>Iris-virginica</td>\n    </tr>\n    <tr>\n      <th>121</th>\n      <td>5.6</td>\n      <td>2.8</td>\n      <td>4.9</td>\n      <td>2.0</td>\n      <td>Iris-virginica</td>\n    </tr>\n    <tr>\n      <th>122</th>\n      <td>7.7</td>\n      <td>2.8</td>\n      <td>6.7</td>\n      <td>2.0</td>\n      <td>Iris-virginica</td>\n    </tr>\n    <tr>\n      <th>123</th>\n      <td>6.3</td>\n      <td>2.7</td>\n      <td>4.9</td>\n      <td>1.8</td>\n      <td>Iris-virginica</td>\n    </tr>\n    <tr>\n      <th>124</th>\n      <td>6.7</td>\n      <td>3.3</td>\n      <td>5.7</td>\n      <td>2.1</td>\n      <td>Iris-virginica</td>\n    </tr>\n    <tr>\n      <th>125</th>\n      <td>7.2</td>\n      <td>3.2</td>\n      <td>6.0</td>\n      <td>1.8</td>\n      <td>Iris-virginica</td>\n    </tr>\n    <tr>\n      <th>126</th>\n      <td>6.2</td>\n      <td>2.8</td>\n      <td>4.8</td>\n      <td>1.8</td>\n      <td>Iris-virginica</td>\n    </tr>\n    <tr>\n      <th>127</th>\n      <td>6.1</td>\n      <td>3.0</td>\n      <td>4.9</td>\n      <td>1.8</td>\n      <td>Iris-virginica</td>\n    </tr>\n    <tr>\n      <th>128</th>\n      <td>6.4</td>\n      <td>2.8</td>\n      <td>5.6</td>\n      <td>2.1</td>\n      <td>Iris-virginica</td>\n    </tr>\n    <tr>\n      <th>129</th>\n      <td>7.2</td>\n      <td>3.0</td>\n      <td>5.8</td>\n      <td>1.6</td>\n      <td>Iris-virginica</td>\n    </tr>\n    <tr>\n      <th>130</th>\n      <td>7.4</td>\n      <td>2.8</td>\n      <td>6.1</td>\n      <td>1.9</td>\n      <td>Iris-virginica</td>\n    </tr>\n    <tr>\n      <th>131</th>\n      <td>7.9</td>\n      <td>3.8</td>\n      <td>6.4</td>\n      <td>2.0</td>\n      <td>Iris-virginica</td>\n    </tr>\n    <tr>\n      <th>132</th>\n      <td>6.4</td>\n      <td>2.8</td>\n      <td>5.6</td>\n      <td>2.2</td>\n      <td>Iris-virginica</td>\n    </tr>\n    <tr>\n      <th>133</th>\n      <td>6.3</td>\n      <td>2.8</td>\n      <td>5.1</td>\n      <td>1.5</td>\n      <td>Iris-virginica</td>\n    </tr>\n    <tr>\n      <th>134</th>\n      <td>6.1</td>\n      <td>2.6</td>\n      <td>5.6</td>\n      <td>1.4</td>\n      <td>Iris-virginica</td>\n    </tr>\n    <tr>\n      <th>135</th>\n      <td>7.7</td>\n      <td>3.0</td>\n      <td>6.1</td>\n      <td>2.3</td>\n      <td>Iris-virginica</td>\n    </tr>\n    <tr>\n      <th>136</th>\n      <td>6.3</td>\n      <td>3.4</td>\n      <td>5.6</td>\n      <td>2.4</td>\n      <td>Iris-virginica</td>\n    </tr>\n    <tr>\n      <th>137</th>\n      <td>6.4</td>\n      <td>3.1</td>\n      <td>5.5</td>\n      <td>1.8</td>\n      <td>Iris-virginica</td>\n    </tr>\n    <tr>\n      <th>138</th>\n      <td>6.0</td>\n      <td>3.0</td>\n      <td>4.8</td>\n      <td>1.8</td>\n      <td>Iris-virginica</td>\n    </tr>\n    <tr>\n      <th>139</th>\n      <td>6.9</td>\n      <td>3.1</td>\n      <td>5.4</td>\n      <td>2.1</td>\n      <td>Iris-virginica</td>\n    </tr>\n    <tr>\n      <th>140</th>\n      <td>6.7</td>\n      <td>3.1</td>\n      <td>5.6</td>\n      <td>2.4</td>\n      <td>Iris-virginica</td>\n    </tr>\n    <tr>\n      <th>141</th>\n      <td>6.9</td>\n      <td>3.1</td>\n      <td>5.1</td>\n      <td>2.3</td>\n      <td>Iris-virginica</td>\n    </tr>\n    <tr>\n      <th>142</th>\n      <td>5.8</td>\n      <td>2.7</td>\n      <td>5.1</td>\n      <td>1.9</td>\n      <td>Iris-virginica</td>\n    </tr>\n    <tr>\n      <th>143</th>\n      <td>6.8</td>\n      <td>3.2</td>\n      <td>5.9</td>\n      <td>2.3</td>\n      <td>Iris-virginica</td>\n    </tr>\n    <tr>\n      <th>144</th>\n      <td>6.7</td>\n      <td>3.3</td>\n      <td>5.7</td>\n      <td>2.5</td>\n      <td>Iris-virginica</td>\n    </tr>\n    <tr>\n      <th>145</th>\n      <td>6.7</td>\n      <td>3.0</td>\n      <td>5.2</td>\n      <td>2.3</td>\n      <td>Iris-virginica</td>\n    </tr>\n    <tr>\n      <th>146</th>\n      <td>6.3</td>\n      <td>2.5</td>\n      <td>5.0</td>\n      <td>1.9</td>\n      <td>Iris-virginica</td>\n    </tr>\n    <tr>\n      <th>147</th>\n      <td>6.5</td>\n      <td>3.0</td>\n      <td>5.2</td>\n      <td>2.0</td>\n      <td>Iris-virginica</td>\n    </tr>\n    <tr>\n      <th>148</th>\n      <td>6.2</td>\n      <td>3.4</td>\n      <td>5.4</td>\n      <td>2.3</td>\n      <td>Iris-virginica</td>\n    </tr>\n    <tr>\n      <th>149</th>\n      <td>5.9</td>\n      <td>3.0</td>\n      <td>5.1</td>\n      <td>1.8</td>\n      <td>Iris-virginica</td>\n    </tr>\n  </tbody>\n</table>\n<p>150 rows × 5 columns</p>\n</div>",
      "text/plain": "     sepal-length  sepal-width  petal-length  petal-width            type\n0             5.1          3.5           1.4          0.2     Iris-setosa\n1             4.9          3.0           1.4          0.2     Iris-setosa\n2             4.7          3.2           1.3          0.2     Iris-setosa\n3             4.6          3.1           1.5          0.2     Iris-setosa\n4             5.0          3.6           1.4          0.2     Iris-setosa\n5             5.4          3.9           1.7          0.4     Iris-setosa\n6             4.6          3.4           1.4          0.3     Iris-setosa\n7             5.0          3.4           1.5          0.2     Iris-setosa\n8             4.4          2.9           1.4          0.2     Iris-setosa\n9             4.9          3.1           1.5          0.1     Iris-setosa\n10            5.4          3.7           1.5          0.2     Iris-setosa\n11            4.8          3.4           1.6          0.2     Iris-setosa\n12            4.8          3.0           1.4          0.1     Iris-setosa\n13            4.3          3.0           1.1          0.1     Iris-setosa\n14            5.8          4.0           1.2          0.2     Iris-setosa\n15            5.7          4.4           1.5          0.4     Iris-setosa\n16            5.4          3.9           1.3          0.4     Iris-setosa\n17            5.1          3.5           1.4          0.3     Iris-setosa\n18            5.7          3.8           1.7          0.3     Iris-setosa\n19            5.1          3.8           1.5          0.3     Iris-setosa\n20            5.4          3.4           1.7          0.2     Iris-setosa\n21            5.1          3.7           1.5          0.4     Iris-setosa\n22            4.6          3.6           1.0          0.2     Iris-setosa\n23            5.1          3.3           1.7          0.5     Iris-setosa\n24            4.8          3.4           1.9          0.2     Iris-setosa\n25            5.0          3.0           1.6          0.2     Iris-setosa\n26            5.0          3.4           1.6          0.4     Iris-setosa\n27            5.2          3.5           1.5          0.2     Iris-setosa\n28            5.2          3.4           1.4          0.2     Iris-setosa\n29            4.7          3.2           1.6          0.2     Iris-setosa\n..            ...          ...           ...          ...             ...\n120           6.9          3.2           5.7          2.3  Iris-virginica\n121           5.6          2.8           4.9          2.0  Iris-virginica\n122           7.7          2.8           6.7          2.0  Iris-virginica\n123           6.3          2.7           4.9          1.8  Iris-virginica\n124           6.7          3.3           5.7          2.1  Iris-virginica\n125           7.2          3.2           6.0          1.8  Iris-virginica\n126           6.2          2.8           4.8          1.8  Iris-virginica\n127           6.1          3.0           4.9          1.8  Iris-virginica\n128           6.4          2.8           5.6          2.1  Iris-virginica\n129           7.2          3.0           5.8          1.6  Iris-virginica\n130           7.4          2.8           6.1          1.9  Iris-virginica\n131           7.9          3.8           6.4          2.0  Iris-virginica\n132           6.4          2.8           5.6          2.2  Iris-virginica\n133           6.3          2.8           5.1          1.5  Iris-virginica\n134           6.1          2.6           5.6          1.4  Iris-virginica\n135           7.7          3.0           6.1          2.3  Iris-virginica\n136           6.3          3.4           5.6          2.4  Iris-virginica\n137           6.4          3.1           5.5          1.8  Iris-virginica\n138           6.0          3.0           4.8          1.8  Iris-virginica\n139           6.9          3.1           5.4          2.1  Iris-virginica\n140           6.7          3.1           5.6          2.4  Iris-virginica\n141           6.9          3.1           5.1          2.3  Iris-virginica\n142           5.8          2.7           5.1          1.9  Iris-virginica\n143           6.8          3.2           5.9          2.3  Iris-virginica\n144           6.7          3.3           5.7          2.5  Iris-virginica\n145           6.7          3.0           5.2          2.3  Iris-virginica\n146           6.3          2.5           5.0          1.9  Iris-virginica\n147           6.5          3.0           5.2          2.0  Iris-virginica\n148           6.2          3.4           5.4          2.3  Iris-virginica\n149           5.9          3.0           5.1          1.8  Iris-virginica\n\n[150 rows x 5 columns]"
     },
     "execution_count": 7,
     "metadata": {},
     "output_type": "execute_result"
    }
   ],
   "source": [
    "Columns = ['sepal-length', 'sepal-width', 'petal-length', 'petal-width', 'type']\n",
    "iris = pd.read_csv(\"https://raw.githubusercontent.com/Levytan/MIS.2019/master/Data/iris.csv\", header = None)\n",
    "iris.columns = Columns\n",
    "iris"
   ]
  },
  {
   "cell_type": "code",
   "execution_count": 8,
   "metadata": {},
   "outputs": [
    {
     "data": {
      "text/plain": "5.0    10\n6.3     9\n5.1     9\n6.7     8\n5.7     8\n5.5     7\n5.8     7\n6.4     7\n6.0     6\n4.9     6\n6.1     6\n5.4     6\n5.6     6\n6.5     5\n4.8     5\n7.7     4\n6.9     4\n5.2     4\n6.2     4\n4.6     4\n7.2     3\n6.8     3\n4.4     3\n5.9     3\n6.6     2\n4.7     2\n7.6     1\n7.4     1\n4.3     1\n7.9     1\n7.3     1\n7.0     1\n4.5     1\n5.3     1\n7.1     1\nName: sepal-length, dtype: int64"
     },
     "execution_count": 8,
     "metadata": {},
     "output_type": "execute_result"
    }
   ],
   "source": [
    "iris['sepal-length'].value_counts()"
   ]
  },
  {
   "cell_type": "code",
   "execution_count": 9,
   "metadata": {},
   "outputs": [
    {
     "data": {
      "text/plain": "array([5.1, 4.9, 4.7, 4.6, 5. , 5.4, 4.4, 4.8, 4.3, 5.8, 5.7, 5.2, 5.5,\n       4.5, 5.3, 7. , 6.4, 6.9, 6.5, 6.3, 6.6, 5.9, 6. , 6.1, 5.6, 6.7,\n       6.2, 6.8, 7.1, 7.6, 7.3, 7.2, 7.7, 7.4, 7.9])"
     },
     "execution_count": 9,
     "metadata": {},
     "output_type": "execute_result"
    }
   ],
   "source": [
    "iris['sepal-length'].unique()"
   ]
  },
  {
   "cell_type": "code",
   "execution_count": 13,
   "metadata": {},
   "outputs": [
    {
     "data": {
      "text/plain": "[Iris-setosa, Iris-setosa, Iris-setosa, Iris-setosa, Iris-setosa, ..., Iris-virginica, Iris-virginica, Iris-virginica, Iris-virginica, Iris-virginica]\nLength: 150\nCategories (3, object): [Iris-setosa, Iris-versicolor, Iris-virginica]"
     },
     "execution_count": 13,
     "metadata": {},
     "output_type": "execute_result"
    }
   ],
   "source": [
    "df2 = pd.Categorical(iris.type)\n",
    "df2"
   ]
  },
  {
   "cell_type": "code",
   "execution_count": 12,
   "metadata": {},
   "outputs": [
    {
     "data": {
      "text/plain": "CategoricalDtype(categories=['Iris-setosa', 'Iris-versicolor', 'Iris-virginica'], ordered=False)"
     },
     "execution_count": 12,
     "metadata": {},
     "output_type": "execute_result"
    }
   ],
   "source": [
    "df2.dtype"
   ]
  },
  {
   "cell_type": "code",
   "execution_count": 18,
   "metadata": {},
   "outputs": [
    {
     "data": {
      "text/html": "<div>\n<style scoped>\n    .dataframe tbody tr th:only-of-type {\n        vertical-align: middle;\n    }\n\n    .dataframe tbody tr th {\n        vertical-align: top;\n    }\n\n    .dataframe thead th {\n        text-align: right;\n    }\n</style>\n<table border=\"1\" class=\"dataframe\">\n  <thead>\n    <tr style=\"text-align: right;\">\n      <th></th>\n      <th>sepal-length</th>\n      <th>sepal-width</th>\n      <th>petal-length</th>\n      <th>petal-width</th>\n      <th>type</th>\n    </tr>\n  </thead>\n  <tbody>\n    <tr>\n      <th>0</th>\n      <td>5.1</td>\n      <td>3.5</td>\n      <td>1.4</td>\n      <td>0.2</td>\n      <td>Iris-setosa</td>\n    </tr>\n    <tr>\n      <th>1</th>\n      <td>4.9</td>\n      <td>3.0</td>\n      <td>1.4</td>\n      <td>0.2</td>\n      <td>Iris-setosa</td>\n    </tr>\n    <tr>\n      <th>2</th>\n      <td>4.7</td>\n      <td>3.2</td>\n      <td>1.3</td>\n      <td>0.2</td>\n      <td>Iris-setosa</td>\n    </tr>\n    <tr>\n      <th>3</th>\n      <td>4.6</td>\n      <td>3.1</td>\n      <td>1.5</td>\n      <td>0.2</td>\n      <td>Iris-setosa</td>\n    </tr>\n    <tr>\n      <th>4</th>\n      <td>5.0</td>\n      <td>3.6</td>\n      <td>1.4</td>\n      <td>0.2</td>\n      <td>Iris-setosa</td>\n    </tr>\n    <tr>\n      <th>5</th>\n      <td>5.4</td>\n      <td>3.9</td>\n      <td>1.7</td>\n      <td>0.4</td>\n      <td>Iris-setosa</td>\n    </tr>\n    <tr>\n      <th>6</th>\n      <td>4.6</td>\n      <td>3.4</td>\n      <td>1.4</td>\n      <td>0.3</td>\n      <td>Iris-setosa</td>\n    </tr>\n    <tr>\n      <th>7</th>\n      <td>5.0</td>\n      <td>3.4</td>\n      <td>1.5</td>\n      <td>0.2</td>\n      <td>Iris-setosa</td>\n    </tr>\n    <tr>\n      <th>8</th>\n      <td>4.4</td>\n      <td>2.9</td>\n      <td>1.4</td>\n      <td>0.2</td>\n      <td>Iris-setosa</td>\n    </tr>\n    <tr>\n      <th>9</th>\n      <td>4.9</td>\n      <td>3.1</td>\n      <td>1.5</td>\n      <td>0.1</td>\n      <td>Iris-setosa</td>\n    </tr>\n    <tr>\n      <th>10</th>\n      <td>5.4</td>\n      <td>3.7</td>\n      <td>1.5</td>\n      <td>0.2</td>\n      <td>Iris-setosa</td>\n    </tr>\n    <tr>\n      <th>11</th>\n      <td>4.8</td>\n      <td>3.4</td>\n      <td>1.6</td>\n      <td>0.2</td>\n      <td>Iris-setosa</td>\n    </tr>\n    <tr>\n      <th>12</th>\n      <td>4.8</td>\n      <td>3.0</td>\n      <td>1.4</td>\n      <td>0.1</td>\n      <td>Iris-setosa</td>\n    </tr>\n    <tr>\n      <th>13</th>\n      <td>4.3</td>\n      <td>3.0</td>\n      <td>1.1</td>\n      <td>0.1</td>\n      <td>Iris-setosa</td>\n    </tr>\n    <tr>\n      <th>14</th>\n      <td>5.8</td>\n      <td>4.0</td>\n      <td>1.2</td>\n      <td>0.2</td>\n      <td>Iris-setosa</td>\n    </tr>\n    <tr>\n      <th>15</th>\n      <td>5.7</td>\n      <td>4.4</td>\n      <td>1.5</td>\n      <td>0.4</td>\n      <td>Iris-setosa</td>\n    </tr>\n    <tr>\n      <th>16</th>\n      <td>5.4</td>\n      <td>3.9</td>\n      <td>1.3</td>\n      <td>0.4</td>\n      <td>Iris-setosa</td>\n    </tr>\n    <tr>\n      <th>17</th>\n      <td>5.1</td>\n      <td>3.5</td>\n      <td>1.4</td>\n      <td>0.3</td>\n      <td>Iris-setosa</td>\n    </tr>\n    <tr>\n      <th>18</th>\n      <td>5.7</td>\n      <td>3.8</td>\n      <td>1.7</td>\n      <td>0.3</td>\n      <td>Iris-setosa</td>\n    </tr>\n    <tr>\n      <th>19</th>\n      <td>5.1</td>\n      <td>3.8</td>\n      <td>1.5</td>\n      <td>0.3</td>\n      <td>Iris-setosa</td>\n    </tr>\n    <tr>\n      <th>20</th>\n      <td>5.4</td>\n      <td>3.4</td>\n      <td>1.7</td>\n      <td>0.2</td>\n      <td>Iris-setosa</td>\n    </tr>\n    <tr>\n      <th>21</th>\n      <td>5.1</td>\n      <td>3.7</td>\n      <td>1.5</td>\n      <td>0.4</td>\n      <td>Iris-setosa</td>\n    </tr>\n    <tr>\n      <th>22</th>\n      <td>4.6</td>\n      <td>3.6</td>\n      <td>1.0</td>\n      <td>0.2</td>\n      <td>Iris-setosa</td>\n    </tr>\n    <tr>\n      <th>23</th>\n      <td>5.1</td>\n      <td>3.3</td>\n      <td>1.7</td>\n      <td>0.5</td>\n      <td>Iris-setosa</td>\n    </tr>\n    <tr>\n      <th>24</th>\n      <td>4.8</td>\n      <td>3.4</td>\n      <td>1.9</td>\n      <td>0.2</td>\n      <td>Iris-setosa</td>\n    </tr>\n    <tr>\n      <th>25</th>\n      <td>5.0</td>\n      <td>3.0</td>\n      <td>1.6</td>\n      <td>0.2</td>\n      <td>Iris-setosa</td>\n    </tr>\n    <tr>\n      <th>26</th>\n      <td>5.0</td>\n      <td>3.4</td>\n      <td>1.6</td>\n      <td>0.4</td>\n      <td>Iris-setosa</td>\n    </tr>\n    <tr>\n      <th>27</th>\n      <td>5.2</td>\n      <td>3.5</td>\n      <td>1.5</td>\n      <td>0.2</td>\n      <td>Iris-setosa</td>\n    </tr>\n    <tr>\n      <th>28</th>\n      <td>5.2</td>\n      <td>3.4</td>\n      <td>1.4</td>\n      <td>0.2</td>\n      <td>Iris-setosa</td>\n    </tr>\n    <tr>\n      <th>29</th>\n      <td>4.7</td>\n      <td>3.2</td>\n      <td>1.6</td>\n      <td>0.2</td>\n      <td>Iris-setosa</td>\n    </tr>\n    <tr>\n      <th>...</th>\n      <td>...</td>\n      <td>...</td>\n      <td>...</td>\n      <td>...</td>\n      <td>...</td>\n    </tr>\n    <tr>\n      <th>120</th>\n      <td>6.9</td>\n      <td>3.2</td>\n      <td>5.7</td>\n      <td>2.3</td>\n      <td>Iris-virginica</td>\n    </tr>\n    <tr>\n      <th>121</th>\n      <td>5.6</td>\n      <td>2.8</td>\n      <td>4.9</td>\n      <td>2.0</td>\n      <td>Iris-virginica</td>\n    </tr>\n    <tr>\n      <th>122</th>\n      <td>7.7</td>\n      <td>2.8</td>\n      <td>6.7</td>\n      <td>2.0</td>\n      <td>Iris-virginica</td>\n    </tr>\n    <tr>\n      <th>123</th>\n      <td>6.3</td>\n      <td>2.7</td>\n      <td>4.9</td>\n      <td>1.8</td>\n      <td>Iris-virginica</td>\n    </tr>\n    <tr>\n      <th>124</th>\n      <td>6.7</td>\n      <td>3.3</td>\n      <td>5.7</td>\n      <td>2.1</td>\n      <td>Iris-virginica</td>\n    </tr>\n    <tr>\n      <th>125</th>\n      <td>7.2</td>\n      <td>3.2</td>\n      <td>6.0</td>\n      <td>1.8</td>\n      <td>Iris-virginica</td>\n    </tr>\n    <tr>\n      <th>126</th>\n      <td>6.2</td>\n      <td>2.8</td>\n      <td>4.8</td>\n      <td>1.8</td>\n      <td>Iris-virginica</td>\n    </tr>\n    <tr>\n      <th>127</th>\n      <td>6.1</td>\n      <td>3.0</td>\n      <td>4.9</td>\n      <td>1.8</td>\n      <td>Iris-virginica</td>\n    </tr>\n    <tr>\n      <th>128</th>\n      <td>6.4</td>\n      <td>2.8</td>\n      <td>5.6</td>\n      <td>2.1</td>\n      <td>Iris-virginica</td>\n    </tr>\n    <tr>\n      <th>129</th>\n      <td>7.2</td>\n      <td>3.0</td>\n      <td>5.8</td>\n      <td>1.6</td>\n      <td>Iris-virginica</td>\n    </tr>\n    <tr>\n      <th>130</th>\n      <td>7.4</td>\n      <td>2.8</td>\n      <td>6.1</td>\n      <td>1.9</td>\n      <td>Iris-virginica</td>\n    </tr>\n    <tr>\n      <th>131</th>\n      <td>7.9</td>\n      <td>3.8</td>\n      <td>6.4</td>\n      <td>2.0</td>\n      <td>Iris-virginica</td>\n    </tr>\n    <tr>\n      <th>132</th>\n      <td>6.4</td>\n      <td>2.8</td>\n      <td>5.6</td>\n      <td>2.2</td>\n      <td>Iris-virginica</td>\n    </tr>\n    <tr>\n      <th>133</th>\n      <td>6.3</td>\n      <td>2.8</td>\n      <td>5.1</td>\n      <td>1.5</td>\n      <td>Iris-virginica</td>\n    </tr>\n    <tr>\n      <th>134</th>\n      <td>6.1</td>\n      <td>2.6</td>\n      <td>5.6</td>\n      <td>1.4</td>\n      <td>Iris-virginica</td>\n    </tr>\n    <tr>\n      <th>135</th>\n      <td>7.7</td>\n      <td>3.0</td>\n      <td>6.1</td>\n      <td>2.3</td>\n      <td>Iris-virginica</td>\n    </tr>\n    <tr>\n      <th>136</th>\n      <td>6.3</td>\n      <td>3.4</td>\n      <td>5.6</td>\n      <td>2.4</td>\n      <td>Iris-virginica</td>\n    </tr>\n    <tr>\n      <th>137</th>\n      <td>6.4</td>\n      <td>3.1</td>\n      <td>5.5</td>\n      <td>1.8</td>\n      <td>Iris-virginica</td>\n    </tr>\n    <tr>\n      <th>138</th>\n      <td>6.0</td>\n      <td>3.0</td>\n      <td>4.8</td>\n      <td>1.8</td>\n      <td>Iris-virginica</td>\n    </tr>\n    <tr>\n      <th>139</th>\n      <td>6.9</td>\n      <td>3.1</td>\n      <td>5.4</td>\n      <td>2.1</td>\n      <td>Iris-virginica</td>\n    </tr>\n    <tr>\n      <th>140</th>\n      <td>6.7</td>\n      <td>3.1</td>\n      <td>5.6</td>\n      <td>2.4</td>\n      <td>Iris-virginica</td>\n    </tr>\n    <tr>\n      <th>141</th>\n      <td>6.9</td>\n      <td>3.1</td>\n      <td>5.1</td>\n      <td>2.3</td>\n      <td>Iris-virginica</td>\n    </tr>\n    <tr>\n      <th>142</th>\n      <td>5.8</td>\n      <td>2.7</td>\n      <td>5.1</td>\n      <td>1.9</td>\n      <td>Iris-virginica</td>\n    </tr>\n    <tr>\n      <th>143</th>\n      <td>6.8</td>\n      <td>3.2</td>\n      <td>5.9</td>\n      <td>2.3</td>\n      <td>Iris-virginica</td>\n    </tr>\n    <tr>\n      <th>144</th>\n      <td>6.7</td>\n      <td>3.3</td>\n      <td>5.7</td>\n      <td>2.5</td>\n      <td>Iris-virginica</td>\n    </tr>\n    <tr>\n      <th>145</th>\n      <td>6.7</td>\n      <td>3.0</td>\n      <td>5.2</td>\n      <td>2.3</td>\n      <td>Iris-virginica</td>\n    </tr>\n    <tr>\n      <th>146</th>\n      <td>6.3</td>\n      <td>2.5</td>\n      <td>5.0</td>\n      <td>1.9</td>\n      <td>Iris-virginica</td>\n    </tr>\n    <tr>\n      <th>147</th>\n      <td>6.5</td>\n      <td>3.0</td>\n      <td>5.2</td>\n      <td>2.0</td>\n      <td>Iris-virginica</td>\n    </tr>\n    <tr>\n      <th>148</th>\n      <td>6.2</td>\n      <td>3.4</td>\n      <td>5.4</td>\n      <td>2.3</td>\n      <td>Iris-virginica</td>\n    </tr>\n    <tr>\n      <th>149</th>\n      <td>5.9</td>\n      <td>3.0</td>\n      <td>5.1</td>\n      <td>1.8</td>\n      <td>Iris-virginica</td>\n    </tr>\n  </tbody>\n</table>\n<p>150 rows × 5 columns</p>\n</div>",
      "text/plain": "     sepal-length  sepal-width  petal-length  petal-width            type\n0             5.1          3.5           1.4          0.2     Iris-setosa\n1             4.9          3.0           1.4          0.2     Iris-setosa\n2             4.7          3.2           1.3          0.2     Iris-setosa\n3             4.6          3.1           1.5          0.2     Iris-setosa\n4             5.0          3.6           1.4          0.2     Iris-setosa\n5             5.4          3.9           1.7          0.4     Iris-setosa\n6             4.6          3.4           1.4          0.3     Iris-setosa\n7             5.0          3.4           1.5          0.2     Iris-setosa\n8             4.4          2.9           1.4          0.2     Iris-setosa\n9             4.9          3.1           1.5          0.1     Iris-setosa\n10            5.4          3.7           1.5          0.2     Iris-setosa\n11            4.8          3.4           1.6          0.2     Iris-setosa\n12            4.8          3.0           1.4          0.1     Iris-setosa\n13            4.3          3.0           1.1          0.1     Iris-setosa\n14            5.8          4.0           1.2          0.2     Iris-setosa\n15            5.7          4.4           1.5          0.4     Iris-setosa\n16            5.4          3.9           1.3          0.4     Iris-setosa\n17            5.1          3.5           1.4          0.3     Iris-setosa\n18            5.7          3.8           1.7          0.3     Iris-setosa\n19            5.1          3.8           1.5          0.3     Iris-setosa\n20            5.4          3.4           1.7          0.2     Iris-setosa\n21            5.1          3.7           1.5          0.4     Iris-setosa\n22            4.6          3.6           1.0          0.2     Iris-setosa\n23            5.1          3.3           1.7          0.5     Iris-setosa\n24            4.8          3.4           1.9          0.2     Iris-setosa\n25            5.0          3.0           1.6          0.2     Iris-setosa\n26            5.0          3.4           1.6          0.4     Iris-setosa\n27            5.2          3.5           1.5          0.2     Iris-setosa\n28            5.2          3.4           1.4          0.2     Iris-setosa\n29            4.7          3.2           1.6          0.2     Iris-setosa\n..            ...          ...           ...          ...             ...\n120           6.9          3.2           5.7          2.3  Iris-virginica\n121           5.6          2.8           4.9          2.0  Iris-virginica\n122           7.7          2.8           6.7          2.0  Iris-virginica\n123           6.3          2.7           4.9          1.8  Iris-virginica\n124           6.7          3.3           5.7          2.1  Iris-virginica\n125           7.2          3.2           6.0          1.8  Iris-virginica\n126           6.2          2.8           4.8          1.8  Iris-virginica\n127           6.1          3.0           4.9          1.8  Iris-virginica\n128           6.4          2.8           5.6          2.1  Iris-virginica\n129           7.2          3.0           5.8          1.6  Iris-virginica\n130           7.4          2.8           6.1          1.9  Iris-virginica\n131           7.9          3.8           6.4          2.0  Iris-virginica\n132           6.4          2.8           5.6          2.2  Iris-virginica\n133           6.3          2.8           5.1          1.5  Iris-virginica\n134           6.1          2.6           5.6          1.4  Iris-virginica\n135           7.7          3.0           6.1          2.3  Iris-virginica\n136           6.3          3.4           5.6          2.4  Iris-virginica\n137           6.4          3.1           5.5          1.8  Iris-virginica\n138           6.0          3.0           4.8          1.8  Iris-virginica\n139           6.9          3.1           5.4          2.1  Iris-virginica\n140           6.7          3.1           5.6          2.4  Iris-virginica\n141           6.9          3.1           5.1          2.3  Iris-virginica\n142           5.8          2.7           5.1          1.9  Iris-virginica\n143           6.8          3.2           5.9          2.3  Iris-virginica\n144           6.7          3.3           5.7          2.5  Iris-virginica\n145           6.7          3.0           5.2          2.3  Iris-virginica\n146           6.3          2.5           5.0          1.9  Iris-virginica\n147           6.5          3.0           5.2          2.0  Iris-virginica\n148           6.2          3.4           5.4          2.3  Iris-virginica\n149           5.9          3.0           5.1          1.8  Iris-virginica\n\n[150 rows x 5 columns]"
     },
     "execution_count": 18,
     "metadata": {},
     "output_type": "execute_result"
    }
   ],
   "source": [
    "iris_2 = iris.assign(type = pd.Categorical(iris.type))\n",
    "iris_2"
   ]
  },
  {
   "cell_type": "code",
   "execution_count": 19,
   "metadata": {},
   "outputs": [
    {
     "data": {
      "text/html": "<div>\n<style scoped>\n    .dataframe tbody tr th:only-of-type {\n        vertical-align: middle;\n    }\n\n    .dataframe tbody tr th {\n        vertical-align: top;\n    }\n\n    .dataframe thead th {\n        text-align: right;\n    }\n</style>\n<table border=\"1\" class=\"dataframe\">\n  <thead>\n    <tr style=\"text-align: right;\">\n      <th></th>\n      <th>sepal-length</th>\n      <th>sepal-width</th>\n      <th>petal-length</th>\n      <th>petal-width</th>\n      <th>type</th>\n    </tr>\n  </thead>\n  <tbody>\n    <tr>\n      <th>0</th>\n      <td>5.1</td>\n      <td>3.5</td>\n      <td>1.4</td>\n      <td>0.2</td>\n      <td>0</td>\n    </tr>\n    <tr>\n      <th>1</th>\n      <td>4.9</td>\n      <td>3.0</td>\n      <td>1.4</td>\n      <td>0.2</td>\n      <td>0</td>\n    </tr>\n    <tr>\n      <th>2</th>\n      <td>4.7</td>\n      <td>3.2</td>\n      <td>1.3</td>\n      <td>0.2</td>\n      <td>0</td>\n    </tr>\n    <tr>\n      <th>3</th>\n      <td>4.6</td>\n      <td>3.1</td>\n      <td>1.5</td>\n      <td>0.2</td>\n      <td>0</td>\n    </tr>\n    <tr>\n      <th>4</th>\n      <td>5.0</td>\n      <td>3.6</td>\n      <td>1.4</td>\n      <td>0.2</td>\n      <td>0</td>\n    </tr>\n    <tr>\n      <th>5</th>\n      <td>5.4</td>\n      <td>3.9</td>\n      <td>1.7</td>\n      <td>0.4</td>\n      <td>0</td>\n    </tr>\n    <tr>\n      <th>6</th>\n      <td>4.6</td>\n      <td>3.4</td>\n      <td>1.4</td>\n      <td>0.3</td>\n      <td>0</td>\n    </tr>\n    <tr>\n      <th>7</th>\n      <td>5.0</td>\n      <td>3.4</td>\n      <td>1.5</td>\n      <td>0.2</td>\n      <td>0</td>\n    </tr>\n    <tr>\n      <th>8</th>\n      <td>4.4</td>\n      <td>2.9</td>\n      <td>1.4</td>\n      <td>0.2</td>\n      <td>0</td>\n    </tr>\n    <tr>\n      <th>9</th>\n      <td>4.9</td>\n      <td>3.1</td>\n      <td>1.5</td>\n      <td>0.1</td>\n      <td>0</td>\n    </tr>\n    <tr>\n      <th>10</th>\n      <td>5.4</td>\n      <td>3.7</td>\n      <td>1.5</td>\n      <td>0.2</td>\n      <td>0</td>\n    </tr>\n    <tr>\n      <th>11</th>\n      <td>4.8</td>\n      <td>3.4</td>\n      <td>1.6</td>\n      <td>0.2</td>\n      <td>0</td>\n    </tr>\n    <tr>\n      <th>12</th>\n      <td>4.8</td>\n      <td>3.0</td>\n      <td>1.4</td>\n      <td>0.1</td>\n      <td>0</td>\n    </tr>\n    <tr>\n      <th>13</th>\n      <td>4.3</td>\n      <td>3.0</td>\n      <td>1.1</td>\n      <td>0.1</td>\n      <td>0</td>\n    </tr>\n    <tr>\n      <th>14</th>\n      <td>5.8</td>\n      <td>4.0</td>\n      <td>1.2</td>\n      <td>0.2</td>\n      <td>0</td>\n    </tr>\n    <tr>\n      <th>15</th>\n      <td>5.7</td>\n      <td>4.4</td>\n      <td>1.5</td>\n      <td>0.4</td>\n      <td>0</td>\n    </tr>\n    <tr>\n      <th>16</th>\n      <td>5.4</td>\n      <td>3.9</td>\n      <td>1.3</td>\n      <td>0.4</td>\n      <td>0</td>\n    </tr>\n    <tr>\n      <th>17</th>\n      <td>5.1</td>\n      <td>3.5</td>\n      <td>1.4</td>\n      <td>0.3</td>\n      <td>0</td>\n    </tr>\n    <tr>\n      <th>18</th>\n      <td>5.7</td>\n      <td>3.8</td>\n      <td>1.7</td>\n      <td>0.3</td>\n      <td>0</td>\n    </tr>\n    <tr>\n      <th>19</th>\n      <td>5.1</td>\n      <td>3.8</td>\n      <td>1.5</td>\n      <td>0.3</td>\n      <td>0</td>\n    </tr>\n    <tr>\n      <th>20</th>\n      <td>5.4</td>\n      <td>3.4</td>\n      <td>1.7</td>\n      <td>0.2</td>\n      <td>0</td>\n    </tr>\n    <tr>\n      <th>21</th>\n      <td>5.1</td>\n      <td>3.7</td>\n      <td>1.5</td>\n      <td>0.4</td>\n      <td>0</td>\n    </tr>\n    <tr>\n      <th>22</th>\n      <td>4.6</td>\n      <td>3.6</td>\n      <td>1.0</td>\n      <td>0.2</td>\n      <td>0</td>\n    </tr>\n    <tr>\n      <th>23</th>\n      <td>5.1</td>\n      <td>3.3</td>\n      <td>1.7</td>\n      <td>0.5</td>\n      <td>0</td>\n    </tr>\n    <tr>\n      <th>24</th>\n      <td>4.8</td>\n      <td>3.4</td>\n      <td>1.9</td>\n      <td>0.2</td>\n      <td>0</td>\n    </tr>\n    <tr>\n      <th>25</th>\n      <td>5.0</td>\n      <td>3.0</td>\n      <td>1.6</td>\n      <td>0.2</td>\n      <td>0</td>\n    </tr>\n    <tr>\n      <th>26</th>\n      <td>5.0</td>\n      <td>3.4</td>\n      <td>1.6</td>\n      <td>0.4</td>\n      <td>0</td>\n    </tr>\n    <tr>\n      <th>27</th>\n      <td>5.2</td>\n      <td>3.5</td>\n      <td>1.5</td>\n      <td>0.2</td>\n      <td>0</td>\n    </tr>\n    <tr>\n      <th>28</th>\n      <td>5.2</td>\n      <td>3.4</td>\n      <td>1.4</td>\n      <td>0.2</td>\n      <td>0</td>\n    </tr>\n    <tr>\n      <th>29</th>\n      <td>4.7</td>\n      <td>3.2</td>\n      <td>1.6</td>\n      <td>0.2</td>\n      <td>0</td>\n    </tr>\n    <tr>\n      <th>...</th>\n      <td>...</td>\n      <td>...</td>\n      <td>...</td>\n      <td>...</td>\n      <td>...</td>\n    </tr>\n    <tr>\n      <th>120</th>\n      <td>6.9</td>\n      <td>3.2</td>\n      <td>5.7</td>\n      <td>2.3</td>\n      <td>2</td>\n    </tr>\n    <tr>\n      <th>121</th>\n      <td>5.6</td>\n      <td>2.8</td>\n      <td>4.9</td>\n      <td>2.0</td>\n      <td>2</td>\n    </tr>\n    <tr>\n      <th>122</th>\n      <td>7.7</td>\n      <td>2.8</td>\n      <td>6.7</td>\n      <td>2.0</td>\n      <td>2</td>\n    </tr>\n    <tr>\n      <th>123</th>\n      <td>6.3</td>\n      <td>2.7</td>\n      <td>4.9</td>\n      <td>1.8</td>\n      <td>2</td>\n    </tr>\n    <tr>\n      <th>124</th>\n      <td>6.7</td>\n      <td>3.3</td>\n      <td>5.7</td>\n      <td>2.1</td>\n      <td>2</td>\n    </tr>\n    <tr>\n      <th>125</th>\n      <td>7.2</td>\n      <td>3.2</td>\n      <td>6.0</td>\n      <td>1.8</td>\n      <td>2</td>\n    </tr>\n    <tr>\n      <th>126</th>\n      <td>6.2</td>\n      <td>2.8</td>\n      <td>4.8</td>\n      <td>1.8</td>\n      <td>2</td>\n    </tr>\n    <tr>\n      <th>127</th>\n      <td>6.1</td>\n      <td>3.0</td>\n      <td>4.9</td>\n      <td>1.8</td>\n      <td>2</td>\n    </tr>\n    <tr>\n      <th>128</th>\n      <td>6.4</td>\n      <td>2.8</td>\n      <td>5.6</td>\n      <td>2.1</td>\n      <td>2</td>\n    </tr>\n    <tr>\n      <th>129</th>\n      <td>7.2</td>\n      <td>3.0</td>\n      <td>5.8</td>\n      <td>1.6</td>\n      <td>2</td>\n    </tr>\n    <tr>\n      <th>130</th>\n      <td>7.4</td>\n      <td>2.8</td>\n      <td>6.1</td>\n      <td>1.9</td>\n      <td>2</td>\n    </tr>\n    <tr>\n      <th>131</th>\n      <td>7.9</td>\n      <td>3.8</td>\n      <td>6.4</td>\n      <td>2.0</td>\n      <td>2</td>\n    </tr>\n    <tr>\n      <th>132</th>\n      <td>6.4</td>\n      <td>2.8</td>\n      <td>5.6</td>\n      <td>2.2</td>\n      <td>2</td>\n    </tr>\n    <tr>\n      <th>133</th>\n      <td>6.3</td>\n      <td>2.8</td>\n      <td>5.1</td>\n      <td>1.5</td>\n      <td>2</td>\n    </tr>\n    <tr>\n      <th>134</th>\n      <td>6.1</td>\n      <td>2.6</td>\n      <td>5.6</td>\n      <td>1.4</td>\n      <td>2</td>\n    </tr>\n    <tr>\n      <th>135</th>\n      <td>7.7</td>\n      <td>3.0</td>\n      <td>6.1</td>\n      <td>2.3</td>\n      <td>2</td>\n    </tr>\n    <tr>\n      <th>136</th>\n      <td>6.3</td>\n      <td>3.4</td>\n      <td>5.6</td>\n      <td>2.4</td>\n      <td>2</td>\n    </tr>\n    <tr>\n      <th>137</th>\n      <td>6.4</td>\n      <td>3.1</td>\n      <td>5.5</td>\n      <td>1.8</td>\n      <td>2</td>\n    </tr>\n    <tr>\n      <th>138</th>\n      <td>6.0</td>\n      <td>3.0</td>\n      <td>4.8</td>\n      <td>1.8</td>\n      <td>2</td>\n    </tr>\n    <tr>\n      <th>139</th>\n      <td>6.9</td>\n      <td>3.1</td>\n      <td>5.4</td>\n      <td>2.1</td>\n      <td>2</td>\n    </tr>\n    <tr>\n      <th>140</th>\n      <td>6.7</td>\n      <td>3.1</td>\n      <td>5.6</td>\n      <td>2.4</td>\n      <td>2</td>\n    </tr>\n    <tr>\n      <th>141</th>\n      <td>6.9</td>\n      <td>3.1</td>\n      <td>5.1</td>\n      <td>2.3</td>\n      <td>2</td>\n    </tr>\n    <tr>\n      <th>142</th>\n      <td>5.8</td>\n      <td>2.7</td>\n      <td>5.1</td>\n      <td>1.9</td>\n      <td>2</td>\n    </tr>\n    <tr>\n      <th>143</th>\n      <td>6.8</td>\n      <td>3.2</td>\n      <td>5.9</td>\n      <td>2.3</td>\n      <td>2</td>\n    </tr>\n    <tr>\n      <th>144</th>\n      <td>6.7</td>\n      <td>3.3</td>\n      <td>5.7</td>\n      <td>2.5</td>\n      <td>2</td>\n    </tr>\n    <tr>\n      <th>145</th>\n      <td>6.7</td>\n      <td>3.0</td>\n      <td>5.2</td>\n      <td>2.3</td>\n      <td>2</td>\n    </tr>\n    <tr>\n      <th>146</th>\n      <td>6.3</td>\n      <td>2.5</td>\n      <td>5.0</td>\n      <td>1.9</td>\n      <td>2</td>\n    </tr>\n    <tr>\n      <th>147</th>\n      <td>6.5</td>\n      <td>3.0</td>\n      <td>5.2</td>\n      <td>2.0</td>\n      <td>2</td>\n    </tr>\n    <tr>\n      <th>148</th>\n      <td>6.2</td>\n      <td>3.4</td>\n      <td>5.4</td>\n      <td>2.3</td>\n      <td>2</td>\n    </tr>\n    <tr>\n      <th>149</th>\n      <td>5.9</td>\n      <td>3.0</td>\n      <td>5.1</td>\n      <td>1.8</td>\n      <td>2</td>\n    </tr>\n  </tbody>\n</table>\n<p>150 rows × 5 columns</p>\n</div>",
      "text/plain": "     sepal-length  sepal-width  petal-length  petal-width  type\n0             5.1          3.5           1.4          0.2     0\n1             4.9          3.0           1.4          0.2     0\n2             4.7          3.2           1.3          0.2     0\n3             4.6          3.1           1.5          0.2     0\n4             5.0          3.6           1.4          0.2     0\n5             5.4          3.9           1.7          0.4     0\n6             4.6          3.4           1.4          0.3     0\n7             5.0          3.4           1.5          0.2     0\n8             4.4          2.9           1.4          0.2     0\n9             4.9          3.1           1.5          0.1     0\n10            5.4          3.7           1.5          0.2     0\n11            4.8          3.4           1.6          0.2     0\n12            4.8          3.0           1.4          0.1     0\n13            4.3          3.0           1.1          0.1     0\n14            5.8          4.0           1.2          0.2     0\n15            5.7          4.4           1.5          0.4     0\n16            5.4          3.9           1.3          0.4     0\n17            5.1          3.5           1.4          0.3     0\n18            5.7          3.8           1.7          0.3     0\n19            5.1          3.8           1.5          0.3     0\n20            5.4          3.4           1.7          0.2     0\n21            5.1          3.7           1.5          0.4     0\n22            4.6          3.6           1.0          0.2     0\n23            5.1          3.3           1.7          0.5     0\n24            4.8          3.4           1.9          0.2     0\n25            5.0          3.0           1.6          0.2     0\n26            5.0          3.4           1.6          0.4     0\n27            5.2          3.5           1.5          0.2     0\n28            5.2          3.4           1.4          0.2     0\n29            4.7          3.2           1.6          0.2     0\n..            ...          ...           ...          ...   ...\n120           6.9          3.2           5.7          2.3     2\n121           5.6          2.8           4.9          2.0     2\n122           7.7          2.8           6.7          2.0     2\n123           6.3          2.7           4.9          1.8     2\n124           6.7          3.3           5.7          2.1     2\n125           7.2          3.2           6.0          1.8     2\n126           6.2          2.8           4.8          1.8     2\n127           6.1          3.0           4.9          1.8     2\n128           6.4          2.8           5.6          2.1     2\n129           7.2          3.0           5.8          1.6     2\n130           7.4          2.8           6.1          1.9     2\n131           7.9          3.8           6.4          2.0     2\n132           6.4          2.8           5.6          2.2     2\n133           6.3          2.8           5.1          1.5     2\n134           6.1          2.6           5.6          1.4     2\n135           7.7          3.0           6.1          2.3     2\n136           6.3          3.4           5.6          2.4     2\n137           6.4          3.1           5.5          1.8     2\n138           6.0          3.0           4.8          1.8     2\n139           6.9          3.1           5.4          2.1     2\n140           6.7          3.1           5.6          2.4     2\n141           6.9          3.1           5.1          2.3     2\n142           5.8          2.7           5.1          1.9     2\n143           6.8          3.2           5.9          2.3     2\n144           6.7          3.3           5.7          2.5     2\n145           6.7          3.0           5.2          2.3     2\n146           6.3          2.5           5.0          1.9     2\n147           6.5          3.0           5.2          2.0     2\n148           6.2          3.4           5.4          2.3     2\n149           5.9          3.0           5.1          1.8     2\n\n[150 rows x 5 columns]"
     },
     "execution_count": 19,
     "metadata": {},
     "output_type": "execute_result"
    }
   ],
   "source": [
    "iris_2 = iris_2.assign(type = iris_2.type.cat.codes)\n",
    "iris_2"
   ]
  },
  {
   "cell_type": "code",
   "execution_count": null,
   "metadata": {},
   "outputs": [],
   "source": []
  }
 ]
}