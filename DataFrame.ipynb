{
 "nbformat": 4,
 "nbformat_minor": 2,
 "metadata": {
  "language_info": {
   "name": "python",
   "codemirror_mode": {
    "name": "ipython",
    "version": 3
   },
   "version": "3.7.3"
  },
  "orig_nbformat": 2,
  "file_extension": ".py",
  "mimetype": "text/x-python",
  "name": "python",
  "npconvert_exporter": "python",
  "pygments_lexer": "ipython3",
  "version": 3
 },
 "cells": [
  {
   "cell_type": "code",
   "execution_count": 1,
   "metadata": {},
   "outputs": [],
   "source": [
    "import pandas as pd\n",
    "import numpy as np"
   ]
  },
  {
   "cell_type": "code",
   "execution_count": 19,
   "metadata": {},
   "outputs": [
    {
     "data": {
      "text/html": "<div>\n<style scoped>\n    .dataframe tbody tr th:only-of-type {\n        vertical-align: middle;\n    }\n\n    .dataframe tbody tr th {\n        vertical-align: top;\n    }\n\n    .dataframe thead th {\n        text-align: right;\n    }\n</style>\n<table border=\"1\" class=\"dataframe\">\n  <thead>\n    <tr style=\"text-align: right;\">\n      <th></th>\n      <th>Name</th>\n      <th>Type 1</th>\n      <th>Type 2</th>\n      <th>HP</th>\n      <th>Attack</th>\n      <th>Defense</th>\n      <th>Sp. Atk</th>\n      <th>Sp. Def</th>\n      <th>Speed</th>\n      <th>Generation</th>\n      <th>Legendary</th>\n    </tr>\n    <tr>\n      <th>#</th>\n      <th></th>\n      <th></th>\n      <th></th>\n      <th></th>\n      <th></th>\n      <th></th>\n      <th></th>\n      <th></th>\n      <th></th>\n      <th></th>\n      <th></th>\n    </tr>\n  </thead>\n  <tbody>\n    <tr>\n      <th>1</th>\n      <td>Bulbasaur</td>\n      <td>Grass</td>\n      <td>Poison</td>\n      <td>45</td>\n      <td>49</td>\n      <td>49</td>\n      <td>65</td>\n      <td>65</td>\n      <td>45</td>\n      <td>1</td>\n      <td>False</td>\n    </tr>\n    <tr>\n      <th>2</th>\n      <td>Ivysaur</td>\n      <td>Grass</td>\n      <td>Poison</td>\n      <td>60</td>\n      <td>62</td>\n      <td>63</td>\n      <td>80</td>\n      <td>80</td>\n      <td>60</td>\n      <td>1</td>\n      <td>False</td>\n    </tr>\n    <tr>\n      <th>3</th>\n      <td>Venusaur</td>\n      <td>Grass</td>\n      <td>Poison</td>\n      <td>80</td>\n      <td>82</td>\n      <td>83</td>\n      <td>100</td>\n      <td>100</td>\n      <td>80</td>\n      <td>1</td>\n      <td>False</td>\n    </tr>\n    <tr>\n      <th>3</th>\n      <td>VenusaurMega Venusaur</td>\n      <td>Grass</td>\n      <td>Poison</td>\n      <td>80</td>\n      <td>100</td>\n      <td>123</td>\n      <td>122</td>\n      <td>120</td>\n      <td>80</td>\n      <td>1</td>\n      <td>False</td>\n    </tr>\n    <tr>\n      <th>4</th>\n      <td>Charmander</td>\n      <td>Fire</td>\n      <td>NaN</td>\n      <td>39</td>\n      <td>52</td>\n      <td>43</td>\n      <td>60</td>\n      <td>50</td>\n      <td>65</td>\n      <td>1</td>\n      <td>False</td>\n    </tr>\n    <tr>\n      <th>5</th>\n      <td>Charmeleon</td>\n      <td>Fire</td>\n      <td>NaN</td>\n      <td>58</td>\n      <td>64</td>\n      <td>58</td>\n      <td>80</td>\n      <td>65</td>\n      <td>80</td>\n      <td>1</td>\n      <td>False</td>\n    </tr>\n    <tr>\n      <th>6</th>\n      <td>Charizard</td>\n      <td>Fire</td>\n      <td>Flying</td>\n      <td>78</td>\n      <td>84</td>\n      <td>78</td>\n      <td>109</td>\n      <td>85</td>\n      <td>100</td>\n      <td>1</td>\n      <td>False</td>\n    </tr>\n    <tr>\n      <th>6</th>\n      <td>CharizardMega Charizard X</td>\n      <td>Fire</td>\n      <td>Dragon</td>\n      <td>78</td>\n      <td>130</td>\n      <td>111</td>\n      <td>130</td>\n      <td>85</td>\n      <td>100</td>\n      <td>1</td>\n      <td>False</td>\n    </tr>\n    <tr>\n      <th>6</th>\n      <td>CharizardMega Charizard Y</td>\n      <td>Fire</td>\n      <td>Flying</td>\n      <td>78</td>\n      <td>104</td>\n      <td>78</td>\n      <td>159</td>\n      <td>115</td>\n      <td>100</td>\n      <td>1</td>\n      <td>False</td>\n    </tr>\n    <tr>\n      <th>7</th>\n      <td>Squirtle</td>\n      <td>Water</td>\n      <td>NaN</td>\n      <td>44</td>\n      <td>48</td>\n      <td>65</td>\n      <td>50</td>\n      <td>64</td>\n      <td>43</td>\n      <td>1</td>\n      <td>False</td>\n    </tr>\n  </tbody>\n</table>\n</div>",
      "text/plain": "                        Name Type 1  Type 2  HP  Attack  Defense  Sp. Atk  \\\n#                                                                           \n1                  Bulbasaur  Grass  Poison  45      49       49       65   \n2                    Ivysaur  Grass  Poison  60      62       63       80   \n3                   Venusaur  Grass  Poison  80      82       83      100   \n3      VenusaurMega Venusaur  Grass  Poison  80     100      123      122   \n4                 Charmander   Fire     NaN  39      52       43       60   \n5                 Charmeleon   Fire     NaN  58      64       58       80   \n6                  Charizard   Fire  Flying  78      84       78      109   \n6  CharizardMega Charizard X   Fire  Dragon  78     130      111      130   \n6  CharizardMega Charizard Y   Fire  Flying  78     104       78      159   \n7                   Squirtle  Water     NaN  44      48       65       50   \n\n   Sp. Def  Speed  Generation  Legendary  \n#                                         \n1       65     45           1      False  \n2       80     60           1      False  \n3      100     80           1      False  \n3      120     80           1      False  \n4       50     65           1      False  \n5       65     80           1      False  \n6       85    100           1      False  \n6       85    100           1      False  \n6      115    100           1      False  \n7       64     43           1      False  "
     },
     "execution_count": 19,
     "metadata": {},
     "output_type": "execute_result"
    }
   ],
   "source": [
    "#Data frame: mảng 2 chiều có gắn nhãn(đối tượng chính của môn học)\n",
    "'''\n",
    "Gồm nhiều Series cũng chung label ghép lại với nhau\n",
    "'''\n",
    "pkm = pd.read_csv('pokemon_data.csv', index_col= 0) \n",
    "pkm.head(10)"
   ]
  },
  {
   "cell_type": "code",
   "execution_count": 38,
   "metadata": {},
   "outputs": [
    {
     "data": {
      "text/html": "<div>\n<style scoped>\n    .dataframe tbody tr th:only-of-type {\n        vertical-align: middle;\n    }\n\n    .dataframe tbody tr th {\n        vertical-align: top;\n    }\n\n    .dataframe thead th {\n        text-align: right;\n    }\n</style>\n<table border=\"1\" class=\"dataframe\">\n  <thead>\n    <tr style=\"text-align: right;\">\n      <th></th>\n      <th>ID</th>\n      <th>Product</th>\n      <th>Price</th>\n    </tr>\n  </thead>\n  <tbody>\n    <tr>\n      <th>0</th>\n      <td>1</td>\n      <td>Apple</td>\n      <td>10</td>\n    </tr>\n    <tr>\n      <th>1</th>\n      <td>2</td>\n      <td>Banana</td>\n      <td>9</td>\n    </tr>\n    <tr>\n      <th>2</th>\n      <td>3</td>\n      <td>Cherry</td>\n      <td>8</td>\n    </tr>\n  </tbody>\n</table>\n</div>",
      "text/plain": "   ID Product  Price\n0   1   Apple     10\n1   2  Banana      9\n2   3  Cherry      8"
     },
     "execution_count": 38,
     "metadata": {},
     "output_type": "execute_result"
    }
   ],
   "source": [
    "pd.DataFrame({'ID' : [1 , 2, 3],'Product' : ['Apple', 'Banana', 'Cherry'], 'Price' : [10, 9, 8]}) #không chỉ ra index vs column tự sinh ra"
   ]
  },
  {
   "cell_type": "code",
   "metadata": {},
   "outputs": [],
   "source": [
    "pd.DataFrame(data, index, columns)"
   ]
  },
  {
   "cell_type": "code",
   "execution_count": 39,
   "metadata": {},
   "outputs": [
    {
     "data": {
      "text/html": "<div>\n<style scoped>\n    .dataframe tbody tr th:only-of-type {\n        vertical-align: middle;\n    }\n\n    .dataframe tbody tr th {\n        vertical-align: top;\n    }\n\n    .dataframe thead th {\n        text-align: right;\n    }\n</style>\n<table border=\"1\" class=\"dataframe\">\n  <thead>\n    <tr style=\"text-align: right;\">\n      <th></th>\n      <th>0</th>\n      <th>1</th>\n    </tr>\n  </thead>\n  <tbody>\n    <tr>\n      <th>0</th>\n      <td>apple</td>\n      <td>10</td>\n    </tr>\n    <tr>\n      <th>1</th>\n      <td>banana</td>\n      <td>25</td>\n    </tr>\n    <tr>\n      <th>2</th>\n      <td>cherry</td>\n      <td>40</td>\n    </tr>\n  </tbody>\n</table>\n</div>",
      "text/plain": "        0   1\n0   apple  10\n1  banana  25\n2  cherry  40"
     },
     "execution_count": 39,
     "metadata": {},
     "output_type": "execute_result"
    }
   ],
   "source": [
    "#list của list\n",
    "ll = [\n",
    "    ['apple', 10],\n",
    "    ['banana', 25],\n",
    "    ['cherry', 40]\n",
    "]\n",
    "pd.DataFrame(ll)"
   ]
  },
  {
   "cell_type": "code",
   "execution_count": 40,
   "metadata": {},
   "outputs": [
    {
     "data": {
      "text/html": "<div>\n<style scoped>\n    .dataframe tbody tr th:only-of-type {\n        vertical-align: middle;\n    }\n\n    .dataframe tbody tr th {\n        vertical-align: top;\n    }\n\n    .dataframe thead th {\n        text-align: right;\n    }\n</style>\n<table border=\"1\" class=\"dataframe\">\n  <thead>\n    <tr style=\"text-align: right;\">\n      <th></th>\n      <th>name</th>\n      <th>price</th>\n    </tr>\n  </thead>\n  <tbody>\n    <tr>\n      <th>a</th>\n      <td>apple</td>\n      <td>10</td>\n    </tr>\n    <tr>\n      <th>b</th>\n      <td>banana</td>\n      <td>25</td>\n    </tr>\n    <tr>\n      <th>c</th>\n      <td>cherry</td>\n      <td>40</td>\n    </tr>\n  </tbody>\n</table>\n</div>",
      "text/plain": "     name  price\na   apple     10\nb  banana     25\nc  cherry     40"
     },
     "execution_count": 40,
     "metadata": {},
     "output_type": "execute_result"
    }
   ],
   "source": [
    "pd.DataFrame(data = ll, index= ['a', 'b' ,'c'], columns= ['name', 'price'])"
   ]
  },
  {
   "cell_type": "code",
   "execution_count": 41,
   "metadata": {},
   "outputs": [
    {
     "data": {
      "text/html": "<div>\n<style scoped>\n    .dataframe tbody tr th:only-of-type {\n        vertical-align: middle;\n    }\n\n    .dataframe tbody tr th {\n        vertical-align: top;\n    }\n\n    .dataframe thead th {\n        text-align: right;\n    }\n</style>\n<table border=\"1\" class=\"dataframe\">\n  <thead>\n    <tr style=\"text-align: right;\">\n      <th></th>\n      <th>0</th>\n      <th>1</th>\n      <th>2</th>\n    </tr>\n  </thead>\n  <tbody>\n    <tr>\n      <th>0</th>\n      <td>apple</td>\n      <td>10</td>\n      <td>5.0</td>\n    </tr>\n    <tr>\n      <th>1</th>\n      <td>banana</td>\n      <td>25</td>\n      <td>NaN</td>\n    </tr>\n    <tr>\n      <th>2</th>\n      <td>cherry</td>\n      <td>40</td>\n      <td>NaN</td>\n    </tr>\n  </tbody>\n</table>\n</div>",
      "text/plain": "        0   1    2\n0   apple  10  5.0\n1  banana  25  NaN\n2  cherry  40  NaN"
     },
     "execution_count": 41,
     "metadata": {},
     "output_type": "execute_result"
    }
   ],
   "source": [
    "ll1 = [\n",
    "    ['apple', 10, 5],\n",
    "    ['banana', 25],\n",
    "    ['cherry', 40]\n",
    "]\n",
    "pd.DataFrame(ll1)"
   ]
  },
  {
   "cell_type": "code",
   "execution_count": 42,
   "metadata": {},
   "outputs": [
    {
     "data": {
      "text/html": "<div>\n<style scoped>\n    .dataframe tbody tr th:only-of-type {\n        vertical-align: middle;\n    }\n\n    .dataframe tbody tr th {\n        vertical-align: top;\n    }\n\n    .dataframe thead th {\n        text-align: right;\n    }\n</style>\n<table border=\"1\" class=\"dataframe\">\n  <thead>\n    <tr style=\"text-align: right;\">\n      <th></th>\n      <th>col1</th>\n      <th>col2</th>\n      <th>col3</th>\n    </tr>\n  </thead>\n  <tbody>\n    <tr>\n      <th>0</th>\n      <td>apple</td>\n      <td>1</td>\n      <td>2019-10-02</td>\n    </tr>\n    <tr>\n      <th>1</th>\n      <td>banana</td>\n      <td>2</td>\n      <td>2019-11-01</td>\n    </tr>\n  </tbody>\n</table>\n</div>",
      "text/plain": "     col1  col2        col3\n0   apple     1  2019-10-02\n1  banana     2  2019-11-01"
     },
     "execution_count": 42,
     "metadata": {},
     "output_type": "execute_result"
    }
   ],
   "source": [
    "#dictionary: \n",
    "'''phải có độ dài phần tử bằng nhau'''\n",
    "d1 = {\n",
    "    'col1' : ['apple', 'banana'],\n",
    "    'col2' : [1, 2],\n",
    "    'col3' : ['2019-10-02', '2019-11-01']\n",
    "}\n",
    "pd.DataFrame(d1)"
   ]
  },
  {
   "cell_type": "code",
   "execution_count": 43,
   "metadata": {},
   "outputs": [
    {
     "ename": "ValueError",
     "evalue": "arrays must all be same length",
     "output_type": "error",
     "traceback": [
      "\u001b[1;31m---------------------------------------------------------------------------\u001b[0m",
      "\u001b[1;31mValueError\u001b[0m                                Traceback (most recent call last)",
      "\u001b[1;32m<ipython-input-43-8f795ad21531>\u001b[0m in \u001b[0;36m<module>\u001b[1;34m\u001b[0m\n\u001b[0;32m      4\u001b[0m     \u001b[1;34m'col3'\u001b[0m \u001b[1;33m:\u001b[0m \u001b[1;33m[\u001b[0m\u001b[1;34m'2019-10-02'\u001b[0m\u001b[1;33m,\u001b[0m \u001b[1;34m'2019-11-01'\u001b[0m\u001b[1;33m]\u001b[0m\u001b[1;33m\u001b[0m\u001b[1;33m\u001b[0m\u001b[0m\n\u001b[0;32m      5\u001b[0m }\n\u001b[1;32m----> 6\u001b[1;33m \u001b[0mpd\u001b[0m\u001b[1;33m.\u001b[0m\u001b[0mDataFrame\u001b[0m\u001b[1;33m(\u001b[0m\u001b[0md2\u001b[0m\u001b[1;33m)\u001b[0m\u001b[1;33m\u001b[0m\u001b[1;33m\u001b[0m\u001b[0m\n\u001b[0m",
      "\u001b[1;32m~\\Anaconda3\\lib\\site-packages\\pandas\\core\\frame.py\u001b[0m in \u001b[0;36m__init__\u001b[1;34m(self, data, index, columns, dtype, copy)\u001b[0m\n\u001b[0;32m    390\u001b[0m                                  dtype=dtype, copy=copy)\n\u001b[0;32m    391\u001b[0m         \u001b[1;32melif\u001b[0m \u001b[0misinstance\u001b[0m\u001b[1;33m(\u001b[0m\u001b[0mdata\u001b[0m\u001b[1;33m,\u001b[0m \u001b[0mdict\u001b[0m\u001b[1;33m)\u001b[0m\u001b[1;33m:\u001b[0m\u001b[1;33m\u001b[0m\u001b[1;33m\u001b[0m\u001b[0m\n\u001b[1;32m--> 392\u001b[1;33m             \u001b[0mmgr\u001b[0m \u001b[1;33m=\u001b[0m \u001b[0minit_dict\u001b[0m\u001b[1;33m(\u001b[0m\u001b[0mdata\u001b[0m\u001b[1;33m,\u001b[0m \u001b[0mindex\u001b[0m\u001b[1;33m,\u001b[0m \u001b[0mcolumns\u001b[0m\u001b[1;33m,\u001b[0m \u001b[0mdtype\u001b[0m\u001b[1;33m=\u001b[0m\u001b[0mdtype\u001b[0m\u001b[1;33m)\u001b[0m\u001b[1;33m\u001b[0m\u001b[1;33m\u001b[0m\u001b[0m\n\u001b[0m\u001b[0;32m    393\u001b[0m         \u001b[1;32melif\u001b[0m \u001b[0misinstance\u001b[0m\u001b[1;33m(\u001b[0m\u001b[0mdata\u001b[0m\u001b[1;33m,\u001b[0m \u001b[0mma\u001b[0m\u001b[1;33m.\u001b[0m\u001b[0mMaskedArray\u001b[0m\u001b[1;33m)\u001b[0m\u001b[1;33m:\u001b[0m\u001b[1;33m\u001b[0m\u001b[1;33m\u001b[0m\u001b[0m\n\u001b[0;32m    394\u001b[0m             \u001b[1;32mimport\u001b[0m \u001b[0mnumpy\u001b[0m\u001b[1;33m.\u001b[0m\u001b[0mma\u001b[0m\u001b[1;33m.\u001b[0m\u001b[0mmrecords\u001b[0m \u001b[1;32mas\u001b[0m \u001b[0mmrecords\u001b[0m\u001b[1;33m\u001b[0m\u001b[1;33m\u001b[0m\u001b[0m\n",
      "\u001b[1;32m~\\Anaconda3\\lib\\site-packages\\pandas\\core\\internals\\construction.py\u001b[0m in \u001b[0;36minit_dict\u001b[1;34m(data, index, columns, dtype)\u001b[0m\n\u001b[0;32m    210\u001b[0m         \u001b[0marrays\u001b[0m \u001b[1;33m=\u001b[0m \u001b[1;33m[\u001b[0m\u001b[0mdata\u001b[0m\u001b[1;33m[\u001b[0m\u001b[0mk\u001b[0m\u001b[1;33m]\u001b[0m \u001b[1;32mfor\u001b[0m \u001b[0mk\u001b[0m \u001b[1;32min\u001b[0m \u001b[0mkeys\u001b[0m\u001b[1;33m]\u001b[0m\u001b[1;33m\u001b[0m\u001b[1;33m\u001b[0m\u001b[0m\n\u001b[0;32m    211\u001b[0m \u001b[1;33m\u001b[0m\u001b[0m\n\u001b[1;32m--> 212\u001b[1;33m     \u001b[1;32mreturn\u001b[0m \u001b[0marrays_to_mgr\u001b[0m\u001b[1;33m(\u001b[0m\u001b[0marrays\u001b[0m\u001b[1;33m,\u001b[0m \u001b[0mdata_names\u001b[0m\u001b[1;33m,\u001b[0m \u001b[0mindex\u001b[0m\u001b[1;33m,\u001b[0m \u001b[0mcolumns\u001b[0m\u001b[1;33m,\u001b[0m \u001b[0mdtype\u001b[0m\u001b[1;33m=\u001b[0m\u001b[0mdtype\u001b[0m\u001b[1;33m)\u001b[0m\u001b[1;33m\u001b[0m\u001b[1;33m\u001b[0m\u001b[0m\n\u001b[0m\u001b[0;32m    213\u001b[0m \u001b[1;33m\u001b[0m\u001b[0m\n\u001b[0;32m    214\u001b[0m \u001b[1;33m\u001b[0m\u001b[0m\n",
      "\u001b[1;32m~\\Anaconda3\\lib\\site-packages\\pandas\\core\\internals\\construction.py\u001b[0m in \u001b[0;36marrays_to_mgr\u001b[1;34m(arrays, arr_names, index, columns, dtype)\u001b[0m\n\u001b[0;32m     49\u001b[0m     \u001b[1;31m# figure out the index, if necessary\u001b[0m\u001b[1;33m\u001b[0m\u001b[1;33m\u001b[0m\u001b[1;33m\u001b[0m\u001b[0m\n\u001b[0;32m     50\u001b[0m     \u001b[1;32mif\u001b[0m \u001b[0mindex\u001b[0m \u001b[1;32mis\u001b[0m \u001b[1;32mNone\u001b[0m\u001b[1;33m:\u001b[0m\u001b[1;33m\u001b[0m\u001b[1;33m\u001b[0m\u001b[0m\n\u001b[1;32m---> 51\u001b[1;33m         \u001b[0mindex\u001b[0m \u001b[1;33m=\u001b[0m \u001b[0mextract_index\u001b[0m\u001b[1;33m(\u001b[0m\u001b[0marrays\u001b[0m\u001b[1;33m)\u001b[0m\u001b[1;33m\u001b[0m\u001b[1;33m\u001b[0m\u001b[0m\n\u001b[0m\u001b[0;32m     52\u001b[0m     \u001b[1;32melse\u001b[0m\u001b[1;33m:\u001b[0m\u001b[1;33m\u001b[0m\u001b[1;33m\u001b[0m\u001b[0m\n\u001b[0;32m     53\u001b[0m         \u001b[0mindex\u001b[0m \u001b[1;33m=\u001b[0m \u001b[0mensure_index\u001b[0m\u001b[1;33m(\u001b[0m\u001b[0mindex\u001b[0m\u001b[1;33m)\u001b[0m\u001b[1;33m\u001b[0m\u001b[1;33m\u001b[0m\u001b[0m\n",
      "\u001b[1;32m~\\Anaconda3\\lib\\site-packages\\pandas\\core\\internals\\construction.py\u001b[0m in \u001b[0;36mextract_index\u001b[1;34m(data)\u001b[0m\n\u001b[0;32m    315\u001b[0m             \u001b[0mlengths\u001b[0m \u001b[1;33m=\u001b[0m \u001b[0mlist\u001b[0m\u001b[1;33m(\u001b[0m\u001b[0mset\u001b[0m\u001b[1;33m(\u001b[0m\u001b[0mraw_lengths\u001b[0m\u001b[1;33m)\u001b[0m\u001b[1;33m)\u001b[0m\u001b[1;33m\u001b[0m\u001b[1;33m\u001b[0m\u001b[0m\n\u001b[0;32m    316\u001b[0m             \u001b[1;32mif\u001b[0m \u001b[0mlen\u001b[0m\u001b[1;33m(\u001b[0m\u001b[0mlengths\u001b[0m\u001b[1;33m)\u001b[0m \u001b[1;33m>\u001b[0m \u001b[1;36m1\u001b[0m\u001b[1;33m:\u001b[0m\u001b[1;33m\u001b[0m\u001b[1;33m\u001b[0m\u001b[0m\n\u001b[1;32m--> 317\u001b[1;33m                 \u001b[1;32mraise\u001b[0m \u001b[0mValueError\u001b[0m\u001b[1;33m(\u001b[0m\u001b[1;34m'arrays must all be same length'\u001b[0m\u001b[1;33m)\u001b[0m\u001b[1;33m\u001b[0m\u001b[1;33m\u001b[0m\u001b[0m\n\u001b[0m\u001b[0;32m    318\u001b[0m \u001b[1;33m\u001b[0m\u001b[0m\n\u001b[0;32m    319\u001b[0m             \u001b[1;32mif\u001b[0m \u001b[0mhave_dicts\u001b[0m\u001b[1;33m:\u001b[0m\u001b[1;33m\u001b[0m\u001b[1;33m\u001b[0m\u001b[0m\n",
      "\u001b[1;31mValueError\u001b[0m: arrays must all be same length"
     ]
    }
   ],
   "source": [
    "d2 = {\n",
    "    'col1' : ['apple', 'banana', 'cherry'],\n",
    "    'col2' : [1, 2],\n",
    "    'col3' : ['2019-10-02', '2019-11-01']\n",
    "}\n",
    "pd.DataFrame(d2)"
   ]
  },
  {
   "cell_type": "code",
   "execution_count": 44,
   "metadata": {},
   "outputs": [
    {
     "data": {
      "text/html": "<div>\n<style scoped>\n    .dataframe tbody tr th:only-of-type {\n        vertical-align: middle;\n    }\n\n    .dataframe tbody tr th {\n        vertical-align: top;\n    }\n\n    .dataframe thead th {\n        text-align: right;\n    }\n</style>\n<table border=\"1\" class=\"dataframe\">\n  <thead>\n    <tr style=\"text-align: right;\">\n      <th></th>\n      <th>Close</th>\n      <th>Ticker</th>\n      <th>date</th>\n    </tr>\n  </thead>\n  <tbody>\n    <tr>\n      <th>0</th>\n      <td>100</td>\n      <td>AAA</td>\n      <td>2019-10-01</td>\n    </tr>\n    <tr>\n      <th>1</th>\n      <td>200</td>\n      <td>BBB</td>\n      <td>2019-10-01</td>\n    </tr>\n  </tbody>\n</table>\n</div>",
      "text/plain": "   Close Ticker        date\n0    100    AAA  2019-10-01\n1    200    BBB  2019-10-01"
     },
     "execution_count": 44,
     "metadata": {},
     "output_type": "execute_result"
    }
   ],
   "source": [
    "#tạo list mà mỗi phần tử là một dictionary\n",
    "ld = [\n",
    "    {'date' : '2019-10-01', 'Ticker' : 'AAA', 'Close' : 100},\n",
    "    {'date' : '2019-10-01', 'Ticker' : 'BBB', 'Close' : 200}\n",
    "]\n",
    "pd.DataFrame(ld)"
   ]
  },
  {
   "cell_type": "code",
   "execution_count": 45,
   "metadata": {},
   "outputs": [
    {
     "data": {
      "text/html": "<div>\n<style scoped>\n    .dataframe tbody tr th:only-of-type {\n        vertical-align: middle;\n    }\n\n    .dataframe tbody tr th {\n        vertical-align: top;\n    }\n\n    .dataframe thead th {\n        text-align: right;\n    }\n</style>\n<table border=\"1\" class=\"dataframe\">\n  <thead>\n    <tr style=\"text-align: right;\">\n      <th></th>\n      <th>Close</th>\n      <th>Ticker</th>\n      <th>date</th>\n      <th>open</th>\n    </tr>\n  </thead>\n  <tbody>\n    <tr>\n      <th>0</th>\n      <td>100</td>\n      <td>AAA</td>\n      <td>2019-10-01</td>\n      <td>NaN</td>\n    </tr>\n    <tr>\n      <th>1</th>\n      <td>200</td>\n      <td>BBB</td>\n      <td>2019-10-01</td>\n      <td>205.0</td>\n    </tr>\n  </tbody>\n</table>\n</div>",
      "text/plain": "   Close Ticker        date   open\n0    100    AAA  2019-10-01    NaN\n1    200    BBB  2019-10-01  205.0"
     },
     "execution_count": 45,
     "metadata": {},
     "output_type": "execute_result"
    }
   ],
   "source": [
    "ld2 = [\n",
    "    {'date' : '2019-10-01', 'Ticker' : 'AAA', 'Close' : 100},\n",
    "    {'date' : '2019-10-01', 'Ticker' : 'BBB', 'open' : 205, 'Close' : 200}\n",
    "]\n",
    "pd.DataFrame(ld2)"
   ]
  },
  {
   "cell_type": "code",
   "execution_count": 46,
   "metadata": {},
   "outputs": [
    {
     "data": {
      "text/plain": "True"
     },
     "execution_count": 46,
     "metadata": {},
     "output_type": "execute_result"
    }
   ],
   "source": [
    "pd.DataFrame(columns= ['a', 'b', 'c']).empty"
   ]
  },
  {
   "cell_type": "code",
   "execution_count": 47,
   "metadata": {},
   "outputs": [
    {
     "data": {
      "text/plain": "True"
     },
     "execution_count": 47,
     "metadata": {},
     "output_type": "execute_result"
    }
   ],
   "source": [
    "pd.DataFrame(index= ['a', 'b', 'c']).empty"
   ]
  },
  {
   "cell_type": "code",
   "execution_count": 48,
   "metadata": {},
   "outputs": [
    {
     "data": {
      "text/plain": "False"
     },
     "execution_count": 48,
     "metadata": {},
     "output_type": "execute_result"
    }
   ],
   "source": [
    "pd.DataFrame(columns= ['a', 'b', 'c'], index= ['a', 'b', 'c']).empty"
   ]
  },
  {
   "cell_type": "code",
   "execution_count": 49,
   "metadata": {},
   "outputs": [
    {
     "data": {
      "text/html": "<div>\n<style scoped>\n    .dataframe tbody tr th:only-of-type {\n        vertical-align: middle;\n    }\n\n    .dataframe tbody tr th {\n        vertical-align: top;\n    }\n\n    .dataframe thead th {\n        text-align: right;\n    }\n</style>\n<table border=\"1\" class=\"dataframe\">\n  <thead>\n    <tr style=\"text-align: right;\">\n      <th></th>\n    </tr>\n  </thead>\n  <tbody>\n  </tbody>\n</table>\n</div>",
      "text/plain": "Empty DataFrame\nColumns: []\nIndex: []"
     },
     "execution_count": 49,
     "metadata": {},
     "output_type": "execute_result"
    }
   ],
   "source": [
    "pd.DataFrame()"
   ]
  },
  {
   "cell_type": "code",
   "execution_count": 24,
   "metadata": {},
   "outputs": [
    {
     "data": {
      "text/html": "<div>\n<style scoped>\n    .dataframe tbody tr th:only-of-type {\n        vertical-align: middle;\n    }\n\n    .dataframe tbody tr th {\n        vertical-align: top;\n    }\n\n    .dataframe thead th {\n        text-align: right;\n    }\n</style>\n<table border=\"1\" class=\"dataframe\">\n  <thead>\n    <tr style=\"text-align: right;\">\n      <th></th>\n      <th>Date</th>\n      <th>Name</th>\n      <th>Số lượng</th>\n    </tr>\n  </thead>\n  <tbody>\n    <tr>\n      <th>a</th>\n      <td>2019-11-20</td>\n      <td>cherry</td>\n      <td>77</td>\n    </tr>\n    <tr>\n      <th>b</th>\n      <td>2019-11-21</td>\n      <td>apple</td>\n      <td>23</td>\n    </tr>\n    <tr>\n      <th>c</th>\n      <td>2019-11-22</td>\n      <td>cherry</td>\n      <td>22</td>\n    </tr>\n    <tr>\n      <th>d</th>\n      <td>2019-11-23</td>\n      <td>banana</td>\n      <td>79</td>\n    </tr>\n    <tr>\n      <th>e</th>\n      <td>2019-11-24</td>\n      <td>apple</td>\n      <td>72</td>\n    </tr>\n    <tr>\n      <th>f</th>\n      <td>2019-11-25</td>\n      <td>banana</td>\n      <td>90</td>\n    </tr>\n    <tr>\n      <th>g</th>\n      <td>2019-11-26</td>\n      <td>cherry</td>\n      <td>45</td>\n    </tr>\n    <tr>\n      <th>h</th>\n      <td>2019-11-27</td>\n      <td>apple</td>\n      <td>78</td>\n    </tr>\n    <tr>\n      <th>i</th>\n      <td>2019-11-28</td>\n      <td>apple</td>\n      <td>21</td>\n    </tr>\n    <tr>\n      <th>j</th>\n      <td>2019-11-29</td>\n      <td>banana</td>\n      <td>92</td>\n    </tr>\n  </tbody>\n</table>\n</div>",
      "text/plain": "        Date    Name  Số lượng\na 2019-11-20  cherry        77\nb 2019-11-21   apple        23\nc 2019-11-22  cherry        22\nd 2019-11-23  banana        79\ne 2019-11-24   apple        72\nf 2019-11-25  banana        90\ng 2019-11-26  cherry        45\nh 2019-11-27   apple        78\ni 2019-11-28   apple        21\nj 2019-11-29  banana        92"
     },
     "execution_count": 24,
     "metadata": {},
     "output_type": "execute_result"
    }
   ],
   "source": [
    "#dataframe mẫu:\n",
    "Dict_ex = {\n",
    "    'Date' : pd.date_range(start = '2019-11-20', periods = 10, freq = 'D'),\n",
    "    'Name' : np.random.choice(['apple', 'banana', 'cherry'], size = 10),\n",
    "    'Số lượng' : np.random.randint(100, size = 10)\n",
    "}\n",
    "DF_ex = pd.DataFrame(Dict_ex, index= list('abcdefghij'))\n",
    "DF_ex"
   ]
  },
  {
   "cell_type": "code",
   "execution_count": 52,
   "metadata": {},
   "outputs": [
    {
     "data": {
      "text/plain": "' \\nMột số thuộc tính cơ bản:\\n.size: trả về số lượng phần tử dataframe\\n.shape: trả về kích thước dataframe cới định dạng(cột, hàng)\\n.ndim trả về số chiều của dataframe. vì dataframe là mảng 2 chiều, nên kết quả trả về luôn là 2\\n.empty: trả về True or False nếu dataframe là rỗng\\n.dtypes: trả về kiểu dữ liệu từng cột\\n.columns: trả về danh sách các cột của dataframe\\n.index: trả về index\\n.axes: kết hợp columns and index: trả về 1 list với dòng trước cột sau\\n'"
     },
     "execution_count": 52,
     "metadata": {},
     "output_type": "execute_result"
    }
   ],
   "source": [
    "''' \n",
    "Một số thuộc tính cơ bản:\n",
    ".size: trả về số lượng phần tử dataframe\n",
    ".shape: trả về kích thước dataframe cới định dạng(cột, hàng)\n",
    ".ndim trả về số chiều của dataframe. vì dataframe là mảng 2 chiều, nên kết quả trả về luôn là 2\n",
    ".empty: trả về True or False nếu dataframe là rỗng\n",
    ".dtypes: trả về kiểu dữ liệu từng cột\n",
    ".columns: trả về danh sách các cột của dataframe\n",
    ".index: trả về index\n",
    ".axes: kết hợp columns and index: trả về 1 list với dòng trước cột sau\n",
    "'''"
   ]
  },
  {
   "cell_type": "code",
   "metadata": {},
   "outputs": [],
   "source": [
    "#đổi tên:\n",
    "method: .rename()\n",
    "<tên_DF>.rename(index = {<tên_dòng_cũ> : <tên_dòng_mới>})"
   ]
  },
  {
   "cell_type": "code",
   "execution_count": 53,
   "metadata": {},
   "outputs": [
    {
     "data": {
      "text/html": "<div>\n<style scoped>\n    .dataframe tbody tr th:only-of-type {\n        vertical-align: middle;\n    }\n\n    .dataframe tbody tr th {\n        vertical-align: top;\n    }\n\n    .dataframe thead th {\n        text-align: right;\n    }\n</style>\n<table border=\"1\" class=\"dataframe\">\n  <thead>\n    <tr style=\"text-align: right;\">\n      <th></th>\n      <th>date</th>\n      <th>col2</th>\n      <th>col3</th>\n    </tr>\n  </thead>\n  <tbody>\n    <tr>\n      <th>a</th>\n      <td>2019-11-20</td>\n      <td>apple</td>\n      <td>89</td>\n    </tr>\n    <tr>\n      <th>b</th>\n      <td>2019-11-21</td>\n      <td>cherry</td>\n      <td>9</td>\n    </tr>\n    <tr>\n      <th>c</th>\n      <td>2019-11-22</td>\n      <td>banana</td>\n      <td>67</td>\n    </tr>\n    <tr>\n      <th>d</th>\n      <td>2019-11-23</td>\n      <td>cherry</td>\n      <td>43</td>\n    </tr>\n    <tr>\n      <th>e</th>\n      <td>2019-11-24</td>\n      <td>banana</td>\n      <td>98</td>\n    </tr>\n    <tr>\n      <th>f</th>\n      <td>2019-11-25</td>\n      <td>cherry</td>\n      <td>47</td>\n    </tr>\n    <tr>\n      <th>g</th>\n      <td>2019-11-26</td>\n      <td>apple</td>\n      <td>50</td>\n    </tr>\n    <tr>\n      <th>h</th>\n      <td>2019-11-27</td>\n      <td>apple</td>\n      <td>65</td>\n    </tr>\n    <tr>\n      <th>i</th>\n      <td>2019-11-28</td>\n      <td>cherry</td>\n      <td>83</td>\n    </tr>\n    <tr>\n      <th>j</th>\n      <td>2019-11-29</td>\n      <td>apple</td>\n      <td>19</td>\n    </tr>\n  </tbody>\n</table>\n</div>",
      "text/plain": "        date    col2  col3\na 2019-11-20   apple    89\nb 2019-11-21  cherry     9\nc 2019-11-22  banana    67\nd 2019-11-23  cherry    43\ne 2019-11-24  banana    98\nf 2019-11-25  cherry    47\ng 2019-11-26   apple    50\nh 2019-11-27   apple    65\ni 2019-11-28  cherry    83\nj 2019-11-29   apple    19"
     },
     "execution_count": 53,
     "metadata": {},
     "output_type": "execute_result"
    }
   ],
   "source": [
    "#Ex đổi col1 thành date\n",
    "DF_ex.rename(columns= {'col1' : 'date'})\n",
    "'''nếu không có inplace = True thì rename sẽ tạo df mới chứ không đối tên trong df cũ'''\n",
    "DF_ex = DF_ex.rename(columns= {'col1' : 'date'})\n",
    "#hoặc\n",
    "DF_ex.rename(columns= {'col1' : 'date'}, inplace = True)"
   ]
  },
  {
   "cell_type": "code",
   "execution_count": null,
   "metadata": {},
   "outputs": [],
   "source": [
    "#đổi tên nhanh hàng loạt\n",
    "<tên_DF>.columns = <Danh_sách_tên_cột_mới>\n",
    "<tên_DF>.index = <Danh_sách_tên_dòng_mới>"
   ]
  },
  {
   "cell_type": "code",
   "execution_count": 56,
   "metadata": {},
   "outputs": [
    {
     "data": {
      "text/html": "<div>\n<style scoped>\n    .dataframe tbody tr th:only-of-type {\n        vertical-align: middle;\n    }\n\n    .dataframe tbody tr th {\n        vertical-align: top;\n    }\n\n    .dataframe thead th {\n        text-align: right;\n    }\n</style>\n<table border=\"1\" class=\"dataframe\">\n  <thead>\n    <tr style=\"text-align: right;\">\n      <th></th>\n      <th>Date</th>\n      <th>Product</th>\n      <th>Quantity</th>\n    </tr>\n  </thead>\n  <tbody>\n    <tr>\n      <th>a</th>\n      <td>2019-11-20</td>\n      <td>apple</td>\n      <td>89</td>\n    </tr>\n    <tr>\n      <th>b</th>\n      <td>2019-11-21</td>\n      <td>cherry</td>\n      <td>9</td>\n    </tr>\n    <tr>\n      <th>c</th>\n      <td>2019-11-22</td>\n      <td>banana</td>\n      <td>67</td>\n    </tr>\n    <tr>\n      <th>d</th>\n      <td>2019-11-23</td>\n      <td>cherry</td>\n      <td>43</td>\n    </tr>\n    <tr>\n      <th>e</th>\n      <td>2019-11-24</td>\n      <td>banana</td>\n      <td>98</td>\n    </tr>\n    <tr>\n      <th>f</th>\n      <td>2019-11-25</td>\n      <td>cherry</td>\n      <td>47</td>\n    </tr>\n    <tr>\n      <th>g</th>\n      <td>2019-11-26</td>\n      <td>apple</td>\n      <td>50</td>\n    </tr>\n    <tr>\n      <th>h</th>\n      <td>2019-11-27</td>\n      <td>apple</td>\n      <td>65</td>\n    </tr>\n    <tr>\n      <th>i</th>\n      <td>2019-11-28</td>\n      <td>cherry</td>\n      <td>83</td>\n    </tr>\n    <tr>\n      <th>j</th>\n      <td>2019-11-29</td>\n      <td>apple</td>\n      <td>19</td>\n    </tr>\n  </tbody>\n</table>\n</div>",
      "text/plain": "        Date Product  Quantity\na 2019-11-20   apple        89\nb 2019-11-21  cherry         9\nc 2019-11-22  banana        67\nd 2019-11-23  cherry        43\ne 2019-11-24  banana        98\nf 2019-11-25  cherry        47\ng 2019-11-26   apple        50\nh 2019-11-27   apple        65\ni 2019-11-28  cherry        83\nj 2019-11-29   apple        19"
     },
     "execution_count": 56,
     "metadata": {},
     "output_type": "execute_result"
    }
   ],
   "source": [
    "DF_ex2 = DF_ex.copy() # nếu không .copy mà gán bằng thì khi đổi ex2 thì ex cũng có thể bị đổi\n",
    "DF_ex2.columns = ['Date', 'Product', 'Quantity']\n",
    "DF_ex2"
   ]
  },
  {
   "cell_type": "code",
   "execution_count": 57,
   "metadata": {},
   "outputs": [
    {
     "data": {
      "text/plain": "a   2019-11-20\nb   2019-11-21\nc   2019-11-22\nd   2019-11-23\ne   2019-11-24\nf   2019-11-25\ng   2019-11-26\nh   2019-11-27\ni   2019-11-28\nj   2019-11-29\nName: col1, dtype: datetime64[ns]"
     },
     "execution_count": 57,
     "metadata": {},
     "output_type": "execute_result"
    }
   ],
   "source": [
    "#Trích xuất dữ liệu theo cột\n",
    "#trích xuất 1 cột\n",
    "DF_ex['col1'] # DF_ex.col1\n"
   ]
  },
  {
   "cell_type": "code",
   "execution_count": 62,
   "metadata": {},
   "outputs": [
    {
     "data": {
      "text/plain": "pandas.core.series.Series"
     },
     "execution_count": 62,
     "metadata": {},
     "output_type": "execute_result"
    }
   ],
   "source": [
    "type(DF_ex['col1'])"
   ]
  },
  {
   "cell_type": "code",
   "execution_count": 63,
   "metadata": {},
   "outputs": [
    {
     "data": {
      "text/html": "<div>\n<style scoped>\n    .dataframe tbody tr th:only-of-type {\n        vertical-align: middle;\n    }\n\n    .dataframe tbody tr th {\n        vertical-align: top;\n    }\n\n    .dataframe thead th {\n        text-align: right;\n    }\n</style>\n<table border=\"1\" class=\"dataframe\">\n  <thead>\n    <tr style=\"text-align: right;\">\n      <th></th>\n      <th>col1</th>\n      <th>col2</th>\n    </tr>\n  </thead>\n  <tbody>\n    <tr>\n      <th>a</th>\n      <td>2019-11-20</td>\n      <td>apple</td>\n    </tr>\n    <tr>\n      <th>b</th>\n      <td>2019-11-21</td>\n      <td>cherry</td>\n    </tr>\n    <tr>\n      <th>c</th>\n      <td>2019-11-22</td>\n      <td>banana</td>\n    </tr>\n    <tr>\n      <th>d</th>\n      <td>2019-11-23</td>\n      <td>cherry</td>\n    </tr>\n    <tr>\n      <th>e</th>\n      <td>2019-11-24</td>\n      <td>banana</td>\n    </tr>\n    <tr>\n      <th>f</th>\n      <td>2019-11-25</td>\n      <td>cherry</td>\n    </tr>\n    <tr>\n      <th>g</th>\n      <td>2019-11-26</td>\n      <td>apple</td>\n    </tr>\n    <tr>\n      <th>h</th>\n      <td>2019-11-27</td>\n      <td>apple</td>\n    </tr>\n    <tr>\n      <th>i</th>\n      <td>2019-11-28</td>\n      <td>cherry</td>\n    </tr>\n    <tr>\n      <th>j</th>\n      <td>2019-11-29</td>\n      <td>apple</td>\n    </tr>\n  </tbody>\n</table>\n</div>",
      "text/plain": "        col1    col2\na 2019-11-20   apple\nb 2019-11-21  cherry\nc 2019-11-22  banana\nd 2019-11-23  cherry\ne 2019-11-24  banana\nf 2019-11-25  cherry\ng 2019-11-26   apple\nh 2019-11-27   apple\ni 2019-11-28  cherry\nj 2019-11-29   apple"
     },
     "execution_count": 63,
     "metadata": {},
     "output_type": "execute_result"
    }
   ],
   "source": [
    "#tích xuất nhiều cột\n",
    "DF_ex[['col1', 'col2']]"
   ]
  },
  {
   "cell_type": "code",
   "execution_count": 65,
   "metadata": {},
   "outputs": [
    {
     "data": {
      "text/plain": "pandas.core.frame.DataFrame"
     },
     "execution_count": 65,
     "metadata": {},
     "output_type": "execute_result"
    }
   ],
   "source": [
    "type(DF_ex[['col1']])"
   ]
  },
  {
   "cell_type": "code",
   "execution_count": 67,
   "metadata": {},
   "outputs": [
    {
     "name": "stdout",
     "output_type": "stream",
     "text": "1\n2\n"
    }
   ],
   "source": [
    "#note:\n",
    "print(DF_ex['col1'].ndim) #Series\n",
    "print(DF_ex[['col1']].ndim) #DataFrame"
   ]
  },
  {
   "cell_type": "code",
   "execution_count": null,
   "metadata": {},
   "outputs": [],
   "source": [
    "#trích xuất dữ liệu theo dòng:\n",
    "DF_ex['a'] #lỗi cách này dùng trích xuất cột nên không thể trích xuất dòng\n",
    "Method: .loc and . iloc\n",
    ".loc[]: lấy dòng theo label\n",
    ".iloc[]: lấy dữ liệu theo số thứ tự bắt đầu từ 0"
   ]
  },
  {
   "cell_type": "code",
   "execution_count": 70,
   "metadata": {},
   "outputs": [
    {
     "data": {
      "text/plain": "col1    2019-11-20 00:00:00\ncol2                  apple\ncol3                     89\nName: a, dtype: object"
     },
     "execution_count": 70,
     "metadata": {},
     "output_type": "execute_result"
    }
   ],
   "source": [
    "#ex:\n",
    "DF_ex.loc['a'] #Series"
   ]
  },
  {
   "cell_type": "code",
   "execution_count": 71,
   "metadata": {},
   "outputs": [
    {
     "data": {
      "text/plain": "col1    2019-11-22 00:00:00\ncol2                 banana\ncol3                     67\nName: c, dtype: object"
     },
     "execution_count": 71,
     "metadata": {},
     "output_type": "execute_result"
    }
   ],
   "source": [
    "DF_ex.iloc[2] #Series"
   ]
  },
  {
   "cell_type": "code",
   "execution_count": 76,
   "metadata": {},
   "outputs": [
    {
     "data": {
      "text/html": "<div>\n<style scoped>\n    .dataframe tbody tr th:only-of-type {\n        vertical-align: middle;\n    }\n\n    .dataframe tbody tr th {\n        vertical-align: top;\n    }\n\n    .dataframe thead th {\n        text-align: right;\n    }\n</style>\n<table border=\"1\" class=\"dataframe\">\n  <thead>\n    <tr style=\"text-align: right;\">\n      <th></th>\n      <th>col1</th>\n      <th>col2</th>\n      <th>col3</th>\n    </tr>\n  </thead>\n  <tbody>\n    <tr>\n      <th>a</th>\n      <td>2019-11-20</td>\n      <td>apple</td>\n      <td>89</td>\n    </tr>\n    <tr>\n      <th>c</th>\n      <td>2019-11-22</td>\n      <td>banana</td>\n      <td>67</td>\n    </tr>\n  </tbody>\n</table>\n</div>",
      "text/plain": "        col1    col2  col3\na 2019-11-20   apple    89\nc 2019-11-22  banana    67"
     },
     "execution_count": 76,
     "metadata": {},
     "output_type": "execute_result"
    }
   ],
   "source": [
    "#trích xuất nhiều dòng:\n",
    "DF_ex.loc[['a', 'c']] #DataFrame"
   ]
  },
  {
   "cell_type": "code",
   "execution_count": 77,
   "metadata": {},
   "outputs": [
    {
     "data": {
      "text/html": "<div>\n<style scoped>\n    .dataframe tbody tr th:only-of-type {\n        vertical-align: middle;\n    }\n\n    .dataframe tbody tr th {\n        vertical-align: top;\n    }\n\n    .dataframe thead th {\n        text-align: right;\n    }\n</style>\n<table border=\"1\" class=\"dataframe\">\n  <thead>\n    <tr style=\"text-align: right;\">\n      <th></th>\n      <th>col1</th>\n      <th>col2</th>\n      <th>col3</th>\n    </tr>\n  </thead>\n  <tbody>\n    <tr>\n      <th>a</th>\n      <td>2019-11-20</td>\n      <td>apple</td>\n      <td>89</td>\n    </tr>\n    <tr>\n      <th>d</th>\n      <td>2019-11-23</td>\n      <td>cherry</td>\n      <td>43</td>\n    </tr>\n    <tr>\n      <th>g</th>\n      <td>2019-11-26</td>\n      <td>apple</td>\n      <td>50</td>\n    </tr>\n    <tr>\n      <th>j</th>\n      <td>2019-11-29</td>\n      <td>apple</td>\n      <td>19</td>\n    </tr>\n  </tbody>\n</table>\n</div>",
      "text/plain": "        col1    col2  col3\na 2019-11-20   apple    89\nd 2019-11-23  cherry    43\ng 2019-11-26   apple    50\nj 2019-11-29   apple    19"
     },
     "execution_count": 77,
     "metadata": {},
     "output_type": "execute_result"
    }
   ],
   "source": [
    "DF_ex.iloc[0: 10 : 3] #DataFrame [vị trí bắt đầu : vị trí kết thúc : step]"
   ]
  },
  {
   "cell_type": "code",
   "execution_count": null,
   "metadata": {},
   "outputs": [],
   "source": [
    "#Trích xuất theo cả dòng lẫn cột\n",
    "method: .loc\n",
    "<tên_df>.loc[<dòng_cần_lấy>, <cột cần lấy>]\n",
    "tương tự .iloc[]"
   ]
  },
  {
   "cell_type": "code",
   "execution_count": 96,
   "metadata": {},
   "outputs": [
    {
     "data": {
      "text/html": "<div>\n<style scoped>\n    .dataframe tbody tr th:only-of-type {\n        vertical-align: middle;\n    }\n\n    .dataframe tbody tr th {\n        vertical-align: top;\n    }\n\n    .dataframe thead th {\n        text-align: right;\n    }\n</style>\n<table border=\"1\" class=\"dataframe\">\n  <thead>\n    <tr style=\"text-align: right;\">\n      <th></th>\n      <th>col2</th>\n      <th>col3</th>\n    </tr>\n  </thead>\n  <tbody>\n    <tr>\n      <th>a</th>\n      <td>apple</td>\n      <td>89</td>\n    </tr>\n    <tr>\n      <th>b</th>\n      <td>cherry</td>\n      <td>9</td>\n    </tr>\n    <tr>\n      <th>c</th>\n      <td>banana</td>\n      <td>67</td>\n    </tr>\n    <tr>\n      <th>d</th>\n      <td>cherry</td>\n      <td>43</td>\n    </tr>\n    <tr>\n      <th>e</th>\n      <td>banana</td>\n      <td>98</td>\n    </tr>\n    <tr>\n      <th>f</th>\n      <td>cherry</td>\n      <td>47</td>\n    </tr>\n    <tr>\n      <th>g</th>\n      <td>apple</td>\n      <td>50</td>\n    </tr>\n    <tr>\n      <th>h</th>\n      <td>apple</td>\n      <td>65</td>\n    </tr>\n    <tr>\n      <th>i</th>\n      <td>cherry</td>\n      <td>83</td>\n    </tr>\n    <tr>\n      <th>j</th>\n      <td>apple</td>\n      <td>19</td>\n    </tr>\n  </tbody>\n</table>\n</div>",
      "text/plain": "     col2  col3\na   apple    89\nb  cherry     9\nc  banana    67\nd  cherry    43\ne  banana    98\nf  cherry    47\ng   apple    50\nh   apple    65\ni  cherry    83\nj   apple    19"
     },
     "execution_count": 96,
     "metadata": {},
     "output_type": "execute_result"
    }
   ],
   "source": [
    "DF_ex.loc[['a', 'c'], ['col2', 'col3']]\n",
    "DF_ex.loc[ :, ['col2', 'col3']]"
   ]
  },
  {
   "cell_type": "code",
   "execution_count": 98,
   "metadata": {},
   "outputs": [
    {
     "data": {
      "text/html": "<div>\n<style scoped>\n    .dataframe tbody tr th:only-of-type {\n        vertical-align: middle;\n    }\n\n    .dataframe tbody tr th {\n        vertical-align: top;\n    }\n\n    .dataframe thead th {\n        text-align: right;\n    }\n</style>\n<table border=\"1\" class=\"dataframe\">\n  <thead>\n    <tr style=\"text-align: right;\">\n      <th></th>\n      <th>col2</th>\n      <th>col3</th>\n    </tr>\n  </thead>\n  <tbody>\n    <tr>\n      <th>a</th>\n      <td>apple</td>\n      <td>89</td>\n    </tr>\n    <tr>\n      <th>b</th>\n      <td>cherry</td>\n      <td>9</td>\n    </tr>\n    <tr>\n      <th>c</th>\n      <td>banana</td>\n      <td>67</td>\n    </tr>\n    <tr>\n      <th>d</th>\n      <td>cherry</td>\n      <td>43</td>\n    </tr>\n    <tr>\n      <th>e</th>\n      <td>banana</td>\n      <td>98</td>\n    </tr>\n    <tr>\n      <th>f</th>\n      <td>cherry</td>\n      <td>47</td>\n    </tr>\n    <tr>\n      <th>g</th>\n      <td>apple</td>\n      <td>50</td>\n    </tr>\n    <tr>\n      <th>h</th>\n      <td>apple</td>\n      <td>65</td>\n    </tr>\n    <tr>\n      <th>i</th>\n      <td>cherry</td>\n      <td>83</td>\n    </tr>\n    <tr>\n      <th>j</th>\n      <td>apple</td>\n      <td>19</td>\n    </tr>\n  </tbody>\n</table>\n</div>",
      "text/plain": "     col2  col3\na   apple    89\nb  cherry     9\nc  banana    67\nd  cherry    43\ne  banana    98\nf  cherry    47\ng   apple    50\nh   apple    65\ni  cherry    83\nj   apple    19"
     },
     "execution_count": 98,
     "metadata": {},
     "output_type": "execute_result"
    }
   ],
   "source": [
    "DF_ex.iloc[[0 , 5], [1, 2]]\n",
    "DF_ex.iloc[ :, [1, 2]]"
   ]
  },
  {
   "cell_type": "code",
   "execution_count": null,
   "metadata": {},
   "outputs": [],
   "source": [
    "trích xuất có điều kiện\n",
    "<tên_df>[điều_kiện]"
   ]
  },
  {
   "cell_type": "code",
   "execution_count": 99,
   "metadata": {},
   "outputs": [
    {
     "data": {
      "text/html": "<div>\n<style scoped>\n    .dataframe tbody tr th:only-of-type {\n        vertical-align: middle;\n    }\n\n    .dataframe tbody tr th {\n        vertical-align: top;\n    }\n\n    .dataframe thead th {\n        text-align: right;\n    }\n</style>\n<table border=\"1\" class=\"dataframe\">\n  <thead>\n    <tr style=\"text-align: right;\">\n      <th></th>\n      <th>col1</th>\n      <th>col2</th>\n      <th>col3</th>\n    </tr>\n  </thead>\n  <tbody>\n    <tr>\n      <th>a</th>\n      <td>2019-11-20</td>\n      <td>apple</td>\n      <td>89</td>\n    </tr>\n    <tr>\n      <th>g</th>\n      <td>2019-11-26</td>\n      <td>apple</td>\n      <td>50</td>\n    </tr>\n    <tr>\n      <th>h</th>\n      <td>2019-11-27</td>\n      <td>apple</td>\n      <td>65</td>\n    </tr>\n    <tr>\n      <th>j</th>\n      <td>2019-11-29</td>\n      <td>apple</td>\n      <td>19</td>\n    </tr>\n  </tbody>\n</table>\n</div>",
      "text/plain": "        col1   col2  col3\na 2019-11-20  apple    89\ng 2019-11-26  apple    50\nh 2019-11-27  apple    65\nj 2019-11-29  apple    19"
     },
     "execution_count": 99,
     "metadata": {},
     "output_type": "execute_result"
    }
   ],
   "source": [
    "DF_ex[DF_ex.col2 == 'apple'] #điều kiện đơn"
   ]
  },
  {
   "cell_type": "code",
   "execution_count": null,
   "metadata": {},
   "outputs": [],
   "source": [
    "#điều kiện kép\n",
    "&: and\n",
    "|: or\n",
    "và điều kiện phải trong ngoặc"
   ]
  },
  {
   "cell_type": "code",
   "execution_count": 100,
   "metadata": {},
   "outputs": [
    {
     "data": {
      "text/html": "<div>\n<style scoped>\n    .dataframe tbody tr th:only-of-type {\n        vertical-align: middle;\n    }\n\n    .dataframe tbody tr th {\n        vertical-align: top;\n    }\n\n    .dataframe thead th {\n        text-align: right;\n    }\n</style>\n<table border=\"1\" class=\"dataframe\">\n  <thead>\n    <tr style=\"text-align: right;\">\n      <th></th>\n      <th>col1</th>\n      <th>col2</th>\n      <th>col3</th>\n    </tr>\n  </thead>\n  <tbody>\n    <tr>\n      <th>a</th>\n      <td>2019-11-20</td>\n      <td>apple</td>\n      <td>89</td>\n    </tr>\n  </tbody>\n</table>\n</div>",
      "text/plain": "        col1   col2  col3\na 2019-11-20  apple    89"
     },
     "execution_count": 100,
     "metadata": {},
     "output_type": "execute_result"
    }
   ],
   "source": [
    "DF_ex[(DF_ex.col2 == 'apple') & ((DF_ex.col1 == '2019-11-20') | (DF_ex.col2 == 'banana'))]"
   ]
  },
  {
   "cell_type": "code",
   "execution_count": 4,
   "metadata": {},
   "outputs": [],
   "source": [
    "df1 = pd.read_csv('Study/Week1/pokemon_data.csv', index_col =0)\n",
    "df1.reset_index(inplace = True)"
   ]
  },
  {
   "cell_type": "code",
   "execution_count": 3,
   "metadata": {},
   "outputs": [
    {
     "data": {
      "text/html": "<div>\n<style scoped>\n    .dataframe tbody tr th:only-of-type {\n        vertical-align: middle;\n    }\n\n    .dataframe tbody tr th {\n        vertical-align: top;\n    }\n\n    .dataframe thead th {\n        text-align: right;\n    }\n</style>\n<table border=\"1\" class=\"dataframe\">\n  <thead>\n    <tr style=\"text-align: right;\">\n      <th></th>\n      <th>0</th>\n      <th>1</th>\n    </tr>\n  </thead>\n  <tbody>\n    <tr>\n      <th>0</th>\n      <td>apple</td>\n      <td>10</td>\n    </tr>\n    <tr>\n      <th>1</th>\n      <td>banana</td>\n      <td>25</td>\n    </tr>\n    <tr>\n      <th>2</th>\n      <td>cherry</td>\n      <td>40</td>\n    </tr>\n  </tbody>\n</table>\n</div>",
      "text/plain": "        0   1\n0   apple  10\n1  banana  25\n2  cherry  40"
     },
     "execution_count": 3,
     "metadata": {},
     "output_type": "execute_result"
    }
   ],
   "source": [
    "#Thay đổi index <dataframe>.index = <index mới>\n",
    "df2 = pd.DataFrame([['apple', 10],\n",
    "    ['banana', 25],\n",
    "    ['cherry', 40]])\n",
    "df2"
   ]
  },
  {
   "cell_type": "code",
   "execution_count": null,
   "metadata": {},
   "outputs": [],
   "source": [
    "#đặt một cột thành index: .set_index()\n",
    "df2.set_index()\n",
    "#đặt lại index: .reset_index()\n",
    "df2.reset_index()\n",
    "#tham số drop báo có giữ lại index cũ hay không nếu False thì tạo index là 1 cột mới giữ index cũ, True xoá index cũ đi thay bằng index mới\n",
    "#sắp xếp lại theo thứ tự index: .sort_index()\n",
    "df1.sort_index(ascending=) #ascending= False sắp xếp giảm dần\n",
    "#biến đổi dataframe bằng .reindex(): Toạ ra df mới có cấu trúc: tên dòng đi theo thứ tự được chỉ ra, tên cột đi theo thứ tự được chỉ ra, giá trị tương ứng trong df gốc nếu không có thì dùng giá trị Null(NaN)"
   ]
  },
  {
   "cell_type": "code",
   "execution_count": 5,
   "metadata": {},
   "outputs": [
    {
     "data": {
      "text/html": "<div>\n<style scoped>\n    .dataframe tbody tr th:only-of-type {\n        vertical-align: middle;\n    }\n\n    .dataframe tbody tr th {\n        vertical-align: top;\n    }\n\n    .dataframe thead th {\n        text-align: right;\n    }\n</style>\n<table border=\"1\" class=\"dataframe\">\n  <thead>\n    <tr style=\"text-align: right;\">\n      <th></th>\n      <th>HP</th>\n      <th>Name</th>\n    </tr>\n  </thead>\n  <tbody>\n    <tr>\n      <th>1</th>\n      <td>60</td>\n      <td>Ivysaur</td>\n    </tr>\n    <tr>\n      <th>2</th>\n      <td>80</td>\n      <td>Venusaur</td>\n    </tr>\n    <tr>\n      <th>3</th>\n      <td>80</td>\n      <td>VenusaurMega Venusaur</td>\n    </tr>\n  </tbody>\n</table>\n</div>",
      "text/plain": "   HP                   Name\n1  60                Ivysaur\n2  80               Venusaur\n3  80  VenusaurMega Venusaur"
     },
     "execution_count": 5,
     "metadata": {},
     "output_type": "execute_result"
    }
   ],
   "source": [
    "df1.reindex(columns= ['HP', 'Name'], index= [1, 2, 3])"
   ]
  },
  {
   "cell_type": "code",
   "execution_count": 8,
   "metadata": {},
   "outputs": [
    {
     "data": {
      "text/html": "<div>\n<style scoped>\n    .dataframe tbody tr th:only-of-type {\n        vertical-align: middle;\n    }\n\n    .dataframe tbody tr th {\n        vertical-align: top;\n    }\n\n    .dataframe thead th {\n        text-align: right;\n    }\n</style>\n<table border=\"1\" class=\"dataframe\">\n  <thead>\n    <tr style=\"text-align: right;\">\n      <th></th>\n    </tr>\n  </thead>\n  <tbody>\n    <tr>\n      <th>a</th>\n    </tr>\n    <tr>\n      <th>b</th>\n    </tr>\n    <tr>\n      <th>c</th>\n    </tr>\n    <tr>\n      <th>d</th>\n    </tr>\n    <tr>\n      <th>e</th>\n    </tr>\n    <tr>\n      <th>f</th>\n    </tr>\n    <tr>\n      <th>g</th>\n    </tr>\n    <tr>\n      <th>h</th>\n    </tr>\n    <tr>\n      <th>i</th>\n    </tr>\n    <tr>\n      <th>j</th>\n    </tr>\n    <tr>\n      <th>0</th>\n    </tr>\n    <tr>\n      <th>1</th>\n    </tr>\n    <tr>\n      <th>2</th>\n    </tr>\n  </tbody>\n</table>\n</div>",
      "text/plain": "Empty DataFrame\nColumns: []\nIndex: [a, b, c, d, e, f, g, h, i, j, 0, 1, 2]"
     },
     "execution_count": 8,
     "metadata": {},
     "output_type": "execute_result"
    }
   ],
   "source": [
    "pd.concat([DF_ex, df2], join = 'inner')"
   ]
  },
  {
   "cell_type": "code",
   "execution_count": 16,
   "metadata": {},
   "outputs": [
    {
     "data": {
      "text/html": "<div>\n<style scoped>\n    .dataframe tbody tr th:only-of-type {\n        vertical-align: middle;\n    }\n\n    .dataframe tbody tr th {\n        vertical-align: top;\n    }\n\n    .dataframe thead th {\n        text-align: right;\n    }\n</style>\n<table border=\"1\" class=\"dataframe\">\n  <thead>\n    <tr style=\"text-align: right;\">\n      <th></th>\n      <th>date</th>\n      <th>Name</th>\n      <th>đã mua</th>\n    </tr>\n  </thead>\n  <tbody>\n    <tr>\n      <th>0</th>\n      <td>2019-10-25</td>\n      <td>apple</td>\n      <td>39</td>\n    </tr>\n    <tr>\n      <th>1</th>\n      <td>2019-10-26</td>\n      <td>banana</td>\n      <td>52</td>\n    </tr>\n    <tr>\n      <th>2</th>\n      <td>2019-10-27</td>\n      <td>cherry</td>\n      <td>17</td>\n    </tr>\n  </tbody>\n</table>\n</div>",
      "text/plain": "         date    Name  đã mua\n0  2019-10-25   apple      39\n1  2019-10-26  banana      52\n2  2019-10-27  cherry      17"
     },
     "execution_count": 16,
     "metadata": {},
     "output_type": "execute_result"
    }
   ],
   "source": [
    "#kết hợp data bằng merge\n",
    "df4 = pd.DataFrame({'date' : ['2019-10-25', '2019-10-26', '2019-10-27'],\n",
    "'Name' : ['apple', 'banana', 'cherry'],\n",
    "'đã mua' : [39, 52, 17]})\n",
    "df4"
   ]
  },
  {
   "cell_type": "code",
   "execution_count": 18,
   "metadata": {},
   "outputs": [
    {
     "data": {
      "text/html": "<div>\n<style scoped>\n    .dataframe tbody tr th:only-of-type {\n        vertical-align: middle;\n    }\n\n    .dataframe tbody tr th {\n        vertical-align: top;\n    }\n\n    .dataframe thead th {\n        text-align: right;\n    }\n</style>\n<table border=\"1\" class=\"dataframe\">\n  <thead>\n    <tr style=\"text-align: right;\">\n      <th></th>\n      <th>Name</th>\n      <th>price</th>\n    </tr>\n  </thead>\n  <tbody>\n    <tr>\n      <th>0</th>\n      <td>apple</td>\n      <td>10</td>\n    </tr>\n    <tr>\n      <th>1</th>\n      <td>banana</td>\n      <td>15</td>\n    </tr>\n    <tr>\n      <th>2</th>\n      <td>cherry</td>\n      <td>20</td>\n    </tr>\n  </tbody>\n</table>\n</div>",
      "text/plain": "     Name  price\n0   apple     10\n1  banana     15\n2  cherry     20"
     },
     "execution_count": 18,
     "metadata": {},
     "output_type": "execute_result"
    }
   ],
   "source": [
    "df5 = pd.DataFrame({'Name' : ['apple', 'banana', 'cherry'],\n",
    "'price' : [10 , 15 , 20]})\n",
    "df5"
   ]
  },
  {
   "cell_type": "code",
   "execution_count": 26,
   "metadata": {},
   "outputs": [
    {
     "data": {
      "text/html": "<div>\n<style scoped>\n    .dataframe tbody tr th:only-of-type {\n        vertical-align: middle;\n    }\n\n    .dataframe tbody tr th {\n        vertical-align: top;\n    }\n\n    .dataframe thead th {\n        text-align: right;\n    }\n</style>\n<table border=\"1\" class=\"dataframe\">\n  <thead>\n    <tr style=\"text-align: right;\">\n      <th></th>\n      <th>Date</th>\n      <th>Name</th>\n      <th>Số lượng</th>\n    </tr>\n  </thead>\n  <tbody>\n    <tr>\n      <th>a</th>\n      <td>2019-11-20</td>\n      <td>cherry</td>\n      <td>77</td>\n    </tr>\n    <tr>\n      <th>b</th>\n      <td>2019-11-21</td>\n      <td>apple</td>\n      <td>23</td>\n    </tr>\n    <tr>\n      <th>c</th>\n      <td>2019-11-22</td>\n      <td>cherry</td>\n      <td>22</td>\n    </tr>\n    <tr>\n      <th>d</th>\n      <td>2019-11-23</td>\n      <td>banana</td>\n      <td>79</td>\n    </tr>\n    <tr>\n      <th>e</th>\n      <td>2019-11-24</td>\n      <td>apple</td>\n      <td>72</td>\n    </tr>\n    <tr>\n      <th>f</th>\n      <td>2019-11-25</td>\n      <td>banana</td>\n      <td>90</td>\n    </tr>\n    <tr>\n      <th>g</th>\n      <td>2019-11-26</td>\n      <td>cherry</td>\n      <td>45</td>\n    </tr>\n    <tr>\n      <th>h</th>\n      <td>2019-11-27</td>\n      <td>apple</td>\n      <td>78</td>\n    </tr>\n    <tr>\n      <th>i</th>\n      <td>2019-11-28</td>\n      <td>apple</td>\n      <td>21</td>\n    </tr>\n    <tr>\n      <th>j</th>\n      <td>2019-11-29</td>\n      <td>banana</td>\n      <td>92</td>\n    </tr>\n  </tbody>\n</table>\n</div>",
      "text/plain": "        Date    Name  Số lượng\na 2019-11-20  cherry        77\nb 2019-11-21   apple        23\nc 2019-11-22  cherry        22\nd 2019-11-23  banana        79\ne 2019-11-24   apple        72\nf 2019-11-25  banana        90\ng 2019-11-26  cherry        45\nh 2019-11-27   apple        78\ni 2019-11-28   apple        21\nj 2019-11-29  banana        92"
     },
     "execution_count": 26,
     "metadata": {},
     "output_type": "execute_result"
    }
   ],
   "source": [
    "DF_ex"
   ]
  },
  {
   "cell_type": "code",
   "execution_count": 29,
   "metadata": {},
   "outputs": [
    {
     "data": {
      "text/html": "<div>\n<style scoped>\n    .dataframe tbody tr th:only-of-type {\n        vertical-align: middle;\n    }\n\n    .dataframe tbody tr th {\n        vertical-align: top;\n    }\n\n    .dataframe thead th {\n        text-align: right;\n    }\n</style>\n<table border=\"1\" class=\"dataframe\">\n  <thead>\n    <tr style=\"text-align: right;\">\n      <th></th>\n      <th>Date</th>\n      <th>Name</th>\n      <th>Số lượng</th>\n      <th>price</th>\n    </tr>\n  </thead>\n  <tbody>\n    <tr>\n      <th>0</th>\n      <td>2019-11-20</td>\n      <td>cherry</td>\n      <td>77</td>\n      <td>20</td>\n    </tr>\n    <tr>\n      <th>1</th>\n      <td>2019-11-22</td>\n      <td>cherry</td>\n      <td>22</td>\n      <td>20</td>\n    </tr>\n    <tr>\n      <th>2</th>\n      <td>2019-11-26</td>\n      <td>cherry</td>\n      <td>45</td>\n      <td>20</td>\n    </tr>\n    <tr>\n      <th>3</th>\n      <td>2019-11-21</td>\n      <td>apple</td>\n      <td>23</td>\n      <td>10</td>\n    </tr>\n    <tr>\n      <th>4</th>\n      <td>2019-11-24</td>\n      <td>apple</td>\n      <td>72</td>\n      <td>10</td>\n    </tr>\n    <tr>\n      <th>5</th>\n      <td>2019-11-27</td>\n      <td>apple</td>\n      <td>78</td>\n      <td>10</td>\n    </tr>\n    <tr>\n      <th>6</th>\n      <td>2019-11-28</td>\n      <td>apple</td>\n      <td>21</td>\n      <td>10</td>\n    </tr>\n    <tr>\n      <th>7</th>\n      <td>2019-11-23</td>\n      <td>banana</td>\n      <td>79</td>\n      <td>15</td>\n    </tr>\n    <tr>\n      <th>8</th>\n      <td>2019-11-25</td>\n      <td>banana</td>\n      <td>90</td>\n      <td>15</td>\n    </tr>\n    <tr>\n      <th>9</th>\n      <td>2019-11-29</td>\n      <td>banana</td>\n      <td>92</td>\n      <td>15</td>\n    </tr>\n  </tbody>\n</table>\n</div>",
      "text/plain": "        Date    Name  Số lượng  price\n0 2019-11-20  cherry        77     20\n1 2019-11-22  cherry        22     20\n2 2019-11-26  cherry        45     20\n3 2019-11-21   apple        23     10\n4 2019-11-24   apple        72     10\n5 2019-11-27   apple        78     10\n6 2019-11-28   apple        21     10\n7 2019-11-23  banana        79     15\n8 2019-11-25  banana        90     15\n9 2019-11-29  banana        92     15"
     },
     "execution_count": 29,
     "metadata": {},
     "output_type": "execute_result"
    }
   ],
   "source": [
    "pd.merge(DF_ex, df5)"
   ]
  },
  {
   "cell_type": "code",
   "execution_count": 2,
   "metadata": {},
   "outputs": [
    {
     "data": {
      "text/html": "<div>\n<style scoped>\n    .dataframe tbody tr th:only-of-type {\n        vertical-align: middle;\n    }\n\n    .dataframe tbody tr th {\n        vertical-align: top;\n    }\n\n    .dataframe thead th {\n        text-align: right;\n    }\n</style>\n<table border=\"1\" class=\"dataframe\">\n  <thead>\n    <tr style=\"text-align: right;\">\n      <th></th>\n      <th>Name</th>\n      <th>Type 1</th>\n      <th>Type 2</th>\n      <th>HP</th>\n      <th>Attack</th>\n      <th>Defense</th>\n      <th>Sp. Atk</th>\n      <th>Sp. Def</th>\n      <th>Speed</th>\n      <th>Generation</th>\n      <th>Legendary</th>\n    </tr>\n    <tr>\n      <th>#</th>\n      <th></th>\n      <th></th>\n      <th></th>\n      <th></th>\n      <th></th>\n      <th></th>\n      <th></th>\n      <th></th>\n      <th></th>\n      <th></th>\n      <th></th>\n    </tr>\n  </thead>\n  <tbody>\n    <tr>\n      <th>0</th>\n      <td>Bulbasaur</td>\n      <td>Grass</td>\n      <td>Poison</td>\n      <td>45</td>\n      <td>49</td>\n      <td>49</td>\n      <td>65</td>\n      <td>65</td>\n      <td>45</td>\n      <td>1</td>\n      <td>False</td>\n    </tr>\n    <tr>\n      <th>1</th>\n      <td>Ivysaur</td>\n      <td>Grass</td>\n      <td>Poison</td>\n      <td>60</td>\n      <td>62</td>\n      <td>63</td>\n      <td>80</td>\n      <td>80</td>\n      <td>60</td>\n      <td>1</td>\n      <td>False</td>\n    </tr>\n    <tr>\n      <th>2</th>\n      <td>Venusaur</td>\n      <td>Grass</td>\n      <td>Poison</td>\n      <td>80</td>\n      <td>82</td>\n      <td>83</td>\n      <td>100</td>\n      <td>100</td>\n      <td>80</td>\n      <td>1</td>\n      <td>False</td>\n    </tr>\n    <tr>\n      <th>3</th>\n      <td>VenusaurMega Venusaur</td>\n      <td>Grass</td>\n      <td>Poison</td>\n      <td>80</td>\n      <td>100</td>\n      <td>123</td>\n      <td>122</td>\n      <td>120</td>\n      <td>80</td>\n      <td>1</td>\n      <td>False</td>\n    </tr>\n    <tr>\n      <th>4</th>\n      <td>Charmander</td>\n      <td>Fire</td>\n      <td>NaN</td>\n      <td>39</td>\n      <td>52</td>\n      <td>43</td>\n      <td>60</td>\n      <td>50</td>\n      <td>65</td>\n      <td>1</td>\n      <td>False</td>\n    </tr>\n  </tbody>\n</table>\n</div>",
      "text/plain": "                    Name Type 1  Type 2  HP  Attack  Defense  Sp. Atk  \\\n#                                                                       \n0              Bulbasaur  Grass  Poison  45      49       49       65   \n1                Ivysaur  Grass  Poison  60      62       63       80   \n2               Venusaur  Grass  Poison  80      82       83      100   \n3  VenusaurMega Venusaur  Grass  Poison  80     100      123      122   \n4             Charmander   Fire     NaN  39      52       43       60   \n\n   Sp. Def  Speed  Generation  Legendary  \n#                                         \n0       65     45           1      False  \n1       80     60           1      False  \n2      100     80           1      False  \n3      120     80           1      False  \n4       50     65           1      False  "
     },
     "execution_count": 2,
     "metadata": {},
     "output_type": "execute_result"
    }
   ],
   "source": [
    "#Chuyển đổi kiểu dữ liệu trong dataframe\n",
    "df = pd.read_csv('pokemon_data.csv', index_col = 0).reset_index(drop = True)\n",
    "df.index.name = '#'\n",
    "df.head()"
   ]
  },
  {
   "cell_type": "code",
   "execution_count": null,
   "metadata": {},
   "outputs": [],
   "source": [
    "#chuyển đổi thành thời gian .to_datetime()\n",
    "#dùng accessor .dt để dùng cho các phương thức của kiểu dữ liệu thời gian\n",
    "df.Date.dt.strftime('%d/%m/%y') #df.Date là Series"
   ]
  },
  {
   "cell_type": "code",
   "execution_count": 3,
   "metadata": {},
   "outputs": [
    {
     "data": {
      "text/html": "<div>\n<style scoped>\n    .dataframe tbody tr th:only-of-type {\n        vertical-align: middle;\n    }\n\n    .dataframe tbody tr th {\n        vertical-align: top;\n    }\n\n    .dataframe thead th {\n        text-align: right;\n    }\n</style>\n<table border=\"1\" class=\"dataframe\">\n  <thead>\n    <tr style=\"text-align: right;\">\n      <th></th>\n      <th>Date</th>\n      <th>Close</th>\n      <th>Volume</th>\n      <th>PercentChange</th>\n    </tr>\n  </thead>\n  <tbody>\n    <tr>\n      <th>0</th>\n      <td>2018-06-01</td>\n      <td>136.1k</td>\n      <td>1051610</td>\n      <td>?%</td>\n    </tr>\n    <tr>\n      <th>1</th>\n      <td>2018-06-04</td>\n      <td>141.6k</td>\n      <td>965230</td>\n      <td>4.04%</td>\n    </tr>\n    <tr>\n      <th>2</th>\n      <td>2018-06-05</td>\n      <td>144.4k</td>\n      <td>879160</td>\n      <td>1.98%</td>\n    </tr>\n    <tr>\n      <th>3</th>\n      <td>2018-06-06</td>\n      <td>142.8k</td>\n      <td>463720</td>\n      <td>-1.11%</td>\n    </tr>\n    <tr>\n      <th>4</th>\n      <td>2018-06-07</td>\n      <td>144.7k</td>\n      <td>401900</td>\n      <td>1.33%</td>\n    </tr>\n    <tr>\n      <th>5</th>\n      <td>2018-06-08</td>\n      <td>144.4k</td>\n      <td>505520</td>\n      <td>-0.21%</td>\n    </tr>\n    <tr>\n      <th>6</th>\n      <td>2018-06-11</td>\n      <td>147.0k</td>\n      <td>721050</td>\n      <td>1.8%</td>\n    </tr>\n    <tr>\n      <th>7</th>\n      <td>2018-06-12</td>\n      <td>147.7k</td>\n      <td>873690</td>\n      <td>0.48%</td>\n    </tr>\n    <tr>\n      <th>8</th>\n      <td>2018-06-13</td>\n      <td>147.7k</td>\n      <td>472470</td>\n      <td>0.0%</td>\n    </tr>\n    <tr>\n      <th>9</th>\n      <td>2018-06-14</td>\n      <td>146.9k</td>\n      <td>767750</td>\n      <td>-0.54%</td>\n    </tr>\n    <tr>\n      <th>10</th>\n      <td>2018-06-15</td>\n      <td>146.9k</td>\n      <td>1114730</td>\n      <td>0.0%</td>\n    </tr>\n  </tbody>\n</table>\n</div>",
      "text/plain": "          Date   Close   Volume PercentChange\n0   2018-06-01  136.1k  1051610            ?%\n1   2018-06-04  141.6k   965230         4.04%\n2   2018-06-05  144.4k   879160         1.98%\n3   2018-06-06  142.8k   463720        -1.11%\n4   2018-06-07  144.7k   401900         1.33%\n5   2018-06-08  144.4k   505520        -0.21%\n6   2018-06-11  147.0k   721050          1.8%\n7   2018-06-12  147.7k   873690         0.48%\n8   2018-06-13  147.7k   472470          0.0%\n9   2018-06-14  146.9k   767750        -0.54%\n10  2018-06-15  146.9k  1114730          0.0%"
     },
     "execution_count": 3,
     "metadata": {},
     "output_type": "execute_result"
    }
   ],
   "source": [
    "#to_numberic không được có kí tự khác số, dùng accessor df.Close.str.replace('chuổi cần chuyển đồi', 'chuyển muốn chuyển đổi')\n",
    "#dùng assign để thêm vô df\n",
    "df = pd.read_csv('https://raw.githubusercontent.com/Levytan/MIS.2019/master/Data/vnm.csv', header = None)\n",
    "df.columns = ['Date', 'Close', 'Volume', 'PercentChange']\n",
    "df"
   ]
  },
  {
   "cell_type": "code",
   "execution_count": 4,
   "metadata": {},
   "outputs": [
    {
     "data": {
      "text/html": "<div>\n<style scoped>\n    .dataframe tbody tr th:only-of-type {\n        vertical-align: middle;\n    }\n\n    .dataframe tbody tr th {\n        vertical-align: top;\n    }\n\n    .dataframe thead th {\n        text-align: right;\n    }\n</style>\n<table border=\"1\" class=\"dataframe\">\n  <thead>\n    <tr style=\"text-align: right;\">\n      <th></th>\n      <th>Date</th>\n      <th>Close</th>\n      <th>Volume</th>\n      <th>PercentChange</th>\n    </tr>\n  </thead>\n  <tbody>\n    <tr>\n      <th>0</th>\n      <td>2018-06-01</td>\n      <td>136.1k</td>\n      <td>1051610</td>\n      <td>NaN</td>\n    </tr>\n    <tr>\n      <th>1</th>\n      <td>2018-06-04</td>\n      <td>141.6k</td>\n      <td>965230</td>\n      <td>4.04</td>\n    </tr>\n    <tr>\n      <th>2</th>\n      <td>2018-06-05</td>\n      <td>144.4k</td>\n      <td>879160</td>\n      <td>1.98</td>\n    </tr>\n    <tr>\n      <th>3</th>\n      <td>2018-06-06</td>\n      <td>142.8k</td>\n      <td>463720</td>\n      <td>-1.11</td>\n    </tr>\n    <tr>\n      <th>4</th>\n      <td>2018-06-07</td>\n      <td>144.7k</td>\n      <td>401900</td>\n      <td>1.33</td>\n    </tr>\n    <tr>\n      <th>5</th>\n      <td>2018-06-08</td>\n      <td>144.4k</td>\n      <td>505520</td>\n      <td>-0.21</td>\n    </tr>\n    <tr>\n      <th>6</th>\n      <td>2018-06-11</td>\n      <td>147.0k</td>\n      <td>721050</td>\n      <td>1.80</td>\n    </tr>\n    <tr>\n      <th>7</th>\n      <td>2018-06-12</td>\n      <td>147.7k</td>\n      <td>873690</td>\n      <td>0.48</td>\n    </tr>\n    <tr>\n      <th>8</th>\n      <td>2018-06-13</td>\n      <td>147.7k</td>\n      <td>472470</td>\n      <td>0.00</td>\n    </tr>\n    <tr>\n      <th>9</th>\n      <td>2018-06-14</td>\n      <td>146.9k</td>\n      <td>767750</td>\n      <td>-0.54</td>\n    </tr>\n    <tr>\n      <th>10</th>\n      <td>2018-06-15</td>\n      <td>146.9k</td>\n      <td>1114730</td>\n      <td>0.00</td>\n    </tr>\n  </tbody>\n</table>\n</div>",
      "text/plain": "          Date   Close   Volume  PercentChange\n0   2018-06-01  136.1k  1051610            NaN\n1   2018-06-04  141.6k   965230           4.04\n2   2018-06-05  144.4k   879160           1.98\n3   2018-06-06  142.8k   463720          -1.11\n4   2018-06-07  144.7k   401900           1.33\n5   2018-06-08  144.4k   505520          -0.21\n6   2018-06-11  147.0k   721050           1.80\n7   2018-06-12  147.7k   873690           0.48\n8   2018-06-13  147.7k   472470           0.00\n9   2018-06-14  146.9k   767750          -0.54\n10  2018-06-15  146.9k  1114730           0.00"
     },
     "execution_count": 4,
     "metadata": {},
     "output_type": "execute_result"
    }
   ],
   "source": [
    "df = df.assign(PercentChange = df.PercentChange.str.replace('%', ''))\n",
    "df = df.assign(PercentChange = pd.to_numeric(df.PercentChange, errors = 'coerce'))\n",
    "df"
   ]
  },
  {
   "cell_type": "code",
   "execution_count": 5,
   "metadata": {},
   "outputs": [
    {
     "data": {
      "text/html": "<div>\n<style scoped>\n    .dataframe tbody tr th:only-of-type {\n        vertical-align: middle;\n    }\n\n    .dataframe tbody tr th {\n        vertical-align: top;\n    }\n\n    .dataframe thead th {\n        text-align: right;\n    }\n</style>\n<table border=\"1\" class=\"dataframe\">\n  <thead>\n    <tr style=\"text-align: right;\">\n      <th></th>\n      <th>Date</th>\n      <th>Close</th>\n      <th>Volume</th>\n      <th>PercentChange</th>\n    </tr>\n  </thead>\n  <tbody>\n    <tr>\n      <th>0</th>\n      <td>01/06/18</td>\n      <td>136.1k</td>\n      <td>1051610</td>\n      <td>NaN</td>\n    </tr>\n    <tr>\n      <th>1</th>\n      <td>04/06/18</td>\n      <td>141.6k</td>\n      <td>965230</td>\n      <td>4.04</td>\n    </tr>\n    <tr>\n      <th>2</th>\n      <td>05/06/18</td>\n      <td>144.4k</td>\n      <td>879160</td>\n      <td>1.98</td>\n    </tr>\n    <tr>\n      <th>3</th>\n      <td>06/06/18</td>\n      <td>142.8k</td>\n      <td>463720</td>\n      <td>-1.11</td>\n    </tr>\n    <tr>\n      <th>4</th>\n      <td>07/06/18</td>\n      <td>144.7k</td>\n      <td>401900</td>\n      <td>1.33</td>\n    </tr>\n    <tr>\n      <th>5</th>\n      <td>08/06/18</td>\n      <td>144.4k</td>\n      <td>505520</td>\n      <td>-0.21</td>\n    </tr>\n    <tr>\n      <th>6</th>\n      <td>11/06/18</td>\n      <td>147.0k</td>\n      <td>721050</td>\n      <td>1.80</td>\n    </tr>\n    <tr>\n      <th>7</th>\n      <td>12/06/18</td>\n      <td>147.7k</td>\n      <td>873690</td>\n      <td>0.48</td>\n    </tr>\n    <tr>\n      <th>8</th>\n      <td>13/06/18</td>\n      <td>147.7k</td>\n      <td>472470</td>\n      <td>0.00</td>\n    </tr>\n    <tr>\n      <th>9</th>\n      <td>14/06/18</td>\n      <td>146.9k</td>\n      <td>767750</td>\n      <td>-0.54</td>\n    </tr>\n    <tr>\n      <th>10</th>\n      <td>15/06/18</td>\n      <td>146.9k</td>\n      <td>1114730</td>\n      <td>0.00</td>\n    </tr>\n  </tbody>\n</table>\n</div>",
      "text/plain": "        Date   Close   Volume  PercentChange\n0   01/06/18  136.1k  1051610            NaN\n1   04/06/18  141.6k   965230           4.04\n2   05/06/18  144.4k   879160           1.98\n3   06/06/18  142.8k   463720          -1.11\n4   07/06/18  144.7k   401900           1.33\n5   08/06/18  144.4k   505520          -0.21\n6   11/06/18  147.0k   721050           1.80\n7   12/06/18  147.7k   873690           0.48\n8   13/06/18  147.7k   472470           0.00\n9   14/06/18  146.9k   767750          -0.54\n10  15/06/18  146.9k  1114730           0.00"
     },
     "execution_count": 5,
     "metadata": {},
     "output_type": "execute_result"
    }
   ],
   "source": [
    "df = df.assign(Date = pd.to_datetime(df.Date))\n",
    "df = df.assign(Date = df.Date.dt.strftime('%d/%m/%y'))\n",
    "df"
   ]
  },
  {
   "cell_type": "code",
   "execution_count": 6,
   "metadata": {},
   "outputs": [
    {
     "data": {
      "text/html": "<div>\n<style scoped>\n    .dataframe tbody tr th:only-of-type {\n        vertical-align: middle;\n    }\n\n    .dataframe tbody tr th {\n        vertical-align: top;\n    }\n\n    .dataframe thead th {\n        text-align: right;\n    }\n</style>\n<table border=\"1\" class=\"dataframe\">\n  <thead>\n    <tr style=\"text-align: right;\">\n      <th></th>\n      <th>Date</th>\n      <th>Close</th>\n      <th>Volume</th>\n      <th>PercentChange</th>\n    </tr>\n  </thead>\n  <tbody>\n    <tr>\n      <th>0</th>\n      <td>01/06/18</td>\n      <td>136.1k</td>\n      <td>1051610</td>\n      <td>NaN</td>\n    </tr>\n  </tbody>\n</table>\n</div>",
      "text/plain": "       Date   Close   Volume  PercentChange\n0  01/06/18  136.1k  1051610            NaN"
     },
     "execution_count": 6,
     "metadata": {},
     "output_type": "execute_result"
    }
   ],
   "source": [
    "df[df.PercentChange != df.PercentChange]"
   ]
  },
  {
   "cell_type": "code",
   "execution_count": 2,
   "metadata": {},
   "outputs": [
    {
     "data": {
      "text/html": "<div>\n<style scoped>\n    .dataframe tbody tr th:only-of-type {\n        vertical-align: middle;\n    }\n\n    .dataframe tbody tr th {\n        vertical-align: top;\n    }\n\n    .dataframe thead th {\n        text-align: right;\n    }\n</style>\n<table border=\"1\" class=\"dataframe\">\n  <thead>\n    <tr style=\"text-align: right;\">\n      <th></th>\n      <th>sepal_length</th>\n      <th>sepal_width</th>\n      <th>petal_length</th>\n      <th>petal_width</th>\n      <th>class</th>\n    </tr>\n  </thead>\n  <tbody>\n    <tr>\n      <th>0</th>\n      <td>5.1</td>\n      <td>3.5</td>\n      <td>1.4</td>\n      <td>0.2</td>\n      <td>Iris-setosa</td>\n    </tr>\n    <tr>\n      <th>1</th>\n      <td>4.9</td>\n      <td>3.0</td>\n      <td>1.4</td>\n      <td>0.2</td>\n      <td>Iris-setosa</td>\n    </tr>\n    <tr>\n      <th>2</th>\n      <td>4.7</td>\n      <td>3.2</td>\n      <td>1.3</td>\n      <td>0.2</td>\n      <td>Iris-setosa</td>\n    </tr>\n    <tr>\n      <th>3</th>\n      <td>4.6</td>\n      <td>3.1</td>\n      <td>1.5</td>\n      <td>0.2</td>\n      <td>Iris-setosa</td>\n    </tr>\n    <tr>\n      <th>4</th>\n      <td>5.0</td>\n      <td>3.6</td>\n      <td>1.4</td>\n      <td>0.2</td>\n      <td>Iris-setosa</td>\n    </tr>\n    <tr>\n      <th>5</th>\n      <td>5.4</td>\n      <td>3.9</td>\n      <td>1.7</td>\n      <td>0.4</td>\n      <td>Iris-setosa</td>\n    </tr>\n    <tr>\n      <th>6</th>\n      <td>4.6</td>\n      <td>3.4</td>\n      <td>1.4</td>\n      <td>0.3</td>\n      <td>Iris-setosa</td>\n    </tr>\n    <tr>\n      <th>7</th>\n      <td>5.0</td>\n      <td>3.4</td>\n      <td>1.5</td>\n      <td>0.2</td>\n      <td>Iris-setosa</td>\n    </tr>\n    <tr>\n      <th>8</th>\n      <td>4.4</td>\n      <td>2.9</td>\n      <td>1.4</td>\n      <td>0.2</td>\n      <td>Iris-setosa</td>\n    </tr>\n    <tr>\n      <th>9</th>\n      <td>4.9</td>\n      <td>3.1</td>\n      <td>1.5</td>\n      <td>0.1</td>\n      <td>Iris-setosa</td>\n    </tr>\n    <tr>\n      <th>10</th>\n      <td>5.4</td>\n      <td>3.7</td>\n      <td>1.5</td>\n      <td>0.2</td>\n      <td>Iris-setosa</td>\n    </tr>\n    <tr>\n      <th>11</th>\n      <td>4.8</td>\n      <td>3.4</td>\n      <td>1.6</td>\n      <td>0.2</td>\n      <td>Iris-setosa</td>\n    </tr>\n    <tr>\n      <th>12</th>\n      <td>4.8</td>\n      <td>3.0</td>\n      <td>1.4</td>\n      <td>0.1</td>\n      <td>Iris-setosa</td>\n    </tr>\n    <tr>\n      <th>13</th>\n      <td>4.3</td>\n      <td>3.0</td>\n      <td>1.1</td>\n      <td>0.1</td>\n      <td>Iris-setosa</td>\n    </tr>\n    <tr>\n      <th>14</th>\n      <td>5.8</td>\n      <td>4.0</td>\n      <td>1.2</td>\n      <td>0.2</td>\n      <td>Iris-setosa</td>\n    </tr>\n    <tr>\n      <th>15</th>\n      <td>5.7</td>\n      <td>4.4</td>\n      <td>1.5</td>\n      <td>0.4</td>\n      <td>Iris-setosa</td>\n    </tr>\n    <tr>\n      <th>16</th>\n      <td>5.4</td>\n      <td>3.9</td>\n      <td>1.3</td>\n      <td>0.4</td>\n      <td>Iris-setosa</td>\n    </tr>\n    <tr>\n      <th>17</th>\n      <td>5.1</td>\n      <td>3.5</td>\n      <td>1.4</td>\n      <td>0.3</td>\n      <td>Iris-setosa</td>\n    </tr>\n    <tr>\n      <th>18</th>\n      <td>5.7</td>\n      <td>3.8</td>\n      <td>1.7</td>\n      <td>0.3</td>\n      <td>Iris-setosa</td>\n    </tr>\n    <tr>\n      <th>19</th>\n      <td>5.1</td>\n      <td>3.8</td>\n      <td>1.5</td>\n      <td>0.3</td>\n      <td>Iris-setosa</td>\n    </tr>\n    <tr>\n      <th>20</th>\n      <td>5.4</td>\n      <td>3.4</td>\n      <td>1.7</td>\n      <td>0.2</td>\n      <td>Iris-setosa</td>\n    </tr>\n    <tr>\n      <th>21</th>\n      <td>5.1</td>\n      <td>3.7</td>\n      <td>1.5</td>\n      <td>0.4</td>\n      <td>Iris-setosa</td>\n    </tr>\n    <tr>\n      <th>22</th>\n      <td>4.6</td>\n      <td>3.6</td>\n      <td>1.0</td>\n      <td>0.2</td>\n      <td>Iris-setosa</td>\n    </tr>\n    <tr>\n      <th>23</th>\n      <td>5.1</td>\n      <td>3.3</td>\n      <td>1.7</td>\n      <td>0.5</td>\n      <td>Iris-setosa</td>\n    </tr>\n    <tr>\n      <th>24</th>\n      <td>4.8</td>\n      <td>3.4</td>\n      <td>1.9</td>\n      <td>0.2</td>\n      <td>Iris-setosa</td>\n    </tr>\n    <tr>\n      <th>25</th>\n      <td>5.0</td>\n      <td>3.0</td>\n      <td>1.6</td>\n      <td>0.2</td>\n      <td>Iris-setosa</td>\n    </tr>\n    <tr>\n      <th>26</th>\n      <td>5.0</td>\n      <td>3.4</td>\n      <td>1.6</td>\n      <td>0.4</td>\n      <td>Iris-setosa</td>\n    </tr>\n    <tr>\n      <th>27</th>\n      <td>5.2</td>\n      <td>3.5</td>\n      <td>1.5</td>\n      <td>0.2</td>\n      <td>Iris-setosa</td>\n    </tr>\n    <tr>\n      <th>28</th>\n      <td>5.2</td>\n      <td>3.4</td>\n      <td>1.4</td>\n      <td>0.2</td>\n      <td>Iris-setosa</td>\n    </tr>\n    <tr>\n      <th>29</th>\n      <td>4.7</td>\n      <td>3.2</td>\n      <td>1.6</td>\n      <td>0.2</td>\n      <td>Iris-setosa</td>\n    </tr>\n    <tr>\n      <th>...</th>\n      <td>...</td>\n      <td>...</td>\n      <td>...</td>\n      <td>...</td>\n      <td>...</td>\n    </tr>\n    <tr>\n      <th>120</th>\n      <td>6.9</td>\n      <td>3.2</td>\n      <td>5.7</td>\n      <td>2.3</td>\n      <td>Iris-virginica</td>\n    </tr>\n    <tr>\n      <th>121</th>\n      <td>5.6</td>\n      <td>2.8</td>\n      <td>4.9</td>\n      <td>2.0</td>\n      <td>Iris-virginica</td>\n    </tr>\n    <tr>\n      <th>122</th>\n      <td>7.7</td>\n      <td>2.8</td>\n      <td>6.7</td>\n      <td>2.0</td>\n      <td>Iris-virginica</td>\n    </tr>\n    <tr>\n      <th>123</th>\n      <td>6.3</td>\n      <td>2.7</td>\n      <td>4.9</td>\n      <td>1.8</td>\n      <td>Iris-virginica</td>\n    </tr>\n    <tr>\n      <th>124</th>\n      <td>6.7</td>\n      <td>3.3</td>\n      <td>5.7</td>\n      <td>2.1</td>\n      <td>Iris-virginica</td>\n    </tr>\n    <tr>\n      <th>125</th>\n      <td>7.2</td>\n      <td>3.2</td>\n      <td>6.0</td>\n      <td>1.8</td>\n      <td>Iris-virginica</td>\n    </tr>\n    <tr>\n      <th>126</th>\n      <td>6.2</td>\n      <td>2.8</td>\n      <td>4.8</td>\n      <td>1.8</td>\n      <td>Iris-virginica</td>\n    </tr>\n    <tr>\n      <th>127</th>\n      <td>6.1</td>\n      <td>3.0</td>\n      <td>4.9</td>\n      <td>1.8</td>\n      <td>Iris-virginica</td>\n    </tr>\n    <tr>\n      <th>128</th>\n      <td>6.4</td>\n      <td>2.8</td>\n      <td>5.6</td>\n      <td>2.1</td>\n      <td>Iris-virginica</td>\n    </tr>\n    <tr>\n      <th>129</th>\n      <td>7.2</td>\n      <td>3.0</td>\n      <td>5.8</td>\n      <td>1.6</td>\n      <td>Iris-virginica</td>\n    </tr>\n    <tr>\n      <th>130</th>\n      <td>7.4</td>\n      <td>2.8</td>\n      <td>6.1</td>\n      <td>1.9</td>\n      <td>Iris-virginica</td>\n    </tr>\n    <tr>\n      <th>131</th>\n      <td>7.9</td>\n      <td>3.8</td>\n      <td>6.4</td>\n      <td>2.0</td>\n      <td>Iris-virginica</td>\n    </tr>\n    <tr>\n      <th>132</th>\n      <td>6.4</td>\n      <td>2.8</td>\n      <td>5.6</td>\n      <td>2.2</td>\n      <td>Iris-virginica</td>\n    </tr>\n    <tr>\n      <th>133</th>\n      <td>6.3</td>\n      <td>2.8</td>\n      <td>5.1</td>\n      <td>1.5</td>\n      <td>Iris-virginica</td>\n    </tr>\n    <tr>\n      <th>134</th>\n      <td>6.1</td>\n      <td>2.6</td>\n      <td>5.6</td>\n      <td>1.4</td>\n      <td>Iris-virginica</td>\n    </tr>\n    <tr>\n      <th>135</th>\n      <td>7.7</td>\n      <td>3.0</td>\n      <td>6.1</td>\n      <td>2.3</td>\n      <td>Iris-virginica</td>\n    </tr>\n    <tr>\n      <th>136</th>\n      <td>6.3</td>\n      <td>3.4</td>\n      <td>5.6</td>\n      <td>2.4</td>\n      <td>Iris-virginica</td>\n    </tr>\n    <tr>\n      <th>137</th>\n      <td>6.4</td>\n      <td>3.1</td>\n      <td>5.5</td>\n      <td>1.8</td>\n      <td>Iris-virginica</td>\n    </tr>\n    <tr>\n      <th>138</th>\n      <td>6.0</td>\n      <td>3.0</td>\n      <td>4.8</td>\n      <td>1.8</td>\n      <td>Iris-virginica</td>\n    </tr>\n    <tr>\n      <th>139</th>\n      <td>6.9</td>\n      <td>3.1</td>\n      <td>5.4</td>\n      <td>2.1</td>\n      <td>Iris-virginica</td>\n    </tr>\n    <tr>\n      <th>140</th>\n      <td>6.7</td>\n      <td>3.1</td>\n      <td>5.6</td>\n      <td>2.4</td>\n      <td>Iris-virginica</td>\n    </tr>\n    <tr>\n      <th>141</th>\n      <td>6.9</td>\n      <td>3.1</td>\n      <td>5.1</td>\n      <td>2.3</td>\n      <td>Iris-virginica</td>\n    </tr>\n    <tr>\n      <th>142</th>\n      <td>5.8</td>\n      <td>2.7</td>\n      <td>5.1</td>\n      <td>1.9</td>\n      <td>Iris-virginica</td>\n    </tr>\n    <tr>\n      <th>143</th>\n      <td>6.8</td>\n      <td>3.2</td>\n      <td>5.9</td>\n      <td>2.3</td>\n      <td>Iris-virginica</td>\n    </tr>\n    <tr>\n      <th>144</th>\n      <td>6.7</td>\n      <td>3.3</td>\n      <td>5.7</td>\n      <td>2.5</td>\n      <td>Iris-virginica</td>\n    </tr>\n    <tr>\n      <th>145</th>\n      <td>6.7</td>\n      <td>3.0</td>\n      <td>5.2</td>\n      <td>2.3</td>\n      <td>Iris-virginica</td>\n    </tr>\n    <tr>\n      <th>146</th>\n      <td>6.3</td>\n      <td>2.5</td>\n      <td>5.0</td>\n      <td>1.9</td>\n      <td>Iris-virginica</td>\n    </tr>\n    <tr>\n      <th>147</th>\n      <td>6.5</td>\n      <td>3.0</td>\n      <td>5.2</td>\n      <td>2.0</td>\n      <td>Iris-virginica</td>\n    </tr>\n    <tr>\n      <th>148</th>\n      <td>6.2</td>\n      <td>3.4</td>\n      <td>5.4</td>\n      <td>2.3</td>\n      <td>Iris-virginica</td>\n    </tr>\n    <tr>\n      <th>149</th>\n      <td>5.9</td>\n      <td>3.0</td>\n      <td>5.1</td>\n      <td>1.8</td>\n      <td>Iris-virginica</td>\n    </tr>\n  </tbody>\n</table>\n<p>150 rows × 5 columns</p>\n</div>",
      "text/plain": "     sepal_length  sepal_width  petal_length  petal_width           class\n0             5.1          3.5           1.4          0.2     Iris-setosa\n1             4.9          3.0           1.4          0.2     Iris-setosa\n2             4.7          3.2           1.3          0.2     Iris-setosa\n3             4.6          3.1           1.5          0.2     Iris-setosa\n4             5.0          3.6           1.4          0.2     Iris-setosa\n5             5.4          3.9           1.7          0.4     Iris-setosa\n6             4.6          3.4           1.4          0.3     Iris-setosa\n7             5.0          3.4           1.5          0.2     Iris-setosa\n8             4.4          2.9           1.4          0.2     Iris-setosa\n9             4.9          3.1           1.5          0.1     Iris-setosa\n10            5.4          3.7           1.5          0.2     Iris-setosa\n11            4.8          3.4           1.6          0.2     Iris-setosa\n12            4.8          3.0           1.4          0.1     Iris-setosa\n13            4.3          3.0           1.1          0.1     Iris-setosa\n14            5.8          4.0           1.2          0.2     Iris-setosa\n15            5.7          4.4           1.5          0.4     Iris-setosa\n16            5.4          3.9           1.3          0.4     Iris-setosa\n17            5.1          3.5           1.4          0.3     Iris-setosa\n18            5.7          3.8           1.7          0.3     Iris-setosa\n19            5.1          3.8           1.5          0.3     Iris-setosa\n20            5.4          3.4           1.7          0.2     Iris-setosa\n21            5.1          3.7           1.5          0.4     Iris-setosa\n22            4.6          3.6           1.0          0.2     Iris-setosa\n23            5.1          3.3           1.7          0.5     Iris-setosa\n24            4.8          3.4           1.9          0.2     Iris-setosa\n25            5.0          3.0           1.6          0.2     Iris-setosa\n26            5.0          3.4           1.6          0.4     Iris-setosa\n27            5.2          3.5           1.5          0.2     Iris-setosa\n28            5.2          3.4           1.4          0.2     Iris-setosa\n29            4.7          3.2           1.6          0.2     Iris-setosa\n..            ...          ...           ...          ...             ...\n120           6.9          3.2           5.7          2.3  Iris-virginica\n121           5.6          2.8           4.9          2.0  Iris-virginica\n122           7.7          2.8           6.7          2.0  Iris-virginica\n123           6.3          2.7           4.9          1.8  Iris-virginica\n124           6.7          3.3           5.7          2.1  Iris-virginica\n125           7.2          3.2           6.0          1.8  Iris-virginica\n126           6.2          2.8           4.8          1.8  Iris-virginica\n127           6.1          3.0           4.9          1.8  Iris-virginica\n128           6.4          2.8           5.6          2.1  Iris-virginica\n129           7.2          3.0           5.8          1.6  Iris-virginica\n130           7.4          2.8           6.1          1.9  Iris-virginica\n131           7.9          3.8           6.4          2.0  Iris-virginica\n132           6.4          2.8           5.6          2.2  Iris-virginica\n133           6.3          2.8           5.1          1.5  Iris-virginica\n134           6.1          2.6           5.6          1.4  Iris-virginica\n135           7.7          3.0           6.1          2.3  Iris-virginica\n136           6.3          3.4           5.6          2.4  Iris-virginica\n137           6.4          3.1           5.5          1.8  Iris-virginica\n138           6.0          3.0           4.8          1.8  Iris-virginica\n139           6.9          3.1           5.4          2.1  Iris-virginica\n140           6.7          3.1           5.6          2.4  Iris-virginica\n141           6.9          3.1           5.1          2.3  Iris-virginica\n142           5.8          2.7           5.1          1.9  Iris-virginica\n143           6.8          3.2           5.9          2.3  Iris-virginica\n144           6.7          3.3           5.7          2.5  Iris-virginica\n145           6.7          3.0           5.2          2.3  Iris-virginica\n146           6.3          2.5           5.0          1.9  Iris-virginica\n147           6.5          3.0           5.2          2.0  Iris-virginica\n148           6.2          3.4           5.4          2.3  Iris-virginica\n149           5.9          3.0           5.1          1.8  Iris-virginica\n\n[150 rows x 5 columns]"
     },
     "execution_count": 2,
     "metadata": {},
     "output_type": "execute_result"
    }
   ],
   "source": [
    "#Columns = ['sepal-length', 'sepal-width', 'petal-length', 'petal-width', 'type']\n",
    "iris = pd.read_csv(\"https://raw.githubusercontent.com/Levytan/MIS.2019/master/Data/iris.csv\") #, header = None)\n",
    "#iris.columns = Columns\n",
    "iris"
   ]
  },
  {
   "cell_type": "code",
   "execution_count": 8,
   "metadata": {},
   "outputs": [
    {
     "data": {
      "text/plain": "5.0    10\n6.3     9\n5.1     9\n6.7     8\n5.7     8\n5.5     7\n5.8     7\n6.4     7\n6.0     6\n4.9     6\n6.1     6\n5.4     6\n5.6     6\n6.5     5\n4.8     5\n7.7     4\n6.9     4\n5.2     4\n6.2     4\n4.6     4\n7.2     3\n6.8     3\n4.4     3\n5.9     3\n6.6     2\n4.7     2\n7.6     1\n7.4     1\n4.3     1\n7.9     1\n7.3     1\n7.0     1\n4.5     1\n5.3     1\n7.1     1\nName: sepal-length, dtype: int64"
     },
     "execution_count": 8,
     "metadata": {},
     "output_type": "execute_result"
    }
   ],
   "source": [
    "iris['sepal-length'].value_counts()"
   ]
  },
  {
   "cell_type": "code",
   "execution_count": 9,
   "metadata": {},
   "outputs": [
    {
     "data": {
      "text/plain": "array([5.1, 4.9, 4.7, 4.6, 5. , 5.4, 4.4, 4.8, 4.3, 5.8, 5.7, 5.2, 5.5,\n       4.5, 5.3, 7. , 6.4, 6.9, 6.5, 6.3, 6.6, 5.9, 6. , 6.1, 5.6, 6.7,\n       6.2, 6.8, 7.1, 7.6, 7.3, 7.2, 7.7, 7.4, 7.9])"
     },
     "execution_count": 9,
     "metadata": {},
     "output_type": "execute_result"
    }
   ],
   "source": [
    "iris['sepal-length'].unique()"
   ]
  },
  {
   "cell_type": "code",
   "execution_count": 13,
   "metadata": {},
   "outputs": [
    {
     "data": {
      "text/plain": "[Iris-setosa, Iris-setosa, Iris-setosa, Iris-setosa, Iris-setosa, ..., Iris-virginica, Iris-virginica, Iris-virginica, Iris-virginica, Iris-virginica]\nLength: 150\nCategories (3, object): [Iris-setosa, Iris-versicolor, Iris-virginica]"
     },
     "execution_count": 13,
     "metadata": {},
     "output_type": "execute_result"
    }
   ],
   "source": [
    "df2 = pd.Categorical(iris.type)\n",
    "df2"
   ]
  },
  {
   "cell_type": "code",
   "execution_count": 12,
   "metadata": {},
   "outputs": [
    {
     "data": {
      "text/plain": "CategoricalDtype(categories=['Iris-setosa', 'Iris-versicolor', 'Iris-virginica'], ordered=False)"
     },
     "execution_count": 12,
     "metadata": {},
     "output_type": "execute_result"
    }
   ],
   "source": [
    "df2.dtype"
   ]
  },
  {
   "cell_type": "code",
   "execution_count": 18,
   "metadata": {},
   "outputs": [
    {
     "data": {
      "text/html": "<div>\n<style scoped>\n    .dataframe tbody tr th:only-of-type {\n        vertical-align: middle;\n    }\n\n    .dataframe tbody tr th {\n        vertical-align: top;\n    }\n\n    .dataframe thead th {\n        text-align: right;\n    }\n</style>\n<table border=\"1\" class=\"dataframe\">\n  <thead>\n    <tr style=\"text-align: right;\">\n      <th></th>\n      <th>sepal-length</th>\n      <th>sepal-width</th>\n      <th>petal-length</th>\n      <th>petal-width</th>\n      <th>type</th>\n    </tr>\n  </thead>\n  <tbody>\n    <tr>\n      <th>0</th>\n      <td>5.1</td>\n      <td>3.5</td>\n      <td>1.4</td>\n      <td>0.2</td>\n      <td>Iris-setosa</td>\n    </tr>\n    <tr>\n      <th>1</th>\n      <td>4.9</td>\n      <td>3.0</td>\n      <td>1.4</td>\n      <td>0.2</td>\n      <td>Iris-setosa</td>\n    </tr>\n    <tr>\n      <th>2</th>\n      <td>4.7</td>\n      <td>3.2</td>\n      <td>1.3</td>\n      <td>0.2</td>\n      <td>Iris-setosa</td>\n    </tr>\n    <tr>\n      <th>3</th>\n      <td>4.6</td>\n      <td>3.1</td>\n      <td>1.5</td>\n      <td>0.2</td>\n      <td>Iris-setosa</td>\n    </tr>\n    <tr>\n      <th>4</th>\n      <td>5.0</td>\n      <td>3.6</td>\n      <td>1.4</td>\n      <td>0.2</td>\n      <td>Iris-setosa</td>\n    </tr>\n    <tr>\n      <th>5</th>\n      <td>5.4</td>\n      <td>3.9</td>\n      <td>1.7</td>\n      <td>0.4</td>\n      <td>Iris-setosa</td>\n    </tr>\n    <tr>\n      <th>6</th>\n      <td>4.6</td>\n      <td>3.4</td>\n      <td>1.4</td>\n      <td>0.3</td>\n      <td>Iris-setosa</td>\n    </tr>\n    <tr>\n      <th>7</th>\n      <td>5.0</td>\n      <td>3.4</td>\n      <td>1.5</td>\n      <td>0.2</td>\n      <td>Iris-setosa</td>\n    </tr>\n    <tr>\n      <th>8</th>\n      <td>4.4</td>\n      <td>2.9</td>\n      <td>1.4</td>\n      <td>0.2</td>\n      <td>Iris-setosa</td>\n    </tr>\n    <tr>\n      <th>9</th>\n      <td>4.9</td>\n      <td>3.1</td>\n      <td>1.5</td>\n      <td>0.1</td>\n      <td>Iris-setosa</td>\n    </tr>\n    <tr>\n      <th>10</th>\n      <td>5.4</td>\n      <td>3.7</td>\n      <td>1.5</td>\n      <td>0.2</td>\n      <td>Iris-setosa</td>\n    </tr>\n    <tr>\n      <th>11</th>\n      <td>4.8</td>\n      <td>3.4</td>\n      <td>1.6</td>\n      <td>0.2</td>\n      <td>Iris-setosa</td>\n    </tr>\n    <tr>\n      <th>12</th>\n      <td>4.8</td>\n      <td>3.0</td>\n      <td>1.4</td>\n      <td>0.1</td>\n      <td>Iris-setosa</td>\n    </tr>\n    <tr>\n      <th>13</th>\n      <td>4.3</td>\n      <td>3.0</td>\n      <td>1.1</td>\n      <td>0.1</td>\n      <td>Iris-setosa</td>\n    </tr>\n    <tr>\n      <th>14</th>\n      <td>5.8</td>\n      <td>4.0</td>\n      <td>1.2</td>\n      <td>0.2</td>\n      <td>Iris-setosa</td>\n    </tr>\n    <tr>\n      <th>15</th>\n      <td>5.7</td>\n      <td>4.4</td>\n      <td>1.5</td>\n      <td>0.4</td>\n      <td>Iris-setosa</td>\n    </tr>\n    <tr>\n      <th>16</th>\n      <td>5.4</td>\n      <td>3.9</td>\n      <td>1.3</td>\n      <td>0.4</td>\n      <td>Iris-setosa</td>\n    </tr>\n    <tr>\n      <th>17</th>\n      <td>5.1</td>\n      <td>3.5</td>\n      <td>1.4</td>\n      <td>0.3</td>\n      <td>Iris-setosa</td>\n    </tr>\n    <tr>\n      <th>18</th>\n      <td>5.7</td>\n      <td>3.8</td>\n      <td>1.7</td>\n      <td>0.3</td>\n      <td>Iris-setosa</td>\n    </tr>\n    <tr>\n      <th>19</th>\n      <td>5.1</td>\n      <td>3.8</td>\n      <td>1.5</td>\n      <td>0.3</td>\n      <td>Iris-setosa</td>\n    </tr>\n    <tr>\n      <th>20</th>\n      <td>5.4</td>\n      <td>3.4</td>\n      <td>1.7</td>\n      <td>0.2</td>\n      <td>Iris-setosa</td>\n    </tr>\n    <tr>\n      <th>21</th>\n      <td>5.1</td>\n      <td>3.7</td>\n      <td>1.5</td>\n      <td>0.4</td>\n      <td>Iris-setosa</td>\n    </tr>\n    <tr>\n      <th>22</th>\n      <td>4.6</td>\n      <td>3.6</td>\n      <td>1.0</td>\n      <td>0.2</td>\n      <td>Iris-setosa</td>\n    </tr>\n    <tr>\n      <th>23</th>\n      <td>5.1</td>\n      <td>3.3</td>\n      <td>1.7</td>\n      <td>0.5</td>\n      <td>Iris-setosa</td>\n    </tr>\n    <tr>\n      <th>24</th>\n      <td>4.8</td>\n      <td>3.4</td>\n      <td>1.9</td>\n      <td>0.2</td>\n      <td>Iris-setosa</td>\n    </tr>\n    <tr>\n      <th>25</th>\n      <td>5.0</td>\n      <td>3.0</td>\n      <td>1.6</td>\n      <td>0.2</td>\n      <td>Iris-setosa</td>\n    </tr>\n    <tr>\n      <th>26</th>\n      <td>5.0</td>\n      <td>3.4</td>\n      <td>1.6</td>\n      <td>0.4</td>\n      <td>Iris-setosa</td>\n    </tr>\n    <tr>\n      <th>27</th>\n      <td>5.2</td>\n      <td>3.5</td>\n      <td>1.5</td>\n      <td>0.2</td>\n      <td>Iris-setosa</td>\n    </tr>\n    <tr>\n      <th>28</th>\n      <td>5.2</td>\n      <td>3.4</td>\n      <td>1.4</td>\n      <td>0.2</td>\n      <td>Iris-setosa</td>\n    </tr>\n    <tr>\n      <th>29</th>\n      <td>4.7</td>\n      <td>3.2</td>\n      <td>1.6</td>\n      <td>0.2</td>\n      <td>Iris-setosa</td>\n    </tr>\n    <tr>\n      <th>...</th>\n      <td>...</td>\n      <td>...</td>\n      <td>...</td>\n      <td>...</td>\n      <td>...</td>\n    </tr>\n    <tr>\n      <th>120</th>\n      <td>6.9</td>\n      <td>3.2</td>\n      <td>5.7</td>\n      <td>2.3</td>\n      <td>Iris-virginica</td>\n    </tr>\n    <tr>\n      <th>121</th>\n      <td>5.6</td>\n      <td>2.8</td>\n      <td>4.9</td>\n      <td>2.0</td>\n      <td>Iris-virginica</td>\n    </tr>\n    <tr>\n      <th>122</th>\n      <td>7.7</td>\n      <td>2.8</td>\n      <td>6.7</td>\n      <td>2.0</td>\n      <td>Iris-virginica</td>\n    </tr>\n    <tr>\n      <th>123</th>\n      <td>6.3</td>\n      <td>2.7</td>\n      <td>4.9</td>\n      <td>1.8</td>\n      <td>Iris-virginica</td>\n    </tr>\n    <tr>\n      <th>124</th>\n      <td>6.7</td>\n      <td>3.3</td>\n      <td>5.7</td>\n      <td>2.1</td>\n      <td>Iris-virginica</td>\n    </tr>\n    <tr>\n      <th>125</th>\n      <td>7.2</td>\n      <td>3.2</td>\n      <td>6.0</td>\n      <td>1.8</td>\n      <td>Iris-virginica</td>\n    </tr>\n    <tr>\n      <th>126</th>\n      <td>6.2</td>\n      <td>2.8</td>\n      <td>4.8</td>\n      <td>1.8</td>\n      <td>Iris-virginica</td>\n    </tr>\n    <tr>\n      <th>127</th>\n      <td>6.1</td>\n      <td>3.0</td>\n      <td>4.9</td>\n      <td>1.8</td>\n      <td>Iris-virginica</td>\n    </tr>\n    <tr>\n      <th>128</th>\n      <td>6.4</td>\n      <td>2.8</td>\n      <td>5.6</td>\n      <td>2.1</td>\n      <td>Iris-virginica</td>\n    </tr>\n    <tr>\n      <th>129</th>\n      <td>7.2</td>\n      <td>3.0</td>\n      <td>5.8</td>\n      <td>1.6</td>\n      <td>Iris-virginica</td>\n    </tr>\n    <tr>\n      <th>130</th>\n      <td>7.4</td>\n      <td>2.8</td>\n      <td>6.1</td>\n      <td>1.9</td>\n      <td>Iris-virginica</td>\n    </tr>\n    <tr>\n      <th>131</th>\n      <td>7.9</td>\n      <td>3.8</td>\n      <td>6.4</td>\n      <td>2.0</td>\n      <td>Iris-virginica</td>\n    </tr>\n    <tr>\n      <th>132</th>\n      <td>6.4</td>\n      <td>2.8</td>\n      <td>5.6</td>\n      <td>2.2</td>\n      <td>Iris-virginica</td>\n    </tr>\n    <tr>\n      <th>133</th>\n      <td>6.3</td>\n      <td>2.8</td>\n      <td>5.1</td>\n      <td>1.5</td>\n      <td>Iris-virginica</td>\n    </tr>\n    <tr>\n      <th>134</th>\n      <td>6.1</td>\n      <td>2.6</td>\n      <td>5.6</td>\n      <td>1.4</td>\n      <td>Iris-virginica</td>\n    </tr>\n    <tr>\n      <th>135</th>\n      <td>7.7</td>\n      <td>3.0</td>\n      <td>6.1</td>\n      <td>2.3</td>\n      <td>Iris-virginica</td>\n    </tr>\n    <tr>\n      <th>136</th>\n      <td>6.3</td>\n      <td>3.4</td>\n      <td>5.6</td>\n      <td>2.4</td>\n      <td>Iris-virginica</td>\n    </tr>\n    <tr>\n      <th>137</th>\n      <td>6.4</td>\n      <td>3.1</td>\n      <td>5.5</td>\n      <td>1.8</td>\n      <td>Iris-virginica</td>\n    </tr>\n    <tr>\n      <th>138</th>\n      <td>6.0</td>\n      <td>3.0</td>\n      <td>4.8</td>\n      <td>1.8</td>\n      <td>Iris-virginica</td>\n    </tr>\n    <tr>\n      <th>139</th>\n      <td>6.9</td>\n      <td>3.1</td>\n      <td>5.4</td>\n      <td>2.1</td>\n      <td>Iris-virginica</td>\n    </tr>\n    <tr>\n      <th>140</th>\n      <td>6.7</td>\n      <td>3.1</td>\n      <td>5.6</td>\n      <td>2.4</td>\n      <td>Iris-virginica</td>\n    </tr>\n    <tr>\n      <th>141</th>\n      <td>6.9</td>\n      <td>3.1</td>\n      <td>5.1</td>\n      <td>2.3</td>\n      <td>Iris-virginica</td>\n    </tr>\n    <tr>\n      <th>142</th>\n      <td>5.8</td>\n      <td>2.7</td>\n      <td>5.1</td>\n      <td>1.9</td>\n      <td>Iris-virginica</td>\n    </tr>\n    <tr>\n      <th>143</th>\n      <td>6.8</td>\n      <td>3.2</td>\n      <td>5.9</td>\n      <td>2.3</td>\n      <td>Iris-virginica</td>\n    </tr>\n    <tr>\n      <th>144</th>\n      <td>6.7</td>\n      <td>3.3</td>\n      <td>5.7</td>\n      <td>2.5</td>\n      <td>Iris-virginica</td>\n    </tr>\n    <tr>\n      <th>145</th>\n      <td>6.7</td>\n      <td>3.0</td>\n      <td>5.2</td>\n      <td>2.3</td>\n      <td>Iris-virginica</td>\n    </tr>\n    <tr>\n      <th>146</th>\n      <td>6.3</td>\n      <td>2.5</td>\n      <td>5.0</td>\n      <td>1.9</td>\n      <td>Iris-virginica</td>\n    </tr>\n    <tr>\n      <th>147</th>\n      <td>6.5</td>\n      <td>3.0</td>\n      <td>5.2</td>\n      <td>2.0</td>\n      <td>Iris-virginica</td>\n    </tr>\n    <tr>\n      <th>148</th>\n      <td>6.2</td>\n      <td>3.4</td>\n      <td>5.4</td>\n      <td>2.3</td>\n      <td>Iris-virginica</td>\n    </tr>\n    <tr>\n      <th>149</th>\n      <td>5.9</td>\n      <td>3.0</td>\n      <td>5.1</td>\n      <td>1.8</td>\n      <td>Iris-virginica</td>\n    </tr>\n  </tbody>\n</table>\n<p>150 rows × 5 columns</p>\n</div>",
      "text/plain": "     sepal-length  sepal-width  petal-length  petal-width            type\n0             5.1          3.5           1.4          0.2     Iris-setosa\n1             4.9          3.0           1.4          0.2     Iris-setosa\n2             4.7          3.2           1.3          0.2     Iris-setosa\n3             4.6          3.1           1.5          0.2     Iris-setosa\n4             5.0          3.6           1.4          0.2     Iris-setosa\n5             5.4          3.9           1.7          0.4     Iris-setosa\n6             4.6          3.4           1.4          0.3     Iris-setosa\n7             5.0          3.4           1.5          0.2     Iris-setosa\n8             4.4          2.9           1.4          0.2     Iris-setosa\n9             4.9          3.1           1.5          0.1     Iris-setosa\n10            5.4          3.7           1.5          0.2     Iris-setosa\n11            4.8          3.4           1.6          0.2     Iris-setosa\n12            4.8          3.0           1.4          0.1     Iris-setosa\n13            4.3          3.0           1.1          0.1     Iris-setosa\n14            5.8          4.0           1.2          0.2     Iris-setosa\n15            5.7          4.4           1.5          0.4     Iris-setosa\n16            5.4          3.9           1.3          0.4     Iris-setosa\n17            5.1          3.5           1.4          0.3     Iris-setosa\n18            5.7          3.8           1.7          0.3     Iris-setosa\n19            5.1          3.8           1.5          0.3     Iris-setosa\n20            5.4          3.4           1.7          0.2     Iris-setosa\n21            5.1          3.7           1.5          0.4     Iris-setosa\n22            4.6          3.6           1.0          0.2     Iris-setosa\n23            5.1          3.3           1.7          0.5     Iris-setosa\n24            4.8          3.4           1.9          0.2     Iris-setosa\n25            5.0          3.0           1.6          0.2     Iris-setosa\n26            5.0          3.4           1.6          0.4     Iris-setosa\n27            5.2          3.5           1.5          0.2     Iris-setosa\n28            5.2          3.4           1.4          0.2     Iris-setosa\n29            4.7          3.2           1.6          0.2     Iris-setosa\n..            ...          ...           ...          ...             ...\n120           6.9          3.2           5.7          2.3  Iris-virginica\n121           5.6          2.8           4.9          2.0  Iris-virginica\n122           7.7          2.8           6.7          2.0  Iris-virginica\n123           6.3          2.7           4.9          1.8  Iris-virginica\n124           6.7          3.3           5.7          2.1  Iris-virginica\n125           7.2          3.2           6.0          1.8  Iris-virginica\n126           6.2          2.8           4.8          1.8  Iris-virginica\n127           6.1          3.0           4.9          1.8  Iris-virginica\n128           6.4          2.8           5.6          2.1  Iris-virginica\n129           7.2          3.0           5.8          1.6  Iris-virginica\n130           7.4          2.8           6.1          1.9  Iris-virginica\n131           7.9          3.8           6.4          2.0  Iris-virginica\n132           6.4          2.8           5.6          2.2  Iris-virginica\n133           6.3          2.8           5.1          1.5  Iris-virginica\n134           6.1          2.6           5.6          1.4  Iris-virginica\n135           7.7          3.0           6.1          2.3  Iris-virginica\n136           6.3          3.4           5.6          2.4  Iris-virginica\n137           6.4          3.1           5.5          1.8  Iris-virginica\n138           6.0          3.0           4.8          1.8  Iris-virginica\n139           6.9          3.1           5.4          2.1  Iris-virginica\n140           6.7          3.1           5.6          2.4  Iris-virginica\n141           6.9          3.1           5.1          2.3  Iris-virginica\n142           5.8          2.7           5.1          1.9  Iris-virginica\n143           6.8          3.2           5.9          2.3  Iris-virginica\n144           6.7          3.3           5.7          2.5  Iris-virginica\n145           6.7          3.0           5.2          2.3  Iris-virginica\n146           6.3          2.5           5.0          1.9  Iris-virginica\n147           6.5          3.0           5.2          2.0  Iris-virginica\n148           6.2          3.4           5.4          2.3  Iris-virginica\n149           5.9          3.0           5.1          1.8  Iris-virginica\n\n[150 rows x 5 columns]"
     },
     "execution_count": 18,
     "metadata": {},
     "output_type": "execute_result"
    }
   ],
   "source": [
    "iris_2 = iris.assign(type = pd.Categorical(iris.type))\n",
    "iris_2"
   ]
  },
  {
   "cell_type": "code",
   "execution_count": 19,
   "metadata": {},
   "outputs": [
    {
     "data": {
      "text/html": "<div>\n<style scoped>\n    .dataframe tbody tr th:only-of-type {\n        vertical-align: middle;\n    }\n\n    .dataframe tbody tr th {\n        vertical-align: top;\n    }\n\n    .dataframe thead th {\n        text-align: right;\n    }\n</style>\n<table border=\"1\" class=\"dataframe\">\n  <thead>\n    <tr style=\"text-align: right;\">\n      <th></th>\n      <th>sepal-length</th>\n      <th>sepal-width</th>\n      <th>petal-length</th>\n      <th>petal-width</th>\n      <th>type</th>\n    </tr>\n  </thead>\n  <tbody>\n    <tr>\n      <th>0</th>\n      <td>5.1</td>\n      <td>3.5</td>\n      <td>1.4</td>\n      <td>0.2</td>\n      <td>0</td>\n    </tr>\n    <tr>\n      <th>1</th>\n      <td>4.9</td>\n      <td>3.0</td>\n      <td>1.4</td>\n      <td>0.2</td>\n      <td>0</td>\n    </tr>\n    <tr>\n      <th>2</th>\n      <td>4.7</td>\n      <td>3.2</td>\n      <td>1.3</td>\n      <td>0.2</td>\n      <td>0</td>\n    </tr>\n    <tr>\n      <th>3</th>\n      <td>4.6</td>\n      <td>3.1</td>\n      <td>1.5</td>\n      <td>0.2</td>\n      <td>0</td>\n    </tr>\n    <tr>\n      <th>4</th>\n      <td>5.0</td>\n      <td>3.6</td>\n      <td>1.4</td>\n      <td>0.2</td>\n      <td>0</td>\n    </tr>\n    <tr>\n      <th>5</th>\n      <td>5.4</td>\n      <td>3.9</td>\n      <td>1.7</td>\n      <td>0.4</td>\n      <td>0</td>\n    </tr>\n    <tr>\n      <th>6</th>\n      <td>4.6</td>\n      <td>3.4</td>\n      <td>1.4</td>\n      <td>0.3</td>\n      <td>0</td>\n    </tr>\n    <tr>\n      <th>7</th>\n      <td>5.0</td>\n      <td>3.4</td>\n      <td>1.5</td>\n      <td>0.2</td>\n      <td>0</td>\n    </tr>\n    <tr>\n      <th>8</th>\n      <td>4.4</td>\n      <td>2.9</td>\n      <td>1.4</td>\n      <td>0.2</td>\n      <td>0</td>\n    </tr>\n    <tr>\n      <th>9</th>\n      <td>4.9</td>\n      <td>3.1</td>\n      <td>1.5</td>\n      <td>0.1</td>\n      <td>0</td>\n    </tr>\n    <tr>\n      <th>10</th>\n      <td>5.4</td>\n      <td>3.7</td>\n      <td>1.5</td>\n      <td>0.2</td>\n      <td>0</td>\n    </tr>\n    <tr>\n      <th>11</th>\n      <td>4.8</td>\n      <td>3.4</td>\n      <td>1.6</td>\n      <td>0.2</td>\n      <td>0</td>\n    </tr>\n    <tr>\n      <th>12</th>\n      <td>4.8</td>\n      <td>3.0</td>\n      <td>1.4</td>\n      <td>0.1</td>\n      <td>0</td>\n    </tr>\n    <tr>\n      <th>13</th>\n      <td>4.3</td>\n      <td>3.0</td>\n      <td>1.1</td>\n      <td>0.1</td>\n      <td>0</td>\n    </tr>\n    <tr>\n      <th>14</th>\n      <td>5.8</td>\n      <td>4.0</td>\n      <td>1.2</td>\n      <td>0.2</td>\n      <td>0</td>\n    </tr>\n    <tr>\n      <th>15</th>\n      <td>5.7</td>\n      <td>4.4</td>\n      <td>1.5</td>\n      <td>0.4</td>\n      <td>0</td>\n    </tr>\n    <tr>\n      <th>16</th>\n      <td>5.4</td>\n      <td>3.9</td>\n      <td>1.3</td>\n      <td>0.4</td>\n      <td>0</td>\n    </tr>\n    <tr>\n      <th>17</th>\n      <td>5.1</td>\n      <td>3.5</td>\n      <td>1.4</td>\n      <td>0.3</td>\n      <td>0</td>\n    </tr>\n    <tr>\n      <th>18</th>\n      <td>5.7</td>\n      <td>3.8</td>\n      <td>1.7</td>\n      <td>0.3</td>\n      <td>0</td>\n    </tr>\n    <tr>\n      <th>19</th>\n      <td>5.1</td>\n      <td>3.8</td>\n      <td>1.5</td>\n      <td>0.3</td>\n      <td>0</td>\n    </tr>\n    <tr>\n      <th>20</th>\n      <td>5.4</td>\n      <td>3.4</td>\n      <td>1.7</td>\n      <td>0.2</td>\n      <td>0</td>\n    </tr>\n    <tr>\n      <th>21</th>\n      <td>5.1</td>\n      <td>3.7</td>\n      <td>1.5</td>\n      <td>0.4</td>\n      <td>0</td>\n    </tr>\n    <tr>\n      <th>22</th>\n      <td>4.6</td>\n      <td>3.6</td>\n      <td>1.0</td>\n      <td>0.2</td>\n      <td>0</td>\n    </tr>\n    <tr>\n      <th>23</th>\n      <td>5.1</td>\n      <td>3.3</td>\n      <td>1.7</td>\n      <td>0.5</td>\n      <td>0</td>\n    </tr>\n    <tr>\n      <th>24</th>\n      <td>4.8</td>\n      <td>3.4</td>\n      <td>1.9</td>\n      <td>0.2</td>\n      <td>0</td>\n    </tr>\n    <tr>\n      <th>25</th>\n      <td>5.0</td>\n      <td>3.0</td>\n      <td>1.6</td>\n      <td>0.2</td>\n      <td>0</td>\n    </tr>\n    <tr>\n      <th>26</th>\n      <td>5.0</td>\n      <td>3.4</td>\n      <td>1.6</td>\n      <td>0.4</td>\n      <td>0</td>\n    </tr>\n    <tr>\n      <th>27</th>\n      <td>5.2</td>\n      <td>3.5</td>\n      <td>1.5</td>\n      <td>0.2</td>\n      <td>0</td>\n    </tr>\n    <tr>\n      <th>28</th>\n      <td>5.2</td>\n      <td>3.4</td>\n      <td>1.4</td>\n      <td>0.2</td>\n      <td>0</td>\n    </tr>\n    <tr>\n      <th>29</th>\n      <td>4.7</td>\n      <td>3.2</td>\n      <td>1.6</td>\n      <td>0.2</td>\n      <td>0</td>\n    </tr>\n    <tr>\n      <th>...</th>\n      <td>...</td>\n      <td>...</td>\n      <td>...</td>\n      <td>...</td>\n      <td>...</td>\n    </tr>\n    <tr>\n      <th>120</th>\n      <td>6.9</td>\n      <td>3.2</td>\n      <td>5.7</td>\n      <td>2.3</td>\n      <td>2</td>\n    </tr>\n    <tr>\n      <th>121</th>\n      <td>5.6</td>\n      <td>2.8</td>\n      <td>4.9</td>\n      <td>2.0</td>\n      <td>2</td>\n    </tr>\n    <tr>\n      <th>122</th>\n      <td>7.7</td>\n      <td>2.8</td>\n      <td>6.7</td>\n      <td>2.0</td>\n      <td>2</td>\n    </tr>\n    <tr>\n      <th>123</th>\n      <td>6.3</td>\n      <td>2.7</td>\n      <td>4.9</td>\n      <td>1.8</td>\n      <td>2</td>\n    </tr>\n    <tr>\n      <th>124</th>\n      <td>6.7</td>\n      <td>3.3</td>\n      <td>5.7</td>\n      <td>2.1</td>\n      <td>2</td>\n    </tr>\n    <tr>\n      <th>125</th>\n      <td>7.2</td>\n      <td>3.2</td>\n      <td>6.0</td>\n      <td>1.8</td>\n      <td>2</td>\n    </tr>\n    <tr>\n      <th>126</th>\n      <td>6.2</td>\n      <td>2.8</td>\n      <td>4.8</td>\n      <td>1.8</td>\n      <td>2</td>\n    </tr>\n    <tr>\n      <th>127</th>\n      <td>6.1</td>\n      <td>3.0</td>\n      <td>4.9</td>\n      <td>1.8</td>\n      <td>2</td>\n    </tr>\n    <tr>\n      <th>128</th>\n      <td>6.4</td>\n      <td>2.8</td>\n      <td>5.6</td>\n      <td>2.1</td>\n      <td>2</td>\n    </tr>\n    <tr>\n      <th>129</th>\n      <td>7.2</td>\n      <td>3.0</td>\n      <td>5.8</td>\n      <td>1.6</td>\n      <td>2</td>\n    </tr>\n    <tr>\n      <th>130</th>\n      <td>7.4</td>\n      <td>2.8</td>\n      <td>6.1</td>\n      <td>1.9</td>\n      <td>2</td>\n    </tr>\n    <tr>\n      <th>131</th>\n      <td>7.9</td>\n      <td>3.8</td>\n      <td>6.4</td>\n      <td>2.0</td>\n      <td>2</td>\n    </tr>\n    <tr>\n      <th>132</th>\n      <td>6.4</td>\n      <td>2.8</td>\n      <td>5.6</td>\n      <td>2.2</td>\n      <td>2</td>\n    </tr>\n    <tr>\n      <th>133</th>\n      <td>6.3</td>\n      <td>2.8</td>\n      <td>5.1</td>\n      <td>1.5</td>\n      <td>2</td>\n    </tr>\n    <tr>\n      <th>134</th>\n      <td>6.1</td>\n      <td>2.6</td>\n      <td>5.6</td>\n      <td>1.4</td>\n      <td>2</td>\n    </tr>\n    <tr>\n      <th>135</th>\n      <td>7.7</td>\n      <td>3.0</td>\n      <td>6.1</td>\n      <td>2.3</td>\n      <td>2</td>\n    </tr>\n    <tr>\n      <th>136</th>\n      <td>6.3</td>\n      <td>3.4</td>\n      <td>5.6</td>\n      <td>2.4</td>\n      <td>2</td>\n    </tr>\n    <tr>\n      <th>137</th>\n      <td>6.4</td>\n      <td>3.1</td>\n      <td>5.5</td>\n      <td>1.8</td>\n      <td>2</td>\n    </tr>\n    <tr>\n      <th>138</th>\n      <td>6.0</td>\n      <td>3.0</td>\n      <td>4.8</td>\n      <td>1.8</td>\n      <td>2</td>\n    </tr>\n    <tr>\n      <th>139</th>\n      <td>6.9</td>\n      <td>3.1</td>\n      <td>5.4</td>\n      <td>2.1</td>\n      <td>2</td>\n    </tr>\n    <tr>\n      <th>140</th>\n      <td>6.7</td>\n      <td>3.1</td>\n      <td>5.6</td>\n      <td>2.4</td>\n      <td>2</td>\n    </tr>\n    <tr>\n      <th>141</th>\n      <td>6.9</td>\n      <td>3.1</td>\n      <td>5.1</td>\n      <td>2.3</td>\n      <td>2</td>\n    </tr>\n    <tr>\n      <th>142</th>\n      <td>5.8</td>\n      <td>2.7</td>\n      <td>5.1</td>\n      <td>1.9</td>\n      <td>2</td>\n    </tr>\n    <tr>\n      <th>143</th>\n      <td>6.8</td>\n      <td>3.2</td>\n      <td>5.9</td>\n      <td>2.3</td>\n      <td>2</td>\n    </tr>\n    <tr>\n      <th>144</th>\n      <td>6.7</td>\n      <td>3.3</td>\n      <td>5.7</td>\n      <td>2.5</td>\n      <td>2</td>\n    </tr>\n    <tr>\n      <th>145</th>\n      <td>6.7</td>\n      <td>3.0</td>\n      <td>5.2</td>\n      <td>2.3</td>\n      <td>2</td>\n    </tr>\n    <tr>\n      <th>146</th>\n      <td>6.3</td>\n      <td>2.5</td>\n      <td>5.0</td>\n      <td>1.9</td>\n      <td>2</td>\n    </tr>\n    <tr>\n      <th>147</th>\n      <td>6.5</td>\n      <td>3.0</td>\n      <td>5.2</td>\n      <td>2.0</td>\n      <td>2</td>\n    </tr>\n    <tr>\n      <th>148</th>\n      <td>6.2</td>\n      <td>3.4</td>\n      <td>5.4</td>\n      <td>2.3</td>\n      <td>2</td>\n    </tr>\n    <tr>\n      <th>149</th>\n      <td>5.9</td>\n      <td>3.0</td>\n      <td>5.1</td>\n      <td>1.8</td>\n      <td>2</td>\n    </tr>\n  </tbody>\n</table>\n<p>150 rows × 5 columns</p>\n</div>",
      "text/plain": "     sepal-length  sepal-width  petal-length  petal-width  type\n0             5.1          3.5           1.4          0.2     0\n1             4.9          3.0           1.4          0.2     0\n2             4.7          3.2           1.3          0.2     0\n3             4.6          3.1           1.5          0.2     0\n4             5.0          3.6           1.4          0.2     0\n5             5.4          3.9           1.7          0.4     0\n6             4.6          3.4           1.4          0.3     0\n7             5.0          3.4           1.5          0.2     0\n8             4.4          2.9           1.4          0.2     0\n9             4.9          3.1           1.5          0.1     0\n10            5.4          3.7           1.5          0.2     0\n11            4.8          3.4           1.6          0.2     0\n12            4.8          3.0           1.4          0.1     0\n13            4.3          3.0           1.1          0.1     0\n14            5.8          4.0           1.2          0.2     0\n15            5.7          4.4           1.5          0.4     0\n16            5.4          3.9           1.3          0.4     0\n17            5.1          3.5           1.4          0.3     0\n18            5.7          3.8           1.7          0.3     0\n19            5.1          3.8           1.5          0.3     0\n20            5.4          3.4           1.7          0.2     0\n21            5.1          3.7           1.5          0.4     0\n22            4.6          3.6           1.0          0.2     0\n23            5.1          3.3           1.7          0.5     0\n24            4.8          3.4           1.9          0.2     0\n25            5.0          3.0           1.6          0.2     0\n26            5.0          3.4           1.6          0.4     0\n27            5.2          3.5           1.5          0.2     0\n28            5.2          3.4           1.4          0.2     0\n29            4.7          3.2           1.6          0.2     0\n..            ...          ...           ...          ...   ...\n120           6.9          3.2           5.7          2.3     2\n121           5.6          2.8           4.9          2.0     2\n122           7.7          2.8           6.7          2.0     2\n123           6.3          2.7           4.9          1.8     2\n124           6.7          3.3           5.7          2.1     2\n125           7.2          3.2           6.0          1.8     2\n126           6.2          2.8           4.8          1.8     2\n127           6.1          3.0           4.9          1.8     2\n128           6.4          2.8           5.6          2.1     2\n129           7.2          3.0           5.8          1.6     2\n130           7.4          2.8           6.1          1.9     2\n131           7.9          3.8           6.4          2.0     2\n132           6.4          2.8           5.6          2.2     2\n133           6.3          2.8           5.1          1.5     2\n134           6.1          2.6           5.6          1.4     2\n135           7.7          3.0           6.1          2.3     2\n136           6.3          3.4           5.6          2.4     2\n137           6.4          3.1           5.5          1.8     2\n138           6.0          3.0           4.8          1.8     2\n139           6.9          3.1           5.4          2.1     2\n140           6.7          3.1           5.6          2.4     2\n141           6.9          3.1           5.1          2.3     2\n142           5.8          2.7           5.1          1.9     2\n143           6.8          3.2           5.9          2.3     2\n144           6.7          3.3           5.7          2.5     2\n145           6.7          3.0           5.2          2.3     2\n146           6.3          2.5           5.0          1.9     2\n147           6.5          3.0           5.2          2.0     2\n148           6.2          3.4           5.4          2.3     2\n149           5.9          3.0           5.1          1.8     2\n\n[150 rows x 5 columns]"
     },
     "execution_count": 19,
     "metadata": {},
     "output_type": "execute_result"
    }
   ],
   "source": [
    "iris_2 = iris_2.assign(type = iris_2.type.cat.codes)\n",
    "iris_2"
   ]
  },
  {
   "cell_type": "code",
   "execution_count": 43,
   "metadata": {},
   "outputs": [],
   "source": [
    "#khám phá dữ liệu\n",
    "champs = pd.read_csv('https://raw.githubusercontent.com/Levytan/MIS.2019/master/Data/lol_champions.csv', sep = ';', decimal = ',')\n",
    "champs.head()\n",
    "champs = champs.assign(release_date = pd.to_datetime(champs.release_date))"
   ]
  },
  {
   "cell_type": "code",
   "execution_count": 9,
   "metadata": {},
   "outputs": [
    {
     "data": {
      "text/plain": "count    3.0\nmean     2.0\nstd      1.0\nmin      1.0\n25%      1.5\n50%      2.0\n75%      2.5\nmax      3.0\ndtype: float64"
     },
     "execution_count": 9,
     "metadata": {},
     "output_type": "execute_result"
    }
   ],
   "source": [
    "s = pd.Series([1, 2, 3, float('nan')])\n",
    "\n",
    "s.describe() #thống kê mô tả tự động bỏ qua giá trị NaN\n",
    "# đối với Series mặc định thực hiện trên từng cột"
   ]
  },
  {
   "cell_type": "code",
   "execution_count": 10,
   "metadata": {},
   "outputs": [
    {
     "data": {
      "text/plain": "attack_at_lv1       59.351257\nattack_at_lv18     114.291781\nhealth_at_lv1      556.412603\nhealth_at_lv18    2059.282877\ndtype: float64"
     },
     "execution_count": 10,
     "metadata": {},
     "output_type": "execute_result"
    }
   ],
   "source": [
    "champs.mean() #cột nào trả về được mean thì mới tính"
   ]
  },
  {
   "cell_type": "code",
   "execution_count": 16,
   "metadata": {},
   "outputs": [
    {
     "data": {
      "text/plain": "attack_at_lv1       70.00\nattack_at_lv18     153.00\nhealth_at_lv1      625.64\nhealth_at_lv18    2466.00\ndtype: float64"
     },
     "execution_count": 16,
     "metadata": {},
     "output_type": "execute_result"
    }
   ],
   "source": [
    "champs.max(numeric_only =True) #nếu không có tham số thì lấy cả những cột có chữ"
   ]
  },
  {
   "cell_type": "code",
   "execution_count": 14,
   "metadata": {},
   "outputs": [
    {
     "data": {
      "text/html": "<div>\n<style scoped>\n    .dataframe tbody tr th:only-of-type {\n        vertical-align: middle;\n    }\n\n    .dataframe tbody tr th {\n        vertical-align: top;\n    }\n\n    .dataframe thead th {\n        text-align: right;\n    }\n</style>\n<table border=\"1\" class=\"dataframe\">\n  <thead>\n    <tr style=\"text-align: right;\">\n      <th></th>\n      <th>attack_at_lv1</th>\n      <th>attack_at_lv18</th>\n      <th>health_at_lv1</th>\n      <th>health_at_lv18</th>\n    </tr>\n  </thead>\n  <tbody>\n    <tr>\n      <th>count</th>\n      <td>146.000000</td>\n      <td>146.000000</td>\n      <td>146.000000</td>\n      <td>146.000000</td>\n    </tr>\n    <tr>\n      <th>mean</th>\n      <td>59.351257</td>\n      <td>114.291781</td>\n      <td>556.412603</td>\n      <td>2059.282877</td>\n    </tr>\n    <tr>\n      <th>std</th>\n      <td>6.204104</td>\n      <td>14.653974</td>\n      <td>35.273908</td>\n      <td>135.510481</td>\n    </tr>\n    <tr>\n      <th>min</th>\n      <td>40.368000</td>\n      <td>50.000000</td>\n      <td>400.000000</td>\n      <td>1420.000000</td>\n    </tr>\n    <tr>\n      <th>25%</th>\n      <td>54.953425</td>\n      <td>105.850000</td>\n      <td>533.100000</td>\n      <td>2013.500000</td>\n    </tr>\n    <tr>\n      <th>50%</th>\n      <td>60.000000</td>\n      <td>114.250000</td>\n      <td>563.240000</td>\n      <td>2055.100000</td>\n    </tr>\n    <tr>\n      <th>75%</th>\n      <td>64.000000</td>\n      <td>121.725000</td>\n      <td>582.180000</td>\n      <td>2123.000000</td>\n    </tr>\n    <tr>\n      <th>max</th>\n      <td>70.000000</td>\n      <td>153.000000</td>\n      <td>625.640000</td>\n      <td>2466.000000</td>\n    </tr>\n  </tbody>\n</table>\n</div>",
      "text/plain": "       attack_at_lv1  attack_at_lv18  health_at_lv1  health_at_lv18\ncount     146.000000      146.000000     146.000000      146.000000\nmean       59.351257      114.291781     556.412603     2059.282877\nstd         6.204104       14.653974      35.273908      135.510481\nmin        40.368000       50.000000     400.000000     1420.000000\n25%        54.953425      105.850000     533.100000     2013.500000\n50%        60.000000      114.250000     563.240000     2055.100000\n75%        64.000000      121.725000     582.180000     2123.000000\nmax        70.000000      153.000000     625.640000     2466.000000"
     },
     "execution_count": 14,
     "metadata": {},
     "output_type": "execute_result"
    }
   ],
   "source": [
    "champs.describe()"
   ]
  },
  {
   "cell_type": "code",
   "execution_count": null,
   "metadata": {},
   "outputs": [],
   "source": [
    "# tính theo dóng thêm tham số axis = 'columns' or axis = 1"
   ]
  },
  {
   "cell_type": "code",
   "execution_count": 20,
   "metadata": {},
   "outputs": [
    {
     "data": {
      "text/plain": "#\n1      39.875\n2      50.750\n3      65.750\n3      78.250\n4      38.750\n5      50.750\n6      66.875\n6      79.375\n6      79.375\n7      39.375\n8      50.750\n9      66.375\n9      78.875\n10     24.500\n11     25.750\n12     49.500\n13     24.500\n14     25.750\n15     49.500\n15     62.000\n16     31.500\n17     43.750\n18     60.000\n18     72.500\n19     31.750\n20     51.750\n21     32.875\n22     55.375\n23     36.125\n24     54.875\n        ...  \n700    66.375\n701    63.250\n702    54.625\n703    63.250\n704    38.250\n705    57.250\n706    75.750\n707    59.500\n708    39.375\n709    60.000\n710    42.625\n710    42.625\n710    42.625\n710    42.625\n711    62.500\n711    62.500\n711    62.500\n711    62.500\n712    38.750\n713    65.000\n714    31.375\n715    67.625\n716    85.875\n717    85.875\n718    75.875\n719    75.875\n719    88.375\n720    75.875\n720    85.875\n721    75.875\nLength: 800, dtype: float64"
     },
     "execution_count": 20,
     "metadata": {},
     "output_type": "execute_result"
    }
   ],
   "source": [
    "pkm.mean(axis = 1)"
   ]
  },
  {
   "cell_type": "code",
   "execution_count": 21,
   "metadata": {},
   "outputs": [
    {
     "data": {
      "text/plain": "HP            69.25875\nAttack        79.00125\nDefense       73.84250\nSp. Atk       72.82000\nSp. Def       71.90250\nSpeed         68.27750\nGeneration     3.32375\nLegendary      0.08125\ndtype: float64"
     },
     "execution_count": 21,
     "metadata": {},
     "output_type": "execute_result"
    }
   ],
   "source": [
    "pkm.mean()"
   ]
  },
  {
   "cell_type": "code",
   "execution_count": 67,
   "metadata": {},
   "outputs": [],
   "source": [
    "# hàm tự định nghĩa (tự viết bằng def hoặc có sẳn)\n",
    "\n",
    "def health_per_lv(x):\n",
    "    return (x.health_at_lv18 - x.health_at_lv1) / 17\n",
    "\n",
    "champs = champs.assign(health_per_lv = champs.apply(health_per_lv, axis= 'columns'))"
   ]
  },
  {
   "cell_type": "code",
   "execution_count": 31,
   "metadata": {},
   "outputs": [
    {
     "data": {
      "text/plain": "0       6\n1       4\n2       5\n3       7\n4       5\n5       6\n6       5\n7       4\n8      12\n9       4\n10      4\n11     10\n12      5\n13      5\n14      7\n15      7\n16     10\n17      8\n18      5\n19      6\n20      5\n21      9\n22      6\n23      4\n24      5\n25      7\n26      6\n27     12\n28      5\n29      4\n       ..\n116     6\n117     8\n118     7\n119    10\n120    12\n121     6\n122     4\n123     5\n124     5\n125     5\n126     6\n127     7\n128     2\n129     6\n130     8\n131     8\n132     7\n133     6\n134     5\n135     6\n136     8\n137     5\n138     6\n139     5\n140     3\n141     3\n142     5\n143     6\n144     3\n145     4\nName: champion, Length: 146, dtype: int64"
     },
     "execution_count": 31,
     "metadata": {},
     "output_type": "execute_result"
    }
   ],
   "source": [
    "champs.champion.apply(len)\n",
    "#áp dụng phương thức trong ngoặc cho từng phần tử trong Series đó"
   ]
  },
  {
   "cell_type": "code",
   "execution_count": 75,
   "metadata": {},
   "outputs": [
    {
     "data": {
      "text/plain": "0      2013-06-13 00:00:00\n1      2011-12-14 00:00:00\n2      2010-05-11 00:00:00\n3      2009-02-21 00:00:00\n4      2009-06-26 00:00:00\n5      2009-07-10 00:00:00\n6      2009-02-21 00:00:00\n7      2009-02-21 00:00:00\n8      2016-03-24 00:00:00\n9      2014-09-16 00:00:00\n10     2015-03-12 00:00:00\n11     2009-09-02 00:00:00\n12     2011-04-12 00:00:00\n13     2014-05-12 00:00:00\n14     2011-01-04 00:00:00\n15     2016-12-07 00:00:00\n16     2010-12-14 00:00:00\n17     2009-06-26 00:00:00\n18     2009-09-19 00:00:00\n19     2012-05-23 00:00:00\n20     2012-08-07 00:00:00\n21     2009-09-02 00:00:00\n22     2012-06-06 00:00:00\n23     2015-05-29 00:00:00\n24     2012-10-26 00:00:00\n25     2009-05-01 00:00:00\n26     2010-03-16 00:00:00\n27     2009-02-21 00:00:00\n28     2012-02-29 00:00:00\n29     2011-11-15 00:00:00\n              ...         \n116    2013-01-23 00:00:00\n117    2009-02-21 00:00:00\n118    2010-12-01 00:00:00\n119    2009-05-01 00:00:00\n120    2009-02-21 00:00:00\n121    2009-05-01 00:00:00\n122    2009-12-02 00:00:00\n123    2010-08-24 00:00:00\n124    2012-05-08 00:00:00\n125    2011-05-10 00:00:00\n126    2009-07-24 00:00:00\n127    2014-02-27 00:00:00\n128    2012-12-19 00:00:00\n129    2011-12-29 00:00:00\n130    2010-07-27 00:00:00\n131    2011-11-29 00:00:00\n132    2009-02-21 00:00:00\n133    2011-07-26 00:00:00\n134    2017-04-19 00:00:00\n135    2011-10-05 00:00:00\n136    2010-07-13 00:00:00\n137    2013-12-13 00:00:00\n138    2011-06-22 00:00:00\n139    2019-05-14 00:00:00\n140    2013-03-29 00:00:00\n141    2012-11-13 00:00:00\n142    2012-02-01 00:00:00\n143    2009-04-18 00:00:00\n144    2017-11-21 00:00:00\n145    2012-07-24 00:00:00\nName: release_date, Length: 146, dtype: object"
     },
     "execution_count": 75,
     "metadata": {},
     "output_type": "execute_result"
    }
   ],
   "source": [
    "champs = champs.assign(release_date = pd.to_datetime(champs.release_date))\n",
    "\n",
    "def get_year(_):\n",
    "    return _.year\n",
    "\n",
    "def to_str(_):\n",
    "    return str(_)\n",
    "\n",
    "champs.release_date.apply(get_year)\n",
    "champs.release_date.apply(to_str)"
   ]
  },
  {
   "cell_type": "code",
   "execution_count": 52,
   "metadata": {},
   "outputs": [
    {
     "data": {
      "text/plain": "584.3866666666667"
     },
     "execution_count": 52,
     "metadata": {},
     "output_type": "execute_result"
    }
   ],
   "source": [
    "champs[champs.primary.isin(['Assassin'])].health_at_lv1.mean()"
   ]
  },
  {
   "cell_type": "code",
   "execution_count": 53,
   "metadata": {},
   "outputs": [
    {
     "data": {
      "text/plain": "584.3866666666667"
     },
     "execution_count": 53,
     "metadata": {},
     "output_type": "execute_result"
    }
   ],
   "source": [
    "champs.loc[champs.primary == 'Assassin', 'health_at_lv1'].mean()"
   ]
  },
  {
   "cell_type": "code",
   "execution_count": 56,
   "metadata": {},
   "outputs": [
    {
     "name": "stdout",
     "output_type": "stream",
     "text": "587.7415384615384\n532.0485714285714\n584.3866666666667\n578.676923076923\n543.4981818181818\n540.45\n543.1857142857143\n558.16\n556.4\n563.8075\n576.2114285714285\n511.53142857142853\n535.5\n"
    }
   ],
   "source": [
    "prim = list(champs.primary.unique())\n",
    "for p in prim:\n",
    "    _ = champs.loc[champs.primary == p, 'health_at_lv1'].mean()\n",
    "    print(_)"
   ]
  },
  {
   "cell_type": "code",
   "execution_count": 61,
   "metadata": {},
   "outputs": [
    {
     "name": "stdout",
     "output_type": "stream",
     "text": "phân loại Artillery có 4 tướng.\nphân loại Assassin có 15 tướng.\nphân loại Battlemage có 11 tướng.\nphân loại Burst có 14 tướng.\nphân loại Catcher có 7 tướng.\nphân loại Diver có 16 tướng.\nphân loại Enchanter có 7 tướng.\nphân loại Juggernaut có 13 tướng.\nphân loại Marksman có 20 tướng.\nphân loại Skirmisher có 7 tướng.\nphân loại Specialist có 14 tướng.\nphân loại Vanguard có 13 tướng.\nphân loại Warden có 5 tướng.\n"
    }
   ],
   "source": [
    "# group by: gồm 3 bước split, apply, compa\n",
    "'''\n",
    "split chia DF thành DF khác dựa trên giá trị cột_tách. Cách làm:\n",
    "<tên_df>.groupby(<cột_tách>)\n",
    "'''\n",
    "champs.groupby(['primary','champion'])\n",
    "champs.groupby('primary')\n",
    "#kết quả trả về là 1 đối tượng groupby\n",
    "for primary, df in champs.groupby('primary'):\n",
    "    print(f'phân loại {primary} có {df.shape[0]} tướng.')"
   ]
  },
  {
   "cell_type": "code",
   "execution_count": 63,
   "metadata": {},
   "outputs": [
    {
     "data": {
      "text/plain": "\n  86             96.0          600.0          2130.0  Assassin  \n  87            116.7          590.0          2120.0  Assassin  \n  93            119.0          585.0          2115.0  Assassin  \n  99            114.0          587.0          2100.0  Assassin  \n  113           120.7          588.0          2203.0  Assassin  \n  141           120.8          584.0          2029.0  Assassin  ),\n ('Battlemage',\n           champion                     title release_date  attack_at_lv1  \\\n  5          Anivia           the Cryophoenix   2009-07-10         51.376   \n  8    Aurelion Sol           the Star Forger   2016-03-24         57.000   \n  16     Cassiopeia     the Serpent's Embrace   2010-12-14         53.000   \n  50        Karthus           the Deathsinger   2009-06-12         45.660   \n  68       Malzahar   the Prophet of the Void   2010-06-01         55.000   \n  95         Rumble     the Mechanized Menace   2011-04-26         61.036   \n  96           Ryze             the Rune Mage   2009-02-21         55.040   \n  108         Swain  the Noxian Grand General   2010-10-05         58.000   \n  112       Taliyah           the Stoneweaver   2016-05-18         58.000   \n  129        Viktor        the Machine Herald   2011-12-29         53.000   \n  130      Vladimir        the Crimson Reaper   2010-07-27         55.000   \n  \n       attack_at_lv18  health_at_lv1  health_at_lv18     primary  \n  5             105.8         480.00          1874.0  Battlemage  \n  8             111.4         575.00          2139.0  Battlemage  \n  16            104.0         575.00          2105.0  Battlemage  \n  50            100.9         528.00          2007.0  Battlemage  \n  68            106.0         537.00          2016.0  Battlemage  \n  95            115.4         589.00          2034.0  Battlemage  \n  96            106.0         570.48          2236.5  Battlemage  \n  108           103.9         525.00          1970.0  Battlemage  \n  112           114.1         532.00          2062.0  Battlemage  \n  129           104.0         530.00          2060.0  Battlemage  \n  130           106.0         537.00          2169.0  Battlemage  ),\n ('Burst',\n           champion                    title release_date  attack_at_lv1  \\\n  1            Ahri      the Nine-Tailed Fox   2011-12-14         53.040   \n  6           Annie           the Dark Child   2009-02-21         50.410   \n  12          Brand    the Burning Vengeance   2011-04-12         57.040   \n  49          Karma      the Enlightened One   2011-02-01         53.544   \n  60        LeBlanc             the Deceiver   2010-11-02         54.880   \n  63      Lissandra            the Ice Witch   2013-04-30         53.000   \n  66            Lux   the Lady of Luminosity   2010-10-19         53.540   \n  77          Neeko    the Curious Chameleon   2018-12-05         48.000   \n  82        Orianna    the Lady of Clockwork   2011-06-01         40.368   \n  109         Sylas           the Unshackled   2019-01-25         61.000   \n  110        Syndra       the Dark Sovereign   2012-09-13         53.872   \n  120  Twisted Fate          the Card Master   2009-02-21         49.954   \n  126        Veigar  the Tiny Master of Evil   2009-07-24         50.710   \n  144           Zoe   the Aspect of Twilight   2017-11-21         58.000   \n  \n       attack_at_lv18  health_at_lv1  health_at_lv18 primary  \n  1             104.0         526.00          2090.0   Burst  \n  6              95.0         524.00          2020.0   Burst  \n  12            108.0         519.68          2015.7   Burst  \n  49            109.6         534.00          2149.0   Burst  \n  60            114.4         528.00          2092.0   Burst  \n  63             98.9         550.00          2080.0   Burst  \n  66            109.6         490.00          1935.0   Burst  \n  77             90.5         540.00          2070.0   Burst  \n  82             84.6         530.00          2077.0   Burst  \n  109           112.0         585.00          2200.0   Burst  \n  110           103.2         523.00          2053.0   Burst  \n  120           106.1         534.00          2132.0   Burst  \n  126            95.3         505.00          2103.0   Burst  \n  144           114.1         560.00          2124.0   Burst  ),\n ('Catcher',\n         champion                    title release_date  attack_at_lv1  \\\n  10         Bard  the Wandering Caretaker   2015-03-12         52.000   \n  11   Blitzcrank    the Great Steam Golem   2009-09-02         61.540   \n  40        Ivern         the Green Father   2016-10-05         50.000   \n  73      Morgana               the Fallen   2009-02-21         56.000   \n  89        Rakan              the Charmer   2017-04-19         62.000   \n  116      Thresh         the Chain Warden   2013-01-23         56.000   \n  145        Zyra       Rise of the Thorns   2012-07-24         53.376   \n  \n       attack_at_lv18  health_at_lv1  health_at_lv18  primary  \n  10            103.0         575.00          2088.0  Catcher  \n  11            121.0         582.60          2197.6  Catcher  \n  40            101.0         585.00          2200.0  Catcher  \n  73            115.5         560.00          2090.0  Catcher  \n  89            121.5         540.00          1985.0  Catcher  \n  116            93.4         560.52          2141.5  Catcher  \n  145           107.8         504.00          1847.0  Catcher  ),\n ('Diver',\n        champion                      title release_date  attack_at_lv1  \\\n  15     Camille           the Steel Shadow   2016-12-07           68.0   \n  24       Elise           the Spider Queen   2012-10-26           55.0   \n  36     Hecarim          the Shadow of War   2012-04-18           66.0   \n  39      Irelia           the Blade Dancer   2010-11-16           63.0   \n  42   Jarvan IV    the Exemplar of Demacia   2011-03-01           64.0   \n  58        Kled  the Cantankerous Cavalier   2016-08-10           65.0   \n  61     Lee Sin             the Blind Monk   2011-04-01           70.0   \n  81        Olaf              the Berserker   2010-06-09           68.0   \n  84    Pantheon      the Unbreakable Spear   2010-02-02           64.0   \n  91     Rek'Sai          the Void Burrower   2014-12-11           64.0   \n  92    Renekton   the Butcher of the Sands   2011-01-18           69.0   \n  105    Skarner       the Crystal Vanguard   2011-08-09           65.0   \n  128         Vi      the Piltover Enforcer   2012-12-19           63.0   \n  132    Warwick  the Uncaged Wrath of Zaun   2009-02-21           65.0   \n  133     Wukong            the Monkey King   2011-07-26           68.0   \n  136   Xin Zhao   the Seneschal of Demacia   2010-07-13           66.0   \n  \n       attack_at_lv18  health_at_lv1  health_at_lv18 primary  \n  15            127.5         575.60          2020.6   Diver  \n  24            106.0         534.00          2115.0   Diver  \n  36            120.4         580.00          2110.0   Diver  \n  39            131.0         580.00          2195.0   Diver  \n  42            121.8         570.00          2100.0   Diver  \n  58            124.5         400.00          1420.0   Diver  \n  61            124.4         575.00          2020.0   Diver  \n  81            127.5         597.24          2178.2   Diver  \n  84            120.1         580.00          2195.0   Diver  \n  91            115.0         570.00          2015.0   Diver  \n  92            132.8         575.00          2054.0   Diver  \n  105           141.5         601.28          2131.3   Diver  \n  128           122.5         585.00          2030.0   Diver  \n  132           116.0         550.00          1995.0   Diver  \n  133           136.0         577.80          2022.8   Diver  \n  136           117.0         570.00          2134.0   Diver  ),\n ('Enchanter',\n      champion                  title release_date  attack_at_lv1  \\\n  41     Janna       the Storm's Fury   2009-09-02         46.000   \n  65      Lulu      the Fae Sorceress   2012-03-20         46.368   \n  74      Nami         the Tidecaller   2012-12-07         51.208   \n  106     Sona   Maven of the Strings   2010-09-21         49.000   \n  107   Soraka          the Starchild   2009-02-21         50.040   \n  114    Taric  the Shield of Valoran   2009-08-19         55.000   \n  139    Yuumi        the Magical Cat   2019-05-14         55.000   \n  \n       attack_at_lv18  health_at_lv1  health_at_lv18    primary  \n  41             71.5         500.00          1690.0  Enchanter  \n  65             90.6         525.00          1783.0  Enchanter  \n  74            103.9         489.32          1747.3  Enchanter  \n  106           100.0         482.36          1791.4  Enchanter  \n  107           101.0         529.04          1855.0  Enchanter  \n  114           114.5         575.00          2105.0  Enchanter  \n  139           107.7         480.00          1670.0  Enchanter  ),\n ('Juggernaut',\n          champion                     title release_date  attack_at_lv1  \\\n  0         Aatrox          the Darkin Blade   2013-06-13          60.00   \n  19        Darius         the Hand of Noxus   2012-05-23          64.00   \n  21     Dr. Mundo        the Madman of Zaun   2009-09-02          61.27   \n  32         Garen      the Might of Demacia   2010-04-27          66.00   \n  38        Illaoi      the Kraken Priestess   2015-11-24          68.00   \n  72   Mordekaiser         the Iron Revenant   2010-02-24          61.00   \n  75         Nasus  the Curator of the Sands   2009-10-01          67.00   \n  101      Shyvana           the Half-Dragon   2011-11-01          66.00   \n  118      Trundle            the Troll King   2010-12-01          68.00   \n  122         Udyr         the Spirit Walker   2009-12-02          66.00   \n  123        Urgot           the Dreadnought   2010-08-24          63.00   \n  131     Volibear        the Thunder's Roar   2011-11-29          68.00   \n  138       Yorick         Shepherd of Souls   2011-06-22          62.00   \n  \n       attack_at_lv18  health_at_lv1  health_at_lv18     primary  \n  0             145.0         580.00          2110.0  Juggernaut  \n  19            149.0         582.24          2282.2  Juggernaut  \n  21            120.8         582.52          2095.5  Juggernaut  \n  32            142.5         620.00          2048.0  Juggernaut  \n  38            153.0         585.60          2200.6  Juggernaut  \n  72            129.0         575.00          2105.0  Juggernaut  \n  75            126.5         561.20          2091.2  Juggernaut  \n  101           123.8         595.00          2210.0  Juggernaut  \n  118           119.0         616.28          2248.3  Juggernaut  \n  122           151.0         593.32          2276.3  Juggernaut  \n  123           131.0         585.00          2081.0  Juggernaut  \n  131           124.1         584.48          2046.5  Juggernaut  \n  138           147.0         580.00          2280.0  Juggernaut  ),\n ('Marksman',\n           champion                     title release_date  attack_at_lv1  \\\n  7            Ashe          the Frost Archer   2009-02-21           61.0   \n  14        Caitlyn   the Sheriff of Piltover   2011-01-04           62.0   \n  18          Corki     the Daring Bombardier   2009-09-19           55.0   \n  22         Draven  the Glorious Executioner   2012-06-06           60.0   \n  26         Ezreal     the Prodigal Explorer   2010-03-16           60.0   \n  45           Jhin              the Virtuoso   2016-02-01           59.0   \n  46           Jinx          the Loose Cannon   2013-10-10           57.0   \n  47         Kai'Sa      Daughter of the Void   2018-03-07           59.0   \n  48        Kalista    the Spear of Vengeance   2014-11-20           69.0   \n  57        Kindred       the Eternal Hunters   2015-10-14           65.0   \n  59        Kog'Maw    the Mouth of the Abyss   2010-06-24           61.0   \n  64         Lucian              the Purifier   2013-08-22           64.0   \n  71   Miss Fortune         the Bounty Hunter   2010-09-08           50.0   \n  98          Senna              the Redeemer   2019-11-10           50.0   \n  104         Sivir       the Battle Mistress   2009-02-21           61.0   \n  117      Tristana         the Yordle Gunner   2009-02-21           61.0   \n  121        Twitch            the Plague Rat   2009-05-01           59.0   \n  124         Varus  the Arrow of Retribution   2012-05-08           61.0   \n  125         Vayne          the Night Hunter   2011-05-10           60.0   \n  134         Xayah                 the Rebel   2017-04-19           60.0   \n  \n       attack_at_lv18  health_at_lv1  health_at_lv18   primary  \n  7             111.3          539.0          1984.0  Marksman  \n  14            111.0          481.0          2028.0  Marksman  \n  18             97.5          518.0          1997.0  Marksman  \n  22            121.4          574.0          2070.0  Marksman  \n  26            102.5          500.0          1962.0  Marksman  \n  45            138.9          556.0          2103.0  Marksman  \n  46            114.8          581.0          2009.0  Marksman  \n  47             87.9          571.0          2033.0  Marksman  \n  48            137.0          534.0          2047.0  Marksman  \n  57            103.4          540.0          1985.0  Marksman  \n  59            113.9          534.0          2030.0  Marksman  \n  64            110.8          571.0          2033.0  Marksman  \n  71             95.9          541.0          2088.0  Marksman  \n  98             50.0          520.0          1965.0  Marksman  \n  104           112.0          532.0          2028.0  Marksman  \n  117           117.1          559.0          2055.0  Marksman  \n  121           111.9          582.0          2010.0  Marksman  \n  124           113.9          500.0          2013.0  Marksman  \n  125           100.1          515.0          2028.0  Marksman  \n  134           109.3          561.0          2023.0  Marksman  ),\n ('Skirmisher',\n         champion                 title release_date  attack_at_lv1  \\\n  28        Fiora     the Grand Duelist   2012-02-29           68.0   \n  43          Jax   Grandmaster at Arms   2009-02-21           68.0   \n  54         Kayn     the Shadow Reaper   2017-07-12           68.0   \n  70    Master Yi    the Wuju Bladesman   2009-02-21           66.0   \n  94        Riven             the Exile   2011-09-14           64.0   \n  119  Tryndamere    the Barbarian King   2009-05-01           69.0   \n  137       Yasuo        the Unforgiven   2013-12-13           60.0   \n  \n       attack_at_lv18  health_at_lv1  health_at_lv18     primary  \n  28            124.1         550.00          1995.0  Skirmisher  \n  43            125.4         592.80          2037.8  Skirmisher  \n  54            124.1         585.00          2030.0  Skirmisher  \n  70            117.0         598.56          2162.6  Skirmisher  \n  94            115.0         558.48          2020.5  Skirmisher  \n  119           131.9         625.64          2291.6  Skirmisher  \n  137           114.4         523.00          2002.0  Skirmisher  ),\n ('Specialist',\n           champion                     title release_date  attack_at_lv1  \\\n  9            Azir  the Emperor of the Sands   2014-09-16         52.000   \n  17       Cho'Gath    the Terror of the Void   2009-06-26         69.000   \n  27   Fiddlesticks     the Harbinger of Doom   2009-02-21         48.360   \n  31      Gangplank     the Saltwater Scourge   2009-08-19         64.000   \n  33           Gnar          the Missing Link   2014-08-14         59.000   \n  35         Graves                the Outlaw   2011-10-19         68.000   \n  37   Heimerdinger      the Revered Inventor   2009-10-10         55.536   \n  53          Kayle             the Righteous   2009-02-21         50.000   \n  55         Kennen  the Heart of the Tempest   2010-04-08         48.000   \n  78        Nidalee      the Bestial Huntress   2009-12-17         61.000   \n  88          Quinn           Demacia's Wings   2013-03-01         59.000   \n  102        Singed           the Mad Chemist   2009-04-18         63.000   \n  115         Teemo           the Swift Scout   2009-02-21         54.000   \n  143        Zilean          the Chronokeeper   2009-04-18         51.640   \n  \n       attack_at_lv18  health_at_lv1  health_at_lv18     primary  \n  9              99.6          552.0          2116.0  Specialist  \n  17            140.4          574.4          1934.4  Specialist  \n  27             93.0          524.4          1884.4  Specialist  \n  31            115.0          540.0          1934.0  Specialist  \n  33            110.0          510.0          1615.0  Specialist  \n  35            119.0          555.0          2119.0  Specialist  \n  37            101.4          488.0          1967.0  Specialist  \n  53             92.5          600.0          2045.0  Specialist  \n  55            111.8          541.0          1969.0  Specialist  \n  78            120.5          545.0          1990.0  Specialist  \n  88             99.8          532.8          1977.8  Specialist  \n  102           120.4          610.0          2055.0  Specialist  \n  115           105.0          528.0          2058.0  Specialist  \n  143           102.6          504.0          1898.0  Specialist  ),\n ('Vanguard',\n       champion                        title release_date  attack_at_lv1  \\\n  3     Alistar                 the Minotaur   2009-02-21        61.1116   \n  4       Amumu                the Sad Mummy   2009-06-26        53.3800   \n  34     Gragas            the Rabble Rouser   2010-02-02        64.0000   \n  62      Leona             the Radiant Dawn   2011-07-13        60.0400   \n  67   Malphite        Shard of the Monolith   2009-09-02        61.9700   \n  69     Maokai           the Twisted Treant   2011-02-16        63.5400   \n  76   Nautilus      the Titan of the Depths   2012-02-14        61.0000   \n  80       Nunu         the Boy and his Yeti   2009-02-21        61.0000   \n  83       Ornn  the Fire Below The Mountain   2017-08-23        69.0000   \n  90     Rammus               the Armordillo   2009-07-10        55.8800   \n  97    Sejuani            Fury of the North   2012-01-17        66.0000   \n  103      Sion        the Undead Juggernaut   2009-02-21        68.0000   \n  140       Zac            the Secret Weapon   2013-03-29        60.0000   \n  \n       attack_at_lv18  health_at_lv1  health_at_lv18   primary  \n  3             122.7         573.36          2375.4  Vanguard  \n  4             118.0         613.12          2041.1  Vanguard  \n  34            123.5         600.00          2215.0  Vanguard  \n  62            111.0         576.16          2055.2  Vanguard  \n  67            130.0         574.20          2104.2  Vanguard  \n  69            119.6         565.00          2180.0  Vanguard  \n  76            117.1         576.48          2038.5  Vanguard  \n  80            112.0         570.00          1964.0  Vanguard  \n  83            128.5         590.00          2205.0  Vanguard  \n  90            115.4         564.48          2026.5  Vanguard  \n  97            134.0         560.00          2175.0  Vanguard  \n  103           136.0         545.00          1786.0  Vanguard  \n  140           117.8         615.00          2230.0  Vanguard  ),\n ('Warden',\n         champion                      title release_date  attack_at_lv1  \\\n  13        Braum  the Heart of the Freljord   2014-05-12         55.376   \n  30        Galio               the Colossus   2010-08-10         59.000   \n  85        Poppy       Keeper of the Hammer   2010-01-13         64.000   \n  100        Shen        the Eye of Twilight   2010-03-24         60.000   \n  111  Tahm Kench             the River King   2015-07-09         56.000   \n  \n       attack_at_lv18  health_at_lv1  health_at_lv18 primary  \n  13            109.8          540.0          2019.0  Warden  \n  30            118.5          562.0          2466.0  Warden  \n  85            132.0          540.0          2070.0  Warden  \n  100           111.0          540.0          1985.0  Warden  \n  111           110.4          600.0          2300.0  Warden  )]"
     },
     "execution_count": 63,
     "metadata": {},
     "output_type": "execute_result"
    }
   ],
   "source": [
    "list(champs.groupby('primary'))"
   ]
  },
  {
   "cell_type": "code",
   "execution_count": 69,
   "metadata": {},
   "outputs": [
    {
     "data": {
      "text/plain": "primary\nArtillery     560.00\nAssassin      602.00\nBattlemage    589.00\nBurst         585.00\nCatcher       585.00\nDiver         601.28\nEnchanter     575.00\nJuggernaut    620.00\nMarksman      582.00\nSkirmisher    625.64\nSpecialist    610.00\nVanguard      615.00\nWarden        600.00\nName: health_at_lv1, dtype: float64"
     },
     "execution_count": 69,
     "metadata": {},
     "output_type": "execute_result"
    }
   ],
   "source": [
    "champs.groupby('primary').health_at_lv1.max()"
   ]
  },
  {
   "cell_type": "code",
   "execution_count": 71,
   "metadata": {},
   "outputs": [
    {
     "data": {
      "text/plain": "primary\nArtillery     1460.000000\nAssassin      1550.000000\nBattlemage    1550.491765\nBurst         1535.000000\nCatcher       1535.000000\nDiver         1530.000000\nEnchanter     1475.000000\nJuggernaut    1583.308235\nMarksman      1466.000000\nSkirmisher    1605.616471\nSpecialist    1475.000000\nVanguard      1633.383529\nWarden        1682.000000\nName: health_at_lv11, dtype: float64"
     },
     "execution_count": 71,
     "metadata": {},
     "output_type": "execute_result"
    }
   ],
   "source": [
    "champs = champs.assign(health_at_lv11 = (champs.health_per_lv*10 + champs.health_at_lv1))\n",
    "champs.groupby('primary').health_at_lv11.max()"
   ]
  },
  {
   "cell_type": "code",
   "execution_count": 72,
   "metadata": {},
   "outputs": [
    {
     "data": {
      "text/plain": "primary\nArtillery     1460.000000\nAssassin      1550.000000\nBattlemage    1550.491765\nBurst         1535.000000\nCatcher       1535.000000\nDiver         1530.000000\nEnchanter     1475.000000\nJuggernaut    1583.308235\nMarksman      1466.000000\nSkirmisher    1605.616471\nSpecialist    1475.000000\nVanguard      1633.383529\nWarden        1682.000000\nName: health_at_lv11, dtype: float64"
     },
     "execution_count": 72,
     "metadata": {},
     "output_type": "execute_result"
    }
   ],
   "source": [
    "champs.assign(\n",
    "    health_per_lv = lambda x : (x.health_at_lv18 - x.health_at_lv1) / 17,\n",
    "    health_at_lv11 = lambda x : x.health_at_lv1 + x.health_per_lv*10\n",
    ").groupby('primary').health_at_lv11.max()"
   ]
  },
  {
   "cell_type": "code",
   "execution_count": 3,
   "metadata": {},
   "outputs": [
    {
     "data": {
      "text/html": "<div>\n<style scoped>\n    .dataframe tbody tr th:only-of-type {\n        vertical-align: middle;\n    }\n\n    .dataframe tbody tr th {\n        vertical-align: top;\n    }\n\n    .dataframe thead th {\n        text-align: right;\n    }\n</style>\n<table border=\"1\" class=\"dataframe\">\n  <thead>\n    <tr style=\"text-align: right;\">\n      <th></th>\n      <th>Observation</th>\n      <th>x1</th>\n      <th>y1</th>\n      <th>x2</th>\n      <th>y2</th>\n      <th>x3</th>\n      <th>y3</th>\n      <th>x4</th>\n      <th>y4</th>\n    </tr>\n  </thead>\n  <tbody>\n    <tr>\n      <th>0</th>\n      <td>1</td>\n      <td>10</td>\n      <td>8.04</td>\n      <td>10</td>\n      <td>9.14</td>\n      <td>10</td>\n      <td>7.46</td>\n      <td>8</td>\n      <td>6.58</td>\n    </tr>\n    <tr>\n      <th>1</th>\n      <td>2</td>\n      <td>8</td>\n      <td>6.95</td>\n      <td>8</td>\n      <td>8.14</td>\n      <td>8</td>\n      <td>6.77</td>\n      <td>8</td>\n      <td>5.76</td>\n    </tr>\n    <tr>\n      <th>2</th>\n      <td>3</td>\n      <td>13</td>\n      <td>7.58</td>\n      <td>13</td>\n      <td>8.74</td>\n      <td>13</td>\n      <td>12.74</td>\n      <td>8</td>\n      <td>7.71</td>\n    </tr>\n    <tr>\n      <th>3</th>\n      <td>4</td>\n      <td>9</td>\n      <td>8.81</td>\n      <td>9</td>\n      <td>8.77</td>\n      <td>9</td>\n      <td>7.11</td>\n      <td>8</td>\n      <td>8.84</td>\n    </tr>\n    <tr>\n      <th>4</th>\n      <td>5</td>\n      <td>11</td>\n      <td>8.33</td>\n      <td>11</td>\n      <td>9.26</td>\n      <td>11</td>\n      <td>7.81</td>\n      <td>8</td>\n      <td>8.47</td>\n    </tr>\n    <tr>\n      <th>5</th>\n      <td>6</td>\n      <td>14</td>\n      <td>9.96</td>\n      <td>14</td>\n      <td>8.10</td>\n      <td>14</td>\n      <td>8.84</td>\n      <td>8</td>\n      <td>7.04</td>\n    </tr>\n    <tr>\n      <th>6</th>\n      <td>7</td>\n      <td>6</td>\n      <td>7.24</td>\n      <td>6</td>\n      <td>6.13</td>\n      <td>6</td>\n      <td>6.08</td>\n      <td>8</td>\n      <td>5.25</td>\n    </tr>\n    <tr>\n      <th>7</th>\n      <td>8</td>\n      <td>4</td>\n      <td>4.26</td>\n      <td>4</td>\n      <td>3.10</td>\n      <td>4</td>\n      <td>5.39</td>\n      <td>19</td>\n      <td>12.50</td>\n    </tr>\n    <tr>\n      <th>8</th>\n      <td>9</td>\n      <td>12</td>\n      <td>10.84</td>\n      <td>12</td>\n      <td>9.13</td>\n      <td>12</td>\n      <td>8.15</td>\n      <td>8</td>\n      <td>5.56</td>\n    </tr>\n    <tr>\n      <th>9</th>\n      <td>10</td>\n      <td>7</td>\n      <td>4.82</td>\n      <td>7</td>\n      <td>7.26</td>\n      <td>7</td>\n      <td>6.42</td>\n      <td>8</td>\n      <td>7.91</td>\n    </tr>\n    <tr>\n      <th>10</th>\n      <td>11</td>\n      <td>5</td>\n      <td>5.68</td>\n      <td>5</td>\n      <td>4.74</td>\n      <td>5</td>\n      <td>5.73</td>\n      <td>8</td>\n      <td>6.89</td>\n    </tr>\n  </tbody>\n</table>\n</div>",
      "text/plain": "    Observation  x1     y1  x2    y2  x3     y3  x4     y4\n0             1  10   8.04  10  9.14  10   7.46   8   6.58\n1             2   8   6.95   8  8.14   8   6.77   8   5.76\n2             3  13   7.58  13  8.74  13  12.74   8   7.71\n3             4   9   8.81   9  8.77   9   7.11   8   8.84\n4             5  11   8.33  11  9.26  11   7.81   8   8.47\n5             6  14   9.96  14  8.10  14   8.84   8   7.04\n6             7   6   7.24   6  6.13   6   6.08   8   5.25\n7             8   4   4.26   4  3.10   4   5.39  19  12.50\n8             9  12  10.84  12  9.13  12   8.15   8   5.56\n9            10   7   4.82   7  7.26   7   6.42   8   7.91\n10           11   5   5.68   5  4.74   5   5.73   8   6.89"
     },
     "execution_count": 3,
     "metadata": {},
     "output_type": "execute_result"
    }
   ],
   "source": [
    "import matplotlib.pyplot as plt\n",
    "\n",
    "%matplotlib inline\n",
    "#%matplotlib notebook\n",
    "plt.style.use('seaborn')\n",
    "\n",
    "quartet = pd.read_csv('https://raw.githubusercontent.com/Levytan/MIS.2019/master/Data/anscombe_quartet.csv')\n",
    "quartet"
   ]
  },
  {
   "cell_type": "code",
   "execution_count": 4,
   "metadata": {},
   "outputs": [
    {
     "data": {
      "text/html": "<div>\n<style scoped>\n    .dataframe tbody tr th:only-of-type {\n        vertical-align: middle;\n    }\n\n    .dataframe tbody tr th {\n        vertical-align: top;\n    }\n\n    .dataframe thead th {\n        text-align: right;\n    }\n</style>\n<table border=\"1\" class=\"dataframe\">\n  <thead>\n    <tr style=\"text-align: right;\">\n      <th></th>\n      <th>Observation</th>\n      <th>x1</th>\n      <th>y1</th>\n      <th>x2</th>\n      <th>y2</th>\n      <th>x3</th>\n      <th>y3</th>\n      <th>x4</th>\n      <th>y4</th>\n    </tr>\n  </thead>\n  <tbody>\n    <tr>\n      <th>count</th>\n      <td>11.000000</td>\n      <td>11.000000</td>\n      <td>11.000000</td>\n      <td>11.000000</td>\n      <td>11.000000</td>\n      <td>11.000000</td>\n      <td>11.000000</td>\n      <td>11.000000</td>\n      <td>11.000000</td>\n    </tr>\n    <tr>\n      <th>mean</th>\n      <td>6.000000</td>\n      <td>9.000000</td>\n      <td>7.500909</td>\n      <td>9.000000</td>\n      <td>7.500909</td>\n      <td>9.000000</td>\n      <td>7.500000</td>\n      <td>9.000000</td>\n      <td>7.500909</td>\n    </tr>\n    <tr>\n      <th>std</th>\n      <td>3.316625</td>\n      <td>3.316625</td>\n      <td>2.031568</td>\n      <td>3.316625</td>\n      <td>2.031657</td>\n      <td>3.316625</td>\n      <td>2.030424</td>\n      <td>3.316625</td>\n      <td>2.030579</td>\n    </tr>\n  </tbody>\n</table>\n</div>",
      "text/plain": "       Observation         x1         y1         x2         y2         x3  \\\ncount    11.000000  11.000000  11.000000  11.000000  11.000000  11.000000   \nmean      6.000000   9.000000   7.500909   9.000000   7.500909   9.000000   \nstd       3.316625   3.316625   2.031568   3.316625   2.031657   3.316625   \n\n              y3         x4         y4  \ncount  11.000000  11.000000  11.000000  \nmean    7.500000   9.000000   7.500909  \nstd     2.030424   3.316625   2.030579  "
     },
     "execution_count": 4,
     "metadata": {},
     "output_type": "execute_result"
    }
   ],
   "source": [
    "quartet.describe().loc[['count', 'mean', 'std']]"
   ]
  },
  {
   "cell_type": "code",
   "execution_count": 5,
   "metadata": {},
   "outputs": [
    {
     "data": {
      "text/plain": "{'whiskers': [<matplotlib.lines.Line2D at 0x20ff0ddd780>,\n  <matplotlib.lines.Line2D at 0x20ff0ddd7f0>],\n 'caps': [<matplotlib.lines.Line2D at 0x20ff0dddb70>,\n  <matplotlib.lines.Line2D at 0x20ff0dddef0>],\n 'boxes': [<matplotlib.lines.Line2D at 0x20ff0afb668>],\n 'medians': [<matplotlib.lines.Line2D at 0x20ff0df32b0>],\n 'fliers': [<matplotlib.lines.Line2D at 0x20ff0df3630>],\n 'means': []}"
     },
     "execution_count": 5,
     "metadata": {},
     "output_type": "execute_result"
    },
    {
     "data": {
      "image/png": "[encoded data removed]",
      "image/svg+xml": "<?xml version=\"1.0\" encoding=\"utf-8\" standalone=\"no\"?>\r\n<!DOCTYPE svg PUBLIC \"-//W3C//DTD SVG 1.1//EN\"\r\n  \"http://www.w3.org/Graphics/SVG/1.1/DTD/svg11.dtd\">\r\n<!-- Created with matplotlib (https://matplotlib.org/) -->\r\n<svg height=\"333.104219pt\" version=\"1.1\" viewBox=\"0 0 478.921875 333.104219\" width=\"478.921875pt\" xmlns=\"http://www.w3.org/2000/svg\" xmlns:xlink=\"http://www.w3.org/1999/xlink\">\r\n <defs>\r\n  <style type=\"text/css\">\r\n*{stroke-linecap:butt;stroke-linejoin:round;white-space:pre;}\r\n  </style>\r\n </defs>\r\n <g id=\"figure_1\">\r\n  <g id=\"patch_1\">\r\n   <path d=\"M 0 333.104219 \r\nL 478.921875 333.104219 \r\nL 478.921875 0 \r\nL 0 0 \r\nz\r\n\" style=\"fill:#ffffff;\"/>\r\n  </g>\r\n  <g id=\"axes_1\">\r\n   <g id=\"patch_2\">\r\n    <path d=\"M 25.321875 309.758906 \r\nL 471.721875 309.758906 \r\nL 471.721875 10.778906 \r\nL 25.321875 10.778906 \r\nz\r\n\" style=\"fill:#eaeaf2;\"/>\r\n   </g>\r\n   <g id=\"matplotlib.axis_1\">\r\n    <g id=\"xtick_1\">\r\n     <g id=\"line2d_1\">\r\n      <path clip-path=\"url(#p4b8968a952)\" d=\"M 248.521875 309.758906 \r\nL 248.521875 10.778906 \r\n\" style=\"fill:none;stroke:#ffffff;stroke-linecap:round;\"/>\r\n     </g>\r\n     <g id=\"line2d_2\"/>\r\n     <g id=\"text_1\">\r\n      <!-- 1 -->\r\n      <defs>\r\n       <path d=\"M 37.25 0 \r\nL 28.46875 0 \r\nL 28.46875 56 \r\nQ 25.296875 52.984375 20.140625 49.953125 \r\nQ 14.984375 46.921875 10.890625 45.40625 \r\nL 10.890625 53.90625 \r\nQ 18.265625 57.375 23.78125 62.296875 \r\nQ 29.296875 67.234375 31.59375 71.875 \r\nL 37.25 71.875 \r\nz\r\n\" id=\"ArialMT-49\"/>\r\n      </defs>\r\n      <g style=\"fill:#262626;\" transform=\"translate(245.741406 323.916719)scale(0.1 -0.1)\">\r\n       <use xlink:href=\"#ArialMT-49\"/>\r\n      </g>\r\n     </g>\r\n    </g>\r\n   </g>\r\n   <g id=\"matplotlib.axis_2\">\r\n    <g id=\"ytick_1\">\r\n     <g id=\"line2d_3\">\r\n      <path clip-path=\"url(#p4b8968a952)\" d=\"M 25.321875 309.758906 \r\nL 471.721875 309.758906 \r\n\" style=\"fill:none;stroke:#ffffff;stroke-linecap:round;\"/>\r\n     </g>\r\n     <g id=\"line2d_4\"/>\r\n     <g id=\"text_2\">\r\n      <!-- 2 -->\r\n      <defs>\r\n       <path d=\"M 50.34375 8.453125 \r\nL 50.34375 0 \r\nL 3.03125 0 \r\nQ 2.9375 3.171875 4.046875 6.109375 \r\nQ 5.859375 10.9375 9.828125 15.625 \r\nQ 13.8125 20.3125 21.34375 26.46875 \r\nQ 33.015625 36.03125 37.109375 41.625 \r\nQ 41.21875 47.21875 41.21875 52.203125 \r\nQ 41.21875 57.421875 37.46875 61 \r\nQ 33.734375 64.59375 27.734375 64.59375 \r\nQ 21.390625 64.59375 17.578125 60.78125 \r\nQ 13.765625 56.984375 13.71875 50.25 \r\nL 4.6875 51.171875 \r\nQ 5.609375 61.28125 11.65625 66.578125 \r\nQ 17.71875 71.875 27.9375 71.875 \r\nQ 38.234375 71.875 44.234375 66.15625 \r\nQ 50.25 60.453125 50.25 52 \r\nQ 50.25 47.703125 48.484375 43.546875 \r\nQ 46.734375 39.40625 42.65625 34.8125 \r\nQ 38.578125 30.21875 29.109375 22.21875 \r\nQ 21.1875 15.578125 18.9375 13.203125 \r\nQ 16.703125 10.84375 15.234375 8.453125 \r\nz\r\n\" id=\"ArialMT-50\"/>\r\n      </defs>\r\n      <g style=\"fill:#262626;\" transform=\"translate(12.760938 313.337812)scale(0.1 -0.1)\">\r\n       <use xlink:href=\"#ArialMT-50\"/>\r\n      </g>\r\n     </g>\r\n    </g>\r\n    <g id=\"ytick_2\">\r\n     <g id=\"line2d_5\">\r\n      <path clip-path=\"url(#p4b8968a952)\" d=\"M 25.321875 267.047478 \r\nL 471.721875 267.047478 \r\n\" style=\"fill:none;stroke:#ffffff;stroke-linecap:round;\"/>\r\n     </g>\r\n     <g id=\"line2d_6\"/>\r\n     <g id=\"text_3\">\r\n      <!-- 4 -->\r\n      <defs>\r\n       <path d=\"M 32.328125 0 \r\nL 32.328125 17.140625 \r\nL 1.265625 17.140625 \r\nL 1.265625 25.203125 \r\nL 33.9375 71.578125 \r\nL 41.109375 71.578125 \r\nL 41.109375 25.203125 \r\nL 50.78125 25.203125 \r\nL 50.78125 17.140625 \r\nL 41.109375 17.140625 \r\nL 41.109375 0 \r\nz\r\nM 32.328125 25.203125 \r\nL 32.328125 57.46875 \r\nL 9.90625 25.203125 \r\nz\r\n\" id=\"ArialMT-52\"/>\r\n      </defs>\r\n      <g style=\"fill:#262626;\" transform=\"translate(12.760938 270.626384)scale(0.1 -0.1)\">\r\n       <use xlink:href=\"#ArialMT-52\"/>\r\n      </g>\r\n     </g>\r\n    </g>\r\n    <g id=\"ytick_3\">\r\n     <g id=\"line2d_7\">\r\n      <path clip-path=\"url(#p4b8968a952)\" d=\"M 25.321875 224.336049 \r\nL 471.721875 224.336049 \r\n\" style=\"fill:none;stroke:#ffffff;stroke-linecap:round;\"/>\r\n     </g>\r\n     <g id=\"line2d_8\"/>\r\n     <g id=\"text_4\">\r\n      <!-- 6 -->\r\n      <defs>\r\n       <path d=\"M 49.75 54.046875 \r\nL 41.015625 53.375 \r\nQ 39.84375 58.546875 37.703125 60.890625 \r\nQ 34.125 64.65625 28.90625 64.65625 \r\nQ 24.703125 64.65625 21.53125 62.3125 \r\nQ 17.390625 59.28125 14.984375 53.46875 \r\nQ 12.59375 47.65625 12.5 36.921875 \r\nQ 15.671875 41.75 20.265625 44.09375 \r\nQ 24.859375 46.4375 29.890625 46.4375 \r\nQ 38.671875 46.4375 44.84375 39.96875 \r\nQ 51.03125 33.5 51.03125 23.25 \r\nQ 51.03125 16.5 48.125 10.71875 \r\nQ 45.21875 4.9375 40.140625 1.859375 \r\nQ 35.0625 -1.21875 28.609375 -1.21875 \r\nQ 17.625 -1.21875 10.6875 6.859375 \r\nQ 3.765625 14.9375 3.765625 33.5 \r\nQ 3.765625 54.25 11.421875 63.671875 \r\nQ 18.109375 71.875 29.4375 71.875 \r\nQ 37.890625 71.875 43.28125 67.140625 \r\nQ 48.6875 62.40625 49.75 54.046875 \r\nz\r\nM 13.875 23.1875 \r\nQ 13.875 18.65625 15.796875 14.5 \r\nQ 17.71875 10.359375 21.1875 8.171875 \r\nQ 24.65625 6 28.46875 6 \r\nQ 34.03125 6 38.03125 10.484375 \r\nQ 42.046875 14.984375 42.046875 22.703125 \r\nQ 42.046875 30.125 38.078125 34.390625 \r\nQ 34.125 38.671875 28.125 38.671875 \r\nQ 22.171875 38.671875 18.015625 34.390625 \r\nQ 13.875 30.125 13.875 23.1875 \r\nz\r\n\" id=\"ArialMT-54\"/>\r\n      </defs>\r\n      <g style=\"fill:#262626;\" transform=\"translate(12.760938 227.914955)scale(0.1 -0.1)\">\r\n       <use xlink:href=\"#ArialMT-54\"/>\r\n      </g>\r\n     </g>\r\n    </g>\r\n    <g id=\"ytick_4\">\r\n     <g id=\"line2d_9\">\r\n      <path clip-path=\"url(#p4b8968a952)\" d=\"M 25.321875 181.624621 \r\nL 471.721875 181.624621 \r\n\" style=\"fill:none;stroke:#ffffff;stroke-linecap:round;\"/>\r\n     </g>\r\n     <g id=\"line2d_10\"/>\r\n     <g id=\"text_5\">\r\n      <!-- 8 -->\r\n      <defs>\r\n       <path d=\"M 17.671875 38.8125 \r\nQ 12.203125 40.828125 9.5625 44.53125 \r\nQ 6.9375 48.25 6.9375 53.421875 \r\nQ 6.9375 61.234375 12.546875 66.546875 \r\nQ 18.171875 71.875 27.484375 71.875 \r\nQ 36.859375 71.875 42.578125 66.421875 \r\nQ 48.296875 60.984375 48.296875 53.171875 \r\nQ 48.296875 48.1875 45.671875 44.5 \r\nQ 43.0625 40.828125 37.75 38.8125 \r\nQ 44.34375 36.671875 47.78125 31.875 \r\nQ 51.21875 27.09375 51.21875 20.453125 \r\nQ 51.21875 11.28125 44.71875 5.03125 \r\nQ 38.234375 -1.21875 27.640625 -1.21875 \r\nQ 17.046875 -1.21875 10.546875 5.046875 \r\nQ 4.046875 11.328125 4.046875 20.703125 \r\nQ 4.046875 27.6875 7.59375 32.390625 \r\nQ 11.140625 37.109375 17.671875 38.8125 \r\nz\r\nM 15.921875 53.71875 \r\nQ 15.921875 48.640625 19.1875 45.40625 \r\nQ 22.46875 42.1875 27.6875 42.1875 \r\nQ 32.765625 42.1875 36.015625 45.375 \r\nQ 39.265625 48.578125 39.265625 53.21875 \r\nQ 39.265625 58.0625 35.90625 61.359375 \r\nQ 32.5625 64.65625 27.59375 64.65625 \r\nQ 22.5625 64.65625 19.234375 61.421875 \r\nQ 15.921875 58.203125 15.921875 53.71875 \r\nz\r\nM 13.09375 20.65625 \r\nQ 13.09375 16.890625 14.875 13.375 \r\nQ 16.65625 9.859375 20.171875 7.921875 \r\nQ 23.6875 6 27.734375 6 \r\nQ 34.03125 6 38.125 10.046875 \r\nQ 42.234375 14.109375 42.234375 20.359375 \r\nQ 42.234375 26.703125 38.015625 30.859375 \r\nQ 33.796875 35.015625 27.4375 35.015625 \r\nQ 21.234375 35.015625 17.15625 30.90625 \r\nQ 13.09375 26.8125 13.09375 20.65625 \r\nz\r\n\" id=\"ArialMT-56\"/>\r\n      </defs>\r\n      <g style=\"fill:#262626;\" transform=\"translate(12.760938 185.203527)scale(0.1 -0.1)\">\r\n       <use xlink:href=\"#ArialMT-56\"/>\r\n      </g>\r\n     </g>\r\n    </g>\r\n    <g id=\"ytick_5\">\r\n     <g id=\"line2d_11\">\r\n      <path clip-path=\"url(#p4b8968a952)\" d=\"M 25.321875 138.913192 \r\nL 471.721875 138.913192 \r\n\" style=\"fill:none;stroke:#ffffff;stroke-linecap:round;\"/>\r\n     </g>\r\n     <g id=\"line2d_12\"/>\r\n     <g id=\"text_6\">\r\n      <!-- 10 -->\r\n      <defs>\r\n       <path d=\"M 4.15625 35.296875 \r\nQ 4.15625 48 6.765625 55.734375 \r\nQ 9.375 63.484375 14.515625 67.671875 \r\nQ 19.671875 71.875 27.484375 71.875 \r\nQ 33.25 71.875 37.59375 69.546875 \r\nQ 41.9375 67.234375 44.765625 62.859375 \r\nQ 47.609375 58.5 49.21875 52.21875 \r\nQ 50.828125 45.953125 50.828125 35.296875 \r\nQ 50.828125 22.703125 48.234375 14.96875 \r\nQ 45.65625 7.234375 40.5 3 \r\nQ 35.359375 -1.21875 27.484375 -1.21875 \r\nQ 17.140625 -1.21875 11.234375 6.203125 \r\nQ 4.15625 15.140625 4.15625 35.296875 \r\nz\r\nM 13.1875 35.296875 \r\nQ 13.1875 17.671875 17.3125 11.828125 \r\nQ 21.4375 6 27.484375 6 \r\nQ 33.546875 6 37.671875 11.859375 \r\nQ 41.796875 17.71875 41.796875 35.296875 \r\nQ 41.796875 52.984375 37.671875 58.78125 \r\nQ 33.546875 64.59375 27.390625 64.59375 \r\nQ 21.34375 64.59375 17.71875 59.46875 \r\nQ 13.1875 52.9375 13.1875 35.296875 \r\nz\r\n\" id=\"ArialMT-48\"/>\r\n      </defs>\r\n      <g style=\"fill:#262626;\" transform=\"translate(7.2 142.492098)scale(0.1 -0.1)\">\r\n       <use xlink:href=\"#ArialMT-49\"/>\r\n       <use x=\"55.615234\" xlink:href=\"#ArialMT-48\"/>\r\n      </g>\r\n     </g>\r\n    </g>\r\n    <g id=\"ytick_6\">\r\n     <g id=\"line2d_13\">\r\n      <path clip-path=\"url(#p4b8968a952)\" d=\"M 25.321875 96.201763 \r\nL 471.721875 96.201763 \r\n\" style=\"fill:none;stroke:#ffffff;stroke-linecap:round;\"/>\r\n     </g>\r\n     <g id=\"line2d_14\"/>\r\n     <g id=\"text_7\">\r\n      <!-- 12 -->\r\n      <g style=\"fill:#262626;\" transform=\"translate(7.2 99.78067)scale(0.1 -0.1)\">\r\n       <use xlink:href=\"#ArialMT-49\"/>\r\n       <use x=\"55.615234\" xlink:href=\"#ArialMT-50\"/>\r\n      </g>\r\n     </g>\r\n    </g>\r\n    <g id=\"ytick_7\">\r\n     <g id=\"line2d_15\">\r\n      <path clip-path=\"url(#p4b8968a952)\" d=\"M 25.321875 53.490335 \r\nL 471.721875 53.490335 \r\n\" style=\"fill:none;stroke:#ffffff;stroke-linecap:round;\"/>\r\n     </g>\r\n     <g id=\"line2d_16\"/>\r\n     <g id=\"text_8\">\r\n      <!-- 14 -->\r\n      <g style=\"fill:#262626;\" transform=\"translate(7.2 57.069241)scale(0.1 -0.1)\">\r\n       <use xlink:href=\"#ArialMT-49\"/>\r\n       <use x=\"55.615234\" xlink:href=\"#ArialMT-52\"/>\r\n      </g>\r\n     </g>\r\n    </g>\r\n    <g id=\"ytick_8\">\r\n     <g id=\"line2d_17\">\r\n      <path clip-path=\"url(#p4b8968a952)\" d=\"M 25.321875 10.778906 \r\nL 471.721875 10.778906 \r\n\" style=\"fill:none;stroke:#ffffff;stroke-linecap:round;\"/>\r\n     </g>\r\n     <g id=\"line2d_18\"/>\r\n     <g id=\"text_9\">\r\n      <!-- 16 -->\r\n      <g style=\"fill:#262626;\" transform=\"translate(7.2 14.357812)scale(0.1 -0.1)\">\r\n       <use xlink:href=\"#ArialMT-49\"/>\r\n       <use x=\"55.615234\" xlink:href=\"#ArialMT-54\"/>\r\n      </g>\r\n     </g>\r\n    </g>\r\n   </g>\r\n   <g id=\"line2d_19\">\r\n    <path clip-path=\"url(#p4b8968a952)\" d=\"M 215.041875 213.658192 \r\nL 282.001875 213.658192 \r\nL 282.001875 106.879621 \r\nL 215.041875 106.879621 \r\nL 215.041875 213.658192 \r\n\" style=\"fill:none;stroke:#000000;stroke-linecap:round;\"/>\r\n   </g>\r\n   <g id=\"line2d_20\">\r\n    <path clip-path=\"url(#p4b8968a952)\" d=\"M 248.521875 213.658192 \r\nL 248.521875 267.047478 \r\n\" style=\"fill:none;stroke:#000000;stroke-linecap:round;\"/>\r\n   </g>\r\n   <g id=\"line2d_21\">\r\n    <path clip-path=\"url(#p4b8968a952)\" d=\"M 248.521875 106.879621 \r\nL 248.521875 53.490335 \r\n\" style=\"fill:none;stroke:#000000;stroke-linecap:round;\"/>\r\n   </g>\r\n   <g id=\"line2d_22\">\r\n    <path clip-path=\"url(#p4b8968a952)\" d=\"M 231.781875 267.047478 \r\nL 265.261875 267.047478 \r\n\" style=\"fill:none;stroke:#000000;stroke-linecap:round;\"/>\r\n   </g>\r\n   <g id=\"line2d_23\">\r\n    <path clip-path=\"url(#p4b8968a952)\" d=\"M 231.781875 53.490335 \r\nL 265.261875 53.490335 \r\n\" style=\"fill:none;stroke:#000000;stroke-linecap:round;\"/>\r\n   </g>\r\n   <g id=\"line2d_24\"/>\r\n   <g id=\"line2d_25\">\r\n    <path clip-path=\"url(#p4b8968a952)\" d=\"M 215.041875 160.268906 \r\nL 282.001875 160.268906 \r\n\" style=\"fill:none;stroke:#55a868;stroke-linecap:round;\"/>\r\n   </g>\r\n   <g id=\"patch_3\">\r\n    <path d=\"M 25.321875 309.758906 \r\nL 25.321875 10.778906 \r\n\" style=\"fill:none;\"/>\r\n   </g>\r\n   <g id=\"patch_4\">\r\n    <path d=\"M 471.721875 309.758906 \r\nL 471.721875 10.778906 \r\n\" style=\"fill:none;\"/>\r\n   </g>\r\n   <g id=\"patch_5\">\r\n    <path d=\"M 25.321875 309.758906 \r\nL 471.721875 309.758906 \r\n\" style=\"fill:none;\"/>\r\n   </g>\r\n   <g id=\"patch_6\">\r\n    <path d=\"M 25.321875 10.778906 \r\nL 471.721875 10.778906 \r\n\" style=\"fill:none;\"/>\r\n   </g>\r\n  </g>\r\n </g>\r\n <defs>\r\n  <clipPath id=\"p4b8968a952\">\r\n   <rect height=\"298.98\" width=\"446.4\" x=\"25.321875\" y=\"10.778906\"/>\r\n  </clipPath>\r\n </defs>\r\n</svg>\r\n",
      "text/plain": "<Figure size 576x396 with 1 Axes>"
     },
     "metadata": {},
     "output_type": "display_data"
    }
   ],
   "source": [
    "#quartet.y1.plot(kind = 'box', ylim = (2,14), title = 'T')\n",
    "plt.ylim(2,16)\n",
    "plt.boxplot(quartet.x1)"
   ]
  },
  {
   "cell_type": "code",
   "execution_count": 6,
   "metadata": {},
   "outputs": [
    {
     "data": {
      "text/html": "<div>\n<style scoped>\n    .dataframe tbody tr th:only-of-type {\n        vertical-align: middle;\n    }\n\n    .dataframe tbody tr th {\n        vertical-align: top;\n    }\n\n    .dataframe thead th {\n        text-align: right;\n    }\n</style>\n<table border=\"1\" class=\"dataframe\">\n  <thead>\n    <tr style=\"text-align: right;\">\n      <th></th>\n      <th>sepal_length</th>\n      <th>sepal_width</th>\n      <th>petal_length</th>\n      <th>petal_width</th>\n      <th>class</th>\n    </tr>\n  </thead>\n  <tbody>\n    <tr>\n      <th>0</th>\n      <td>5.1</td>\n      <td>3.5</td>\n      <td>1.4</td>\n      <td>0.2</td>\n      <td>Iris-setosa</td>\n    </tr>\n    <tr>\n      <th>1</th>\n      <td>4.9</td>\n      <td>3.0</td>\n      <td>1.4</td>\n      <td>0.2</td>\n      <td>Iris-setosa</td>\n    </tr>\n    <tr>\n      <th>2</th>\n      <td>4.7</td>\n      <td>3.2</td>\n      <td>1.3</td>\n      <td>0.2</td>\n      <td>Iris-setosa</td>\n    </tr>\n    <tr>\n      <th>3</th>\n      <td>4.6</td>\n      <td>3.1</td>\n      <td>1.5</td>\n      <td>0.2</td>\n      <td>Iris-setosa</td>\n    </tr>\n    <tr>\n      <th>4</th>\n      <td>5.0</td>\n      <td>3.6</td>\n      <td>1.4</td>\n      <td>0.2</td>\n      <td>Iris-setosa</td>\n    </tr>\n    <tr>\n      <th>5</th>\n      <td>5.4</td>\n      <td>3.9</td>\n      <td>1.7</td>\n      <td>0.4</td>\n      <td>Iris-setosa</td>\n    </tr>\n    <tr>\n      <th>6</th>\n      <td>4.6</td>\n      <td>3.4</td>\n      <td>1.4</td>\n      <td>0.3</td>\n      <td>Iris-setosa</td>\n    </tr>\n    <tr>\n      <th>7</th>\n      <td>5.0</td>\n      <td>3.4</td>\n      <td>1.5</td>\n      <td>0.2</td>\n      <td>Iris-setosa</td>\n    </tr>\n    <tr>\n      <th>8</th>\n      <td>4.4</td>\n      <td>2.9</td>\n      <td>1.4</td>\n      <td>0.2</td>\n      <td>Iris-setosa</td>\n    </tr>\n    <tr>\n      <th>9</th>\n      <td>4.9</td>\n      <td>3.1</td>\n      <td>1.5</td>\n      <td>0.1</td>\n      <td>Iris-setosa</td>\n    </tr>\n    <tr>\n      <th>10</th>\n      <td>5.4</td>\n      <td>3.7</td>\n      <td>1.5</td>\n      <td>0.2</td>\n      <td>Iris-setosa</td>\n    </tr>\n    <tr>\n      <th>11</th>\n      <td>4.8</td>\n      <td>3.4</td>\n      <td>1.6</td>\n      <td>0.2</td>\n      <td>Iris-setosa</td>\n    </tr>\n    <tr>\n      <th>12</th>\n      <td>4.8</td>\n      <td>3.0</td>\n      <td>1.4</td>\n      <td>0.1</td>\n      <td>Iris-setosa</td>\n    </tr>\n    <tr>\n      <th>13</th>\n      <td>4.3</td>\n      <td>3.0</td>\n      <td>1.1</td>\n      <td>0.1</td>\n      <td>Iris-setosa</td>\n    </tr>\n    <tr>\n      <th>14</th>\n      <td>5.8</td>\n      <td>4.0</td>\n      <td>1.2</td>\n      <td>0.2</td>\n      <td>Iris-setosa</td>\n    </tr>\n    <tr>\n      <th>15</th>\n      <td>5.7</td>\n      <td>4.4</td>\n      <td>1.5</td>\n      <td>0.4</td>\n      <td>Iris-setosa</td>\n    </tr>\n    <tr>\n      <th>16</th>\n      <td>5.4</td>\n      <td>3.9</td>\n      <td>1.3</td>\n      <td>0.4</td>\n      <td>Iris-setosa</td>\n    </tr>\n    <tr>\n      <th>17</th>\n      <td>5.1</td>\n      <td>3.5</td>\n      <td>1.4</td>\n      <td>0.3</td>\n      <td>Iris-setosa</td>\n    </tr>\n    <tr>\n      <th>18</th>\n      <td>5.7</td>\n      <td>3.8</td>\n      <td>1.7</td>\n      <td>0.3</td>\n      <td>Iris-setosa</td>\n    </tr>\n    <tr>\n      <th>19</th>\n      <td>5.1</td>\n      <td>3.8</td>\n      <td>1.5</td>\n      <td>0.3</td>\n      <td>Iris-setosa</td>\n    </tr>\n    <tr>\n      <th>20</th>\n      <td>5.4</td>\n      <td>3.4</td>\n      <td>1.7</td>\n      <td>0.2</td>\n      <td>Iris-setosa</td>\n    </tr>\n    <tr>\n      <th>21</th>\n      <td>5.1</td>\n      <td>3.7</td>\n      <td>1.5</td>\n      <td>0.4</td>\n      <td>Iris-setosa</td>\n    </tr>\n    <tr>\n      <th>22</th>\n      <td>4.6</td>\n      <td>3.6</td>\n      <td>1.0</td>\n      <td>0.2</td>\n      <td>Iris-setosa</td>\n    </tr>\n    <tr>\n      <th>23</th>\n      <td>5.1</td>\n      <td>3.3</td>\n      <td>1.7</td>\n      <td>0.5</td>\n      <td>Iris-setosa</td>\n    </tr>\n    <tr>\n      <th>24</th>\n      <td>4.8</td>\n      <td>3.4</td>\n      <td>1.9</td>\n      <td>0.2</td>\n      <td>Iris-setosa</td>\n    </tr>\n    <tr>\n      <th>25</th>\n      <td>5.0</td>\n      <td>3.0</td>\n      <td>1.6</td>\n      <td>0.2</td>\n      <td>Iris-setosa</td>\n    </tr>\n    <tr>\n      <th>26</th>\n      <td>5.0</td>\n      <td>3.4</td>\n      <td>1.6</td>\n      <td>0.4</td>\n      <td>Iris-setosa</td>\n    </tr>\n    <tr>\n      <th>27</th>\n      <td>5.2</td>\n      <td>3.5</td>\n      <td>1.5</td>\n      <td>0.2</td>\n      <td>Iris-setosa</td>\n    </tr>\n    <tr>\n      <th>28</th>\n      <td>5.2</td>\n      <td>3.4</td>\n      <td>1.4</td>\n      <td>0.2</td>\n      <td>Iris-setosa</td>\n    </tr>\n    <tr>\n      <th>29</th>\n      <td>4.7</td>\n      <td>3.2</td>\n      <td>1.6</td>\n      <td>0.2</td>\n      <td>Iris-setosa</td>\n    </tr>\n    <tr>\n      <th>...</th>\n      <td>...</td>\n      <td>...</td>\n      <td>...</td>\n      <td>...</td>\n      <td>...</td>\n    </tr>\n    <tr>\n      <th>120</th>\n      <td>6.9</td>\n      <td>3.2</td>\n      <td>5.7</td>\n      <td>2.3</td>\n      <td>Iris-virginica</td>\n    </tr>\n    <tr>\n      <th>121</th>\n      <td>5.6</td>\n      <td>2.8</td>\n      <td>4.9</td>\n      <td>2.0</td>\n      <td>Iris-virginica</td>\n    </tr>\n    <tr>\n      <th>122</th>\n      <td>7.7</td>\n      <td>2.8</td>\n      <td>6.7</td>\n      <td>2.0</td>\n      <td>Iris-virginica</td>\n    </tr>\n    <tr>\n      <th>123</th>\n      <td>6.3</td>\n      <td>2.7</td>\n      <td>4.9</td>\n      <td>1.8</td>\n      <td>Iris-virginica</td>\n    </tr>\n    <tr>\n      <th>124</th>\n      <td>6.7</td>\n      <td>3.3</td>\n      <td>5.7</td>\n      <td>2.1</td>\n      <td>Iris-virginica</td>\n    </tr>\n    <tr>\n      <th>125</th>\n      <td>7.2</td>\n      <td>3.2</td>\n      <td>6.0</td>\n      <td>1.8</td>\n      <td>Iris-virginica</td>\n    </tr>\n    <tr>\n      <th>126</th>\n      <td>6.2</td>\n      <td>2.8</td>\n      <td>4.8</td>\n      <td>1.8</td>\n      <td>Iris-virginica</td>\n    </tr>\n    <tr>\n      <th>127</th>\n      <td>6.1</td>\n      <td>3.0</td>\n      <td>4.9</td>\n      <td>1.8</td>\n      <td>Iris-virginica</td>\n    </tr>\n    <tr>\n      <th>128</th>\n      <td>6.4</td>\n      <td>2.8</td>\n      <td>5.6</td>\n      <td>2.1</td>\n      <td>Iris-virginica</td>\n    </tr>\n    <tr>\n      <th>129</th>\n      <td>7.2</td>\n      <td>3.0</td>\n      <td>5.8</td>\n      <td>1.6</td>\n      <td>Iris-virginica</td>\n    </tr>\n    <tr>\n      <th>130</th>\n      <td>7.4</td>\n      <td>2.8</td>\n      <td>6.1</td>\n      <td>1.9</td>\n      <td>Iris-virginica</td>\n    </tr>\n    <tr>\n      <th>131</th>\n      <td>7.9</td>\n      <td>3.8</td>\n      <td>6.4</td>\n      <td>2.0</td>\n      <td>Iris-virginica</td>\n    </tr>\n    <tr>\n      <th>132</th>\n      <td>6.4</td>\n      <td>2.8</td>\n      <td>5.6</td>\n      <td>2.2</td>\n      <td>Iris-virginica</td>\n    </tr>\n    <tr>\n      <th>133</th>\n      <td>6.3</td>\n      <td>2.8</td>\n      <td>5.1</td>\n      <td>1.5</td>\n      <td>Iris-virginica</td>\n    </tr>\n    <tr>\n      <th>134</th>\n      <td>6.1</td>\n      <td>2.6</td>\n      <td>5.6</td>\n      <td>1.4</td>\n      <td>Iris-virginica</td>\n    </tr>\n    <tr>\n      <th>135</th>\n      <td>7.7</td>\n      <td>3.0</td>\n      <td>6.1</td>\n      <td>2.3</td>\n      <td>Iris-virginica</td>\n    </tr>\n    <tr>\n      <th>136</th>\n      <td>6.3</td>\n      <td>3.4</td>\n      <td>5.6</td>\n      <td>2.4</td>\n      <td>Iris-virginica</td>\n    </tr>\n    <tr>\n      <th>137</th>\n      <td>6.4</td>\n      <td>3.1</td>\n      <td>5.5</td>\n      <td>1.8</td>\n      <td>Iris-virginica</td>\n    </tr>\n    <tr>\n      <th>138</th>\n      <td>6.0</td>\n      <td>3.0</td>\n      <td>4.8</td>\n      <td>1.8</td>\n      <td>Iris-virginica</td>\n    </tr>\n    <tr>\n      <th>139</th>\n      <td>6.9</td>\n      <td>3.1</td>\n      <td>5.4</td>\n      <td>2.1</td>\n      <td>Iris-virginica</td>\n    </tr>\n    <tr>\n      <th>140</th>\n      <td>6.7</td>\n      <td>3.1</td>\n      <td>5.6</td>\n      <td>2.4</td>\n      <td>Iris-virginica</td>\n    </tr>\n    <tr>\n      <th>141</th>\n      <td>6.9</td>\n      <td>3.1</td>\n      <td>5.1</td>\n      <td>2.3</td>\n      <td>Iris-virginica</td>\n    </tr>\n    <tr>\n      <th>142</th>\n      <td>5.8</td>\n      <td>2.7</td>\n      <td>5.1</td>\n      <td>1.9</td>\n      <td>Iris-virginica</td>\n    </tr>\n    <tr>\n      <th>143</th>\n      <td>6.8</td>\n      <td>3.2</td>\n      <td>5.9</td>\n      <td>2.3</td>\n      <td>Iris-virginica</td>\n    </tr>\n    <tr>\n      <th>144</th>\n      <td>6.7</td>\n      <td>3.3</td>\n      <td>5.7</td>\n      <td>2.5</td>\n      <td>Iris-virginica</td>\n    </tr>\n    <tr>\n      <th>145</th>\n      <td>6.7</td>\n      <td>3.0</td>\n      <td>5.2</td>\n      <td>2.3</td>\n      <td>Iris-virginica</td>\n    </tr>\n    <tr>\n      <th>146</th>\n      <td>6.3</td>\n      <td>2.5</td>\n      <td>5.0</td>\n      <td>1.9</td>\n      <td>Iris-virginica</td>\n    </tr>\n    <tr>\n      <th>147</th>\n      <td>6.5</td>\n      <td>3.0</td>\n      <td>5.2</td>\n      <td>2.0</td>\n      <td>Iris-virginica</td>\n    </tr>\n    <tr>\n      <th>148</th>\n      <td>6.2</td>\n      <td>3.4</td>\n      <td>5.4</td>\n      <td>2.3</td>\n      <td>Iris-virginica</td>\n    </tr>\n    <tr>\n      <th>149</th>\n      <td>5.9</td>\n      <td>3.0</td>\n      <td>5.1</td>\n      <td>1.8</td>\n      <td>Iris-virginica</td>\n    </tr>\n  </tbody>\n</table>\n<p>150 rows × 5 columns</p>\n</div>",
      "text/plain": "     sepal_length  sepal_width  petal_length  petal_width           class\n0             5.1          3.5           1.4          0.2     Iris-setosa\n1             4.9          3.0           1.4          0.2     Iris-setosa\n2             4.7          3.2           1.3          0.2     Iris-setosa\n3             4.6          3.1           1.5          0.2     Iris-setosa\n4             5.0          3.6           1.4          0.2     Iris-setosa\n5             5.4          3.9           1.7          0.4     Iris-setosa\n6             4.6          3.4           1.4          0.3     Iris-setosa\n7             5.0          3.4           1.5          0.2     Iris-setosa\n8             4.4          2.9           1.4          0.2     Iris-setosa\n9             4.9          3.1           1.5          0.1     Iris-setosa\n10            5.4          3.7           1.5          0.2     Iris-setosa\n11            4.8          3.4           1.6          0.2     Iris-setosa\n12            4.8          3.0           1.4          0.1     Iris-setosa\n13            4.3          3.0           1.1          0.1     Iris-setosa\n14            5.8          4.0           1.2          0.2     Iris-setosa\n15            5.7          4.4           1.5          0.4     Iris-setosa\n16            5.4          3.9           1.3          0.4     Iris-setosa\n17            5.1          3.5           1.4          0.3     Iris-setosa\n18            5.7          3.8           1.7          0.3     Iris-setosa\n19            5.1          3.8           1.5          0.3     Iris-setosa\n20            5.4          3.4           1.7          0.2     Iris-setosa\n21            5.1          3.7           1.5          0.4     Iris-setosa\n22            4.6          3.6           1.0          0.2     Iris-setosa\n23            5.1          3.3           1.7          0.5     Iris-setosa\n24            4.8          3.4           1.9          0.2     Iris-setosa\n25            5.0          3.0           1.6          0.2     Iris-setosa\n26            5.0          3.4           1.6          0.4     Iris-setosa\n27            5.2          3.5           1.5          0.2     Iris-setosa\n28            5.2          3.4           1.4          0.2     Iris-setosa\n29            4.7          3.2           1.6          0.2     Iris-setosa\n..            ...          ...           ...          ...             ...\n120           6.9          3.2           5.7          2.3  Iris-virginica\n121           5.6          2.8           4.9          2.0  Iris-virginica\n122           7.7          2.8           6.7          2.0  Iris-virginica\n123           6.3          2.7           4.9          1.8  Iris-virginica\n124           6.7          3.3           5.7          2.1  Iris-virginica\n125           7.2          3.2           6.0          1.8  Iris-virginica\n126           6.2          2.8           4.8          1.8  Iris-virginica\n127           6.1          3.0           4.9          1.8  Iris-virginica\n128           6.4          2.8           5.6          2.1  Iris-virginica\n129           7.2          3.0           5.8          1.6  Iris-virginica\n130           7.4          2.8           6.1          1.9  Iris-virginica\n131           7.9          3.8           6.4          2.0  Iris-virginica\n132           6.4          2.8           5.6          2.2  Iris-virginica\n133           6.3          2.8           5.1          1.5  Iris-virginica\n134           6.1          2.6           5.6          1.4  Iris-virginica\n135           7.7          3.0           6.1          2.3  Iris-virginica\n136           6.3          3.4           5.6          2.4  Iris-virginica\n137           6.4          3.1           5.5          1.8  Iris-virginica\n138           6.0          3.0           4.8          1.8  Iris-virginica\n139           6.9          3.1           5.4          2.1  Iris-virginica\n140           6.7          3.1           5.6          2.4  Iris-virginica\n141           6.9          3.1           5.1          2.3  Iris-virginica\n142           5.8          2.7           5.1          1.9  Iris-virginica\n143           6.8          3.2           5.9          2.3  Iris-virginica\n144           6.7          3.3           5.7          2.5  Iris-virginica\n145           6.7          3.0           5.2          2.3  Iris-virginica\n146           6.3          2.5           5.0          1.9  Iris-virginica\n147           6.5          3.0           5.2          2.0  Iris-virginica\n148           6.2          3.4           5.4          2.3  Iris-virginica\n149           5.9          3.0           5.1          1.8  Iris-virginica\n\n[150 rows x 5 columns]"
     },
     "execution_count": 6,
     "metadata": {},
     "output_type": "execute_result"
    }
   ],
   "source": [
    "# Box Plot (biểu đồ hộp): để nhìn tổng quan cách phân bổ của dữ liệu (tập trung, phân tán, đối xứng, lệch)\n",
    "iris"
   ]
  },
  {
   "cell_type": "code",
   "execution_count": 7,
   "metadata": {},
   "outputs": [
    {
     "data": {
      "text/plain": "{'whiskers': [<matplotlib.lines.Line2D at 0x20ff0eb3630>,\n  <matplotlib.lines.Line2D at 0x20ff0eb3a20>,\n  <matplotlib.lines.Line2D at 0x20ff0ebbf60>,\n  <matplotlib.lines.Line2D at 0x20ff0ebbef0>,\n  <matplotlib.lines.Line2D at 0x20ff0ed3860>,\n  <matplotlib.lines.Line2D at 0x20ff0ed3be0>,\n  <matplotlib.lines.Line2D at 0x20ff0edfeb8>,\n  <matplotlib.lines.Line2D at 0x20ff0eeb4e0>],\n 'caps': [<matplotlib.lines.Line2D at 0x20ff0eb3da0>,\n  <matplotlib.lines.Line2D at 0x20ff0eb3eb8>,\n  <matplotlib.lines.Line2D at 0x20ff0ecb6a0>,\n  <matplotlib.lines.Line2D at 0x20ff0ecba20>,\n  <matplotlib.lines.Line2D at 0x20ff0ed3f60>,\n  <matplotlib.lines.Line2D at 0x20ff0ed3ef0>,\n  <matplotlib.lines.Line2D at 0x20ff0eeb860>,\n  <matplotlib.lines.Line2D at 0x20ff0eebbe0>],\n 'boxes': [<matplotlib.lines.Line2D at 0x20ff0e87b00>,\n  <matplotlib.lines.Line2D at 0x20ff0ebbbe0>,\n  <matplotlib.lines.Line2D at 0x20ff0ed34e0>,\n  <matplotlib.lines.Line2D at 0x20ff0edfda0>],\n 'medians': [<matplotlib.lines.Line2D at 0x20ff0ebb4e0>,\n  <matplotlib.lines.Line2D at 0x20ff0ecbda0>,\n  <matplotlib.lines.Line2D at 0x20ff0edf6a0>,\n  <matplotlib.lines.Line2D at 0x20ff0eebf60>],\n 'fliers': [<matplotlib.lines.Line2D at 0x20ff0ebb860>,\n  <matplotlib.lines.Line2D at 0x20ff0ecbeb8>,\n  <matplotlib.lines.Line2D at 0x20ff0edfa20>,\n  <matplotlib.lines.Line2D at 0x20ff0eebef0>],\n 'means': []}"
     },
     "execution_count": 7,
     "metadata": {},
     "output_type": "execute_result"
    },
    {
     "data": {
      "image/png": "[encoded data removed]",
      "image/svg+xml": "<?xml version=\"1.0\" encoding=\"utf-8\" standalone=\"no\"?>\r\n<!DOCTYPE svg PUBLIC \"-//W3C//DTD SVG 1.1//EN\"\r\n  \"http://www.w3.org/Graphics/SVG/1.1/DTD/svg11.dtd\">\r\n<!-- Created with matplotlib (https://matplotlib.org/) -->\r\n<svg height=\"329.525312pt\" version=\"1.1\" viewBox=\"0 0 473.360937 329.525312\" width=\"473.360937pt\" xmlns=\"http://www.w3.org/2000/svg\" xmlns:xlink=\"http://www.w3.org/1999/xlink\">\r\n <defs>\r\n  <style type=\"text/css\">\r\n*{stroke-linecap:butt;stroke-linejoin:round;white-space:pre;}\r\n  </style>\r\n </defs>\r\n <g id=\"figure_1\">\r\n  <g id=\"patch_1\">\r\n   <path d=\"M 0 329.525312 \r\nL 473.360937 329.525312 \r\nL 473.360937 0 \r\nL 0 0 \r\nz\r\n\" style=\"fill:#ffffff;\"/>\r\n  </g>\r\n  <g id=\"axes_1\">\r\n   <g id=\"patch_2\">\r\n    <path d=\"M 19.760938 306.18 \r\nL 466.160937 306.18 \r\nL 466.160937 7.2 \r\nL 19.760938 7.2 \r\nz\r\n\" style=\"fill:#eaeaf2;\"/>\r\n   </g>\r\n   <g id=\"matplotlib.axis_1\">\r\n    <g id=\"xtick_1\">\r\n     <g id=\"line2d_1\">\r\n      <path clip-path=\"url(#p3a95e45384)\" d=\"M 75.560937 306.18 \r\nL 75.560937 7.2 \r\n\" style=\"fill:none;stroke:#ffffff;stroke-linecap:round;\"/>\r\n     </g>\r\n     <g id=\"line2d_2\"/>\r\n     <g id=\"text_1\">\r\n      <!-- 1 -->\r\n      <defs>\r\n       <path d=\"M 37.25 0 \r\nL 28.46875 0 \r\nL 28.46875 56 \r\nQ 25.296875 52.984375 20.140625 49.953125 \r\nQ 14.984375 46.921875 10.890625 45.40625 \r\nL 10.890625 53.90625 \r\nQ 18.265625 57.375 23.78125 62.296875 \r\nQ 29.296875 67.234375 31.59375 71.875 \r\nL 37.25 71.875 \r\nz\r\n\" id=\"ArialMT-49\"/>\r\n      </defs>\r\n      <g style=\"fill:#262626;\" transform=\"translate(72.780469 320.337812)scale(0.1 -0.1)\">\r\n       <use xlink:href=\"#ArialMT-49\"/>\r\n      </g>\r\n     </g>\r\n    </g>\r\n    <g id=\"xtick_2\">\r\n     <g id=\"line2d_3\">\r\n      <path clip-path=\"url(#p3a95e45384)\" d=\"M 187.160937 306.18 \r\nL 187.160937 7.2 \r\n\" style=\"fill:none;stroke:#ffffff;stroke-linecap:round;\"/>\r\n     </g>\r\n     <g id=\"line2d_4\"/>\r\n     <g id=\"text_2\">\r\n      <!-- 2 -->\r\n      <defs>\r\n       <path d=\"M 50.34375 8.453125 \r\nL 50.34375 0 \r\nL 3.03125 0 \r\nQ 2.9375 3.171875 4.046875 6.109375 \r\nQ 5.859375 10.9375 9.828125 15.625 \r\nQ 13.8125 20.3125 21.34375 26.46875 \r\nQ 33.015625 36.03125 37.109375 41.625 \r\nQ 41.21875 47.21875 41.21875 52.203125 \r\nQ 41.21875 57.421875 37.46875 61 \r\nQ 33.734375 64.59375 27.734375 64.59375 \r\nQ 21.390625 64.59375 17.578125 60.78125 \r\nQ 13.765625 56.984375 13.71875 50.25 \r\nL 4.6875 51.171875 \r\nQ 5.609375 61.28125 11.65625 66.578125 \r\nQ 17.71875 71.875 27.9375 71.875 \r\nQ 38.234375 71.875 44.234375 66.15625 \r\nQ 50.25 60.453125 50.25 52 \r\nQ 50.25 47.703125 48.484375 43.546875 \r\nQ 46.734375 39.40625 42.65625 34.8125 \r\nQ 38.578125 30.21875 29.109375 22.21875 \r\nQ 21.1875 15.578125 18.9375 13.203125 \r\nQ 16.703125 10.84375 15.234375 8.453125 \r\nz\r\n\" id=\"ArialMT-50\"/>\r\n      </defs>\r\n      <g style=\"fill:#262626;\" transform=\"translate(184.380469 320.337812)scale(0.1 -0.1)\">\r\n       <use xlink:href=\"#ArialMT-50\"/>\r\n      </g>\r\n     </g>\r\n    </g>\r\n    <g id=\"xtick_3\">\r\n     <g id=\"line2d_5\">\r\n      <path clip-path=\"url(#p3a95e45384)\" d=\"M 298.760937 306.18 \r\nL 298.760937 7.2 \r\n\" style=\"fill:none;stroke:#ffffff;stroke-linecap:round;\"/>\r\n     </g>\r\n     <g id=\"line2d_6\"/>\r\n     <g id=\"text_3\">\r\n      <!-- 3 -->\r\n      <defs>\r\n       <path d=\"M 4.203125 18.890625 \r\nL 12.984375 20.0625 \r\nQ 14.5 12.59375 18.140625 9.296875 \r\nQ 21.78125 6 27 6 \r\nQ 33.203125 6 37.46875 10.296875 \r\nQ 41.75 14.59375 41.75 20.953125 \r\nQ 41.75 27 37.796875 30.921875 \r\nQ 33.84375 34.859375 27.734375 34.859375 \r\nQ 25.25 34.859375 21.53125 33.890625 \r\nL 22.515625 41.609375 \r\nQ 23.390625 41.5 23.921875 41.5 \r\nQ 29.546875 41.5 34.03125 44.421875 \r\nQ 38.53125 47.359375 38.53125 53.46875 \r\nQ 38.53125 58.296875 35.25 61.46875 \r\nQ 31.984375 64.65625 26.8125 64.65625 \r\nQ 21.6875 64.65625 18.265625 61.421875 \r\nQ 14.84375 58.203125 13.875 51.765625 \r\nL 5.078125 53.328125 \r\nQ 6.6875 62.15625 12.390625 67.015625 \r\nQ 18.109375 71.875 26.609375 71.875 \r\nQ 32.46875 71.875 37.390625 69.359375 \r\nQ 42.328125 66.84375 44.9375 62.5 \r\nQ 47.5625 58.15625 47.5625 53.265625 \r\nQ 47.5625 48.640625 45.0625 44.828125 \r\nQ 42.578125 41.015625 37.703125 38.765625 \r\nQ 44.046875 37.3125 47.5625 32.6875 \r\nQ 51.078125 28.078125 51.078125 21.140625 \r\nQ 51.078125 11.765625 44.234375 5.25 \r\nQ 37.40625 -1.265625 26.953125 -1.265625 \r\nQ 17.53125 -1.265625 11.296875 4.34375 \r\nQ 5.078125 9.96875 4.203125 18.890625 \r\nz\r\n\" id=\"ArialMT-51\"/>\r\n      </defs>\r\n      <g style=\"fill:#262626;\" transform=\"translate(295.980469 320.337812)scale(0.1 -0.1)\">\r\n       <use xlink:href=\"#ArialMT-51\"/>\r\n      </g>\r\n     </g>\r\n    </g>\r\n    <g id=\"xtick_4\">\r\n     <g id=\"line2d_7\">\r\n      <path clip-path=\"url(#p3a95e45384)\" d=\"M 410.360937 306.18 \r\nL 410.360937 7.2 \r\n\" style=\"fill:none;stroke:#ffffff;stroke-linecap:round;\"/>\r\n     </g>\r\n     <g id=\"line2d_8\"/>\r\n     <g id=\"text_4\">\r\n      <!-- 4 -->\r\n      <defs>\r\n       <path d=\"M 32.328125 0 \r\nL 32.328125 17.140625 \r\nL 1.265625 17.140625 \r\nL 1.265625 25.203125 \r\nL 33.9375 71.578125 \r\nL 41.109375 71.578125 \r\nL 41.109375 25.203125 \r\nL 50.78125 25.203125 \r\nL 50.78125 17.140625 \r\nL 41.109375 17.140625 \r\nL 41.109375 0 \r\nz\r\nM 32.328125 25.203125 \r\nL 32.328125 57.46875 \r\nL 9.90625 25.203125 \r\nz\r\n\" id=\"ArialMT-52\"/>\r\n      </defs>\r\n      <g style=\"fill:#262626;\" transform=\"translate(407.580469 320.337812)scale(0.1 -0.1)\">\r\n       <use xlink:href=\"#ArialMT-52\"/>\r\n      </g>\r\n     </g>\r\n    </g>\r\n   </g>\r\n   <g id=\"matplotlib.axis_2\">\r\n    <g id=\"ytick_1\">\r\n     <g id=\"line2d_9\">\r\n      <path clip-path=\"url(#p3a95e45384)\" d=\"M 19.760938 296.074615 \r\nL 466.160937 296.074615 \r\n\" style=\"fill:none;stroke:#ffffff;stroke-linecap:round;\"/>\r\n     </g>\r\n     <g id=\"line2d_10\"/>\r\n     <g id=\"text_5\">\r\n      <!-- 0 -->\r\n      <defs>\r\n       <path d=\"M 4.15625 35.296875 \r\nQ 4.15625 48 6.765625 55.734375 \r\nQ 9.375 63.484375 14.515625 67.671875 \r\nQ 19.671875 71.875 27.484375 71.875 \r\nQ 33.25 71.875 37.59375 69.546875 \r\nQ 41.9375 67.234375 44.765625 62.859375 \r\nQ 47.609375 58.5 49.21875 52.21875 \r\nQ 50.828125 45.953125 50.828125 35.296875 \r\nQ 50.828125 22.703125 48.234375 14.96875 \r\nQ 45.65625 7.234375 40.5 3 \r\nQ 35.359375 -1.21875 27.484375 -1.21875 \r\nQ 17.140625 -1.21875 11.234375 6.203125 \r\nQ 4.15625 15.140625 4.15625 35.296875 \r\nz\r\nM 13.1875 35.296875 \r\nQ 13.1875 17.671875 17.3125 11.828125 \r\nQ 21.4375 6 27.484375 6 \r\nQ 33.546875 6 37.671875 11.859375 \r\nQ 41.796875 17.71875 41.796875 35.296875 \r\nQ 41.796875 52.984375 37.671875 58.78125 \r\nQ 33.546875 64.59375 27.390625 64.59375 \r\nQ 21.34375 64.59375 17.71875 59.46875 \r\nQ 13.1875 52.9375 13.1875 35.296875 \r\nz\r\n\" id=\"ArialMT-48\"/>\r\n      </defs>\r\n      <g style=\"fill:#262626;\" transform=\"translate(7.2 299.653522)scale(0.1 -0.1)\">\r\n       <use xlink:href=\"#ArialMT-48\"/>\r\n      </g>\r\n     </g>\r\n    </g>\r\n    <g id=\"ytick_2\">\r\n     <g id=\"line2d_11\">\r\n      <path clip-path=\"url(#p3a95e45384)\" d=\"M 19.760938 261.228462 \r\nL 466.160937 261.228462 \r\n\" style=\"fill:none;stroke:#ffffff;stroke-linecap:round;\"/>\r\n     </g>\r\n     <g id=\"line2d_12\"/>\r\n     <g id=\"text_6\">\r\n      <!-- 1 -->\r\n      <g style=\"fill:#262626;\" transform=\"translate(7.2 264.807368)scale(0.1 -0.1)\">\r\n       <use xlink:href=\"#ArialMT-49\"/>\r\n      </g>\r\n     </g>\r\n    </g>\r\n    <g id=\"ytick_3\">\r\n     <g id=\"line2d_13\">\r\n      <path clip-path=\"url(#p3a95e45384)\" d=\"M 19.760938 226.382308 \r\nL 466.160937 226.382308 \r\n\" style=\"fill:none;stroke:#ffffff;stroke-linecap:round;\"/>\r\n     </g>\r\n     <g id=\"line2d_14\"/>\r\n     <g id=\"text_7\">\r\n      <!-- 2 -->\r\n      <g style=\"fill:#262626;\" transform=\"translate(7.2 229.961214)scale(0.1 -0.1)\">\r\n       <use xlink:href=\"#ArialMT-50\"/>\r\n      </g>\r\n     </g>\r\n    </g>\r\n    <g id=\"ytick_4\">\r\n     <g id=\"line2d_15\">\r\n      <path clip-path=\"url(#p3a95e45384)\" d=\"M 19.760938 191.536154 \r\nL 466.160937 191.536154 \r\n\" style=\"fill:none;stroke:#ffffff;stroke-linecap:round;\"/>\r\n     </g>\r\n     <g id=\"line2d_16\"/>\r\n     <g id=\"text_8\">\r\n      <!-- 3 -->\r\n      <g style=\"fill:#262626;\" transform=\"translate(7.2 195.11506)scale(0.1 -0.1)\">\r\n       <use xlink:href=\"#ArialMT-51\"/>\r\n      </g>\r\n     </g>\r\n    </g>\r\n    <g id=\"ytick_5\">\r\n     <g id=\"line2d_17\">\r\n      <path clip-path=\"url(#p3a95e45384)\" d=\"M 19.760938 156.69 \r\nL 466.160937 156.69 \r\n\" style=\"fill:none;stroke:#ffffff;stroke-linecap:round;\"/>\r\n     </g>\r\n     <g id=\"line2d_18\"/>\r\n     <g id=\"text_9\">\r\n      <!-- 4 -->\r\n      <g style=\"fill:#262626;\" transform=\"translate(7.2 160.268906)scale(0.1 -0.1)\">\r\n       <use xlink:href=\"#ArialMT-52\"/>\r\n      </g>\r\n     </g>\r\n    </g>\r\n    <g id=\"ytick_6\">\r\n     <g id=\"line2d_19\">\r\n      <path clip-path=\"url(#p3a95e45384)\" d=\"M 19.760938 121.843846 \r\nL 466.160937 121.843846 \r\n\" style=\"fill:none;stroke:#ffffff;stroke-linecap:round;\"/>\r\n     </g>\r\n     <g id=\"line2d_20\"/>\r\n     <g id=\"text_10\">\r\n      <!-- 5 -->\r\n      <defs>\r\n       <path d=\"M 4.15625 18.75 \r\nL 13.375 19.53125 \r\nQ 14.40625 12.796875 18.140625 9.390625 \r\nQ 21.875 6 27.15625 6 \r\nQ 33.5 6 37.890625 10.78125 \r\nQ 42.28125 15.578125 42.28125 23.484375 \r\nQ 42.28125 31 38.0625 35.34375 \r\nQ 33.84375 39.703125 27 39.703125 \r\nQ 22.75 39.703125 19.328125 37.765625 \r\nQ 15.921875 35.84375 13.96875 32.765625 \r\nL 5.71875 33.84375 \r\nL 12.640625 70.609375 \r\nL 48.25 70.609375 \r\nL 48.25 62.203125 \r\nL 19.671875 62.203125 \r\nL 15.828125 42.96875 \r\nQ 22.265625 47.46875 29.34375 47.46875 \r\nQ 38.71875 47.46875 45.15625 40.96875 \r\nQ 51.609375 34.46875 51.609375 24.265625 \r\nQ 51.609375 14.546875 45.953125 7.46875 \r\nQ 39.0625 -1.21875 27.15625 -1.21875 \r\nQ 17.390625 -1.21875 11.203125 4.25 \r\nQ 5.03125 9.71875 4.15625 18.75 \r\nz\r\n\" id=\"ArialMT-53\"/>\r\n      </defs>\r\n      <g style=\"fill:#262626;\" transform=\"translate(7.2 125.422752)scale(0.1 -0.1)\">\r\n       <use xlink:href=\"#ArialMT-53\"/>\r\n      </g>\r\n     </g>\r\n    </g>\r\n    <g id=\"ytick_7\">\r\n     <g id=\"line2d_21\">\r\n      <path clip-path=\"url(#p3a95e45384)\" d=\"M 19.760938 86.997692 \r\nL 466.160937 86.997692 \r\n\" style=\"fill:none;stroke:#ffffff;stroke-linecap:round;\"/>\r\n     </g>\r\n     <g id=\"line2d_22\"/>\r\n     <g id=\"text_11\">\r\n      <!-- 6 -->\r\n      <defs>\r\n       <path d=\"M 49.75 54.046875 \r\nL 41.015625 53.375 \r\nQ 39.84375 58.546875 37.703125 60.890625 \r\nQ 34.125 64.65625 28.90625 64.65625 \r\nQ 24.703125 64.65625 21.53125 62.3125 \r\nQ 17.390625 59.28125 14.984375 53.46875 \r\nQ 12.59375 47.65625 12.5 36.921875 \r\nQ 15.671875 41.75 20.265625 44.09375 \r\nQ 24.859375 46.4375 29.890625 46.4375 \r\nQ 38.671875 46.4375 44.84375 39.96875 \r\nQ 51.03125 33.5 51.03125 23.25 \r\nQ 51.03125 16.5 48.125 10.71875 \r\nQ 45.21875 4.9375 40.140625 1.859375 \r\nQ 35.0625 -1.21875 28.609375 -1.21875 \r\nQ 17.625 -1.21875 10.6875 6.859375 \r\nQ 3.765625 14.9375 3.765625 33.5 \r\nQ 3.765625 54.25 11.421875 63.671875 \r\nQ 18.109375 71.875 29.4375 71.875 \r\nQ 37.890625 71.875 43.28125 67.140625 \r\nQ 48.6875 62.40625 49.75 54.046875 \r\nz\r\nM 13.875 23.1875 \r\nQ 13.875 18.65625 15.796875 14.5 \r\nQ 17.71875 10.359375 21.1875 8.171875 \r\nQ 24.65625 6 28.46875 6 \r\nQ 34.03125 6 38.03125 10.484375 \r\nQ 42.046875 14.984375 42.046875 22.703125 \r\nQ 42.046875 30.125 38.078125 34.390625 \r\nQ 34.125 38.671875 28.125 38.671875 \r\nQ 22.171875 38.671875 18.015625 34.390625 \r\nQ 13.875 30.125 13.875 23.1875 \r\nz\r\n\" id=\"ArialMT-54\"/>\r\n      </defs>\r\n      <g style=\"fill:#262626;\" transform=\"translate(7.2 90.576599)scale(0.1 -0.1)\">\r\n       <use xlink:href=\"#ArialMT-54\"/>\r\n      </g>\r\n     </g>\r\n    </g>\r\n    <g id=\"ytick_8\">\r\n     <g id=\"line2d_23\">\r\n      <path clip-path=\"url(#p3a95e45384)\" d=\"M 19.760938 52.151538 \r\nL 466.160937 52.151538 \r\n\" style=\"fill:none;stroke:#ffffff;stroke-linecap:round;\"/>\r\n     </g>\r\n     <g id=\"line2d_24\"/>\r\n     <g id=\"text_12\">\r\n      <!-- 7 -->\r\n      <defs>\r\n       <path d=\"M 4.734375 62.203125 \r\nL 4.734375 70.65625 \r\nL 51.078125 70.65625 \r\nL 51.078125 63.8125 \r\nQ 44.234375 56.546875 37.515625 44.484375 \r\nQ 30.8125 32.421875 27.15625 19.671875 \r\nQ 24.515625 10.6875 23.78125 0 \r\nL 14.75 0 \r\nQ 14.890625 8.453125 18.0625 20.40625 \r\nQ 21.234375 32.375 27.171875 43.484375 \r\nQ 33.109375 54.59375 39.796875 62.203125 \r\nz\r\n\" id=\"ArialMT-55\"/>\r\n      </defs>\r\n      <g style=\"fill:#262626;\" transform=\"translate(7.2 55.730445)scale(0.1 -0.1)\">\r\n       <use xlink:href=\"#ArialMT-55\"/>\r\n      </g>\r\n     </g>\r\n    </g>\r\n    <g id=\"ytick_9\">\r\n     <g id=\"line2d_25\">\r\n      <path clip-path=\"url(#p3a95e45384)\" d=\"M 19.760938 17.305385 \r\nL 466.160937 17.305385 \r\n\" style=\"fill:none;stroke:#ffffff;stroke-linecap:round;\"/>\r\n     </g>\r\n     <g id=\"line2d_26\"/>\r\n     <g id=\"text_13\">\r\n      <!-- 8 -->\r\n      <defs>\r\n       <path d=\"M 17.671875 38.8125 \r\nQ 12.203125 40.828125 9.5625 44.53125 \r\nQ 6.9375 48.25 6.9375 53.421875 \r\nQ 6.9375 61.234375 12.546875 66.546875 \r\nQ 18.171875 71.875 27.484375 71.875 \r\nQ 36.859375 71.875 42.578125 66.421875 \r\nQ 48.296875 60.984375 48.296875 53.171875 \r\nQ 48.296875 48.1875 45.671875 44.5 \r\nQ 43.0625 40.828125 37.75 38.8125 \r\nQ 44.34375 36.671875 47.78125 31.875 \r\nQ 51.21875 27.09375 51.21875 20.453125 \r\nQ 51.21875 11.28125 44.71875 5.03125 \r\nQ 38.234375 -1.21875 27.640625 -1.21875 \r\nQ 17.046875 -1.21875 10.546875 5.046875 \r\nQ 4.046875 11.328125 4.046875 20.703125 \r\nQ 4.046875 27.6875 7.59375 32.390625 \r\nQ 11.140625 37.109375 17.671875 38.8125 \r\nz\r\nM 15.921875 53.71875 \r\nQ 15.921875 48.640625 19.1875 45.40625 \r\nQ 22.46875 42.1875 27.6875 42.1875 \r\nQ 32.765625 42.1875 36.015625 45.375 \r\nQ 39.265625 48.578125 39.265625 53.21875 \r\nQ 39.265625 58.0625 35.90625 61.359375 \r\nQ 32.5625 64.65625 27.59375 64.65625 \r\nQ 22.5625 64.65625 19.234375 61.421875 \r\nQ 15.921875 58.203125 15.921875 53.71875 \r\nz\r\nM 13.09375 20.65625 \r\nQ 13.09375 16.890625 14.875 13.375 \r\nQ 16.65625 9.859375 20.171875 7.921875 \r\nQ 23.6875 6 27.734375 6 \r\nQ 34.03125 6 38.125 10.046875 \r\nQ 42.234375 14.109375 42.234375 20.359375 \r\nQ 42.234375 26.703125 38.015625 30.859375 \r\nQ 33.796875 35.015625 27.4375 35.015625 \r\nQ 21.234375 35.015625 17.15625 30.90625 \r\nQ 13.09375 26.8125 13.09375 20.65625 \r\nz\r\n\" id=\"ArialMT-56\"/>\r\n      </defs>\r\n      <g style=\"fill:#262626;\" transform=\"translate(7.2 20.884291)scale(0.1 -0.1)\">\r\n       <use xlink:href=\"#ArialMT-56\"/>\r\n      </g>\r\n     </g>\r\n    </g>\r\n   </g>\r\n   <g id=\"line2d_27\">\r\n    <path clip-path=\"url(#p3a95e45384)\" d=\"M 50.450938 118.359231 \r\nL 100.670938 118.359231 \r\nL 100.670938 73.059231 \r\nL 50.450938 73.059231 \r\nL 50.450938 118.359231 \r\n\" style=\"fill:none;stroke:#000000;stroke-linecap:round;\"/>\r\n   </g>\r\n   <g id=\"line2d_28\">\r\n    <path clip-path=\"url(#p3a95e45384)\" d=\"M 75.560937 118.359231 \r\nL 75.560937 146.236154 \r\n\" style=\"fill:none;stroke:#000000;stroke-linecap:round;\"/>\r\n   </g>\r\n   <g id=\"line2d_29\">\r\n    <path clip-path=\"url(#p3a95e45384)\" d=\"M 75.560937 73.059231 \r\nL 75.560937 20.79 \r\n\" style=\"fill:none;stroke:#000000;stroke-linecap:round;\"/>\r\n   </g>\r\n   <g id=\"line2d_30\">\r\n    <path clip-path=\"url(#p3a95e45384)\" d=\"M 63.005937 146.236154 \r\nL 88.115938 146.236154 \r\n\" style=\"fill:none;stroke:#000000;stroke-linecap:round;\"/>\r\n   </g>\r\n   <g id=\"line2d_31\">\r\n    <path clip-path=\"url(#p3a95e45384)\" d=\"M 63.005937 20.79 \r\nL 88.115938 20.79 \r\n\" style=\"fill:none;stroke:#000000;stroke-linecap:round;\"/>\r\n   </g>\r\n   <g id=\"line2d_32\"/>\r\n   <g id=\"line2d_33\">\r\n    <path clip-path=\"url(#p3a95e45384)\" d=\"M 162.050937 198.505385 \r\nL 212.270938 198.505385 \r\nL 212.270938 181.082308 \r\nL 162.050937 181.082308 \r\nL 162.050937 198.505385 \r\n\" style=\"fill:none;stroke:#000000;stroke-linecap:round;\"/>\r\n   </g>\r\n   <g id=\"line2d_34\">\r\n    <path clip-path=\"url(#p3a95e45384)\" d=\"M 187.160937 198.505385 \r\nL 187.160937 219.413077 \r\n\" style=\"fill:none;stroke:#000000;stroke-linecap:round;\"/>\r\n   </g>\r\n   <g id=\"line2d_35\">\r\n    <path clip-path=\"url(#p3a95e45384)\" d=\"M 187.160937 181.082308 \r\nL 187.160937 156.69 \r\n\" style=\"fill:none;stroke:#000000;stroke-linecap:round;\"/>\r\n   </g>\r\n   <g id=\"line2d_36\">\r\n    <path clip-path=\"url(#p3a95e45384)\" d=\"M 174.605937 219.413077 \r\nL 199.715937 219.413077 \r\n\" style=\"fill:none;stroke:#000000;stroke-linecap:round;\"/>\r\n   </g>\r\n   <g id=\"line2d_37\">\r\n    <path clip-path=\"url(#p3a95e45384)\" d=\"M 174.605937 156.69 \r\nL 199.715937 156.69 \r\n\" style=\"fill:none;stroke:#000000;stroke-linecap:round;\"/>\r\n   </g>\r\n   <g id=\"line2d_38\">\r\n    <defs>\r\n     <path d=\"M 0 3 \r\nC 0.795609 3 1.55874 2.683901 2.12132 2.12132 \r\nC 2.683901 1.55874 3 0.795609 3 0 \r\nC 3 -0.795609 2.683901 -1.55874 2.12132 -2.12132 \r\nC 1.55874 -2.683901 0.795609 -3 0 -3 \r\nC -0.795609 -3 -1.55874 -2.683901 -2.12132 -2.12132 \r\nC -2.683901 -1.55874 -3 -0.795609 -3 0 \r\nC -3 0.795609 -2.683901 1.55874 -2.12132 2.12132 \r\nC -1.55874 2.683901 -0.795609 3 0 3 \r\nz\r\n\" id=\"m9c8b6cd158\" style=\"stroke:#000000;\"/>\r\n    </defs>\r\n    <g clip-path=\"url(#p3a95e45384)\">\r\n     <use style=\"fill-opacity:0;stroke:#000000;\" x=\"187.160937\" xlink:href=\"#m9c8b6cd158\" y=\"226.382308\"/>\r\n     <use style=\"fill-opacity:0;stroke:#000000;\" x=\"187.160937\" xlink:href=\"#m9c8b6cd158\" y=\"142.751538\"/>\r\n     <use style=\"fill-opacity:0;stroke:#000000;\" x=\"187.160937\" xlink:href=\"#m9c8b6cd158\" y=\"153.205385\"/>\r\n     <use style=\"fill-opacity:0;stroke:#000000;\" x=\"187.160937\" xlink:href=\"#m9c8b6cd158\" y=\"149.720769\"/>\r\n    </g>\r\n   </g>\r\n   <g id=\"line2d_39\">\r\n    <path clip-path=\"url(#p3a95e45384)\" d=\"M 273.650937 240.320769 \r\nL 323.870937 240.320769 \r\nL 323.870937 118.359231 \r\nL 273.650937 118.359231 \r\nL 273.650937 240.320769 \r\n\" style=\"fill:none;stroke:#000000;stroke-linecap:round;\"/>\r\n   </g>\r\n   <g id=\"line2d_40\">\r\n    <path clip-path=\"url(#p3a95e45384)\" d=\"M 298.760937 240.320769 \r\nL 298.760937 261.228462 \r\n\" style=\"fill:none;stroke:#000000;stroke-linecap:round;\"/>\r\n   </g>\r\n   <g id=\"line2d_41\">\r\n    <path clip-path=\"url(#p3a95e45384)\" d=\"M 298.760937 118.359231 \r\nL 298.760937 55.636154 \r\n\" style=\"fill:none;stroke:#000000;stroke-linecap:round;\"/>\r\n   </g>\r\n   <g id=\"line2d_42\">\r\n    <path clip-path=\"url(#p3a95e45384)\" d=\"M 286.205938 261.228462 \r\nL 311.315937 261.228462 \r\n\" style=\"fill:none;stroke:#000000;stroke-linecap:round;\"/>\r\n   </g>\r\n   <g id=\"line2d_43\">\r\n    <path clip-path=\"url(#p3a95e45384)\" d=\"M 286.205938 55.636154 \r\nL 311.315937 55.636154 \r\n\" style=\"fill:none;stroke:#000000;stroke-linecap:round;\"/>\r\n   </g>\r\n   <g id=\"line2d_44\"/>\r\n   <g id=\"line2d_45\">\r\n    <path clip-path=\"url(#p3a95e45384)\" d=\"M 385.250937 285.620769 \r\nL 435.470937 285.620769 \r\nL 435.470937 233.351538 \r\nL 385.250937 233.351538 \r\nL 385.250937 285.620769 \r\n\" style=\"fill:none;stroke:#000000;stroke-linecap:round;\"/>\r\n   </g>\r\n   <g id=\"line2d_46\">\r\n    <path clip-path=\"url(#p3a95e45384)\" d=\"M 410.360937 285.620769 \r\nL 410.360937 292.59 \r\n\" style=\"fill:none;stroke:#000000;stroke-linecap:round;\"/>\r\n   </g>\r\n   <g id=\"line2d_47\">\r\n    <path clip-path=\"url(#p3a95e45384)\" d=\"M 410.360937 233.351538 \r\nL 410.360937 208.959231 \r\n\" style=\"fill:none;stroke:#000000;stroke-linecap:round;\"/>\r\n   </g>\r\n   <g id=\"line2d_48\">\r\n    <path clip-path=\"url(#p3a95e45384)\" d=\"M 397.805937 292.59 \r\nL 422.915937 292.59 \r\n\" style=\"fill:none;stroke:#000000;stroke-linecap:round;\"/>\r\n   </g>\r\n   <g id=\"line2d_49\">\r\n    <path clip-path=\"url(#p3a95e45384)\" d=\"M 397.805937 208.959231 \r\nL 422.915937 208.959231 \r\n\" style=\"fill:none;stroke:#000000;stroke-linecap:round;\"/>\r\n   </g>\r\n   <g id=\"line2d_50\"/>\r\n   <g id=\"line2d_51\">\r\n    <path clip-path=\"url(#p3a95e45384)\" d=\"M 50.450938 93.966923 \r\nL 100.670938 93.966923 \r\n\" style=\"fill:none;stroke:#55a868;stroke-linecap:round;\"/>\r\n   </g>\r\n   <g id=\"line2d_52\">\r\n    <path clip-path=\"url(#p3a95e45384)\" d=\"M 162.050937 191.536154 \r\nL 212.270938 191.536154 \r\n\" style=\"fill:none;stroke:#55a868;stroke-linecap:round;\"/>\r\n   </g>\r\n   <g id=\"line2d_53\">\r\n    <path clip-path=\"url(#p3a95e45384)\" d=\"M 273.650937 144.493846 \r\nL 323.870937 144.493846 \r\n\" style=\"fill:none;stroke:#55a868;stroke-linecap:round;\"/>\r\n   </g>\r\n   <g id=\"line2d_54\">\r\n    <path clip-path=\"url(#p3a95e45384)\" d=\"M 385.250937 250.774615 \r\nL 435.470937 250.774615 \r\n\" style=\"fill:none;stroke:#55a868;stroke-linecap:round;\"/>\r\n   </g>\r\n   <g id=\"patch_3\">\r\n    <path d=\"M 19.760938 306.18 \r\nL 19.760938 7.2 \r\n\" style=\"fill:none;\"/>\r\n   </g>\r\n   <g id=\"patch_4\">\r\n    <path d=\"M 466.160937 306.18 \r\nL 466.160937 7.2 \r\n\" style=\"fill:none;\"/>\r\n   </g>\r\n   <g id=\"patch_5\">\r\n    <path d=\"M 19.760938 306.18 \r\nL 466.160937 306.18 \r\n\" style=\"fill:none;\"/>\r\n   </g>\r\n   <g id=\"patch_6\">\r\n    <path d=\"M 19.760938 7.2 \r\nL 466.160937 7.2 \r\n\" style=\"fill:none;\"/>\r\n   </g>\r\n  </g>\r\n </g>\r\n <defs>\r\n  <clipPath id=\"p3a95e45384\">\r\n   <rect height=\"298.98\" width=\"446.4\" x=\"19.760938\" y=\"7.2\"/>\r\n  </clipPath>\r\n </defs>\r\n</svg>\r\n",
      "text/plain": "<Figure size 576x396 with 1 Axes>"
     },
     "metadata": {},
     "output_type": "display_data"
    }
   ],
   "source": [
    "plt.boxplot([iris.sepal_length, iris.sepal_width, iris.petal_length, iris.petal_width])"
   ]
  },
  {
   "cell_type": "code",
   "execution_count": 8,
   "metadata": {},
   "outputs": [],
   "source": [
    "#biểu đồ histogram thể hiện tần suất xuất hiện của dữ liệu"
   ]
  },
  {
   "cell_type": "code",
   "execution_count": 17,
   "metadata": {},
   "outputs": [
    {
     "data": {
      "text/plain": "([array([ 0., 44.,  6.,  1., 10., 34., 30., 20.,  5.,  0.]),\n  array([50., 52., 45.,  3.,  0.,  0.,  0.,  0.,  0.,  0.]),\n  array([ 0.,  0.,  0.,  0.,  0., 11., 48., 49., 31., 11.]),\n  array([ 0.,  0., 11., 97., 38.,  4.,  0.,  0.,  0.,  0.])],\n array([0.1 , 0.88, 1.66, 2.44, 3.22, 4.  , 4.78, 5.56, 6.34, 7.12, 7.9 ]),\n <a list of 4 Lists of Patches objects>)"
     },
     "execution_count": 17,
     "metadata": {},
     "output_type": "execute_result"
    },
    {
     "data": {
      "image/png": "[encoded data removed]",
      "image/svg+xml": "<?xml version=\"1.0\" encoding=\"utf-8\" standalone=\"no\"?>\r\n<!DOCTYPE svg PUBLIC \"-//W3C//DTD SVG 1.1//EN\"\r\n  \"http://www.w3.org/Graphics/SVG/1.1/DTD/svg11.dtd\">\r\n<!-- Created with matplotlib (https://matplotlib.org/) -->\r\n<svg height=\"329.525312pt\" version=\"1.1\" viewBox=\"0 0 484.482812 329.525312\" width=\"484.482812pt\" xmlns=\"http://www.w3.org/2000/svg\" xmlns:xlink=\"http://www.w3.org/1999/xlink\">\r\n <defs>\r\n  <style type=\"text/css\">\r\n*{stroke-linecap:butt;stroke-linejoin:round;white-space:pre;}\r\n  </style>\r\n </defs>\r\n <g id=\"figure_1\">\r\n  <g id=\"patch_1\">\r\n   <path d=\"M 0 329.525312 \r\nL 484.482812 329.525312 \r\nL 484.482812 0 \r\nL 0 0 \r\nz\r\n\" style=\"fill:#ffffff;\"/>\r\n  </g>\r\n  <g id=\"axes_1\">\r\n   <g id=\"patch_2\">\r\n    <path d=\"M 30.882812 306.18 \r\nL 477.282812 306.18 \r\nL 477.282812 7.2 \r\nL 30.882812 7.2 \r\nz\r\n\" style=\"fill:#eaeaf2;\"/>\r\n   </g>\r\n   <g id=\"matplotlib.axis_1\">\r\n    <g id=\"xtick_1\">\r\n     <g id=\"line2d_1\">\r\n      <path clip-path=\"url(#p75e4665739)\" d=\"M 41.723743 306.18 \r\nL 41.723743 7.2 \r\n\" style=\"fill:none;stroke:#ffffff;stroke-linecap:round;\"/>\r\n     </g>\r\n     <g id=\"line2d_2\"/>\r\n     <g id=\"text_1\">\r\n      <!-- 0 -->\r\n      <defs>\r\n       <path d=\"M 4.15625 35.296875 \r\nQ 4.15625 48 6.765625 55.734375 \r\nQ 9.375 63.484375 14.515625 67.671875 \r\nQ 19.671875 71.875 27.484375 71.875 \r\nQ 33.25 71.875 37.59375 69.546875 \r\nQ 41.9375 67.234375 44.765625 62.859375 \r\nQ 47.609375 58.5 49.21875 52.21875 \r\nQ 50.828125 45.953125 50.828125 35.296875 \r\nQ 50.828125 22.703125 48.234375 14.96875 \r\nQ 45.65625 7.234375 40.5 3 \r\nQ 35.359375 -1.21875 27.484375 -1.21875 \r\nQ 17.140625 -1.21875 11.234375 6.203125 \r\nQ 4.15625 15.140625 4.15625 35.296875 \r\nz\r\nM 13.1875 35.296875 \r\nQ 13.1875 17.671875 17.3125 11.828125 \r\nQ 21.4375 6 27.484375 6 \r\nQ 33.546875 6 37.671875 11.859375 \r\nQ 41.796875 17.71875 41.796875 35.296875 \r\nQ 41.796875 52.984375 37.671875 58.78125 \r\nQ 33.546875 64.59375 27.390625 64.59375 \r\nQ 21.34375 64.59375 17.71875 59.46875 \r\nQ 13.1875 52.9375 13.1875 35.296875 \r\nz\r\n\" id=\"ArialMT-48\"/>\r\n      </defs>\r\n      <g style=\"fill:#262626;\" transform=\"translate(38.943274 320.337812)scale(0.1 -0.1)\">\r\n       <use xlink:href=\"#ArialMT-48\"/>\r\n      </g>\r\n     </g>\r\n    </g>\r\n    <g id=\"xtick_2\">\r\n     <g id=\"line2d_3\">\r\n      <path clip-path=\"url(#p75e4665739)\" d=\"M 94.81351 306.18 \r\nL 94.81351 7.2 \r\n\" style=\"fill:none;stroke:#ffffff;stroke-linecap:round;\"/>\r\n     </g>\r\n     <g id=\"line2d_4\"/>\r\n     <g id=\"text_2\">\r\n      <!-- 1 -->\r\n      <defs>\r\n       <path d=\"M 37.25 0 \r\nL 28.46875 0 \r\nL 28.46875 56 \r\nQ 25.296875 52.984375 20.140625 49.953125 \r\nQ 14.984375 46.921875 10.890625 45.40625 \r\nL 10.890625 53.90625 \r\nQ 18.265625 57.375 23.78125 62.296875 \r\nQ 29.296875 67.234375 31.59375 71.875 \r\nL 37.25 71.875 \r\nz\r\n\" id=\"ArialMT-49\"/>\r\n      </defs>\r\n      <g style=\"fill:#262626;\" transform=\"translate(92.033042 320.337812)scale(0.1 -0.1)\">\r\n       <use xlink:href=\"#ArialMT-49\"/>\r\n      </g>\r\n     </g>\r\n    </g>\r\n    <g id=\"xtick_3\">\r\n     <g id=\"line2d_5\">\r\n      <path clip-path=\"url(#p75e4665739)\" d=\"M 147.903278 306.18 \r\nL 147.903278 7.2 \r\n\" style=\"fill:none;stroke:#ffffff;stroke-linecap:round;\"/>\r\n     </g>\r\n     <g id=\"line2d_6\"/>\r\n     <g id=\"text_3\">\r\n      <!-- 2 -->\r\n      <defs>\r\n       <path d=\"M 50.34375 8.453125 \r\nL 50.34375 0 \r\nL 3.03125 0 \r\nQ 2.9375 3.171875 4.046875 6.109375 \r\nQ 5.859375 10.9375 9.828125 15.625 \r\nQ 13.8125 20.3125 21.34375 26.46875 \r\nQ 33.015625 36.03125 37.109375 41.625 \r\nQ 41.21875 47.21875 41.21875 52.203125 \r\nQ 41.21875 57.421875 37.46875 61 \r\nQ 33.734375 64.59375 27.734375 64.59375 \r\nQ 21.390625 64.59375 17.578125 60.78125 \r\nQ 13.765625 56.984375 13.71875 50.25 \r\nL 4.6875 51.171875 \r\nQ 5.609375 61.28125 11.65625 66.578125 \r\nQ 17.71875 71.875 27.9375 71.875 \r\nQ 38.234375 71.875 44.234375 66.15625 \r\nQ 50.25 60.453125 50.25 52 \r\nQ 50.25 47.703125 48.484375 43.546875 \r\nQ 46.734375 39.40625 42.65625 34.8125 \r\nQ 38.578125 30.21875 29.109375 22.21875 \r\nQ 21.1875 15.578125 18.9375 13.203125 \r\nQ 16.703125 10.84375 15.234375 8.453125 \r\nz\r\n\" id=\"ArialMT-50\"/>\r\n      </defs>\r\n      <g style=\"fill:#262626;\" transform=\"translate(145.122809 320.337812)scale(0.1 -0.1)\">\r\n       <use xlink:href=\"#ArialMT-50\"/>\r\n      </g>\r\n     </g>\r\n    </g>\r\n    <g id=\"xtick_4\">\r\n     <g id=\"line2d_7\">\r\n      <path clip-path=\"url(#p75e4665739)\" d=\"M 200.993045 306.18 \r\nL 200.993045 7.2 \r\n\" style=\"fill:none;stroke:#ffffff;stroke-linecap:round;\"/>\r\n     </g>\r\n     <g id=\"line2d_8\"/>\r\n     <g id=\"text_4\">\r\n      <!-- 3 -->\r\n      <defs>\r\n       <path d=\"M 4.203125 18.890625 \r\nL 12.984375 20.0625 \r\nQ 14.5 12.59375 18.140625 9.296875 \r\nQ 21.78125 6 27 6 \r\nQ 33.203125 6 37.46875 10.296875 \r\nQ 41.75 14.59375 41.75 20.953125 \r\nQ 41.75 27 37.796875 30.921875 \r\nQ 33.84375 34.859375 27.734375 34.859375 \r\nQ 25.25 34.859375 21.53125 33.890625 \r\nL 22.515625 41.609375 \r\nQ 23.390625 41.5 23.921875 41.5 \r\nQ 29.546875 41.5 34.03125 44.421875 \r\nQ 38.53125 47.359375 38.53125 53.46875 \r\nQ 38.53125 58.296875 35.25 61.46875 \r\nQ 31.984375 64.65625 26.8125 64.65625 \r\nQ 21.6875 64.65625 18.265625 61.421875 \r\nQ 14.84375 58.203125 13.875 51.765625 \r\nL 5.078125 53.328125 \r\nQ 6.6875 62.15625 12.390625 67.015625 \r\nQ 18.109375 71.875 26.609375 71.875 \r\nQ 32.46875 71.875 37.390625 69.359375 \r\nQ 42.328125 66.84375 44.9375 62.5 \r\nQ 47.5625 58.15625 47.5625 53.265625 \r\nQ 47.5625 48.640625 45.0625 44.828125 \r\nQ 42.578125 41.015625 37.703125 38.765625 \r\nQ 44.046875 37.3125 47.5625 32.6875 \r\nQ 51.078125 28.078125 51.078125 21.140625 \r\nQ 51.078125 11.765625 44.234375 5.25 \r\nQ 37.40625 -1.265625 26.953125 -1.265625 \r\nQ 17.53125 -1.265625 11.296875 4.34375 \r\nQ 5.078125 9.96875 4.203125 18.890625 \r\nz\r\n\" id=\"ArialMT-51\"/>\r\n      </defs>\r\n      <g style=\"fill:#262626;\" transform=\"translate(198.212576 320.337812)scale(0.1 -0.1)\">\r\n       <use xlink:href=\"#ArialMT-51\"/>\r\n      </g>\r\n     </g>\r\n    </g>\r\n    <g id=\"xtick_5\">\r\n     <g id=\"line2d_9\">\r\n      <path clip-path=\"url(#p75e4665739)\" d=\"M 254.082813 306.18 \r\nL 254.082813 7.2 \r\n\" style=\"fill:none;stroke:#ffffff;stroke-linecap:round;\"/>\r\n     </g>\r\n     <g id=\"line2d_10\"/>\r\n     <g id=\"text_5\">\r\n      <!-- 4 -->\r\n      <defs>\r\n       <path d=\"M 32.328125 0 \r\nL 32.328125 17.140625 \r\nL 1.265625 17.140625 \r\nL 1.265625 25.203125 \r\nL 33.9375 71.578125 \r\nL 41.109375 71.578125 \r\nL 41.109375 25.203125 \r\nL 50.78125 25.203125 \r\nL 50.78125 17.140625 \r\nL 41.109375 17.140625 \r\nL 41.109375 0 \r\nz\r\nM 32.328125 25.203125 \r\nL 32.328125 57.46875 \r\nL 9.90625 25.203125 \r\nz\r\n\" id=\"ArialMT-52\"/>\r\n      </defs>\r\n      <g style=\"fill:#262626;\" transform=\"translate(251.302344 320.337812)scale(0.1 -0.1)\">\r\n       <use xlink:href=\"#ArialMT-52\"/>\r\n      </g>\r\n     </g>\r\n    </g>\r\n    <g id=\"xtick_6\">\r\n     <g id=\"line2d_11\">\r\n      <path clip-path=\"url(#p75e4665739)\" d=\"M 307.17258 306.18 \r\nL 307.17258 7.2 \r\n\" style=\"fill:none;stroke:#ffffff;stroke-linecap:round;\"/>\r\n     </g>\r\n     <g id=\"line2d_12\"/>\r\n     <g id=\"text_6\">\r\n      <!-- 5 -->\r\n      <defs>\r\n       <path d=\"M 4.15625 18.75 \r\nL 13.375 19.53125 \r\nQ 14.40625 12.796875 18.140625 9.390625 \r\nQ 21.875 6 27.15625 6 \r\nQ 33.5 6 37.890625 10.78125 \r\nQ 42.28125 15.578125 42.28125 23.484375 \r\nQ 42.28125 31 38.0625 35.34375 \r\nQ 33.84375 39.703125 27 39.703125 \r\nQ 22.75 39.703125 19.328125 37.765625 \r\nQ 15.921875 35.84375 13.96875 32.765625 \r\nL 5.71875 33.84375 \r\nL 12.640625 70.609375 \r\nL 48.25 70.609375 \r\nL 48.25 62.203125 \r\nL 19.671875 62.203125 \r\nL 15.828125 42.96875 \r\nQ 22.265625 47.46875 29.34375 47.46875 \r\nQ 38.71875 47.46875 45.15625 40.96875 \r\nQ 51.609375 34.46875 51.609375 24.265625 \r\nQ 51.609375 14.546875 45.953125 7.46875 \r\nQ 39.0625 -1.21875 27.15625 -1.21875 \r\nQ 17.390625 -1.21875 11.203125 4.25 \r\nQ 5.03125 9.71875 4.15625 18.75 \r\nz\r\n\" id=\"ArialMT-53\"/>\r\n      </defs>\r\n      <g style=\"fill:#262626;\" transform=\"translate(304.392111 320.337812)scale(0.1 -0.1)\">\r\n       <use xlink:href=\"#ArialMT-53\"/>\r\n      </g>\r\n     </g>\r\n    </g>\r\n    <g id=\"xtick_7\">\r\n     <g id=\"line2d_13\">\r\n      <path clip-path=\"url(#p75e4665739)\" d=\"M 360.262347 306.18 \r\nL 360.262347 7.2 \r\n\" style=\"fill:none;stroke:#ffffff;stroke-linecap:round;\"/>\r\n     </g>\r\n     <g id=\"line2d_14\"/>\r\n     <g id=\"text_7\">\r\n      <!-- 6 -->\r\n      <defs>\r\n       <path d=\"M 49.75 54.046875 \r\nL 41.015625 53.375 \r\nQ 39.84375 58.546875 37.703125 60.890625 \r\nQ 34.125 64.65625 28.90625 64.65625 \r\nQ 24.703125 64.65625 21.53125 62.3125 \r\nQ 17.390625 59.28125 14.984375 53.46875 \r\nQ 12.59375 47.65625 12.5 36.921875 \r\nQ 15.671875 41.75 20.265625 44.09375 \r\nQ 24.859375 46.4375 29.890625 46.4375 \r\nQ 38.671875 46.4375 44.84375 39.96875 \r\nQ 51.03125 33.5 51.03125 23.25 \r\nQ 51.03125 16.5 48.125 10.71875 \r\nQ 45.21875 4.9375 40.140625 1.859375 \r\nQ 35.0625 -1.21875 28.609375 -1.21875 \r\nQ 17.625 -1.21875 10.6875 6.859375 \r\nQ 3.765625 14.9375 3.765625 33.5 \r\nQ 3.765625 54.25 11.421875 63.671875 \r\nQ 18.109375 71.875 29.4375 71.875 \r\nQ 37.890625 71.875 43.28125 67.140625 \r\nQ 48.6875 62.40625 49.75 54.046875 \r\nz\r\nM 13.875 23.1875 \r\nQ 13.875 18.65625 15.796875 14.5 \r\nQ 17.71875 10.359375 21.1875 8.171875 \r\nQ 24.65625 6 28.46875 6 \r\nQ 34.03125 6 38.03125 10.484375 \r\nQ 42.046875 14.984375 42.046875 22.703125 \r\nQ 42.046875 30.125 38.078125 34.390625 \r\nQ 34.125 38.671875 28.125 38.671875 \r\nQ 22.171875 38.671875 18.015625 34.390625 \r\nQ 13.875 30.125 13.875 23.1875 \r\nz\r\n\" id=\"ArialMT-54\"/>\r\n      </defs>\r\n      <g style=\"fill:#262626;\" transform=\"translate(357.481879 320.337812)scale(0.1 -0.1)\">\r\n       <use xlink:href=\"#ArialMT-54\"/>\r\n      </g>\r\n     </g>\r\n    </g>\r\n    <g id=\"xtick_8\">\r\n     <g id=\"line2d_15\">\r\n      <path clip-path=\"url(#p75e4665739)\" d=\"M 413.352115 306.18 \r\nL 413.352115 7.2 \r\n\" style=\"fill:none;stroke:#ffffff;stroke-linecap:round;\"/>\r\n     </g>\r\n     <g id=\"line2d_16\"/>\r\n     <g id=\"text_8\">\r\n      <!-- 7 -->\r\n      <defs>\r\n       <path d=\"M 4.734375 62.203125 \r\nL 4.734375 70.65625 \r\nL 51.078125 70.65625 \r\nL 51.078125 63.8125 \r\nQ 44.234375 56.546875 37.515625 44.484375 \r\nQ 30.8125 32.421875 27.15625 19.671875 \r\nQ 24.515625 10.6875 23.78125 0 \r\nL 14.75 0 \r\nQ 14.890625 8.453125 18.0625 20.40625 \r\nQ 21.234375 32.375 27.171875 43.484375 \r\nQ 33.109375 54.59375 39.796875 62.203125 \r\nz\r\n\" id=\"ArialMT-55\"/>\r\n      </defs>\r\n      <g style=\"fill:#262626;\" transform=\"translate(410.571646 320.337812)scale(0.1 -0.1)\">\r\n       <use xlink:href=\"#ArialMT-55\"/>\r\n      </g>\r\n     </g>\r\n    </g>\r\n    <g id=\"xtick_9\">\r\n     <g id=\"line2d_17\">\r\n      <path clip-path=\"url(#p75e4665739)\" d=\"M 466.441882 306.18 \r\nL 466.441882 7.2 \r\n\" style=\"fill:none;stroke:#ffffff;stroke-linecap:round;\"/>\r\n     </g>\r\n     <g id=\"line2d_18\"/>\r\n     <g id=\"text_9\">\r\n      <!-- 8 -->\r\n      <defs>\r\n       <path d=\"M 17.671875 38.8125 \r\nQ 12.203125 40.828125 9.5625 44.53125 \r\nQ 6.9375 48.25 6.9375 53.421875 \r\nQ 6.9375 61.234375 12.546875 66.546875 \r\nQ 18.171875 71.875 27.484375 71.875 \r\nQ 36.859375 71.875 42.578125 66.421875 \r\nQ 48.296875 60.984375 48.296875 53.171875 \r\nQ 48.296875 48.1875 45.671875 44.5 \r\nQ 43.0625 40.828125 37.75 38.8125 \r\nQ 44.34375 36.671875 47.78125 31.875 \r\nQ 51.21875 27.09375 51.21875 20.453125 \r\nQ 51.21875 11.28125 44.71875 5.03125 \r\nQ 38.234375 -1.21875 27.640625 -1.21875 \r\nQ 17.046875 -1.21875 10.546875 5.046875 \r\nQ 4.046875 11.328125 4.046875 20.703125 \r\nQ 4.046875 27.6875 7.59375 32.390625 \r\nQ 11.140625 37.109375 17.671875 38.8125 \r\nz\r\nM 15.921875 53.71875 \r\nQ 15.921875 48.640625 19.1875 45.40625 \r\nQ 22.46875 42.1875 27.6875 42.1875 \r\nQ 32.765625 42.1875 36.015625 45.375 \r\nQ 39.265625 48.578125 39.265625 53.21875 \r\nQ 39.265625 58.0625 35.90625 61.359375 \r\nQ 32.5625 64.65625 27.59375 64.65625 \r\nQ 22.5625 64.65625 19.234375 61.421875 \r\nQ 15.921875 58.203125 15.921875 53.71875 \r\nz\r\nM 13.09375 20.65625 \r\nQ 13.09375 16.890625 14.875 13.375 \r\nQ 16.65625 9.859375 20.171875 7.921875 \r\nQ 23.6875 6 27.734375 6 \r\nQ 34.03125 6 38.125 10.046875 \r\nQ 42.234375 14.109375 42.234375 20.359375 \r\nQ 42.234375 26.703125 38.015625 30.859375 \r\nQ 33.796875 35.015625 27.4375 35.015625 \r\nQ 21.234375 35.015625 17.15625 30.90625 \r\nQ 13.09375 26.8125 13.09375 20.65625 \r\nz\r\n\" id=\"ArialMT-56\"/>\r\n      </defs>\r\n      <g style=\"fill:#262626;\" transform=\"translate(463.661413 320.337812)scale(0.1 -0.1)\">\r\n       <use xlink:href=\"#ArialMT-56\"/>\r\n      </g>\r\n     </g>\r\n    </g>\r\n   </g>\r\n   <g id=\"matplotlib.axis_2\">\r\n    <g id=\"ytick_1\">\r\n     <g id=\"line2d_19\">\r\n      <path clip-path=\"url(#p75e4665739)\" d=\"M 30.882812 306.18 \r\nL 477.282812 306.18 \r\n\" style=\"fill:none;stroke:#ffffff;stroke-linecap:round;\"/>\r\n     </g>\r\n     <g id=\"line2d_20\"/>\r\n     <g id=\"text_10\">\r\n      <!-- 0 -->\r\n      <g style=\"fill:#262626;\" transform=\"translate(18.321875 309.758906)scale(0.1 -0.1)\">\r\n       <use xlink:href=\"#ArialMT-48\"/>\r\n      </g>\r\n     </g>\r\n    </g>\r\n    <g id=\"ytick_2\">\r\n     <g id=\"line2d_21\">\r\n      <path clip-path=\"url(#p75e4665739)\" d=\"M 30.882812 247.470133 \r\nL 477.282812 247.470133 \r\n\" style=\"fill:none;stroke:#ffffff;stroke-linecap:round;\"/>\r\n     </g>\r\n     <g id=\"line2d_22\"/>\r\n     <g id=\"text_11\">\r\n      <!-- 20 -->\r\n      <g style=\"fill:#262626;\" transform=\"translate(12.760937 251.049039)scale(0.1 -0.1)\">\r\n       <use xlink:href=\"#ArialMT-50\"/>\r\n       <use x=\"55.615234\" xlink:href=\"#ArialMT-48\"/>\r\n      </g>\r\n     </g>\r\n    </g>\r\n    <g id=\"ytick_3\">\r\n     <g id=\"line2d_23\">\r\n      <path clip-path=\"url(#p75e4665739)\" d=\"M 30.882812 188.760265 \r\nL 477.282812 188.760265 \r\n\" style=\"fill:none;stroke:#ffffff;stroke-linecap:round;\"/>\r\n     </g>\r\n     <g id=\"line2d_24\"/>\r\n     <g id=\"text_12\">\r\n      <!-- 40 -->\r\n      <g style=\"fill:#262626;\" transform=\"translate(12.760937 192.339171)scale(0.1 -0.1)\">\r\n       <use xlink:href=\"#ArialMT-52\"/>\r\n       <use x=\"55.615234\" xlink:href=\"#ArialMT-48\"/>\r\n      </g>\r\n     </g>\r\n    </g>\r\n    <g id=\"ytick_4\">\r\n     <g id=\"line2d_25\">\r\n      <path clip-path=\"url(#p75e4665739)\" d=\"M 30.882812 130.050398 \r\nL 477.282812 130.050398 \r\n\" style=\"fill:none;stroke:#ffffff;stroke-linecap:round;\"/>\r\n     </g>\r\n     <g id=\"line2d_26\"/>\r\n     <g id=\"text_13\">\r\n      <!-- 60 -->\r\n      <g style=\"fill:#262626;\" transform=\"translate(12.760937 133.629304)scale(0.1 -0.1)\">\r\n       <use xlink:href=\"#ArialMT-54\"/>\r\n       <use x=\"55.615234\" xlink:href=\"#ArialMT-48\"/>\r\n      </g>\r\n     </g>\r\n    </g>\r\n    <g id=\"ytick_5\">\r\n     <g id=\"line2d_27\">\r\n      <path clip-path=\"url(#p75e4665739)\" d=\"M 30.882812 71.34053 \r\nL 477.282812 71.34053 \r\n\" style=\"fill:none;stroke:#ffffff;stroke-linecap:round;\"/>\r\n     </g>\r\n     <g id=\"line2d_28\"/>\r\n     <g id=\"text_14\">\r\n      <!-- 80 -->\r\n      <g style=\"fill:#262626;\" transform=\"translate(12.760937 74.919436)scale(0.1 -0.1)\">\r\n       <use xlink:href=\"#ArialMT-56\"/>\r\n       <use x=\"55.615234\" xlink:href=\"#ArialMT-48\"/>\r\n      </g>\r\n     </g>\r\n    </g>\r\n    <g id=\"ytick_6\">\r\n     <g id=\"line2d_29\">\r\n      <path clip-path=\"url(#p75e4665739)\" d=\"M 30.882812 12.630663 \r\nL 477.282812 12.630663 \r\n\" style=\"fill:none;stroke:#ffffff;stroke-linecap:round;\"/>\r\n     </g>\r\n     <g id=\"line2d_30\"/>\r\n     <g id=\"text_15\">\r\n      <!-- 100 -->\r\n      <g style=\"fill:#262626;\" transform=\"translate(7.2 16.209569)scale(0.1 -0.1)\">\r\n       <use xlink:href=\"#ArialMT-49\"/>\r\n       <use x=\"55.615234\" xlink:href=\"#ArialMT-48\"/>\r\n       <use x=\"111.230469\" xlink:href=\"#ArialMT-48\"/>\r\n      </g>\r\n     </g>\r\n    </g>\r\n   </g>\r\n   <g id=\"patch_3\">\r\n    <path clip-path=\"url(#p75e4665739)\" d=\"M 51.173722 306.18 \r\nL 59.455725 306.18 \r\nL 59.455725 306.18 \r\nL 51.173722 306.18 \r\nz\r\n\" style=\"fill:#4c72b0;\"/>\r\n   </g>\r\n   <g id=\"patch_4\">\r\n    <path clip-path=\"url(#p75e4665739)\" d=\"M 92.58374 306.18 \r\nL 100.865744 306.18 \r\nL 100.865744 177.018292 \r\nL 92.58374 177.018292 \r\nz\r\n\" style=\"fill:#4c72b0;\"/>\r\n   </g>\r\n   <g id=\"patch_5\">\r\n    <path clip-path=\"url(#p75e4665739)\" d=\"M 133.993759 306.18 \r\nL 142.275762 306.18 \r\nL 142.275762 288.56704 \r\nL 133.993759 288.56704 \r\nz\r\n\" style=\"fill:#4c72b0;\"/>\r\n   </g>\r\n   <g id=\"patch_6\">\r\n    <path clip-path=\"url(#p75e4665739)\" d=\"M 175.403777 306.18 \r\nL 183.685781 306.18 \r\nL 183.685781 303.244507 \r\nL 175.403777 303.244507 \r\nz\r\n\" style=\"fill:#4c72b0;\"/>\r\n   </g>\r\n   <g id=\"patch_7\">\r\n    <path clip-path=\"url(#p75e4665739)\" d=\"M 216.813796 306.18 \r\nL 225.0958 306.18 \r\nL 225.0958 276.825066 \r\nL 216.813796 276.825066 \r\nz\r\n\" style=\"fill:#4c72b0;\"/>\r\n   </g>\r\n   <g id=\"patch_8\">\r\n    <path clip-path=\"url(#p75e4665739)\" d=\"M 258.223814 306.18 \r\nL 266.505818 306.18 \r\nL 266.505818 206.373225 \r\nL 258.223814 206.373225 \r\nz\r\n\" style=\"fill:#4c72b0;\"/>\r\n   </g>\r\n   <g id=\"patch_9\">\r\n    <path clip-path=\"url(#p75e4665739)\" d=\"M 299.633833 306.18 \r\nL 307.915837 306.18 \r\nL 307.915837 218.115199 \r\nL 299.633833 218.115199 \r\nz\r\n\" style=\"fill:#4c72b0;\"/>\r\n   </g>\r\n   <g id=\"patch_10\">\r\n    <path clip-path=\"url(#p75e4665739)\" d=\"M 341.043851 306.18 \r\nL 349.325855 306.18 \r\nL 349.325855 247.470133 \r\nL 341.043851 247.470133 \r\nz\r\n\" style=\"fill:#4c72b0;\"/>\r\n   </g>\r\n   <g id=\"patch_11\">\r\n    <path clip-path=\"url(#p75e4665739)\" d=\"M 382.45387 306.18 \r\nL 390.735874 306.18 \r\nL 390.735874 291.502533 \r\nL 382.45387 291.502533 \r\nz\r\n\" style=\"fill:#4c72b0;\"/>\r\n   </g>\r\n   <g id=\"patch_12\">\r\n    <path clip-path=\"url(#p75e4665739)\" d=\"M 423.863889 306.18 \r\nL 432.145892 306.18 \r\nL 432.145892 306.18 \r\nL 423.863889 306.18 \r\nz\r\n\" style=\"fill:#4c72b0;\"/>\r\n   </g>\r\n   <g id=\"patch_13\">\r\n    <path clip-path=\"url(#p75e4665739)\" d=\"M 59.455725 306.18 \r\nL 67.737729 306.18 \r\nL 67.737729 159.405331 \r\nL 59.455725 159.405331 \r\nz\r\n\" style=\"fill:#55a868;\"/>\r\n   </g>\r\n   <g id=\"patch_14\">\r\n    <path clip-path=\"url(#p75e4665739)\" d=\"M 100.865744 306.18 \r\nL 109.147748 306.18 \r\nL 109.147748 153.534345 \r\nL 100.865744 153.534345 \r\nz\r\n\" style=\"fill:#55a868;\"/>\r\n   </g>\r\n   <g id=\"patch_15\">\r\n    <path clip-path=\"url(#p75e4665739)\" d=\"M 142.275762 306.18 \r\nL 150.557766 306.18 \r\nL 150.557766 174.082798 \r\nL 142.275762 174.082798 \r\nz\r\n\" style=\"fill:#55a868;\"/>\r\n   </g>\r\n   <g id=\"patch_16\">\r\n    <path clip-path=\"url(#p75e4665739)\" d=\"M 183.685781 306.18 \r\nL 191.967785 306.18 \r\nL 191.967785 297.37352 \r\nL 183.685781 297.37352 \r\nz\r\n\" style=\"fill:#55a868;\"/>\r\n   </g>\r\n   <g id=\"patch_17\">\r\n    <path clip-path=\"url(#p75e4665739)\" d=\"M 225.0958 306.18 \r\nL 233.377803 306.18 \r\nL 233.377803 306.18 \r\nL 225.0958 306.18 \r\nz\r\n\" style=\"fill:#55a868;\"/>\r\n   </g>\r\n   <g id=\"patch_18\">\r\n    <path clip-path=\"url(#p75e4665739)\" d=\"M 266.505818 306.18 \r\nL 274.787822 306.18 \r\nL 274.787822 306.18 \r\nL 266.505818 306.18 \r\nz\r\n\" style=\"fill:#55a868;\"/>\r\n   </g>\r\n   <g id=\"patch_19\">\r\n    <path clip-path=\"url(#p75e4665739)\" d=\"M 307.915837 306.18 \r\nL 316.19784 306.18 \r\nL 316.19784 306.18 \r\nL 307.915837 306.18 \r\nz\r\n\" style=\"fill:#55a868;\"/>\r\n   </g>\r\n   <g id=\"patch_20\">\r\n    <path clip-path=\"url(#p75e4665739)\" d=\"M 349.325855 306.18 \r\nL 357.607859 306.18 \r\nL 357.607859 306.18 \r\nL 349.325855 306.18 \r\nz\r\n\" style=\"fill:#55a868;\"/>\r\n   </g>\r\n   <g id=\"patch_21\">\r\n    <path clip-path=\"url(#p75e4665739)\" d=\"M 390.735874 306.18 \r\nL 399.017877 306.18 \r\nL 399.017877 306.18 \r\nL 390.735874 306.18 \r\nz\r\n\" style=\"fill:#55a868;\"/>\r\n   </g>\r\n   <g id=\"patch_22\">\r\n    <path clip-path=\"url(#p75e4665739)\" d=\"M 432.145892 306.18 \r\nL 440.427896 306.18 \r\nL 440.427896 306.18 \r\nL 432.145892 306.18 \r\nz\r\n\" style=\"fill:#55a868;\"/>\r\n   </g>\r\n   <g id=\"patch_23\">\r\n    <path clip-path=\"url(#p75e4665739)\" d=\"M 67.737729 306.18 \r\nL 76.019733 306.18 \r\nL 76.019733 306.18 \r\nL 67.737729 306.18 \r\nz\r\n\" style=\"fill:#c44e52;\"/>\r\n   </g>\r\n   <g id=\"patch_24\">\r\n    <path clip-path=\"url(#p75e4665739)\" d=\"M 109.147748 306.18 \r\nL 117.429751 306.18 \r\nL 117.429751 306.18 \r\nL 109.147748 306.18 \r\nz\r\n\" style=\"fill:#c44e52;\"/>\r\n   </g>\r\n   <g id=\"patch_25\">\r\n    <path clip-path=\"url(#p75e4665739)\" d=\"M 150.557766 306.18 \r\nL 158.83977 306.18 \r\nL 158.83977 306.18 \r\nL 150.557766 306.18 \r\nz\r\n\" style=\"fill:#c44e52;\"/>\r\n   </g>\r\n   <g id=\"patch_26\">\r\n    <path clip-path=\"url(#p75e4665739)\" d=\"M 191.967785 306.18 \r\nL 200.249788 306.18 \r\nL 200.249788 306.18 \r\nL 191.967785 306.18 \r\nz\r\n\" style=\"fill:#c44e52;\"/>\r\n   </g>\r\n   <g id=\"patch_27\">\r\n    <path clip-path=\"url(#p75e4665739)\" d=\"M 233.377803 306.18 \r\nL 241.659807 306.18 \r\nL 241.659807 306.18 \r\nL 233.377803 306.18 \r\nz\r\n\" style=\"fill:#c44e52;\"/>\r\n   </g>\r\n   <g id=\"patch_28\">\r\n    <path clip-path=\"url(#p75e4665739)\" d=\"M 274.787822 306.18 \r\nL 283.069825 306.18 \r\nL 283.069825 273.889573 \r\nL 274.787822 273.889573 \r\nz\r\n\" style=\"fill:#c44e52;\"/>\r\n   </g>\r\n   <g id=\"patch_29\">\r\n    <path clip-path=\"url(#p75e4665739)\" d=\"M 316.19784 306.18 \r\nL 324.479844 306.18 \r\nL 324.479844 165.276318 \r\nL 316.19784 165.276318 \r\nz\r\n\" style=\"fill:#c44e52;\"/>\r\n   </g>\r\n   <g id=\"patch_30\">\r\n    <path clip-path=\"url(#p75e4665739)\" d=\"M 357.607859 306.18 \r\nL 365.889863 306.18 \r\nL 365.889863 162.340825 \r\nL 357.607859 162.340825 \r\nz\r\n\" style=\"fill:#c44e52;\"/>\r\n   </g>\r\n   <g id=\"patch_31\">\r\n    <path clip-path=\"url(#p75e4665739)\" d=\"M 399.017877 306.18 \r\nL 407.299881 306.18 \r\nL 407.299881 215.179705 \r\nL 399.017877 215.179705 \r\nz\r\n\" style=\"fill:#c44e52;\"/>\r\n   </g>\r\n   <g id=\"patch_32\">\r\n    <path clip-path=\"url(#p75e4665739)\" d=\"M 440.427896 306.18 \r\nL 448.7099 306.18 \r\nL 448.7099 273.889573 \r\nL 440.427896 273.889573 \r\nz\r\n\" style=\"fill:#c44e52;\"/>\r\n   </g>\r\n   <g id=\"patch_33\">\r\n    <path clip-path=\"url(#p75e4665739)\" d=\"M 76.019733 306.18 \r\nL 84.301736 306.18 \r\nL 84.301736 306.18 \r\nL 76.019733 306.18 \r\nz\r\n\" style=\"fill:#8172b2;\"/>\r\n   </g>\r\n   <g id=\"patch_34\">\r\n    <path clip-path=\"url(#p75e4665739)\" d=\"M 117.429751 306.18 \r\nL 125.711755 306.18 \r\nL 125.711755 306.18 \r\nL 117.429751 306.18 \r\nz\r\n\" style=\"fill:#8172b2;\"/>\r\n   </g>\r\n   <g id=\"patch_35\">\r\n    <path clip-path=\"url(#p75e4665739)\" d=\"M 158.83977 306.18 \r\nL 167.121774 306.18 \r\nL 167.121774 273.889573 \r\nL 158.83977 273.889573 \r\nz\r\n\" style=\"fill:#8172b2;\"/>\r\n   </g>\r\n   <g id=\"patch_36\">\r\n    <path clip-path=\"url(#p75e4665739)\" d=\"M 200.249788 306.18 \r\nL 208.531792 306.18 \r\nL 208.531792 21.437143 \r\nL 200.249788 21.437143 \r\nz\r\n\" style=\"fill:#8172b2;\"/>\r\n   </g>\r\n   <g id=\"patch_37\">\r\n    <path clip-path=\"url(#p75e4665739)\" d=\"M 241.659807 306.18 \r\nL 249.941811 306.18 \r\nL 249.941811 194.631252 \r\nL 241.659807 194.631252 \r\nz\r\n\" style=\"fill:#8172b2;\"/>\r\n   </g>\r\n   <g id=\"patch_38\">\r\n    <path clip-path=\"url(#p75e4665739)\" d=\"M 283.069825 306.18 \r\nL 291.351829 306.18 \r\nL 291.351829 294.438027 \r\nL 283.069825 294.438027 \r\nz\r\n\" style=\"fill:#8172b2;\"/>\r\n   </g>\r\n   <g id=\"patch_39\">\r\n    <path clip-path=\"url(#p75e4665739)\" d=\"M 324.479844 306.18 \r\nL 332.761848 306.18 \r\nL 332.761848 306.18 \r\nL 324.479844 306.18 \r\nz\r\n\" style=\"fill:#8172b2;\"/>\r\n   </g>\r\n   <g id=\"patch_40\">\r\n    <path clip-path=\"url(#p75e4665739)\" d=\"M 365.889863 306.18 \r\nL 374.171866 306.18 \r\nL 374.171866 306.18 \r\nL 365.889863 306.18 \r\nz\r\n\" style=\"fill:#8172b2;\"/>\r\n   </g>\r\n   <g id=\"patch_41\">\r\n    <path clip-path=\"url(#p75e4665739)\" d=\"M 407.299881 306.18 \r\nL 415.581885 306.18 \r\nL 415.581885 306.18 \r\nL 407.299881 306.18 \r\nz\r\n\" style=\"fill:#8172b2;\"/>\r\n   </g>\r\n   <g id=\"patch_42\">\r\n    <path clip-path=\"url(#p75e4665739)\" d=\"M 448.7099 306.18 \r\nL 456.991903 306.18 \r\nL 456.991903 306.18 \r\nL 448.7099 306.18 \r\nz\r\n\" style=\"fill:#8172b2;\"/>\r\n   </g>\r\n   <g id=\"patch_43\">\r\n    <path d=\"M 30.882812 306.18 \r\nL 30.882812 7.2 \r\n\" style=\"fill:none;\"/>\r\n   </g>\r\n   <g id=\"patch_44\">\r\n    <path d=\"M 477.282812 306.18 \r\nL 477.282812 7.2 \r\n\" style=\"fill:none;\"/>\r\n   </g>\r\n   <g id=\"patch_45\">\r\n    <path d=\"M 30.882812 306.18 \r\nL 477.282812 306.18 \r\n\" style=\"fill:none;\"/>\r\n   </g>\r\n   <g id=\"patch_46\">\r\n    <path d=\"M 30.882812 7.2 \r\nL 477.282812 7.2 \r\n\" style=\"fill:none;\"/>\r\n   </g>\r\n  </g>\r\n </g>\r\n <defs>\r\n  <clipPath id=\"p75e4665739\">\r\n   <rect height=\"298.98\" width=\"446.4\" x=\"30.882812\" y=\"7.2\"/>\r\n  </clipPath>\r\n </defs>\r\n</svg>\r\n",
      "text/plain": "<Figure size 576x396 with 1 Axes>"
     },
     "metadata": {},
     "output_type": "display_data"
    }
   ],
   "source": [
    "plt.hist([iris.petal_length, iris.petal_width, iris.sepal_length, iris.sepal_width], bins = 10)"
   ]
  },
  {
   "cell_type": "code",
   "execution_count": null,
   "metadata": {},
   "outputs": [],
   "source": []
  }
 ]
}