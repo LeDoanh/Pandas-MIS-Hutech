{
 "nbformat": 4,
 "nbformat_minor": 2,
 "metadata": {
  "language_info": {
   "name": "python",
   "codemirror_mode": {
    "name": "ipython",
    "version": 3
   },
   "version": "3.7.3"
  },
  "orig_nbformat": 2,
  "file_extension": ".py",
  "mimetype": "text/x-python",
  "name": "python",
  "npconvert_exporter": "python",
  "pygments_lexer": "ipython3",
  "version": 3
 },
 "cells": [
  {
   "cell_type": "code",
   "execution_count": 2,
   "metadata": {},
   "outputs": [],
   "source": [
    "import pandas as pd\n",
    "import numpy as np"
   ]
  },
  {
   "cell_type": "code",
   "execution_count": 12,
   "metadata": {},
   "outputs": [
    {
     "data": {
      "text/html": "<div>\n<style scoped>\n    .dataframe tbody tr th:only-of-type {\n        vertical-align: middle;\n    }\n\n    .dataframe tbody tr th {\n        vertical-align: top;\n    }\n\n    .dataframe thead th {\n        text-align: right;\n    }\n</style>\n<table border=\"1\" class=\"dataframe\">\n  <thead>\n    <tr style=\"text-align: right;\">\n      <th></th>\n      <th>Name</th>\n      <th>Date_work</th>\n      <th>Salary</th>\n    </tr>\n  </thead>\n  <tbody>\n    <tr>\n      <th>0</th>\n      <td>Mery</td>\n      <td>2019-10-01</td>\n      <td>250</td>\n    </tr>\n    <tr>\n      <th>1</th>\n      <td>Anna</td>\n      <td>2019-10-02</td>\n      <td>250</td>\n    </tr>\n    <tr>\n      <th>2</th>\n      <td>Thor</td>\n      <td>2019-10-03</td>\n      <td>125</td>\n    </tr>\n    <tr>\n      <th>3</th>\n      <td>Mery</td>\n      <td>2019-10-04</td>\n      <td>250</td>\n    </tr>\n    <tr>\n      <th>4</th>\n      <td>Thor</td>\n      <td>2019-10-07</td>\n      <td>100</td>\n    </tr>\n    <tr>\n      <th>5</th>\n      <td>Mery</td>\n      <td>2019-10-08</td>\n      <td>250</td>\n    </tr>\n    <tr>\n      <th>6</th>\n      <td>Mery</td>\n      <td>2019-10-09</td>\n      <td>250</td>\n    </tr>\n    <tr>\n      <th>7</th>\n      <td>Thor</td>\n      <td>2019-10-10</td>\n      <td>250</td>\n    </tr>\n    <tr>\n      <th>8</th>\n      <td>Mery</td>\n      <td>2019-10-11</td>\n      <td>250</td>\n    </tr>\n    <tr>\n      <th>9</th>\n      <td>Mery</td>\n      <td>2019-10-14</td>\n      <td>100</td>\n    </tr>\n  </tbody>\n</table>\n</div>",
      "text/plain": "   Name  Date_work  Salary\n0  Mery 2019-10-01     250\n1  Anna 2019-10-02     250\n2  Thor 2019-10-03     125\n3  Mery 2019-10-04     250\n4  Thor 2019-10-07     100\n5  Mery 2019-10-08     250\n6  Mery 2019-10-09     250\n7  Thor 2019-10-10     250\n8  Mery 2019-10-11     250\n9  Mery 2019-10-14     100"
     },
     "execution_count": 12,
     "metadata": {},
     "output_type": "execute_result"
    }
   ],
   "source": [
    "dct1 = {\n",
    "   'Name' : np.random.choice(['Anna', 'Thor', 'Mery'], size = 10),\n",
    "   'Date_work' : pd.date_range(start= '2019-10-01', periods= 10, freq= 'B'),\n",
    "   'Salary' : np.random.choice([100, 125, 250], size = 10)\n",
    "}\n",
    "df1 = pd.DataFrame(dct1)\n",
    "df1"
   ]
  },
  {
   "cell_type": "code",
   "execution_count": 13,
   "metadata": {},
   "outputs": [
    {
     "data": {
      "text/html": "<div>\n<style scoped>\n    .dataframe tbody tr th:only-of-type {\n        vertical-align: middle;\n    }\n\n    .dataframe tbody tr th {\n        vertical-align: top;\n    }\n\n    .dataframe thead th {\n        text-align: right;\n    }\n</style>\n<table border=\"1\" class=\"dataframe\">\n  <thead>\n    <tr style=\"text-align: right;\">\n      <th></th>\n      <th>Name</th>\n      <th>Date_work</th>\n      <th>Salary</th>\n    </tr>\n  </thead>\n  <tbody>\n    <tr>\n      <th>0</th>\n      <td>Thor</td>\n      <td>2019-10-01</td>\n      <td>250</td>\n    </tr>\n    <tr>\n      <th>1</th>\n      <td>Anna</td>\n      <td>2019-10-02</td>\n      <td>125</td>\n    </tr>\n    <tr>\n      <th>2</th>\n      <td>Anna</td>\n      <td>2019-10-03</td>\n      <td>250</td>\n    </tr>\n    <tr>\n      <th>3</th>\n      <td>Thor</td>\n      <td>2019-10-04</td>\n      <td>125</td>\n    </tr>\n    <tr>\n      <th>4</th>\n      <td>Anna</td>\n      <td>2019-10-07</td>\n      <td>125</td>\n    </tr>\n    <tr>\n      <th>5</th>\n      <td>Anna</td>\n      <td>2019-10-08</td>\n      <td>125</td>\n    </tr>\n    <tr>\n      <th>6</th>\n      <td>Thor</td>\n      <td>2019-10-09</td>\n      <td>250</td>\n    </tr>\n    <tr>\n      <th>7</th>\n      <td>Thor</td>\n      <td>2019-10-10</td>\n      <td>125</td>\n    </tr>\n    <tr>\n      <th>8</th>\n      <td>Anna</td>\n      <td>2019-10-11</td>\n      <td>250</td>\n    </tr>\n    <tr>\n      <th>9</th>\n      <td>Mery</td>\n      <td>2019-10-14</td>\n      <td>250</td>\n    </tr>\n  </tbody>\n</table>\n</div>",
      "text/plain": "   Name  Date_work  Salary\n0  Thor 2019-10-01     250\n1  Anna 2019-10-02     125\n2  Anna 2019-10-03     250\n3  Thor 2019-10-04     125\n4  Anna 2019-10-07     125\n5  Anna 2019-10-08     125\n6  Thor 2019-10-09     250\n7  Thor 2019-10-10     125\n8  Anna 2019-10-11     250\n9  Mery 2019-10-14     250"
     },
     "execution_count": 13,
     "metadata": {},
     "output_type": "execute_result"
    }
   ],
   "source": [
    "dct2 = {\n",
    "   'Name' : np.random.choice(['Anna', 'Thor', 'Mery'], size = 10),\n",
    "   'Date_work' : pd.date_range(start= '2019-10-01', periods= 10, freq= 'B'),\n",
    "   'Salary' : np.random.choice([100, 125, 250], size = 10)\n",
    "}\n",
    "df2 = pd.DataFrame(dct2)\n",
    "df2"
   ]
  },
  {
   "cell_type": "code",
   "execution_count": 33,
   "metadata": {},
   "outputs": [
    {
     "data": {
      "text/html": "<div>\n<style scoped>\n    .dataframe tbody tr th:only-of-type {\n        vertical-align: middle;\n    }\n\n    .dataframe tbody tr th {\n        vertical-align: top;\n    }\n\n    .dataframe thead th {\n        text-align: right;\n    }\n</style>\n<table border=\"1\" class=\"dataframe\">\n  <thead>\n    <tr style=\"text-align: right;\">\n      <th></th>\n      <th>Salary</th>\n    </tr>\n  </thead>\n  <tbody>\n    <tr>\n      <th>20</th>\n      <td>NaN</td>\n    </tr>\n    <tr>\n      <th>4</th>\n      <td>100.0</td>\n    </tr>\n    <tr>\n      <th>3</th>\n      <td>250.0</td>\n    </tr>\n  </tbody>\n</table>\n</div>",
      "text/plain": "    Salary\n20     NaN\n4    100.0\n3    250.0"
     },
     "execution_count": 33,
     "metadata": {},
     "output_type": "execute_result"
    }
   ],
   "source": [
    "pd.concat([df1, df2]).reset_index().reindex(columns = ['Salary'], index = [3,4,20]).sort_index(ascending = False)"
   ]
  },
  {
   "cell_type": "code",
   "execution_count": null,
   "metadata": {},
   "outputs": [],
   "source": []
  }
 ]
}