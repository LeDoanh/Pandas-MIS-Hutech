{
  "cells": [
    {
      "metadata": {
        "id": "AT6yrv42MuHM",
        "colab_type": "text"
      },
      "cell_type": "markdown",
      "source": "# Giới thiệu\nVào một buổi chiều đẹp trời, lớp MIS khóa 2018 được yêu cầu chơi trò Khủng long. Hôm nay, trong bài thực hành này, chúng ta cùng phân tích kết quả đạt được."
    },
    {
      "metadata": {
        "id": "WNeE1x2DNMWn",
        "colab_type": "text"
      },
      "cell_type": "markdown",
      "source": "# Dữ liệu\nDữ liệu được lưu trữ trong file `dinosaur.csv` với các cột :\n- `name` : họ và tên.\n- `gender` : giới tính (`M` là nam, `F` là nữ).\n- `t1`, `t2`, ..., `t10` : điểm lần chơi thứ nhất, thứ 2, ..., thứ 10."
    },
    {
      "metadata": {
        "id": "wn7rBOMANqBy",
        "colab_type": "text"
      },
      "cell_type": "markdown",
      "source": "# Lời cảm ơn\nCảm ơn các bạn đã giúp tôi có được dữ liệu cho bài thực hành này. ❤❤❤\n\nNhững bạn có tên trong danh sách sau sẽ được cộng $0.5$ điểm cho bài thực hành :\n- Lê Đình Doanh\n- Huỳnh Ngọc Trinh\n- Cao Duy Hiếu\n- Thuận Thị Thảo Vân\n- Nguyễn Hoài Nam\n- Nguyễn Thành Luân\n- Vũ Thị Thanh Nga\n- Nguyễn Dĩ Khan\n- Lương Thế Nam\n- Nguyễn Quốc Đăng Khoa\n- Nguyễn Duy Tuấn\n- Phan Hoàng Kim\n- Nguyễn Phong Phú\n- Nguyễn Khắc Tưởng\n- Nguyễn Duy Nam\n- Võ Thị Diễm Quyên\n- Lâm Quang Tĩnh\n- Nguyễn Hoàng Tuấn\n- Phạm Văn Thọ\n- Phạm Thị Kim Ngân"
    },
    {
      "metadata": {
        "id": "ijQ2f657OVaL",
        "colab_type": "text"
      },
      "cell_type": "markdown",
      "source": "# Bài tập"
    },
    {
      "metadata": {
        "id": "4vLV3GVGOX3w",
        "colab_type": "text"
      },
      "cell_type": "markdown",
      "source": "**Câu 1** : Đọc dữ liệu vào `DataFrame`."
    },
    {
      "metadata": {
        "id": "mtyFCOviMmVY",
        "colab_type": "code",
        "colab": {},
        "trusted": true
      },
      "cell_type": "code",
      "source": "import pandas as pd\n\ndino = pd.read_csv('https://raw.githubusercontent.com/Levytan/MIS.2019/master/Data/dinosaur.csv')\ndino",
      "execution_count": 69,
      "outputs": [
        {
          "output_type": "execute_result",
          "execution_count": 69,
          "data": {
            "text/plain": "                     name gender    t1    t2    t3    t4    t5    t6    t7  \\\n0           Lê Đình Doanh      M  1673   586   259   764  1859   533   184   \n1        Huỳnh Ngọc Trinh      F   507   615   765   864  2170  1277  2141   \n2            Cao Duy Hiếu      M   925  1548   114   332   108   539    74   \n3      Thuận Thị Thảo Vân      F   308   660  1162  1919  1006   170   206   \n4         Nguyễn Hoài Nam      M    55   521  1327    86    70    44   132   \n5       Nguyễn Thành Luân      M    52    91   113   134    43   186   202   \n6        Vũ Thị Thanh Nga      F    88    85    58   175   124   227   184   \n7          Nguyễn Dĩ Khan      M   100    98   160    76   146    64    97   \n8           Lương Thế Nam      M  1172   706   681   552   950   151   905   \n9   Nguyễn Quốc Đăng Khoa      M    43    51    50   135   171    53    53   \n10        Nguyễn Duy Tuấn      M   561   340    52  2981   235   184   215   \n11         Phan Hoàng Kim      M    41    50    52    30    78    47    83   \n12       Nguyễn Phong Phú      M    42    47    42    42    42    42    42   \n13      Nguyễn Khắc Tưởng      M   776   287  1252   302   598   342   932   \n14         Nguyễn Duy Nam      M    43   121    42   119    59   131    59   \n15      Võ Thị Diễm Quyên      F   870  1025  1168  1086   544   101   846   \n16         Lâm Quang Tĩnh      M    44    70    56  1327   521   738    55   \n17      Nguyễn Hoàng Tuấn      M  3734   310  3284  2862  1526  5137  2471   \n18           Phạm Văn Thọ      M   108   330   273   314   588   321   738   \n19      Phạm Thị Kim Ngân      F    80   142    48   340   388   465   229   \n\n      t8    t9   t10  \n0    264   504   350  \n1    975   761  2619  \n2    999  2060    65  \n3    211   239   198  \n4    254    44   738  \n5    283   286   382  \n6    143   291   228  \n7     59   151    42  \n8    174   301   325  \n9    450    69    42  \n10   351    45   701  \n11   109    50    31  \n12    42    42    42  \n13   731   136   385  \n14   116    52    52  \n15  1786  1120   574  \n16    44   254   132  \n17  1985   362   325  \n18   234  1310   824  \n19   284    42   487  ",
            "text/html": "<div>\n<table border=\"1\" class=\"dataframe\">\n  <thead>\n    <tr style=\"text-align: right;\">\n      <th></th>\n      <th>name</th>\n      <th>gender</th>\n      <th>t1</th>\n      <th>t2</th>\n      <th>t3</th>\n      <th>t4</th>\n      <th>t5</th>\n      <th>t6</th>\n      <th>t7</th>\n      <th>t8</th>\n      <th>t9</th>\n      <th>t10</th>\n    </tr>\n  </thead>\n  <tbody>\n    <tr>\n      <th>0</th>\n      <td>Lê Đình Doanh</td>\n      <td>M</td>\n      <td>1673</td>\n      <td>586</td>\n      <td>259</td>\n      <td>764</td>\n      <td>1859</td>\n      <td>533</td>\n      <td>184</td>\n      <td>264</td>\n      <td>504</td>\n      <td>350</td>\n    </tr>\n    <tr>\n      <th>1</th>\n      <td>Huỳnh Ngọc Trinh</td>\n      <td>F</td>\n      <td>507</td>\n      <td>615</td>\n      <td>765</td>\n      <td>864</td>\n      <td>2170</td>\n      <td>1277</td>\n      <td>2141</td>\n      <td>975</td>\n      <td>761</td>\n      <td>2619</td>\n    </tr>\n    <tr>\n      <th>2</th>\n      <td>Cao Duy Hiếu</td>\n      <td>M</td>\n      <td>925</td>\n      <td>1548</td>\n      <td>114</td>\n      <td>332</td>\n      <td>108</td>\n      <td>539</td>\n      <td>74</td>\n      <td>999</td>\n      <td>2060</td>\n      <td>65</td>\n    </tr>\n    <tr>\n      <th>3</th>\n      <td>Thuận Thị Thảo Vân</td>\n      <td>F</td>\n      <td>308</td>\n      <td>660</td>\n      <td>1162</td>\n      <td>1919</td>\n      <td>1006</td>\n      <td>170</td>\n      <td>206</td>\n      <td>211</td>\n      <td>239</td>\n      <td>198</td>\n    </tr>\n    <tr>\n      <th>4</th>\n      <td>Nguyễn Hoài Nam</td>\n      <td>M</td>\n      <td>55</td>\n      <td>521</td>\n      <td>1327</td>\n      <td>86</td>\n      <td>70</td>\n      <td>44</td>\n      <td>132</td>\n      <td>254</td>\n      <td>44</td>\n      <td>738</td>\n    </tr>\n    <tr>\n      <th>5</th>\n      <td>Nguyễn Thành Luân</td>\n      <td>M</td>\n      <td>52</td>\n      <td>91</td>\n      <td>113</td>\n      <td>134</td>\n      <td>43</td>\n      <td>186</td>\n      <td>202</td>\n      <td>283</td>\n      <td>286</td>\n      <td>382</td>\n    </tr>\n    <tr>\n      <th>6</th>\n      <td>Vũ Thị Thanh Nga</td>\n      <td>F</td>\n      <td>88</td>\n      <td>85</td>\n      <td>58</td>\n      <td>175</td>\n      <td>124</td>\n      <td>227</td>\n      <td>184</td>\n      <td>143</td>\n      <td>291</td>\n      <td>228</td>\n    </tr>\n    <tr>\n      <th>7</th>\n      <td>Nguyễn Dĩ Khan</td>\n      <td>M</td>\n      <td>100</td>\n      <td>98</td>\n      <td>160</td>\n      <td>76</td>\n      <td>146</td>\n      <td>64</td>\n      <td>97</td>\n      <td>59</td>\n      <td>151</td>\n      <td>42</td>\n    </tr>\n    <tr>\n      <th>8</th>\n      <td>Lương Thế Nam</td>\n      <td>M</td>\n      <td>1172</td>\n      <td>706</td>\n      <td>681</td>\n      <td>552</td>\n      <td>950</td>\n      <td>151</td>\n      <td>905</td>\n      <td>174</td>\n      <td>301</td>\n      <td>325</td>\n    </tr>\n    <tr>\n      <th>9</th>\n      <td>Nguyễn Quốc Đăng Khoa</td>\n      <td>M</td>\n      <td>43</td>\n      <td>51</td>\n      <td>50</td>\n      <td>135</td>\n      <td>171</td>\n      <td>53</td>\n      <td>53</td>\n      <td>450</td>\n      <td>69</td>\n      <td>42</td>\n    </tr>\n    <tr>\n      <th>10</th>\n      <td>Nguyễn Duy Tuấn</td>\n      <td>M</td>\n      <td>561</td>\n      <td>340</td>\n      <td>52</td>\n      <td>2981</td>\n      <td>235</td>\n      <td>184</td>\n      <td>215</td>\n      <td>351</td>\n      <td>45</td>\n      <td>701</td>\n    </tr>\n    <tr>\n      <th>11</th>\n      <td>Phan Hoàng Kim</td>\n      <td>M</td>\n      <td>41</td>\n      <td>50</td>\n      <td>52</td>\n      <td>30</td>\n      <td>78</td>\n      <td>47</td>\n      <td>83</td>\n      <td>109</td>\n      <td>50</td>\n      <td>31</td>\n    </tr>\n    <tr>\n      <th>12</th>\n      <td>Nguyễn Phong Phú</td>\n      <td>M</td>\n      <td>42</td>\n      <td>47</td>\n      <td>42</td>\n      <td>42</td>\n      <td>42</td>\n      <td>42</td>\n      <td>42</td>\n      <td>42</td>\n      <td>42</td>\n      <td>42</td>\n    </tr>\n    <tr>\n      <th>13</th>\n      <td>Nguyễn Khắc Tưởng</td>\n      <td>M</td>\n      <td>776</td>\n      <td>287</td>\n      <td>1252</td>\n      <td>302</td>\n      <td>598</td>\n      <td>342</td>\n      <td>932</td>\n      <td>731</td>\n      <td>136</td>\n      <td>385</td>\n    </tr>\n    <tr>\n      <th>14</th>\n      <td>Nguyễn Duy Nam</td>\n      <td>M</td>\n      <td>43</td>\n      <td>121</td>\n      <td>42</td>\n      <td>119</td>\n      <td>59</td>\n      <td>131</td>\n      <td>59</td>\n      <td>116</td>\n      <td>52</td>\n      <td>52</td>\n    </tr>\n    <tr>\n      <th>15</th>\n      <td>Võ Thị Diễm Quyên</td>\n      <td>F</td>\n      <td>870</td>\n      <td>1025</td>\n      <td>1168</td>\n      <td>1086</td>\n      <td>544</td>\n      <td>101</td>\n      <td>846</td>\n      <td>1786</td>\n      <td>1120</td>\n      <td>574</td>\n    </tr>\n    <tr>\n      <th>16</th>\n      <td>Lâm Quang Tĩnh</td>\n      <td>M</td>\n      <td>44</td>\n      <td>70</td>\n      <td>56</td>\n      <td>1327</td>\n      <td>521</td>\n      <td>738</td>\n      <td>55</td>\n      <td>44</td>\n      <td>254</td>\n      <td>132</td>\n    </tr>\n    <tr>\n      <th>17</th>\n      <td>Nguyễn Hoàng Tuấn</td>\n      <td>M</td>\n      <td>3734</td>\n      <td>310</td>\n      <td>3284</td>\n      <td>2862</td>\n      <td>1526</td>\n      <td>5137</td>\n      <td>2471</td>\n      <td>1985</td>\n      <td>362</td>\n      <td>325</td>\n    </tr>\n    <tr>\n      <th>18</th>\n      <td>Phạm Văn Thọ</td>\n      <td>M</td>\n      <td>108</td>\n      <td>330</td>\n      <td>273</td>\n      <td>314</td>\n      <td>588</td>\n      <td>321</td>\n      <td>738</td>\n      <td>234</td>\n      <td>1310</td>\n      <td>824</td>\n    </tr>\n    <tr>\n      <th>19</th>\n      <td>Phạm Thị Kim Ngân</td>\n      <td>F</td>\n      <td>80</td>\n      <td>142</td>\n      <td>48</td>\n      <td>340</td>\n      <td>388</td>\n      <td>465</td>\n      <td>229</td>\n      <td>284</td>\n      <td>42</td>\n      <td>487</td>\n    </tr>\n  </tbody>\n</table>\n</div>"
          },
          "metadata": {}
        }
      ]
    },
    {
      "metadata": {
        "id": "EoZeWAD7OdyB",
        "colab_type": "text"
      },
      "cell_type": "markdown",
      "source": "**Câu 2** : Trong dữ liệu trên, có bao nhiêu nam, bao nhiêu nữ."
    },
    {
      "metadata": {
        "id": "1G3GWp9tOnU6",
        "colab_type": "code",
        "colab": {},
        "trusted": true
      },
      "cell_type": "code",
      "source": "dino.gender.value_counts()",
      "execution_count": 70,
      "outputs": [
        {
          "output_type": "execute_result",
          "execution_count": 70,
          "data": {
            "text/plain": "M    15\nF     5\nName: gender, dtype: int64"
          },
          "metadata": {}
        }
      ]
    },
    {
      "metadata": {
        "id": "BnrKClPhOoAp",
        "colab_type": "text"
      },
      "cell_type": "markdown",
      "source": "**Câu 3** : In ra dữ liệu của chính bạn, nếu không có thì in ra dữ liệu của một bạn bất kỳ mà bạn thích."
    },
    {
      "metadata": {
        "id": "wtSrMrAtO3d5",
        "colab_type": "code",
        "colab": {},
        "trusted": true
      },
      "cell_type": "code",
      "source": "dino[dino.name.isin(['Lê Đình Doanh'])]",
      "execution_count": 79,
      "outputs": [
        {
          "output_type": "execute_result",
          "execution_count": 79,
          "data": {
            "text/plain": "            name gender    t1   t2   t3   t4    t5   t6   t7   t8   t9  t10\n0  Lê Đình Doanh      M  1673  586  259  764  1859  533  184  264  504  350",
            "text/html": "<div>\n<table border=\"1\" class=\"dataframe\">\n  <thead>\n    <tr style=\"text-align: right;\">\n      <th></th>\n      <th>name</th>\n      <th>gender</th>\n      <th>t1</th>\n      <th>t2</th>\n      <th>t3</th>\n      <th>t4</th>\n      <th>t5</th>\n      <th>t6</th>\n      <th>t7</th>\n      <th>t8</th>\n      <th>t9</th>\n      <th>t10</th>\n    </tr>\n  </thead>\n  <tbody>\n    <tr>\n      <th>0</th>\n      <td>Lê Đình Doanh</td>\n      <td>M</td>\n      <td>1673</td>\n      <td>586</td>\n      <td>259</td>\n      <td>764</td>\n      <td>1859</td>\n      <td>533</td>\n      <td>184</td>\n      <td>264</td>\n      <td>504</td>\n      <td>350</td>\n    </tr>\n  </tbody>\n</table>\n</div>"
          },
          "metadata": {}
        }
      ]
    },
    {
      "metadata": {
        "id": "IEYh4JrwO4eM",
        "colab_type": "text"
      },
      "cell_type": "markdown",
      "source": "**Câu 4 (1 điểm)** : In ra dữ liệu của những bạn có **tên** bắt đầu bằng chữ `N`. Quy ước : tên một người là từ cuối cùng trong họ và tên đầy đủ của người đó. Ví dụ `Huỳnh Ngọc Trinh` có tên là `Trinh`, `Nguyễn Quốc Đăng Khoa` có tên là `Khoa`.\n\n---\n_Gợi ý_ : dùng `.str.split()` để tách tên."
    },
    {
      "metadata": {
        "id": "uJ6hfac9Pnv0",
        "colab_type": "code",
        "colab": {},
        "trusted": true
      },
      "cell_type": "code",
      "source": "name = pd.concat([dino.name, pd.Series([i[-1] for i in dino.name.str.split().values])], axis = 1).rename(columns = {0 : 'last_name'})\ndino[name.last_name.str[0] == 'N']",
      "execution_count": 72,
      "outputs": [
        {
          "output_type": "execute_result",
          "execution_count": 72,
          "data": {
            "text/plain": "                 name gender    t1   t2    t3   t4   t5   t6   t7   t8   t9  \\\n4     Nguyễn Hoài Nam      M    55  521  1327   86   70   44  132  254   44   \n6    Vũ Thị Thanh Nga      F    88   85    58  175  124  227  184  143  291   \n8       Lương Thế Nam      M  1172  706   681  552  950  151  905  174  301   \n14     Nguyễn Duy Nam      M    43  121    42  119   59  131   59  116   52   \n19  Phạm Thị Kim Ngân      F    80  142    48  340  388  465  229  284   42   \n\n    t10  \n4   738  \n6   228  \n8   325  \n14   52  \n19  487  ",
            "text/html": "<div>\n<table border=\"1\" class=\"dataframe\">\n  <thead>\n    <tr style=\"text-align: right;\">\n      <th></th>\n      <th>name</th>\n      <th>gender</th>\n      <th>t1</th>\n      <th>t2</th>\n      <th>t3</th>\n      <th>t4</th>\n      <th>t5</th>\n      <th>t6</th>\n      <th>t7</th>\n      <th>t8</th>\n      <th>t9</th>\n      <th>t10</th>\n    </tr>\n  </thead>\n  <tbody>\n    <tr>\n      <th>4</th>\n      <td>Nguyễn Hoài Nam</td>\n      <td>M</td>\n      <td>55</td>\n      <td>521</td>\n      <td>1327</td>\n      <td>86</td>\n      <td>70</td>\n      <td>44</td>\n      <td>132</td>\n      <td>254</td>\n      <td>44</td>\n      <td>738</td>\n    </tr>\n    <tr>\n      <th>6</th>\n      <td>Vũ Thị Thanh Nga</td>\n      <td>F</td>\n      <td>88</td>\n      <td>85</td>\n      <td>58</td>\n      <td>175</td>\n      <td>124</td>\n      <td>227</td>\n      <td>184</td>\n      <td>143</td>\n      <td>291</td>\n      <td>228</td>\n    </tr>\n    <tr>\n      <th>8</th>\n      <td>Lương Thế Nam</td>\n      <td>M</td>\n      <td>1172</td>\n      <td>706</td>\n      <td>681</td>\n      <td>552</td>\n      <td>950</td>\n      <td>151</td>\n      <td>905</td>\n      <td>174</td>\n      <td>301</td>\n      <td>325</td>\n    </tr>\n    <tr>\n      <th>14</th>\n      <td>Nguyễn Duy Nam</td>\n      <td>M</td>\n      <td>43</td>\n      <td>121</td>\n      <td>42</td>\n      <td>119</td>\n      <td>59</td>\n      <td>131</td>\n      <td>59</td>\n      <td>116</td>\n      <td>52</td>\n      <td>52</td>\n    </tr>\n    <tr>\n      <th>19</th>\n      <td>Phạm Thị Kim Ngân</td>\n      <td>F</td>\n      <td>80</td>\n      <td>142</td>\n      <td>48</td>\n      <td>340</td>\n      <td>388</td>\n      <td>465</td>\n      <td>229</td>\n      <td>284</td>\n      <td>42</td>\n      <td>487</td>\n    </tr>\n  </tbody>\n</table>\n</div>"
          },
          "metadata": {}
        }
      ]
    },
    {
      "metadata": {
        "id": "cM_fh8bsPx40",
        "colab_type": "text"
      },
      "cell_type": "markdown",
      "source": "**Câu 5** : In ra số điểm lớn nhất từng lần chơi."
    },
    {
      "metadata": {
        "id": "wz51zwIbP3eB",
        "colab_type": "code",
        "colab": {},
        "trusted": true
      },
      "cell_type": "code",
      "source": "dino.max(numeric_only = True)",
      "execution_count": 73,
      "outputs": [
        {
          "output_type": "execute_result",
          "execution_count": 73,
          "data": {
            "text/plain": "t1     3734\nt2     1548\nt3     3284\nt4     2981\nt5     2170\nt6     5137\nt7     2471\nt8     1985\nt9     2060\nt10    2619\ndtype: int64"
          },
          "metadata": {}
        }
      ]
    },
    {
      "metadata": {
        "id": "Q6EuaVg3P4TS",
        "colab_type": "text"
      },
      "cell_type": "markdown",
      "source": "**Câu 6** : In ra thống kê mô tả về điểm số của chính bạn, nếu không có thì làm tương tự **Câu 3**."
    },
    {
      "metadata": {
        "id": "JB-SAFRMQRU8",
        "colab_type": "code",
        "colab": {},
        "trusted": true
      },
      "cell_type": "code",
      "source": "dino[dino.name.isin(['Lê Đình Doanh'])].transpose().describe()",
      "execution_count": 127,
      "outputs": [
        {
          "output_type": "execute_result",
          "execution_count": 127,
          "data": {
            "text/plain": "          0\ncount    13\nunique   13\ntop     350\nfreq      1",
            "text/html": "<div>\n<table border=\"1\" class=\"dataframe\">\n  <thead>\n    <tr style=\"text-align: right;\">\n      <th></th>\n      <th>0</th>\n    </tr>\n  </thead>\n  <tbody>\n    <tr>\n      <th>count</th>\n      <td>13</td>\n    </tr>\n    <tr>\n      <th>unique</th>\n      <td>13</td>\n    </tr>\n    <tr>\n      <th>top</th>\n      <td>350</td>\n    </tr>\n    <tr>\n      <th>freq</th>\n      <td>1</td>\n    </tr>\n  </tbody>\n</table>\n</div>"
          },
          "metadata": {}
        }
      ]
    },
    {
      "metadata": {
        "id": "ylmJkQbyQSAV",
        "colab_type": "text"
      },
      "cell_type": "markdown",
      "source": "**Câu 7** : Tạo cột `avg` để lưu điểm trung bình từng người."
    },
    {
      "metadata": {
        "id": "KCvaS7ENQhzl",
        "colab_type": "code",
        "colab": {},
        "trusted": true
      },
      "cell_type": "code",
      "source": "dino = dino.assign(avg = dino.mean(axis = 'columns'))\ndino",
      "execution_count": 83,
      "outputs": [
        {
          "output_type": "execute_result",
          "execution_count": 83,
          "data": {
            "text/plain": "                     name gender    t1    t2    t3    t4    t5    t6    t7  \\\n0           Lê Đình Doanh      M  1673   586   259   764  1859   533   184   \n1        Huỳnh Ngọc Trinh      F   507   615   765   864  2170  1277  2141   \n2            Cao Duy Hiếu      M   925  1548   114   332   108   539    74   \n3      Thuận Thị Thảo Vân      F   308   660  1162  1919  1006   170   206   \n4         Nguyễn Hoài Nam      M    55   521  1327    86    70    44   132   \n5       Nguyễn Thành Luân      M    52    91   113   134    43   186   202   \n6        Vũ Thị Thanh Nga      F    88    85    58   175   124   227   184   \n7          Nguyễn Dĩ Khan      M   100    98   160    76   146    64    97   \n8           Lương Thế Nam      M  1172   706   681   552   950   151   905   \n9   Nguyễn Quốc Đăng Khoa      M    43    51    50   135   171    53    53   \n10        Nguyễn Duy Tuấn      M   561   340    52  2981   235   184   215   \n11         Phan Hoàng Kim      M    41    50    52    30    78    47    83   \n12       Nguyễn Phong Phú      M    42    47    42    42    42    42    42   \n13      Nguyễn Khắc Tưởng      M   776   287  1252   302   598   342   932   \n14         Nguyễn Duy Nam      M    43   121    42   119    59   131    59   \n15      Võ Thị Diễm Quyên      F   870  1025  1168  1086   544   101   846   \n16         Lâm Quang Tĩnh      M    44    70    56  1327   521   738    55   \n17      Nguyễn Hoàng Tuấn      M  3734   310  3284  2862  1526  5137  2471   \n18           Phạm Văn Thọ      M   108   330   273   314   588   321   738   \n19      Phạm Thị Kim Ngân      F    80   142    48   340   388   465   229   \n\n      t8    t9   t10     avg  \n0    264   504   350   697.6  \n1    975   761  2619  1269.4  \n2    999  2060    65   676.4  \n3    211   239   198   607.9  \n4    254    44   738   327.1  \n5    283   286   382   177.2  \n6    143   291   228   160.3  \n7     59   151    42    99.3  \n8    174   301   325   591.7  \n9    450    69    42   111.7  \n10   351    45   701   566.5  \n11   109    50    31    57.1  \n12    42    42    42    42.5  \n13   731   136   385   574.1  \n14   116    52    52    79.4  \n15  1786  1120   574   912.0  \n16    44   254   132   324.1  \n17  1985   362   325  2199.6  \n18   234  1310   824   504.0  \n19   284    42   487   250.5  ",
            "text/html": "<div>\n<table border=\"1\" class=\"dataframe\">\n  <thead>\n    <tr style=\"text-align: right;\">\n      <th></th>\n      <th>name</th>\n      <th>gender</th>\n      <th>t1</th>\n      <th>t2</th>\n      <th>t3</th>\n      <th>t4</th>\n      <th>t5</th>\n      <th>t6</th>\n      <th>t7</th>\n      <th>t8</th>\n      <th>t9</th>\n      <th>t10</th>\n      <th>avg</th>\n    </tr>\n  </thead>\n  <tbody>\n    <tr>\n      <th>0</th>\n      <td>Lê Đình Doanh</td>\n      <td>M</td>\n      <td>1673</td>\n      <td>586</td>\n      <td>259</td>\n      <td>764</td>\n      <td>1859</td>\n      <td>533</td>\n      <td>184</td>\n      <td>264</td>\n      <td>504</td>\n      <td>350</td>\n      <td>697.6</td>\n    </tr>\n    <tr>\n      <th>1</th>\n      <td>Huỳnh Ngọc Trinh</td>\n      <td>F</td>\n      <td>507</td>\n      <td>615</td>\n      <td>765</td>\n      <td>864</td>\n      <td>2170</td>\n      <td>1277</td>\n      <td>2141</td>\n      <td>975</td>\n      <td>761</td>\n      <td>2619</td>\n      <td>1269.4</td>\n    </tr>\n    <tr>\n      <th>2</th>\n      <td>Cao Duy Hiếu</td>\n      <td>M</td>\n      <td>925</td>\n      <td>1548</td>\n      <td>114</td>\n      <td>332</td>\n      <td>108</td>\n      <td>539</td>\n      <td>74</td>\n      <td>999</td>\n      <td>2060</td>\n      <td>65</td>\n      <td>676.4</td>\n    </tr>\n    <tr>\n      <th>3</th>\n      <td>Thuận Thị Thảo Vân</td>\n      <td>F</td>\n      <td>308</td>\n      <td>660</td>\n      <td>1162</td>\n      <td>1919</td>\n      <td>1006</td>\n      <td>170</td>\n      <td>206</td>\n      <td>211</td>\n      <td>239</td>\n      <td>198</td>\n      <td>607.9</td>\n    </tr>\n    <tr>\n      <th>4</th>\n      <td>Nguyễn Hoài Nam</td>\n      <td>M</td>\n      <td>55</td>\n      <td>521</td>\n      <td>1327</td>\n      <td>86</td>\n      <td>70</td>\n      <td>44</td>\n      <td>132</td>\n      <td>254</td>\n      <td>44</td>\n      <td>738</td>\n      <td>327.1</td>\n    </tr>\n    <tr>\n      <th>5</th>\n      <td>Nguyễn Thành Luân</td>\n      <td>M</td>\n      <td>52</td>\n      <td>91</td>\n      <td>113</td>\n      <td>134</td>\n      <td>43</td>\n      <td>186</td>\n      <td>202</td>\n      <td>283</td>\n      <td>286</td>\n      <td>382</td>\n      <td>177.2</td>\n    </tr>\n    <tr>\n      <th>6</th>\n      <td>Vũ Thị Thanh Nga</td>\n      <td>F</td>\n      <td>88</td>\n      <td>85</td>\n      <td>58</td>\n      <td>175</td>\n      <td>124</td>\n      <td>227</td>\n      <td>184</td>\n      <td>143</td>\n      <td>291</td>\n      <td>228</td>\n      <td>160.3</td>\n    </tr>\n    <tr>\n      <th>7</th>\n      <td>Nguyễn Dĩ Khan</td>\n      <td>M</td>\n      <td>100</td>\n      <td>98</td>\n      <td>160</td>\n      <td>76</td>\n      <td>146</td>\n      <td>64</td>\n      <td>97</td>\n      <td>59</td>\n      <td>151</td>\n      <td>42</td>\n      <td>99.3</td>\n    </tr>\n    <tr>\n      <th>8</th>\n      <td>Lương Thế Nam</td>\n      <td>M</td>\n      <td>1172</td>\n      <td>706</td>\n      <td>681</td>\n      <td>552</td>\n      <td>950</td>\n      <td>151</td>\n      <td>905</td>\n      <td>174</td>\n      <td>301</td>\n      <td>325</td>\n      <td>591.7</td>\n    </tr>\n    <tr>\n      <th>9</th>\n      <td>Nguyễn Quốc Đăng Khoa</td>\n      <td>M</td>\n      <td>43</td>\n      <td>51</td>\n      <td>50</td>\n      <td>135</td>\n      <td>171</td>\n      <td>53</td>\n      <td>53</td>\n      <td>450</td>\n      <td>69</td>\n      <td>42</td>\n      <td>111.7</td>\n    </tr>\n    <tr>\n      <th>10</th>\n      <td>Nguyễn Duy Tuấn</td>\n      <td>M</td>\n      <td>561</td>\n      <td>340</td>\n      <td>52</td>\n      <td>2981</td>\n      <td>235</td>\n      <td>184</td>\n      <td>215</td>\n      <td>351</td>\n      <td>45</td>\n      <td>701</td>\n      <td>566.5</td>\n    </tr>\n    <tr>\n      <th>11</th>\n      <td>Phan Hoàng Kim</td>\n      <td>M</td>\n      <td>41</td>\n      <td>50</td>\n      <td>52</td>\n      <td>30</td>\n      <td>78</td>\n      <td>47</td>\n      <td>83</td>\n      <td>109</td>\n      <td>50</td>\n      <td>31</td>\n      <td>57.1</td>\n    </tr>\n    <tr>\n      <th>12</th>\n      <td>Nguyễn Phong Phú</td>\n      <td>M</td>\n      <td>42</td>\n      <td>47</td>\n      <td>42</td>\n      <td>42</td>\n      <td>42</td>\n      <td>42</td>\n      <td>42</td>\n      <td>42</td>\n      <td>42</td>\n      <td>42</td>\n      <td>42.5</td>\n    </tr>\n    <tr>\n      <th>13</th>\n      <td>Nguyễn Khắc Tưởng</td>\n      <td>M</td>\n      <td>776</td>\n      <td>287</td>\n      <td>1252</td>\n      <td>302</td>\n      <td>598</td>\n      <td>342</td>\n      <td>932</td>\n      <td>731</td>\n      <td>136</td>\n      <td>385</td>\n      <td>574.1</td>\n    </tr>\n    <tr>\n      <th>14</th>\n      <td>Nguyễn Duy Nam</td>\n      <td>M</td>\n      <td>43</td>\n      <td>121</td>\n      <td>42</td>\n      <td>119</td>\n      <td>59</td>\n      <td>131</td>\n      <td>59</td>\n      <td>116</td>\n      <td>52</td>\n      <td>52</td>\n      <td>79.4</td>\n    </tr>\n    <tr>\n      <th>15</th>\n      <td>Võ Thị Diễm Quyên</td>\n      <td>F</td>\n      <td>870</td>\n      <td>1025</td>\n      <td>1168</td>\n      <td>1086</td>\n      <td>544</td>\n      <td>101</td>\n      <td>846</td>\n      <td>1786</td>\n      <td>1120</td>\n      <td>574</td>\n      <td>912.0</td>\n    </tr>\n    <tr>\n      <th>16</th>\n      <td>Lâm Quang Tĩnh</td>\n      <td>M</td>\n      <td>44</td>\n      <td>70</td>\n      <td>56</td>\n      <td>1327</td>\n      <td>521</td>\n      <td>738</td>\n      <td>55</td>\n      <td>44</td>\n      <td>254</td>\n      <td>132</td>\n      <td>324.1</td>\n    </tr>\n    <tr>\n      <th>17</th>\n      <td>Nguyễn Hoàng Tuấn</td>\n      <td>M</td>\n      <td>3734</td>\n      <td>310</td>\n      <td>3284</td>\n      <td>2862</td>\n      <td>1526</td>\n      <td>5137</td>\n      <td>2471</td>\n      <td>1985</td>\n      <td>362</td>\n      <td>325</td>\n      <td>2199.6</td>\n    </tr>\n    <tr>\n      <th>18</th>\n      <td>Phạm Văn Thọ</td>\n      <td>M</td>\n      <td>108</td>\n      <td>330</td>\n      <td>273</td>\n      <td>314</td>\n      <td>588</td>\n      <td>321</td>\n      <td>738</td>\n      <td>234</td>\n      <td>1310</td>\n      <td>824</td>\n      <td>504.0</td>\n    </tr>\n    <tr>\n      <th>19</th>\n      <td>Phạm Thị Kim Ngân</td>\n      <td>F</td>\n      <td>80</td>\n      <td>142</td>\n      <td>48</td>\n      <td>340</td>\n      <td>388</td>\n      <td>465</td>\n      <td>229</td>\n      <td>284</td>\n      <td>42</td>\n      <td>487</td>\n      <td>250.5</td>\n    </tr>\n  </tbody>\n</table>\n</div>"
          },
          "metadata": {}
        }
      ]
    },
    {
      "metadata": {
        "id": "bGR9wjKXRJ40",
        "colab_type": "text"
      },
      "cell_type": "markdown",
      "source": "**Câu 8** : Tính điểm trung bình toàn bộ lớp.\n\n---\n_Gợi ý_ : Điểm trung bình cả lớp chính là trung bình cộng của điểm trung bình của từng người."
    },
    {
      "metadata": {
        "id": "oK-ylLpQRhro",
        "colab_type": "code",
        "colab": {},
        "trusted": true
      },
      "cell_type": "code",
      "source": "avg_class = dino.avg.mean()\navg_class",
      "execution_count": 82,
      "outputs": [
        {
          "output_type": "execute_result",
          "execution_count": 82,
          "data": {
            "text/plain": "511.4200000000001"
          },
          "metadata": {}
        }
      ]
    },
    {
      "metadata": {
        "id": "XNrT1QzqRjRl",
        "colab_type": "text"
      },
      "cell_type": "markdown",
      "source": "**Câu 9** : In ra những bạn có điểm trung bình cao hơn điểm trung bình cả lớp."
    },
    {
      "metadata": {
        "id": "QgB4Q3EHSCO9",
        "colab_type": "code",
        "colab": {},
        "trusted": true
      },
      "cell_type": "code",
      "source": "dino[dino.avg > avg_class]",
      "execution_count": 84,
      "outputs": [
        {
          "output_type": "execute_result",
          "execution_count": 84,
          "data": {
            "text/plain": "                  name gender    t1    t2    t3    t4    t5    t6    t7    t8  \\\n0        Lê Đình Doanh      M  1673   586   259   764  1859   533   184   264   \n1     Huỳnh Ngọc Trinh      F   507   615   765   864  2170  1277  2141   975   \n2         Cao Duy Hiếu      M   925  1548   114   332   108   539    74   999   \n3   Thuận Thị Thảo Vân      F   308   660  1162  1919  1006   170   206   211   \n8        Lương Thế Nam      M  1172   706   681   552   950   151   905   174   \n10     Nguyễn Duy Tuấn      M   561   340    52  2981   235   184   215   351   \n13   Nguyễn Khắc Tưởng      M   776   287  1252   302   598   342   932   731   \n15   Võ Thị Diễm Quyên      F   870  1025  1168  1086   544   101   846  1786   \n17   Nguyễn Hoàng Tuấn      M  3734   310  3284  2862  1526  5137  2471  1985   \n\n      t9   t10     avg  \n0    504   350   697.6  \n1    761  2619  1269.4  \n2   2060    65   676.4  \n3    239   198   607.9  \n8    301   325   591.7  \n10    45   701   566.5  \n13   136   385   574.1  \n15  1120   574   912.0  \n17   362   325  2199.6  ",
            "text/html": "<div>\n<table border=\"1\" class=\"dataframe\">\n  <thead>\n    <tr style=\"text-align: right;\">\n      <th></th>\n      <th>name</th>\n      <th>gender</th>\n      <th>t1</th>\n      <th>t2</th>\n      <th>t3</th>\n      <th>t4</th>\n      <th>t5</th>\n      <th>t6</th>\n      <th>t7</th>\n      <th>t8</th>\n      <th>t9</th>\n      <th>t10</th>\n      <th>avg</th>\n    </tr>\n  </thead>\n  <tbody>\n    <tr>\n      <th>0</th>\n      <td>Lê Đình Doanh</td>\n      <td>M</td>\n      <td>1673</td>\n      <td>586</td>\n      <td>259</td>\n      <td>764</td>\n      <td>1859</td>\n      <td>533</td>\n      <td>184</td>\n      <td>264</td>\n      <td>504</td>\n      <td>350</td>\n      <td>697.6</td>\n    </tr>\n    <tr>\n      <th>1</th>\n      <td>Huỳnh Ngọc Trinh</td>\n      <td>F</td>\n      <td>507</td>\n      <td>615</td>\n      <td>765</td>\n      <td>864</td>\n      <td>2170</td>\n      <td>1277</td>\n      <td>2141</td>\n      <td>975</td>\n      <td>761</td>\n      <td>2619</td>\n      <td>1269.4</td>\n    </tr>\n    <tr>\n      <th>2</th>\n      <td>Cao Duy Hiếu</td>\n      <td>M</td>\n      <td>925</td>\n      <td>1548</td>\n      <td>114</td>\n      <td>332</td>\n      <td>108</td>\n      <td>539</td>\n      <td>74</td>\n      <td>999</td>\n      <td>2060</td>\n      <td>65</td>\n      <td>676.4</td>\n    </tr>\n    <tr>\n      <th>3</th>\n      <td>Thuận Thị Thảo Vân</td>\n      <td>F</td>\n      <td>308</td>\n      <td>660</td>\n      <td>1162</td>\n      <td>1919</td>\n      <td>1006</td>\n      <td>170</td>\n      <td>206</td>\n      <td>211</td>\n      <td>239</td>\n      <td>198</td>\n      <td>607.9</td>\n    </tr>\n    <tr>\n      <th>8</th>\n      <td>Lương Thế Nam</td>\n      <td>M</td>\n      <td>1172</td>\n      <td>706</td>\n      <td>681</td>\n      <td>552</td>\n      <td>950</td>\n      <td>151</td>\n      <td>905</td>\n      <td>174</td>\n      <td>301</td>\n      <td>325</td>\n      <td>591.7</td>\n    </tr>\n    <tr>\n      <th>10</th>\n      <td>Nguyễn Duy Tuấn</td>\n      <td>M</td>\n      <td>561</td>\n      <td>340</td>\n      <td>52</td>\n      <td>2981</td>\n      <td>235</td>\n      <td>184</td>\n      <td>215</td>\n      <td>351</td>\n      <td>45</td>\n      <td>701</td>\n      <td>566.5</td>\n    </tr>\n    <tr>\n      <th>13</th>\n      <td>Nguyễn Khắc Tưởng</td>\n      <td>M</td>\n      <td>776</td>\n      <td>287</td>\n      <td>1252</td>\n      <td>302</td>\n      <td>598</td>\n      <td>342</td>\n      <td>932</td>\n      <td>731</td>\n      <td>136</td>\n      <td>385</td>\n      <td>574.1</td>\n    </tr>\n    <tr>\n      <th>15</th>\n      <td>Võ Thị Diễm Quyên</td>\n      <td>F</td>\n      <td>870</td>\n      <td>1025</td>\n      <td>1168</td>\n      <td>1086</td>\n      <td>544</td>\n      <td>101</td>\n      <td>846</td>\n      <td>1786</td>\n      <td>1120</td>\n      <td>574</td>\n      <td>912.0</td>\n    </tr>\n    <tr>\n      <th>17</th>\n      <td>Nguyễn Hoàng Tuấn</td>\n      <td>M</td>\n      <td>3734</td>\n      <td>310</td>\n      <td>3284</td>\n      <td>2862</td>\n      <td>1526</td>\n      <td>5137</td>\n      <td>2471</td>\n      <td>1985</td>\n      <td>362</td>\n      <td>325</td>\n      <td>2199.6</td>\n    </tr>\n  </tbody>\n</table>\n</div>"
          },
          "metadata": {}
        }
      ]
    },
    {
      "metadata": {
        "id": "KOeeJUMhSDgx",
        "colab_type": "text"
      },
      "cell_type": "markdown",
      "source": "**Câu 10** : Tính điểm trung bình các bạn nam và các bạn nữ."
    },
    {
      "metadata": {
        "id": "flpgdv_KSKwx",
        "colab_type": "code",
        "colab": {},
        "trusted": true
      },
      "cell_type": "code",
      "source": "avg_M = dino[dino.gender.isin(['M'])].avg.mean()\navg_F = dino[dino.gender.isin(['F'])].avg.mean()\nprint(avg_M)\nprint(avg_F)",
      "execution_count": 154,
      "outputs": [
        {
          "output_type": "stream",
          "text": "468.5533333333333\n640.0199999999999\n",
          "name": "stdout"
        }
      ]
    },
    {
      "metadata": {
        "id": "wHoIDYX9UOU7",
        "colab_type": "text"
      },
      "cell_type": "markdown",
      "source": "Trong phần này, chúng ta dùng công thức sau đây để xếp hạng mọi người \n\n$\nscore = \\frac{\\ln\\overline{s}}{1 + \\sigma}\n$\n\nTrong đó :\n- $score$ là điểm số dùng để xếp hạng.\n- $\\ln(x)$ là logarit tự nhiên.\n- $\\overline{s}$ là điểm trung bình của người chơi.\n- $\\sigma$ là độ lệch chuẩn của dữ liệu.\n\nLưu ý : Công thức này được tạo ra để thực hành."
    },
    {
      "metadata": {
        "id": "oMP84AEcW0Vk",
        "colab_type": "text"
      },
      "cell_type": "markdown",
      "source": "**Câu 11** : Tính $\\ln{\\overline{s}}$ từ cột `avg`.\n\n---\n_Gợi ý_ : dùng `.apply()` và `math.log()` (`import math`)."
    },
    {
      "metadata": {
        "id": "i2rzuGeFWyyS",
        "colab_type": "code",
        "colab": {},
        "trusted": true
      },
      "cell_type": "code",
      "source": "import math\ndef ln(_):\n    return math.log(_)\nlns = dino.avg.apply(ln)\nlns",
      "execution_count": 167,
      "outputs": [
        {
          "output_type": "execute_result",
          "execution_count": 167,
          "data": {
            "text/plain": "0     6.547646\n1     7.146300\n2     6.516785\n3     6.410010\n4     5.790266\n5     5.177279\n6     5.077047\n7     4.598146\n8     6.383000\n9     4.715817\n10    6.339477\n11    4.044804\n12    3.749504\n13    6.352804\n14    4.374498\n15    6.815640\n16    5.781052\n17    7.696031\n18    6.222576\n19    5.523459\nName: avg, dtype: float64"
          },
          "metadata": {}
        }
      ]
    },
    {
      "metadata": {
        "id": "2aT5BozPXgea",
        "colab_type": "text"
      },
      "cell_type": "markdown",
      "source": "**Câu 12** : Tính độ lệch chuẩn trong dữ liệu của từng người."
    },
    {
      "metadata": {
        "id": "tP7GgdsvXqgb",
        "colab_type": "code",
        "colab": {},
        "trusted": true
      },
      "cell_type": "code",
      "source": "o = dino.drop(['avg'], axis = 1).std(axis = 1)\no",
      "execution_count": 171,
      "outputs": [
        {
          "output_type": "execute_result",
          "execution_count": 171,
          "data": {
            "text/plain": "512.1823828121754"
          },
          "metadata": {}
        }
      ]
    },
    {
      "metadata": {
        "id": "Wp-Wt1e1XrML",
        "colab_type": "text"
      },
      "cell_type": "markdown",
      "source": "**Câu 13** : Tạo cột `score` với giá trị được cho bởi công thức trên."
    },
    {
      "metadata": {
        "id": "4HhaK0-nYk2r",
        "colab_type": "code",
        "colab": {},
        "trusted": true
      },
      "cell_type": "code",
      "source": "dino = dino.assign(score = lns/(1 + o))\ndino",
      "execution_count": 169,
      "outputs": [
        {
          "output_type": "execute_result",
          "execution_count": 169,
          "data": {
            "text/plain": "                     name gender    t1    t2    t3    t4    t5    t6    t7  \\\n0           Lê Đình Doanh      M  1673   586   259   764  1859   533   184   \n1        Huỳnh Ngọc Trinh      F   507   615   765   864  2170  1277  2141   \n2            Cao Duy Hiếu      M   925  1548   114   332   108   539    74   \n3      Thuận Thị Thảo Vân      F   308   660  1162  1919  1006   170   206   \n4         Nguyễn Hoài Nam      M    55   521  1327    86    70    44   132   \n5       Nguyễn Thành Luân      M    52    91   113   134    43   186   202   \n6        Vũ Thị Thanh Nga      F    88    85    58   175   124   227   184   \n7          Nguyễn Dĩ Khan      M   100    98   160    76   146    64    97   \n8           Lương Thế Nam      M  1172   706   681   552   950   151   905   \n9   Nguyễn Quốc Đăng Khoa      M    43    51    50   135   171    53    53   \n10        Nguyễn Duy Tuấn      M   561   340    52  2981   235   184   215   \n11         Phan Hoàng Kim      M    41    50    52    30    78    47    83   \n12       Nguyễn Phong Phú      M    42    47    42    42    42    42    42   \n13      Nguyễn Khắc Tưởng      M   776   287  1252   302   598   342   932   \n14         Nguyễn Duy Nam      M    43   121    42   119    59   131    59   \n15      Võ Thị Diễm Quyên      F   870  1025  1168  1086   544   101   846   \n16         Lâm Quang Tĩnh      M    44    70    56  1327   521   738    55   \n17      Nguyễn Hoàng Tuấn      M  3734   310  3284  2862  1526  5137  2471   \n18           Phạm Văn Thọ      M   108   330   273   314   588   321   738   \n19      Phạm Thị Kim Ngân      F    80   142    48   340   388   465   229   \n\n      t8    t9   t10     avg     score  \n0    264   504   350   697.6  0.010911  \n1    975   761  2619  1269.4  0.008765  \n2    999  2060    65   676.4  0.009423  \n3    211   239   198   607.9  0.010929  \n4    254    44   738   327.1  0.013987  \n5    283   286   382   177.2  0.043191  \n6    143   291   228   160.3  0.058651  \n7     59   151    42    99.3  0.091633  \n8    174   301   325   591.7  0.016844  \n9    450    69    42   111.7  0.037502  \n10   351    45   701   566.5  0.007486  \n11   109    50    31    57.1  0.132984  \n12    42    42    42    42.5  0.278426  \n13   731   136   385   574.1  0.016986  \n14   116    52    52    79.4  0.100534  \n15  1786  1120   574   912.0  0.013378  \n16    44   254   132   324.1  0.013910  \n17  1985   362   325  2199.6  0.004594  \n18   234  1310   824   504.0  0.016425  \n19   284    42   487   250.5  0.031055  ",
            "text/html": "<div>\n<table border=\"1\" class=\"dataframe\">\n  <thead>\n    <tr style=\"text-align: right;\">\n      <th></th>\n      <th>name</th>\n      <th>gender</th>\n      <th>t1</th>\n      <th>t2</th>\n      <th>t3</th>\n      <th>t4</th>\n      <th>t5</th>\n      <th>t6</th>\n      <th>t7</th>\n      <th>t8</th>\n      <th>t9</th>\n      <th>t10</th>\n      <th>avg</th>\n      <th>score</th>\n    </tr>\n  </thead>\n  <tbody>\n    <tr>\n      <th>0</th>\n      <td>Lê Đình Doanh</td>\n      <td>M</td>\n      <td>1673</td>\n      <td>586</td>\n      <td>259</td>\n      <td>764</td>\n      <td>1859</td>\n      <td>533</td>\n      <td>184</td>\n      <td>264</td>\n      <td>504</td>\n      <td>350</td>\n      <td>697.6</td>\n      <td>0.010911</td>\n    </tr>\n    <tr>\n      <th>1</th>\n      <td>Huỳnh Ngọc Trinh</td>\n      <td>F</td>\n      <td>507</td>\n      <td>615</td>\n      <td>765</td>\n      <td>864</td>\n      <td>2170</td>\n      <td>1277</td>\n      <td>2141</td>\n      <td>975</td>\n      <td>761</td>\n      <td>2619</td>\n      <td>1269.4</td>\n      <td>0.008765</td>\n    </tr>\n    <tr>\n      <th>2</th>\n      <td>Cao Duy Hiếu</td>\n      <td>M</td>\n      <td>925</td>\n      <td>1548</td>\n      <td>114</td>\n      <td>332</td>\n      <td>108</td>\n      <td>539</td>\n      <td>74</td>\n      <td>999</td>\n      <td>2060</td>\n      <td>65</td>\n      <td>676.4</td>\n      <td>0.009423</td>\n    </tr>\n    <tr>\n      <th>3</th>\n      <td>Thuận Thị Thảo Vân</td>\n      <td>F</td>\n      <td>308</td>\n      <td>660</td>\n      <td>1162</td>\n      <td>1919</td>\n      <td>1006</td>\n      <td>170</td>\n      <td>206</td>\n      <td>211</td>\n      <td>239</td>\n      <td>198</td>\n      <td>607.9</td>\n      <td>0.010929</td>\n    </tr>\n    <tr>\n      <th>4</th>\n      <td>Nguyễn Hoài Nam</td>\n      <td>M</td>\n      <td>55</td>\n      <td>521</td>\n      <td>1327</td>\n      <td>86</td>\n      <td>70</td>\n      <td>44</td>\n      <td>132</td>\n      <td>254</td>\n      <td>44</td>\n      <td>738</td>\n      <td>327.1</td>\n      <td>0.013987</td>\n    </tr>\n    <tr>\n      <th>5</th>\n      <td>Nguyễn Thành Luân</td>\n      <td>M</td>\n      <td>52</td>\n      <td>91</td>\n      <td>113</td>\n      <td>134</td>\n      <td>43</td>\n      <td>186</td>\n      <td>202</td>\n      <td>283</td>\n      <td>286</td>\n      <td>382</td>\n      <td>177.2</td>\n      <td>0.043191</td>\n    </tr>\n    <tr>\n      <th>6</th>\n      <td>Vũ Thị Thanh Nga</td>\n      <td>F</td>\n      <td>88</td>\n      <td>85</td>\n      <td>58</td>\n      <td>175</td>\n      <td>124</td>\n      <td>227</td>\n      <td>184</td>\n      <td>143</td>\n      <td>291</td>\n      <td>228</td>\n      <td>160.3</td>\n      <td>0.058651</td>\n    </tr>\n    <tr>\n      <th>7</th>\n      <td>Nguyễn Dĩ Khan</td>\n      <td>M</td>\n      <td>100</td>\n      <td>98</td>\n      <td>160</td>\n      <td>76</td>\n      <td>146</td>\n      <td>64</td>\n      <td>97</td>\n      <td>59</td>\n      <td>151</td>\n      <td>42</td>\n      <td>99.3</td>\n      <td>0.091633</td>\n    </tr>\n    <tr>\n      <th>8</th>\n      <td>Lương Thế Nam</td>\n      <td>M</td>\n      <td>1172</td>\n      <td>706</td>\n      <td>681</td>\n      <td>552</td>\n      <td>950</td>\n      <td>151</td>\n      <td>905</td>\n      <td>174</td>\n      <td>301</td>\n      <td>325</td>\n      <td>591.7</td>\n      <td>0.016844</td>\n    </tr>\n    <tr>\n      <th>9</th>\n      <td>Nguyễn Quốc Đăng Khoa</td>\n      <td>M</td>\n      <td>43</td>\n      <td>51</td>\n      <td>50</td>\n      <td>135</td>\n      <td>171</td>\n      <td>53</td>\n      <td>53</td>\n      <td>450</td>\n      <td>69</td>\n      <td>42</td>\n      <td>111.7</td>\n      <td>0.037502</td>\n    </tr>\n    <tr>\n      <th>10</th>\n      <td>Nguyễn Duy Tuấn</td>\n      <td>M</td>\n      <td>561</td>\n      <td>340</td>\n      <td>52</td>\n      <td>2981</td>\n      <td>235</td>\n      <td>184</td>\n      <td>215</td>\n      <td>351</td>\n      <td>45</td>\n      <td>701</td>\n      <td>566.5</td>\n      <td>0.007486</td>\n    </tr>\n    <tr>\n      <th>11</th>\n      <td>Phan Hoàng Kim</td>\n      <td>M</td>\n      <td>41</td>\n      <td>50</td>\n      <td>52</td>\n      <td>30</td>\n      <td>78</td>\n      <td>47</td>\n      <td>83</td>\n      <td>109</td>\n      <td>50</td>\n      <td>31</td>\n      <td>57.1</td>\n      <td>0.132984</td>\n    </tr>\n    <tr>\n      <th>12</th>\n      <td>Nguyễn Phong Phú</td>\n      <td>M</td>\n      <td>42</td>\n      <td>47</td>\n      <td>42</td>\n      <td>42</td>\n      <td>42</td>\n      <td>42</td>\n      <td>42</td>\n      <td>42</td>\n      <td>42</td>\n      <td>42</td>\n      <td>42.5</td>\n      <td>0.278426</td>\n    </tr>\n    <tr>\n      <th>13</th>\n      <td>Nguyễn Khắc Tưởng</td>\n      <td>M</td>\n      <td>776</td>\n      <td>287</td>\n      <td>1252</td>\n      <td>302</td>\n      <td>598</td>\n      <td>342</td>\n      <td>932</td>\n      <td>731</td>\n      <td>136</td>\n      <td>385</td>\n      <td>574.1</td>\n      <td>0.016986</td>\n    </tr>\n    <tr>\n      <th>14</th>\n      <td>Nguyễn Duy Nam</td>\n      <td>M</td>\n      <td>43</td>\n      <td>121</td>\n      <td>42</td>\n      <td>119</td>\n      <td>59</td>\n      <td>131</td>\n      <td>59</td>\n      <td>116</td>\n      <td>52</td>\n      <td>52</td>\n      <td>79.4</td>\n      <td>0.100534</td>\n    </tr>\n    <tr>\n      <th>15</th>\n      <td>Võ Thị Diễm Quyên</td>\n      <td>F</td>\n      <td>870</td>\n      <td>1025</td>\n      <td>1168</td>\n      <td>1086</td>\n      <td>544</td>\n      <td>101</td>\n      <td>846</td>\n      <td>1786</td>\n      <td>1120</td>\n      <td>574</td>\n      <td>912.0</td>\n      <td>0.013378</td>\n    </tr>\n    <tr>\n      <th>16</th>\n      <td>Lâm Quang Tĩnh</td>\n      <td>M</td>\n      <td>44</td>\n      <td>70</td>\n      <td>56</td>\n      <td>1327</td>\n      <td>521</td>\n      <td>738</td>\n      <td>55</td>\n      <td>44</td>\n      <td>254</td>\n      <td>132</td>\n      <td>324.1</td>\n      <td>0.013910</td>\n    </tr>\n    <tr>\n      <th>17</th>\n      <td>Nguyễn Hoàng Tuấn</td>\n      <td>M</td>\n      <td>3734</td>\n      <td>310</td>\n      <td>3284</td>\n      <td>2862</td>\n      <td>1526</td>\n      <td>5137</td>\n      <td>2471</td>\n      <td>1985</td>\n      <td>362</td>\n      <td>325</td>\n      <td>2199.6</td>\n      <td>0.004594</td>\n    </tr>\n    <tr>\n      <th>18</th>\n      <td>Phạm Văn Thọ</td>\n      <td>M</td>\n      <td>108</td>\n      <td>330</td>\n      <td>273</td>\n      <td>314</td>\n      <td>588</td>\n      <td>321</td>\n      <td>738</td>\n      <td>234</td>\n      <td>1310</td>\n      <td>824</td>\n      <td>504.0</td>\n      <td>0.016425</td>\n    </tr>\n    <tr>\n      <th>19</th>\n      <td>Phạm Thị Kim Ngân</td>\n      <td>F</td>\n      <td>80</td>\n      <td>142</td>\n      <td>48</td>\n      <td>340</td>\n      <td>388</td>\n      <td>465</td>\n      <td>229</td>\n      <td>284</td>\n      <td>42</td>\n      <td>487</td>\n      <td>250.5</td>\n      <td>0.031055</td>\n    </tr>\n  </tbody>\n</table>\n</div>"
          },
          "metadata": {}
        }
      ]
    },
    {
      "metadata": {
        "id": "tW7tegqhYll5",
        "colab_type": "text"
      },
      "cell_type": "markdown",
      "source": "**Câu 14** : In ra 3 người có `score` lớn nhất."
    },
    {
      "metadata": {
        "id": "XkzZZzZ-YqOV",
        "colab_type": "code",
        "colab": {},
        "trusted": true
      },
      "cell_type": "code",
      "source": "dino.sort_values(by = 'score', ascending = False).head(3)",
      "execution_count": 170,
      "outputs": [
        {
          "output_type": "execute_result",
          "execution_count": 170,
          "data": {
            "text/plain": "                name gender  t1   t2  t3   t4  t5   t6  t7   t8  t9  t10  \\\n12  Nguyễn Phong Phú      M  42   47  42   42  42   42  42   42  42   42   \n11    Phan Hoàng Kim      M  41   50  52   30  78   47  83  109  50   31   \n14    Nguyễn Duy Nam      M  43  121  42  119  59  131  59  116  52   52   \n\n     avg     score  \n12  42.5  0.278426  \n11  57.1  0.132984  \n14  79.4  0.100534  ",
            "text/html": "<div>\n<table border=\"1\" class=\"dataframe\">\n  <thead>\n    <tr style=\"text-align: right;\">\n      <th></th>\n      <th>name</th>\n      <th>gender</th>\n      <th>t1</th>\n      <th>t2</th>\n      <th>t3</th>\n      <th>t4</th>\n      <th>t5</th>\n      <th>t6</th>\n      <th>t7</th>\n      <th>t8</th>\n      <th>t9</th>\n      <th>t10</th>\n      <th>avg</th>\n      <th>score</th>\n    </tr>\n  </thead>\n  <tbody>\n    <tr>\n      <th>12</th>\n      <td>Nguyễn Phong Phú</td>\n      <td>M</td>\n      <td>42</td>\n      <td>47</td>\n      <td>42</td>\n      <td>42</td>\n      <td>42</td>\n      <td>42</td>\n      <td>42</td>\n      <td>42</td>\n      <td>42</td>\n      <td>42</td>\n      <td>42.5</td>\n      <td>0.278426</td>\n    </tr>\n    <tr>\n      <th>11</th>\n      <td>Phan Hoàng Kim</td>\n      <td>M</td>\n      <td>41</td>\n      <td>50</td>\n      <td>52</td>\n      <td>30</td>\n      <td>78</td>\n      <td>47</td>\n      <td>83</td>\n      <td>109</td>\n      <td>50</td>\n      <td>31</td>\n      <td>57.1</td>\n      <td>0.132984</td>\n    </tr>\n    <tr>\n      <th>14</th>\n      <td>Nguyễn Duy Nam</td>\n      <td>M</td>\n      <td>43</td>\n      <td>121</td>\n      <td>42</td>\n      <td>119</td>\n      <td>59</td>\n      <td>131</td>\n      <td>59</td>\n      <td>116</td>\n      <td>52</td>\n      <td>52</td>\n      <td>79.4</td>\n      <td>0.100534</td>\n    </tr>\n  </tbody>\n</table>\n</div>"
          },
          "metadata": {}
        }
      ]
    },
    {
      "metadata": {
        "id": "VvmZqEfoY2vd",
        "colab_type": "text"
      },
      "cell_type": "markdown",
      "source": "**Câu 15 (1 điểm)** : Tạo một `DataFrame` mới với các cột sau :\n- `trial` : gồm các giá trị từ $1, 2, \\cdots, 10$.\n- `name` : tên người chơi đạt điểm cao nhất trong lần chơi tương ứng với `trial`.\n- `score` : điểm số cao nhất.\n\n---\n_Gợi ý_ : tạo `DataFrame` thích hợp với từng lần chơi rồi dùng `pd.concat()`."
    },
    {
      "metadata": {
        "id": "0YyTat2TZnfQ",
        "colab_type": "code",
        "colab": {},
        "trusted": true
      },
      "cell_type": "code",
      "source": "max_S = list(dino.drop(['score', 'avg'], axis = 1).max(numeric_only = True).values)\nmax1 = dino[dino.t1 == dino.t1.max()].name.values[0]\nmax2 = dino[dino.t2 == dino.t2.max()].name.values[0]\nmax3 = dino[dino.t3 == dino.t3.max()].name.values[0]\nmax4 = dino[dino.t4 == dino.t4.max()].name.values[0]\nmax5 = dino[dino.t5 == dino.t5.max()].name.values[0]\nmax6 = dino[dino.t6 == dino.t6.max()].name.values[0]\nmax7 = dino[dino.t7 == dino.t7.max()].name.values[0]\nmax8 = dino[dino.t8 == dino.t8.max()].name.values[0]\nmax9 = dino[dino.t9 == dino.t9.max()].name.values[0]\nmax10 = dino[dino.t10 == dino.t10.max()].name.values[0]\nname = [max1, max2, max3, max4, max5, max6, max7, max8, max9, max10]",
      "execution_count": 243,
      "outputs": []
    },
    {
      "metadata": {
        "trusted": true
      },
      "cell_type": "code",
      "source": "max_score = pd.DataFrame(\n{\n    'trial' : [i for i in range(1, 11)],\n    'score': [i for i in max_S],\n    'name' : [i for i in name]\n})\nmax_score",
      "execution_count": 246,
      "outputs": [
        {
          "output_type": "execute_result",
          "execution_count": 246,
          "data": {
            "text/plain": "                name  score  trial\n0  Nguyễn Hoàng Tuấn   3734      1\n1       Cao Duy Hiếu   1548      2\n2  Nguyễn Hoàng Tuấn   3284      3\n3    Nguyễn Duy Tuấn   2981      4\n4   Huỳnh Ngọc Trinh   2170      5\n5  Nguyễn Hoàng Tuấn   5137      6\n6  Nguyễn Hoàng Tuấn   2471      7\n7  Nguyễn Hoàng Tuấn   1985      8\n8       Cao Duy Hiếu   2060      9\n9   Huỳnh Ngọc Trinh   2619     10",
            "text/html": "<div>\n<table border=\"1\" class=\"dataframe\">\n  <thead>\n    <tr style=\"text-align: right;\">\n      <th></th>\n      <th>name</th>\n      <th>score</th>\n      <th>trial</th>\n    </tr>\n  </thead>\n  <tbody>\n    <tr>\n      <th>0</th>\n      <td>Nguyễn Hoàng Tuấn</td>\n      <td>3734</td>\n      <td>1</td>\n    </tr>\n    <tr>\n      <th>1</th>\n      <td>Cao Duy Hiếu</td>\n      <td>1548</td>\n      <td>2</td>\n    </tr>\n    <tr>\n      <th>2</th>\n      <td>Nguyễn Hoàng Tuấn</td>\n      <td>3284</td>\n      <td>3</td>\n    </tr>\n    <tr>\n      <th>3</th>\n      <td>Nguyễn Duy Tuấn</td>\n      <td>2981</td>\n      <td>4</td>\n    </tr>\n    <tr>\n      <th>4</th>\n      <td>Huỳnh Ngọc Trinh</td>\n      <td>2170</td>\n      <td>5</td>\n    </tr>\n    <tr>\n      <th>5</th>\n      <td>Nguyễn Hoàng Tuấn</td>\n      <td>5137</td>\n      <td>6</td>\n    </tr>\n    <tr>\n      <th>6</th>\n      <td>Nguyễn Hoàng Tuấn</td>\n      <td>2471</td>\n      <td>7</td>\n    </tr>\n    <tr>\n      <th>7</th>\n      <td>Nguyễn Hoàng Tuấn</td>\n      <td>1985</td>\n      <td>8</td>\n    </tr>\n    <tr>\n      <th>8</th>\n      <td>Cao Duy Hiếu</td>\n      <td>2060</td>\n      <td>9</td>\n    </tr>\n    <tr>\n      <th>9</th>\n      <td>Huỳnh Ngọc Trinh</td>\n      <td>2619</td>\n      <td>10</td>\n    </tr>\n  </tbody>\n</table>\n</div>"
          },
          "metadata": {}
        }
      ]
    },
    {
      "metadata": {
        "trusted": true
      },
      "cell_type": "code",
      "source": "",
      "execution_count": null,
      "outputs": []
    }
  ],
  "metadata": {
    "colab": {
      "name": "dinosaur",
      "provenance": [],
      "collapsed_sections": []
    },
    "kernelspec": {
      "name": "python3",
      "display_name": "Python 3",
      "language": "python"
    },
    "language_info": {
      "mimetype": "text/x-python",
      "nbconvert_exporter": "python",
      "name": "python",
      "pygments_lexer": "ipython3",
      "version": "3.5.4",
      "file_extension": ".py",
      "codemirror_mode": {
        "version": 3,
        "name": "ipython"
      }
    }
  },
  "nbformat": 4,
  "nbformat_minor": 1
}