{
 "nbformat": 4,
 "nbformat_minor": 2,
 "metadata": {
  "language_info": {
   "name": "python",
   "codemirror_mode": {
    "name": "ipython",
    "version": 3
   },
   "version": "3.7.3"
  },
  "orig_nbformat": 2,
  "file_extension": ".py",
  "mimetype": "text/x-python",
  "name": "python",
  "npconvert_exporter": "python",
  "pygments_lexer": "ipython3",
  "version": 3
 },
 "cells": [
  {
   "cell_type": "code",
   "execution_count": null,
   "metadata": {},
   "outputs": [],
   "source": [
    "# Nhắc tới thời gian thì thường đề cập 3 dạng:\n",
    "    '''Thời điểm: là một điểm cụ thể trong dòng thời gian. VD 16/01/2020, 11/11/2019,...\n",
    "       Khoảng thời điểm: là một khoảng trong dòng thời gian có điểm đầu cuối xác định. VD: năm 2019, quý 2 năm 2019,...\n",
    "       Khoảng thời gian: chỉ độ dài của một khoảng trong dòng thời gian. VD: 86400 giây, 1 năm 2 tháng 60 giây,...'''\n",
    "# quy ước 2 thời điểm không cộng nhau được nhưng trừ nhau được"
   ]
  },
  {
   "cell_type": "code",
   "execution_count": null,
   "metadata": {},
   "outputs": [],
   "source": [
    "#Library: datetime and dateutil: đi kèm khi cài python, cung cấp nhiều công cụ đề làm việc với thời gian:\n",
    "''' cung cấp 4 Object(đối tượng) đề làm việc với time:\n",
    "        datetime\n",
    "            date\n",
    "            time\n",
    "        timedelta\n",
    "    Chuẩn ISO 8601: (năm, tháng, ngày, giời, phút, giây... đảm bảo tính tăng dàn nếu chuyển về dạng chuổi) VD: '20191031' < '20191101'\n",
    "Từ khoá: datetime: year, month, day, hour, minute, second\n",
    "         timedaelta: years, mounths, days, hours, minutes, seconds\n",
    "\n",
    "ưu điểm: để hiểu, thực hiện\n",
    "nhược điểm: khó tạo ra 1 mảng thời gian (phải dùng for,..)"
   ]
  },
  {
   "cell_type": "code",
   "execution_count": 16,
   "metadata": {},
   "outputs": [
    {
     "data": {
      "text/plain": "datetime.datetime(2019, 11, 18, 1, 14)"
     },
     "execution_count": 16,
     "metadata": {},
     "output_type": "execute_result"
    }
   ],
   "source": [
    "from datetime import datetime as dt\n",
    "#tạo ra thời điểm\n",
    "d1 = dt(year = 2019, month = 11, day = 18, hour = 1, minute = 14)\n",
    "d1"
   ]
  },
  {
   "cell_type": "code",
   "execution_count": 17,
   "metadata": {},
   "outputs": [
    {
     "data": {
      "text/plain": "datetime.datetime(2019, 11, 18, 13, 26, 26, 827314)"
     },
     "execution_count": 17,
     "metadata": {},
     "output_type": "execute_result"
    }
   ],
   "source": [
    "# lấy thời điểm hiện tại. Chính xác thới phần triệu giây\n",
    "d2 = dt.now()\n",
    "d2"
   ]
  },
  {
   "cell_type": "code",
   "execution_count": 13,
   "metadata": {},
   "outputs": [
    {
     "name": "stdout",
     "output_type": "stream",
     "text": "2019-11-20 00:00:00\n"
    }
   ],
   "source": [
    "from dateutil import parser #đọc thời điểm\n",
    "d3 = parser.parse('November, 20th, 2019')\n",
    "print(d3)"
   ]
  },
  {
   "cell_type": "code",
   "execution_count": 14,
   "metadata": {},
   "outputs": [
    {
     "data": {
      "text/plain": "'Monday 18/11/2019'"
     },
     "execution_count": 14,
     "metadata": {},
     "output_type": "execute_result"
    }
   ],
   "source": [
    "d1.strftime('%A') #in ra hôm đó là thứ mấy trong thời điểm\n",
    "d1.strftime('%A %d/%m/%Y') #in ra thứ ngày tháng năm"
   ]
  },
  {
   "cell_type": "code",
   "execution_count": 18,
   "metadata": {},
   "outputs": [],
   "source": [
    "d4 = dt(2019, 12, 12)\n",
    "d5 = dt.now()"
   ]
  },
  {
   "cell_type": "code",
   "execution_count": 19,
   "metadata": {},
   "outputs": [
    {
     "ename": "TypeError",
     "evalue": "unsupported operand type(s) for +: 'datetime.datetime' and 'datetime.datetime'",
     "output_type": "error",
     "traceback": [
      "\u001b[1;31m---------------------------------------------------------------------------\u001b[0m",
      "\u001b[1;31mTypeError\u001b[0m                                 Traceback (most recent call last)",
      "\u001b[1;32m<ipython-input-19-70431f5e08ca>\u001b[0m in \u001b[0;36m<module>\u001b[1;34m\u001b[0m\n\u001b[1;32m----> 1\u001b[1;33m \u001b[0md6\u001b[0m \u001b[1;33m=\u001b[0m \u001b[0md4\u001b[0m \u001b[1;33m+\u001b[0m \u001b[0md5\u001b[0m\u001b[1;33m\u001b[0m\u001b[1;33m\u001b[0m\u001b[0m\n\u001b[0m",
      "\u001b[1;31mTypeError\u001b[0m: unsupported operand type(s) for +: 'datetime.datetime' and 'datetime.datetime'"
     ]
    }
   ],
   "source": [
    "d6 = d4 + d5 #không cộng được"
   ]
  },
  {
   "cell_type": "code",
   "execution_count": 21,
   "metadata": {},
   "outputs": [
    {
     "data": {
      "text/plain": "datetime.timedelta(days=23, seconds=37972, microseconds=50061)"
     },
     "execution_count": 21,
     "metadata": {},
     "output_type": "execute_result"
    }
   ],
   "source": [
    "d7 = d4 - d5 #Trừ được\n",
    "d7"
   ]
  },
  {
   "cell_type": "code",
   "execution_count": 1,
   "metadata": {},
   "outputs": [],
   "source": [
    "import pandas as pd"
   ]
  },
  {
   "cell_type": "code",
   "execution_count": 27,
   "metadata": {},
   "outputs": [
    {
     "data": {
      "text/plain": "DatetimeIndex(['2019-11-19', '2019-11-20', '2019-11-21'], dtype='datetime64[ns]', freq='D')"
     },
     "execution_count": 27,
     "metadata": {},
     "output_type": "execute_result"
    }
   ],
   "source": [
    "ds1 = pd.date_range(start = 'November, 19th, 2019', periods = 3, freq = 'D')\n",
    "#ds1[3] = pd.Timestamp('November, 22th, 2019')\n",
    "ds1"
   ]
  },
  {
   "cell_type": "code",
   "execution_count": 24,
   "metadata": {},
   "outputs": [
    {
     "data": {
      "text/plain": "DatetimeIndex(['2019-11-19', '2019-11-20', '2019-11-21'], dtype='datetime64[ns]', freq='B')"
     },
     "execution_count": 24,
     "metadata": {},
     "output_type": "execute_result"
    }
   ],
   "source": [
    "ds2 = pd.bdate_range(start = 'November, 19th, 2019', periods = 3)\n",
    "ds2"
   ]
  },
  {
   "cell_type": "code",
   "execution_count": 9,
   "metadata": {},
   "outputs": [
    {
     "data": {
      "text/plain": "0    2019-11-19\n1    2019-11-20\n2    2019-11-21\n3    2019-11-22\n4    2019-11-23\n5    2019-11-24\n6    2019-11-25\n7    2019-11-26\n8    2019-11-27\n9    2019-11-28\n10   2019-11-29\n11   2019-11-30\n12   2019-12-01\n13   2019-12-02\n14   2019-12-03\n15   2019-12-04\n16   2019-12-05\n17   2019-12-06\n18   2019-12-07\n19   2019-12-08\ndtype: datetime64[ns]"
     },
     "execution_count": 9,
     "metadata": {},
     "output_type": "execute_result"
    }
   ],
   "source": [
    "ds3 = pd.Series(pd.date_range('November, 19th, 2019', periods = 20))\n",
    "ds3"
   ]
  },
  {
   "cell_type": "code",
   "execution_count": null,
   "metadata": {},
   "outputs": [],
   "source": []
  }
 ]
}