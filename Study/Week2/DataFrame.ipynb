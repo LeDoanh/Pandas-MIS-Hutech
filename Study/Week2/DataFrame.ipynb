{
 "nbformat": 4,
 "nbformat_minor": 2,
 "metadata": {
  "language_info": {
   "name": "python",
   "codemirror_mode": {
    "name": "ipython",
    "version": 3
   },
   "version": "3.7.3"
  },
  "orig_nbformat": 2,
  "file_extension": ".py",
  "mimetype": "text/x-python",
  "name": "python",
  "npconvert_exporter": "python",
  "pygments_lexer": "ipython3",
  "version": 3
 },
 "cells": [
  {
   "cell_type": "code",
   "execution_count": 1,
   "metadata": {},
   "outputs": [],
   "source": [
    "import pandas as pd\n",
    "import numpy as np"
   ]
  },
  {
   "cell_type": "code",
   "execution_count": 37,
   "metadata": {},
   "outputs": [
    {
     "data": {
      "text/html": "<div>\n<style scoped>\n    .dataframe tbody tr th:only-of-type {\n        vertical-align: middle;\n    }\n\n    .dataframe tbody tr th {\n        vertical-align: top;\n    }\n\n    .dataframe thead th {\n        text-align: right;\n    }\n</style>\n<table border=\"1\" class=\"dataframe\">\n  <thead>\n    <tr style=\"text-align: right;\">\n      <th></th>\n      <th>Name</th>\n      <th>Type 1</th>\n      <th>Type 2</th>\n      <th>HP</th>\n      <th>Attack</th>\n      <th>Defense</th>\n      <th>Sp. Atk</th>\n      <th>Sp. Def</th>\n      <th>Speed</th>\n      <th>Generation</th>\n      <th>Legendary</th>\n    </tr>\n    <tr>\n      <th>#</th>\n      <th></th>\n      <th></th>\n      <th></th>\n      <th></th>\n      <th></th>\n      <th></th>\n      <th></th>\n      <th></th>\n      <th></th>\n      <th></th>\n      <th></th>\n    </tr>\n  </thead>\n  <tbody>\n    <tr>\n      <th>1</th>\n      <td>Bulbasaur</td>\n      <td>Grass</td>\n      <td>Poison</td>\n      <td>45</td>\n      <td>49</td>\n      <td>49</td>\n      <td>65</td>\n      <td>65</td>\n      <td>45</td>\n      <td>1</td>\n      <td>False</td>\n    </tr>\n    <tr>\n      <th>2</th>\n      <td>Ivysaur</td>\n      <td>Grass</td>\n      <td>Poison</td>\n      <td>60</td>\n      <td>62</td>\n      <td>63</td>\n      <td>80</td>\n      <td>80</td>\n      <td>60</td>\n      <td>1</td>\n      <td>False</td>\n    </tr>\n    <tr>\n      <th>3</th>\n      <td>Venusaur</td>\n      <td>Grass</td>\n      <td>Poison</td>\n      <td>80</td>\n      <td>82</td>\n      <td>83</td>\n      <td>100</td>\n      <td>100</td>\n      <td>80</td>\n      <td>1</td>\n      <td>False</td>\n    </tr>\n    <tr>\n      <th>3</th>\n      <td>VenusaurMega Venusaur</td>\n      <td>Grass</td>\n      <td>Poison</td>\n      <td>80</td>\n      <td>100</td>\n      <td>123</td>\n      <td>122</td>\n      <td>120</td>\n      <td>80</td>\n      <td>1</td>\n      <td>False</td>\n    </tr>\n    <tr>\n      <th>4</th>\n      <td>Charmander</td>\n      <td>Fire</td>\n      <td>NaN</td>\n      <td>39</td>\n      <td>52</td>\n      <td>43</td>\n      <td>60</td>\n      <td>50</td>\n      <td>65</td>\n      <td>1</td>\n      <td>False</td>\n    </tr>\n    <tr>\n      <th>5</th>\n      <td>Charmeleon</td>\n      <td>Fire</td>\n      <td>NaN</td>\n      <td>58</td>\n      <td>64</td>\n      <td>58</td>\n      <td>80</td>\n      <td>65</td>\n      <td>80</td>\n      <td>1</td>\n      <td>False</td>\n    </tr>\n    <tr>\n      <th>6</th>\n      <td>Charizard</td>\n      <td>Fire</td>\n      <td>Flying</td>\n      <td>78</td>\n      <td>84</td>\n      <td>78</td>\n      <td>109</td>\n      <td>85</td>\n      <td>100</td>\n      <td>1</td>\n      <td>False</td>\n    </tr>\n    <tr>\n      <th>6</th>\n      <td>CharizardMega Charizard X</td>\n      <td>Fire</td>\n      <td>Dragon</td>\n      <td>78</td>\n      <td>130</td>\n      <td>111</td>\n      <td>130</td>\n      <td>85</td>\n      <td>100</td>\n      <td>1</td>\n      <td>False</td>\n    </tr>\n    <tr>\n      <th>6</th>\n      <td>CharizardMega Charizard Y</td>\n      <td>Fire</td>\n      <td>Flying</td>\n      <td>78</td>\n      <td>104</td>\n      <td>78</td>\n      <td>159</td>\n      <td>115</td>\n      <td>100</td>\n      <td>1</td>\n      <td>False</td>\n    </tr>\n    <tr>\n      <th>7</th>\n      <td>Squirtle</td>\n      <td>Water</td>\n      <td>NaN</td>\n      <td>44</td>\n      <td>48</td>\n      <td>65</td>\n      <td>50</td>\n      <td>64</td>\n      <td>43</td>\n      <td>1</td>\n      <td>False</td>\n    </tr>\n  </tbody>\n</table>\n</div>",
      "text/plain": "                        Name Type 1  Type 2  HP  Attack  Defense  Sp. Atk  \\\n#                                                                           \n1                  Bulbasaur  Grass  Poison  45      49       49       65   \n2                    Ivysaur  Grass  Poison  60      62       63       80   \n3                   Venusaur  Grass  Poison  80      82       83      100   \n3      VenusaurMega Venusaur  Grass  Poison  80     100      123      122   \n4                 Charmander   Fire     NaN  39      52       43       60   \n5                 Charmeleon   Fire     NaN  58      64       58       80   \n6                  Charizard   Fire  Flying  78      84       78      109   \n6  CharizardMega Charizard X   Fire  Dragon  78     130      111      130   \n6  CharizardMega Charizard Y   Fire  Flying  78     104       78      159   \n7                   Squirtle  Water     NaN  44      48       65       50   \n\n   Sp. Def  Speed  Generation  Legendary  \n#                                         \n1       65     45           1      False  \n2       80     60           1      False  \n3      100     80           1      False  \n3      120     80           1      False  \n4       50     65           1      False  \n5       65     80           1      False  \n6       85    100           1      False  \n6       85    100           1      False  \n6      115    100           1      False  \n7       64     43           1      False  "
     },
     "execution_count": 37,
     "metadata": {},
     "output_type": "execute_result"
    }
   ],
   "source": [
    "#Data frame: mảng 2 chiều có gắn nhãn(đối tượng chính của môn học)\n",
    "'''\n",
    "Gồm nhiều Series cũng chung label ghép lại với nhau\n",
    "'''\n",
    "pkm = pd.read_csv('Study/Week1/pokemon_data.csv', index_col= 0) \n",
    "pkm.head(10)"
   ]
  },
  {
   "cell_type": "code",
   "execution_count": 38,
   "metadata": {},
   "outputs": [
    {
     "data": {
      "text/html": "<div>\n<style scoped>\n    .dataframe tbody tr th:only-of-type {\n        vertical-align: middle;\n    }\n\n    .dataframe tbody tr th {\n        vertical-align: top;\n    }\n\n    .dataframe thead th {\n        text-align: right;\n    }\n</style>\n<table border=\"1\" class=\"dataframe\">\n  <thead>\n    <tr style=\"text-align: right;\">\n      <th></th>\n      <th>ID</th>\n      <th>Product</th>\n      <th>Price</th>\n    </tr>\n  </thead>\n  <tbody>\n    <tr>\n      <th>0</th>\n      <td>1</td>\n      <td>Apple</td>\n      <td>10</td>\n    </tr>\n    <tr>\n      <th>1</th>\n      <td>2</td>\n      <td>Banana</td>\n      <td>9</td>\n    </tr>\n    <tr>\n      <th>2</th>\n      <td>3</td>\n      <td>Cherry</td>\n      <td>8</td>\n    </tr>\n  </tbody>\n</table>\n</div>",
      "text/plain": "   ID Product  Price\n0   1   Apple     10\n1   2  Banana      9\n2   3  Cherry      8"
     },
     "execution_count": 38,
     "metadata": {},
     "output_type": "execute_result"
    }
   ],
   "source": [
    "pd.DataFrame({'ID' : [1 , 2, 3],'Product' : ['Apple', 'Banana', 'Cherry'], 'Price' : [10, 9, 8]}) #không chỉ ra index vs column tự sinh ra"
   ]
  },
  {
   "cell_type": "code",
   "metadata": {},
   "outputs": [],
   "source": [
    "pd.DataFrame(data, index, columns)"
   ]
  },
  {
   "cell_type": "code",
   "execution_count": 39,
   "metadata": {},
   "outputs": [
    {
     "data": {
      "text/html": "<div>\n<style scoped>\n    .dataframe tbody tr th:only-of-type {\n        vertical-align: middle;\n    }\n\n    .dataframe tbody tr th {\n        vertical-align: top;\n    }\n\n    .dataframe thead th {\n        text-align: right;\n    }\n</style>\n<table border=\"1\" class=\"dataframe\">\n  <thead>\n    <tr style=\"text-align: right;\">\n      <th></th>\n      <th>0</th>\n      <th>1</th>\n    </tr>\n  </thead>\n  <tbody>\n    <tr>\n      <th>0</th>\n      <td>apple</td>\n      <td>10</td>\n    </tr>\n    <tr>\n      <th>1</th>\n      <td>banana</td>\n      <td>25</td>\n    </tr>\n    <tr>\n      <th>2</th>\n      <td>cherry</td>\n      <td>40</td>\n    </tr>\n  </tbody>\n</table>\n</div>",
      "text/plain": "        0   1\n0   apple  10\n1  banana  25\n2  cherry  40"
     },
     "execution_count": 39,
     "metadata": {},
     "output_type": "execute_result"
    }
   ],
   "source": [
    "#list của list\n",
    "ll = [\n",
    "    ['apple', 10],\n",
    "    ['banana', 25],\n",
    "    ['cherry', 40]\n",
    "]\n",
    "pd.DataFrame(ll)"
   ]
  },
  {
   "cell_type": "code",
   "execution_count": 40,
   "metadata": {},
   "outputs": [
    {
     "data": {
      "text/html": "<div>\n<style scoped>\n    .dataframe tbody tr th:only-of-type {\n        vertical-align: middle;\n    }\n\n    .dataframe tbody tr th {\n        vertical-align: top;\n    }\n\n    .dataframe thead th {\n        text-align: right;\n    }\n</style>\n<table border=\"1\" class=\"dataframe\">\n  <thead>\n    <tr style=\"text-align: right;\">\n      <th></th>\n      <th>name</th>\n      <th>price</th>\n    </tr>\n  </thead>\n  <tbody>\n    <tr>\n      <th>a</th>\n      <td>apple</td>\n      <td>10</td>\n    </tr>\n    <tr>\n      <th>b</th>\n      <td>banana</td>\n      <td>25</td>\n    </tr>\n    <tr>\n      <th>c</th>\n      <td>cherry</td>\n      <td>40</td>\n    </tr>\n  </tbody>\n</table>\n</div>",
      "text/plain": "     name  price\na   apple     10\nb  banana     25\nc  cherry     40"
     },
     "execution_count": 40,
     "metadata": {},
     "output_type": "execute_result"
    }
   ],
   "source": [
    "pd.DataFrame(data = ll, index= ['a', 'b' ,'c'], columns= ['name', 'price'])"
   ]
  },
  {
   "cell_type": "code",
   "execution_count": 41,
   "metadata": {},
   "outputs": [
    {
     "data": {
      "text/html": "<div>\n<style scoped>\n    .dataframe tbody tr th:only-of-type {\n        vertical-align: middle;\n    }\n\n    .dataframe tbody tr th {\n        vertical-align: top;\n    }\n\n    .dataframe thead th {\n        text-align: right;\n    }\n</style>\n<table border=\"1\" class=\"dataframe\">\n  <thead>\n    <tr style=\"text-align: right;\">\n      <th></th>\n      <th>0</th>\n      <th>1</th>\n      <th>2</th>\n    </tr>\n  </thead>\n  <tbody>\n    <tr>\n      <th>0</th>\n      <td>apple</td>\n      <td>10</td>\n      <td>5.0</td>\n    </tr>\n    <tr>\n      <th>1</th>\n      <td>banana</td>\n      <td>25</td>\n      <td>NaN</td>\n    </tr>\n    <tr>\n      <th>2</th>\n      <td>cherry</td>\n      <td>40</td>\n      <td>NaN</td>\n    </tr>\n  </tbody>\n</table>\n</div>",
      "text/plain": "        0   1    2\n0   apple  10  5.0\n1  banana  25  NaN\n2  cherry  40  NaN"
     },
     "execution_count": 41,
     "metadata": {},
     "output_type": "execute_result"
    }
   ],
   "source": [
    "ll1 = [\n",
    "    ['apple', 10, 5],\n",
    "    ['banana', 25],\n",
    "    ['cherry', 40]\n",
    "]\n",
    "pd.DataFrame(ll1)"
   ]
  },
  {
   "cell_type": "code",
   "execution_count": 42,
   "metadata": {},
   "outputs": [
    {
     "data": {
      "text/html": "<div>\n<style scoped>\n    .dataframe tbody tr th:only-of-type {\n        vertical-align: middle;\n    }\n\n    .dataframe tbody tr th {\n        vertical-align: top;\n    }\n\n    .dataframe thead th {\n        text-align: right;\n    }\n</style>\n<table border=\"1\" class=\"dataframe\">\n  <thead>\n    <tr style=\"text-align: right;\">\n      <th></th>\n      <th>col1</th>\n      <th>col2</th>\n      <th>col3</th>\n    </tr>\n  </thead>\n  <tbody>\n    <tr>\n      <th>0</th>\n      <td>apple</td>\n      <td>1</td>\n      <td>2019-10-02</td>\n    </tr>\n    <tr>\n      <th>1</th>\n      <td>banana</td>\n      <td>2</td>\n      <td>2019-11-01</td>\n    </tr>\n  </tbody>\n</table>\n</div>",
      "text/plain": "     col1  col2        col3\n0   apple     1  2019-10-02\n1  banana     2  2019-11-01"
     },
     "execution_count": 42,
     "metadata": {},
     "output_type": "execute_result"
    }
   ],
   "source": [
    "#dictionary: \n",
    "'''phải có độ dài phần tử bằng nhau'''\n",
    "d1 = {\n",
    "    'col1' : ['apple', 'banana'],\n",
    "    'col2' : [1, 2],\n",
    "    'col3' : ['2019-10-02', '2019-11-01']\n",
    "}\n",
    "pd.DataFrame(d1)"
   ]
  },
  {
   "cell_type": "code",
   "execution_count": 43,
   "metadata": {},
   "outputs": [
    {
     "ename": "ValueError",
     "evalue": "arrays must all be same length",
     "output_type": "error",
     "traceback": [
      "\u001b[1;31m---------------------------------------------------------------------------\u001b[0m",
      "\u001b[1;31mValueError\u001b[0m                                Traceback (most recent call last)",
      "\u001b[1;32m<ipython-input-43-8f795ad21531>\u001b[0m in \u001b[0;36m<module>\u001b[1;34m\u001b[0m\n\u001b[0;32m      4\u001b[0m     \u001b[1;34m'col3'\u001b[0m \u001b[1;33m:\u001b[0m \u001b[1;33m[\u001b[0m\u001b[1;34m'2019-10-02'\u001b[0m\u001b[1;33m,\u001b[0m \u001b[1;34m'2019-11-01'\u001b[0m\u001b[1;33m]\u001b[0m\u001b[1;33m\u001b[0m\u001b[1;33m\u001b[0m\u001b[0m\n\u001b[0;32m      5\u001b[0m }\n\u001b[1;32m----> 6\u001b[1;33m \u001b[0mpd\u001b[0m\u001b[1;33m.\u001b[0m\u001b[0mDataFrame\u001b[0m\u001b[1;33m(\u001b[0m\u001b[0md2\u001b[0m\u001b[1;33m)\u001b[0m\u001b[1;33m\u001b[0m\u001b[1;33m\u001b[0m\u001b[0m\n\u001b[0m",
      "\u001b[1;32m~\\Anaconda3\\lib\\site-packages\\pandas\\core\\frame.py\u001b[0m in \u001b[0;36m__init__\u001b[1;34m(self, data, index, columns, dtype, copy)\u001b[0m\n\u001b[0;32m    390\u001b[0m                                  dtype=dtype, copy=copy)\n\u001b[0;32m    391\u001b[0m         \u001b[1;32melif\u001b[0m \u001b[0misinstance\u001b[0m\u001b[1;33m(\u001b[0m\u001b[0mdata\u001b[0m\u001b[1;33m,\u001b[0m \u001b[0mdict\u001b[0m\u001b[1;33m)\u001b[0m\u001b[1;33m:\u001b[0m\u001b[1;33m\u001b[0m\u001b[1;33m\u001b[0m\u001b[0m\n\u001b[1;32m--> 392\u001b[1;33m             \u001b[0mmgr\u001b[0m \u001b[1;33m=\u001b[0m \u001b[0minit_dict\u001b[0m\u001b[1;33m(\u001b[0m\u001b[0mdata\u001b[0m\u001b[1;33m,\u001b[0m \u001b[0mindex\u001b[0m\u001b[1;33m,\u001b[0m \u001b[0mcolumns\u001b[0m\u001b[1;33m,\u001b[0m \u001b[0mdtype\u001b[0m\u001b[1;33m=\u001b[0m\u001b[0mdtype\u001b[0m\u001b[1;33m)\u001b[0m\u001b[1;33m\u001b[0m\u001b[1;33m\u001b[0m\u001b[0m\n\u001b[0m\u001b[0;32m    393\u001b[0m         \u001b[1;32melif\u001b[0m \u001b[0misinstance\u001b[0m\u001b[1;33m(\u001b[0m\u001b[0mdata\u001b[0m\u001b[1;33m,\u001b[0m \u001b[0mma\u001b[0m\u001b[1;33m.\u001b[0m\u001b[0mMaskedArray\u001b[0m\u001b[1;33m)\u001b[0m\u001b[1;33m:\u001b[0m\u001b[1;33m\u001b[0m\u001b[1;33m\u001b[0m\u001b[0m\n\u001b[0;32m    394\u001b[0m             \u001b[1;32mimport\u001b[0m \u001b[0mnumpy\u001b[0m\u001b[1;33m.\u001b[0m\u001b[0mma\u001b[0m\u001b[1;33m.\u001b[0m\u001b[0mmrecords\u001b[0m \u001b[1;32mas\u001b[0m \u001b[0mmrecords\u001b[0m\u001b[1;33m\u001b[0m\u001b[1;33m\u001b[0m\u001b[0m\n",
      "\u001b[1;32m~\\Anaconda3\\lib\\site-packages\\pandas\\core\\internals\\construction.py\u001b[0m in \u001b[0;36minit_dict\u001b[1;34m(data, index, columns, dtype)\u001b[0m\n\u001b[0;32m    210\u001b[0m         \u001b[0marrays\u001b[0m \u001b[1;33m=\u001b[0m \u001b[1;33m[\u001b[0m\u001b[0mdata\u001b[0m\u001b[1;33m[\u001b[0m\u001b[0mk\u001b[0m\u001b[1;33m]\u001b[0m \u001b[1;32mfor\u001b[0m \u001b[0mk\u001b[0m \u001b[1;32min\u001b[0m \u001b[0mkeys\u001b[0m\u001b[1;33m]\u001b[0m\u001b[1;33m\u001b[0m\u001b[1;33m\u001b[0m\u001b[0m\n\u001b[0;32m    211\u001b[0m \u001b[1;33m\u001b[0m\u001b[0m\n\u001b[1;32m--> 212\u001b[1;33m     \u001b[1;32mreturn\u001b[0m \u001b[0marrays_to_mgr\u001b[0m\u001b[1;33m(\u001b[0m\u001b[0marrays\u001b[0m\u001b[1;33m,\u001b[0m \u001b[0mdata_names\u001b[0m\u001b[1;33m,\u001b[0m \u001b[0mindex\u001b[0m\u001b[1;33m,\u001b[0m \u001b[0mcolumns\u001b[0m\u001b[1;33m,\u001b[0m \u001b[0mdtype\u001b[0m\u001b[1;33m=\u001b[0m\u001b[0mdtype\u001b[0m\u001b[1;33m)\u001b[0m\u001b[1;33m\u001b[0m\u001b[1;33m\u001b[0m\u001b[0m\n\u001b[0m\u001b[0;32m    213\u001b[0m \u001b[1;33m\u001b[0m\u001b[0m\n\u001b[0;32m    214\u001b[0m \u001b[1;33m\u001b[0m\u001b[0m\n",
      "\u001b[1;32m~\\Anaconda3\\lib\\site-packages\\pandas\\core\\internals\\construction.py\u001b[0m in \u001b[0;36marrays_to_mgr\u001b[1;34m(arrays, arr_names, index, columns, dtype)\u001b[0m\n\u001b[0;32m     49\u001b[0m     \u001b[1;31m# figure out the index, if necessary\u001b[0m\u001b[1;33m\u001b[0m\u001b[1;33m\u001b[0m\u001b[1;33m\u001b[0m\u001b[0m\n\u001b[0;32m     50\u001b[0m     \u001b[1;32mif\u001b[0m \u001b[0mindex\u001b[0m \u001b[1;32mis\u001b[0m \u001b[1;32mNone\u001b[0m\u001b[1;33m:\u001b[0m\u001b[1;33m\u001b[0m\u001b[1;33m\u001b[0m\u001b[0m\n\u001b[1;32m---> 51\u001b[1;33m         \u001b[0mindex\u001b[0m \u001b[1;33m=\u001b[0m \u001b[0mextract_index\u001b[0m\u001b[1;33m(\u001b[0m\u001b[0marrays\u001b[0m\u001b[1;33m)\u001b[0m\u001b[1;33m\u001b[0m\u001b[1;33m\u001b[0m\u001b[0m\n\u001b[0m\u001b[0;32m     52\u001b[0m     \u001b[1;32melse\u001b[0m\u001b[1;33m:\u001b[0m\u001b[1;33m\u001b[0m\u001b[1;33m\u001b[0m\u001b[0m\n\u001b[0;32m     53\u001b[0m         \u001b[0mindex\u001b[0m \u001b[1;33m=\u001b[0m \u001b[0mensure_index\u001b[0m\u001b[1;33m(\u001b[0m\u001b[0mindex\u001b[0m\u001b[1;33m)\u001b[0m\u001b[1;33m\u001b[0m\u001b[1;33m\u001b[0m\u001b[0m\n",
      "\u001b[1;32m~\\Anaconda3\\lib\\site-packages\\pandas\\core\\internals\\construction.py\u001b[0m in \u001b[0;36mextract_index\u001b[1;34m(data)\u001b[0m\n\u001b[0;32m    315\u001b[0m             \u001b[0mlengths\u001b[0m \u001b[1;33m=\u001b[0m \u001b[0mlist\u001b[0m\u001b[1;33m(\u001b[0m\u001b[0mset\u001b[0m\u001b[1;33m(\u001b[0m\u001b[0mraw_lengths\u001b[0m\u001b[1;33m)\u001b[0m\u001b[1;33m)\u001b[0m\u001b[1;33m\u001b[0m\u001b[1;33m\u001b[0m\u001b[0m\n\u001b[0;32m    316\u001b[0m             \u001b[1;32mif\u001b[0m \u001b[0mlen\u001b[0m\u001b[1;33m(\u001b[0m\u001b[0mlengths\u001b[0m\u001b[1;33m)\u001b[0m \u001b[1;33m>\u001b[0m \u001b[1;36m1\u001b[0m\u001b[1;33m:\u001b[0m\u001b[1;33m\u001b[0m\u001b[1;33m\u001b[0m\u001b[0m\n\u001b[1;32m--> 317\u001b[1;33m                 \u001b[1;32mraise\u001b[0m \u001b[0mValueError\u001b[0m\u001b[1;33m(\u001b[0m\u001b[1;34m'arrays must all be same length'\u001b[0m\u001b[1;33m)\u001b[0m\u001b[1;33m\u001b[0m\u001b[1;33m\u001b[0m\u001b[0m\n\u001b[0m\u001b[0;32m    318\u001b[0m \u001b[1;33m\u001b[0m\u001b[0m\n\u001b[0;32m    319\u001b[0m             \u001b[1;32mif\u001b[0m \u001b[0mhave_dicts\u001b[0m\u001b[1;33m:\u001b[0m\u001b[1;33m\u001b[0m\u001b[1;33m\u001b[0m\u001b[0m\n",
      "\u001b[1;31mValueError\u001b[0m: arrays must all be same length"
     ]
    }
   ],
   "source": [
    "d2 = {\n",
    "    'col1' : ['apple', 'banana', 'cherry'],\n",
    "    'col2' : [1, 2],\n",
    "    'col3' : ['2019-10-02', '2019-11-01']\n",
    "}\n",
    "pd.DataFrame(d2)"
   ]
  },
  {
   "cell_type": "code",
   "execution_count": 44,
   "metadata": {},
   "outputs": [
    {
     "data": {
      "text/html": "<div>\n<style scoped>\n    .dataframe tbody tr th:only-of-type {\n        vertical-align: middle;\n    }\n\n    .dataframe tbody tr th {\n        vertical-align: top;\n    }\n\n    .dataframe thead th {\n        text-align: right;\n    }\n</style>\n<table border=\"1\" class=\"dataframe\">\n  <thead>\n    <tr style=\"text-align: right;\">\n      <th></th>\n      <th>Close</th>\n      <th>Ticker</th>\n      <th>date</th>\n    </tr>\n  </thead>\n  <tbody>\n    <tr>\n      <th>0</th>\n      <td>100</td>\n      <td>AAA</td>\n      <td>2019-10-01</td>\n    </tr>\n    <tr>\n      <th>1</th>\n      <td>200</td>\n      <td>BBB</td>\n      <td>2019-10-01</td>\n    </tr>\n  </tbody>\n</table>\n</div>",
      "text/plain": "   Close Ticker        date\n0    100    AAA  2019-10-01\n1    200    BBB  2019-10-01"
     },
     "execution_count": 44,
     "metadata": {},
     "output_type": "execute_result"
    }
   ],
   "source": [
    "#tạo list mà mỗi phần tử là một dictionary\n",
    "ld = [\n",
    "    {'date' : '2019-10-01', 'Ticker' : 'AAA', 'Close' : 100},\n",
    "    {'date' : '2019-10-01', 'Ticker' : 'BBB', 'Close' : 200}\n",
    "]\n",
    "pd.DataFrame(ld)"
   ]
  },
  {
   "cell_type": "code",
   "execution_count": 45,
   "metadata": {},
   "outputs": [
    {
     "data": {
      "text/html": "<div>\n<style scoped>\n    .dataframe tbody tr th:only-of-type {\n        vertical-align: middle;\n    }\n\n    .dataframe tbody tr th {\n        vertical-align: top;\n    }\n\n    .dataframe thead th {\n        text-align: right;\n    }\n</style>\n<table border=\"1\" class=\"dataframe\">\n  <thead>\n    <tr style=\"text-align: right;\">\n      <th></th>\n      <th>Close</th>\n      <th>Ticker</th>\n      <th>date</th>\n      <th>open</th>\n    </tr>\n  </thead>\n  <tbody>\n    <tr>\n      <th>0</th>\n      <td>100</td>\n      <td>AAA</td>\n      <td>2019-10-01</td>\n      <td>NaN</td>\n    </tr>\n    <tr>\n      <th>1</th>\n      <td>200</td>\n      <td>BBB</td>\n      <td>2019-10-01</td>\n      <td>205.0</td>\n    </tr>\n  </tbody>\n</table>\n</div>",
      "text/plain": "   Close Ticker        date   open\n0    100    AAA  2019-10-01    NaN\n1    200    BBB  2019-10-01  205.0"
     },
     "execution_count": 45,
     "metadata": {},
     "output_type": "execute_result"
    }
   ],
   "source": [
    "ld2 = [\n",
    "    {'date' : '2019-10-01', 'Ticker' : 'AAA', 'Close' : 100},\n",
    "    {'date' : '2019-10-01', 'Ticker' : 'BBB', 'open' : 205, 'Close' : 200}\n",
    "]\n",
    "pd.DataFrame(ld2)"
   ]
  },
  {
   "cell_type": "code",
   "execution_count": 46,
   "metadata": {},
   "outputs": [
    {
     "data": {
      "text/plain": "True"
     },
     "execution_count": 46,
     "metadata": {},
     "output_type": "execute_result"
    }
   ],
   "source": [
    "pd.DataFrame(columns= ['a', 'b', 'c']).empty"
   ]
  },
  {
   "cell_type": "code",
   "execution_count": 47,
   "metadata": {},
   "outputs": [
    {
     "data": {
      "text/plain": "True"
     },
     "execution_count": 47,
     "metadata": {},
     "output_type": "execute_result"
    }
   ],
   "source": [
    "pd.DataFrame(index= ['a', 'b', 'c']).empty"
   ]
  },
  {
   "cell_type": "code",
   "execution_count": 48,
   "metadata": {},
   "outputs": [
    {
     "data": {
      "text/plain": "False"
     },
     "execution_count": 48,
     "metadata": {},
     "output_type": "execute_result"
    }
   ],
   "source": [
    "pd.DataFrame(columns= ['a', 'b', 'c'], index= ['a', 'b', 'c']).empty"
   ]
  },
  {
   "cell_type": "code",
   "execution_count": 49,
   "metadata": {},
   "outputs": [
    {
     "data": {
      "text/html": "<div>\n<style scoped>\n    .dataframe tbody tr th:only-of-type {\n        vertical-align: middle;\n    }\n\n    .dataframe tbody tr th {\n        vertical-align: top;\n    }\n\n    .dataframe thead th {\n        text-align: right;\n    }\n</style>\n<table border=\"1\" class=\"dataframe\">\n  <thead>\n    <tr style=\"text-align: right;\">\n      <th></th>\n    </tr>\n  </thead>\n  <tbody>\n  </tbody>\n</table>\n</div>",
      "text/plain": "Empty DataFrame\nColumns: []\nIndex: []"
     },
     "execution_count": 49,
     "metadata": {},
     "output_type": "execute_result"
    }
   ],
   "source": [
    "pd.DataFrame()"
   ]
  },
  {
   "cell_type": "code",
   "execution_count": 24,
   "metadata": {},
   "outputs": [
    {
     "data": {
      "text/html": "<div>\n<style scoped>\n    .dataframe tbody tr th:only-of-type {\n        vertical-align: middle;\n    }\n\n    .dataframe tbody tr th {\n        vertical-align: top;\n    }\n\n    .dataframe thead th {\n        text-align: right;\n    }\n</style>\n<table border=\"1\" class=\"dataframe\">\n  <thead>\n    <tr style=\"text-align: right;\">\n      <th></th>\n      <th>Date</th>\n      <th>Name</th>\n      <th>Số lượng</th>\n    </tr>\n  </thead>\n  <tbody>\n    <tr>\n      <th>a</th>\n      <td>2019-11-20</td>\n      <td>cherry</td>\n      <td>77</td>\n    </tr>\n    <tr>\n      <th>b</th>\n      <td>2019-11-21</td>\n      <td>apple</td>\n      <td>23</td>\n    </tr>\n    <tr>\n      <th>c</th>\n      <td>2019-11-22</td>\n      <td>cherry</td>\n      <td>22</td>\n    </tr>\n    <tr>\n      <th>d</th>\n      <td>2019-11-23</td>\n      <td>banana</td>\n      <td>79</td>\n    </tr>\n    <tr>\n      <th>e</th>\n      <td>2019-11-24</td>\n      <td>apple</td>\n      <td>72</td>\n    </tr>\n    <tr>\n      <th>f</th>\n      <td>2019-11-25</td>\n      <td>banana</td>\n      <td>90</td>\n    </tr>\n    <tr>\n      <th>g</th>\n      <td>2019-11-26</td>\n      <td>cherry</td>\n      <td>45</td>\n    </tr>\n    <tr>\n      <th>h</th>\n      <td>2019-11-27</td>\n      <td>apple</td>\n      <td>78</td>\n    </tr>\n    <tr>\n      <th>i</th>\n      <td>2019-11-28</td>\n      <td>apple</td>\n      <td>21</td>\n    </tr>\n    <tr>\n      <th>j</th>\n      <td>2019-11-29</td>\n      <td>banana</td>\n      <td>92</td>\n    </tr>\n  </tbody>\n</table>\n</div>",
      "text/plain": "        Date    Name  Số lượng\na 2019-11-20  cherry        77\nb 2019-11-21   apple        23\nc 2019-11-22  cherry        22\nd 2019-11-23  banana        79\ne 2019-11-24   apple        72\nf 2019-11-25  banana        90\ng 2019-11-26  cherry        45\nh 2019-11-27   apple        78\ni 2019-11-28   apple        21\nj 2019-11-29  banana        92"
     },
     "execution_count": 24,
     "metadata": {},
     "output_type": "execute_result"
    }
   ],
   "source": [
    "#dataframe mẫu:\n",
    "Dict_ex = {\n",
    "    'Date' : pd.date_range(start = '2019-11-20', periods = 10, freq = 'D'),\n",
    "    'Name' : np.random.choice(['apple', 'banana', 'cherry'], size = 10),\n",
    "    'Số lượng' : np.random.randint(100, size = 10)\n",
    "}\n",
    "DF_ex = pd.DataFrame(Dict_ex, index= list('abcdefghij'))\n",
    "DF_ex"
   ]
  },
  {
   "cell_type": "code",
   "execution_count": 52,
   "metadata": {},
   "outputs": [
    {
     "data": {
      "text/plain": "' \\nMột số thuộc tính cơ bản:\\n.size: trả về số lượng phần tử dataframe\\n.shape: trả về kích thước dataframe cới định dạng(cột, hàng)\\n.ndim trả về số chiều của dataframe. vì dataframe là mảng 2 chiều, nên kết quả trả về luôn là 2\\n.empty: trả về True or False nếu dataframe là rỗng\\n.dtypes: trả về kiểu dữ liệu từng cột\\n.columns: trả về danh sách các cột của dataframe\\n.index: trả về index\\n.axes: kết hợp columns and index: trả về 1 list với dòng trước cột sau\\n'"
     },
     "execution_count": 52,
     "metadata": {},
     "output_type": "execute_result"
    }
   ],
   "source": [
    "''' \n",
    "Một số thuộc tính cơ bản:\n",
    ".size: trả về số lượng phần tử dataframe\n",
    ".shape: trả về kích thước dataframe cới định dạng(cột, hàng)\n",
    ".ndim trả về số chiều của dataframe. vì dataframe là mảng 2 chiều, nên kết quả trả về luôn là 2\n",
    ".empty: trả về True or False nếu dataframe là rỗng\n",
    ".dtypes: trả về kiểu dữ liệu từng cột\n",
    ".columns: trả về danh sách các cột của dataframe\n",
    ".index: trả về index\n",
    ".axes: kết hợp columns and index: trả về 1 list với dòng trước cột sau\n",
    "'''"
   ]
  },
  {
   "cell_type": "code",
   "metadata": {},
   "outputs": [],
   "source": [
    "#đổi tên:\n",
    "method: .rename()\n",
    "<tên_DF>.rename(index = {<tên_dòng_cũ> : <tên_dòng_mới>})"
   ]
  },
  {
   "cell_type": "code",
   "execution_count": 53,
   "metadata": {},
   "outputs": [
    {
     "data": {
      "text/html": "<div>\n<style scoped>\n    .dataframe tbody tr th:only-of-type {\n        vertical-align: middle;\n    }\n\n    .dataframe tbody tr th {\n        vertical-align: top;\n    }\n\n    .dataframe thead th {\n        text-align: right;\n    }\n</style>\n<table border=\"1\" class=\"dataframe\">\n  <thead>\n    <tr style=\"text-align: right;\">\n      <th></th>\n      <th>date</th>\n      <th>col2</th>\n      <th>col3</th>\n    </tr>\n  </thead>\n  <tbody>\n    <tr>\n      <th>a</th>\n      <td>2019-11-20</td>\n      <td>apple</td>\n      <td>89</td>\n    </tr>\n    <tr>\n      <th>b</th>\n      <td>2019-11-21</td>\n      <td>cherry</td>\n      <td>9</td>\n    </tr>\n    <tr>\n      <th>c</th>\n      <td>2019-11-22</td>\n      <td>banana</td>\n      <td>67</td>\n    </tr>\n    <tr>\n      <th>d</th>\n      <td>2019-11-23</td>\n      <td>cherry</td>\n      <td>43</td>\n    </tr>\n    <tr>\n      <th>e</th>\n      <td>2019-11-24</td>\n      <td>banana</td>\n      <td>98</td>\n    </tr>\n    <tr>\n      <th>f</th>\n      <td>2019-11-25</td>\n      <td>cherry</td>\n      <td>47</td>\n    </tr>\n    <tr>\n      <th>g</th>\n      <td>2019-11-26</td>\n      <td>apple</td>\n      <td>50</td>\n    </tr>\n    <tr>\n      <th>h</th>\n      <td>2019-11-27</td>\n      <td>apple</td>\n      <td>65</td>\n    </tr>\n    <tr>\n      <th>i</th>\n      <td>2019-11-28</td>\n      <td>cherry</td>\n      <td>83</td>\n    </tr>\n    <tr>\n      <th>j</th>\n      <td>2019-11-29</td>\n      <td>apple</td>\n      <td>19</td>\n    </tr>\n  </tbody>\n</table>\n</div>",
      "text/plain": "        date    col2  col3\na 2019-11-20   apple    89\nb 2019-11-21  cherry     9\nc 2019-11-22  banana    67\nd 2019-11-23  cherry    43\ne 2019-11-24  banana    98\nf 2019-11-25  cherry    47\ng 2019-11-26   apple    50\nh 2019-11-27   apple    65\ni 2019-11-28  cherry    83\nj 2019-11-29   apple    19"
     },
     "execution_count": 53,
     "metadata": {},
     "output_type": "execute_result"
    }
   ],
   "source": [
    "#Ex đổi col1 thành date\n",
    "DF_ex.rename(columns= {'col1' : 'date'})\n",
    "'''nếu không có inplace = True thì rename sẽ tạo df mới chứ không đối tên trong df cũ'''\n",
    "DF_ex = DF_ex.rename(columns= {'col1' : 'date'})\n",
    "#hoặc\n",
    "DF_ex.rename(columns= {'col1' : 'date'}, inplace = True)"
   ]
  },
  {
   "cell_type": "code",
   "execution_count": null,
   "metadata": {},
   "outputs": [],
   "source": [
    "#đổi tên nhanh hàng loạt\n",
    "<tên_DF>.columns = <Danh_sách_tên_cột_mới>\n",
    "<tên_DF>.index = <Danh_sách_tên_dòng_mới>"
   ]
  },
  {
   "cell_type": "code",
   "execution_count": 56,
   "metadata": {},
   "outputs": [
    {
     "data": {
      "text/html": "<div>\n<style scoped>\n    .dataframe tbody tr th:only-of-type {\n        vertical-align: middle;\n    }\n\n    .dataframe tbody tr th {\n        vertical-align: top;\n    }\n\n    .dataframe thead th {\n        text-align: right;\n    }\n</style>\n<table border=\"1\" class=\"dataframe\">\n  <thead>\n    <tr style=\"text-align: right;\">\n      <th></th>\n      <th>Date</th>\n      <th>Product</th>\n      <th>Quantity</th>\n    </tr>\n  </thead>\n  <tbody>\n    <tr>\n      <th>a</th>\n      <td>2019-11-20</td>\n      <td>apple</td>\n      <td>89</td>\n    </tr>\n    <tr>\n      <th>b</th>\n      <td>2019-11-21</td>\n      <td>cherry</td>\n      <td>9</td>\n    </tr>\n    <tr>\n      <th>c</th>\n      <td>2019-11-22</td>\n      <td>banana</td>\n      <td>67</td>\n    </tr>\n    <tr>\n      <th>d</th>\n      <td>2019-11-23</td>\n      <td>cherry</td>\n      <td>43</td>\n    </tr>\n    <tr>\n      <th>e</th>\n      <td>2019-11-24</td>\n      <td>banana</td>\n      <td>98</td>\n    </tr>\n    <tr>\n      <th>f</th>\n      <td>2019-11-25</td>\n      <td>cherry</td>\n      <td>47</td>\n    </tr>\n    <tr>\n      <th>g</th>\n      <td>2019-11-26</td>\n      <td>apple</td>\n      <td>50</td>\n    </tr>\n    <tr>\n      <th>h</th>\n      <td>2019-11-27</td>\n      <td>apple</td>\n      <td>65</td>\n    </tr>\n    <tr>\n      <th>i</th>\n      <td>2019-11-28</td>\n      <td>cherry</td>\n      <td>83</td>\n    </tr>\n    <tr>\n      <th>j</th>\n      <td>2019-11-29</td>\n      <td>apple</td>\n      <td>19</td>\n    </tr>\n  </tbody>\n</table>\n</div>",
      "text/plain": "        Date Product  Quantity\na 2019-11-20   apple        89\nb 2019-11-21  cherry         9\nc 2019-11-22  banana        67\nd 2019-11-23  cherry        43\ne 2019-11-24  banana        98\nf 2019-11-25  cherry        47\ng 2019-11-26   apple        50\nh 2019-11-27   apple        65\ni 2019-11-28  cherry        83\nj 2019-11-29   apple        19"
     },
     "execution_count": 56,
     "metadata": {},
     "output_type": "execute_result"
    }
   ],
   "source": [
    "DF_ex2 = DF_ex.copy() # nếu không .copy mà gán bằng thì khi đổi ex2 thì ex cũng có thể bị đổi\n",
    "DF_ex2.columns = ['Date', 'Product', 'Quantity']\n",
    "DF_ex2"
   ]
  },
  {
   "cell_type": "code",
   "execution_count": 57,
   "metadata": {},
   "outputs": [
    {
     "data": {
      "text/plain": "a   2019-11-20\nb   2019-11-21\nc   2019-11-22\nd   2019-11-23\ne   2019-11-24\nf   2019-11-25\ng   2019-11-26\nh   2019-11-27\ni   2019-11-28\nj   2019-11-29\nName: col1, dtype: datetime64[ns]"
     },
     "execution_count": 57,
     "metadata": {},
     "output_type": "execute_result"
    }
   ],
   "source": [
    "#Trích xuất dữ liệu theo cột\n",
    "#trích xuất 1 cột\n",
    "DF_ex['col1'] # DF_ex.col1\n"
   ]
  },
  {
   "cell_type": "code",
   "execution_count": 62,
   "metadata": {},
   "outputs": [
    {
     "data": {
      "text/plain": "pandas.core.series.Series"
     },
     "execution_count": 62,
     "metadata": {},
     "output_type": "execute_result"
    }
   ],
   "source": [
    "type(DF_ex['col1'])"
   ]
  },
  {
   "cell_type": "code",
   "execution_count": 63,
   "metadata": {},
   "outputs": [
    {
     "data": {
      "text/html": "<div>\n<style scoped>\n    .dataframe tbody tr th:only-of-type {\n        vertical-align: middle;\n    }\n\n    .dataframe tbody tr th {\n        vertical-align: top;\n    }\n\n    .dataframe thead th {\n        text-align: right;\n    }\n</style>\n<table border=\"1\" class=\"dataframe\">\n  <thead>\n    <tr style=\"text-align: right;\">\n      <th></th>\n      <th>col1</th>\n      <th>col2</th>\n    </tr>\n  </thead>\n  <tbody>\n    <tr>\n      <th>a</th>\n      <td>2019-11-20</td>\n      <td>apple</td>\n    </tr>\n    <tr>\n      <th>b</th>\n      <td>2019-11-21</td>\n      <td>cherry</td>\n    </tr>\n    <tr>\n      <th>c</th>\n      <td>2019-11-22</td>\n      <td>banana</td>\n    </tr>\n    <tr>\n      <th>d</th>\n      <td>2019-11-23</td>\n      <td>cherry</td>\n    </tr>\n    <tr>\n      <th>e</th>\n      <td>2019-11-24</td>\n      <td>banana</td>\n    </tr>\n    <tr>\n      <th>f</th>\n      <td>2019-11-25</td>\n      <td>cherry</td>\n    </tr>\n    <tr>\n      <th>g</th>\n      <td>2019-11-26</td>\n      <td>apple</td>\n    </tr>\n    <tr>\n      <th>h</th>\n      <td>2019-11-27</td>\n      <td>apple</td>\n    </tr>\n    <tr>\n      <th>i</th>\n      <td>2019-11-28</td>\n      <td>cherry</td>\n    </tr>\n    <tr>\n      <th>j</th>\n      <td>2019-11-29</td>\n      <td>apple</td>\n    </tr>\n  </tbody>\n</table>\n</div>",
      "text/plain": "        col1    col2\na 2019-11-20   apple\nb 2019-11-21  cherry\nc 2019-11-22  banana\nd 2019-11-23  cherry\ne 2019-11-24  banana\nf 2019-11-25  cherry\ng 2019-11-26   apple\nh 2019-11-27   apple\ni 2019-11-28  cherry\nj 2019-11-29   apple"
     },
     "execution_count": 63,
     "metadata": {},
     "output_type": "execute_result"
    }
   ],
   "source": [
    "#tích xuất nhiều cột\n",
    "DF_ex[['col1', 'col2']]"
   ]
  },
  {
   "cell_type": "code",
   "execution_count": 65,
   "metadata": {},
   "outputs": [
    {
     "data": {
      "text/plain": "pandas.core.frame.DataFrame"
     },
     "execution_count": 65,
     "metadata": {},
     "output_type": "execute_result"
    }
   ],
   "source": [
    "type(DF_ex[['col1']])"
   ]
  },
  {
   "cell_type": "code",
   "execution_count": 67,
   "metadata": {},
   "outputs": [
    {
     "name": "stdout",
     "output_type": "stream",
     "text": "1\n2\n"
    }
   ],
   "source": [
    "#note:\n",
    "print(DF_ex['col1'].ndim) #Series\n",
    "print(DF_ex[['col1']].ndim) #DataFrame"
   ]
  },
  {
   "cell_type": "code",
   "execution_count": null,
   "metadata": {},
   "outputs": [],
   "source": [
    "#trích xuất dữ liệu theo dòng:\n",
    "DF_ex['a'] #lỗi cách này dùng trích xuất cột nên không thể trích xuất dòng\n",
    "Method: .loc and . iloc\n",
    ".loc[]: lấy dòng theo label\n",
    ".iloc[]: lấy dữ liệu theo số thứ tự bắt đầu từ 0"
   ]
  },
  {
   "cell_type": "code",
   "execution_count": 70,
   "metadata": {},
   "outputs": [
    {
     "data": {
      "text/plain": "col1    2019-11-20 00:00:00\ncol2                  apple\ncol3                     89\nName: a, dtype: object"
     },
     "execution_count": 70,
     "metadata": {},
     "output_type": "execute_result"
    }
   ],
   "source": [
    "#ex:\n",
    "DF_ex.loc['a'] #Series"
   ]
  },
  {
   "cell_type": "code",
   "execution_count": 71,
   "metadata": {},
   "outputs": [
    {
     "data": {
      "text/plain": "col1    2019-11-22 00:00:00\ncol2                 banana\ncol3                     67\nName: c, dtype: object"
     },
     "execution_count": 71,
     "metadata": {},
     "output_type": "execute_result"
    }
   ],
   "source": [
    "DF_ex.iloc[2] #Series"
   ]
  },
  {
   "cell_type": "code",
   "execution_count": 76,
   "metadata": {},
   "outputs": [
    {
     "data": {
      "text/html": "<div>\n<style scoped>\n    .dataframe tbody tr th:only-of-type {\n        vertical-align: middle;\n    }\n\n    .dataframe tbody tr th {\n        vertical-align: top;\n    }\n\n    .dataframe thead th {\n        text-align: right;\n    }\n</style>\n<table border=\"1\" class=\"dataframe\">\n  <thead>\n    <tr style=\"text-align: right;\">\n      <th></th>\n      <th>col1</th>\n      <th>col2</th>\n      <th>col3</th>\n    </tr>\n  </thead>\n  <tbody>\n    <tr>\n      <th>a</th>\n      <td>2019-11-20</td>\n      <td>apple</td>\n      <td>89</td>\n    </tr>\n    <tr>\n      <th>c</th>\n      <td>2019-11-22</td>\n      <td>banana</td>\n      <td>67</td>\n    </tr>\n  </tbody>\n</table>\n</div>",
      "text/plain": "        col1    col2  col3\na 2019-11-20   apple    89\nc 2019-11-22  banana    67"
     },
     "execution_count": 76,
     "metadata": {},
     "output_type": "execute_result"
    }
   ],
   "source": [
    "#trích xuất nhiều dòng:\n",
    "DF_ex.loc[['a', 'c']] #DataFrame"
   ]
  },
  {
   "cell_type": "code",
   "execution_count": 77,
   "metadata": {},
   "outputs": [
    {
     "data": {
      "text/html": "<div>\n<style scoped>\n    .dataframe tbody tr th:only-of-type {\n        vertical-align: middle;\n    }\n\n    .dataframe tbody tr th {\n        vertical-align: top;\n    }\n\n    .dataframe thead th {\n        text-align: right;\n    }\n</style>\n<table border=\"1\" class=\"dataframe\">\n  <thead>\n    <tr style=\"text-align: right;\">\n      <th></th>\n      <th>col1</th>\n      <th>col2</th>\n      <th>col3</th>\n    </tr>\n  </thead>\n  <tbody>\n    <tr>\n      <th>a</th>\n      <td>2019-11-20</td>\n      <td>apple</td>\n      <td>89</td>\n    </tr>\n    <tr>\n      <th>d</th>\n      <td>2019-11-23</td>\n      <td>cherry</td>\n      <td>43</td>\n    </tr>\n    <tr>\n      <th>g</th>\n      <td>2019-11-26</td>\n      <td>apple</td>\n      <td>50</td>\n    </tr>\n    <tr>\n      <th>j</th>\n      <td>2019-11-29</td>\n      <td>apple</td>\n      <td>19</td>\n    </tr>\n  </tbody>\n</table>\n</div>",
      "text/plain": "        col1    col2  col3\na 2019-11-20   apple    89\nd 2019-11-23  cherry    43\ng 2019-11-26   apple    50\nj 2019-11-29   apple    19"
     },
     "execution_count": 77,
     "metadata": {},
     "output_type": "execute_result"
    }
   ],
   "source": [
    "DF_ex.iloc[0: 10 : 3] #DataFrame [vị trí bắt đầu : vị trí kết thúc : step]"
   ]
  },
  {
   "cell_type": "code",
   "execution_count": null,
   "metadata": {},
   "outputs": [],
   "source": [
    "#Trích xuất theo cả dòng lẫn cột\n",
    "method: .loc\n",
    "<tên_df>.loc[<dòng_cần_lấy>, <cột cần lấy>]\n",
    "tương tự .iloc[]"
   ]
  },
  {
   "cell_type": "code",
   "execution_count": 96,
   "metadata": {},
   "outputs": [
    {
     "data": {
      "text/html": "<div>\n<style scoped>\n    .dataframe tbody tr th:only-of-type {\n        vertical-align: middle;\n    }\n\n    .dataframe tbody tr th {\n        vertical-align: top;\n    }\n\n    .dataframe thead th {\n        text-align: right;\n    }\n</style>\n<table border=\"1\" class=\"dataframe\">\n  <thead>\n    <tr style=\"text-align: right;\">\n      <th></th>\n      <th>col2</th>\n      <th>col3</th>\n    </tr>\n  </thead>\n  <tbody>\n    <tr>\n      <th>a</th>\n      <td>apple</td>\n      <td>89</td>\n    </tr>\n    <tr>\n      <th>b</th>\n      <td>cherry</td>\n      <td>9</td>\n    </tr>\n    <tr>\n      <th>c</th>\n      <td>banana</td>\n      <td>67</td>\n    </tr>\n    <tr>\n      <th>d</th>\n      <td>cherry</td>\n      <td>43</td>\n    </tr>\n    <tr>\n      <th>e</th>\n      <td>banana</td>\n      <td>98</td>\n    </tr>\n    <tr>\n      <th>f</th>\n      <td>cherry</td>\n      <td>47</td>\n    </tr>\n    <tr>\n      <th>g</th>\n      <td>apple</td>\n      <td>50</td>\n    </tr>\n    <tr>\n      <th>h</th>\n      <td>apple</td>\n      <td>65</td>\n    </tr>\n    <tr>\n      <th>i</th>\n      <td>cherry</td>\n      <td>83</td>\n    </tr>\n    <tr>\n      <th>j</th>\n      <td>apple</td>\n      <td>19</td>\n    </tr>\n  </tbody>\n</table>\n</div>",
      "text/plain": "     col2  col3\na   apple    89\nb  cherry     9\nc  banana    67\nd  cherry    43\ne  banana    98\nf  cherry    47\ng   apple    50\nh   apple    65\ni  cherry    83\nj   apple    19"
     },
     "execution_count": 96,
     "metadata": {},
     "output_type": "execute_result"
    }
   ],
   "source": [
    "DF_ex.loc[['a', 'c'], ['col2', 'col3']]\n",
    "DF_ex.loc[ :, ['col2', 'col3']]"
   ]
  },
  {
   "cell_type": "code",
   "execution_count": 98,
   "metadata": {},
   "outputs": [
    {
     "data": {
      "text/html": "<div>\n<style scoped>\n    .dataframe tbody tr th:only-of-type {\n        vertical-align: middle;\n    }\n\n    .dataframe tbody tr th {\n        vertical-align: top;\n    }\n\n    .dataframe thead th {\n        text-align: right;\n    }\n</style>\n<table border=\"1\" class=\"dataframe\">\n  <thead>\n    <tr style=\"text-align: right;\">\n      <th></th>\n      <th>col2</th>\n      <th>col3</th>\n    </tr>\n  </thead>\n  <tbody>\n    <tr>\n      <th>a</th>\n      <td>apple</td>\n      <td>89</td>\n    </tr>\n    <tr>\n      <th>b</th>\n      <td>cherry</td>\n      <td>9</td>\n    </tr>\n    <tr>\n      <th>c</th>\n      <td>banana</td>\n      <td>67</td>\n    </tr>\n    <tr>\n      <th>d</th>\n      <td>cherry</td>\n      <td>43</td>\n    </tr>\n    <tr>\n      <th>e</th>\n      <td>banana</td>\n      <td>98</td>\n    </tr>\n    <tr>\n      <th>f</th>\n      <td>cherry</td>\n      <td>47</td>\n    </tr>\n    <tr>\n      <th>g</th>\n      <td>apple</td>\n      <td>50</td>\n    </tr>\n    <tr>\n      <th>h</th>\n      <td>apple</td>\n      <td>65</td>\n    </tr>\n    <tr>\n      <th>i</th>\n      <td>cherry</td>\n      <td>83</td>\n    </tr>\n    <tr>\n      <th>j</th>\n      <td>apple</td>\n      <td>19</td>\n    </tr>\n  </tbody>\n</table>\n</div>",
      "text/plain": "     col2  col3\na   apple    89\nb  cherry     9\nc  banana    67\nd  cherry    43\ne  banana    98\nf  cherry    47\ng   apple    50\nh   apple    65\ni  cherry    83\nj   apple    19"
     },
     "execution_count": 98,
     "metadata": {},
     "output_type": "execute_result"
    }
   ],
   "source": [
    "DF_ex.iloc[[0 , 5], [1, 2]]\n",
    "DF_ex.iloc[ :, [1, 2]]"
   ]
  },
  {
   "cell_type": "code",
   "execution_count": null,
   "metadata": {},
   "outputs": [],
   "source": [
    "trích xuất có điều kiện\n",
    "<tên_df>[điều_kiện]"
   ]
  },
  {
   "cell_type": "code",
   "execution_count": 99,
   "metadata": {},
   "outputs": [
    {
     "data": {
      "text/html": "<div>\n<style scoped>\n    .dataframe tbody tr th:only-of-type {\n        vertical-align: middle;\n    }\n\n    .dataframe tbody tr th {\n        vertical-align: top;\n    }\n\n    .dataframe thead th {\n        text-align: right;\n    }\n</style>\n<table border=\"1\" class=\"dataframe\">\n  <thead>\n    <tr style=\"text-align: right;\">\n      <th></th>\n      <th>col1</th>\n      <th>col2</th>\n      <th>col3</th>\n    </tr>\n  </thead>\n  <tbody>\n    <tr>\n      <th>a</th>\n      <td>2019-11-20</td>\n      <td>apple</td>\n      <td>89</td>\n    </tr>\n    <tr>\n      <th>g</th>\n      <td>2019-11-26</td>\n      <td>apple</td>\n      <td>50</td>\n    </tr>\n    <tr>\n      <th>h</th>\n      <td>2019-11-27</td>\n      <td>apple</td>\n      <td>65</td>\n    </tr>\n    <tr>\n      <th>j</th>\n      <td>2019-11-29</td>\n      <td>apple</td>\n      <td>19</td>\n    </tr>\n  </tbody>\n</table>\n</div>",
      "text/plain": "        col1   col2  col3\na 2019-11-20  apple    89\ng 2019-11-26  apple    50\nh 2019-11-27  apple    65\nj 2019-11-29  apple    19"
     },
     "execution_count": 99,
     "metadata": {},
     "output_type": "execute_result"
    }
   ],
   "source": [
    "DF_ex[DF_ex.col2 == 'apple'] #điều kiện đơn"
   ]
  },
  {
   "cell_type": "code",
   "execution_count": null,
   "metadata": {},
   "outputs": [],
   "source": [
    "#điều kiện kép\n",
    "&: and\n",
    "|: or\n",
    "và điều kiện phải trong ngoặc"
   ]
  },
  {
   "cell_type": "code",
   "execution_count": 100,
   "metadata": {},
   "outputs": [
    {
     "data": {
      "text/html": "<div>\n<style scoped>\n    .dataframe tbody tr th:only-of-type {\n        vertical-align: middle;\n    }\n\n    .dataframe tbody tr th {\n        vertical-align: top;\n    }\n\n    .dataframe thead th {\n        text-align: right;\n    }\n</style>\n<table border=\"1\" class=\"dataframe\">\n  <thead>\n    <tr style=\"text-align: right;\">\n      <th></th>\n      <th>col1</th>\n      <th>col2</th>\n      <th>col3</th>\n    </tr>\n  </thead>\n  <tbody>\n    <tr>\n      <th>a</th>\n      <td>2019-11-20</td>\n      <td>apple</td>\n      <td>89</td>\n    </tr>\n  </tbody>\n</table>\n</div>",
      "text/plain": "        col1   col2  col3\na 2019-11-20  apple    89"
     },
     "execution_count": 100,
     "metadata": {},
     "output_type": "execute_result"
    }
   ],
   "source": [
    "DF_ex[(DF_ex.col2 == 'apple') & ((DF_ex.col1 == '2019-11-20') | (DF_ex.col2 == 'banana'))]"
   ]
  },
  {
   "cell_type": "code",
   "execution_count": 4,
   "metadata": {},
   "outputs": [],
   "source": [
    "df1 = pd.read_csv('Study/Week1/pokemon_data.csv', index_col =0)\n",
    "df1.reset_index(inplace = True)"
   ]
  },
  {
   "cell_type": "code",
   "execution_count": 3,
   "metadata": {},
   "outputs": [
    {
     "data": {
      "text/html": "<div>\n<style scoped>\n    .dataframe tbody tr th:only-of-type {\n        vertical-align: middle;\n    }\n\n    .dataframe tbody tr th {\n        vertical-align: top;\n    }\n\n    .dataframe thead th {\n        text-align: right;\n    }\n</style>\n<table border=\"1\" class=\"dataframe\">\n  <thead>\n    <tr style=\"text-align: right;\">\n      <th></th>\n      <th>0</th>\n      <th>1</th>\n    </tr>\n  </thead>\n  <tbody>\n    <tr>\n      <th>0</th>\n      <td>apple</td>\n      <td>10</td>\n    </tr>\n    <tr>\n      <th>1</th>\n      <td>banana</td>\n      <td>25</td>\n    </tr>\n    <tr>\n      <th>2</th>\n      <td>cherry</td>\n      <td>40</td>\n    </tr>\n  </tbody>\n</table>\n</div>",
      "text/plain": "        0   1\n0   apple  10\n1  banana  25\n2  cherry  40"
     },
     "execution_count": 3,
     "metadata": {},
     "output_type": "execute_result"
    }
   ],
   "source": [
    "#Thay đổi index <dataframe>.index = <index mới>\n",
    "df2 = pd.DataFrame([['apple', 10],\n",
    "    ['banana', 25],\n",
    "    ['cherry', 40]])\n",
    "df2"
   ]
  },
  {
   "cell_type": "code",
   "execution_count": null,
   "metadata": {},
   "outputs": [],
   "source": [
    "#đặt một cột thành index: .set_index()\n",
    "df2.set_index()\n",
    "#đặt lại index: .reset_index()\n",
    "df2.reset_index()\n",
    "#tham số drop báo có giữ lại index cũ hay không nếu False thì tạo index là 1 cột mới giữ index cũ, True xoá index cũ đi thay bằng index mới\n",
    "#sắp xếp lại theo thứ tự index: .sort_index()\n",
    "df1.sort_index(ascending=) #ascending= False sắp xếp giảm dần\n",
    "#biến đổi dataframe bằng .reindex(): Toạ ra df mới có cấu trúc: tên dòng đi theo thứ tự được chỉ ra, tên cột đi theo thứ tự được chỉ ra, giá trị tương ứng trong df gốc nếu không có thì dùng giá trị Null(NaN)"
   ]
  },
  {
   "cell_type": "code",
   "execution_count": 5,
   "metadata": {},
   "outputs": [
    {
     "data": {
      "text/html": "<div>\n<style scoped>\n    .dataframe tbody tr th:only-of-type {\n        vertical-align: middle;\n    }\n\n    .dataframe tbody tr th {\n        vertical-align: top;\n    }\n\n    .dataframe thead th {\n        text-align: right;\n    }\n</style>\n<table border=\"1\" class=\"dataframe\">\n  <thead>\n    <tr style=\"text-align: right;\">\n      <th></th>\n      <th>HP</th>\n      <th>Name</th>\n    </tr>\n  </thead>\n  <tbody>\n    <tr>\n      <th>1</th>\n      <td>60</td>\n      <td>Ivysaur</td>\n    </tr>\n    <tr>\n      <th>2</th>\n      <td>80</td>\n      <td>Venusaur</td>\n    </tr>\n    <tr>\n      <th>3</th>\n      <td>80</td>\n      <td>VenusaurMega Venusaur</td>\n    </tr>\n  </tbody>\n</table>\n</div>",
      "text/plain": "   HP                   Name\n1  60                Ivysaur\n2  80               Venusaur\n3  80  VenusaurMega Venusaur"
     },
     "execution_count": 5,
     "metadata": {},
     "output_type": "execute_result"
    }
   ],
   "source": [
    "df1.reindex(columns= ['HP', 'Name'], index= [1, 2, 3])"
   ]
  },
  {
   "cell_type": "code",
   "execution_count": 8,
   "metadata": {},
   "outputs": [
    {
     "data": {
      "text/html": "<div>\n<style scoped>\n    .dataframe tbody tr th:only-of-type {\n        vertical-align: middle;\n    }\n\n    .dataframe tbody tr th {\n        vertical-align: top;\n    }\n\n    .dataframe thead th {\n        text-align: right;\n    }\n</style>\n<table border=\"1\" class=\"dataframe\">\n  <thead>\n    <tr style=\"text-align: right;\">\n      <th></th>\n    </tr>\n  </thead>\n  <tbody>\n    <tr>\n      <th>a</th>\n    </tr>\n    <tr>\n      <th>b</th>\n    </tr>\n    <tr>\n      <th>c</th>\n    </tr>\n    <tr>\n      <th>d</th>\n    </tr>\n    <tr>\n      <th>e</th>\n    </tr>\n    <tr>\n      <th>f</th>\n    </tr>\n    <tr>\n      <th>g</th>\n    </tr>\n    <tr>\n      <th>h</th>\n    </tr>\n    <tr>\n      <th>i</th>\n    </tr>\n    <tr>\n      <th>j</th>\n    </tr>\n    <tr>\n      <th>0</th>\n    </tr>\n    <tr>\n      <th>1</th>\n    </tr>\n    <tr>\n      <th>2</th>\n    </tr>\n  </tbody>\n</table>\n</div>",
      "text/plain": "Empty DataFrame\nColumns: []\nIndex: [a, b, c, d, e, f, g, h, i, j, 0, 1, 2]"
     },
     "execution_count": 8,
     "metadata": {},
     "output_type": "execute_result"
    }
   ],
   "source": [
    "pd.concat([DF_ex, df2], join = 'inner')"
   ]
  },
  {
   "cell_type": "code",
   "execution_count": 16,
   "metadata": {},
   "outputs": [
    {
     "data": {
      "text/html": "<div>\n<style scoped>\n    .dataframe tbody tr th:only-of-type {\n        vertical-align: middle;\n    }\n\n    .dataframe tbody tr th {\n        vertical-align: top;\n    }\n\n    .dataframe thead th {\n        text-align: right;\n    }\n</style>\n<table border=\"1\" class=\"dataframe\">\n  <thead>\n    <tr style=\"text-align: right;\">\n      <th></th>\n      <th>date</th>\n      <th>Name</th>\n      <th>đã mua</th>\n    </tr>\n  </thead>\n  <tbody>\n    <tr>\n      <th>0</th>\n      <td>2019-10-25</td>\n      <td>apple</td>\n      <td>39</td>\n    </tr>\n    <tr>\n      <th>1</th>\n      <td>2019-10-26</td>\n      <td>banana</td>\n      <td>52</td>\n    </tr>\n    <tr>\n      <th>2</th>\n      <td>2019-10-27</td>\n      <td>cherry</td>\n      <td>17</td>\n    </tr>\n  </tbody>\n</table>\n</div>",
      "text/plain": "         date    Name  đã mua\n0  2019-10-25   apple      39\n1  2019-10-26  banana      52\n2  2019-10-27  cherry      17"
     },
     "execution_count": 16,
     "metadata": {},
     "output_type": "execute_result"
    }
   ],
   "source": [
    "#kết hợp data bằng merge\n",
    "df4 = pd.DataFrame({'date' : ['2019-10-25', '2019-10-26', '2019-10-27'],\n",
    "'Name' : ['apple', 'banana', 'cherry'],\n",
    "'đã mua' : [39, 52, 17]})\n",
    "df4"
   ]
  },
  {
   "cell_type": "code",
   "execution_count": 18,
   "metadata": {},
   "outputs": [
    {
     "data": {
      "text/html": "<div>\n<style scoped>\n    .dataframe tbody tr th:only-of-type {\n        vertical-align: middle;\n    }\n\n    .dataframe tbody tr th {\n        vertical-align: top;\n    }\n\n    .dataframe thead th {\n        text-align: right;\n    }\n</style>\n<table border=\"1\" class=\"dataframe\">\n  <thead>\n    <tr style=\"text-align: right;\">\n      <th></th>\n      <th>Name</th>\n      <th>price</th>\n    </tr>\n  </thead>\n  <tbody>\n    <tr>\n      <th>0</th>\n      <td>apple</td>\n      <td>10</td>\n    </tr>\n    <tr>\n      <th>1</th>\n      <td>banana</td>\n      <td>15</td>\n    </tr>\n    <tr>\n      <th>2</th>\n      <td>cherry</td>\n      <td>20</td>\n    </tr>\n  </tbody>\n</table>\n</div>",
      "text/plain": "     Name  price\n0   apple     10\n1  banana     15\n2  cherry     20"
     },
     "execution_count": 18,
     "metadata": {},
     "output_type": "execute_result"
    }
   ],
   "source": [
    "df5 = pd.DataFrame({'Name' : ['apple', 'banana', 'cherry'],\n",
    "'price' : [10 , 15 , 20]})\n",
    "df5"
   ]
  },
  {
   "cell_type": "code",
   "execution_count": 26,
   "metadata": {},
   "outputs": [
    {
     "data": {
      "text/html": "<div>\n<style scoped>\n    .dataframe tbody tr th:only-of-type {\n        vertical-align: middle;\n    }\n\n    .dataframe tbody tr th {\n        vertical-align: top;\n    }\n\n    .dataframe thead th {\n        text-align: right;\n    }\n</style>\n<table border=\"1\" class=\"dataframe\">\n  <thead>\n    <tr style=\"text-align: right;\">\n      <th></th>\n      <th>Date</th>\n      <th>Name</th>\n      <th>Số lượng</th>\n    </tr>\n  </thead>\n  <tbody>\n    <tr>\n      <th>a</th>\n      <td>2019-11-20</td>\n      <td>cherry</td>\n      <td>77</td>\n    </tr>\n    <tr>\n      <th>b</th>\n      <td>2019-11-21</td>\n      <td>apple</td>\n      <td>23</td>\n    </tr>\n    <tr>\n      <th>c</th>\n      <td>2019-11-22</td>\n      <td>cherry</td>\n      <td>22</td>\n    </tr>\n    <tr>\n      <th>d</th>\n      <td>2019-11-23</td>\n      <td>banana</td>\n      <td>79</td>\n    </tr>\n    <tr>\n      <th>e</th>\n      <td>2019-11-24</td>\n      <td>apple</td>\n      <td>72</td>\n    </tr>\n    <tr>\n      <th>f</th>\n      <td>2019-11-25</td>\n      <td>banana</td>\n      <td>90</td>\n    </tr>\n    <tr>\n      <th>g</th>\n      <td>2019-11-26</td>\n      <td>cherry</td>\n      <td>45</td>\n    </tr>\n    <tr>\n      <th>h</th>\n      <td>2019-11-27</td>\n      <td>apple</td>\n      <td>78</td>\n    </tr>\n    <tr>\n      <th>i</th>\n      <td>2019-11-28</td>\n      <td>apple</td>\n      <td>21</td>\n    </tr>\n    <tr>\n      <th>j</th>\n      <td>2019-11-29</td>\n      <td>banana</td>\n      <td>92</td>\n    </tr>\n  </tbody>\n</table>\n</div>",
      "text/plain": "        Date    Name  Số lượng\na 2019-11-20  cherry        77\nb 2019-11-21   apple        23\nc 2019-11-22  cherry        22\nd 2019-11-23  banana        79\ne 2019-11-24   apple        72\nf 2019-11-25  banana        90\ng 2019-11-26  cherry        45\nh 2019-11-27   apple        78\ni 2019-11-28   apple        21\nj 2019-11-29  banana        92"
     },
     "execution_count": 26,
     "metadata": {},
     "output_type": "execute_result"
    }
   ],
   "source": [
    "DF_ex"
   ]
  },
  {
   "cell_type": "code",
   "execution_count": 29,
   "metadata": {},
   "outputs": [
    {
     "data": {
      "text/html": "<div>\n<style scoped>\n    .dataframe tbody tr th:only-of-type {\n        vertical-align: middle;\n    }\n\n    .dataframe tbody tr th {\n        vertical-align: top;\n    }\n\n    .dataframe thead th {\n        text-align: right;\n    }\n</style>\n<table border=\"1\" class=\"dataframe\">\n  <thead>\n    <tr style=\"text-align: right;\">\n      <th></th>\n      <th>Date</th>\n      <th>Name</th>\n      <th>Số lượng</th>\n      <th>price</th>\n    </tr>\n  </thead>\n  <tbody>\n    <tr>\n      <th>0</th>\n      <td>2019-11-20</td>\n      <td>cherry</td>\n      <td>77</td>\n      <td>20</td>\n    </tr>\n    <tr>\n      <th>1</th>\n      <td>2019-11-22</td>\n      <td>cherry</td>\n      <td>22</td>\n      <td>20</td>\n    </tr>\n    <tr>\n      <th>2</th>\n      <td>2019-11-26</td>\n      <td>cherry</td>\n      <td>45</td>\n      <td>20</td>\n    </tr>\n    <tr>\n      <th>3</th>\n      <td>2019-11-21</td>\n      <td>apple</td>\n      <td>23</td>\n      <td>10</td>\n    </tr>\n    <tr>\n      <th>4</th>\n      <td>2019-11-24</td>\n      <td>apple</td>\n      <td>72</td>\n      <td>10</td>\n    </tr>\n    <tr>\n      <th>5</th>\n      <td>2019-11-27</td>\n      <td>apple</td>\n      <td>78</td>\n      <td>10</td>\n    </tr>\n    <tr>\n      <th>6</th>\n      <td>2019-11-28</td>\n      <td>apple</td>\n      <td>21</td>\n      <td>10</td>\n    </tr>\n    <tr>\n      <th>7</th>\n      <td>2019-11-23</td>\n      <td>banana</td>\n      <td>79</td>\n      <td>15</td>\n    </tr>\n    <tr>\n      <th>8</th>\n      <td>2019-11-25</td>\n      <td>banana</td>\n      <td>90</td>\n      <td>15</td>\n    </tr>\n    <tr>\n      <th>9</th>\n      <td>2019-11-29</td>\n      <td>banana</td>\n      <td>92</td>\n      <td>15</td>\n    </tr>\n  </tbody>\n</table>\n</div>",
      "text/plain": "        Date    Name  Số lượng  price\n0 2019-11-20  cherry        77     20\n1 2019-11-22  cherry        22     20\n2 2019-11-26  cherry        45     20\n3 2019-11-21   apple        23     10\n4 2019-11-24   apple        72     10\n5 2019-11-27   apple        78     10\n6 2019-11-28   apple        21     10\n7 2019-11-23  banana        79     15\n8 2019-11-25  banana        90     15\n9 2019-11-29  banana        92     15"
     },
     "execution_count": 29,
     "metadata": {},
     "output_type": "execute_result"
    }
   ],
   "source": [
    "pd.merge(DF_ex, df5)"
   ]
  },
  {
   "cell_type": "code",
   "execution_count": null,
   "metadata": {},
   "outputs": [],
   "source": []
  }
 ]
}