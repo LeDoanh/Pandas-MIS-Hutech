{
 "nbformat": 4,
 "nbformat_minor": 2,
 "metadata": {
  "language_info": {
   "name": "python",
   "codemirror_mode": {
    "name": "ipython",
    "version": 3
   }
  },
  "orig_nbformat": 2,
  "file_extension": ".py",
  "mimetype": "text/x-python",
  "name": "python",
  "npconvert_exporter": "python",
  "pygments_lexer": "ipython3",
  "version": 3
 },
 "cells": [
  {
   "cell_type": "code",
   "execution_count": null,
   "metadata": {},
   "outputs": [],
   "source": [
    "# Nhắc tới thời gian thì thường đề cập 3 dạng:\n",
    "'''    \n",
    "    Thời điểm: là một điểm cụ thể trong dòng thời gian. VD 16/01/2020, 11/11/2019,...\n",
    "    Khoảng thời điểm: là một khoảng trong dòng thời gian có điểm đầu cuối xác định. VD: năm 2019, quý 2 năm 2019,...\n",
    "    Khoảng thời gian: chỉ độ dài của một khoảng trong dòng thời gian. VD: 86400 giây, 1 năm 2 tháng 60 giây,...\n",
    "'''\n",
    "# quy ước 2 thời điểm không cộng nhau được nhưng trừ nhau được"
   ]
  },
  {
   "cell_type": "code",
   "execution_count": null,
   "metadata": {},
   "outputs": [],
   "source": [
    "#Library: datetime and dateutil: đi kèm khi cài python, cung cấp nhiều công cụ đề làm việc với thời gian:\n",
    "''' \n",
    "    cung cấp 4 Object(đối tượng) đề làm việc với time:\n",
    "        datetime\n",
    "            date\n",
    "            time\n",
    "        timedelta\n",
    "    Chuẩn ISO 8601: (năm, tháng, ngày, giời, phút, giây... đảm bảo tính tăng dàn nếu chuyển về dạng chuổi) VD: '20191031' < '20191101'\n",
    "    Từ khoá: datetime: year, month, day, hour, minute, second\n",
    "             timedaelta: years, mounths, days, hours, minutes, seconds\n",
    "\n",
    "    ưu điểm: để hiểu, thực hiện\n",
    "    nhược điểm: khó tạo ra 1 mảng thời gian (phải dùng for,..)\n",
    "'''"
   ]
  },
  {
   "cell_type": "code",
   "execution_count": 16,
   "metadata": {},
   "outputs": [
    {
     "data": {
      "text/plain": "datetime.datetime(2019, 11, 18, 1, 14)"
     },
     "execution_count": 16,
     "metadata": {},
     "output_type": "execute_result"
    }
   ],
   "source": [
    "from datetime import datetime as dt\n",
    "#tạo ra thời điểm\n",
    "d1 = dt(year = 2019, month = 11, day = 18, hour = 1, minute = 14)\n",
    "d1"
   ]
  },
  {
   "cell_type": "code",
   "execution_count": 17,
   "metadata": {},
   "outputs": [
    {
     "data": {
      "text/plain": "datetime.datetime(2019, 11, 18, 13, 26, 26, 827314)"
     },
     "execution_count": 17,
     "metadata": {},
     "output_type": "execute_result"
    }
   ],
   "source": [
    "# lấy thời điểm hiện tại. Chính xác thới phần triệu giây(micro giây)\n",
    "d2 = dt.now()\n",
    "d2"
   ]
  },
  {
   "cell_type": "code",
   "execution_count": 13,
   "metadata": {},
   "outputs": [
    {
     "name": "stdout",
     "output_type": "stream",
     "text": "2019-11-20 00:00:00\n"
    }
   ],
   "source": [
    "from dateutil import parser #đọc thời điểm\n",
    "d3 = parser.parse('November, 20th, 2019')\n",
    "print(d3)"
   ]
  },
  {
   "cell_type": "code",
   "execution_count": 14,
   "metadata": {},
   "outputs": [
    {
     "data": {
      "text/plain": "'Monday 18/11/2019'"
     },
     "execution_count": 14,
     "metadata": {},
     "output_type": "execute_result"
    }
   ],
   "source": [
    "d1.strftime('%A') #in ra hôm đó là thứ mấy trong thời điểm\n",
    "d1.strftime('%A %d/%m/%Y') #in ra thứ ngày tháng năm"
   ]
  },
  {
   "cell_type": "code",
   "execution_count": 18,
   "metadata": {},
   "outputs": [],
   "source": [
    "d4 = dt(2019, 12, 12)\n",
    "d5 = dt.now()"
   ]
  },
  {
   "cell_type": "code",
   "execution_count": 19,
   "metadata": {},
   "outputs": [
    {
     "ename": "TypeError",
     "evalue": "unsupported operand type(s) for +: 'datetime.datetime' and 'datetime.datetime'",
     "output_type": "error",
     "traceback": [
      "\u001b[1;31m---------------------------------------------------------------------------\u001b[0m",
      "\u001b[1;31mTypeError\u001b[0m                                 Traceback (most recent call last)",
      "\u001b[1;32m<ipython-input-19-70431f5e08ca>\u001b[0m in \u001b[0;36m<module>\u001b[1;34m\u001b[0m\n\u001b[1;32m----> 1\u001b[1;33m \u001b[0md6\u001b[0m \u001b[1;33m=\u001b[0m \u001b[0md4\u001b[0m \u001b[1;33m+\u001b[0m \u001b[0md5\u001b[0m\u001b[1;33m\u001b[0m\u001b[1;33m\u001b[0m\u001b[0m\n\u001b[0m",
      "\u001b[1;31mTypeError\u001b[0m: unsupported operand type(s) for +: 'datetime.datetime' and 'datetime.datetime'"
     ]
    }
   ],
   "source": [
    "d6 = d4 + d5 #không cộng được"
   ]
  },
  {
   "cell_type": "code",
   "execution_count": 21,
   "metadata": {},
   "outputs": [
    {
     "data": {
      "text/plain": "datetime.timedelta(days=23, seconds=37972, microseconds=50061)"
     },
     "execution_count": 21,
     "metadata": {},
     "output_type": "execute_result"
    }
   ],
   "source": [
    "d7 = d4 - d5 #Trừ được\n",
    "d7"
   ]
  },
  {
   "cell_type": "code",
   "execution_count": 37,
   "metadata": {},
   "outputs": [
    {
     "data": {
      "text/plain": "'2019-11-19T00:00:00.000000000'"
     },
     "execution_count": 37,
     "metadata": {},
     "output_type": "execute_result"
    }
   ],
   "source": [
    "# Library numpy. Chuẩn datetime64 độ chính xác cao nhất là 10^-24 giây. Thường dùng là nano giây 10^-9 giây\n",
    "import numpy as np\n",
    "\n",
    "d8 = np.datetime64('2019-11-19', 'ns') # chính xác tới ngày 'D' tới phút 'm' tới tháng 'M' tới nano giây 'ns'\n",
    "str(d8) #ISO 8601"
   ]
  },
  {
   "cell_type": "code",
   "execution_count": 36,
   "metadata": {},
   "outputs": [
    {
     "data": {
      "text/plain": "array(['2019-11-01T00:00:00', '2019-11-01T00:00:01',\n       '2019-11-01T00:00:02', ..., '2019-11-30T23:59:57',\n       '2019-11-30T23:59:58', '2019-11-30T23:59:59'],\n      dtype='datetime64[s]')"
     },
     "execution_count": 36,
     "metadata": {},
     "output_type": "execute_result"
    }
   ],
   "source": [
    "#tạo mảng thời gian\n",
    "da1 = np.array(['2019-11-01', '2019-11-02', '2019-11-03', '2019-11-04'])\n",
    "da2 = np.arange('2019-11', '2019-12', dtype = 'datetime64[s]') #điểm cuối là ngày 01/12 nên chỉ hiển thị tới 30/11\n",
    "da2"
   ]
  },
  {
   "cell_type": "code",
   "execution_count": 39,
   "metadata": {},
   "outputs": [
    {
     "data": {
      "text/plain": "DatetimeIndex(['2019-11-01', '2019-11-02', '2019-11-03', '2019-11-04'], dtype='datetime64[ns]', freq=None)"
     },
     "execution_count": 39,
     "metadata": {},
     "output_type": "execute_result"
    }
   ],
   "source": [
    "#quản lí thời gian pandas kết hợp ưu điểm giữa datetime và numpy.datetime64\n",
    "import pandas as pd\n",
    "d9 = pd.to_datetime(['2019-11-01', '2019-11-02', '2019-11-03', '2019-11-04'])\n",
    "d9"
   ]
  },
  {
   "cell_type": "code",
   "execution_count": 55,
   "metadata": {},
   "outputs": [
    {
     "ename": "TypeError",
     "evalue": "'freq' is an invalid keyword argument for arange()",
     "output_type": "error",
     "traceback": [
      "\u001b[1;31m---------------------------------------------------------------------------\u001b[0m",
      "\u001b[1;31mTypeError\u001b[0m                                 Traceback (most recent call last)",
      "\u001b[1;32m<ipython-input-55-b6f6567fd4d7>\u001b[0m in \u001b[0;36m<module>\u001b[1;34m\u001b[0m\n\u001b[0;32m      1\u001b[0m \u001b[1;31m#freq là bước nhảy\u001b[0m\u001b[1;33m\u001b[0m\u001b[1;33m\u001b[0m\u001b[1;33m\u001b[0m\u001b[0m\n\u001b[1;32m----> 2\u001b[1;33m \u001b[0md10\u001b[0m \u001b[1;33m=\u001b[0m \u001b[0mnp\u001b[0m\u001b[1;33m.\u001b[0m\u001b[0marange\u001b[0m\u001b[1;33m(\u001b[0m\u001b[0mstart\u001b[0m \u001b[1;33m=\u001b[0m \u001b[1;34m'2019-11'\u001b[0m\u001b[1;33m,\u001b[0m \u001b[0mstop\u001b[0m \u001b[1;33m=\u001b[0m \u001b[1;34m'2019-12'\u001b[0m\u001b[1;33m,\u001b[0m\u001b[0mdtype\u001b[0m \u001b[1;33m=\u001b[0m \u001b[1;34m'datetime64[s]'\u001b[0m\u001b[1;33m,\u001b[0m \u001b[0mfreq\u001b[0m \u001b[1;33m=\u001b[0m \u001b[1;34m'D'\u001b[0m\u001b[1;33m)\u001b[0m\u001b[1;33m\u001b[0m\u001b[1;33m\u001b[0m\u001b[0m\n\u001b[0m",
      "\u001b[1;31mTypeError\u001b[0m: 'freq' is an invalid keyword argument for arange()"
     ]
    }
   ],
   "source": [
    "#freq là bước nhảy\n",
    "d10 = np.arange(start = '2019-11', stop = '2019-12', dtype = 'datetime64[s]', freq = 'D')"
   ]
  },
  {
   "cell_type": "code",
   "execution_count": 58,
   "metadata": {},
   "outputs": [
    {
     "ename": "NameError",
     "evalue": "name 'datetime_index' is not defined",
     "output_type": "error",
     "traceback": [
      "\u001b[1;31m---------------------------------------------------------------------------\u001b[0m",
      "\u001b[1;31mNameError\u001b[0m                                 Traceback (most recent call last)",
      "\u001b[1;32m<ipython-input-58-5ed7a4b23dd3>\u001b[0m in \u001b[0;36m<module>\u001b[1;34m\u001b[0m\n\u001b[1;32m----> 1\u001b[1;33m \u001b[0mtime_series\u001b[0m \u001b[1;33m=\u001b[0m \u001b[0mpd\u001b[0m\u001b[1;33m.\u001b[0m\u001b[0mSeries\u001b[0m\u001b[1;33m(\u001b[0m\u001b[0mdata\u001b[0m \u001b[1;33m=\u001b[0m \u001b[1;33m[\u001b[0m\u001b[1;36m1\u001b[0m\u001b[1;33m,\u001b[0m \u001b[1;36m2\u001b[0m\u001b[1;33m]\u001b[0m\u001b[1;33m,\u001b[0m \u001b[0mindex\u001b[0m \u001b[1;33m=\u001b[0m \u001b[0mdatetime_index\u001b[0m\u001b[1;33m)\u001b[0m\u001b[1;33m\u001b[0m\u001b[1;33m\u001b[0m\u001b[0m\n\u001b[0m\u001b[0;32m      2\u001b[0m \u001b[0mtime_series\u001b[0m\u001b[1;33m\u001b[0m\u001b[1;33m\u001b[0m\u001b[0m\n",
      "\u001b[1;31mNameError\u001b[0m: name 'datetime_index' is not defined"
     ]
    }
   ],
   "source": [
    "time_series = pd.Series(data = [1, 2], index = datetime_index)\n",
    "time_series"
   ]
  },
  {
   "cell_type": "code",
   "execution_count": null,
   "metadata": {},
   "outputs": [],
   "source": []
  }
 ]
}