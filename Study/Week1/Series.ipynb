{
 "nbformat": 4,
 "nbformat_minor": 2,
 "metadata": {
  "language_info": {
   "name": "python",
   "codemirror_mode": {
    "name": "ipython",
    "version": 3
   }
  },
  "orig_nbformat": 2,
  "file_extension": ".py",
  "mimetype": "text/x-python",
  "name": "python",
  "npconvert_exporter": "python",
  "pygments_lexer": "ipython3",
  "version": 3
 },
 "cells": [
  {
   "cell_type": "code",
   "execution_count": 3,
   "metadata": {},
   "outputs": [],
   "source": [
    "import numpy as np\n",
    "import pandas as pd"
   ]
  },
  {
   "cell_type": "code",
   "execution_count": 40,
   "metadata": {},
   "outputs": [],
   "source": [
    "a = [i*i for i in range(10)]"
   ]
  },
  {
   "cell_type": "code",
   "execution_count": 41,
   "metadata": {},
   "outputs": [],
   "source": [
    "#Có 3 kiểu dữ liệu trong Pandas"
   ]
  },
  {
   "cell_type": "code",
   "execution_count": 137,
   "metadata": {},
   "outputs": [],
   "source": [
    "#1 Series: mảng một chiều có gắn nhãn\n",
    "b = pd.Series(data = a, index= [ 0, 1, 2, 3, 11, 5, 6, 7, 8, 10], dtype= int)\n",
    "c = pd.Series([1,2,3,4])\n",
    "#data: list, array, dictionary\n",
    "#index: tên cột\n",
    "#dtype: kiểu dữ liệu (không có python tự chọn) gồm có int64, int32, float64, datetime64, object\n",
    "#coppy True or False. Tạo bản coppy"
   ]
  },
  {
   "cell_type": "code",
   "execution_count": 138,
   "metadata": {},
   "outputs": [
    {
     "name": "stdout",
     "output_type": "stream",
     "text": "d = 16\n"
    },
    {
     "data": {
      "text/plain": "1       100\n2         4\n3         9\n5        25\n6        36\n7        49\n8        64\n10       81\nb     10000\ndtype: int64"
     },
     "execution_count": 138,
     "metadata": {},
     "output_type": "execute_result"
    }
   ],
   "source": [
    "b\n",
    "#lấy phần tử theo vị trí [không nên]\n",
    "b[1:4]\n",
    "#lấy phần tử theo label (label là duy nhất không trùng nhau) [thường dùng]\n",
    "b[[ 1, 2, 3 ]]\n",
    "#lấy phần tử theo điều kiện [thường dùng]\n",
    "b[b < 5]\n",
    "\n",
    "b.head()\n",
    "c.head()\n",
    "\n",
    "#cập nhật phần tử\n",
    "b[1] = 100\n",
    "b[0] = 55\n",
    "#thêm phần tử mới\n",
    "b['add'] = 99\n",
    "b['b'] = 10000\n",
    "b\n",
    "#xoá phần tử\n",
    "b.drop('add') #nếu không gán b = b.drop(\"add\") thì không xoá được vì drop tạo ra 1 bản sao không có label 'add' nên nếu không đè lên b lại thì drop không có tác dụng\n",
    "    # có thể test bằng câu id(b) và id(b.drop(\"add\"))\n",
    "b\n",
    "id(b) == id(b.drop(\"add\"))\n",
    "\n",
    "    # Câu đúng\n",
    "b = b.drop(\"add\")\n",
    "b\n",
    "    # Cách khác\n",
    "b.drop([0], inplace = True) # trong []  là label\n",
    "b\n",
    "#method gần như tương đương với drop đó là pop()\n",
    "d = b.pop(11)   #khác trả về giá trị ở label chỉ ra rồi xoá nó ra khỏi Series\n",
    "print('d =',d)\n",
    "b"
   ]
  },
  {
   "cell_type": "code",
   "execution_count": 172,
   "metadata": {},
   "outputs": [
    {
     "data": {
      "text/plain": "a    NaN\nb      1\nc    NaN\nd    NaN\n1     10\ne    NaN\nf    NaN\ng    NaN\nh    NaN\ndtype: object"
     },
     "execution_count": 172,
     "metadata": {},
     "output_type": "execute_result"
    }
   ],
   "source": [
    "#thêm,xoá nhiều phần tử\n",
    "s = pd.Series(index= ['a', 'b', 'c', 'd'])\n",
    "s[1] = 1\n",
    "s['1'] = 10\n",
    "h = s.append(pd.Series(index= ['e', 'f', 'g', 'h'], dtype = object)) #chỉ nhận Series, dataframe, \n",
    "h"
   ]
  },
  {
   "cell_type": "code",
   "execution_count": 156,
   "metadata": {},
   "outputs": [
    {
     "data": {
      "text/plain": "float"
     },
     "execution_count": 156,
     "metadata": {},
     "output_type": "execute_result"
    }
   ],
   "source": [
    "#tạo Series bằng randint\n",
    "\n",
    "# .size kích thước Series\n",
    "# .ndin cho biết chiều dài của Series\n",
    "# .empty kiểm tra Series có rổng hay không\n",
    "# NaN(Not a Number) chỉ dùng cho kiểu dữ liệu số, ám chỉ rổng\n",
    "type(float(\"nan\"))"
   ]
  },
  {
   "cell_type": "code",
   "execution_count": 9,
   "metadata": {},
   "outputs": [],
   "source": [
    "#2 dataframe\n",
    "country = {'English' : 'en', 'Vietnamese' : 'vn', 'French' : 'fr'}"
   ]
  },
  {
   "cell_type": "code",
   "execution_count": null,
   "metadata": {},
   "outputs": [],
   "source": [
    "#3 Panel"
   ]
  }
 ]
}